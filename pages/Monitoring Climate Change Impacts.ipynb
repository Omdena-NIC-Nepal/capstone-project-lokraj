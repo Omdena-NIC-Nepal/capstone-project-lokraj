{
 "cells": [
  {
   "cell_type": "markdown",
   "id": "3554290a",
   "metadata": {},
   "source": [
    "# End-to-End Data Analysis System for Monitoring Climate Change Impacts in Nepal"
   ]
  },
  {
   "cell_type": "code",
   "execution_count": 4,
   "id": "508a3697",
   "metadata": {},
   "outputs": [],
   "source": [
    "import pandas as pd\n",
    "import numpy as np\n",
    "import matplotlib.pyplot as plt\n",
    "import seaborn as sns\n",
    "import geopandas as gpd\n",
    "\n",
    "import warnings\n",
    "warnings.filterwarnings('ignore')\n"
   ]
  },
  {
   "cell_type": "markdown",
   "id": "d361429c",
   "metadata": {},
   "source": [
    "## 1. Load the dataset"
   ]
  },
  {
   "cell_type": "code",
   "execution_count": 16,
   "id": "eddeb07c",
   "metadata": {},
   "outputs": [
    {
     "name": "stdout",
     "output_type": "stream",
     "text": [
      "(29016, 24)\n",
      "Index(['DATE', 'YEAR', 'MONTH', 'DISTRICT', 'LAT', 'LON', 'PRECTOT', 'PS',\n",
      "       'QV2M', 'RH2M', 'T2M', 'T2MWET', 'T2M_MAX', 'T2M_MIN', 'T2M_RANGE',\n",
      "       'TS', 'WS10M', 'WS10M_MAX', 'WS10M_MIN', 'WS10M_RANGE', 'WS50M',\n",
      "       'WS50M_MAX', 'WS50M_MIN', 'WS50M_RANGE'],\n",
      "      dtype='object')\n"
     ]
    },
    {
     "data": {
      "text/html": [
       "<div>\n",
       "<style scoped>\n",
       "    .dataframe tbody tr th:only-of-type {\n",
       "        vertical-align: middle;\n",
       "    }\n",
       "\n",
       "    .dataframe tbody tr th {\n",
       "        vertical-align: top;\n",
       "    }\n",
       "\n",
       "    .dataframe thead th {\n",
       "        text-align: right;\n",
       "    }\n",
       "</style>\n",
       "<table border=\"1\" class=\"dataframe\">\n",
       "  <thead>\n",
       "    <tr style=\"text-align: right;\">\n",
       "      <th></th>\n",
       "      <th>DATE</th>\n",
       "      <th>YEAR</th>\n",
       "      <th>MONTH</th>\n",
       "      <th>DISTRICT</th>\n",
       "      <th>LAT</th>\n",
       "      <th>LON</th>\n",
       "      <th>PRECTOT</th>\n",
       "      <th>PS</th>\n",
       "      <th>QV2M</th>\n",
       "      <th>RH2M</th>\n",
       "      <th>...</th>\n",
       "      <th>T2M_RANGE</th>\n",
       "      <th>TS</th>\n",
       "      <th>WS10M</th>\n",
       "      <th>WS10M_MAX</th>\n",
       "      <th>WS10M_MIN</th>\n",
       "      <th>WS10M_RANGE</th>\n",
       "      <th>WS50M</th>\n",
       "      <th>WS50M_MAX</th>\n",
       "      <th>WS50M_MIN</th>\n",
       "      <th>WS50M_RANGE</th>\n",
       "    </tr>\n",
       "  </thead>\n",
       "  <tbody>\n",
       "    <tr>\n",
       "      <th>0</th>\n",
       "      <td>1981-01-31</td>\n",
       "      <td>1981</td>\n",
       "      <td>1</td>\n",
       "      <td>Arghakhanchi</td>\n",
       "      <td>27.9</td>\n",
       "      <td>83.2</td>\n",
       "      <td>67.31</td>\n",
       "      <td>93.78</td>\n",
       "      <td>5.28</td>\n",
       "      <td>53.09</td>\n",
       "      <td>...</td>\n",
       "      <td>10.03</td>\n",
       "      <td>11.19</td>\n",
       "      <td>2.01</td>\n",
       "      <td>3.39</td>\n",
       "      <td>0.81</td>\n",
       "      <td>2.59</td>\n",
       "      <td>2.70</td>\n",
       "      <td>4.22</td>\n",
       "      <td>1.06</td>\n",
       "      <td>3.16</td>\n",
       "    </tr>\n",
       "    <tr>\n",
       "      <th>1</th>\n",
       "      <td>1981-02-28</td>\n",
       "      <td>1981</td>\n",
       "      <td>2</td>\n",
       "      <td>Arghakhanchi</td>\n",
       "      <td>27.9</td>\n",
       "      <td>83.2</td>\n",
       "      <td>3.37</td>\n",
       "      <td>93.52</td>\n",
       "      <td>5.13</td>\n",
       "      <td>40.88</td>\n",
       "      <td>...</td>\n",
       "      <td>13.08</td>\n",
       "      <td>15.10</td>\n",
       "      <td>2.58</td>\n",
       "      <td>4.88</td>\n",
       "      <td>0.95</td>\n",
       "      <td>3.94</td>\n",
       "      <td>3.51</td>\n",
       "      <td>5.62</td>\n",
       "      <td>1.09</td>\n",
       "      <td>4.53</td>\n",
       "    </tr>\n",
       "    <tr>\n",
       "      <th>2</th>\n",
       "      <td>1981-03-31</td>\n",
       "      <td>1981</td>\n",
       "      <td>3</td>\n",
       "      <td>Arghakhanchi</td>\n",
       "      <td>27.9</td>\n",
       "      <td>83.2</td>\n",
       "      <td>26.02</td>\n",
       "      <td>93.40</td>\n",
       "      <td>5.91</td>\n",
       "      <td>35.84</td>\n",
       "      <td>...</td>\n",
       "      <td>13.52</td>\n",
       "      <td>20.58</td>\n",
       "      <td>2.73</td>\n",
       "      <td>4.67</td>\n",
       "      <td>1.02</td>\n",
       "      <td>3.65</td>\n",
       "      <td>3.73</td>\n",
       "      <td>5.72</td>\n",
       "      <td>1.38</td>\n",
       "      <td>4.34</td>\n",
       "    </tr>\n",
       "    <tr>\n",
       "      <th>3</th>\n",
       "      <td>1981-04-30</td>\n",
       "      <td>1981</td>\n",
       "      <td>4</td>\n",
       "      <td>Arghakhanchi</td>\n",
       "      <td>27.9</td>\n",
       "      <td>83.2</td>\n",
       "      <td>46.15</td>\n",
       "      <td>93.03</td>\n",
       "      <td>6.52</td>\n",
       "      <td>29.81</td>\n",
       "      <td>...</td>\n",
       "      <td>15.03</td>\n",
       "      <td>25.63</td>\n",
       "      <td>2.89</td>\n",
       "      <td>4.78</td>\n",
       "      <td>1.07</td>\n",
       "      <td>3.72</td>\n",
       "      <td>3.82</td>\n",
       "      <td>5.66</td>\n",
       "      <td>1.35</td>\n",
       "      <td>4.31</td>\n",
       "    </tr>\n",
       "    <tr>\n",
       "      <th>4</th>\n",
       "      <td>1981-05-31</td>\n",
       "      <td>1981</td>\n",
       "      <td>5</td>\n",
       "      <td>Arghakhanchi</td>\n",
       "      <td>27.9</td>\n",
       "      <td>83.2</td>\n",
       "      <td>69.45</td>\n",
       "      <td>92.75</td>\n",
       "      <td>9.95</td>\n",
       "      <td>37.25</td>\n",
       "      <td>...</td>\n",
       "      <td>13.43</td>\n",
       "      <td>29.99</td>\n",
       "      <td>2.69</td>\n",
       "      <td>4.40</td>\n",
       "      <td>0.93</td>\n",
       "      <td>3.47</td>\n",
       "      <td>3.52</td>\n",
       "      <td>5.29</td>\n",
       "      <td>1.30</td>\n",
       "      <td>4.00</td>\n",
       "    </tr>\n",
       "  </tbody>\n",
       "</table>\n",
       "<p>5 rows × 24 columns</p>\n",
       "</div>"
      ],
      "text/plain": [
       "         DATE  YEAR  MONTH      DISTRICT   LAT   LON  PRECTOT     PS  QV2M  \\\n",
       "0  1981-01-31  1981      1  Arghakhanchi  27.9  83.2    67.31  93.78  5.28   \n",
       "1  1981-02-28  1981      2  Arghakhanchi  27.9  83.2     3.37  93.52  5.13   \n",
       "2  1981-03-31  1981      3  Arghakhanchi  27.9  83.2    26.02  93.40  5.91   \n",
       "3  1981-04-30  1981      4  Arghakhanchi  27.9  83.2    46.15  93.03  6.52   \n",
       "4  1981-05-31  1981      5  Arghakhanchi  27.9  83.2    69.45  92.75  9.95   \n",
       "\n",
       "    RH2M  ...  T2M_RANGE     TS  WS10M  WS10M_MAX  WS10M_MIN  WS10M_RANGE  \\\n",
       "0  53.09  ...      10.03  11.19   2.01       3.39       0.81         2.59   \n",
       "1  40.88  ...      13.08  15.10   2.58       4.88       0.95         3.94   \n",
       "2  35.84  ...      13.52  20.58   2.73       4.67       1.02         3.65   \n",
       "3  29.81  ...      15.03  25.63   2.89       4.78       1.07         3.72   \n",
       "4  37.25  ...      13.43  29.99   2.69       4.40       0.93         3.47   \n",
       "\n",
       "   WS50M  WS50M_MAX  WS50M_MIN  WS50M_RANGE  \n",
       "0   2.70       4.22       1.06         3.16  \n",
       "1   3.51       5.62       1.09         4.53  \n",
       "2   3.73       5.72       1.38         4.34  \n",
       "3   3.82       5.66       1.35         4.31  \n",
       "4   3.52       5.29       1.30         4.00  \n",
       "\n",
       "[5 rows x 24 columns]"
      ]
     },
     "execution_count": 16,
     "metadata": {},
     "output_type": "execute_result"
    }
   ],
   "source": [
    "\n",
    "\n",
    "df = pd.read_csv('../data/Weather_&_Climate/district_wise/climate_data_nepal_district_wise_monthly.csv')\n",
    "\n",
    "print(df.shape)\n",
    "print(df.columns)\n",
    "df.head()\n"
   ]
  },
  {
   "cell_type": "markdown",
   "id": "fd2d363c",
   "metadata": {},
   "source": [
    "## 2. Initial Data Cleaning"
   ]
  },
  {
   "cell_type": "code",
   "execution_count": 18,
   "id": "d2ace841",
   "metadata": {},
   "outputs": [
    {
     "name": "stdout",
     "output_type": "stream",
     "text": [
      "date           0.0\n",
      "year           0.0\n",
      "month          0.0\n",
      "district       0.0\n",
      "lat            0.0\n",
      "lon            0.0\n",
      "prectot        0.0\n",
      "ps             0.0\n",
      "qv2m           0.0\n",
      "rh2m           0.0\n",
      "t2m            0.0\n",
      "t2mwet         0.0\n",
      "t2m_max        0.0\n",
      "t2m_min        0.0\n",
      "t2m_range      0.0\n",
      "ts             0.0\n",
      "ws10m          0.0\n",
      "ws10m_max      0.0\n",
      "ws10m_min      0.0\n",
      "ws10m_range    0.0\n",
      "ws50m          0.0\n",
      "ws50m_max      0.0\n",
      "ws50m_min      0.0\n",
      "ws50m_range    0.0\n",
      "dtype: float64\n"
     ]
    },
    {
     "data": {
      "image/png": "[encoded data removed]",
      "text/plain": [
       "<Figure size 1000x600 with 1 Axes>"
      ]
     },
     "metadata": {},
     "output_type": "display_data"
    }
   ],
   "source": [
    "\n",
    "# Standardize column names\n",
    "df.columns = df.columns.str.strip().str.lower()\n",
    "\n",
    "# Drop duplicates\n",
    "df = df.drop_duplicates()\n",
    "\n",
    "# Check missingness\n",
    "missing = df.isnull().mean().sort_values(ascending=False)\n",
    "print(missing)\n",
    "\n",
    "# Quick visual check\n",
    "plt.figure(figsize=(10,6))\n",
    "sns.heatmap(df.isnull(), cbar=False)\n",
    "plt.title(\"Missing Data Heatmap\")\n",
    "plt.show()\n"
   ]
  },
  {
   "cell_type": "markdown",
   "id": "97d6da9e",
   "metadata": {},
   "source": [
    "## 3. Impute Missing Values"
   ]
  },
  {
   "cell_type": "code",
   "execution_count": 20,
   "id": "aa453e76",
   "metadata": {},
   "outputs": [],
   "source": [
    "def impute_columns(df, exclude_cols=['district', 'date', 'lat', 'lon']):\n",
    "    df_copy = df.copy()\n",
    "\n",
    "    # Ensure 'date' is datetime\n",
    "    df_copy['date'] = pd.to_datetime(df_copy['date'], errors='coerce')\n",
    "\n",
    "    climate_cols = [col for col in df.columns if col not in exclude_cols]\n",
    "\n",
    "    for col in climate_cols:\n",
    "        # Interpolate missing values linearly\n",
    "        df_copy[col] = df_copy[col].interpolate(method='linear', limit_direction='both')\n",
    "        \n",
    "        # Fill remaining missing with monthly mean\n",
    "        df_copy['month'] = df_copy['date'].dt.month\n",
    "        monthly_avg = df_copy.groupby('month')[col].transform('mean')\n",
    "        df_copy[col] = df_copy[col].fillna(monthly_avg)\n",
    "\n",
    "    df_copy = df_copy.drop(columns='month')\n",
    "    return df_copy\n"
   ]
  },
  {
   "cell_type": "markdown",
   "id": "c8eb72ae",
   "metadata": {},
   "source": [
    "## 4. Add Georeferencing"
   ]
  },
  {
   "cell_type": "code",
   "execution_count": 22,
   "id": "a54a60d0",
   "metadata": {},
   "outputs": [],
   "source": [
    "\n",
    "if 'lat' not in df.columns or 'lon' not in df.columns:\n",
    "    np.random.seed(42)\n",
    "    df['lat'] = np.random.uniform(26.3, 30.4, size=len(df))\n",
    "    df['lon'] = np.random.uniform(80.0, 88.2, size=len(df))\n"
   ]
  },
  {
   "cell_type": "markdown",
   "id": "4e43ea9e",
   "metadata": {},
   "source": [
    "## 5. Final Validation Checks"
   ]
  },
  {
   "cell_type": "code",
   "execution_count": 23,
   "id": "bcb9d68e",
   "metadata": {},
   "outputs": [
    {
     "name": "stdout",
     "output_type": "stream",
     "text": [
      " All validation checks passed!\n"
     ]
    }
   ],
   "source": [
    "# Validation checks\n",
    "assert df['date'].isnull().sum() == 0, \"Missing dates\"\n",
    "assert df.duplicated().sum() == 0, \"Duplicate records\"\n",
    "assert df['lat'].between(26.3, 30.4).all(), \"Latitude out of Nepal bounds\"\n",
    "assert df['lon'].between(80.0, 88.2).all(), \"Longitude out of Nepal bounds\"\n",
    "\n",
    "print(\" All validation checks passed!\")\n"
   ]
  },
  {
   "cell_type": "markdown",
   "id": "2af5642b",
   "metadata": {},
   "source": [
    "## 6. Save Processed Data"
   ]
  },
  {
   "cell_type": "code",
   "execution_count": 24,
   "id": "e270d28e",
   "metadata": {},
   "outputs": [
    {
     "name": "stdout",
     "output_type": "stream",
     "text": [
      "Processed file saved successfully!\n"
     ]
    }
   ],
   "source": [
    "# Save processed clean file\n",
    "df.to_csv('../data/Weather_&_Climate/district_wise/processed_climate_data_nepal.csv', index=False)\n",
    "\n",
    "print(\"Processed file saved successfully!\")\n"
   ]
  },
  {
   "cell_type": "code",
   "execution_count": null,
   "id": "98950145",
   "metadata": {},
   "outputs": [],
   "source": []
  }
 ],
 "metadata": {
  "kernelspec": {
   "display_name": "Python 3",
   "language": "python",
   "name": "python3"
  },
  "language_info": {
   "codemirror_mode": {
    "name": "ipython",
    "version": 3
   },
   "file_extension": ".py",
   "mimetype": "text/x-python",
   "name": "python",
   "nbconvert_exporter": "python",
   "pygments_lexer": "ipython3",
   "version": "3.10.13"
  }
 },
 "nbformat": 4,
 "nbformat_minor": 5
}
