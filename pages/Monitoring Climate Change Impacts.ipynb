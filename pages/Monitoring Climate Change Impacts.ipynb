{
 "cells": [
  {
   "cell_type": "markdown",
   "id": "3554290a",
   "metadata": {},
   "source": [
    "# End-to-End Data Analysis System for Monitoring Climate Change Impacts in Nepal"
   ]
  },
  {
   "cell_type": "code",
   "execution_count": 47,
   "id": "508a3697",
   "metadata": {},
   "outputs": [],
   "source": [
    "import pandas as pd\n",
    "import numpy as np\n",
    "import matplotlib.pyplot as plt\n",
    "import seaborn as sns\n",
    "import geopandas as gpd\n",
    "\n",
    "import warnings\n",
    "warnings.filterwarnings('ignore')\n"
   ]
  },
  {
   "cell_type": "markdown",
   "id": "d361429c",
   "metadata": {},
   "source": [
    "## 1. Load the dataset"
   ]
  },
  {
   "cell_type": "code",
   "execution_count": 48,
   "id": "eddeb07c",
   "metadata": {},
   "outputs": [
    {
     "name": "stdout",
     "output_type": "stream",
     "text": [
      "(29016, 24)\n",
      "Index(['DATE', 'YEAR', 'MONTH', 'DISTRICT', 'LAT', 'LON', 'PRECTOT', 'PS',\n",
      "       'QV2M', 'RH2M', 'T2M', 'T2MWET', 'T2M_MAX', 'T2M_MIN', 'T2M_RANGE',\n",
      "       'TS', 'WS10M', 'WS10M_MAX', 'WS10M_MIN', 'WS10M_RANGE', 'WS50M',\n",
      "       'WS50M_MAX', 'WS50M_MIN', 'WS50M_RANGE'],\n",
      "      dtype='object')\n"
     ]
    },
    {
     "data": {
      "text/html": [
       "<div>\n",
       "<style scoped>\n",
       "    .dataframe tbody tr th:only-of-type {\n",
       "        vertical-align: middle;\n",
       "    }\n",
       "\n",
       "    .dataframe tbody tr th {\n",
       "        vertical-align: top;\n",
       "    }\n",
       "\n",
       "    .dataframe thead th {\n",
       "        text-align: right;\n",
       "    }\n",
       "</style>\n",
       "<table border=\"1\" class=\"dataframe\">\n",
       "  <thead>\n",
       "    <tr style=\"text-align: right;\">\n",
       "      <th></th>\n",
       "      <th>DATE</th>\n",
       "      <th>YEAR</th>\n",
       "      <th>MONTH</th>\n",
       "      <th>DISTRICT</th>\n",
       "      <th>LAT</th>\n",
       "      <th>LON</th>\n",
       "      <th>PRECTOT</th>\n",
       "      <th>PS</th>\n",
       "      <th>QV2M</th>\n",
       "      <th>RH2M</th>\n",
       "      <th>...</th>\n",
       "      <th>T2M_RANGE</th>\n",
       "      <th>TS</th>\n",
       "      <th>WS10M</th>\n",
       "      <th>WS10M_MAX</th>\n",
       "      <th>WS10M_MIN</th>\n",
       "      <th>WS10M_RANGE</th>\n",
       "      <th>WS50M</th>\n",
       "      <th>WS50M_MAX</th>\n",
       "      <th>WS50M_MIN</th>\n",
       "      <th>WS50M_RANGE</th>\n",
       "    </tr>\n",
       "  </thead>\n",
       "  <tbody>\n",
       "    <tr>\n",
       "      <th>0</th>\n",
       "      <td>1981-01-31</td>\n",
       "      <td>1981</td>\n",
       "      <td>1</td>\n",
       "      <td>Arghakhanchi</td>\n",
       "      <td>27.9</td>\n",
       "      <td>83.2</td>\n",
       "      <td>67.31</td>\n",
       "      <td>93.78</td>\n",
       "      <td>5.28</td>\n",
       "      <td>53.09</td>\n",
       "      <td>...</td>\n",
       "      <td>10.03</td>\n",
       "      <td>11.19</td>\n",
       "      <td>2.01</td>\n",
       "      <td>3.39</td>\n",
       "      <td>0.81</td>\n",
       "      <td>2.59</td>\n",
       "      <td>2.70</td>\n",
       "      <td>4.22</td>\n",
       "      <td>1.06</td>\n",
       "      <td>3.16</td>\n",
       "    </tr>\n",
       "    <tr>\n",
       "      <th>1</th>\n",
       "      <td>1981-02-28</td>\n",
       "      <td>1981</td>\n",
       "      <td>2</td>\n",
       "      <td>Arghakhanchi</td>\n",
       "      <td>27.9</td>\n",
       "      <td>83.2</td>\n",
       "      <td>3.37</td>\n",
       "      <td>93.52</td>\n",
       "      <td>5.13</td>\n",
       "      <td>40.88</td>\n",
       "      <td>...</td>\n",
       "      <td>13.08</td>\n",
       "      <td>15.10</td>\n",
       "      <td>2.58</td>\n",
       "      <td>4.88</td>\n",
       "      <td>0.95</td>\n",
       "      <td>3.94</td>\n",
       "      <td>3.51</td>\n",
       "      <td>5.62</td>\n",
       "      <td>1.09</td>\n",
       "      <td>4.53</td>\n",
       "    </tr>\n",
       "    <tr>\n",
       "      <th>2</th>\n",
       "      <td>1981-03-31</td>\n",
       "      <td>1981</td>\n",
       "      <td>3</td>\n",
       "      <td>Arghakhanchi</td>\n",
       "      <td>27.9</td>\n",
       "      <td>83.2</td>\n",
       "      <td>26.02</td>\n",
       "      <td>93.40</td>\n",
       "      <td>5.91</td>\n",
       "      <td>35.84</td>\n",
       "      <td>...</td>\n",
       "      <td>13.52</td>\n",
       "      <td>20.58</td>\n",
       "      <td>2.73</td>\n",
       "      <td>4.67</td>\n",
       "      <td>1.02</td>\n",
       "      <td>3.65</td>\n",
       "      <td>3.73</td>\n",
       "      <td>5.72</td>\n",
       "      <td>1.38</td>\n",
       "      <td>4.34</td>\n",
       "    </tr>\n",
       "    <tr>\n",
       "      <th>3</th>\n",
       "      <td>1981-04-30</td>\n",
       "      <td>1981</td>\n",
       "      <td>4</td>\n",
       "      <td>Arghakhanchi</td>\n",
       "      <td>27.9</td>\n",
       "      <td>83.2</td>\n",
       "      <td>46.15</td>\n",
       "      <td>93.03</td>\n",
       "      <td>6.52</td>\n",
       "      <td>29.81</td>\n",
       "      <td>...</td>\n",
       "      <td>15.03</td>\n",
       "      <td>25.63</td>\n",
       "      <td>2.89</td>\n",
       "      <td>4.78</td>\n",
       "      <td>1.07</td>\n",
       "      <td>3.72</td>\n",
       "      <td>3.82</td>\n",
       "      <td>5.66</td>\n",
       "      <td>1.35</td>\n",
       "      <td>4.31</td>\n",
       "    </tr>\n",
       "    <tr>\n",
       "      <th>4</th>\n",
       "      <td>1981-05-31</td>\n",
       "      <td>1981</td>\n",
       "      <td>5</td>\n",
       "      <td>Arghakhanchi</td>\n",
       "      <td>27.9</td>\n",
       "      <td>83.2</td>\n",
       "      <td>69.45</td>\n",
       "      <td>92.75</td>\n",
       "      <td>9.95</td>\n",
       "      <td>37.25</td>\n",
       "      <td>...</td>\n",
       "      <td>13.43</td>\n",
       "      <td>29.99</td>\n",
       "      <td>2.69</td>\n",
       "      <td>4.40</td>\n",
       "      <td>0.93</td>\n",
       "      <td>3.47</td>\n",
       "      <td>3.52</td>\n",
       "      <td>5.29</td>\n",
       "      <td>1.30</td>\n",
       "      <td>4.00</td>\n",
       "    </tr>\n",
       "  </tbody>\n",
       "</table>\n",
       "<p>5 rows × 24 columns</p>\n",
       "</div>"
      ],
      "text/plain": [
       "         DATE  YEAR  MONTH      DISTRICT   LAT   LON  PRECTOT     PS  QV2M  \\\n",
       "0  1981-01-31  1981      1  Arghakhanchi  27.9  83.2    67.31  93.78  5.28   \n",
       "1  1981-02-28  1981      2  Arghakhanchi  27.9  83.2     3.37  93.52  5.13   \n",
       "2  1981-03-31  1981      3  Arghakhanchi  27.9  83.2    26.02  93.40  5.91   \n",
       "3  1981-04-30  1981      4  Arghakhanchi  27.9  83.2    46.15  93.03  6.52   \n",
       "4  1981-05-31  1981      5  Arghakhanchi  27.9  83.2    69.45  92.75  9.95   \n",
       "\n",
       "    RH2M  ...  T2M_RANGE     TS  WS10M  WS10M_MAX  WS10M_MIN  WS10M_RANGE  \\\n",
       "0  53.09  ...      10.03  11.19   2.01       3.39       0.81         2.59   \n",
       "1  40.88  ...      13.08  15.10   2.58       4.88       0.95         3.94   \n",
       "2  35.84  ...      13.52  20.58   2.73       4.67       1.02         3.65   \n",
       "3  29.81  ...      15.03  25.63   2.89       4.78       1.07         3.72   \n",
       "4  37.25  ...      13.43  29.99   2.69       4.40       0.93         3.47   \n",
       "\n",
       "   WS50M  WS50M_MAX  WS50M_MIN  WS50M_RANGE  \n",
       "0   2.70       4.22       1.06         3.16  \n",
       "1   3.51       5.62       1.09         4.53  \n",
       "2   3.73       5.72       1.38         4.34  \n",
       "3   3.82       5.66       1.35         4.31  \n",
       "4   3.52       5.29       1.30         4.00  \n",
       "\n",
       "[5 rows x 24 columns]"
      ]
     },
     "execution_count": 48,
     "metadata": {},
     "output_type": "execute_result"
    }
   ],
   "source": [
    "\n",
    "\n",
    "df = pd.read_csv('../data/Weather_&_Climate/district_wise/climate_data_nepal_district_wise_monthly.csv')\n",
    "\n",
    "print(df.shape)\n",
    "print(df.columns)\n",
    "df.head()\n"
   ]
  },
  {
   "cell_type": "markdown",
   "id": "fd2d363c",
   "metadata": {},
   "source": [
    "## 2. Initial Data Cleaning"
   ]
  },
  {
   "cell_type": "code",
   "execution_count": 49,
   "id": "d2ace841",
   "metadata": {},
   "outputs": [
    {
     "name": "stdout",
     "output_type": "stream",
     "text": [
      "date           0.0\n",
      "year           0.0\n",
      "month          0.0\n",
      "district       0.0\n",
      "lat            0.0\n",
      "lon            0.0\n",
      "prectot        0.0\n",
      "ps             0.0\n",
      "qv2m           0.0\n",
      "rh2m           0.0\n",
      "t2m            0.0\n",
      "t2mwet         0.0\n",
      "t2m_max        0.0\n",
      "t2m_min        0.0\n",
      "t2m_range      0.0\n",
      "ts             0.0\n",
      "ws10m          0.0\n",
      "ws10m_max      0.0\n",
      "ws10m_min      0.0\n",
      "ws10m_range    0.0\n",
      "ws50m          0.0\n",
      "ws50m_max      0.0\n",
      "ws50m_min      0.0\n",
      "ws50m_range    0.0\n",
      "dtype: float64\n"
     ]
    },
    {
     "data": {
      "image/png": "[encoded data removed]",
      "text/plain": [
       "<Figure size 1000x600 with 1 Axes>"
      ]
     },
     "metadata": {},
     "output_type": "display_data"
    }
   ],
   "source": [
    "\n",
    "# Standardize column names\n",
    "df.columns = df.columns.str.strip().str.lower()\n",
    "\n",
    "# Drop duplicates\n",
    "df = df.drop_duplicates()\n",
    "\n",
    "# Check missingness\n",
    "missing = df.isnull().mean().sort_values(ascending=False)\n",
    "print(missing)\n",
    "\n",
    "# Quick visual check\n",
    "plt.figure(figsize=(10,6))\n",
    "sns.heatmap(df.isnull(), cbar=False)\n",
    "plt.title(\"Missing Data Heatmap\")\n",
    "plt.show()\n"
   ]
  },
  {
   "cell_type": "markdown",
   "id": "97d6da9e",
   "metadata": {},
   "source": [
    "## 3. Impute Missing Values"
   ]
  },
  {
   "cell_type": "code",
   "execution_count": 50,
   "id": "aa453e76",
   "metadata": {},
   "outputs": [],
   "source": [
    "def impute_columns(df, exclude_cols=['district', 'date', 'lat', 'lon']):\n",
    "    df_copy = df.copy()\n",
    "\n",
    "    # Ensure 'date' is datetime\n",
    "    df_copy['date'] = pd.to_datetime(df_copy['date'], errors='coerce')\n",
    "\n",
    "    climate_cols = [col for col in df.columns if col not in exclude_cols]\n",
    "\n",
    "    for col in climate_cols:\n",
    "        # Interpolate missing values linearly\n",
    "        df_copy[col] = df_copy[col].interpolate(method='linear', limit_direction='both')\n",
    "        \n",
    "        # Fill remaining missing with monthly mean\n",
    "        df_copy['month'] = df_copy['date'].dt.month\n",
    "        monthly_avg = df_copy.groupby('month')[col].transform('mean')\n",
    "        df_copy[col] = df_copy[col].fillna(monthly_avg)\n",
    "\n",
    "    df_copy = df_copy.drop(columns='month')\n",
    "    return df_copy\n"
   ]
  },
  {
   "cell_type": "markdown",
   "id": "c8eb72ae",
   "metadata": {},
   "source": [
    "## 4. Add Georeferencing"
   ]
  },
  {
   "cell_type": "code",
   "execution_count": 51,
   "id": "a54a60d0",
   "metadata": {},
   "outputs": [],
   "source": [
    "\n",
    "if 'lat' not in df.columns or 'lon' not in df.columns:\n",
    "    np.random.seed(42)\n",
    "    df['lat'] = np.random.uniform(26.3, 30.4, size=len(df))\n",
    "    df['lon'] = np.random.uniform(80.0, 88.2, size=len(df))\n"
   ]
  },
  {
   "cell_type": "markdown",
   "id": "4e43ea9e",
   "metadata": {},
   "source": [
    "## 5. Final Validation Checks"
   ]
  },
  {
   "cell_type": "code",
   "execution_count": 52,
   "id": "bcb9d68e",
   "metadata": {},
   "outputs": [
    {
     "name": "stdout",
     "output_type": "stream",
     "text": [
      " All validation checks passed!\n"
     ]
    }
   ],
   "source": [
    "# Validation checks\n",
    "assert df['date'].isnull().sum() == 0, \"Missing dates\"\n",
    "assert df.duplicated().sum() == 0, \"Duplicate records\"\n",
    "assert df['lat'].between(26.3, 30.4).all(), \"Latitude out of Nepal bounds\"\n",
    "assert df['lon'].between(80.0, 88.2).all(), \"Longitude out of Nepal bounds\"\n",
    "\n",
    "print(\" All validation checks passed!\")\n"
   ]
  },
  {
   "cell_type": "markdown",
   "id": "2af5642b",
   "metadata": {},
   "source": [
    "## 6. Save Processed Data"
   ]
  },
  {
   "cell_type": "code",
   "execution_count": 53,
   "id": "e270d28e",
   "metadata": {},
   "outputs": [
    {
     "name": "stdout",
     "output_type": "stream",
     "text": [
      "Processed file saved successfully!\n"
     ]
    }
   ],
   "source": [
    "# Save processed clean file\n",
    "df.to_csv('../data/Weather_&_Climate/district_wise/processed_climate_data_nepal.csv', index=False)\n",
    "\n",
    "print(\"Processed file saved successfully!\")\n"
   ]
  },
  {
   "cell_type": "markdown",
   "id": "72fc1aa8",
   "metadata": {},
   "source": [
    "# Part B: Exploratory Data Analysis (EDA)"
   ]
  },
  {
   "cell_type": "markdown",
   "id": "35b4c33b",
   "metadata": {},
   "source": [
    "### 1. Import Libraries for EDA"
   ]
  },
  {
   "cell_type": "code",
   "execution_count": 54,
   "id": "a166937c",
   "metadata": {},
   "outputs": [
    {
     "data": {
      "text/html": [
       "<div>\n",
       "<style scoped>\n",
       "    .dataframe tbody tr th:only-of-type {\n",
       "        vertical-align: middle;\n",
       "    }\n",
       "\n",
       "    .dataframe tbody tr th {\n",
       "        vertical-align: top;\n",
       "    }\n",
       "\n",
       "    .dataframe thead th {\n",
       "        text-align: right;\n",
       "    }\n",
       "</style>\n",
       "<table border=\"1\" class=\"dataframe\">\n",
       "  <thead>\n",
       "    <tr style=\"text-align: right;\">\n",
       "      <th></th>\n",
       "      <th>date</th>\n",
       "      <th>year</th>\n",
       "      <th>month</th>\n",
       "      <th>district</th>\n",
       "      <th>lat</th>\n",
       "      <th>lon</th>\n",
       "      <th>prectot</th>\n",
       "      <th>ps</th>\n",
       "      <th>qv2m</th>\n",
       "      <th>rh2m</th>\n",
       "      <th>...</th>\n",
       "      <th>t2m_range</th>\n",
       "      <th>ts</th>\n",
       "      <th>ws10m</th>\n",
       "      <th>ws10m_max</th>\n",
       "      <th>ws10m_min</th>\n",
       "      <th>ws10m_range</th>\n",
       "      <th>ws50m</th>\n",
       "      <th>ws50m_max</th>\n",
       "      <th>ws50m_min</th>\n",
       "      <th>ws50m_range</th>\n",
       "    </tr>\n",
       "  </thead>\n",
       "  <tbody>\n",
       "    <tr>\n",
       "      <th>0</th>\n",
       "      <td>1981-01-31</td>\n",
       "      <td>1981</td>\n",
       "      <td>1</td>\n",
       "      <td>Arghakhanchi</td>\n",
       "      <td>27.9</td>\n",
       "      <td>83.2</td>\n",
       "      <td>67.31</td>\n",
       "      <td>93.78</td>\n",
       "      <td>5.28</td>\n",
       "      <td>53.09</td>\n",
       "      <td>...</td>\n",
       "      <td>10.03</td>\n",
       "      <td>11.19</td>\n",
       "      <td>2.01</td>\n",
       "      <td>3.39</td>\n",
       "      <td>0.81</td>\n",
       "      <td>2.59</td>\n",
       "      <td>2.70</td>\n",
       "      <td>4.22</td>\n",
       "      <td>1.06</td>\n",
       "      <td>3.16</td>\n",
       "    </tr>\n",
       "    <tr>\n",
       "      <th>1</th>\n",
       "      <td>1981-02-28</td>\n",
       "      <td>1981</td>\n",
       "      <td>2</td>\n",
       "      <td>Arghakhanchi</td>\n",
       "      <td>27.9</td>\n",
       "      <td>83.2</td>\n",
       "      <td>3.37</td>\n",
       "      <td>93.52</td>\n",
       "      <td>5.13</td>\n",
       "      <td>40.88</td>\n",
       "      <td>...</td>\n",
       "      <td>13.08</td>\n",
       "      <td>15.10</td>\n",
       "      <td>2.58</td>\n",
       "      <td>4.88</td>\n",
       "      <td>0.95</td>\n",
       "      <td>3.94</td>\n",
       "      <td>3.51</td>\n",
       "      <td>5.62</td>\n",
       "      <td>1.09</td>\n",
       "      <td>4.53</td>\n",
       "    </tr>\n",
       "    <tr>\n",
       "      <th>2</th>\n",
       "      <td>1981-03-31</td>\n",
       "      <td>1981</td>\n",
       "      <td>3</td>\n",
       "      <td>Arghakhanchi</td>\n",
       "      <td>27.9</td>\n",
       "      <td>83.2</td>\n",
       "      <td>26.02</td>\n",
       "      <td>93.40</td>\n",
       "      <td>5.91</td>\n",
       "      <td>35.84</td>\n",
       "      <td>...</td>\n",
       "      <td>13.52</td>\n",
       "      <td>20.58</td>\n",
       "      <td>2.73</td>\n",
       "      <td>4.67</td>\n",
       "      <td>1.02</td>\n",
       "      <td>3.65</td>\n",
       "      <td>3.73</td>\n",
       "      <td>5.72</td>\n",
       "      <td>1.38</td>\n",
       "      <td>4.34</td>\n",
       "    </tr>\n",
       "    <tr>\n",
       "      <th>3</th>\n",
       "      <td>1981-04-30</td>\n",
       "      <td>1981</td>\n",
       "      <td>4</td>\n",
       "      <td>Arghakhanchi</td>\n",
       "      <td>27.9</td>\n",
       "      <td>83.2</td>\n",
       "      <td>46.15</td>\n",
       "      <td>93.03</td>\n",
       "      <td>6.52</td>\n",
       "      <td>29.81</td>\n",
       "      <td>...</td>\n",
       "      <td>15.03</td>\n",
       "      <td>25.63</td>\n",
       "      <td>2.89</td>\n",
       "      <td>4.78</td>\n",
       "      <td>1.07</td>\n",
       "      <td>3.72</td>\n",
       "      <td>3.82</td>\n",
       "      <td>5.66</td>\n",
       "      <td>1.35</td>\n",
       "      <td>4.31</td>\n",
       "    </tr>\n",
       "    <tr>\n",
       "      <th>4</th>\n",
       "      <td>1981-05-31</td>\n",
       "      <td>1981</td>\n",
       "      <td>5</td>\n",
       "      <td>Arghakhanchi</td>\n",
       "      <td>27.9</td>\n",
       "      <td>83.2</td>\n",
       "      <td>69.45</td>\n",
       "      <td>92.75</td>\n",
       "      <td>9.95</td>\n",
       "      <td>37.25</td>\n",
       "      <td>...</td>\n",
       "      <td>13.43</td>\n",
       "      <td>29.99</td>\n",
       "      <td>2.69</td>\n",
       "      <td>4.40</td>\n",
       "      <td>0.93</td>\n",
       "      <td>3.47</td>\n",
       "      <td>3.52</td>\n",
       "      <td>5.29</td>\n",
       "      <td>1.30</td>\n",
       "      <td>4.00</td>\n",
       "    </tr>\n",
       "  </tbody>\n",
       "</table>\n",
       "<p>5 rows × 24 columns</p>\n",
       "</div>"
      ],
      "text/plain": [
       "        date  year  month      district   lat   lon  prectot     ps  qv2m  \\\n",
       "0 1981-01-31  1981      1  Arghakhanchi  27.9  83.2    67.31  93.78  5.28   \n",
       "1 1981-02-28  1981      2  Arghakhanchi  27.9  83.2     3.37  93.52  5.13   \n",
       "2 1981-03-31  1981      3  Arghakhanchi  27.9  83.2    26.02  93.40  5.91   \n",
       "3 1981-04-30  1981      4  Arghakhanchi  27.9  83.2    46.15  93.03  6.52   \n",
       "4 1981-05-31  1981      5  Arghakhanchi  27.9  83.2    69.45  92.75  9.95   \n",
       "\n",
       "    rh2m  ...  t2m_range     ts  ws10m  ws10m_max  ws10m_min  ws10m_range  \\\n",
       "0  53.09  ...      10.03  11.19   2.01       3.39       0.81         2.59   \n",
       "1  40.88  ...      13.08  15.10   2.58       4.88       0.95         3.94   \n",
       "2  35.84  ...      13.52  20.58   2.73       4.67       1.02         3.65   \n",
       "3  29.81  ...      15.03  25.63   2.89       4.78       1.07         3.72   \n",
       "4  37.25  ...      13.43  29.99   2.69       4.40       0.93         3.47   \n",
       "\n",
       "   ws50m  ws50m_max  ws50m_min  ws50m_range  \n",
       "0   2.70       4.22       1.06         3.16  \n",
       "1   3.51       5.62       1.09         4.53  \n",
       "2   3.73       5.72       1.38         4.34  \n",
       "3   3.82       5.66       1.35         4.31  \n",
       "4   3.52       5.29       1.30         4.00  \n",
       "\n",
       "[5 rows x 24 columns]"
      ]
     },
     "execution_count": 54,
     "metadata": {},
     "output_type": "execute_result"
    }
   ],
   "source": [
    "import pandas as pd\n",
    "import numpy as np\n",
    "import matplotlib.pyplot as plt\n",
    "import seaborn as sns\n",
    "import plotly.express as px\n",
    "from scipy import stats\n",
    "import geopandas as gpd\n",
    "\n",
    "# Load processed data\n",
    "df = pd.read_csv('../data/Weather_&_Climate/district_wise/processed_climate_data_nepal.csv')\n",
    "\n",
    "# Quick check\n",
    "df['date'] = pd.to_datetime(df['date'], errors='coerce', infer_datetime_format=True)\n",
    "\n",
    "df.head()\n"
   ]
  },
  {
   "cell_type": "markdown",
   "id": "8661c504",
   "metadata": {},
   "source": [
    "### 2. Analyze Temperature Trends Across Regions and Elevations"
   ]
  },
  {
   "cell_type": "code",
   "execution_count": 55,
   "id": "7543d036",
   "metadata": {},
   "outputs": [
    {
     "data": {
      "application/vnd.plotly.v1+json": {
       "config": {
        "plotlyServerURL": "https://plot.ly"
       },
       "data": [
        {
         "hovertemplate": "Year: %{x|%Y}<br>Temp: %{y:.2f}°C",
         "legendgroup": "Arghakhanchi",
         "line": {
          "color": "#636efa",
          "dash": "solid"
         },
         "marker": {
          "symbol": "circle"
         },
         "mode": "lines+markers",
         "name": "Arghakhanchi",
         "showlegend": true,
         "type": "scattergl",
         "x": [
          "1981-12-31T00:00:00.000000000",
          "1982-12-31T00:00:00.000000000",
          "1983-12-31T00:00:00.000000000",
          "1984-12-31T00:00:00.000000000",
          "1985-12-31T00:00:00.000000000",
          "1986-12-31T00:00:00.000000000",
          "1987-12-31T00:00:00.000000000",
          "1988-12-31T00:00:00.000000000",
          "1989-12-31T00:00:00.000000000",
          "1990-12-31T00:00:00.000000000",
          "1991-12-31T00:00:00.000000000",
          "1992-12-31T00:00:00.000000000",
          "1993-12-31T00:00:00.000000000",
          "1994-12-31T00:00:00.000000000",
          "1995-12-31T00:00:00.000000000",
          "1996-12-31T00:00:00.000000000",
          "1997-12-31T00:00:00.000000000",
          "1998-12-31T00:00:00.000000000",
          "1999-12-31T00:00:00.000000000",
          "2000-12-31T00:00:00.000000000",
          "2001-12-31T00:00:00.000000000",
          "2002-12-31T00:00:00.000000000",
          "2003-12-31T00:00:00.000000000",
          "2004-12-31T00:00:00.000000000",
          "2005-12-31T00:00:00.000000000",
          "2006-12-31T00:00:00.000000000",
          "2007-12-31T00:00:00.000000000",
          "2008-12-31T00:00:00.000000000",
          "2009-12-31T00:00:00.000000000",
          "2010-12-31T00:00:00.000000000",
          "2011-12-31T00:00:00.000000000",
          "2012-12-31T00:00:00.000000000",
          "2013-12-31T00:00:00.000000000",
          "2014-12-31T00:00:00.000000000",
          "2015-12-31T00:00:00.000000000",
          "2016-12-31T00:00:00.000000000",
          "2017-12-31T00:00:00.000000000",
          "2018-12-31T00:00:00.000000000",
          "2019-12-31T00:00:00.000000000"
         ],
         "xaxis": "x",
         "y": {
          "bdata": "3d3d3d3tNUDlF0t+sUQ2QLy7u7u7uzZArUfhehR+NkDkF0t+sbQ2QLWBThvolDZAQacNdNoAN0CkcD0K1wM3QBSuR+F6lDZAdNpApw3ENkBPG+i0gT43QEjhehSu5zZABzptoNPmNkBI4XoUrlc3QBERERERITdAseQXS37hNkAlv1jyi9U2QIFOG+i08TZAZ2ZmZmamN0B4d3d3d7c2QEGnDXTaADdASOF6FK63N0Bcj8L1KAw3QH+x5BdLfjZABzptoNOGNkAlv1jyi2U2QMkvlvxiCTZADXTaQKftNUCx5BdLftE2QEGnDXTaIDdAC9ejcD36NUAzMzMzM0M2QNQGOm2gwzVA7FG4HoVbNkAs+cWSX5w2QPnFkl8sCTdAvLu7u7sbN0DD9Shcj2I2QCMiIiIiUjZA",
          "dtype": "f8"
         },
         "yaxis": "y"
        },
        {
         "hovertemplate": "Year: %{x|%Y}<br>Temp: %{y:.2f}°C",
         "legendgroup": "Baglung",
         "line": {
          "color": "#EF553B",
          "dash": "solid"
         },
         "marker": {
          "symbol": "circle"
         },
         "mode": "lines+markers",
         "name": "Baglung",
         "showlegend": true,
         "type": "scattergl",
         "x": [
          "1981-12-31T00:00:00.000000000",
          "1982-12-31T00:00:00.000000000",
          "1983-12-31T00:00:00.000000000",
          "1984-12-31T00:00:00.000000000",
          "1985-12-31T00:00:00.000000000",
          "1986-12-31T00:00:00.000000000",
          "1987-12-31T00:00:00.000000000",
          "1988-12-31T00:00:00.000000000",
          "1989-12-31T00:00:00.000000000",
          "1990-12-31T00:00:00.000000000",
          "1991-12-31T00:00:00.000000000",
          "1992-12-31T00:00:00.000000000",
          "1993-12-31T00:00:00.000000000",
          "1994-12-31T00:00:00.000000000",
          "1995-12-31T00:00:00.000000000",
          "1996-12-31T00:00:00.000000000",
          "1997-12-31T00:00:00.000000000",
          "1998-12-31T00:00:00.000000000",
          "1999-12-31T00:00:00.000000000",
          "2000-12-31T00:00:00.000000000",
          "2001-12-31T00:00:00.000000000",
          "2002-12-31T00:00:00.000000000",
          "2003-12-31T00:00:00.000000000",
          "2004-12-31T00:00:00.000000000",
          "2005-12-31T00:00:00.000000000",
          "2006-12-31T00:00:00.000000000",
          "2007-12-31T00:00:00.000000000",
          "2008-12-31T00:00:00.000000000",
          "2009-12-31T00:00:00.000000000",
          "2010-12-31T00:00:00.000000000",
          "2011-12-31T00:00:00.000000000",
          "2012-12-31T00:00:00.000000000",
          "2013-12-31T00:00:00.000000000",
          "2014-12-31T00:00:00.000000000",
          "2015-12-31T00:00:00.000000000",
          "2016-12-31T00:00:00.000000000",
          "2017-12-31T00:00:00.000000000",
          "2018-12-31T00:00:00.000000000",
          "2019-12-31T00:00:00.000000000"
         ],
         "xaxis": "x",
         "y": {
          "bdata": "zczMzMxMKkC4HoXrUXgqQOi0gU4b6CpAGEt+seRXK0CTXyz5xZIrQFO4HoXr8SpAzczMzMxMLEBZ8oslv1gsQIwlv1jySytAN9BpA53WK0BjyS+W/CIsQMP1KFyPwitApHA9CtcDLEDsUbgehWssQERERERE5CtAgU4b6LThK0ARERERERErQDfQaQOd1ixAXI/C9Sh8LUAEnTbQaaMrQCMiIiIigixA84slv1jSLEDD9Shcj0IsQBERERERcStAAAAAAAAAK0AAAAAAAKArQLgehetR+CpAXI/C9SjcKkCTXyz5xTIsQNQGOm2g0yxAERERERHRKkBERERERAQrQGAs+cWSnypAJb9Y8oslK0A9CtejcL0qQNBpA502cCxA9Shcj8L1K0DziyW/WPIqQJmZmZmZeSpA",
          "dtype": "f8"
         },
         "yaxis": "y"
        },
        {
         "hovertemplate": "Year: %{x|%Y}<br>Temp: %{y:.2f}°C",
         "legendgroup": "Baitadi",
         "line": {
          "color": "#00cc96",
          "dash": "solid"
         },
         "marker": {
          "symbol": "circle"
         },
         "mode": "lines+markers",
         "name": "Baitadi",
         "showlegend": true,
         "type": "scattergl",
         "x": [
          "1981-12-31T00:00:00.000000000",
          "1982-12-31T00:00:00.000000000",
          "1983-12-31T00:00:00.000000000",
          "1984-12-31T00:00:00.000000000",
          "1985-12-31T00:00:00.000000000",
          "1986-12-31T00:00:00.000000000",
          "1987-12-31T00:00:00.000000000",
          "1988-12-31T00:00:00.000000000",
          "1989-12-31T00:00:00.000000000",
          "1990-12-31T00:00:00.000000000",
          "1991-12-31T00:00:00.000000000",
          "1992-12-31T00:00:00.000000000",
          "1993-12-31T00:00:00.000000000",
          "1994-12-31T00:00:00.000000000",
          "1995-12-31T00:00:00.000000000",
          "1996-12-31T00:00:00.000000000",
          "1997-12-31T00:00:00.000000000",
          "1998-12-31T00:00:00.000000000",
          "1999-12-31T00:00:00.000000000",
          "2000-12-31T00:00:00.000000000",
          "2001-12-31T00:00:00.000000000",
          "2002-12-31T00:00:00.000000000",
          "2003-12-31T00:00:00.000000000",
          "2004-12-31T00:00:00.000000000",
          "2005-12-31T00:00:00.000000000",
          "2006-12-31T00:00:00.000000000",
          "2007-12-31T00:00:00.000000000",
          "2008-12-31T00:00:00.000000000",
          "2009-12-31T00:00:00.000000000",
          "2010-12-31T00:00:00.000000000",
          "2011-12-31T00:00:00.000000000",
          "2012-12-31T00:00:00.000000000",
          "2013-12-31T00:00:00.000000000",
          "2014-12-31T00:00:00.000000000",
          "2015-12-31T00:00:00.000000000",
          "2016-12-31T00:00:00.000000000",
          "2017-12-31T00:00:00.000000000",
          "2018-12-31T00:00:00.000000000",
          "2019-12-31T00:00:00.000000000"
         ],
         "xaxis": "x",
         "y": {
          "bdata": "4XoUrkdhIkDrUbgehUsiQNBpA502MCJA9Shcj8JVI0CuR+F6FG4jQJb8YskvdiJAbaDTBjoNJUDUBjptoNMkQIXrUbgepSNAMzMzMzNzJEC4HoXrUfgjQAc6baDTBiRAOm2g0wZ6JECCThvotEEkQKHTBjptwCNARUREREQEJEDRaQOdNlAiQP1iyS+WHCVAWPKLJb+4JUADnTbQacMjQHsUrkfheiRA9ihcj8KVJEAiIiIiIgIkQLWBThvoNCRAmpmZmZnZIkDlF0t+sUQkQOtRuB6FKyNAJb9Y8otFI0B02kCnDbQkQIwlv1jyyyRAY8kvlvzCIkCF61G4HuUiQOUXS36xJCNAv1jyiyV/I0CPwvUoXK8jQNejcD0K1yVAdNpApw30JEAvlvxiyW8kQAc6baDTpiJA",
          "dtype": "f8"
         },
         "yaxis": "y"
        },
        {
         "hovertemplate": "Year: %{x|%Y}<br>Temp: %{y:.2f}°C",
         "legendgroup": "Bajang",
         "line": {
          "color": "#ab63fa",
          "dash": "solid"
         },
         "marker": {
          "symbol": "circle"
         },
         "mode": "lines+markers",
         "name": "Bajang",
         "showlegend": true,
         "type": "scattergl",
         "x": [
          "1981-12-31T00:00:00.000000000",
          "1982-12-31T00:00:00.000000000",
          "1983-12-31T00:00:00.000000000",
          "1984-12-31T00:00:00.000000000",
          "1985-12-31T00:00:00.000000000",
          "1986-12-31T00:00:00.000000000",
          "1987-12-31T00:00:00.000000000",
          "1988-12-31T00:00:00.000000000",
          "1989-12-31T00:00:00.000000000",
          "1990-12-31T00:00:00.000000000",
          "1991-12-31T00:00:00.000000000",
          "1992-12-31T00:00:00.000000000",
          "1993-12-31T00:00:00.000000000",
          "1994-12-31T00:00:00.000000000",
          "1995-12-31T00:00:00.000000000",
          "1996-12-31T00:00:00.000000000",
          "1997-12-31T00:00:00.000000000",
          "1998-12-31T00:00:00.000000000",
          "1999-12-31T00:00:00.000000000",
          "2000-12-31T00:00:00.000000000",
          "2001-12-31T00:00:00.000000000",
          "2002-12-31T00:00:00.000000000",
          "2003-12-31T00:00:00.000000000",
          "2004-12-31T00:00:00.000000000",
          "2005-12-31T00:00:00.000000000",
          "2006-12-31T00:00:00.000000000",
          "2007-12-31T00:00:00.000000000",
          "2008-12-31T00:00:00.000000000",
          "2009-12-31T00:00:00.000000000",
          "2010-12-31T00:00:00.000000000",
          "2011-12-31T00:00:00.000000000",
          "2012-12-31T00:00:00.000000000",
          "2013-12-31T00:00:00.000000000",
          "2014-12-31T00:00:00.000000000",
          "2015-12-31T00:00:00.000000000",
          "2016-12-31T00:00:00.000000000",
          "2017-12-31T00:00:00.000000000",
          "2018-12-31T00:00:00.000000000",
          "2019-12-31T00:00:00.000000000"
         ],
         "xaxis": "x",
         "y": {
          "bdata": "+cWSXyz5EUBxPQrXo3ASQERERERERBJAPQrXo3B9FEAzMzMzMzMUQDptoNMGuhJA4XoUrkdhF0CnDXTaQGcXQO/u7u7urhRAQacNdNpAF0As+cWSX6wVQAAAAAAAABZAq6qqqqoqF0Bcj8L1KJwWQKcNdNpAZxVAYCz5xZKfFkCamZmZmdkSQCW/WPKL5RhAO22g0wa6GUCQwvUoXA8WQLy7u7u7exdAWfKLJb8YF0AYS36x5FcWQImIiIiICBdAbaDTBjptE0BTuB6F65EWQGdmZmZmJhRAj8L1KFwPFUC/WPKLJf8WQNejcD0KVxdAREREREQEFEC7u7u7uzsTQHsUrkfhOhRAj8L1KFxPFEAOdNpAp40UQFO4HoXrERpATxvotIEOGECdNtBpAx0XQG2g0wY6rRJA",
          "dtype": "f8"
         },
         "yaxis": "y"
        },
        {
         "hovertemplate": "Year: %{x|%Y}<br>Temp: %{y:.2f}°C",
         "legendgroup": "Banke",
         "line": {
          "color": "#FFA15A",
          "dash": "solid"
         },
         "marker": {
          "symbol": "circle"
         },
         "mode": "lines+markers",
         "name": "Banke",
         "showlegend": true,
         "type": "scattergl",
         "x": [
          "1981-12-31T00:00:00.000000000",
          "1982-12-31T00:00:00.000000000",
          "1983-12-31T00:00:00.000000000",
          "1984-12-31T00:00:00.000000000",
          "1985-12-31T00:00:00.000000000",
          "1986-12-31T00:00:00.000000000",
          "1987-12-31T00:00:00.000000000",
          "1988-12-31T00:00:00.000000000",
          "1989-12-31T00:00:00.000000000",
          "1990-12-31T00:00:00.000000000",
          "1991-12-31T00:00:00.000000000",
          "1992-12-31T00:00:00.000000000",
          "1993-12-31T00:00:00.000000000",
          "1994-12-31T00:00:00.000000000",
          "1995-12-31T00:00:00.000000000",
          "1996-12-31T00:00:00.000000000",
          "1997-12-31T00:00:00.000000000",
          "1998-12-31T00:00:00.000000000",
          "1999-12-31T00:00:00.000000000",
          "2000-12-31T00:00:00.000000000",
          "2001-12-31T00:00:00.000000000",
          "2002-12-31T00:00:00.000000000",
          "2003-12-31T00:00:00.000000000",
          "2004-12-31T00:00:00.000000000",
          "2005-12-31T00:00:00.000000000",
          "2006-12-31T00:00:00.000000000",
          "2007-12-31T00:00:00.000000000",
          "2008-12-31T00:00:00.000000000",
          "2009-12-31T00:00:00.000000000",
          "2010-12-31T00:00:00.000000000",
          "2011-12-31T00:00:00.000000000",
          "2012-12-31T00:00:00.000000000",
          "2013-12-31T00:00:00.000000000",
          "2014-12-31T00:00:00.000000000",
          "2015-12-31T00:00:00.000000000",
          "2016-12-31T00:00:00.000000000",
          "2017-12-31T00:00:00.000000000",
          "2018-12-31T00:00:00.000000000",
          "2019-12-31T00:00:00.000000000"
         ],
         "xaxis": "x",
         "y": {
          "bdata": "MzMzMzOjNUDUBjptoLM1QFVVVVVV9TVA20CnDXQaNkDsUbgehUs2QOi0gU4b+DVAuB6F61E4N0AYS36x5Lc2QGkDnTbQWTZA7+7u7u5+NkB7FK5H4fo2QGdmZmZmdjZAGEt+seTXNkBwPQrXoyA3QPOLJb9YIjdAgU4b6LTBNkD5xZJfLJk2QO/u7u7u3jZAJb9Y8ouFN0CMJb9Y8ms2QOF6FK5H4TZAFK5H4XqUN0DFkl8s+bU2QNejcD0KZzZAY8kvlvwyNkCX/GLJL2Y2QKDTBjpt0DVA7+7u7u6+NUBI4XoUrrc2QJ020GkD3TZAw/UoXI+yNUANdNpAp/01QCz5xZJfvDVAIyIiIiJSNkAYS36x5Fc2QKRwPQrX4zZA+cWSXyzpNkCvR+F6FE42QDfQaQOd9jVA",
          "dtype": "f8"
         },
         "yaxis": "y"
        },
        {
         "hovertemplate": "Year: %{x|%Y}<br>Temp: %{y:.2f}°C",
         "legendgroup": "Bardiya",
         "line": {
          "color": "#19d3f3",
          "dash": "solid"
         },
         "marker": {
          "symbol": "circle"
         },
         "mode": "lines+markers",
         "name": "Bardiya",
         "showlegend": true,
         "type": "scattergl",
         "x": [
          "1981-12-31T00:00:00.000000000",
          "1982-12-31T00:00:00.000000000",
          "1983-12-31T00:00:00.000000000",
          "1984-12-31T00:00:00.000000000",
          "1985-12-31T00:00:00.000000000",
          "1986-12-31T00:00:00.000000000",
          "1987-12-31T00:00:00.000000000",
          "1988-12-31T00:00:00.000000000",
          "1989-12-31T00:00:00.000000000",
          "1990-12-31T00:00:00.000000000",
          "1991-12-31T00:00:00.000000000",
          "1992-12-31T00:00:00.000000000",
          "1993-12-31T00:00:00.000000000",
          "1994-12-31T00:00:00.000000000",
          "1995-12-31T00:00:00.000000000",
          "1996-12-31T00:00:00.000000000",
          "1997-12-31T00:00:00.000000000",
          "1998-12-31T00:00:00.000000000",
          "1999-12-31T00:00:00.000000000",
          "2000-12-31T00:00:00.000000000",
          "2001-12-31T00:00:00.000000000",
          "2002-12-31T00:00:00.000000000",
          "2003-12-31T00:00:00.000000000",
          "2004-12-31T00:00:00.000000000",
          "2005-12-31T00:00:00.000000000",
          "2006-12-31T00:00:00.000000000",
          "2007-12-31T00:00:00.000000000",
          "2008-12-31T00:00:00.000000000",
          "2009-12-31T00:00:00.000000000",
          "2010-12-31T00:00:00.000000000",
          "2011-12-31T00:00:00.000000000",
          "2012-12-31T00:00:00.000000000",
          "2013-12-31T00:00:00.000000000",
          "2014-12-31T00:00:00.000000000",
          "2015-12-31T00:00:00.000000000",
          "2016-12-31T00:00:00.000000000",
          "2017-12-31T00:00:00.000000000",
          "2018-12-31T00:00:00.000000000",
          "2019-12-31T00:00:00.000000000"
         ],
         "xaxis": "x",
         "y": {
          "bdata": "SOF6FK7nNkBPG+i0gQ43QPUoXI/CNTdAERERERFxN0DQaQOdNpA3QG2g0wY6TTdAzczMzMycOED8Yskvluw3QAvXo3A9ujdAN9BpA53WN0BLfrHkF1s4QBvotIFO2zdAaQOdNtBJOEAAAAAAAJA4QOxRuB6FizhA4XoUrkcROEDsUbgehfs3QEjhehSuJzhAgU4b6LThOEBTuB6F67E3QNtApw10OjhA4XoUrkfxOEB02kCnDfQ3QPnFkl8sqTdAU7gehethN0CQwvUoXK83QG2g0wY6/TZAtYFOG+jkNkBBpw102uA3QDCW/GLJDzhAAAAAAADQNkDotIFOGzg3QCMiIiIi4jZAbaDTBjqNN0BPG+i0gc43QNQGOm2gUzhA84slv1hSOEBjyS+W/KI3QFO4HoXrQTdA",
          "dtype": "f8"
         },
         "yaxis": "y"
        },
        {
         "hovertemplate": "Year: %{x|%Y}<br>Temp: %{y:.2f}°C",
         "legendgroup": "Bhaktapur",
         "line": {
          "color": "#FF6692",
          "dash": "solid"
         },
         "marker": {
          "symbol": "circle"
         },
         "mode": "lines+markers",
         "name": "Bhaktapur",
         "showlegend": true,
         "type": "scattergl",
         "x": [
          "1981-12-31T00:00:00.000000000",
          "1982-12-31T00:00:00.000000000",
          "1983-12-31T00:00:00.000000000",
          "1984-12-31T00:00:00.000000000",
          "1985-12-31T00:00:00.000000000",
          "1986-12-31T00:00:00.000000000",
          "1987-12-31T00:00:00.000000000",
          "1988-12-31T00:00:00.000000000",
          "1989-12-31T00:00:00.000000000",
          "1990-12-31T00:00:00.000000000",
          "1991-12-31T00:00:00.000000000",
          "1992-12-31T00:00:00.000000000",
          "1993-12-31T00:00:00.000000000",
          "1994-12-31T00:00:00.000000000",
          "1995-12-31T00:00:00.000000000",
          "1996-12-31T00:00:00.000000000",
          "1997-12-31T00:00:00.000000000",
          "1998-12-31T00:00:00.000000000",
          "1999-12-31T00:00:00.000000000",
          "2000-12-31T00:00:00.000000000",
          "2001-12-31T00:00:00.000000000",
          "2002-12-31T00:00:00.000000000",
          "2003-12-31T00:00:00.000000000",
          "2004-12-31T00:00:00.000000000",
          "2005-12-31T00:00:00.000000000",
          "2006-12-31T00:00:00.000000000",
          "2007-12-31T00:00:00.000000000",
          "2008-12-31T00:00:00.000000000",
          "2009-12-31T00:00:00.000000000",
          "2010-12-31T00:00:00.000000000",
          "2011-12-31T00:00:00.000000000",
          "2012-12-31T00:00:00.000000000",
          "2013-12-31T00:00:00.000000000",
          "2014-12-31T00:00:00.000000000",
          "2015-12-31T00:00:00.000000000",
          "2016-12-31T00:00:00.000000000",
          "2017-12-31T00:00:00.000000000",
          "2018-12-31T00:00:00.000000000",
          "2019-12-31T00:00:00.000000000"
         ],
         "xaxis": "x",
         "y": {
          "bdata": "4XoUrkdhKEAREREREbEoQKuqqqqqCilAmZmZmZk5KUDhehSuR4EpQDfQaQOdtihADXTaQKftKUCBThvotEEqQKRwPQrXQylAoNMGOm0AKkB02kCnDRQqQGAs+cWSnylApHA9CtfjKUAzMzMzM3MqQGAs+cWS3ylAUbgehevxKUD1KFyPwrUoQIXrUbge5SpAmZmZmZl5K0DNzMzMzIwpQIXrUbgehSpAERERERFRKkBxPQrXoxAqQA102kCn7ShAH4XrUbgeKUA30GkDndYpQBhLfrHkFylAf7HkF0v+KEBBpw102oAqQBhLfrHktypAMzMzMzOzKECMJb9Y8gspQNtApw10+ihAhetRuB5lKUC4HoXrUXgpQHh3d3d3typAeHd3d3d3KkD1KFyPwlUpQClcj8L1aClA",
          "dtype": "f8"
         },
         "yaxis": "y"
        },
        {
         "hovertemplate": "Year: %{x|%Y}<br>Temp: %{y:.2f}°C",
         "legendgroup": "Chitawan",
         "line": {
          "color": "#B6E880",
          "dash": "solid"
         },
         "marker": {
          "symbol": "circle"
         },
         "mode": "lines+markers",
         "name": "Chitawan",
         "showlegend": true,
         "type": "scattergl",
         "x": [
          "1981-12-31T00:00:00.000000000",
          "1982-12-31T00:00:00.000000000",
          "1983-12-31T00:00:00.000000000",
          "1984-12-31T00:00:00.000000000",
          "1985-12-31T00:00:00.000000000",
          "1986-12-31T00:00:00.000000000",
          "1987-12-31T00:00:00.000000000",
          "1988-12-31T00:00:00.000000000",
          "1989-12-31T00:00:00.000000000",
          "1990-12-31T00:00:00.000000000",
          "1991-12-31T00:00:00.000000000",
          "1992-12-31T00:00:00.000000000",
          "1993-12-31T00:00:00.000000000",
          "1994-12-31T00:00:00.000000000",
          "1995-12-31T00:00:00.000000000",
          "1996-12-31T00:00:00.000000000",
          "1997-12-31T00:00:00.000000000",
          "1998-12-31T00:00:00.000000000",
          "1999-12-31T00:00:00.000000000",
          "2000-12-31T00:00:00.000000000",
          "2001-12-31T00:00:00.000000000",
          "2002-12-31T00:00:00.000000000",
          "2003-12-31T00:00:00.000000000",
          "2004-12-31T00:00:00.000000000",
          "2005-12-31T00:00:00.000000000",
          "2006-12-31T00:00:00.000000000",
          "2007-12-31T00:00:00.000000000",
          "2008-12-31T00:00:00.000000000",
          "2009-12-31T00:00:00.000000000",
          "2010-12-31T00:00:00.000000000",
          "2011-12-31T00:00:00.000000000",
          "2012-12-31T00:00:00.000000000",
          "2013-12-31T00:00:00.000000000",
          "2014-12-31T00:00:00.000000000",
          "2015-12-31T00:00:00.000000000",
          "2016-12-31T00:00:00.000000000",
          "2017-12-31T00:00:00.000000000",
          "2018-12-31T00:00:00.000000000",
          "2019-12-31T00:00:00.000000000"
         ],
         "xaxis": "x",
         "y": {
          "bdata": "ERERERFxNUAs+cWSX9w1QDCW/GLJXzZAJb9Y8ovlNUBPG+i0gR42QB+F61G4DjZAA5020GlTNkCZmZmZmXk2QA102kCnLTZA3d3d3d1dNkA9CtejcM02QKRwPQrXgzZAAAAAAABwNkCMJb9Y8us2QKuqqqqqijZARERERERUNkDFkl8s+TU2QK9H4XoUjjZAdNpApw0kN0Dv7u7u7i42QPOLJb9YgjZAMzMzMzMDN0BERERERIQ2QASdNtBpozVAmZmZmZnpNUDd3d3d3c01QDttoNMGajVAl/xiyS9mNUBtoNMGOk02QEGnDXTakDZAVVVVVVVlNUAjIiIiIrI1QFnyiyW/KDVA16NwPQqnNUBcj8L1KMw1QLWBThvoVDZAY8kvlvxSNkBZ8oslv6g1QJ020GkDjTVA",
          "dtype": "f8"
         },
         "yaxis": "y"
        },
        {
         "hovertemplate": "Year: %{x|%Y}<br>Temp: %{y:.2f}°C",
         "legendgroup": "Dadeldhura",
         "line": {
          "color": "#FF97FF",
          "dash": "solid"
         },
         "marker": {
          "symbol": "circle"
         },
         "mode": "lines+markers",
         "name": "Dadeldhura",
         "showlegend": true,
         "type": "scattergl",
         "x": [
          "1981-12-31T00:00:00.000000000",
          "1982-12-31T00:00:00.000000000",
          "1983-12-31T00:00:00.000000000",
          "1984-12-31T00:00:00.000000000",
          "1985-12-31T00:00:00.000000000",
          "1986-12-31T00:00:00.000000000",
          "1987-12-31T00:00:00.000000000",
          "1988-12-31T00:00:00.000000000",
          "1989-12-31T00:00:00.000000000",
          "1990-12-31T00:00:00.000000000",
          "1991-12-31T00:00:00.000000000",
          "1992-12-31T00:00:00.000000000",
          "1993-12-31T00:00:00.000000000",
          "1994-12-31T00:00:00.000000000",
          "1995-12-31T00:00:00.000000000",
          "1996-12-31T00:00:00.000000000",
          "1997-12-31T00:00:00.000000000",
          "1998-12-31T00:00:00.000000000",
          "1999-12-31T00:00:00.000000000",
          "2000-12-31T00:00:00.000000000",
          "2001-12-31T00:00:00.000000000",
          "2002-12-31T00:00:00.000000000",
          "2003-12-31T00:00:00.000000000",
          "2004-12-31T00:00:00.000000000",
          "2005-12-31T00:00:00.000000000",
          "2006-12-31T00:00:00.000000000",
          "2007-12-31T00:00:00.000000000",
          "2008-12-31T00:00:00.000000000",
          "2009-12-31T00:00:00.000000000",
          "2010-12-31T00:00:00.000000000",
          "2011-12-31T00:00:00.000000000",
          "2012-12-31T00:00:00.000000000",
          "2013-12-31T00:00:00.000000000",
          "2014-12-31T00:00:00.000000000",
          "2015-12-31T00:00:00.000000000",
          "2016-12-31T00:00:00.000000000",
          "2017-12-31T00:00:00.000000000",
          "2018-12-31T00:00:00.000000000",
          "2019-12-31T00:00:00.000000000"
         ],
         "xaxis": "x",
         "y": {
          "bdata": "pHA9CteDMUCPwvUoXG8xQKcNdNpAdzFABzptoNPmMUADnTbQaQMyQCW/WPKLlTFA7+7u7u7+MkAb6LSBTnsyQAOdNtBpQzJAS36x5BdLMkDQaQOdNoAyQBERERERQTJAA5020GmDMkDv7u7u7p4yQO/u7u7ubjJAKVyPwvU4MkAfhetRuK4xQNBpA502kDJA61G4HoUbM0DTBjptoPMxQG2g0wY6fTJAMzMzMzPjMkCx5BdLfjEyQPYoXI/CJTJAuB6F61G4MUD2KFyPwkUyQHsUrkfhqjFAAAAAAACgMUCkcD0K16MyQOUXS36xtDJAPQrXo3BtMUAYS36x5OcxQOUXS36xxDFAQacNdNpAMkAzMzMzMzMyQDCW/GLJ7zJA20CnDXTKMkA6baDTBkoyQDMzMzMzwzFA",
          "dtype": "f8"
         },
         "yaxis": "y"
        },
        {
         "hovertemplate": "Year: %{x|%Y}<br>Temp: %{y:.2f}°C",
         "legendgroup": "Dailekh",
         "line": {
          "color": "#FECB52",
          "dash": "solid"
         },
         "marker": {
          "symbol": "circle"
         },
         "mode": "lines+markers",
         "name": "Dailekh",
         "showlegend": true,
         "type": "scattergl",
         "x": [
          "1981-12-31T00:00:00.000000000",
          "1982-12-31T00:00:00.000000000",
          "1983-12-31T00:00:00.000000000",
          "1984-12-31T00:00:00.000000000",
          "1985-12-31T00:00:00.000000000",
          "1986-12-31T00:00:00.000000000",
          "1987-12-31T00:00:00.000000000",
          "1988-12-31T00:00:00.000000000",
          "1989-12-31T00:00:00.000000000",
          "1990-12-31T00:00:00.000000000",
          "1991-12-31T00:00:00.000000000",
          "1992-12-31T00:00:00.000000000",
          "1993-12-31T00:00:00.000000000",
          "1994-12-31T00:00:00.000000000",
          "1995-12-31T00:00:00.000000000",
          "1996-12-31T00:00:00.000000000",
          "1997-12-31T00:00:00.000000000",
          "1998-12-31T00:00:00.000000000",
          "1999-12-31T00:00:00.000000000",
          "2000-12-31T00:00:00.000000000",
          "2001-12-31T00:00:00.000000000",
          "2002-12-31T00:00:00.000000000",
          "2003-12-31T00:00:00.000000000",
          "2004-12-31T00:00:00.000000000",
          "2005-12-31T00:00:00.000000000",
          "2006-12-31T00:00:00.000000000",
          "2007-12-31T00:00:00.000000000",
          "2008-12-31T00:00:00.000000000",
          "2009-12-31T00:00:00.000000000",
          "2010-12-31T00:00:00.000000000",
          "2011-12-31T00:00:00.000000000",
          "2012-12-31T00:00:00.000000000",
          "2013-12-31T00:00:00.000000000",
          "2014-12-31T00:00:00.000000000",
          "2015-12-31T00:00:00.000000000",
          "2016-12-31T00:00:00.000000000",
          "2017-12-31T00:00:00.000000000",
          "2018-12-31T00:00:00.000000000",
          "2019-12-31T00:00:00.000000000"
         ],
         "xaxis": "x",
         "y": {
          "bdata": "61G4HoWrMEDD9Shcj8IwQIXrUbge5TBAdNpApw0UMUApXI/C9WgxQKHTBjpt4DBAPQrXo3AdMkDv7u7u7r4xQO/u7u7uXjFAj8L1KFyPMUBtoNMGOt0xQLgehetRaDFAgk4b6LTBMUBtoNMGOg0yQLWBThvo9DFADnTaQKfNMUDQaQOdNmAxQArXo3A9KjJAfrHkF0uOMkC1gU4b6GQxQIwlv1jy2zFAxpJfLPllMkBERERERMQxQFnyiyW/iDFAS36x5BcrMUDotIFOG3gxQG2g0wY6/TBAd3d3d3f3MEB02kCnDeQxQKRwPQrXAzJAH4XrUbjeMEBtoNMGOi0xQOtRuB6FGzFAjCW/WPJ7MUCdNtBpA10xQG2g0wY6DTJAMJb8YskPMkBVVVVVVXUxQD0K16NwHTFA",
          "dtype": "f8"
         },
         "yaxis": "y"
        },
        {
         "hovertemplate": "Year: %{x|%Y}<br>Temp: %{y:.2f}°C",
         "legendgroup": "Dang",
         "line": {
          "color": "#636efa",
          "dash": "solid"
         },
         "marker": {
          "symbol": "circle"
         },
         "mode": "lines+markers",
         "name": "Dang",
         "showlegend": true,
         "type": "scattergl",
         "x": [
          "1981-12-31T00:00:00.000000000",
          "1982-12-31T00:00:00.000000000",
          "1983-12-31T00:00:00.000000000",
          "1984-12-31T00:00:00.000000000",
          "1985-12-31T00:00:00.000000000",
          "1986-12-31T00:00:00.000000000",
          "1987-12-31T00:00:00.000000000",
          "1988-12-31T00:00:00.000000000",
          "1989-12-31T00:00:00.000000000",
          "1990-12-31T00:00:00.000000000",
          "1991-12-31T00:00:00.000000000",
          "1992-12-31T00:00:00.000000000",
          "1993-12-31T00:00:00.000000000",
          "1994-12-31T00:00:00.000000000",
          "1995-12-31T00:00:00.000000000",
          "1996-12-31T00:00:00.000000000",
          "1997-12-31T00:00:00.000000000",
          "1998-12-31T00:00:00.000000000",
          "1999-12-31T00:00:00.000000000",
          "2000-12-31T00:00:00.000000000",
          "2001-12-31T00:00:00.000000000",
          "2002-12-31T00:00:00.000000000",
          "2003-12-31T00:00:00.000000000",
          "2004-12-31T00:00:00.000000000",
          "2005-12-31T00:00:00.000000000",
          "2006-12-31T00:00:00.000000000",
          "2007-12-31T00:00:00.000000000",
          "2008-12-31T00:00:00.000000000",
          "2009-12-31T00:00:00.000000000",
          "2010-12-31T00:00:00.000000000",
          "2011-12-31T00:00:00.000000000",
          "2012-12-31T00:00:00.000000000",
          "2013-12-31T00:00:00.000000000",
          "2014-12-31T00:00:00.000000000",
          "2015-12-31T00:00:00.000000000",
          "2016-12-31T00:00:00.000000000",
          "2017-12-31T00:00:00.000000000",
          "2018-12-31T00:00:00.000000000",
          "2019-12-31T00:00:00.000000000"
         ],
         "xaxis": "x",
         "y": {
          "bdata": "4XoUrkfRMUDv7u7u7t4xQDfQaQOdFjJAagOdNtA5MkAfhetRuH4yQPYoXI/CFTJAWfKLJb8YM0CPwvUoXN8yQEGnDXTaYDJArkfhehSeMkCnDXTaQPcyQEGnDXTagDJAPQrXo3DNMkDQaQOdNhAzQOi0gU4b+DJARERERETUMkBjyS+W/IIyQMkvlvxiGTNAk18s+cWSM0C4HoXrUYgyQEt+seQX6zJAlvxiyS92M0BVVVVVVeUyQJqZmZmZiTJAdNpApw1UMkBcj8L1KHwyQJ020GkDDTJAd3d3d3cHMkBgLPnFkt8yQEREREREFDNAiYiIiIj4MUCW/GLJLyYyQOtRuB6F+zFAseQXS35xMkB3d3d3d3cyQI/C9ShcDzNA16NwPQoXM0CnDXTaQHcyQOtRuB6FOzJA",
          "dtype": "f8"
         },
         "yaxis": "y"
        },
        {
         "hovertemplate": "Year: %{x|%Y}<br>Temp: %{y:.2f}°C",
         "legendgroup": "Darchula",
         "line": {
          "color": "#EF553B",
          "dash": "solid"
         },
         "marker": {
          "symbol": "circle"
         },
         "mode": "lines+markers",
         "name": "Darchula",
         "showlegend": true,
         "type": "scattergl",
         "x": [
          "1981-12-31T00:00:00.000000000",
          "1982-12-31T00:00:00.000000000",
          "1983-12-31T00:00:00.000000000",
          "1984-12-31T00:00:00.000000000",
          "1985-12-31T00:00:00.000000000",
          "1986-12-31T00:00:00.000000000",
          "1987-12-31T00:00:00.000000000",
          "1988-12-31T00:00:00.000000000",
          "1989-12-31T00:00:00.000000000",
          "1990-12-31T00:00:00.000000000",
          "1991-12-31T00:00:00.000000000",
          "1992-12-31T00:00:00.000000000",
          "1993-12-31T00:00:00.000000000",
          "1994-12-31T00:00:00.000000000",
          "1995-12-31T00:00:00.000000000",
          "1996-12-31T00:00:00.000000000",
          "1997-12-31T00:00:00.000000000",
          "1998-12-31T00:00:00.000000000",
          "1999-12-31T00:00:00.000000000",
          "2000-12-31T00:00:00.000000000",
          "2001-12-31T00:00:00.000000000",
          "2002-12-31T00:00:00.000000000",
          "2003-12-31T00:00:00.000000000",
          "2004-12-31T00:00:00.000000000",
          "2005-12-31T00:00:00.000000000",
          "2006-12-31T00:00:00.000000000",
          "2007-12-31T00:00:00.000000000",
          "2008-12-31T00:00:00.000000000",
          "2009-12-31T00:00:00.000000000",
          "2010-12-31T00:00:00.000000000",
          "2011-12-31T00:00:00.000000000",
          "2012-12-31T00:00:00.000000000",
          "2013-12-31T00:00:00.000000000",
          "2014-12-31T00:00:00.000000000",
          "2015-12-31T00:00:00.000000000",
          "2016-12-31T00:00:00.000000000",
          "2017-12-31T00:00:00.000000000",
          "2018-12-31T00:00:00.000000000",
          "2019-12-31T00:00:00.000000000"
         ],
         "xaxis": "x",
         "y": {
          "bdata": "4XoUrkdhIkDrUbgehUsiQNBpA502MCJA9Shcj8JVI0CuR+F6FG4jQJb8YskvdiJAbaDTBjoNJUDUBjptoNMkQIXrUbgepSNAMzMzMzNzJEC4HoXrUfgjQAc6baDTBiRAOm2g0wZ6JECCThvotEEkQKHTBjptwCNARUREREQEJEDRaQOdNlAiQP1iyS+WHCVAWPKLJb+4JUADnTbQacMjQHsUrkfheiRA9ihcj8KVJEAiIiIiIgIkQLWBThvoNCRAmpmZmZnZIkDlF0t+sUQkQOtRuB6FKyNAJb9Y8otFI0B02kCnDbQkQIwlv1jyyyRAY8kvlvzCIkCF61G4HuUiQOUXS36xJCNAv1jyiyV/I0CPwvUoXK8jQNejcD0K1yVAdNpApw30JEAvlvxiyW8kQAc6baDTpiJA",
          "dtype": "f8"
         },
         "yaxis": "y"
        },
        {
         "hovertemplate": "Year: %{x|%Y}<br>Temp: %{y:.2f}°C",
         "legendgroup": "Dhading",
         "line": {
          "color": "#00cc96",
          "dash": "solid"
         },
         "marker": {
          "symbol": "circle"
         },
         "mode": "lines+markers",
         "name": "Dhading",
         "showlegend": true,
         "type": "scattergl",
         "x": [
          "1981-12-31T00:00:00.000000000",
          "1982-12-31T00:00:00.000000000",
          "1983-12-31T00:00:00.000000000",
          "1984-12-31T00:00:00.000000000",
          "1985-12-31T00:00:00.000000000",
          "1986-12-31T00:00:00.000000000",
          "1987-12-31T00:00:00.000000000",
          "1988-12-31T00:00:00.000000000",
          "1989-12-31T00:00:00.000000000",
          "1990-12-31T00:00:00.000000000",
          "1991-12-31T00:00:00.000000000",
          "1992-12-31T00:00:00.000000000",
          "1993-12-31T00:00:00.000000000",
          "1994-12-31T00:00:00.000000000",
          "1995-12-31T00:00:00.000000000",
          "1996-12-31T00:00:00.000000000",
          "1997-12-31T00:00:00.000000000",
          "1998-12-31T00:00:00.000000000",
          "1999-12-31T00:00:00.000000000",
          "2000-12-31T00:00:00.000000000",
          "2001-12-31T00:00:00.000000000",
          "2002-12-31T00:00:00.000000000",
          "2003-12-31T00:00:00.000000000",
          "2004-12-31T00:00:00.000000000",
          "2005-12-31T00:00:00.000000000",
          "2006-12-31T00:00:00.000000000",
          "2007-12-31T00:00:00.000000000",
          "2008-12-31T00:00:00.000000000",
          "2009-12-31T00:00:00.000000000",
          "2010-12-31T00:00:00.000000000",
          "2011-12-31T00:00:00.000000000",
          "2012-12-31T00:00:00.000000000",
          "2013-12-31T00:00:00.000000000",
          "2014-12-31T00:00:00.000000000",
          "2015-12-31T00:00:00.000000000",
          "2016-12-31T00:00:00.000000000",
          "2017-12-31T00:00:00.000000000",
          "2018-12-31T00:00:00.000000000",
          "2019-12-31T00:00:00.000000000"
         ],
         "xaxis": "x",
         "y": {
          "bdata": "uB6F61EoMEBBpw102nAwQL9Y8oslvzBALfnFkl+cMEBZ8oslv8gwQI/C9ShcfzBAseQXS34BMUADnTbQaSMxQAOdNtBpwzBAvLu7u7sLMUDhehSuR0ExQBvotIFO+zBAcT0K16MAMUC4HoXrUWgxQD0K16NwDTFAk18s+cUCMUCuR+F6FI4wQDMzMzMzYzFARERERETEMUCTXyz5xdIwQDCW/GLJPzFAERERERFRMUC4HoXrURgxQC35xZJfXDBA0wY6baCTMEANdNpAp70wQPnFkl8sWTBAiYiIiIhYMEBcj8L1KCwxQPKLJb9YUjFAq6qqqqo6MECZmZmZmXkwQKuqqqqqOjBAN9BpA52WMEAYS36x5KcwQHE9CtejQDFAMzMzMzMzMUAlv1jyi5UwQP1iyS+WjDBA",
          "dtype": "f8"
         },
         "yaxis": "y"
        },
        {
         "hovertemplate": "Year: %{x|%Y}<br>Temp: %{y:.2f}°C",
         "legendgroup": "Dhankuta",
         "line": {
          "color": "#ab63fa",
          "dash": "solid"
         },
         "marker": {
          "symbol": "circle"
         },
         "mode": "lines+markers",
         "name": "Dhankuta",
         "showlegend": true,
         "type": "scattergl",
         "x": [
          "1981-12-31T00:00:00.000000000",
          "1982-12-31T00:00:00.000000000",
          "1983-12-31T00:00:00.000000000",
          "1984-12-31T00:00:00.000000000",
          "1985-12-31T00:00:00.000000000",
          "1986-12-31T00:00:00.000000000",
          "1987-12-31T00:00:00.000000000",
          "1988-12-31T00:00:00.000000000",
          "1989-12-31T00:00:00.000000000",
          "1990-12-31T00:00:00.000000000",
          "1991-12-31T00:00:00.000000000",
          "1992-12-31T00:00:00.000000000",
          "1993-12-31T00:00:00.000000000",
          "1994-12-31T00:00:00.000000000",
          "1995-12-31T00:00:00.000000000",
          "1996-12-31T00:00:00.000000000",
          "1997-12-31T00:00:00.000000000",
          "1998-12-31T00:00:00.000000000",
          "1999-12-31T00:00:00.000000000",
          "2000-12-31T00:00:00.000000000",
          "2001-12-31T00:00:00.000000000",
          "2002-12-31T00:00:00.000000000",
          "2003-12-31T00:00:00.000000000",
          "2004-12-31T00:00:00.000000000",
          "2005-12-31T00:00:00.000000000",
          "2006-12-31T00:00:00.000000000",
          "2007-12-31T00:00:00.000000000",
          "2008-12-31T00:00:00.000000000",
          "2009-12-31T00:00:00.000000000",
          "2010-12-31T00:00:00.000000000",
          "2011-12-31T00:00:00.000000000",
          "2012-12-31T00:00:00.000000000",
          "2013-12-31T00:00:00.000000000",
          "2014-12-31T00:00:00.000000000",
          "2015-12-31T00:00:00.000000000",
          "2016-12-31T00:00:00.000000000",
          "2017-12-31T00:00:00.000000000",
          "2018-12-31T00:00:00.000000000",
          "2019-12-31T00:00:00.000000000"
         ],
         "xaxis": "x",
         "y": {
          "bdata": "7FG4HoVrLUBERERERKQtQLy7u7u7uy1ASOF6FK7HLUA7baDTBjouQIXrUbgepS1AY8kvlvzCLkCX/GLJL1YvQMP1KFyPwi1AuB6F61H4LkCkcD0K16MuQBERERERUS5AoNMGOm0AL0AL16NwPaovQPnFkl8sGS9Aq6qqqqoqL0BLfrHkF6stQJX8Yskvdi9AVVVVVVUlMEBApw102qAuQBSuR+F6VC9AY8kvlvwCL0DsUbgehasuQLy7u7u7Gy5A20CnDXR6LkAREREREREvQM3MzMzMTC5AVVVVVVU1LkB4d3d3d1cvQHE9CtejMC9AWPKLJb+YLUDd3d3d3R0uQDCW/GLJby5AoNMGOm3gLkCkcD0K1+MuQN/d3d3dvS9APQrXo3BdL0BLfrHkFysuQFjyiyW/eC5A",
          "dtype": "f8"
         },
         "yaxis": "y"
        },
        {
         "hovertemplate": "Year: %{x|%Y}<br>Temp: %{y:.2f}°C",
         "legendgroup": "Dhanusa",
         "line": {
          "color": "#FFA15A",
          "dash": "solid"
         },
         "marker": {
          "symbol": "circle"
         },
         "mode": "lines+markers",
         "name": "Dhanusa",
         "showlegend": true,
         "type": "scattergl",
         "x": [
          "1981-12-31T00:00:00.000000000",
          "1982-12-31T00:00:00.000000000",
          "1983-12-31T00:00:00.000000000",
          "1984-12-31T00:00:00.000000000",
          "1985-12-31T00:00:00.000000000",
          "1986-12-31T00:00:00.000000000",
          "1987-12-31T00:00:00.000000000",
          "1988-12-31T00:00:00.000000000",
          "1989-12-31T00:00:00.000000000",
          "1990-12-31T00:00:00.000000000",
          "1991-12-31T00:00:00.000000000",
          "1992-12-31T00:00:00.000000000",
          "1993-12-31T00:00:00.000000000",
          "1994-12-31T00:00:00.000000000",
          "1995-12-31T00:00:00.000000000",
          "1996-12-31T00:00:00.000000000",
          "1997-12-31T00:00:00.000000000",
          "1998-12-31T00:00:00.000000000",
          "1999-12-31T00:00:00.000000000",
          "2000-12-31T00:00:00.000000000",
          "2001-12-31T00:00:00.000000000",
          "2002-12-31T00:00:00.000000000",
          "2003-12-31T00:00:00.000000000",
          "2004-12-31T00:00:00.000000000",
          "2005-12-31T00:00:00.000000000",
          "2006-12-31T00:00:00.000000000",
          "2007-12-31T00:00:00.000000000",
          "2008-12-31T00:00:00.000000000",
          "2009-12-31T00:00:00.000000000",
          "2010-12-31T00:00:00.000000000",
          "2011-12-31T00:00:00.000000000",
          "2012-12-31T00:00:00.000000000",
          "2013-12-31T00:00:00.000000000",
          "2014-12-31T00:00:00.000000000",
          "2015-12-31T00:00:00.000000000",
          "2016-12-31T00:00:00.000000000",
          "2017-12-31T00:00:00.000000000",
          "2018-12-31T00:00:00.000000000",
          "2019-12-31T00:00:00.000000000"
         ],
         "xaxis": "x",
         "y": {
          "bdata": "uB6F61F4OEAfhetRuP44QDttoNMGmjlAO22g0waaOEBLfrHkF/s4QOUXS36xxDhAOW2g0wYKOUBZ8oslvzg5QHsUrkfhKjlA+cWSXyx5OUAYS36x5Oc5QFG4HoXr0TlAw/UoXI+COUBjyS+W/PI5QDMzMzMzkzlAG+i0gU5bOUDv7u7u7v44QCMiIiIiYjlAeHd3d3f3OUCdNtBpAw05QJf8YskvRjlApw102kCHOUC4HoXrURg5QJDC9ShcrzhA5BdLfrEkOUBBpw102uA4QDfQaQOdNjhAyS+W/GJJOEBpA5020Fk5QP1iyS+WbDlAqA102kBXOEAHOm2g04Y4QM3MzMzMLDhAdNpApw2kOECnDXTaQDc5QPxiyS+WrDlA/GLJL5acOUANdNpAp105QKcNdNpARzlA",
          "dtype": "f8"
         },
         "yaxis": "y"
        },
        {
         "hovertemplate": "Year: %{x|%Y}<br>Temp: %{y:.2f}°C",
         "legendgroup": "Dolkha",
         "line": {
          "color": "#19d3f3",
          "dash": "solid"
         },
         "marker": {
          "symbol": "circle"
         },
         "mode": "lines+markers",
         "name": "Dolkha",
         "showlegend": true,
         "type": "scattergl",
         "x": [
          "1981-12-31T00:00:00.000000000",
          "1982-12-31T00:00:00.000000000",
          "1983-12-31T00:00:00.000000000",
          "1984-12-31T00:00:00.000000000",
          "1985-12-31T00:00:00.000000000",
          "1986-12-31T00:00:00.000000000",
          "1987-12-31T00:00:00.000000000",
          "1988-12-31T00:00:00.000000000",
          "1989-12-31T00:00:00.000000000",
          "1990-12-31T00:00:00.000000000",
          "1991-12-31T00:00:00.000000000",
          "1992-12-31T00:00:00.000000000",
          "1993-12-31T00:00:00.000000000",
          "1994-12-31T00:00:00.000000000",
          "1995-12-31T00:00:00.000000000",
          "1996-12-31T00:00:00.000000000",
          "1997-12-31T00:00:00.000000000",
          "1998-12-31T00:00:00.000000000",
          "1999-12-31T00:00:00.000000000",
          "2000-12-31T00:00:00.000000000",
          "2001-12-31T00:00:00.000000000",
          "2002-12-31T00:00:00.000000000",
          "2003-12-31T00:00:00.000000000",
          "2004-12-31T00:00:00.000000000",
          "2005-12-31T00:00:00.000000000",
          "2006-12-31T00:00:00.000000000",
          "2007-12-31T00:00:00.000000000",
          "2008-12-31T00:00:00.000000000",
          "2009-12-31T00:00:00.000000000",
          "2010-12-31T00:00:00.000000000",
          "2011-12-31T00:00:00.000000000",
          "2012-12-31T00:00:00.000000000",
          "2013-12-31T00:00:00.000000000",
          "2014-12-31T00:00:00.000000000",
          "2015-12-31T00:00:00.000000000",
          "2016-12-31T00:00:00.000000000",
          "2017-12-31T00:00:00.000000000",
          "2018-12-31T00:00:00.000000000",
          "2019-12-31T00:00:00.000000000"
         ],
         "xaxis": "x",
         "y": {
          "bdata": "mZmZmZnZHEBjyS+W/KIcQAOdNtBpwxxAk18s+cUSHkCZmZmZmZkeQBhLfrHklxxAIyIiIiJiH0DQaQOdNjAgQDCW/GLJrx1ADXTaQKfNH0DD9Shcj8IeQAvXo3A9Ch5AKVyPwvVoH0DhehSuR6EfQOF6FK5H4R5AWfKLJb9YH0D5xZJfLDkcQAAAAAAA4CBAj8L1KFxPIUD1KFyPwrUeQMP1KFyPYiBAnTbQaQPdH0Dd3d3d3Z0fQAvXo3A9Sh5Al/xiyS/WHUBfLPnFkj8gQMP1KFyPQh9A+cWSXyx5HkCX/GLJL5YgQGdmZmZmpiBA1AY6baDTHUDNzMzMzIwdQHh3d3d3tx5AyS+W/GLJHkAHOm2g08YeQDfQaQOdtiBAagOdNtApIEA9CtejcH0eQPnFkl8suR5A",
          "dtype": "f8"
         },
         "yaxis": "y"
        },
        {
         "hovertemplate": "Year: %{x|%Y}<br>Temp: %{y:.2f}°C",
         "legendgroup": "Dolpa",
         "line": {
          "color": "#FF6692",
          "dash": "solid"
         },
         "marker": {
          "symbol": "circle"
         },
         "mode": "lines+markers",
         "name": "Dolpa",
         "showlegend": true,
         "type": "scattergl",
         "x": [
          "1981-12-31T00:00:00.000000000",
          "1982-12-31T00:00:00.000000000",
          "1983-12-31T00:00:00.000000000",
          "1984-12-31T00:00:00.000000000",
          "1985-12-31T00:00:00.000000000",
          "1986-12-31T00:00:00.000000000",
          "1987-12-31T00:00:00.000000000",
          "1988-12-31T00:00:00.000000000",
          "1989-12-31T00:00:00.000000000",
          "1990-12-31T00:00:00.000000000",
          "1991-12-31T00:00:00.000000000",
          "1992-12-31T00:00:00.000000000",
          "1993-12-31T00:00:00.000000000",
          "1994-12-31T00:00:00.000000000",
          "1995-12-31T00:00:00.000000000",
          "1996-12-31T00:00:00.000000000",
          "1997-12-31T00:00:00.000000000",
          "1998-12-31T00:00:00.000000000",
          "1999-12-31T00:00:00.000000000",
          "2000-12-31T00:00:00.000000000",
          "2001-12-31T00:00:00.000000000",
          "2002-12-31T00:00:00.000000000",
          "2003-12-31T00:00:00.000000000",
          "2004-12-31T00:00:00.000000000",
          "2005-12-31T00:00:00.000000000",
          "2006-12-31T00:00:00.000000000",
          "2007-12-31T00:00:00.000000000",
          "2008-12-31T00:00:00.000000000",
          "2009-12-31T00:00:00.000000000",
          "2010-12-31T00:00:00.000000000",
          "2011-12-31T00:00:00.000000000",
          "2012-12-31T00:00:00.000000000",
          "2013-12-31T00:00:00.000000000",
          "2014-12-31T00:00:00.000000000",
          "2015-12-31T00:00:00.000000000",
          "2016-12-31T00:00:00.000000000",
          "2017-12-31T00:00:00.000000000",
          "2018-12-31T00:00:00.000000000",
          "2019-12-31T00:00:00.000000000"
         ],
         "xaxis": "x",
         "y": {
          "bdata": "7LSBThvo0D+DseQXS37JP2kDnTbQadc/MJb8Yskv7j830GkDnTbqP/OLJb9Y8tc/uB6F61G49z/v7u7u7u73P5020GkDnew/cT0K16Nw+j8RERERERH0PzfQaQOdNvM/43oUrkfh+z8lv1jyiyX4P5qZmZmZmfQ/Jb9Y8osl+T+PwvUoXI/kP2ZmZmZmZgJAbaDTBjrtAkDgehSuR+H2P1nyiyW/WPw/ERERERER+T/jehSuR+H2Py35xZJfLPk/JCIiIiIi3j8YS36x5Bf4P5j8Yskvluw/Xyz5xZJf8j/Vo3A9Ctf4P9tApw102vo/MZb8Yskv7j/JL5b8YsnTP6uqqqqqquQ/ISIiIiIi6D8EnTbQaQPlPxvotIFOmwFAjCW/WPKL+j/Fkl8s+cX3P+Dd3d3d3dU/",
          "dtype": "f8"
         },
         "yaxis": "y"
        },
        {
         "hovertemplate": "Year: %{x|%Y}<br>Temp: %{y:.2f}°C",
         "legendgroup": "Doti",
         "line": {
          "color": "#B6E880",
          "dash": "solid"
         },
         "marker": {
          "symbol": "circle"
         },
         "mode": "lines+markers",
         "name": "Doti",
         "showlegend": true,
         "type": "scattergl",
         "x": [
          "1981-12-31T00:00:00.000000000",
          "1982-12-31T00:00:00.000000000",
          "1983-12-31T00:00:00.000000000",
          "1984-12-31T00:00:00.000000000",
          "1985-12-31T00:00:00.000000000",
          "1986-12-31T00:00:00.000000000",
          "1987-12-31T00:00:00.000000000",
          "1988-12-31T00:00:00.000000000",
          "1989-12-31T00:00:00.000000000",
          "1990-12-31T00:00:00.000000000",
          "1991-12-31T00:00:00.000000000",
          "1992-12-31T00:00:00.000000000",
          "1993-12-31T00:00:00.000000000",
          "1994-12-31T00:00:00.000000000",
          "1995-12-31T00:00:00.000000000",
          "1996-12-31T00:00:00.000000000",
          "1997-12-31T00:00:00.000000000",
          "1998-12-31T00:00:00.000000000",
          "1999-12-31T00:00:00.000000000",
          "2000-12-31T00:00:00.000000000",
          "2001-12-31T00:00:00.000000000",
          "2002-12-31T00:00:00.000000000",
          "2003-12-31T00:00:00.000000000",
          "2004-12-31T00:00:00.000000000",
          "2005-12-31T00:00:00.000000000",
          "2006-12-31T00:00:00.000000000",
          "2007-12-31T00:00:00.000000000",
          "2008-12-31T00:00:00.000000000",
          "2009-12-31T00:00:00.000000000",
          "2010-12-31T00:00:00.000000000",
          "2011-12-31T00:00:00.000000000",
          "2012-12-31T00:00:00.000000000",
          "2013-12-31T00:00:00.000000000",
          "2014-12-31T00:00:00.000000000",
          "2015-12-31T00:00:00.000000000",
          "2016-12-31T00:00:00.000000000",
          "2017-12-31T00:00:00.000000000",
          "2018-12-31T00:00:00.000000000",
          "2019-12-31T00:00:00.000000000"
         ],
         "xaxis": "x",
         "y": {
          "bdata": "BzptoNMGMED5xZJfLBkwQCIiIiIiEjBA7+7u7u5+MEDhehSuR6EwQKHTBjptMDBAS36x5BeLMUDziyW/WBIxQDfQaQOd1jBAYCz5xZLvMEDrUbgehRsxQEt+seQX2zBApHA9CtcjMUCkcD0K10MxQPOLJb9YEjFA4XoUrkfxMEA6baDTBlowQNBpA502UDFA6LSBThvIMUAfhetRuJ4wQFnyiyW/KDFAmZmZmZmJMUDotIFOG+gwQJf8Yskv1jBAVVVVVVVVMEB+seQXS94wQBERERERQTBA4XoUrkdBMEA30GkDnTYxQL9Y8oslTzFAXyz5xZIPMEDXo3A9CncwQHE9CtejYDBArkfhehTOMED9YskvlswwQBWuR+F6lDFAq6qqqqpqMUBVVVVVVeUwQDptoNMGWjBA",
          "dtype": "f8"
         },
         "yaxis": "y"
        },
        {
         "hovertemplate": "Year: %{x|%Y}<br>Temp: %{y:.2f}°C",
         "legendgroup": "Gorkha",
         "line": {
          "color": "#FF97FF",
          "dash": "solid"
         },
         "marker": {
          "symbol": "circle"
         },
         "mode": "lines+markers",
         "name": "Gorkha",
         "showlegend": true,
         "type": "scattergl",
         "x": [
          "1981-12-31T00:00:00.000000000",
          "1982-12-31T00:00:00.000000000",
          "1983-12-31T00:00:00.000000000",
          "1984-12-31T00:00:00.000000000",
          "1985-12-31T00:00:00.000000000",
          "1986-12-31T00:00:00.000000000",
          "1987-12-31T00:00:00.000000000",
          "1988-12-31T00:00:00.000000000",
          "1989-12-31T00:00:00.000000000",
          "1990-12-31T00:00:00.000000000",
          "1991-12-31T00:00:00.000000000",
          "1992-12-31T00:00:00.000000000",
          "1993-12-31T00:00:00.000000000",
          "1994-12-31T00:00:00.000000000",
          "1995-12-31T00:00:00.000000000",
          "1996-12-31T00:00:00.000000000",
          "1997-12-31T00:00:00.000000000",
          "1998-12-31T00:00:00.000000000",
          "1999-12-31T00:00:00.000000000",
          "2000-12-31T00:00:00.000000000",
          "2001-12-31T00:00:00.000000000",
          "2002-12-31T00:00:00.000000000",
          "2003-12-31T00:00:00.000000000",
          "2004-12-31T00:00:00.000000000",
          "2005-12-31T00:00:00.000000000",
          "2006-12-31T00:00:00.000000000",
          "2007-12-31T00:00:00.000000000",
          "2008-12-31T00:00:00.000000000",
          "2009-12-31T00:00:00.000000000",
          "2010-12-31T00:00:00.000000000",
          "2011-12-31T00:00:00.000000000",
          "2012-12-31T00:00:00.000000000",
          "2013-12-31T00:00:00.000000000",
          "2014-12-31T00:00:00.000000000",
          "2015-12-31T00:00:00.000000000",
          "2016-12-31T00:00:00.000000000",
          "2017-12-31T00:00:00.000000000",
          "2018-12-31T00:00:00.000000000",
          "2019-12-31T00:00:00.000000000"
         ],
         "xaxis": "x",
         "y": {
          "bdata": "20CnDXSaIkBcj8L1KJwiQL9Y8osl/yJAZ2ZmZmaGI0Ab6LSBTrsjQHsUrkfh+iJAZ2ZmZmYmJEC4HoXrUZgkQF8s+cWSfyNAjCW/WPJLJEC7u7u7uxskQA102kCnrSNAAAAAAAAgJECkcD0K12MkQMaSXyz55SNA+cWSXyz5I0AL16NwPeoiQIXrUbgeRSVA+cWSXyyZJUDGkl8s+eUjQLHkF0t+0SRA0GkDnTaQJEAREREREVEkQIXrUbgehSNAuB6F61H4IkCPwvUoXE8kQN7d3d3dfSNAOm2g0wZ6I0B3d3d3d7ckQEVEREREJCVAZmZmZmZmI0AHOm2g0yYjQM3MzMzMLCNAfrHkF0t+I0Bcj8L1KBwjQD0K16Nw3SRA0GkDnTZQJECx5BdLfnEjQGZmZmZmxiJA",
          "dtype": "f8"
         },
         "yaxis": "y"
        },
        {
         "hovertemplate": "Year: %{x|%Y}<br>Temp: %{y:.2f}°C",
         "legendgroup": "Gulmi",
         "line": {
          "color": "#FECB52",
          "dash": "solid"
         },
         "marker": {
          "symbol": "circle"
         },
         "mode": "lines+markers",
         "name": "Gulmi",
         "showlegend": true,
         "type": "scattergl",
         "x": [
          "1981-12-31T00:00:00.000000000",
          "1982-12-31T00:00:00.000000000",
          "1983-12-31T00:00:00.000000000",
          "1984-12-31T00:00:00.000000000",
          "1985-12-31T00:00:00.000000000",
          "1986-12-31T00:00:00.000000000",
          "1987-12-31T00:00:00.000000000",
          "1988-12-31T00:00:00.000000000",
          "1989-12-31T00:00:00.000000000",
          "1990-12-31T00:00:00.000000000",
          "1991-12-31T00:00:00.000000000",
          "1992-12-31T00:00:00.000000000",
          "1993-12-31T00:00:00.000000000",
          "1994-12-31T00:00:00.000000000",
          "1995-12-31T00:00:00.000000000",
          "1996-12-31T00:00:00.000000000",
          "1997-12-31T00:00:00.000000000",
          "1998-12-31T00:00:00.000000000",
          "1999-12-31T00:00:00.000000000",
          "2000-12-31T00:00:00.000000000",
          "2001-12-31T00:00:00.000000000",
          "2002-12-31T00:00:00.000000000",
          "2003-12-31T00:00:00.000000000",
          "2004-12-31T00:00:00.000000000",
          "2005-12-31T00:00:00.000000000",
          "2006-12-31T00:00:00.000000000",
          "2007-12-31T00:00:00.000000000",
          "2008-12-31T00:00:00.000000000",
          "2009-12-31T00:00:00.000000000",
          "2010-12-31T00:00:00.000000000",
          "2011-12-31T00:00:00.000000000",
          "2012-12-31T00:00:00.000000000",
          "2013-12-31T00:00:00.000000000",
          "2014-12-31T00:00:00.000000000",
          "2015-12-31T00:00:00.000000000",
          "2016-12-31T00:00:00.000000000",
          "2017-12-31T00:00:00.000000000",
          "2018-12-31T00:00:00.000000000",
          "2019-12-31T00:00:00.000000000"
         ],
         "xaxis": "x",
         "y": {
          "bdata": "XI/C9Sh8K0DbQKcNdJorQN3d3d3d/StASOF6FK5nLEBcj8L1KLwsQASdNtBpAyxA/GLJL5acLUAL16NwPYotQJf8YskvVixAXI/C9Sj8LEBVVVVVVVUtQO/u7u7uzixAcT0K16MwLUC4HoXrUZgtQOxRuB6FKy1Ak18s+cUyLUBgLPnFkl8sQBhLfrHkFy5A/WLJL5a8LkD5xZJfLNksQDfQaQOdli1AQacNdNogLkBERERERIQtQA102kCnzSxAZ2ZmZmZGLEBI4XoUrscsQMkvlvxiKSxAtYFOG+gULECX/GLJL3YtQL9Y8osl/y1AvLu7u7v7K0CTXyz5xRIsQE8b6LSBzitATxvotIFuLEBEREREREQsQKRwPQrXwy1A3d3d3d19LUBVVVVVVXUsQJ020GkD/StA",
          "dtype": "f8"
         },
         "yaxis": "y"
        },
        {
         "hovertemplate": "Year: %{x|%Y}<br>Temp: %{y:.2f}°C",
         "legendgroup": "Humla",
         "line": {
          "color": "#636efa",
          "dash": "solid"
         },
         "marker": {
          "symbol": "circle"
         },
         "mode": "lines+markers",
         "name": "Humla",
         "showlegend": true,
         "type": "scattergl",
         "x": [
          "1981-12-31T00:00:00.000000000",
          "1982-12-31T00:00:00.000000000",
          "1983-12-31T00:00:00.000000000",
          "1984-12-31T00:00:00.000000000",
          "1985-12-31T00:00:00.000000000",
          "1986-12-31T00:00:00.000000000",
          "1987-12-31T00:00:00.000000000",
          "1988-12-31T00:00:00.000000000",
          "1989-12-31T00:00:00.000000000",
          "1990-12-31T00:00:00.000000000",
          "1991-12-31T00:00:00.000000000",
          "1992-12-31T00:00:00.000000000",
          "1993-12-31T00:00:00.000000000",
          "1994-12-31T00:00:00.000000000",
          "1995-12-31T00:00:00.000000000",
          "1996-12-31T00:00:00.000000000",
          "1997-12-31T00:00:00.000000000",
          "1998-12-31T00:00:00.000000000",
          "1999-12-31T00:00:00.000000000",
          "2000-12-31T00:00:00.000000000",
          "2001-12-31T00:00:00.000000000",
          "2002-12-31T00:00:00.000000000",
          "2003-12-31T00:00:00.000000000",
          "2004-12-31T00:00:00.000000000",
          "2005-12-31T00:00:00.000000000",
          "2006-12-31T00:00:00.000000000",
          "2007-12-31T00:00:00.000000000",
          "2008-12-31T00:00:00.000000000",
          "2009-12-31T00:00:00.000000000",
          "2010-12-31T00:00:00.000000000",
          "2011-12-31T00:00:00.000000000",
          "2012-12-31T00:00:00.000000000",
          "2013-12-31T00:00:00.000000000",
          "2014-12-31T00:00:00.000000000",
          "2015-12-31T00:00:00.000000000",
          "2016-12-31T00:00:00.000000000",
          "2017-12-31T00:00:00.000000000",
          "2018-12-31T00:00:00.000000000",
          "2019-12-31T00:00:00.000000000"
         ],
         "xaxis": "x",
         "y": {
          "bdata": "9Shcj8J1DcCkcD0K16MKwLu7u7u7OwzApHA9CtejBcDrUbgehWsHwKuqqqqqKgvA0GkDnTbQAsC8u7u7u7sAwOF6FK5H4QjARURERERE/r9Y8oslv1gGwLy7u7u7OwPA9Shcj8J1AMDJL5b8YskCwH2x5BdLfgbApw102kAnAsB7FK5H4XoKwGdmZmZmZvu/tYFOG+i097+/WPKLJb8BwMWSXyz5xf6/OW2g0wa6AsB7FK5H4XoDwFVVVVVVVQDAf7HkF0v+CMCnDXTaQCcBwCz5xZJfrAbAZ2ZmZmZmA8AAAAAAAAACwMP1KFyPQgHAXI/C9ShcBcAb6LSBThsJwFjyiyW/WAfAO22g0wY6CMA5baDTBjoIwAAAAAAAAPS/O22g0wY6/r+qqqqqqioAwASdNtBpAwzA",
          "dtype": "f8"
         },
         "yaxis": "y"
        },
        {
         "hovertemplate": "Year: %{x|%Y}<br>Temp: %{y:.2f}°C",
         "legendgroup": "Ilam",
         "line": {
          "color": "#EF553B",
          "dash": "solid"
         },
         "marker": {
          "symbol": "circle"
         },
         "mode": "lines+markers",
         "name": "Ilam",
         "showlegend": true,
         "type": "scattergl",
         "x": [
          "1981-12-31T00:00:00.000000000",
          "1982-12-31T00:00:00.000000000",
          "1983-12-31T00:00:00.000000000",
          "1984-12-31T00:00:00.000000000",
          "1985-12-31T00:00:00.000000000",
          "1986-12-31T00:00:00.000000000",
          "1987-12-31T00:00:00.000000000",
          "1988-12-31T00:00:00.000000000",
          "1989-12-31T00:00:00.000000000",
          "1990-12-31T00:00:00.000000000",
          "1991-12-31T00:00:00.000000000",
          "1992-12-31T00:00:00.000000000",
          "1993-12-31T00:00:00.000000000",
          "1994-12-31T00:00:00.000000000",
          "1995-12-31T00:00:00.000000000",
          "1996-12-31T00:00:00.000000000",
          "1997-12-31T00:00:00.000000000",
          "1998-12-31T00:00:00.000000000",
          "1999-12-31T00:00:00.000000000",
          "2000-12-31T00:00:00.000000000",
          "2001-12-31T00:00:00.000000000",
          "2002-12-31T00:00:00.000000000",
          "2003-12-31T00:00:00.000000000",
          "2004-12-31T00:00:00.000000000",
          "2005-12-31T00:00:00.000000000",
          "2006-12-31T00:00:00.000000000",
          "2007-12-31T00:00:00.000000000",
          "2008-12-31T00:00:00.000000000",
          "2009-12-31T00:00:00.000000000",
          "2010-12-31T00:00:00.000000000",
          "2011-12-31T00:00:00.000000000",
          "2012-12-31T00:00:00.000000000",
          "2013-12-31T00:00:00.000000000",
          "2014-12-31T00:00:00.000000000",
          "2015-12-31T00:00:00.000000000",
          "2016-12-31T00:00:00.000000000",
          "2017-12-31T00:00:00.000000000",
          "2018-12-31T00:00:00.000000000",
          "2019-12-31T00:00:00.000000000"
         ],
         "xaxis": "x",
         "y": {
          "bdata": "/WLJL5YcNUAt+cWSXyw1QNQGOm2gczVA5RdLfrEkNUCZmZmZmYk1QMeSXyz5ZTVAMzMzMzPTNUBcj8L1KDw2QG2g0wY6bTVAdNpApw3kNUD1KFyPwtU1QKRwPQrXszVALPnFkl8MNkA7baDTBmo2QOxRuB6FOzZAREREREQUNkDQaQOdNmA1QM3MzMzMrDVAtYFOG+gUNkB7FK5H4Xo1QDCW/GLJvzVARERERESENUApXI/C9Xg1QI/C9ShcTzVAuB6F61G4NUBPG+i0gb41QC35xZJfTDVAgU4b6LRhNUB3d3d3d8c1QI/C9ShcvzVAPQrXo3ANNUBI4XoUrnc1QNQGOm2gkzVAbaDTBjrtNUDQaQOdNiA2QCMiIiIicjZA20CnDXQaNkD5xZJfLIk1QBzotIFOqzVA",
          "dtype": "f8"
         },
         "yaxis": "y"
        },
        {
         "hovertemplate": "Year: %{x|%Y}<br>Temp: %{y:.2f}°C",
         "legendgroup": "Jhapa",
         "line": {
          "color": "#00cc96",
          "dash": "solid"
         },
         "marker": {
          "symbol": "circle"
         },
         "mode": "lines+markers",
         "name": "Jhapa",
         "showlegend": true,
         "type": "scattergl",
         "x": [
          "1981-12-31T00:00:00.000000000",
          "1982-12-31T00:00:00.000000000",
          "1983-12-31T00:00:00.000000000",
          "1984-12-31T00:00:00.000000000",
          "1985-12-31T00:00:00.000000000",
          "1986-12-31T00:00:00.000000000",
          "1987-12-31T00:00:00.000000000",
          "1988-12-31T00:00:00.000000000",
          "1989-12-31T00:00:00.000000000",
          "1990-12-31T00:00:00.000000000",
          "1991-12-31T00:00:00.000000000",
          "1992-12-31T00:00:00.000000000",
          "1993-12-31T00:00:00.000000000",
          "1994-12-31T00:00:00.000000000",
          "1995-12-31T00:00:00.000000000",
          "1996-12-31T00:00:00.000000000",
          "1997-12-31T00:00:00.000000000",
          "1998-12-31T00:00:00.000000000",
          "1999-12-31T00:00:00.000000000",
          "2000-12-31T00:00:00.000000000",
          "2001-12-31T00:00:00.000000000",
          "2002-12-31T00:00:00.000000000",
          "2003-12-31T00:00:00.000000000",
          "2004-12-31T00:00:00.000000000",
          "2005-12-31T00:00:00.000000000",
          "2006-12-31T00:00:00.000000000",
          "2007-12-31T00:00:00.000000000",
          "2008-12-31T00:00:00.000000000",
          "2009-12-31T00:00:00.000000000",
          "2010-12-31T00:00:00.000000000",
          "2011-12-31T00:00:00.000000000",
          "2012-12-31T00:00:00.000000000",
          "2013-12-31T00:00:00.000000000",
          "2014-12-31T00:00:00.000000000",
          "2015-12-31T00:00:00.000000000",
          "2016-12-31T00:00:00.000000000",
          "2017-12-31T00:00:00.000000000",
          "2018-12-31T00:00:00.000000000",
          "2019-12-31T00:00:00.000000000"
         ],
         "xaxis": "x",
         "y": {
          "bdata": "4XoUrkdRNUAYS36x5Gc1QGAs+cWSrzVAaQOdNtBZNUCg0wY6bcA1QOi0gU4bmDVABzptoNMGNkANdNpAp202QNBpA502oDVAREREREQkNkDJL5b8Yhk2QG2g0wY6/TVAMJb8YslPNkAUrkfherQ2QDfQaQOddjZAhetRuB5VNkCIiIiIiKg1QIFOG+i08TVAf7HkF0teNkDNzMzMzMw1QIiIiIiICDZA84slv1jSNUDNzMzMzLw1QMkvlvxiiTVAzczMzMzsNUDziyW/WPI1QKcNdNpAdzVAk18s+cWSNUBnZmZmZgY2QHTaQKcN9DVAPQrXo3A9NUCX/GLJL6Y1QOF6FK5HsTVAx5JfLPkVNkCIiIiIiFg2QDttoNMGqjZATxvotIFeNkAEnTbQadM1QDCW/GLJ7zVA",
          "dtype": "f8"
         },
         "yaxis": "y"
        },
        {
         "hovertemplate": "Year: %{x|%Y}<br>Temp: %{y:.2f}°C",
         "legendgroup": "Jumla",
         "line": {
          "color": "#ab63fa",
          "dash": "solid"
         },
         "marker": {
          "symbol": "circle"
         },
         "mode": "lines+markers",
         "name": "Jumla",
         "showlegend": true,
         "type": "scattergl",
         "x": [
          "1981-12-31T00:00:00.000000000",
          "1982-12-31T00:00:00.000000000",
          "1983-12-31T00:00:00.000000000",
          "1984-12-31T00:00:00.000000000",
          "1985-12-31T00:00:00.000000000",
          "1986-12-31T00:00:00.000000000",
          "1987-12-31T00:00:00.000000000",
          "1988-12-31T00:00:00.000000000",
          "1989-12-31T00:00:00.000000000",
          "1990-12-31T00:00:00.000000000",
          "1991-12-31T00:00:00.000000000",
          "1992-12-31T00:00:00.000000000",
          "1993-12-31T00:00:00.000000000",
          "1994-12-31T00:00:00.000000000",
          "1995-12-31T00:00:00.000000000",
          "1996-12-31T00:00:00.000000000",
          "1997-12-31T00:00:00.000000000",
          "1998-12-31T00:00:00.000000000",
          "1999-12-31T00:00:00.000000000",
          "2000-12-31T00:00:00.000000000",
          "2001-12-31T00:00:00.000000000",
          "2002-12-31T00:00:00.000000000",
          "2003-12-31T00:00:00.000000000",
          "2004-12-31T00:00:00.000000000",
          "2005-12-31T00:00:00.000000000",
          "2006-12-31T00:00:00.000000000",
          "2007-12-31T00:00:00.000000000",
          "2008-12-31T00:00:00.000000000",
          "2009-12-31T00:00:00.000000000",
          "2010-12-31T00:00:00.000000000",
          "2011-12-31T00:00:00.000000000",
          "2012-12-31T00:00:00.000000000",
          "2013-12-31T00:00:00.000000000",
          "2014-12-31T00:00:00.000000000",
          "2015-12-31T00:00:00.000000000",
          "2016-12-31T00:00:00.000000000",
          "2017-12-31T00:00:00.000000000",
          "2018-12-31T00:00:00.000000000",
          "2019-12-31T00:00:00.000000000"
         ],
         "xaxis": "x",
         "y": {
          "bdata": "oNMGOm0gJEAYS36x5FckQImIiIiIaCRAZ2ZmZmZGJUBERERERIQlQC35xZJfjCRAXI/C9Sj8JkDd3d3d3X0mQPcoXI/CtSVAawOdNtBpJkC8u7u7u1smQJNfLPnF8iVAzczMzMysJkBI4XoUrscmQIFOG+i0YSZAbaDTBjqNJkB/seQXS/4kQDfQaQOdlidAtYFOG+gUKEB/seQXS94lQCz5xZJfzCZAZ2ZmZmYmJ0D8YskvllwmQLHkF0t+USZAS36x5BfrJEDotIFOGygmQFVVVVVV9SRAq6qqqqoqJUDlF0t+saQmQKRwPQrX4yZAodMGOm3AJEC/WPKLJd8kQNBpA502ECVAl/xiyS+WJUAb6LSBTpslQEjhehSupydA16NwPQoXJ0D5xZJfLDkmQHd3d3d31yRA",
          "dtype": "f8"
         },
         "yaxis": "y"
        },
        {
         "hovertemplate": "Year: %{x|%Y}<br>Temp: %{y:.2f}°C",
         "legendgroup": "Kabhre",
         "line": {
          "color": "#FFA15A",
          "dash": "solid"
         },
         "marker": {
          "symbol": "circle"
         },
         "mode": "lines+markers",
         "name": "Kabhre",
         "showlegend": true,
         "type": "scattergl",
         "x": [
          "1981-12-31T00:00:00.000000000",
          "1982-12-31T00:00:00.000000000",
          "1983-12-31T00:00:00.000000000",
          "1984-12-31T00:00:00.000000000",
          "1985-12-31T00:00:00.000000000",
          "1986-12-31T00:00:00.000000000",
          "1987-12-31T00:00:00.000000000",
          "1988-12-31T00:00:00.000000000",
          "1989-12-31T00:00:00.000000000",
          "1990-12-31T00:00:00.000000000",
          "1991-12-31T00:00:00.000000000",
          "1992-12-31T00:00:00.000000000",
          "1993-12-31T00:00:00.000000000",
          "1994-12-31T00:00:00.000000000",
          "1995-12-31T00:00:00.000000000",
          "1996-12-31T00:00:00.000000000",
          "1997-12-31T00:00:00.000000000",
          "1998-12-31T00:00:00.000000000",
          "1999-12-31T00:00:00.000000000",
          "2000-12-31T00:00:00.000000000",
          "2001-12-31T00:00:00.000000000",
          "2002-12-31T00:00:00.000000000",
          "2003-12-31T00:00:00.000000000",
          "2004-12-31T00:00:00.000000000",
          "2005-12-31T00:00:00.000000000",
          "2006-12-31T00:00:00.000000000",
          "2007-12-31T00:00:00.000000000",
          "2008-12-31T00:00:00.000000000",
          "2009-12-31T00:00:00.000000000",
          "2010-12-31T00:00:00.000000000",
          "2011-12-31T00:00:00.000000000",
          "2012-12-31T00:00:00.000000000",
          "2013-12-31T00:00:00.000000000",
          "2014-12-31T00:00:00.000000000",
          "2015-12-31T00:00:00.000000000",
          "2016-12-31T00:00:00.000000000",
          "2017-12-31T00:00:00.000000000",
          "2018-12-31T00:00:00.000000000",
          "2019-12-31T00:00:00.000000000"
         ],
         "xaxis": "x",
         "y": {
          "bdata": "4XoUrkdhKEAREREREbEoQKuqqqqqCilAmZmZmZk5KUDhehSuR4EpQDfQaQOdtihADXTaQKftKUCBThvotEEqQKRwPQrXQylAoNMGOm0AKkB02kCnDRQqQGAs+cWSnylApHA9CtfjKUAzMzMzM3MqQGAs+cWS3ylAUbgehevxKUD1KFyPwrUoQIXrUbge5SpAmZmZmZl5K0DNzMzMzIwpQIXrUbgehSpAERERERFRKkBxPQrXoxAqQA102kCn7ShAH4XrUbgeKUA30GkDndYpQBhLfrHkFylAf7HkF0v+KEBBpw102oAqQBhLfrHktypAMzMzMzOzKECMJb9Y8gspQNtApw10+ihAhetRuB5lKUC4HoXrUXgpQHh3d3d3typAeHd3d3d3KkD1KFyPwlUpQClcj8L1aClA",
          "dtype": "f8"
         },
         "yaxis": "y"
        },
        {
         "hovertemplate": "Year: %{x|%Y}<br>Temp: %{y:.2f}°C",
         "legendgroup": "Kailali",
         "line": {
          "color": "#19d3f3",
          "dash": "solid"
         },
         "marker": {
          "symbol": "circle"
         },
         "mode": "lines+markers",
         "name": "Kailali",
         "showlegend": true,
         "type": "scattergl",
         "x": [
          "1981-12-31T00:00:00.000000000",
          "1982-12-31T00:00:00.000000000",
          "1983-12-31T00:00:00.000000000",
          "1984-12-31T00:00:00.000000000",
          "1985-12-31T00:00:00.000000000",
          "1986-12-31T00:00:00.000000000",
          "1987-12-31T00:00:00.000000000",
          "1988-12-31T00:00:00.000000000",
          "1989-12-31T00:00:00.000000000",
          "1990-12-31T00:00:00.000000000",
          "1991-12-31T00:00:00.000000000",
          "1992-12-31T00:00:00.000000000",
          "1993-12-31T00:00:00.000000000",
          "1994-12-31T00:00:00.000000000",
          "1995-12-31T00:00:00.000000000",
          "1996-12-31T00:00:00.000000000",
          "1997-12-31T00:00:00.000000000",
          "1998-12-31T00:00:00.000000000",
          "1999-12-31T00:00:00.000000000",
          "2000-12-31T00:00:00.000000000",
          "2001-12-31T00:00:00.000000000",
          "2002-12-31T00:00:00.000000000",
          "2003-12-31T00:00:00.000000000",
          "2004-12-31T00:00:00.000000000",
          "2005-12-31T00:00:00.000000000",
          "2006-12-31T00:00:00.000000000",
          "2007-12-31T00:00:00.000000000",
          "2008-12-31T00:00:00.000000000",
          "2009-12-31T00:00:00.000000000",
          "2010-12-31T00:00:00.000000000",
          "2011-12-31T00:00:00.000000000",
          "2012-12-31T00:00:00.000000000",
          "2013-12-31T00:00:00.000000000",
          "2014-12-31T00:00:00.000000000",
          "2015-12-31T00:00:00.000000000",
          "2016-12-31T00:00:00.000000000",
          "2017-12-31T00:00:00.000000000",
          "2018-12-31T00:00:00.000000000",
          "2019-12-31T00:00:00.000000000"
         ],
         "xaxis": "x",
         "y": {
          "bdata": "PQrXo3A9NkA7baDTBjo2QGAs+cWSXzZAG+i0gU6rNkDhehSuR8E2QEjhehSudzZAoNMGOm3gN0BnZmZmZiY3QH+x5BdL/jZAJb9Y8osFN0AwlvxiyX83QO/u7u7uDjdAMJb8YslvN0B02kCnDaQ3QOF6FK5HkTdA20CnDXQaN0DUBjptoPM2QHTaQKcNRDdAGEt+seT3N0CIiIiIiMg2QKDTBjptYDdAuB6F61H4N0Df3d3d3f02QJNfLPnF0jZAIyIiIiKSNkCMJb9Y8vs2QLy7u7u7SzZAtYFOG+g0NkAREREREUE3QHsUrkfhWjdABJ020GkTNkDD9Shcj5I2QOF6FK5HQTZAXI/C9SjsNkCvR+F6FP42QGPJL5b8kjdAUbgeheuRN0DNzMzMzOw2QPxiyS+WjDZA",
          "dtype": "f8"
         },
         "yaxis": "y"
        },
        {
         "hovertemplate": "Year: %{x|%Y}<br>Temp: %{y:.2f}°C",
         "legendgroup": "Kanchanpur",
         "line": {
          "color": "#FF6692",
          "dash": "solid"
         },
         "marker": {
          "symbol": "circle"
         },
         "mode": "lines+markers",
         "name": "Kanchanpur",
         "showlegend": true,
         "type": "scattergl",
         "x": [
          "1981-12-31T00:00:00.000000000",
          "1982-12-31T00:00:00.000000000",
          "1983-12-31T00:00:00.000000000",
          "1984-12-31T00:00:00.000000000",
          "1985-12-31T00:00:00.000000000",
          "1986-12-31T00:00:00.000000000",
          "1987-12-31T00:00:00.000000000",
          "1988-12-31T00:00:00.000000000",
          "1989-12-31T00:00:00.000000000",
          "1990-12-31T00:00:00.000000000",
          "1991-12-31T00:00:00.000000000",
          "1992-12-31T00:00:00.000000000",
          "1993-12-31T00:00:00.000000000",
          "1994-12-31T00:00:00.000000000",
          "1995-12-31T00:00:00.000000000",
          "1996-12-31T00:00:00.000000000",
          "1997-12-31T00:00:00.000000000",
          "1998-12-31T00:00:00.000000000",
          "1999-12-31T00:00:00.000000000",
          "2000-12-31T00:00:00.000000000",
          "2001-12-31T00:00:00.000000000",
          "2002-12-31T00:00:00.000000000",
          "2003-12-31T00:00:00.000000000",
          "2004-12-31T00:00:00.000000000",
          "2005-12-31T00:00:00.000000000",
          "2006-12-31T00:00:00.000000000",
          "2007-12-31T00:00:00.000000000",
          "2008-12-31T00:00:00.000000000",
          "2009-12-31T00:00:00.000000000",
          "2010-12-31T00:00:00.000000000",
          "2011-12-31T00:00:00.000000000",
          "2012-12-31T00:00:00.000000000",
          "2013-12-31T00:00:00.000000000",
          "2014-12-31T00:00:00.000000000",
          "2015-12-31T00:00:00.000000000",
          "2016-12-31T00:00:00.000000000",
          "2017-12-31T00:00:00.000000000",
          "2018-12-31T00:00:00.000000000",
          "2019-12-31T00:00:00.000000000"
         ],
         "xaxis": "x",
         "y": {
          "bdata": "Om2g0wa6M0At+cWSX0wzQH6x5BdLbjNAXI/C9Sj8M0CMJb9Y8vszQAc6baDTpjNA3t3d3d0tNUAwlvxiyX80QClcj8L1WDRAnTbQaQM9NEAiIiIiIoI0QBERERERUTRA0wY6baCDNECBThvotJE0QLy7u7u7azRAVVVVVVUFNEAAAAAAAJAzQJNfLPnFQjRApHA9CtfzNEBtoNMGOt0zQLWBThvoZDRAAAAAAADQNEBjyS+W/AI0QA102kCn/TNAnTbQaQO9M0AK16NwPVo0QBvotIFOuzNAoNMGOm2QM0DNzMzMzJw0QI/C9ShcrzRAKVyPwvVYM0DXo3A9CvczQFVVVVVVtTNAagOdNtBJNEDTBjptoDM0QIwlv1jy2zRA/WLJL5a8NEAiIiIiIkI0QLy7u7u7yzNA",
          "dtype": "f8"
         },
         "yaxis": "y"
        },
        {
         "hovertemplate": "Year: %{x|%Y}<br>Temp: %{y:.2f}°C",
         "legendgroup": "Kaski",
         "line": {
          "color": "#B6E880",
          "dash": "solid"
         },
         "marker": {
          "symbol": "circle"
         },
         "mode": "lines+markers",
         "name": "Kaski",
         "showlegend": true,
         "type": "scattergl",
         "x": [
          "1981-12-31T00:00:00.000000000",
          "1982-12-31T00:00:00.000000000",
          "1983-12-31T00:00:00.000000000",
          "1984-12-31T00:00:00.000000000",
          "1985-12-31T00:00:00.000000000",
          "1986-12-31T00:00:00.000000000",
          "1987-12-31T00:00:00.000000000",
          "1988-12-31T00:00:00.000000000",
          "1989-12-31T00:00:00.000000000",
          "1990-12-31T00:00:00.000000000",
          "1991-12-31T00:00:00.000000000",
          "1992-12-31T00:00:00.000000000",
          "1993-12-31T00:00:00.000000000",
          "1994-12-31T00:00:00.000000000",
          "1995-12-31T00:00:00.000000000",
          "1996-12-31T00:00:00.000000000",
          "1997-12-31T00:00:00.000000000",
          "1998-12-31T00:00:00.000000000",
          "1999-12-31T00:00:00.000000000",
          "2000-12-31T00:00:00.000000000",
          "2001-12-31T00:00:00.000000000",
          "2002-12-31T00:00:00.000000000",
          "2003-12-31T00:00:00.000000000",
          "2004-12-31T00:00:00.000000000",
          "2005-12-31T00:00:00.000000000",
          "2006-12-31T00:00:00.000000000",
          "2007-12-31T00:00:00.000000000",
          "2008-12-31T00:00:00.000000000",
          "2009-12-31T00:00:00.000000000",
          "2010-12-31T00:00:00.000000000",
          "2011-12-31T00:00:00.000000000",
          "2012-12-31T00:00:00.000000000",
          "2013-12-31T00:00:00.000000000",
          "2014-12-31T00:00:00.000000000",
          "2015-12-31T00:00:00.000000000",
          "2016-12-31T00:00:00.000000000",
          "2017-12-31T00:00:00.000000000",
          "2018-12-31T00:00:00.000000000",
          "2019-12-31T00:00:00.000000000"
         ],
         "xaxis": "x",
         "y": {
          "bdata": "f7HkF0ueKECMJb9Y8ssoQNtApw10OilAnTbQaQOdKUDbQKcNdNopQBSuR+F6NClAbaDTBjptKkCkcD0K16MqQBzotIFOmylAl/xiyS82KkBgLPnFkl8qQGAs+cWS/ylAgU4b6LRBKkApXI/C9agqQAAAAAAAICpAQacNdNogKkCBThvotEEpQE8b6LSBLitAuB6F61G4K0AREREREfEpQHE9Ctej0CpA84slv1jyKkCBThvotIEqQAAAAAAAoClAeHd3d3c3KUApXI/C9QgqQFnyiyW/WClAY8kvlvxCKUAwlvxiyY8qQMeSXyz5JStA16NwPQo3KUCvR+F6FE4pQKDTBjptAClAvLu7u7t7KUBBpw102gApQHh3d3d3typAMzMzMzMzKkA7baDTBjopQFnyiyW/uChA",
          "dtype": "f8"
         },
         "yaxis": "y"
        },
        {
         "hovertemplate": "Year: %{x|%Y}<br>Temp: %{y:.2f}°C",
         "legendgroup": "Kathmandu",
         "line": {
          "color": "#FF97FF",
          "dash": "solid"
         },
         "marker": {
          "symbol": "circle"
         },
         "mode": "lines+markers",
         "name": "Kathmandu",
         "showlegend": true,
         "type": "scattergl",
         "x": [
          "1981-12-31T00:00:00.000000000",
          "1982-12-31T00:00:00.000000000",
          "1983-12-31T00:00:00.000000000",
          "1984-12-31T00:00:00.000000000",
          "1985-12-31T00:00:00.000000000",
          "1986-12-31T00:00:00.000000000",
          "1987-12-31T00:00:00.000000000",
          "1988-12-31T00:00:00.000000000",
          "1989-12-31T00:00:00.000000000",
          "1990-12-31T00:00:00.000000000",
          "1991-12-31T00:00:00.000000000",
          "1992-12-31T00:00:00.000000000",
          "1993-12-31T00:00:00.000000000",
          "1994-12-31T00:00:00.000000000",
          "1995-12-31T00:00:00.000000000",
          "1996-12-31T00:00:00.000000000",
          "1997-12-31T00:00:00.000000000",
          "1998-12-31T00:00:00.000000000",
          "1999-12-31T00:00:00.000000000",
          "2000-12-31T00:00:00.000000000",
          "2001-12-31T00:00:00.000000000",
          "2002-12-31T00:00:00.000000000",
          "2003-12-31T00:00:00.000000000",
          "2004-12-31T00:00:00.000000000",
          "2005-12-31T00:00:00.000000000",
          "2006-12-31T00:00:00.000000000",
          "2007-12-31T00:00:00.000000000",
          "2008-12-31T00:00:00.000000000",
          "2009-12-31T00:00:00.000000000",
          "2010-12-31T00:00:00.000000000",
          "2011-12-31T00:00:00.000000000",
          "2012-12-31T00:00:00.000000000",
          "2013-12-31T00:00:00.000000000",
          "2014-12-31T00:00:00.000000000",
          "2015-12-31T00:00:00.000000000",
          "2016-12-31T00:00:00.000000000",
          "2017-12-31T00:00:00.000000000",
          "2018-12-31T00:00:00.000000000",
          "2019-12-31T00:00:00.000000000"
         ],
         "xaxis": "x",
         "y": {
          "bdata": "uB6F61EoMEBBpw102nAwQL9Y8oslvzBALfnFkl+cMEBZ8oslv8gwQI/C9ShcfzBAseQXS34BMUADnTbQaSMxQAOdNtBpwzBAvLu7u7sLMUDhehSuR0ExQBvotIFO+zBAcT0K16MAMUC4HoXrUWgxQD0K16NwDTFAk18s+cUCMUCuR+F6FI4wQDMzMzMzYzFARERERETEMUCTXyz5xdIwQDCW/GLJPzFAERERERFRMUC4HoXrURgxQC35xZJfXDBA0wY6baCTMEANdNpAp70wQPnFkl8sWTBAiYiIiIhYMEBcj8L1KCwxQPKLJb9YUjFAq6qqqqo6MECZmZmZmXkwQKuqqqqqOjBAN9BpA52WMEAYS36x5KcwQHE9CtejQDFAMzMzMzMzMUAlv1jyi5UwQP1iyS+WjDBA",
          "dtype": "f8"
         },
         "yaxis": "y"
        },
        {
         "hovertemplate": "Year: %{x|%Y}<br>Temp: %{y:.2f}°C",
         "legendgroup": "Lalitpur",
         "line": {
          "color": "#FECB52",
          "dash": "solid"
         },
         "marker": {
          "symbol": "circle"
         },
         "mode": "lines+markers",
         "name": "Lalitpur",
         "showlegend": true,
         "type": "scattergl",
         "x": [
          "1981-12-31T00:00:00.000000000",
          "1982-12-31T00:00:00.000000000",
          "1983-12-31T00:00:00.000000000",
          "1984-12-31T00:00:00.000000000",
          "1985-12-31T00:00:00.000000000",
          "1986-12-31T00:00:00.000000000",
          "1987-12-31T00:00:00.000000000",
          "1988-12-31T00:00:00.000000000",
          "1989-12-31T00:00:00.000000000",
          "1990-12-31T00:00:00.000000000",
          "1991-12-31T00:00:00.000000000",
          "1992-12-31T00:00:00.000000000",
          "1993-12-31T00:00:00.000000000",
          "1994-12-31T00:00:00.000000000",
          "1995-12-31T00:00:00.000000000",
          "1996-12-31T00:00:00.000000000",
          "1997-12-31T00:00:00.000000000",
          "1998-12-31T00:00:00.000000000",
          "1999-12-31T00:00:00.000000000",
          "2000-12-31T00:00:00.000000000",
          "2001-12-31T00:00:00.000000000",
          "2002-12-31T00:00:00.000000000",
          "2003-12-31T00:00:00.000000000",
          "2004-12-31T00:00:00.000000000",
          "2005-12-31T00:00:00.000000000",
          "2006-12-31T00:00:00.000000000",
          "2007-12-31T00:00:00.000000000",
          "2008-12-31T00:00:00.000000000",
          "2009-12-31T00:00:00.000000000",
          "2010-12-31T00:00:00.000000000",
          "2011-12-31T00:00:00.000000000",
          "2012-12-31T00:00:00.000000000",
          "2013-12-31T00:00:00.000000000",
          "2014-12-31T00:00:00.000000000",
          "2015-12-31T00:00:00.000000000",
          "2016-12-31T00:00:00.000000000",
          "2017-12-31T00:00:00.000000000",
          "2018-12-31T00:00:00.000000000",
          "2019-12-31T00:00:00.000000000"
         ],
         "xaxis": "x",
         "y": {
          "bdata": "uB6F61EoMEBBpw102nAwQL9Y8oslvzBALfnFkl+cMEBZ8oslv8gwQI/C9ShcfzBAseQXS34BMUADnTbQaSMxQAOdNtBpwzBAvLu7u7sLMUDhehSuR0ExQBvotIFO+zBAcT0K16MAMUC4HoXrUWgxQD0K16NwDTFAk18s+cUCMUCuR+F6FI4wQDMzMzMzYzFARERERETEMUCTXyz5xdIwQDCW/GLJPzFAERERERFRMUC4HoXrURgxQC35xZJfXDBA0wY6baCTMEANdNpAp70wQPnFkl8sWTBAiYiIiIhYMEBcj8L1KCwxQPKLJb9YUjFAq6qqqqo6MECZmZmZmXkwQKuqqqqqOjBAN9BpA52WMEAYS36x5KcwQHE9CtejQDFAMzMzMzMzMUAlv1jyi5UwQP1iyS+WjDBA",
          "dtype": "f8"
         },
         "yaxis": "y"
        },
        {
         "hovertemplate": "Year: %{x|%Y}<br>Temp: %{y:.2f}°C",
         "legendgroup": "Lamjung",
         "line": {
          "color": "#636efa",
          "dash": "solid"
         },
         "marker": {
          "symbol": "circle"
         },
         "mode": "lines+markers",
         "name": "Lamjung",
         "showlegend": true,
         "type": "scattergl",
         "x": [
          "1981-12-31T00:00:00.000000000",
          "1982-12-31T00:00:00.000000000",
          "1983-12-31T00:00:00.000000000",
          "1984-12-31T00:00:00.000000000",
          "1985-12-31T00:00:00.000000000",
          "1986-12-31T00:00:00.000000000",
          "1987-12-31T00:00:00.000000000",
          "1988-12-31T00:00:00.000000000",
          "1989-12-31T00:00:00.000000000",
          "1990-12-31T00:00:00.000000000",
          "1991-12-31T00:00:00.000000000",
          "1992-12-31T00:00:00.000000000",
          "1993-12-31T00:00:00.000000000",
          "1994-12-31T00:00:00.000000000",
          "1995-12-31T00:00:00.000000000",
          "1996-12-31T00:00:00.000000000",
          "1997-12-31T00:00:00.000000000",
          "1998-12-31T00:00:00.000000000",
          "1999-12-31T00:00:00.000000000",
          "2000-12-31T00:00:00.000000000",
          "2001-12-31T00:00:00.000000000",
          "2002-12-31T00:00:00.000000000",
          "2003-12-31T00:00:00.000000000",
          "2004-12-31T00:00:00.000000000",
          "2005-12-31T00:00:00.000000000",
          "2006-12-31T00:00:00.000000000",
          "2007-12-31T00:00:00.000000000",
          "2008-12-31T00:00:00.000000000",
          "2009-12-31T00:00:00.000000000",
          "2010-12-31T00:00:00.000000000",
          "2011-12-31T00:00:00.000000000",
          "2012-12-31T00:00:00.000000000",
          "2013-12-31T00:00:00.000000000",
          "2014-12-31T00:00:00.000000000",
          "2015-12-31T00:00:00.000000000",
          "2016-12-31T00:00:00.000000000",
          "2017-12-31T00:00:00.000000000",
          "2018-12-31T00:00:00.000000000",
          "2019-12-31T00:00:00.000000000"
         ],
         "xaxis": "x",
         "y": {
          "bdata": "Jb9Y8ovFJ0BVVVVVVfUnQGPJL5b8YihAYCz5xZK/KEB/seQXS/4oQJf8YskvVihAf7HkF0t+KUBpA5020MkpQASdNtBpwyhAZ2ZmZmZmKUBcj8L1KHwpQH+x5BdLHilAAAAAAABgKUCIiIiIiMgpQD0K16NwPSlAQacNdNpAKUA5baDTBlooQNtApw10WipA16NwPQrXKkC4HoXrURgpQHh3d3d39ylAY8kvlvwCKkDhehSuR6EpQBhLfrHktyhAk18s+cVSKEA9CtejcD0pQIiIiIiIiChAl/xiyS92KEA9CtejcL0pQI/C9ShcTypAC9ejcD1qKEDziyW/WHIoQFG4HoXrMShAxZJfLPmlKECBThvotCEoQHsUrkfh2ilAU7gehetRKUA9CtejcF0oQHh3d3d31ydA",
          "dtype": "f8"
         },
         "yaxis": "y"
        },
        {
         "hovertemplate": "Year: %{x|%Y}<br>Temp: %{y:.2f}°C",
         "legendgroup": "Mahottari",
         "line": {
          "color": "#EF553B",
          "dash": "solid"
         },
         "marker": {
          "symbol": "circle"
         },
         "mode": "lines+markers",
         "name": "Mahottari",
         "showlegend": true,
         "type": "scattergl",
         "x": [
          "1981-12-31T00:00:00.000000000",
          "1982-12-31T00:00:00.000000000",
          "1983-12-31T00:00:00.000000000",
          "1984-12-31T00:00:00.000000000",
          "1985-12-31T00:00:00.000000000",
          "1986-12-31T00:00:00.000000000",
          "1987-12-31T00:00:00.000000000",
          "1988-12-31T00:00:00.000000000",
          "1989-12-31T00:00:00.000000000",
          "1990-12-31T00:00:00.000000000",
          "1991-12-31T00:00:00.000000000",
          "1992-12-31T00:00:00.000000000",
          "1993-12-31T00:00:00.000000000",
          "1994-12-31T00:00:00.000000000",
          "1995-12-31T00:00:00.000000000",
          "1996-12-31T00:00:00.000000000",
          "1997-12-31T00:00:00.000000000",
          "1998-12-31T00:00:00.000000000",
          "1999-12-31T00:00:00.000000000",
          "2000-12-31T00:00:00.000000000",
          "2001-12-31T00:00:00.000000000",
          "2002-12-31T00:00:00.000000000",
          "2003-12-31T00:00:00.000000000",
          "2004-12-31T00:00:00.000000000",
          "2005-12-31T00:00:00.000000000",
          "2006-12-31T00:00:00.000000000",
          "2007-12-31T00:00:00.000000000",
          "2008-12-31T00:00:00.000000000",
          "2009-12-31T00:00:00.000000000",
          "2010-12-31T00:00:00.000000000",
          "2011-12-31T00:00:00.000000000",
          "2012-12-31T00:00:00.000000000",
          "2013-12-31T00:00:00.000000000",
          "2014-12-31T00:00:00.000000000",
          "2015-12-31T00:00:00.000000000",
          "2016-12-31T00:00:00.000000000",
          "2017-12-31T00:00:00.000000000",
          "2018-12-31T00:00:00.000000000",
          "2019-12-31T00:00:00.000000000"
         ],
         "xaxis": "x",
         "y": {
          "bdata": "uB6F61F4OEAfhetRuP44QDttoNMGmjlAO22g0waaOEBLfrHkF/s4QOUXS36xxDhAOW2g0wYKOUBZ8oslvzg5QHsUrkfhKjlA+cWSXyx5OUAYS36x5Oc5QFG4HoXr0TlAw/UoXI+COUBjyS+W/PI5QDMzMzMzkzlAG+i0gU5bOUDv7u7u7v44QCMiIiIiYjlAeHd3d3f3OUCdNtBpAw05QJf8YskvRjlApw102kCHOUC4HoXrURg5QJDC9ShcrzhA5BdLfrEkOUBBpw102uA4QDfQaQOdNjhAyS+W/GJJOEBpA5020Fk5QP1iyS+WbDlAqA102kBXOEAHOm2g04Y4QM3MzMzMLDhAdNpApw2kOECnDXTaQDc5QPxiyS+WrDlA/GLJL5acOUANdNpAp105QKcNdNpARzlA",
          "dtype": "f8"
         },
         "yaxis": "y"
        },
        {
         "hovertemplate": "Year: %{x|%Y}<br>Temp: %{y:.2f}°C",
         "legendgroup": "Makwanpur",
         "line": {
          "color": "#00cc96",
          "dash": "solid"
         },
         "marker": {
          "symbol": "circle"
         },
         "mode": "lines+markers",
         "name": "Makwanpur",
         "showlegend": true,
         "type": "scattergl",
         "x": [
          "1981-12-31T00:00:00.000000000",
          "1982-12-31T00:00:00.000000000",
          "1983-12-31T00:00:00.000000000",
          "1984-12-31T00:00:00.000000000",
          "1985-12-31T00:00:00.000000000",
          "1986-12-31T00:00:00.000000000",
          "1987-12-31T00:00:00.000000000",
          "1988-12-31T00:00:00.000000000",
          "1989-12-31T00:00:00.000000000",
          "1990-12-31T00:00:00.000000000",
          "1991-12-31T00:00:00.000000000",
          "1992-12-31T00:00:00.000000000",
          "1993-12-31T00:00:00.000000000",
          "1994-12-31T00:00:00.000000000",
          "1995-12-31T00:00:00.000000000",
          "1996-12-31T00:00:00.000000000",
          "1997-12-31T00:00:00.000000000",
          "1998-12-31T00:00:00.000000000",
          "1999-12-31T00:00:00.000000000",
          "2000-12-31T00:00:00.000000000",
          "2001-12-31T00:00:00.000000000",
          "2002-12-31T00:00:00.000000000",
          "2003-12-31T00:00:00.000000000",
          "2004-12-31T00:00:00.000000000",
          "2005-12-31T00:00:00.000000000",
          "2006-12-31T00:00:00.000000000",
          "2007-12-31T00:00:00.000000000",
          "2008-12-31T00:00:00.000000000",
          "2009-12-31T00:00:00.000000000",
          "2010-12-31T00:00:00.000000000",
          "2011-12-31T00:00:00.000000000",
          "2012-12-31T00:00:00.000000000",
          "2013-12-31T00:00:00.000000000",
          "2014-12-31T00:00:00.000000000",
          "2015-12-31T00:00:00.000000000",
          "2016-12-31T00:00:00.000000000",
          "2017-12-31T00:00:00.000000000",
          "2018-12-31T00:00:00.000000000",
          "2019-12-31T00:00:00.000000000"
         ],
         "xaxis": "x",
         "y": {
          "bdata": "IyIiIiJiNkDXo3A9Cuc2QIiIiIiIaDdAw/UoXI/CNkB4d3d3dwc3QIXrUbge1TZA5BdLfrEkN0BtoNMGOk03QDttoNMGKjdAhetRuB5lN0BVVVVVVdU3QEGnDXTaoDdA84slv1hyN0BRuB6F6/E3QMeSXyz5hTdAWfKLJb9YN0CvR+F6FP42QCW/WPKLdTdABzptoNMGOECkcD0K1xM3QAOdNtBpYzdAGEt+seS3N0ApXI/C9Ug3QKRwPQrXkzZA0GkDnTbwNkBVVVVVVcU2QBSuR+F6RDZA7FG4HoVLNkB4d3d3d0c3QBzotIFOazdA20CnDXRKNkCrqqqqqoo2QK1H4XoUHjZAk18s+cWiNkDd3d3d3Q03QBSuR+F6lDdA6LSBThuIN0AL16NwPQo3QOxRuB6F6zZA",
          "dtype": "f8"
         },
         "yaxis": "y"
        },
        {
         "hovertemplate": "Year: %{x|%Y}<br>Temp: %{y:.2f}°C",
         "legendgroup": "Manang",
         "line": {
          "color": "#ab63fa",
          "dash": "solid"
         },
         "marker": {
          "symbol": "circle"
         },
         "mode": "lines+markers",
         "name": "Manang",
         "showlegend": true,
         "type": "scattergl",
         "x": [
          "1981-12-31T00:00:00.000000000",
          "1982-12-31T00:00:00.000000000",
          "1983-12-31T00:00:00.000000000",
          "1984-12-31T00:00:00.000000000",
          "1985-12-31T00:00:00.000000000",
          "1986-12-31T00:00:00.000000000",
          "1987-12-31T00:00:00.000000000",
          "1988-12-31T00:00:00.000000000",
          "1989-12-31T00:00:00.000000000",
          "1990-12-31T00:00:00.000000000",
          "1991-12-31T00:00:00.000000000",
          "1992-12-31T00:00:00.000000000",
          "1993-12-31T00:00:00.000000000",
          "1994-12-31T00:00:00.000000000",
          "1995-12-31T00:00:00.000000000",
          "1996-12-31T00:00:00.000000000",
          "1997-12-31T00:00:00.000000000",
          "1998-12-31T00:00:00.000000000",
          "1999-12-31T00:00:00.000000000",
          "2000-12-31T00:00:00.000000000",
          "2001-12-31T00:00:00.000000000",
          "2002-12-31T00:00:00.000000000",
          "2003-12-31T00:00:00.000000000",
          "2004-12-31T00:00:00.000000000",
          "2005-12-31T00:00:00.000000000",
          "2006-12-31T00:00:00.000000000",
          "2007-12-31T00:00:00.000000000",
          "2008-12-31T00:00:00.000000000",
          "2009-12-31T00:00:00.000000000",
          "2010-12-31T00:00:00.000000000",
          "2011-12-31T00:00:00.000000000",
          "2012-12-31T00:00:00.000000000",
          "2013-12-31T00:00:00.000000000",
          "2014-12-31T00:00:00.000000000",
          "2015-12-31T00:00:00.000000000",
          "2016-12-31T00:00:00.000000000",
          "2017-12-31T00:00:00.000000000",
          "2018-12-31T00:00:00.000000000",
          "2019-12-31T00:00:00.000000000"
         ],
         "xaxis": "x",
         "y": {
          "bdata": "A5020GkDzT/gUbgeheuxP/soXI/C9cg/7+7u7u7u7D8EnTbQaQPrP40lv1jyi9E/iyW/WPKL7z/Xo3A9Ctf1Py35xZJfLOM/Y8kvlvxi9T/tUbgehevtPxSuR+F6FOg/6LSBThvo8z+kcD0K16PwP5mZmZmZme0/qqqqqqqq8D+rqqqqqqrWP4Cx5BdLfv4/yS+W/GLJ/T9xPQrXo3DxP/UoXI/C9fg/l/xiyS+W8z/rUbgehevxP+F6FK5H4fI/UPKLJb9Ysj830GkDnTb2P1jyiyW/WOo/lfxiyS+W7j8YS36x5Bf2Pyz5xZJfLPo/mZmZmZmZ8D93d3d3d3fXP+MXS36x5OE/K/nFkl8s4z8l6LSBThu4P83MzMzMzPk/+MWSXyz57T8nv1jyiyXrP0CnDXTaQLe/",
          "dtype": "f8"
         },
         "yaxis": "y"
        },
        {
         "hovertemplate": "Year: %{x|%Y}<br>Temp: %{y:.2f}°C",
         "legendgroup": "Morang",
         "line": {
          "color": "#FFA15A",
          "dash": "solid"
         },
         "marker": {
          "symbol": "circle"
         },
         "mode": "lines+markers",
         "name": "Morang",
         "showlegend": true,
         "type": "scattergl",
         "x": [
          "1981-12-31T00:00:00.000000000",
          "1982-12-31T00:00:00.000000000",
          "1983-12-31T00:00:00.000000000",
          "1984-12-31T00:00:00.000000000",
          "1985-12-31T00:00:00.000000000",
          "1986-12-31T00:00:00.000000000",
          "1987-12-31T00:00:00.000000000",
          "1988-12-31T00:00:00.000000000",
          "1989-12-31T00:00:00.000000000",
          "1990-12-31T00:00:00.000000000",
          "1991-12-31T00:00:00.000000000",
          "1992-12-31T00:00:00.000000000",
          "1993-12-31T00:00:00.000000000",
          "1994-12-31T00:00:00.000000000",
          "1995-12-31T00:00:00.000000000",
          "1996-12-31T00:00:00.000000000",
          "1997-12-31T00:00:00.000000000",
          "1998-12-31T00:00:00.000000000",
          "1999-12-31T00:00:00.000000000",
          "2000-12-31T00:00:00.000000000",
          "2001-12-31T00:00:00.000000000",
          "2002-12-31T00:00:00.000000000",
          "2003-12-31T00:00:00.000000000",
          "2004-12-31T00:00:00.000000000",
          "2005-12-31T00:00:00.000000000",
          "2006-12-31T00:00:00.000000000",
          "2007-12-31T00:00:00.000000000",
          "2008-12-31T00:00:00.000000000",
          "2009-12-31T00:00:00.000000000",
          "2010-12-31T00:00:00.000000000",
          "2011-12-31T00:00:00.000000000",
          "2012-12-31T00:00:00.000000000",
          "2013-12-31T00:00:00.000000000",
          "2014-12-31T00:00:00.000000000",
          "2015-12-31T00:00:00.000000000",
          "2016-12-31T00:00:00.000000000",
          "2017-12-31T00:00:00.000000000",
          "2018-12-31T00:00:00.000000000",
          "2019-12-31T00:00:00.000000000"
         ],
         "xaxis": "x",
         "y": {
          "bdata": "zczMzMwMNkBZ8oslv0g2QAAAAAAAkDZAC9ejcD0aNkAUrkfheoQ2QLHkF0t+UTZAN9BpA522NkB4d3d3dxc3QHh3d3d3ZzZA3d3d3d39NkBPG+i0gf42QKRwPQrX8zZAw/UoXI8iN0Cg0wY6baA3QGAs+cWSPzdAk18s+cUyN0B02kCnDZQ2QD0K16Nw3TZApw102kBXN0B/seQXS742QMWSXyz59TZAMJb8YsnPNkDlF0t+sZQ2QMWSXyz5RTZAl/xiyS+mNkAEnTbQaaM2QHsUrkfhGjZAVVVVVVVFNkAYS36x5Nc2QHA9CtejsDZAXI/C9SjsNUB02kCnDVQ2QH+x5BdLPjZAFK5H4Xq0NkA9CtejcP02QLWBThvoRDdAk18s+cUSN0BERERERJQ2QHTaQKcNpDZA",
          "dtype": "f8"
         },
         "yaxis": "y"
        },
        {
         "hovertemplate": "Year: %{x|%Y}<br>Temp: %{y:.2f}°C",
         "legendgroup": "Mugu",
         "line": {
          "color": "#19d3f3",
          "dash": "solid"
         },
         "marker": {
          "symbol": "circle"
         },
         "mode": "lines+markers",
         "name": "Mugu",
         "showlegend": true,
         "type": "scattergl",
         "x": [
          "1981-12-31T00:00:00.000000000",
          "1982-12-31T00:00:00.000000000",
          "1983-12-31T00:00:00.000000000",
          "1984-12-31T00:00:00.000000000",
          "1985-12-31T00:00:00.000000000",
          "1986-12-31T00:00:00.000000000",
          "1987-12-31T00:00:00.000000000",
          "1988-12-31T00:00:00.000000000",
          "1989-12-31T00:00:00.000000000",
          "1990-12-31T00:00:00.000000000",
          "1991-12-31T00:00:00.000000000",
          "1992-12-31T00:00:00.000000000",
          "1993-12-31T00:00:00.000000000",
          "1994-12-31T00:00:00.000000000",
          "1995-12-31T00:00:00.000000000",
          "1996-12-31T00:00:00.000000000",
          "1997-12-31T00:00:00.000000000",
          "1998-12-31T00:00:00.000000000",
          "1999-12-31T00:00:00.000000000",
          "2000-12-31T00:00:00.000000000",
          "2001-12-31T00:00:00.000000000",
          "2002-12-31T00:00:00.000000000",
          "2003-12-31T00:00:00.000000000",
          "2004-12-31T00:00:00.000000000",
          "2005-12-31T00:00:00.000000000",
          "2006-12-31T00:00:00.000000000",
          "2007-12-31T00:00:00.000000000",
          "2008-12-31T00:00:00.000000000",
          "2009-12-31T00:00:00.000000000",
          "2010-12-31T00:00:00.000000000",
          "2011-12-31T00:00:00.000000000",
          "2012-12-31T00:00:00.000000000",
          "2013-12-31T00:00:00.000000000",
          "2014-12-31T00:00:00.000000000",
          "2015-12-31T00:00:00.000000000",
          "2016-12-31T00:00:00.000000000",
          "2017-12-31T00:00:00.000000000",
          "2018-12-31T00:00:00.000000000",
          "2019-12-31T00:00:00.000000000"
         ],
         "xaxis": "x",
         "y": {
          "bdata": "LfnFkl8s479VVVVVVVXZvxiuR+F6FNq/lF8s+cWS0z912kCnDXSqP9tApw102tS/yy+W/GLJ5z9zPQrXo3DrP0NERERERMQ/nTbQaQOd8D9/FK5H4XrcPzfQaQOdNuI/mJmZmZmZ7z9pA5020GnpP3h3d3d3d9s/bKDTBjpt6j+gNtBpA53Gv1VVVVVVVfc/r0fhehSu+T/kF0t+seTnP2dmZmZmZvE/Q0RERERE6j8oXI/C9SjkPwvXo3A9Cu0/W4/C9Shcx78NdNpApw3qP1AK16NwPbo/FUt+seQX3z9X8oslv1jqP5020GkDnew/EHTaQKcNxD8c6LSBThvQv1UUrkfhenS/qx6F61G4nj+QmZmZmZm5P6RwPQrXo/o/oNMGOm2g8j9Y8oslv1juP+B6FK5H4dK/",
          "dtype": "f8"
         },
         "yaxis": "y"
        },
        {
         "hovertemplate": "Year: %{x|%Y}<br>Temp: %{y:.2f}°C",
         "legendgroup": "Mustang",
         "line": {
          "color": "#FF6692",
          "dash": "solid"
         },
         "marker": {
          "symbol": "circle"
         },
         "mode": "lines+markers",
         "name": "Mustang",
         "showlegend": true,
         "type": "scattergl",
         "x": [
          "1981-12-31T00:00:00.000000000",
          "1982-12-31T00:00:00.000000000",
          "1983-12-31T00:00:00.000000000",
          "1984-12-31T00:00:00.000000000",
          "1985-12-31T00:00:00.000000000",
          "1986-12-31T00:00:00.000000000",
          "1987-12-31T00:00:00.000000000",
          "1988-12-31T00:00:00.000000000",
          "1989-12-31T00:00:00.000000000",
          "1990-12-31T00:00:00.000000000",
          "1991-12-31T00:00:00.000000000",
          "1992-12-31T00:00:00.000000000",
          "1993-12-31T00:00:00.000000000",
          "1994-12-31T00:00:00.000000000",
          "1995-12-31T00:00:00.000000000",
          "1996-12-31T00:00:00.000000000",
          "1997-12-31T00:00:00.000000000",
          "1998-12-31T00:00:00.000000000",
          "1999-12-31T00:00:00.000000000",
          "2000-12-31T00:00:00.000000000",
          "2001-12-31T00:00:00.000000000",
          "2002-12-31T00:00:00.000000000",
          "2003-12-31T00:00:00.000000000",
          "2004-12-31T00:00:00.000000000",
          "2005-12-31T00:00:00.000000000",
          "2006-12-31T00:00:00.000000000",
          "2007-12-31T00:00:00.000000000",
          "2008-12-31T00:00:00.000000000",
          "2009-12-31T00:00:00.000000000",
          "2010-12-31T00:00:00.000000000",
          "2011-12-31T00:00:00.000000000",
          "2012-12-31T00:00:00.000000000",
          "2013-12-31T00:00:00.000000000",
          "2014-12-31T00:00:00.000000000",
          "2015-12-31T00:00:00.000000000",
          "2016-12-31T00:00:00.000000000",
          "2017-12-31T00:00:00.000000000",
          "2018-12-31T00:00:00.000000000",
          "2019-12-31T00:00:00.000000000"
         ],
         "xaxis": "x",
         "y": {
          "bdata": "Jb9Y8osl9T94d3d3d3fzP/coXI/C9fQ/OW2g0wY6AEA0MzMzMzP+P0t+seQXS/Y/MJb8YskvAkDrUbgehesDQNQGOm2g0/s/Fa5H4XqUA0C1gU4b6DQBQC35xZJfLP8/A5020GmDA0BLfrHkF8sBQBvotIFOmwBAZ2ZmZmZmAUCTXyz5xZL4PzMzMzMzMwhAeHd3d3d3CEAREREREZEBQNijcD0KVwVAVVVVVVVVA0Bcj8L1KFwCQGdmZmZmZgJAVVVVVVVV9D/bQKcNdFoDQEjhehSuR/4/20CnDXRaAEAEnTbQaQMEQIiIiIiICAZAuR6F61G4AECIiIiIiIj3P0RERERERPk/fbHkF0t++j+SXyz5xZLzP1O4HoXrUQZAOm2g0wY6AUDhehSuR2EAQBWuR+F6FPI/",
          "dtype": "f8"
         },
         "yaxis": "y"
        },
        {
         "hovertemplate": "Year: %{x|%Y}<br>Temp: %{y:.2f}°C",
         "legendgroup": "Myagdi",
         "line": {
          "color": "#B6E880",
          "dash": "solid"
         },
         "marker": {
          "symbol": "circle"
         },
         "mode": "lines+markers",
         "name": "Myagdi",
         "showlegend": true,
         "type": "scattergl",
         "x": [
          "1981-12-31T00:00:00.000000000",
          "1982-12-31T00:00:00.000000000",
          "1983-12-31T00:00:00.000000000",
          "1984-12-31T00:00:00.000000000",
          "1985-12-31T00:00:00.000000000",
          "1986-12-31T00:00:00.000000000",
          "1987-12-31T00:00:00.000000000",
          "1988-12-31T00:00:00.000000000",
          "1989-12-31T00:00:00.000000000",
          "1990-12-31T00:00:00.000000000",
          "1991-12-31T00:00:00.000000000",
          "1992-12-31T00:00:00.000000000",
          "1993-12-31T00:00:00.000000000",
          "1994-12-31T00:00:00.000000000",
          "1995-12-31T00:00:00.000000000",
          "1996-12-31T00:00:00.000000000",
          "1997-12-31T00:00:00.000000000",
          "1998-12-31T00:00:00.000000000",
          "1999-12-31T00:00:00.000000000",
          "2000-12-31T00:00:00.000000000",
          "2001-12-31T00:00:00.000000000",
          "2002-12-31T00:00:00.000000000",
          "2003-12-31T00:00:00.000000000",
          "2004-12-31T00:00:00.000000000",
          "2005-12-31T00:00:00.000000000",
          "2006-12-31T00:00:00.000000000",
          "2007-12-31T00:00:00.000000000",
          "2008-12-31T00:00:00.000000000",
          "2009-12-31T00:00:00.000000000",
          "2010-12-31T00:00:00.000000000",
          "2011-12-31T00:00:00.000000000",
          "2012-12-31T00:00:00.000000000",
          "2013-12-31T00:00:00.000000000",
          "2014-12-31T00:00:00.000000000",
          "2015-12-31T00:00:00.000000000",
          "2016-12-31T00:00:00.000000000",
          "2017-12-31T00:00:00.000000000",
          "2018-12-31T00:00:00.000000000",
          "2019-12-31T00:00:00.000000000"
         ],
         "xaxis": "x",
         "y": {
          "bdata": "zczMzMxMKkC4HoXrUXgqQOi0gU4b6CpAGEt+seRXK0CTXyz5xZIrQFO4HoXr8SpAzczMzMxMLEBZ8oslv1gsQIwlv1jySytAN9BpA53WK0BjyS+W/CIsQMP1KFyPwitApHA9CtcDLEDsUbgehWssQERERERE5CtAgU4b6LThK0ARERERERErQDfQaQOd1ixAXI/C9Sh8LUAEnTbQaaMrQCMiIiIigixA84slv1jSLEDD9Shcj0IsQBERERERcStAAAAAAAAAK0AAAAAAAKArQLgehetR+CpAXI/C9SjcKkCTXyz5xTIsQNQGOm2g0yxAERERERHRKkBERERERAQrQGAs+cWSnypAJb9Y8oslK0A9CtejcL0qQNBpA502cCxA9Shcj8L1K0DziyW/WPIqQJmZmZmZeSpA",
          "dtype": "f8"
         },
         "yaxis": "y"
        },
        {
         "hovertemplate": "Year: %{x|%Y}<br>Temp: %{y:.2f}°C",
         "legendgroup": "Nawalparasi",
         "line": {
          "color": "#FF97FF",
          "dash": "solid"
         },
         "marker": {
          "symbol": "circle"
         },
         "mode": "lines+markers",
         "name": "Nawalparasi",
         "showlegend": true,
         "type": "scattergl",
         "x": [
          "1981-12-31T00:00:00.000000000",
          "1982-12-31T00:00:00.000000000",
          "1983-12-31T00:00:00.000000000",
          "1984-12-31T00:00:00.000000000",
          "1985-12-31T00:00:00.000000000",
          "1986-12-31T00:00:00.000000000",
          "1987-12-31T00:00:00.000000000",
          "1988-12-31T00:00:00.000000000",
          "1989-12-31T00:00:00.000000000",
          "1990-12-31T00:00:00.000000000",
          "1991-12-31T00:00:00.000000000",
          "1992-12-31T00:00:00.000000000",
          "1993-12-31T00:00:00.000000000",
          "1994-12-31T00:00:00.000000000",
          "1995-12-31T00:00:00.000000000",
          "1996-12-31T00:00:00.000000000",
          "1997-12-31T00:00:00.000000000",
          "1998-12-31T00:00:00.000000000",
          "1999-12-31T00:00:00.000000000",
          "2000-12-31T00:00:00.000000000",
          "2001-12-31T00:00:00.000000000",
          "2002-12-31T00:00:00.000000000",
          "2003-12-31T00:00:00.000000000",
          "2004-12-31T00:00:00.000000000",
          "2005-12-31T00:00:00.000000000",
          "2006-12-31T00:00:00.000000000",
          "2007-12-31T00:00:00.000000000",
          "2008-12-31T00:00:00.000000000",
          "2009-12-31T00:00:00.000000000",
          "2010-12-31T00:00:00.000000000",
          "2011-12-31T00:00:00.000000000",
          "2012-12-31T00:00:00.000000000",
          "2013-12-31T00:00:00.000000000",
          "2014-12-31T00:00:00.000000000",
          "2015-12-31T00:00:00.000000000",
          "2016-12-31T00:00:00.000000000",
          "2017-12-31T00:00:00.000000000",
          "2018-12-31T00:00:00.000000000",
          "2019-12-31T00:00:00.000000000"
         ],
         "xaxis": "x",
         "y": {
          "bdata": "RERERESENUANdNpAp+01QBERERERcTZAAAAAAAAANkCZmZmZmTk2QD0K16NwLTZAAAAAAABwNkDQaQOdNpA2QDttoNMGOjZA6LSBThtoNkD8Yskvltw2QNQGOm2gkzZAoNMGOm2ANkCrqqqqqvo2QASdNtBpozZAWfKLJb9oNkB02kCnDVQ2QOi0gU4bmDZA6LSBThs4N0CF61G4HkU2QOUXS36xlDZA6LSBThsoN0BLfrHkF5s2QNBpA5020DVA6LSBThsINkCkcD0K1+M1QHTaQKcNhDVABzptoNN2NUCrqqqqqlo2QFnyiyW/qDZAXI/C9Sh8NUDd3d3d3c01QOF6FK5HQTVAw/UoXI/CNUCBThvotPE1QKRwPQrXczZAmZmZmZl5NkDlF0t+scQ1QJNfLPnFsjVA",
          "dtype": "f8"
         },
         "yaxis": "y"
        },
        {
         "hovertemplate": "Year: %{x|%Y}<br>Temp: %{y:.2f}°C",
         "legendgroup": "Nuwakot",
         "line": {
          "color": "#FECB52",
          "dash": "solid"
         },
         "marker": {
          "symbol": "circle"
         },
         "mode": "lines+markers",
         "name": "Nuwakot",
         "showlegend": true,
         "type": "scattergl",
         "x": [
          "1981-12-31T00:00:00.000000000",
          "1982-12-31T00:00:00.000000000",
          "1983-12-31T00:00:00.000000000",
          "1984-12-31T00:00:00.000000000",
          "1985-12-31T00:00:00.000000000",
          "1986-12-31T00:00:00.000000000",
          "1987-12-31T00:00:00.000000000",
          "1988-12-31T00:00:00.000000000",
          "1989-12-31T00:00:00.000000000",
          "1990-12-31T00:00:00.000000000",
          "1991-12-31T00:00:00.000000000",
          "1992-12-31T00:00:00.000000000",
          "1993-12-31T00:00:00.000000000",
          "1994-12-31T00:00:00.000000000",
          "1995-12-31T00:00:00.000000000",
          "1996-12-31T00:00:00.000000000",
          "1997-12-31T00:00:00.000000000",
          "1998-12-31T00:00:00.000000000",
          "1999-12-31T00:00:00.000000000",
          "2000-12-31T00:00:00.000000000",
          "2001-12-31T00:00:00.000000000",
          "2002-12-31T00:00:00.000000000",
          "2003-12-31T00:00:00.000000000",
          "2004-12-31T00:00:00.000000000",
          "2005-12-31T00:00:00.000000000",
          "2006-12-31T00:00:00.000000000",
          "2007-12-31T00:00:00.000000000",
          "2008-12-31T00:00:00.000000000",
          "2009-12-31T00:00:00.000000000",
          "2010-12-31T00:00:00.000000000",
          "2011-12-31T00:00:00.000000000",
          "2012-12-31T00:00:00.000000000",
          "2013-12-31T00:00:00.000000000",
          "2014-12-31T00:00:00.000000000",
          "2015-12-31T00:00:00.000000000",
          "2016-12-31T00:00:00.000000000",
          "2017-12-31T00:00:00.000000000",
          "2018-12-31T00:00:00.000000000",
          "2019-12-31T00:00:00.000000000"
         ],
         "xaxis": "x",
         "y": {
          "bdata": "uB6F61EoMEBBpw102nAwQL9Y8oslvzBALfnFkl+cMEBZ8oslv8gwQI/C9ShcfzBAseQXS34BMUADnTbQaSMxQAOdNtBpwzBAvLu7u7sLMUDhehSuR0ExQBvotIFO+zBAcT0K16MAMUC4HoXrUWgxQD0K16NwDTFAk18s+cUCMUCuR+F6FI4wQDMzMzMzYzFARERERETEMUCTXyz5xdIwQDCW/GLJPzFAERERERFRMUC4HoXrURgxQC35xZJfXDBA0wY6baCTMEANdNpAp70wQPnFkl8sWTBAiYiIiIhYMEBcj8L1KCwxQPKLJb9YUjFAq6qqqqo6MECZmZmZmXkwQKuqqqqqOjBAN9BpA52WMEAYS36x5KcwQHE9CtejQDFAMzMzMzMzMUAlv1jyi5UwQP1iyS+WjDBA",
          "dtype": "f8"
         },
         "yaxis": "y"
        },
        {
         "hovertemplate": "Year: %{x|%Y}<br>Temp: %{y:.2f}°C",
         "legendgroup": "Okhaldhunga",
         "line": {
          "color": "#636efa",
          "dash": "solid"
         },
         "marker": {
          "symbol": "circle"
         },
         "mode": "lines+markers",
         "name": "Okhaldhunga",
         "showlegend": true,
         "type": "scattergl",
         "x": [
          "1981-12-31T00:00:00.000000000",
          "1982-12-31T00:00:00.000000000",
          "1983-12-31T00:00:00.000000000",
          "1984-12-31T00:00:00.000000000",
          "1985-12-31T00:00:00.000000000",
          "1986-12-31T00:00:00.000000000",
          "1987-12-31T00:00:00.000000000",
          "1988-12-31T00:00:00.000000000",
          "1989-12-31T00:00:00.000000000",
          "1990-12-31T00:00:00.000000000",
          "1991-12-31T00:00:00.000000000",
          "1992-12-31T00:00:00.000000000",
          "1993-12-31T00:00:00.000000000",
          "1994-12-31T00:00:00.000000000",
          "1995-12-31T00:00:00.000000000",
          "1996-12-31T00:00:00.000000000",
          "1997-12-31T00:00:00.000000000",
          "1998-12-31T00:00:00.000000000",
          "1999-12-31T00:00:00.000000000",
          "2000-12-31T00:00:00.000000000",
          "2001-12-31T00:00:00.000000000",
          "2002-12-31T00:00:00.000000000",
          "2003-12-31T00:00:00.000000000",
          "2004-12-31T00:00:00.000000000",
          "2005-12-31T00:00:00.000000000",
          "2006-12-31T00:00:00.000000000",
          "2007-12-31T00:00:00.000000000",
          "2008-12-31T00:00:00.000000000",
          "2009-12-31T00:00:00.000000000",
          "2010-12-31T00:00:00.000000000",
          "2011-12-31T00:00:00.000000000",
          "2012-12-31T00:00:00.000000000",
          "2013-12-31T00:00:00.000000000",
          "2014-12-31T00:00:00.000000000",
          "2015-12-31T00:00:00.000000000",
          "2016-12-31T00:00:00.000000000",
          "2017-12-31T00:00:00.000000000",
          "2018-12-31T00:00:00.000000000",
          "2019-12-31T00:00:00.000000000"
         ],
         "xaxis": "x",
         "y": {
          "bdata": "/WLJL5acLkCZmZmZmRkvQPnFkl8sOS9Aj8L1KFwPL0BwPQrXo5AvQLgehetR2C5AQacNdNrgL0DJL5b8YjkwQHh3d3d3Ny9A9ihcj8IlMEAb6LSBTgswQKRwPQrX4y9Aj8L1KFwfMEDGkl8s+YUwQH+x5BdLLjBA7+7u7u4+MEA5baDTBhovQE8b6LSBbjBA9ihcj8LVMEBgLPnFkt8vQLkehetRWDBAKVyPwvU4MED8YskvlvwvQMkvlvxiKS9A1AY6baCTL0BfLPnFkg8wQO/u7u7uTi9AxZJfLPlFL0C1gU4b6FQwQM3MzMzMPDBA0GkDnTawLkCg0wY6bUAvQBhLfrHkVy9ARERERETkL0A30GkDndYvQLkehetRWDBATxvotIEuMEBjyS+W/EIvQGPJL5b8gi9A",
          "dtype": "f8"
         },
         "yaxis": "y"
        },
        {
         "hovertemplate": "Year: %{x|%Y}<br>Temp: %{y:.2f}°C",
         "legendgroup": "Palpa",
         "line": {
          "color": "#EF553B",
          "dash": "solid"
         },
         "marker": {
          "symbol": "circle"
         },
         "mode": "lines+markers",
         "name": "Palpa",
         "showlegend": true,
         "type": "scattergl",
         "x": [
          "1981-12-31T00:00:00.000000000",
          "1982-12-31T00:00:00.000000000",
          "1983-12-31T00:00:00.000000000",
          "1984-12-31T00:00:00.000000000",
          "1985-12-31T00:00:00.000000000",
          "1986-12-31T00:00:00.000000000",
          "1987-12-31T00:00:00.000000000",
          "1988-12-31T00:00:00.000000000",
          "1989-12-31T00:00:00.000000000",
          "1990-12-31T00:00:00.000000000",
          "1991-12-31T00:00:00.000000000",
          "1992-12-31T00:00:00.000000000",
          "1993-12-31T00:00:00.000000000",
          "1994-12-31T00:00:00.000000000",
          "1995-12-31T00:00:00.000000000",
          "1996-12-31T00:00:00.000000000",
          "1997-12-31T00:00:00.000000000",
          "1998-12-31T00:00:00.000000000",
          "1999-12-31T00:00:00.000000000",
          "2000-12-31T00:00:00.000000000",
          "2001-12-31T00:00:00.000000000",
          "2002-12-31T00:00:00.000000000",
          "2003-12-31T00:00:00.000000000",
          "2004-12-31T00:00:00.000000000",
          "2005-12-31T00:00:00.000000000",
          "2006-12-31T00:00:00.000000000",
          "2007-12-31T00:00:00.000000000",
          "2008-12-31T00:00:00.000000000",
          "2009-12-31T00:00:00.000000000",
          "2010-12-31T00:00:00.000000000",
          "2011-12-31T00:00:00.000000000",
          "2012-12-31T00:00:00.000000000",
          "2013-12-31T00:00:00.000000000",
          "2014-12-31T00:00:00.000000000",
          "2015-12-31T00:00:00.000000000",
          "2016-12-31T00:00:00.000000000",
          "2017-12-31T00:00:00.000000000",
          "2018-12-31T00:00:00.000000000",
          "2019-12-31T00:00:00.000000000"
         ],
         "xaxis": "x",
         "y": {
          "bdata": "eHd3d3eXNUBPG+i0gf41QFG4HoXrgTZA20CnDXQaNkBVVVVVVVU2QLy7u7u7SzZALPnFkl+MNkCnDXTaQKc2QNejcD0KRzZAw/UoXI9yNkCrqqqqquo2QJNfLPnFojZAQacNdNqQNkCIiIiIiAg3QFyPwvUovDZAbaDTBjp9NkDD9Shcj3I2QPOLJb9YojZAjCW/WPJLN0BLfrHkF1s2QNejcD0KpzZAnTbQaQNNN0DD9Shcj7I2QH+x5BdL/jVAN9BpA50mNkBpA5020Pk1QK1H4XoUnjVAuB6F61GINUBI4XoUrmc2QHE9CtejwDZAY8kvlvySNUDJL5b8Yuk1QGkDnTbQWTVATxvotIHeNUA30GkDnRY2QJNfLPnFkjZAoNMGOm2gNkAwlvxiyd81QEjhehSu1zVA",
          "dtype": "f8"
         },
         "yaxis": "y"
        },
        {
         "hovertemplate": "Year: %{x|%Y}<br>Temp: %{y:.2f}°C",
         "legendgroup": "Panchther",
         "line": {
          "color": "#00cc96",
          "dash": "solid"
         },
         "marker": {
          "symbol": "circle"
         },
         "mode": "lines+markers",
         "name": "Panchther",
         "showlegend": true,
         "type": "scattergl",
         "x": [
          "1981-12-31T00:00:00.000000000",
          "1982-12-31T00:00:00.000000000",
          "1983-12-31T00:00:00.000000000",
          "1984-12-31T00:00:00.000000000",
          "1985-12-31T00:00:00.000000000",
          "1986-12-31T00:00:00.000000000",
          "1987-12-31T00:00:00.000000000",
          "1988-12-31T00:00:00.000000000",
          "1989-12-31T00:00:00.000000000",
          "1990-12-31T00:00:00.000000000",
          "1991-12-31T00:00:00.000000000",
          "1992-12-31T00:00:00.000000000",
          "1993-12-31T00:00:00.000000000",
          "1994-12-31T00:00:00.000000000",
          "1995-12-31T00:00:00.000000000",
          "1996-12-31T00:00:00.000000000",
          "1997-12-31T00:00:00.000000000",
          "1998-12-31T00:00:00.000000000",
          "1999-12-31T00:00:00.000000000",
          "2000-12-31T00:00:00.000000000",
          "2001-12-31T00:00:00.000000000",
          "2002-12-31T00:00:00.000000000",
          "2003-12-31T00:00:00.000000000",
          "2004-12-31T00:00:00.000000000",
          "2005-12-31T00:00:00.000000000",
          "2006-12-31T00:00:00.000000000",
          "2007-12-31T00:00:00.000000000",
          "2008-12-31T00:00:00.000000000",
          "2009-12-31T00:00:00.000000000",
          "2010-12-31T00:00:00.000000000",
          "2011-12-31T00:00:00.000000000",
          "2012-12-31T00:00:00.000000000",
          "2013-12-31T00:00:00.000000000",
          "2014-12-31T00:00:00.000000000",
          "2015-12-31T00:00:00.000000000",
          "2016-12-31T00:00:00.000000000",
          "2017-12-31T00:00:00.000000000",
          "2018-12-31T00:00:00.000000000",
          "2019-12-31T00:00:00.000000000"
         ],
         "xaxis": "x",
         "y": {
          "bdata": "pHA9CtejKkBBpw102qAqQKDTBjptoCpAk18s+cXyKkDziyW/WFIrQB+F61G4vipAseQXS37xK0ANdNpAp40sQKcNdNpAxypAO22g0wb6K0Cx5BdLfpErQD0K16NwHStAoNMGOm0ALEBtoNMGOm0sQM3MzMzMDCxAG+i0gU4bLEDhehSuR4EqQEGnDXTaYCxA6LSBThsoLUBRuB6F65ErQMkvlvxiSSxAYCz5xZLfK0AL16NwPaorQKDTBjptYCtAnTbQaQO9K0D8YskvllwsQCz5xZJfrCtAQacNdNqAK0CIiIiIiGgsQMWSXyz5ZSxAFK5H4Xr0KkB/seQXS14rQIFOG+i04StAwFjyiyU/LED1KFyPwjUsQBzotIFOGy1A9Shcj8K1LECg0wY6bYArQPnFkl8suStA",
          "dtype": "f8"
         },
         "yaxis": "y"
        },
        {
         "hovertemplate": "Year: %{x|%Y}<br>Temp: %{y:.2f}°C",
         "legendgroup": "Parbat",
         "line": {
          "color": "#ab63fa",
          "dash": "solid"
         },
         "marker": {
          "symbol": "circle"
         },
         "mode": "lines+markers",
         "name": "Parbat",
         "showlegend": true,
         "type": "scattergl",
         "x": [
          "1981-12-31T00:00:00.000000000",
          "1982-12-31T00:00:00.000000000",
          "1983-12-31T00:00:00.000000000",
          "1984-12-31T00:00:00.000000000",
          "1985-12-31T00:00:00.000000000",
          "1986-12-31T00:00:00.000000000",
          "1987-12-31T00:00:00.000000000",
          "1988-12-31T00:00:00.000000000",
          "1989-12-31T00:00:00.000000000",
          "1990-12-31T00:00:00.000000000",
          "1991-12-31T00:00:00.000000000",
          "1992-12-31T00:00:00.000000000",
          "1993-12-31T00:00:00.000000000",
          "1994-12-31T00:00:00.000000000",
          "1995-12-31T00:00:00.000000000",
          "1996-12-31T00:00:00.000000000",
          "1997-12-31T00:00:00.000000000",
          "1998-12-31T00:00:00.000000000",
          "1999-12-31T00:00:00.000000000",
          "2000-12-31T00:00:00.000000000",
          "2001-12-31T00:00:00.000000000",
          "2002-12-31T00:00:00.000000000",
          "2003-12-31T00:00:00.000000000",
          "2004-12-31T00:00:00.000000000",
          "2005-12-31T00:00:00.000000000",
          "2006-12-31T00:00:00.000000000",
          "2007-12-31T00:00:00.000000000",
          "2008-12-31T00:00:00.000000000",
          "2009-12-31T00:00:00.000000000",
          "2010-12-31T00:00:00.000000000",
          "2011-12-31T00:00:00.000000000",
          "2012-12-31T00:00:00.000000000",
          "2013-12-31T00:00:00.000000000",
          "2014-12-31T00:00:00.000000000",
          "2015-12-31T00:00:00.000000000",
          "2016-12-31T00:00:00.000000000",
          "2017-12-31T00:00:00.000000000",
          "2018-12-31T00:00:00.000000000",
          "2019-12-31T00:00:00.000000000"
         ],
         "xaxis": "x",
         "y": {
          "bdata": "zczMzMxMKkC4HoXrUXgqQOi0gU4b6CpAGEt+seRXK0CTXyz5xZIrQFO4HoXr8SpAzczMzMxMLEBZ8oslv1gsQIwlv1jySytAN9BpA53WK0BjyS+W/CIsQMP1KFyPwitApHA9CtcDLEDsUbgehWssQERERERE5CtAgU4b6LThK0ARERERERErQDfQaQOd1ixAXI/C9Sh8LUAEnTbQaaMrQCMiIiIigixA84slv1jSLEDD9Shcj0IsQBERERERcStAAAAAAAAAK0AAAAAAAKArQLgehetR+CpAXI/C9SjcKkCTXyz5xTIsQNQGOm2g0yxAERERERHRKkBERERERAQrQGAs+cWSnypAJb9Y8oslK0A9CtejcL0qQNBpA502cCxA9Shcj8L1K0DziyW/WPIqQJmZmZmZeSpA",
          "dtype": "f8"
         },
         "yaxis": "y"
        },
        {
         "hovertemplate": "Year: %{x|%Y}<br>Temp: %{y:.2f}°C",
         "legendgroup": "Rasuwa",
         "line": {
          "color": "#FFA15A",
          "dash": "solid"
         },
         "marker": {
          "symbol": "circle"
         },
         "mode": "lines+markers",
         "name": "Rasuwa",
         "showlegend": true,
         "type": "scattergl",
         "x": [
          "1981-12-31T00:00:00.000000000",
          "1982-12-31T00:00:00.000000000",
          "1983-12-31T00:00:00.000000000",
          "1984-12-31T00:00:00.000000000",
          "1985-12-31T00:00:00.000000000",
          "1986-12-31T00:00:00.000000000",
          "1987-12-31T00:00:00.000000000",
          "1988-12-31T00:00:00.000000000",
          "1989-12-31T00:00:00.000000000",
          "1990-12-31T00:00:00.000000000",
          "1991-12-31T00:00:00.000000000",
          "1992-12-31T00:00:00.000000000",
          "1993-12-31T00:00:00.000000000",
          "1994-12-31T00:00:00.000000000",
          "1995-12-31T00:00:00.000000000",
          "1996-12-31T00:00:00.000000000",
          "1997-12-31T00:00:00.000000000",
          "1998-12-31T00:00:00.000000000",
          "1999-12-31T00:00:00.000000000",
          "2000-12-31T00:00:00.000000000",
          "2001-12-31T00:00:00.000000000",
          "2002-12-31T00:00:00.000000000",
          "2003-12-31T00:00:00.000000000",
          "2004-12-31T00:00:00.000000000",
          "2005-12-31T00:00:00.000000000",
          "2006-12-31T00:00:00.000000000",
          "2007-12-31T00:00:00.000000000",
          "2008-12-31T00:00:00.000000000",
          "2009-12-31T00:00:00.000000000",
          "2010-12-31T00:00:00.000000000",
          "2011-12-31T00:00:00.000000000",
          "2012-12-31T00:00:00.000000000",
          "2013-12-31T00:00:00.000000000",
          "2014-12-31T00:00:00.000000000",
          "2015-12-31T00:00:00.000000000",
          "2016-12-31T00:00:00.000000000",
          "2017-12-31T00:00:00.000000000",
          "2018-12-31T00:00:00.000000000",
          "2019-12-31T00:00:00.000000000"
         ],
         "xaxis": "x",
         "y": {
          "bdata": "DXTaQKfNFkBBpw102kAWQDCW/GLJ7xZA0GkDnTaQGEBRuB6F69EYQLy7u7u7+xZAr0fhehRuGUCnDXTaQKcaQIiIiIiICBhAH4XrUbgeGkAL16NwPUoZQIiIiIiISBhA/WLJL5a8GUBI4XoUrscZQIXrUbgeBRlAzczMzMxMGUAL16NwPcoWQHsUrkfhOhxAcT0K16OwHEC4HoXrUTgZQHA9CtejMBtAf7HkF0s+GkAYS36x5NcZQBzotIFOmxhAERERERERF0CX/GLJL5YaQL9Y8oslvxhATxvotIHOGEAs+cWSXywbQFG4HoXr0RtAr0fhehSuGECIiIiIiIgXQDCW/GLJLxhAvLu7u7t7GEC/WPKLJT8YQJf8Yskv1htAl/xiyS+WGkBRuB6F6xEZQD0K16NwfRdA",
          "dtype": "f8"
         },
         "yaxis": "y"
        },
        {
         "hovertemplate": "Year: %{x|%Y}<br>Temp: %{y:.2f}°C",
         "legendgroup": "Routahat",
         "line": {
          "color": "#19d3f3",
          "dash": "solid"
         },
         "marker": {
          "symbol": "circle"
         },
         "mode": "lines+markers",
         "name": "Routahat",
         "showlegend": true,
         "type": "scattergl",
         "x": [
          "1981-12-31T00:00:00.000000000",
          "1982-12-31T00:00:00.000000000",
          "1983-12-31T00:00:00.000000000",
          "1984-12-31T00:00:00.000000000",
          "1985-12-31T00:00:00.000000000",
          "1986-12-31T00:00:00.000000000",
          "1987-12-31T00:00:00.000000000",
          "1988-12-31T00:00:00.000000000",
          "1989-12-31T00:00:00.000000000",
          "1990-12-31T00:00:00.000000000",
          "1991-12-31T00:00:00.000000000",
          "1992-12-31T00:00:00.000000000",
          "1993-12-31T00:00:00.000000000",
          "1994-12-31T00:00:00.000000000",
          "1995-12-31T00:00:00.000000000",
          "1996-12-31T00:00:00.000000000",
          "1997-12-31T00:00:00.000000000",
          "1998-12-31T00:00:00.000000000",
          "1999-12-31T00:00:00.000000000",
          "2000-12-31T00:00:00.000000000",
          "2001-12-31T00:00:00.000000000",
          "2002-12-31T00:00:00.000000000",
          "2003-12-31T00:00:00.000000000",
          "2004-12-31T00:00:00.000000000",
          "2005-12-31T00:00:00.000000000",
          "2006-12-31T00:00:00.000000000",
          "2007-12-31T00:00:00.000000000",
          "2008-12-31T00:00:00.000000000",
          "2009-12-31T00:00:00.000000000",
          "2010-12-31T00:00:00.000000000",
          "2011-12-31T00:00:00.000000000",
          "2012-12-31T00:00:00.000000000",
          "2013-12-31T00:00:00.000000000",
          "2014-12-31T00:00:00.000000000",
          "2015-12-31T00:00:00.000000000",
          "2016-12-31T00:00:00.000000000",
          "2017-12-31T00:00:00.000000000",
          "2018-12-31T00:00:00.000000000",
          "2019-12-31T00:00:00.000000000"
         ],
         "xaxis": "x",
         "y": {
          "bdata": "odMGOm3gOED1KFyPwnU5QJ020GkDLTpAl/xiyS8WOUDUBjptoHM5QCW/WPKLRTlApHA9CteDOUC8u7u7u6s5QG2g0wY6rTlAPQrXo3DtOUCMJb9Y8ms6QEREREREVDpATxvotIH+OUBtoNMGOl06QHsUrkfhCjpAl/xiyS+2OUDbQKcNdGo5QNQGOm2gwzlATxvotIFeOkDziyW/WHI5QB+F61G4njlAC9ejcD0KOkAAAAAAAJA5QJ020GkDLTlAv1jyiyWPOUBY8oslv0g5QJmZmZmZmThAPQrXo3CdOECnDXTaQLc5QJDC9Shc3zlAN9BpA53GOEDXo3A9Cuc4QJf8YskvdjhAZ2ZmZmb2OECQwvUoXK85QBvotIFOOzpAf7HkF0seOkDD9Shcj+I5QPnFkl8sqTlA",
          "dtype": "f8"
         },
         "yaxis": "y"
        },
        {
         "hovertemplate": "Year: %{x|%Y}<br>Temp: %{y:.2f}°C",
         "legendgroup": "Rukum",
         "line": {
          "color": "#FF6692",
          "dash": "solid"
         },
         "marker": {
          "symbol": "circle"
         },
         "mode": "lines+markers",
         "name": "Rukum",
         "showlegend": true,
         "type": "scattergl",
         "x": [
          "1981-12-31T00:00:00.000000000",
          "1982-12-31T00:00:00.000000000",
          "1983-12-31T00:00:00.000000000",
          "1984-12-31T00:00:00.000000000",
          "1985-12-31T00:00:00.000000000",
          "1986-12-31T00:00:00.000000000",
          "1987-12-31T00:00:00.000000000",
          "1988-12-31T00:00:00.000000000",
          "1989-12-31T00:00:00.000000000",
          "1990-12-31T00:00:00.000000000",
          "1991-12-31T00:00:00.000000000",
          "1992-12-31T00:00:00.000000000",
          "1993-12-31T00:00:00.000000000",
          "1994-12-31T00:00:00.000000000",
          "1995-12-31T00:00:00.000000000",
          "1996-12-31T00:00:00.000000000",
          "1997-12-31T00:00:00.000000000",
          "1998-12-31T00:00:00.000000000",
          "1999-12-31T00:00:00.000000000",
          "2000-12-31T00:00:00.000000000",
          "2001-12-31T00:00:00.000000000",
          "2002-12-31T00:00:00.000000000",
          "2003-12-31T00:00:00.000000000",
          "2004-12-31T00:00:00.000000000",
          "2005-12-31T00:00:00.000000000",
          "2006-12-31T00:00:00.000000000",
          "2007-12-31T00:00:00.000000000",
          "2008-12-31T00:00:00.000000000",
          "2009-12-31T00:00:00.000000000",
          "2010-12-31T00:00:00.000000000",
          "2011-12-31T00:00:00.000000000",
          "2012-12-31T00:00:00.000000000",
          "2013-12-31T00:00:00.000000000",
          "2014-12-31T00:00:00.000000000",
          "2015-12-31T00:00:00.000000000",
          "2016-12-31T00:00:00.000000000",
          "2017-12-31T00:00:00.000000000",
          "2018-12-31T00:00:00.000000000",
          "2019-12-31T00:00:00.000000000"
         ],
         "xaxis": "x",
         "y": {
          "bdata": "Y8kvlvwCJEB+seQXS94jQLgehetROCRA5RdLfrHEJEANdNpAp00lQNBpA502MCRAhetRuB5lJkCQwvUoXC8mQJb8YskvFiVA/GLJL5bcJUAREREREfElQDttoNMGWiVAOW2g0wYaJkCkcD0K10MmQD0K16Nw/SVA6LSBThsoJkA6baDTBtokQFVVVVVVVSdAS36x5BerJ0DHkl8s+YUlQAvXo3A9SiZAdNpApw20JkDJL5b8YikmQLy7u7u72yVAagOdNtDJJED1KFyPwrUlQFVVVVVV1SRA0wY6baDzJECTXyz5xVImQCW/WPKLpSZAexSuR+G6JECCThvotIEkQGZmZmZmxiRAfrHkF0s+JUAmv1jyiwUlQHE9Ctej8CZAoNMGOm2AJkBERERERKQlQFK4HoXrsSRA",
          "dtype": "f8"
         },
         "yaxis": "y"
        },
        {
         "hovertemplate": "Year: %{x|%Y}<br>Temp: %{y:.2f}°C",
         "legendgroup": "Rupandehi",
         "line": {
          "color": "#B6E880",
          "dash": "solid"
         },
         "marker": {
          "symbol": "circle"
         },
         "mode": "lines+markers",
         "name": "Rupandehi",
         "showlegend": true,
         "type": "scattergl",
         "x": [
          "1981-12-31T00:00:00.000000000",
          "1982-12-31T00:00:00.000000000",
          "1983-12-31T00:00:00.000000000",
          "1984-12-31T00:00:00.000000000",
          "1985-12-31T00:00:00.000000000",
          "1986-12-31T00:00:00.000000000",
          "1987-12-31T00:00:00.000000000",
          "1988-12-31T00:00:00.000000000",
          "1989-12-31T00:00:00.000000000",
          "1990-12-31T00:00:00.000000000",
          "1991-12-31T00:00:00.000000000",
          "1992-12-31T00:00:00.000000000",
          "1993-12-31T00:00:00.000000000",
          "1994-12-31T00:00:00.000000000",
          "1995-12-31T00:00:00.000000000",
          "1996-12-31T00:00:00.000000000",
          "1997-12-31T00:00:00.000000000",
          "1998-12-31T00:00:00.000000000",
          "1999-12-31T00:00:00.000000000",
          "2000-12-31T00:00:00.000000000",
          "2001-12-31T00:00:00.000000000",
          "2002-12-31T00:00:00.000000000",
          "2003-12-31T00:00:00.000000000",
          "2004-12-31T00:00:00.000000000",
          "2005-12-31T00:00:00.000000000",
          "2006-12-31T00:00:00.000000000",
          "2007-12-31T00:00:00.000000000",
          "2008-12-31T00:00:00.000000000",
          "2009-12-31T00:00:00.000000000",
          "2010-12-31T00:00:00.000000000",
          "2011-12-31T00:00:00.000000000",
          "2012-12-31T00:00:00.000000000",
          "2013-12-31T00:00:00.000000000",
          "2014-12-31T00:00:00.000000000",
          "2015-12-31T00:00:00.000000000",
          "2016-12-31T00:00:00.000000000",
          "2017-12-31T00:00:00.000000000",
          "2018-12-31T00:00:00.000000000",
          "2019-12-31T00:00:00.000000000"
         ],
         "xaxis": "x",
         "y": {
          "bdata": "RERERES0NUDFkl8s+RU2QFVVVVVVlTZAvLu7u7s7NkCF61G4HnU2QHTaQKcNZDZABJ020GmzNkDFkl8s+cU2QOF6FK5HYTZADXTaQKeNNkA30GkDnQY3QJmZmZmZuTZADXTaQKetNkDD9ShcjyI3QA102kCn3TZATxvotIGeNkAEnTbQaZM2QP1iyS+WvDZAO22g0wZqN0BpA5020Hk2QIXrUbgexTZAcT0K16NwN0DQaQOdNtA2QPnFkl8sKTZABzptoNNGNkCvR+F6FB42QFG4HoXrwTVAC9ejcD2qNUB7FK5H4Yo2QHA9Ctej4DZAVVVVVVW1NUCoDXTaQAc2QG2g0wY6fTVA6LSBThsINkBjyS+W/EI2QDttoNMGujZAmZmZmZnJNkAb6LSBTgs2QNBpA502ADZA",
          "dtype": "f8"
         },
         "yaxis": "y"
        },
        {
         "hovertemplate": "Year: %{x|%Y}<br>Temp: %{y:.2f}°C",
         "legendgroup": "Salyan",
         "line": {
          "color": "#FF97FF",
          "dash": "solid"
         },
         "marker": {
          "symbol": "circle"
         },
         "mode": "lines+markers",
         "name": "Salyan",
         "showlegend": true,
         "type": "scattergl",
         "x": [
          "1981-12-31T00:00:00.000000000",
          "1982-12-31T00:00:00.000000000",
          "1983-12-31T00:00:00.000000000",
          "1984-12-31T00:00:00.000000000",
          "1985-12-31T00:00:00.000000000",
          "1986-12-31T00:00:00.000000000",
          "1987-12-31T00:00:00.000000000",
          "1988-12-31T00:00:00.000000000",
          "1989-12-31T00:00:00.000000000",
          "1990-12-31T00:00:00.000000000",
          "1991-12-31T00:00:00.000000000",
          "1992-12-31T00:00:00.000000000",
          "1993-12-31T00:00:00.000000000",
          "1994-12-31T00:00:00.000000000",
          "1995-12-31T00:00:00.000000000",
          "1996-12-31T00:00:00.000000000",
          "1997-12-31T00:00:00.000000000",
          "1998-12-31T00:00:00.000000000",
          "1999-12-31T00:00:00.000000000",
          "2000-12-31T00:00:00.000000000",
          "2001-12-31T00:00:00.000000000",
          "2002-12-31T00:00:00.000000000",
          "2003-12-31T00:00:00.000000000",
          "2004-12-31T00:00:00.000000000",
          "2005-12-31T00:00:00.000000000",
          "2006-12-31T00:00:00.000000000",
          "2007-12-31T00:00:00.000000000",
          "2008-12-31T00:00:00.000000000",
          "2009-12-31T00:00:00.000000000",
          "2010-12-31T00:00:00.000000000",
          "2011-12-31T00:00:00.000000000",
          "2012-12-31T00:00:00.000000000",
          "2013-12-31T00:00:00.000000000",
          "2014-12-31T00:00:00.000000000",
          "2015-12-31T00:00:00.000000000",
          "2016-12-31T00:00:00.000000000",
          "2017-12-31T00:00:00.000000000",
          "2018-12-31T00:00:00.000000000",
          "2019-12-31T00:00:00.000000000"
         ],
         "xaxis": "x",
         "y": {
          "bdata": "mZmZmZlpM0DotIFOG3gzQDMzMzMzszNAY8kvlvzSM0C4HoXrURg0QFK4HoXrsTNAnTbQaQPNNEDbQKcNdHo0QPnFkl8sCTRAjCW/WPI7NECF61G4HqU0QIFOG+i0ITRAGEt+seR3NEAfhetRuL40QFK4HoXrsTRAagOdNtB5NEAVrkfhejQ0QG2g0wY6rTRAGEt+seQ3NUDGkl8s+SU0QH6x5BdLjjRATxvotIEuNUAAAAAAAIA0QDfQaQOdJjRAJb9Y8ov1M0Bcj8L1KBw0QA502kCnnTNApw102kCXM0BPG+i0gX40QC35xZJfrDRAuB6F61GIM0BERERERMQzQJNfLPnFkjNAZ2ZmZmYWNEDrUbgehRs0QKuqqqqqqjRAWfKLJb+4NEBnZmZmZhY0QERERERE1DNA",
          "dtype": "f8"
         },
         "yaxis": "y"
        },
        {
         "hovertemplate": "Year: %{x|%Y}<br>Temp: %{y:.2f}°C",
         "legendgroup": "Sankhuwasabha",
         "line": {
          "color": "#FECB52",
          "dash": "solid"
         },
         "marker": {
          "symbol": "circle"
         },
         "mode": "lines+markers",
         "name": "Sankhuwasabha",
         "showlegend": true,
         "type": "scattergl",
         "x": [
          "1981-12-31T00:00:00.000000000",
          "1982-12-31T00:00:00.000000000",
          "1983-12-31T00:00:00.000000000",
          "1984-12-31T00:00:00.000000000",
          "1985-12-31T00:00:00.000000000",
          "1986-12-31T00:00:00.000000000",
          "1987-12-31T00:00:00.000000000",
          "1988-12-31T00:00:00.000000000",
          "1989-12-31T00:00:00.000000000",
          "1990-12-31T00:00:00.000000000",
          "1991-12-31T00:00:00.000000000",
          "1992-12-31T00:00:00.000000000",
          "1993-12-31T00:00:00.000000000",
          "1994-12-31T00:00:00.000000000",
          "1995-12-31T00:00:00.000000000",
          "1996-12-31T00:00:00.000000000",
          "1997-12-31T00:00:00.000000000",
          "1998-12-31T00:00:00.000000000",
          "1999-12-31T00:00:00.000000000",
          "2000-12-31T00:00:00.000000000",
          "2001-12-31T00:00:00.000000000",
          "2002-12-31T00:00:00.000000000",
          "2003-12-31T00:00:00.000000000",
          "2004-12-31T00:00:00.000000000",
          "2005-12-31T00:00:00.000000000",
          "2006-12-31T00:00:00.000000000",
          "2007-12-31T00:00:00.000000000",
          "2008-12-31T00:00:00.000000000",
          "2009-12-31T00:00:00.000000000",
          "2010-12-31T00:00:00.000000000",
          "2011-12-31T00:00:00.000000000",
          "2012-12-31T00:00:00.000000000",
          "2013-12-31T00:00:00.000000000",
          "2014-12-31T00:00:00.000000000",
          "2015-12-31T00:00:00.000000000",
          "2016-12-31T00:00:00.000000000",
          "2017-12-31T00:00:00.000000000",
          "2018-12-31T00:00:00.000000000",
          "2019-12-31T00:00:00.000000000"
         ],
         "xaxis": "x",
         "y": {
          "bdata": "7FG4HoVrLUBERERERKQtQLy7u7u7uy1ASOF6FK7HLUA7baDTBjouQIXrUbgepS1AY8kvlvzCLkCX/GLJL1YvQMP1KFyPwi1AuB6F61H4LkCkcD0K16MuQBERERERUS5AoNMGOm0AL0AL16NwPaovQPnFkl8sGS9Aq6qqqqoqL0BLfrHkF6stQJX8Yskvdi9AVVVVVVUlMEBApw102qAuQBSuR+F6VC9AY8kvlvwCL0DsUbgehasuQLy7u7u7Gy5A20CnDXR6LkAREREREREvQM3MzMzMTC5AVVVVVVU1LkB4d3d3d1cvQHE9CtejMC9AWPKLJb+YLUDd3d3d3R0uQDCW/GLJby5AoNMGOm3gLkCkcD0K1+MuQN/d3d3dvS9APQrXo3BdL0BLfrHkFysuQFjyiyW/eC5A",
          "dtype": "f8"
         },
         "yaxis": "y"
        },
        {
         "hovertemplate": "Year: %{x|%Y}<br>Temp: %{y:.2f}°C",
         "legendgroup": "Saptari",
         "line": {
          "color": "#636efa",
          "dash": "solid"
         },
         "marker": {
          "symbol": "circle"
         },
         "mode": "lines+markers",
         "name": "Saptari",
         "showlegend": true,
         "type": "scattergl",
         "x": [
          "1981-12-31T00:00:00.000000000",
          "1982-12-31T00:00:00.000000000",
          "1983-12-31T00:00:00.000000000",
          "1984-12-31T00:00:00.000000000",
          "1985-12-31T00:00:00.000000000",
          "1986-12-31T00:00:00.000000000",
          "1987-12-31T00:00:00.000000000",
          "1988-12-31T00:00:00.000000000",
          "1989-12-31T00:00:00.000000000",
          "1990-12-31T00:00:00.000000000",
          "1991-12-31T00:00:00.000000000",
          "1992-12-31T00:00:00.000000000",
          "1993-12-31T00:00:00.000000000",
          "1994-12-31T00:00:00.000000000",
          "1995-12-31T00:00:00.000000000",
          "1996-12-31T00:00:00.000000000",
          "1997-12-31T00:00:00.000000000",
          "1998-12-31T00:00:00.000000000",
          "1999-12-31T00:00:00.000000000",
          "2000-12-31T00:00:00.000000000",
          "2001-12-31T00:00:00.000000000",
          "2002-12-31T00:00:00.000000000",
          "2003-12-31T00:00:00.000000000",
          "2004-12-31T00:00:00.000000000",
          "2005-12-31T00:00:00.000000000",
          "2006-12-31T00:00:00.000000000",
          "2007-12-31T00:00:00.000000000",
          "2008-12-31T00:00:00.000000000",
          "2009-12-31T00:00:00.000000000",
          "2010-12-31T00:00:00.000000000",
          "2011-12-31T00:00:00.000000000",
          "2012-12-31T00:00:00.000000000",
          "2013-12-31T00:00:00.000000000",
          "2014-12-31T00:00:00.000000000",
          "2015-12-31T00:00:00.000000000",
          "2016-12-31T00:00:00.000000000",
          "2017-12-31T00:00:00.000000000",
          "2018-12-31T00:00:00.000000000",
          "2019-12-31T00:00:00.000000000"
         ],
         "xaxis": "x",
         "y": {
          "bdata": "Jb9Y8ovVNkBtoNMGOj03QAvXo3A9ijdAG+i0gU7rNkCTXyz5xVI3QCW/WPKLFTdA7FG4HoVrN0BgLPnFkr83QAvXo3A9SjdAWfKLJb/YN0BwPQrXo/A3QHTaQKcN9DdA7FG4HoXrN0BtoNMGOn04QOi0gU4bCDhAl/xiyS8GOEAL16NwPXo3QAAAAAAA0DdAseQXS35ROECrqqqqqpo3QA102kCn3TdAexSuR+HKN0DNzMzMzGw3QFVVVVVVBTdAj8L1KFxvN0D8Yskvllw3QOxRuB6FyzZAaQOdNtD5NkCTXyz5xbI3QOi0gU4biDdAG+i0gU6rNkAwlvxiyQ83QOF6FK5H4TZA7FG4HoVbN0BLfrHkF5s3QIwlv1jy2zdAMJb8Ysm/N0AREREREVE3QGdmZmZmVjdA",
          "dtype": "f8"
         },
         "yaxis": "y"
        },
        {
         "hovertemplate": "Year: %{x|%Y}<br>Temp: %{y:.2f}°C",
         "legendgroup": "Sarlahi",
         "line": {
          "color": "#EF553B",
          "dash": "solid"
         },
         "marker": {
          "symbol": "circle"
         },
         "mode": "lines+markers",
         "name": "Sarlahi",
         "showlegend": true,
         "type": "scattergl",
         "x": [
          "1981-12-31T00:00:00.000000000",
          "1982-12-31T00:00:00.000000000",
          "1983-12-31T00:00:00.000000000",
          "1984-12-31T00:00:00.000000000",
          "1985-12-31T00:00:00.000000000",
          "1986-12-31T00:00:00.000000000",
          "1987-12-31T00:00:00.000000000",
          "1988-12-31T00:00:00.000000000",
          "1989-12-31T00:00:00.000000000",
          "1990-12-31T00:00:00.000000000",
          "1991-12-31T00:00:00.000000000",
          "1992-12-31T00:00:00.000000000",
          "1993-12-31T00:00:00.000000000",
          "1994-12-31T00:00:00.000000000",
          "1995-12-31T00:00:00.000000000",
          "1996-12-31T00:00:00.000000000",
          "1997-12-31T00:00:00.000000000",
          "1998-12-31T00:00:00.000000000",
          "1999-12-31T00:00:00.000000000",
          "2000-12-31T00:00:00.000000000",
          "2001-12-31T00:00:00.000000000",
          "2002-12-31T00:00:00.000000000",
          "2003-12-31T00:00:00.000000000",
          "2004-12-31T00:00:00.000000000",
          "2005-12-31T00:00:00.000000000",
          "2006-12-31T00:00:00.000000000",
          "2007-12-31T00:00:00.000000000",
          "2008-12-31T00:00:00.000000000",
          "2009-12-31T00:00:00.000000000",
          "2010-12-31T00:00:00.000000000",
          "2011-12-31T00:00:00.000000000",
          "2012-12-31T00:00:00.000000000",
          "2013-12-31T00:00:00.000000000",
          "2014-12-31T00:00:00.000000000",
          "2015-12-31T00:00:00.000000000",
          "2016-12-31T00:00:00.000000000",
          "2017-12-31T00:00:00.000000000",
          "2018-12-31T00:00:00.000000000",
          "2019-12-31T00:00:00.000000000"
         ],
         "xaxis": "x",
         "y": {
          "bdata": "BJ020GmzNkD5xZJfLDk3QPOLJb9YwjdAyS+W/GL5NkBpA5020Ek3QL9Y8oslDzdA84slv1hiN0A7baDTBoo3QJDC9ShcbzdAk18s+cWyN0DJL5b8Yhk4QMkvlvxi+TdALPnFkl+8N0CdNtBpAy04QD0K16NwzTdA20CnDXSaN0DotIFOGzg3QHTaQKcNtDdA4XoUrkdBOEBRuB6F61E3QDfQaQOdljdAH4XrUbjeN0DXo3A9Cnc3QAAAAAAA8DZAA5020GlTN0C1gU4b6CQ3QNBpA502kDZAJb9Y8ouVNkDbQKcNdJo3QDttoNMGujdAH4XrUbieNkCrqqqqqto2QD0K16NwfTZAk18s+cXyNkBBpw102nA3QIXrUbge9TdAseQXS37hN0CTXyz5xYI3QP1iyS+WbDdA",
          "dtype": "f8"
         },
         "yaxis": "y"
        },
        {
         "hovertemplate": "Year: %{x|%Y}<br>Temp: %{y:.2f}°C",
         "legendgroup": "Sindhuli",
         "line": {
          "color": "#00cc96",
          "dash": "solid"
         },
         "marker": {
          "symbol": "circle"
         },
         "mode": "lines+markers",
         "name": "Sindhuli",
         "showlegend": true,
         "type": "scattergl",
         "x": [
          "1981-12-31T00:00:00.000000000",
          "1982-12-31T00:00:00.000000000",
          "1983-12-31T00:00:00.000000000",
          "1984-12-31T00:00:00.000000000",
          "1985-12-31T00:00:00.000000000",
          "1986-12-31T00:00:00.000000000",
          "1987-12-31T00:00:00.000000000",
          "1988-12-31T00:00:00.000000000",
          "1989-12-31T00:00:00.000000000",
          "1990-12-31T00:00:00.000000000",
          "1991-12-31T00:00:00.000000000",
          "1992-12-31T00:00:00.000000000",
          "1993-12-31T00:00:00.000000000",
          "1994-12-31T00:00:00.000000000",
          "1995-12-31T00:00:00.000000000",
          "1996-12-31T00:00:00.000000000",
          "1997-12-31T00:00:00.000000000",
          "1998-12-31T00:00:00.000000000",
          "1999-12-31T00:00:00.000000000",
          "2000-12-31T00:00:00.000000000",
          "2001-12-31T00:00:00.000000000",
          "2002-12-31T00:00:00.000000000",
          "2003-12-31T00:00:00.000000000",
          "2004-12-31T00:00:00.000000000",
          "2005-12-31T00:00:00.000000000",
          "2006-12-31T00:00:00.000000000",
          "2007-12-31T00:00:00.000000000",
          "2008-12-31T00:00:00.000000000",
          "2009-12-31T00:00:00.000000000",
          "2010-12-31T00:00:00.000000000",
          "2011-12-31T00:00:00.000000000",
          "2012-12-31T00:00:00.000000000",
          "2013-12-31T00:00:00.000000000",
          "2014-12-31T00:00:00.000000000",
          "2015-12-31T00:00:00.000000000",
          "2016-12-31T00:00:00.000000000",
          "2017-12-31T00:00:00.000000000",
          "2018-12-31T00:00:00.000000000",
          "2019-12-31T00:00:00.000000000"
         ],
         "xaxis": "x",
         "y": {
          "bdata": "lvxiyS+GNEC8u7u7u/s0QHh3d3d3VzVA/WLJL5bcNEAwlvxiyR81QJmZmZmZ2TRAERERERFBNUAYS36x5Gc1QCIiIiIiMjVAqA102kB3NUAHOm2g08Y1QB+F61G4njVAO22g0wZ6NUDNzMzMzPw1QGAs+cWSjzVA7+7u7u5+NUBVVVVVVQU1QOUXS36xpDVAdNpApw0kNkBxPQrXozA1QE8b6LSBjjVABJ020GmzNUDd3d3d3V01QHTaQKcNtDRAGEt+seQXNUDQaQOdNgA1QAc6baDThjRAbaDTBjqNNEDd3d3d3X01QHTaQKcNlDVABzptoNN2NEBPG+i0gc40QBWuR+F6hDRAMJb8YsnvNEBSuB6F6zE1QO/u7u7urjVA5BdLfrGkNUBjyS+W/CI1QDCW/GLJLzVA",
          "dtype": "f8"
         },
         "yaxis": "y"
        },
        {
         "hovertemplate": "Year: %{x|%Y}<br>Temp: %{y:.2f}°C",
         "legendgroup": "Solukhumbu",
         "line": {
          "color": "#ab63fa",
          "dash": "solid"
         },
         "marker": {
          "symbol": "circle"
         },
         "mode": "lines+markers",
         "name": "Solukhumbu",
         "showlegend": true,
         "type": "scattergl",
         "x": [
          "1981-12-31T00:00:00.000000000",
          "1982-12-31T00:00:00.000000000",
          "1983-12-31T00:00:00.000000000",
          "1984-12-31T00:00:00.000000000",
          "1985-12-31T00:00:00.000000000",
          "1986-12-31T00:00:00.000000000",
          "1987-12-31T00:00:00.000000000",
          "1988-12-31T00:00:00.000000000",
          "1989-12-31T00:00:00.000000000",
          "1990-12-31T00:00:00.000000000",
          "1991-12-31T00:00:00.000000000",
          "1992-12-31T00:00:00.000000000",
          "1993-12-31T00:00:00.000000000",
          "1994-12-31T00:00:00.000000000",
          "1995-12-31T00:00:00.000000000",
          "1996-12-31T00:00:00.000000000",
          "1997-12-31T00:00:00.000000000",
          "1998-12-31T00:00:00.000000000",
          "1999-12-31T00:00:00.000000000",
          "2000-12-31T00:00:00.000000000",
          "2001-12-31T00:00:00.000000000",
          "2002-12-31T00:00:00.000000000",
          "2003-12-31T00:00:00.000000000",
          "2004-12-31T00:00:00.000000000",
          "2005-12-31T00:00:00.000000000",
          "2006-12-31T00:00:00.000000000",
          "2007-12-31T00:00:00.000000000",
          "2008-12-31T00:00:00.000000000",
          "2009-12-31T00:00:00.000000000",
          "2010-12-31T00:00:00.000000000",
          "2011-12-31T00:00:00.000000000",
          "2012-12-31T00:00:00.000000000",
          "2013-12-31T00:00:00.000000000",
          "2014-12-31T00:00:00.000000000",
          "2015-12-31T00:00:00.000000000",
          "2016-12-31T00:00:00.000000000",
          "2017-12-31T00:00:00.000000000",
          "2018-12-31T00:00:00.000000000",
          "2019-12-31T00:00:00.000000000"
         ],
         "xaxis": "x",
         "y": {
          "bdata": "PQrXo3C9CcC7u7u7u7sNwDCW/GLJrwzAkML1KFwPB8BERERERMQGwPnFkl8s+QzAdNpApw10B8CkcD0K1yMDwN3d3d3dXQnAMzMzMzOzA8Bcj8L1KFwIwOUXS36x5AnA5RdLfrFkA8A9CtejcL0GwKuqqqqqKgfAyS+W/GJJBsCIiIiIiIgMwEVERERERP+/9Shcj8L1/r9/seQXS/4GwD0K16NwPQLA84slv1jyA8DTBjptoFMFwEt+seQXSwXAO22g0wa6CcAK16NwPYoAwHE9Ctej8ALAcD0K16NwBcCZmZmZmZkBwFVVVVVV1QDA4XoUrkfhBcCdNtBpA50KwG2g0wY67QXAMJb8YskvBsBpA5020GkEwERERERERPy/pw102kAnAsA9CtejcD0EwMkvlvxiSQfA",
          "dtype": "f8"
         },
         "yaxis": "y"
        },
        {
         "hovertemplate": "Year: %{x|%Y}<br>Temp: %{y:.2f}°C",
         "legendgroup": "Sunsari",
         "line": {
          "color": "#FFA15A",
          "dash": "solid"
         },
         "marker": {
          "symbol": "circle"
         },
         "mode": "lines+markers",
         "name": "Sunsari",
         "showlegend": true,
         "type": "scattergl",
         "x": [
          "1981-12-31T00:00:00.000000000",
          "1982-12-31T00:00:00.000000000",
          "1983-12-31T00:00:00.000000000",
          "1984-12-31T00:00:00.000000000",
          "1985-12-31T00:00:00.000000000",
          "1986-12-31T00:00:00.000000000",
          "1987-12-31T00:00:00.000000000",
          "1988-12-31T00:00:00.000000000",
          "1989-12-31T00:00:00.000000000",
          "1990-12-31T00:00:00.000000000",
          "1991-12-31T00:00:00.000000000",
          "1992-12-31T00:00:00.000000000",
          "1993-12-31T00:00:00.000000000",
          "1994-12-31T00:00:00.000000000",
          "1995-12-31T00:00:00.000000000",
          "1996-12-31T00:00:00.000000000",
          "1997-12-31T00:00:00.000000000",
          "1998-12-31T00:00:00.000000000",
          "1999-12-31T00:00:00.000000000",
          "2000-12-31T00:00:00.000000000",
          "2001-12-31T00:00:00.000000000",
          "2002-12-31T00:00:00.000000000",
          "2003-12-31T00:00:00.000000000",
          "2004-12-31T00:00:00.000000000",
          "2005-12-31T00:00:00.000000000",
          "2006-12-31T00:00:00.000000000",
          "2007-12-31T00:00:00.000000000",
          "2008-12-31T00:00:00.000000000",
          "2009-12-31T00:00:00.000000000",
          "2010-12-31T00:00:00.000000000",
          "2011-12-31T00:00:00.000000000",
          "2012-12-31T00:00:00.000000000",
          "2013-12-31T00:00:00.000000000",
          "2014-12-31T00:00:00.000000000",
          "2015-12-31T00:00:00.000000000",
          "2016-12-31T00:00:00.000000000",
          "2017-12-31T00:00:00.000000000",
          "2018-12-31T00:00:00.000000000",
          "2019-12-31T00:00:00.000000000"
         ],
         "xaxis": "x",
         "y": {
          "bdata": "zczMzMwMNkBZ8oslv0g2QAAAAAAAkDZAC9ejcD0aNkAUrkfheoQ2QLHkF0t+UTZAN9BpA522NkB4d3d3dxc3QHh3d3d3ZzZA3d3d3d39NkBPG+i0gf42QKRwPQrX8zZAw/UoXI8iN0Cg0wY6baA3QGAs+cWSPzdAk18s+cUyN0B02kCnDZQ2QD0K16Nw3TZApw102kBXN0B/seQXS742QMWSXyz59TZAMJb8YsnPNkDlF0t+sZQ2QMWSXyz5RTZAl/xiyS+mNkAEnTbQaaM2QHsUrkfhGjZAVVVVVVVFNkAYS36x5Nc2QHA9CtejsDZAXI/C9SjsNUB02kCnDVQ2QH+x5BdLPjZAFK5H4Xq0NkA9CtejcP02QLWBThvoRDdAk18s+cUSN0BERERERJQ2QHTaQKcNpDZA",
          "dtype": "f8"
         },
         "yaxis": "y"
        },
        {
         "hovertemplate": "Year: %{x|%Y}<br>Temp: %{y:.2f}°C",
         "legendgroup": "Surkhet",
         "line": {
          "color": "#19d3f3",
          "dash": "solid"
         },
         "marker": {
          "symbol": "circle"
         },
         "mode": "lines+markers",
         "name": "Surkhet",
         "showlegend": true,
         "type": "scattergl",
         "x": [
          "1981-12-31T00:00:00.000000000",
          "1982-12-31T00:00:00.000000000",
          "1983-12-31T00:00:00.000000000",
          "1984-12-31T00:00:00.000000000",
          "1985-12-31T00:00:00.000000000",
          "1986-12-31T00:00:00.000000000",
          "1987-12-31T00:00:00.000000000",
          "1988-12-31T00:00:00.000000000",
          "1989-12-31T00:00:00.000000000",
          "1990-12-31T00:00:00.000000000",
          "1991-12-31T00:00:00.000000000",
          "1992-12-31T00:00:00.000000000",
          "1993-12-31T00:00:00.000000000",
          "1994-12-31T00:00:00.000000000",
          "1995-12-31T00:00:00.000000000",
          "1996-12-31T00:00:00.000000000",
          "1997-12-31T00:00:00.000000000",
          "1998-12-31T00:00:00.000000000",
          "1999-12-31T00:00:00.000000000",
          "2000-12-31T00:00:00.000000000",
          "2001-12-31T00:00:00.000000000",
          "2002-12-31T00:00:00.000000000",
          "2003-12-31T00:00:00.000000000",
          "2004-12-31T00:00:00.000000000",
          "2005-12-31T00:00:00.000000000",
          "2006-12-31T00:00:00.000000000",
          "2007-12-31T00:00:00.000000000",
          "2008-12-31T00:00:00.000000000",
          "2009-12-31T00:00:00.000000000",
          "2010-12-31T00:00:00.000000000",
          "2011-12-31T00:00:00.000000000",
          "2012-12-31T00:00:00.000000000",
          "2013-12-31T00:00:00.000000000",
          "2014-12-31T00:00:00.000000000",
          "2015-12-31T00:00:00.000000000",
          "2016-12-31T00:00:00.000000000",
          "2017-12-31T00:00:00.000000000",
          "2018-12-31T00:00:00.000000000",
          "2019-12-31T00:00:00.000000000"
         ],
         "xaxis": "x",
         "y": {
          "bdata": "84slv1gCM0DNzMzMzCwzQI/C9ShcPzNAmpmZmZl5M0Ab6LSBTrszQMkvlvxiSTNAAAAAAACQNEB7FK5H4Qo0QAc6baDTxjNAjCW/WPLrM0DQaQOdNlA0QMP1KFyP0jNAJb9Y8os1NEDv7u7u7n40QClcj8L1aDRAWfKLJb8oNEBjyS+W/NIzQOtRuB6FazRAv1jyiyXvNEDNzMzMzLwzQEGnDXTaQDRAjCW/WPLbNEApXI/C9Rg0QFnyiyW/2DNAfrHkF0t+M0BfLPnFks8zQG2g0wY6PTNApHA9CtczM0De3d3d3S00QLHkF0t+UTRApw102kAXM0DrUbgehXszQEGnDXTaUDNAk18s+cXSM0DUBjptoNMzQOF6FK5HcTRA16NwPQp3NEA9CtejcM0zQKDTBjptcDNA",
          "dtype": "f8"
         },
         "yaxis": "y"
        },
        {
         "hovertemplate": "Year: %{x|%Y}<br>Temp: %{y:.2f}°C",
         "legendgroup": "Syangja",
         "line": {
          "color": "#FF6692",
          "dash": "solid"
         },
         "marker": {
          "symbol": "circle"
         },
         "mode": "lines+markers",
         "name": "Syangja",
         "showlegend": true,
         "type": "scattergl",
         "x": [
          "1981-12-31T00:00:00.000000000",
          "1982-12-31T00:00:00.000000000",
          "1983-12-31T00:00:00.000000000",
          "1984-12-31T00:00:00.000000000",
          "1985-12-31T00:00:00.000000000",
          "1986-12-31T00:00:00.000000000",
          "1987-12-31T00:00:00.000000000",
          "1988-12-31T00:00:00.000000000",
          "1989-12-31T00:00:00.000000000",
          "1990-12-31T00:00:00.000000000",
          "1991-12-31T00:00:00.000000000",
          "1992-12-31T00:00:00.000000000",
          "1993-12-31T00:00:00.000000000",
          "1994-12-31T00:00:00.000000000",
          "1995-12-31T00:00:00.000000000",
          "1996-12-31T00:00:00.000000000",
          "1997-12-31T00:00:00.000000000",
          "1998-12-31T00:00:00.000000000",
          "1999-12-31T00:00:00.000000000",
          "2000-12-31T00:00:00.000000000",
          "2001-12-31T00:00:00.000000000",
          "2002-12-31T00:00:00.000000000",
          "2003-12-31T00:00:00.000000000",
          "2004-12-31T00:00:00.000000000",
          "2005-12-31T00:00:00.000000000",
          "2006-12-31T00:00:00.000000000",
          "2007-12-31T00:00:00.000000000",
          "2008-12-31T00:00:00.000000000",
          "2009-12-31T00:00:00.000000000",
          "2010-12-31T00:00:00.000000000",
          "2011-12-31T00:00:00.000000000",
          "2012-12-31T00:00:00.000000000",
          "2013-12-31T00:00:00.000000000",
          "2014-12-31T00:00:00.000000000",
          "2015-12-31T00:00:00.000000000",
          "2016-12-31T00:00:00.000000000",
          "2017-12-31T00:00:00.000000000",
          "2018-12-31T00:00:00.000000000",
          "2019-12-31T00:00:00.000000000"
         ],
         "xaxis": "x",
         "y": {
          "bdata": "7+7u7u5eMUCdNtBpA50xQKuqqqqq+jFAMzMzMzPjMUC/WPKLJQ8yQPOLJb9Y4jFAKVyPwvVYMkBqA5020GkyQDfQaQOd9jFAj8L1KFwvMkB+seQXS34yQIFOG+i0QTJAyS+W/GJJMkCPwvUoXJ8yQNejcD0KVzJA16NwPQo3MkANdNpAp/0xQNejcD0KhzJAtYFOG+gEM0BnZmZmZhYyQHTaQKcNdDJAexSuR+HaMkCamZmZmWkyQBvotIFO2zFAMzMzMzPTMUAVrkfheuQxQJ020GkDjTFA61G4HoV7MUBxPQrXo0AyQIXrUbgelTJAPQrXo3B9MUAlv1jyi7UxQLWBThvoVDFAuB6F61G4MUBLfrHkF7sxQFVVVVVVZTJAPQrXo3BNMkD9YskvlqwxQDptoNMGijFA",
          "dtype": "f8"
         },
         "yaxis": "y"
        },
        {
         "hovertemplate": "Year: %{x|%Y}<br>Temp: %{y:.2f}°C",
         "legendgroup": "Tanahun",
         "line": {
          "color": "#B6E880",
          "dash": "solid"
         },
         "marker": {
          "symbol": "circle"
         },
         "mode": "lines+markers",
         "name": "Tanahun",
         "showlegend": true,
         "type": "scattergl",
         "x": [
          "1981-12-31T00:00:00.000000000",
          "1982-12-31T00:00:00.000000000",
          "1983-12-31T00:00:00.000000000",
          "1984-12-31T00:00:00.000000000",
          "1985-12-31T00:00:00.000000000",
          "1986-12-31T00:00:00.000000000",
          "1987-12-31T00:00:00.000000000",
          "1988-12-31T00:00:00.000000000",
          "1989-12-31T00:00:00.000000000",
          "1990-12-31T00:00:00.000000000",
          "1991-12-31T00:00:00.000000000",
          "1992-12-31T00:00:00.000000000",
          "1993-12-31T00:00:00.000000000",
          "1994-12-31T00:00:00.000000000",
          "1995-12-31T00:00:00.000000000",
          "1996-12-31T00:00:00.000000000",
          "1997-12-31T00:00:00.000000000",
          "1998-12-31T00:00:00.000000000",
          "1999-12-31T00:00:00.000000000",
          "2000-12-31T00:00:00.000000000",
          "2001-12-31T00:00:00.000000000",
          "2002-12-31T00:00:00.000000000",
          "2003-12-31T00:00:00.000000000",
          "2004-12-31T00:00:00.000000000",
          "2005-12-31T00:00:00.000000000",
          "2006-12-31T00:00:00.000000000",
          "2007-12-31T00:00:00.000000000",
          "2008-12-31T00:00:00.000000000",
          "2009-12-31T00:00:00.000000000",
          "2010-12-31T00:00:00.000000000",
          "2011-12-31T00:00:00.000000000",
          "2012-12-31T00:00:00.000000000",
          "2013-12-31T00:00:00.000000000",
          "2014-12-31T00:00:00.000000000",
          "2015-12-31T00:00:00.000000000",
          "2016-12-31T00:00:00.000000000",
          "2017-12-31T00:00:00.000000000",
          "2018-12-31T00:00:00.000000000",
          "2019-12-31T00:00:00.000000000"
         ],
         "xaxis": "x",
         "y": {
          "bdata": "Jb9Y8ovFJ0BVVVVVVfUnQGPJL5b8YihAYCz5xZK/KEB/seQXS/4oQJf8YskvVihAf7HkF0t+KUBpA5020MkpQASdNtBpwyhAZ2ZmZmZmKUBcj8L1KHwpQH+x5BdLHilAAAAAAABgKUCIiIiIiMgpQD0K16NwPSlAQacNdNpAKUA5baDTBlooQNtApw10WipA16NwPQrXKkC4HoXrURgpQHh3d3d39ylAY8kvlvwCKkDhehSuR6EpQBhLfrHktyhAk18s+cVSKEA9CtejcD0pQIiIiIiIiChAl/xiyS92KEA9CtejcL0pQI/C9ShcTypAC9ejcD1qKEDziyW/WHIoQFG4HoXrMShAxZJfLPmlKECBThvotCEoQHsUrkfh2ilAU7gehetRKUA9CtejcF0oQHh3d3d31ydA",
          "dtype": "f8"
         },
         "yaxis": "y"
        },
        {
         "hovertemplate": "Year: %{x|%Y}<br>Temp: %{y:.2f}°C",
         "legendgroup": "Taplejung",
         "line": {
          "color": "#FF97FF",
          "dash": "solid"
         },
         "marker": {
          "symbol": "circle"
         },
         "mode": "lines+markers",
         "name": "Taplejung",
         "showlegend": true,
         "type": "scattergl",
         "x": [
          "1981-12-31T00:00:00.000000000",
          "1982-12-31T00:00:00.000000000",
          "1983-12-31T00:00:00.000000000",
          "1984-12-31T00:00:00.000000000",
          "1985-12-31T00:00:00.000000000",
          "1986-12-31T00:00:00.000000000",
          "1987-12-31T00:00:00.000000000",
          "1988-12-31T00:00:00.000000000",
          "1989-12-31T00:00:00.000000000",
          "1990-12-31T00:00:00.000000000",
          "1991-12-31T00:00:00.000000000",
          "1992-12-31T00:00:00.000000000",
          "1993-12-31T00:00:00.000000000",
          "1994-12-31T00:00:00.000000000",
          "1995-12-31T00:00:00.000000000",
          "1996-12-31T00:00:00.000000000",
          "1997-12-31T00:00:00.000000000",
          "1998-12-31T00:00:00.000000000",
          "1999-12-31T00:00:00.000000000",
          "2000-12-31T00:00:00.000000000",
          "2001-12-31T00:00:00.000000000",
          "2002-12-31T00:00:00.000000000",
          "2003-12-31T00:00:00.000000000",
          "2004-12-31T00:00:00.000000000",
          "2005-12-31T00:00:00.000000000",
          "2006-12-31T00:00:00.000000000",
          "2007-12-31T00:00:00.000000000",
          "2008-12-31T00:00:00.000000000",
          "2009-12-31T00:00:00.000000000",
          "2010-12-31T00:00:00.000000000",
          "2011-12-31T00:00:00.000000000",
          "2012-12-31T00:00:00.000000000",
          "2013-12-31T00:00:00.000000000",
          "2014-12-31T00:00:00.000000000",
          "2015-12-31T00:00:00.000000000",
          "2016-12-31T00:00:00.000000000",
          "2017-12-31T00:00:00.000000000",
          "2018-12-31T00:00:00.000000000",
          "2019-12-31T00:00:00.000000000"
         ],
         "xaxis": "x",
         "y": {
          "bdata": "pHA9CtejKkBBpw102qAqQKDTBjptoCpAk18s+cXyKkDziyW/WFIrQB+F61G4vipAseQXS37xK0ANdNpAp40sQKcNdNpAxypAO22g0wb6K0Cx5BdLfpErQD0K16NwHStAoNMGOm0ALEBtoNMGOm0sQM3MzMzMDCxAG+i0gU4bLEDhehSuR4EqQEGnDXTaYCxA6LSBThsoLUBRuB6F65ErQMkvlvxiSSxAYCz5xZLfK0AL16NwPaorQKDTBjptYCtAnTbQaQO9K0D8YskvllwsQCz5xZJfrCtAQacNdNqAK0CIiIiIiGgsQMWSXyz5ZSxAFK5H4Xr0KkB/seQXS14rQIFOG+i04StAwFjyiyU/LED1KFyPwjUsQBzotIFOGy1A9Shcj8K1LECg0wY6bYArQPnFkl8suStA",
          "dtype": "f8"
         },
         "yaxis": "y"
        },
        {
         "hovertemplate": "Year: %{x|%Y}<br>Temp: %{y:.2f}°C",
         "legendgroup": "Terhathum",
         "line": {
          "color": "#FECB52",
          "dash": "solid"
         },
         "marker": {
          "symbol": "circle"
         },
         "mode": "lines+markers",
         "name": "Terhathum",
         "showlegend": true,
         "type": "scattergl",
         "x": [
          "1981-12-31T00:00:00.000000000",
          "1982-12-31T00:00:00.000000000",
          "1983-12-31T00:00:00.000000000",
          "1984-12-31T00:00:00.000000000",
          "1985-12-31T00:00:00.000000000",
          "1986-12-31T00:00:00.000000000",
          "1987-12-31T00:00:00.000000000",
          "1988-12-31T00:00:00.000000000",
          "1989-12-31T00:00:00.000000000",
          "1990-12-31T00:00:00.000000000",
          "1991-12-31T00:00:00.000000000",
          "1992-12-31T00:00:00.000000000",
          "1993-12-31T00:00:00.000000000",
          "1994-12-31T00:00:00.000000000",
          "1995-12-31T00:00:00.000000000",
          "1996-12-31T00:00:00.000000000",
          "1997-12-31T00:00:00.000000000",
          "1998-12-31T00:00:00.000000000",
          "1999-12-31T00:00:00.000000000",
          "2000-12-31T00:00:00.000000000",
          "2001-12-31T00:00:00.000000000",
          "2002-12-31T00:00:00.000000000",
          "2003-12-31T00:00:00.000000000",
          "2004-12-31T00:00:00.000000000",
          "2005-12-31T00:00:00.000000000",
          "2006-12-31T00:00:00.000000000",
          "2007-12-31T00:00:00.000000000",
          "2008-12-31T00:00:00.000000000",
          "2009-12-31T00:00:00.000000000",
          "2010-12-31T00:00:00.000000000",
          "2011-12-31T00:00:00.000000000",
          "2012-12-31T00:00:00.000000000",
          "2013-12-31T00:00:00.000000000",
          "2014-12-31T00:00:00.000000000",
          "2015-12-31T00:00:00.000000000",
          "2016-12-31T00:00:00.000000000",
          "2017-12-31T00:00:00.000000000",
          "2018-12-31T00:00:00.000000000",
          "2019-12-31T00:00:00.000000000"
         ],
         "xaxis": "x",
         "y": {
          "bdata": "pHA9CtejKkBBpw102qAqQKDTBjptoCpAk18s+cXyKkDziyW/WFIrQB+F61G4vipAseQXS37xK0ANdNpAp40sQKcNdNpAxypAO22g0wb6K0Cx5BdLfpErQD0K16NwHStAoNMGOm0ALEBtoNMGOm0sQM3MzMzMDCxAG+i0gU4bLEDhehSuR4EqQEGnDXTaYCxA6LSBThsoLUBRuB6F65ErQMkvlvxiSSxAYCz5xZLfK0AL16NwPaorQKDTBjptYCtAnTbQaQO9K0D8YskvllwsQCz5xZJfrCtAQacNdNqAK0CIiIiIiGgsQMWSXyz5ZSxAFK5H4Xr0KkB/seQXS14rQIFOG+i04StAwFjyiyU/LED1KFyPwjUsQBzotIFOGy1A9Shcj8K1LECg0wY6bYArQPnFkl8suStA",
          "dtype": "f8"
         },
         "yaxis": "y"
        },
        {
         "hovertemplate": "Year: %{x|%Y}<br>Temp: %{y:.2f}°C",
         "legendgroup": "Udayapur",
         "line": {
          "color": "#636efa",
          "dash": "solid"
         },
         "marker": {
          "symbol": "circle"
         },
         "mode": "lines+markers",
         "name": "Udayapur",
         "showlegend": true,
         "type": "scattergl",
         "x": [
          "1981-12-31T00:00:00.000000000",
          "1982-12-31T00:00:00.000000000",
          "1983-12-31T00:00:00.000000000",
          "1984-12-31T00:00:00.000000000",
          "1985-12-31T00:00:00.000000000",
          "1986-12-31T00:00:00.000000000",
          "1987-12-31T00:00:00.000000000",
          "1988-12-31T00:00:00.000000000",
          "1989-12-31T00:00:00.000000000",
          "1990-12-31T00:00:00.000000000",
          "1991-12-31T00:00:00.000000000",
          "1992-12-31T00:00:00.000000000",
          "1993-12-31T00:00:00.000000000",
          "1994-12-31T00:00:00.000000000",
          "1995-12-31T00:00:00.000000000",
          "1996-12-31T00:00:00.000000000",
          "1997-12-31T00:00:00.000000000",
          "1998-12-31T00:00:00.000000000",
          "1999-12-31T00:00:00.000000000",
          "2000-12-31T00:00:00.000000000",
          "2001-12-31T00:00:00.000000000",
          "2002-12-31T00:00:00.000000000",
          "2003-12-31T00:00:00.000000000",
          "2004-12-31T00:00:00.000000000",
          "2005-12-31T00:00:00.000000000",
          "2006-12-31T00:00:00.000000000",
          "2007-12-31T00:00:00.000000000",
          "2008-12-31T00:00:00.000000000",
          "2009-12-31T00:00:00.000000000",
          "2010-12-31T00:00:00.000000000",
          "2011-12-31T00:00:00.000000000",
          "2012-12-31T00:00:00.000000000",
          "2013-12-31T00:00:00.000000000",
          "2014-12-31T00:00:00.000000000",
          "2015-12-31T00:00:00.000000000",
          "2016-12-31T00:00:00.000000000",
          "2017-12-31T00:00:00.000000000",
          "2018-12-31T00:00:00.000000000",
          "2019-12-31T00:00:00.000000000"
         ],
         "xaxis": "x",
         "y": {
          "bdata": "Jb9Y8ovVNkBtoNMGOj03QAvXo3A9ijdAG+i0gU7rNkCTXyz5xVI3QCW/WPKLFTdA7FG4HoVrN0BgLPnFkr83QAvXo3A9SjdAWfKLJb/YN0BwPQrXo/A3QHTaQKcN9DdA7FG4HoXrN0BtoNMGOn04QOi0gU4bCDhAl/xiyS8GOEAL16NwPXo3QAAAAAAA0DdAseQXS35ROECrqqqqqpo3QA102kCn3TdAexSuR+HKN0DNzMzMzGw3QFVVVVVVBTdAj8L1KFxvN0D8Yskvllw3QOxRuB6FyzZAaQOdNtD5NkCTXyz5xbI3QOi0gU4biDdAG+i0gU6rNkAwlvxiyQ83QOF6FK5H4TZA7FG4HoVbN0BLfrHkF5s3QIwlv1jy2zdAMJb8Ysm/N0AREREREVE3QGdmZmZmVjdA",
          "dtype": "f8"
         },
         "yaxis": "y"
        }
       ],
       "layout": {
        "hovermode": "x unified",
        "legend": {
         "title": {
          "text": "district"
         },
         "tracegroupgap": 0
        },
        "template": {
         "data": {
          "bar": [
           {
            "error_x": {
             "color": "#2a3f5f"
            },
            "error_y": {
             "color": "#2a3f5f"
            },
            "marker": {
             "line": {
              "color": "#E5ECF6",
              "width": 0.5
             },
             "pattern": {
              "fillmode": "overlay",
              "size": 10,
              "solidity": 0.2
             }
            },
            "type": "bar"
           }
          ],
          "barpolar": [
           {
            "marker": {
             "line": {
              "color": "#E5ECF6",
              "width": 0.5
             },
             "pattern": {
              "fillmode": "overlay",
              "size": 10,
              "solidity": 0.2
             }
            },
            "type": "barpolar"
           }
          ],
          "carpet": [
           {
            "aaxis": {
             "endlinecolor": "#2a3f5f",
             "gridcolor": "white",
             "linecolor": "white",
             "minorgridcolor": "white",
             "startlinecolor": "#2a3f5f"
            },
            "baxis": {
             "endlinecolor": "#2a3f5f",
             "gridcolor": "white",
             "linecolor": "white",
             "minorgridcolor": "white",
             "startlinecolor": "#2a3f5f"
            },
            "type": "carpet"
           }
          ],
          "choropleth": [
           {
            "colorbar": {
             "outlinewidth": 0,
             "ticks": ""
            },
            "type": "choropleth"
           }
          ],
          "contour": [
           {
            "colorbar": {
             "outlinewidth": 0,
             "ticks": ""
            },
            "colorscale": [
             [
              0,
              "#0d0887"
             ],
             [
              0.1111111111111111,
              "#46039f"
             ],
             [
              0.2222222222222222,
              "#7201a8"
             ],
             [
              0.3333333333333333,
              "#9c179e"
             ],
             [
              0.4444444444444444,
              "#bd3786"
             ],
             [
              0.5555555555555556,
              "#d8576b"
             ],
             [
              0.6666666666666666,
              "#ed7953"
             ],
             [
              0.7777777777777778,
              "#fb9f3a"
             ],
             [
              0.8888888888888888,
              "#fdca26"
             ],
             [
              1,
              "#f0f921"
             ]
            ],
            "type": "contour"
           }
          ],
          "contourcarpet": [
           {
            "colorbar": {
             "outlinewidth": 0,
             "ticks": ""
            },
            "type": "contourcarpet"
           }
          ],
          "heatmap": [
           {
            "colorbar": {
             "outlinewidth": 0,
             "ticks": ""
            },
            "colorscale": [
             [
              0,
              "#0d0887"
             ],
             [
              0.1111111111111111,
              "#46039f"
             ],
             [
              0.2222222222222222,
              "#7201a8"
             ],
             [
              0.3333333333333333,
              "#9c179e"
             ],
             [
              0.4444444444444444,
              "#bd3786"
             ],
             [
              0.5555555555555556,
              "#d8576b"
             ],
             [
              0.6666666666666666,
              "#ed7953"
             ],
             [
              0.7777777777777778,
              "#fb9f3a"
             ],
             [
              0.8888888888888888,
              "#fdca26"
             ],
             [
              1,
              "#f0f921"
             ]
            ],
            "type": "heatmap"
           }
          ],
          "histogram": [
           {
            "marker": {
             "pattern": {
              "fillmode": "overlay",
              "size": 10,
              "solidity": 0.2
             }
            },
            "type": "histogram"
           }
          ],
          "histogram2d": [
           {
            "colorbar": {
             "outlinewidth": 0,
             "ticks": ""
            },
            "colorscale": [
             [
              0,
              "#0d0887"
             ],
             [
              0.1111111111111111,
              "#46039f"
             ],
             [
              0.2222222222222222,
              "#7201a8"
             ],
             [
              0.3333333333333333,
              "#9c179e"
             ],
             [
              0.4444444444444444,
              "#bd3786"
             ],
             [
              0.5555555555555556,
              "#d8576b"
             ],
             [
              0.6666666666666666,
              "#ed7953"
             ],
             [
              0.7777777777777778,
              "#fb9f3a"
             ],
             [
              0.8888888888888888,
              "#fdca26"
             ],
             [
              1,
              "#f0f921"
             ]
            ],
            "type": "histogram2d"
           }
          ],
          "histogram2dcontour": [
           {
            "colorbar": {
             "outlinewidth": 0,
             "ticks": ""
            },
            "colorscale": [
             [
              0,
              "#0d0887"
             ],
             [
              0.1111111111111111,
              "#46039f"
             ],
             [
              0.2222222222222222,
              "#7201a8"
             ],
             [
              0.3333333333333333,
              "#9c179e"
             ],
             [
              0.4444444444444444,
              "#bd3786"
             ],
             [
              0.5555555555555556,
              "#d8576b"
             ],
             [
              0.6666666666666666,
              "#ed7953"
             ],
             [
              0.7777777777777778,
              "#fb9f3a"
             ],
             [
              0.8888888888888888,
              "#fdca26"
             ],
             [
              1,
              "#f0f921"
             ]
            ],
            "type": "histogram2dcontour"
           }
          ],
          "mesh3d": [
           {
            "colorbar": {
             "outlinewidth": 0,
             "ticks": ""
            },
            "type": "mesh3d"
           }
          ],
          "parcoords": [
           {
            "line": {
             "colorbar": {
              "outlinewidth": 0,
              "ticks": ""
             }
            },
            "type": "parcoords"
           }
          ],
          "pie": [
           {
            "automargin": true,
            "type": "pie"
           }
          ],
          "scatter": [
           {
            "fillpattern": {
             "fillmode": "overlay",
             "size": 10,
             "solidity": 0.2
            },
            "type": "scatter"
           }
          ],
          "scatter3d": [
           {
            "line": {
             "colorbar": {
              "outlinewidth": 0,
              "ticks": ""
             }
            },
            "marker": {
             "colorbar": {
              "outlinewidth": 0,
              "ticks": ""
             }
            },
            "type": "scatter3d"
           }
          ],
          "scattercarpet": [
           {
            "marker": {
             "colorbar": {
              "outlinewidth": 0,
              "ticks": ""
             }
            },
            "type": "scattercarpet"
           }
          ],
          "scattergeo": [
           {
            "marker": {
             "colorbar": {
              "outlinewidth": 0,
              "ticks": ""
             }
            },
            "type": "scattergeo"
           }
          ],
          "scattergl": [
           {
            "marker": {
             "colorbar": {
              "outlinewidth": 0,
              "ticks": ""
             }
            },
            "type": "scattergl"
           }
          ],
          "scattermap": [
           {
            "marker": {
             "colorbar": {
              "outlinewidth": 0,
              "ticks": ""
             }
            },
            "type": "scattermap"
           }
          ],
          "scattermapbox": [
           {
            "marker": {
             "colorbar": {
              "outlinewidth": 0,
              "ticks": ""
             }
            },
            "type": "scattermapbox"
           }
          ],
          "scatterpolar": [
           {
            "marker": {
             "colorbar": {
              "outlinewidth": 0,
              "ticks": ""
             }
            },
            "type": "scatterpolar"
           }
          ],
          "scatterpolargl": [
           {
            "marker": {
             "colorbar": {
              "outlinewidth": 0,
              "ticks": ""
             }
            },
            "type": "scatterpolargl"
           }
          ],
          "scatterternary": [
           {
            "marker": {
             "colorbar": {
              "outlinewidth": 0,
              "ticks": ""
             }
            },
            "type": "scatterternary"
           }
          ],
          "surface": [
           {
            "colorbar": {
             "outlinewidth": 0,
             "ticks": ""
            },
            "colorscale": [
             [
              0,
              "#0d0887"
             ],
             [
              0.1111111111111111,
              "#46039f"
             ],
             [
              0.2222222222222222,
              "#7201a8"
             ],
             [
              0.3333333333333333,
              "#9c179e"
             ],
             [
              0.4444444444444444,
              "#bd3786"
             ],
             [
              0.5555555555555556,
              "#d8576b"
             ],
             [
              0.6666666666666666,
              "#ed7953"
             ],
             [
              0.7777777777777778,
              "#fb9f3a"
             ],
             [
              0.8888888888888888,
              "#fdca26"
             ],
             [
              1,
              "#f0f921"
             ]
            ],
            "type": "surface"
           }
          ],
          "table": [
           {
            "cells": {
             "fill": {
              "color": "#EBF0F8"
             },
             "line": {
              "color": "white"
             }
            },
            "header": {
             "fill": {
              "color": "#C8D4E3"
             },
             "line": {
              "color": "white"
             }
            },
            "type": "table"
           }
          ]
         },
         "layout": {
          "annotationdefaults": {
           "arrowcolor": "#2a3f5f",
           "arrowhead": 0,
           "arrowwidth": 1
          },
          "autotypenumbers": "strict",
          "coloraxis": {
           "colorbar": {
            "outlinewidth": 0,
            "ticks": ""
           }
          },
          "colorscale": {
           "diverging": [
            [
             0,
             "#8e0152"
            ],
            [
             0.1,
             "#c51b7d"
            ],
            [
             0.2,
             "#de77ae"
            ],
            [
             0.3,
             "#f1b6da"
            ],
            [
             0.4,
             "#fde0ef"
            ],
            [
             0.5,
             "#f7f7f7"
            ],
            [
             0.6,
             "#e6f5d0"
            ],
            [
             0.7,
             "#b8e186"
            ],
            [
             0.8,
             "#7fbc41"
            ],
            [
             0.9,
             "#4d9221"
            ],
            [
             1,
             "#276419"
            ]
           ],
           "sequential": [
            [
             0,
             "#0d0887"
            ],
            [
             0.1111111111111111,
             "#46039f"
            ],
            [
             0.2222222222222222,
             "#7201a8"
            ],
            [
             0.3333333333333333,
             "#9c179e"
            ],
            [
             0.4444444444444444,
             "#bd3786"
            ],
            [
             0.5555555555555556,
             "#d8576b"
            ],
            [
             0.6666666666666666,
             "#ed7953"
            ],
            [
             0.7777777777777778,
             "#fb9f3a"
            ],
            [
             0.8888888888888888,
             "#fdca26"
            ],
            [
             1,
             "#f0f921"
            ]
           ],
           "sequentialminus": [
            [
             0,
             "#0d0887"
            ],
            [
             0.1111111111111111,
             "#46039f"
            ],
            [
             0.2222222222222222,
             "#7201a8"
            ],
            [
             0.3333333333333333,
             "#9c179e"
            ],
            [
             0.4444444444444444,
             "#bd3786"
            ],
            [
             0.5555555555555556,
             "#d8576b"
            ],
            [
             0.6666666666666666,
             "#ed7953"
            ],
            [
             0.7777777777777778,
             "#fb9f3a"
            ],
            [
             0.8888888888888888,
             "#fdca26"
            ],
            [
             1,
             "#f0f921"
            ]
           ]
          },
          "colorway": [
           "#636efa",
           "#EF553B",
           "#00cc96",
           "#ab63fa",
           "#FFA15A",
           "#19d3f3",
           "#FF6692",
           "#B6E880",
           "#FF97FF",
           "#FECB52"
          ],
          "font": {
           "color": "#2a3f5f"
          },
          "geo": {
           "bgcolor": "white",
           "lakecolor": "white",
           "landcolor": "#E5ECF6",
           "showlakes": true,
           "showland": true,
           "subunitcolor": "white"
          },
          "hoverlabel": {
           "align": "left"
          },
          "hovermode": "closest",
          "mapbox": {
           "style": "light"
          },
          "paper_bgcolor": "white",
          "plot_bgcolor": "#E5ECF6",
          "polar": {
           "angularaxis": {
            "gridcolor": "white",
            "linecolor": "white",
            "ticks": ""
           },
           "bgcolor": "#E5ECF6",
           "radialaxis": {
            "gridcolor": "white",
            "linecolor": "white",
            "ticks": ""
           }
          },
          "scene": {
           "xaxis": {
            "backgroundcolor": "#E5ECF6",
            "gridcolor": "white",
            "gridwidth": 2,
            "linecolor": "white",
            "showbackground": true,
            "ticks": "",
            "zerolinecolor": "white"
           },
           "yaxis": {
            "backgroundcolor": "#E5ECF6",
            "gridcolor": "white",
            "gridwidth": 2,
            "linecolor": "white",
            "showbackground": true,
            "ticks": "",
            "zerolinecolor": "white"
           },
           "zaxis": {
            "backgroundcolor": "#E5ECF6",
            "gridcolor": "white",
            "gridwidth": 2,
            "linecolor": "white",
            "showbackground": true,
            "ticks": "",
            "zerolinecolor": "white"
           }
          },
          "shapedefaults": {
           "line": {
            "color": "#2a3f5f"
           }
          },
          "ternary": {
           "aaxis": {
            "gridcolor": "white",
            "linecolor": "white",
            "ticks": ""
           },
           "baxis": {
            "gridcolor": "white",
            "linecolor": "white",
            "ticks": ""
           },
           "bgcolor": "#E5ECF6",
           "caxis": {
            "gridcolor": "white",
            "linecolor": "white",
            "ticks": ""
           }
          },
          "title": {
           "x": 0.05
          },
          "xaxis": {
           "automargin": true,
           "gridcolor": "white",
           "linecolor": "white",
           "ticks": "",
           "title": {
            "standoff": 15
           },
           "zerolinecolor": "white",
           "zerolinewidth": 2
          },
          "yaxis": {
           "automargin": true,
           "gridcolor": "white",
           "linecolor": "white",
           "ticks": "",
           "title": {
            "standoff": 15
           },
           "zerolinecolor": "white",
           "zerolinewidth": 2
          }
         }
        },
        "title": {
         "text": "Temperature Trend by District (hover to see values)"
        },
        "xaxis": {
         "anchor": "y",
         "domain": [
          0,
          1
         ],
         "title": {
          "text": "Year"
         }
        },
        "yaxis": {
         "anchor": "x",
         "domain": [
          0,
          1
         ],
         "title": {
          "text": "Average Temperature (°C)"
         }
        }
       }
      }
     },
     "metadata": {},
     "output_type": "display_data"
    }
   ],
   "source": [
    "import plotly.express as px\n",
    "\n",
    "# Prepare the same data\n",
    "temp_trend = df.groupby(['district', pd.Grouper(key='date', freq='Y')])['t2m'].mean().reset_index()\n",
    "\n",
    "\n",
    "districts = temp_trend['district'].unique()\n",
    "\n",
    "\n",
    "temp_trend_subset = temp_trend[temp_trend['district'].isin(districts)]\n",
    "\n",
    "# Now plot with Plotly\n",
    "fig = px.line(\n",
    "    temp_trend_subset, \n",
    "    x='date', \n",
    "    y='t2m', \n",
    "    color='district', \n",
    "    markers=True, \n",
    "    title='Temperature Trend by District (hover to see values)',\n",
    "    labels={'t2m': 'Average Temperature (°C)', 'date': 'Year'}\n",
    ")\n",
    "\n",
    "fig.update_traces(mode=\"lines+markers\", hovertemplate='Year: %{x|%Y}<br>Temp: %{y:.2f}°C')\n",
    "fig.update_layout(hovermode='x unified')\n",
    "\n",
    "fig.show()\n"
   ]
  },
  {
   "cell_type": "markdown",
   "id": "67e26322",
   "metadata": {},
   "source": [
    "### 3. Visualize Precipitation Patterns and Changes Over Time"
   ]
  },
  {
   "cell_type": "code",
   "execution_count": 56,
   "id": "4500b958",
   "metadata": {},
   "outputs": [
    {
     "data": {
      "application/vnd.plotly.v1+json": {
       "config": {
        "plotlyServerURL": "https://plot.ly"
       },
       "data": [
        {
         "hovertemplate": "Year: %{x|%Y}<br>Precip: %{y:.2f} mm",
         "legendgroup": "",
         "line": {
          "color": "#636efa",
          "dash": "solid"
         },
         "marker": {
          "symbol": "circle"
         },
         "mode": "lines+markers",
         "name": "",
         "orientation": "v",
         "showlegend": false,
         "type": "scatter",
         "x": [
          "1981-12-31T00:00:00.000000000",
          "1982-12-31T00:00:00.000000000",
          "1983-12-31T00:00:00.000000000",
          "1984-12-31T00:00:00.000000000",
          "1985-12-31T00:00:00.000000000",
          "1986-12-31T00:00:00.000000000",
          "1987-12-31T00:00:00.000000000",
          "1988-12-31T00:00:00.000000000",
          "1989-12-31T00:00:00.000000000",
          "1990-12-31T00:00:00.000000000",
          "1991-12-31T00:00:00.000000000",
          "1992-12-31T00:00:00.000000000",
          "1993-12-31T00:00:00.000000000",
          "1994-12-31T00:00:00.000000000",
          "1995-12-31T00:00:00.000000000",
          "1996-12-31T00:00:00.000000000",
          "1997-12-31T00:00:00.000000000",
          "1998-12-31T00:00:00.000000000",
          "1999-12-31T00:00:00.000000000",
          "2000-12-31T00:00:00.000000000",
          "2001-12-31T00:00:00.000000000",
          "2002-12-31T00:00:00.000000000",
          "2003-12-31T00:00:00.000000000",
          "2004-12-31T00:00:00.000000000",
          "2005-12-31T00:00:00.000000000",
          "2006-12-31T00:00:00.000000000",
          "2007-12-31T00:00:00.000000000",
          "2008-12-31T00:00:00.000000000",
          "2009-12-31T00:00:00.000000000",
          "2010-12-31T00:00:00.000000000",
          "2011-12-31T00:00:00.000000000",
          "2012-12-31T00:00:00.000000000",
          "2013-12-31T00:00:00.000000000",
          "2014-12-31T00:00:00.000000000",
          "2015-12-31T00:00:00.000000000",
          "2016-12-31T00:00:00.000000000",
          "2017-12-31T00:00:00.000000000",
          "2018-12-31T00:00:00.000000000",
          "2019-12-31T00:00:00.000000000"
         ],
         "xaxis": "x",
         "y": {
          "bdata": "aPJsO2bzV0AWSqwnJShRQJioJYGEsExAzGdfibdkUUDQvhJvofVRQIHCFBO1pE5AyyAKFXiqT0BV6DjZ6s1SQO8dN7kue0pAPvObgzAzUEAdypyyeJVGQCQro+Q2nUdAp5HLdutYRUAF3NwLVAZEQHYZ5+L3nkhAQIgjG0VTSUASKR67EEtEQFyHE73TeEpARP7AWcTVQ0A8rEYP8RRNQKzZ8nTqvkpAzJXVyTf1REC6PkHOpjVJQFM1mXIAIFZA5dl2zIZ1VkCG1BaY3pJVQJ34+7fY9VlA6CGeyoV7W0BOaEhOl1RTQMdzddNjMFdADR755HycWUDfM785CNNVQMCHOlZlo15AwfwFCyUuWkCmJK/6gLFaQG314tiknlpAeFGwb0zyWUDEJHEmzzYJQDQzMzMzMw1A",
          "dtype": "f8"
         },
         "yaxis": "y"
        }
       ],
       "layout": {
        "hovermode": "x unified",
        "legend": {
         "tracegroupgap": 0
        },
        "template": {
         "data": {
          "bar": [
           {
            "error_x": {
             "color": "#2a3f5f"
            },
            "error_y": {
             "color": "#2a3f5f"
            },
            "marker": {
             "line": {
              "color": "#E5ECF6",
              "width": 0.5
             },
             "pattern": {
              "fillmode": "overlay",
              "size": 10,
              "solidity": 0.2
             }
            },
            "type": "bar"
           }
          ],
          "barpolar": [
           {
            "marker": {
             "line": {
              "color": "#E5ECF6",
              "width": 0.5
             },
             "pattern": {
              "fillmode": "overlay",
              "size": 10,
              "solidity": 0.2
             }
            },
            "type": "barpolar"
           }
          ],
          "carpet": [
           {
            "aaxis": {
             "endlinecolor": "#2a3f5f",
             "gridcolor": "white",
             "linecolor": "white",
             "minorgridcolor": "white",
             "startlinecolor": "#2a3f5f"
            },
            "baxis": {
             "endlinecolor": "#2a3f5f",
             "gridcolor": "white",
             "linecolor": "white",
             "minorgridcolor": "white",
             "startlinecolor": "#2a3f5f"
            },
            "type": "carpet"
           }
          ],
          "choropleth": [
           {
            "colorbar": {
             "outlinewidth": 0,
             "ticks": ""
            },
            "type": "choropleth"
           }
          ],
          "contour": [
           {
            "colorbar": {
             "outlinewidth": 0,
             "ticks": ""
            },
            "colorscale": [
             [
              0,
              "#0d0887"
             ],
             [
              0.1111111111111111,
              "#46039f"
             ],
             [
              0.2222222222222222,
              "#7201a8"
             ],
             [
              0.3333333333333333,
              "#9c179e"
             ],
             [
              0.4444444444444444,
              "#bd3786"
             ],
             [
              0.5555555555555556,
              "#d8576b"
             ],
             [
              0.6666666666666666,
              "#ed7953"
             ],
             [
              0.7777777777777778,
              "#fb9f3a"
             ],
             [
              0.8888888888888888,
              "#fdca26"
             ],
             [
              1,
              "#f0f921"
             ]
            ],
            "type": "contour"
           }
          ],
          "contourcarpet": [
           {
            "colorbar": {
             "outlinewidth": 0,
             "ticks": ""
            },
            "type": "contourcarpet"
           }
          ],
          "heatmap": [
           {
            "colorbar": {
             "outlinewidth": 0,
             "ticks": ""
            },
            "colorscale": [
             [
              0,
              "#0d0887"
             ],
             [
              0.1111111111111111,
              "#46039f"
             ],
             [
              0.2222222222222222,
              "#7201a8"
             ],
             [
              0.3333333333333333,
              "#9c179e"
             ],
             [
              0.4444444444444444,
              "#bd3786"
             ],
             [
              0.5555555555555556,
              "#d8576b"
             ],
             [
              0.6666666666666666,
              "#ed7953"
             ],
             [
              0.7777777777777778,
              "#fb9f3a"
             ],
             [
              0.8888888888888888,
              "#fdca26"
             ],
             [
              1,
              "#f0f921"
             ]
            ],
            "type": "heatmap"
           }
          ],
          "histogram": [
           {
            "marker": {
             "pattern": {
              "fillmode": "overlay",
              "size": 10,
              "solidity": 0.2
             }
            },
            "type": "histogram"
           }
          ],
          "histogram2d": [
           {
            "colorbar": {
             "outlinewidth": 0,
             "ticks": ""
            },
            "colorscale": [
             [
              0,
              "#0d0887"
             ],
             [
              0.1111111111111111,
              "#46039f"
             ],
             [
              0.2222222222222222,
              "#7201a8"
             ],
             [
              0.3333333333333333,
              "#9c179e"
             ],
             [
              0.4444444444444444,
              "#bd3786"
             ],
             [
              0.5555555555555556,
              "#d8576b"
             ],
             [
              0.6666666666666666,
              "#ed7953"
             ],
             [
              0.7777777777777778,
              "#fb9f3a"
             ],
             [
              0.8888888888888888,
              "#fdca26"
             ],
             [
              1,
              "#f0f921"
             ]
            ],
            "type": "histogram2d"
           }
          ],
          "histogram2dcontour": [
           {
            "colorbar": {
             "outlinewidth": 0,
             "ticks": ""
            },
            "colorscale": [
             [
              0,
              "#0d0887"
             ],
             [
              0.1111111111111111,
              "#46039f"
             ],
             [
              0.2222222222222222,
              "#7201a8"
             ],
             [
              0.3333333333333333,
              "#9c179e"
             ],
             [
              0.4444444444444444,
              "#bd3786"
             ],
             [
              0.5555555555555556,
              "#d8576b"
             ],
             [
              0.6666666666666666,
              "#ed7953"
             ],
             [
              0.7777777777777778,
              "#fb9f3a"
             ],
             [
              0.8888888888888888,
              "#fdca26"
             ],
             [
              1,
              "#f0f921"
             ]
            ],
            "type": "histogram2dcontour"
           }
          ],
          "mesh3d": [
           {
            "colorbar": {
             "outlinewidth": 0,
             "ticks": ""
            },
            "type": "mesh3d"
           }
          ],
          "parcoords": [
           {
            "line": {
             "colorbar": {
              "outlinewidth": 0,
              "ticks": ""
             }
            },
            "type": "parcoords"
           }
          ],
          "pie": [
           {
            "automargin": true,
            "type": "pie"
           }
          ],
          "scatter": [
           {
            "fillpattern": {
             "fillmode": "overlay",
             "size": 10,
             "solidity": 0.2
            },
            "type": "scatter"
           }
          ],
          "scatter3d": [
           {
            "line": {
             "colorbar": {
              "outlinewidth": 0,
              "ticks": ""
             }
            },
            "marker": {
             "colorbar": {
              "outlinewidth": 0,
              "ticks": ""
             }
            },
            "type": "scatter3d"
           }
          ],
          "scattercarpet": [
           {
            "marker": {
             "colorbar": {
              "outlinewidth": 0,
              "ticks": ""
             }
            },
            "type": "scattercarpet"
           }
          ],
          "scattergeo": [
           {
            "marker": {
             "colorbar": {
              "outlinewidth": 0,
              "ticks": ""
             }
            },
            "type": "scattergeo"
           }
          ],
          "scattergl": [
           {
            "marker": {
             "colorbar": {
              "outlinewidth": 0,
              "ticks": ""
             }
            },
            "type": "scattergl"
           }
          ],
          "scattermap": [
           {
            "marker": {
             "colorbar": {
              "outlinewidth": 0,
              "ticks": ""
             }
            },
            "type": "scattermap"
           }
          ],
          "scattermapbox": [
           {
            "marker": {
             "colorbar": {
              "outlinewidth": 0,
              "ticks": ""
             }
            },
            "type": "scattermapbox"
           }
          ],
          "scatterpolar": [
           {
            "marker": {
             "colorbar": {
              "outlinewidth": 0,
              "ticks": ""
             }
            },
            "type": "scatterpolar"
           }
          ],
          "scatterpolargl": [
           {
            "marker": {
             "colorbar": {
              "outlinewidth": 0,
              "ticks": ""
             }
            },
            "type": "scatterpolargl"
           }
          ],
          "scatterternary": [
           {
            "marker": {
             "colorbar": {
              "outlinewidth": 0,
              "ticks": ""
             }
            },
            "type": "scatterternary"
           }
          ],
          "surface": [
           {
            "colorbar": {
             "outlinewidth": 0,
             "ticks": ""
            },
            "colorscale": [
             [
              0,
              "#0d0887"
             ],
             [
              0.1111111111111111,
              "#46039f"
             ],
             [
              0.2222222222222222,
              "#7201a8"
             ],
             [
              0.3333333333333333,
              "#9c179e"
             ],
             [
              0.4444444444444444,
              "#bd3786"
             ],
             [
              0.5555555555555556,
              "#d8576b"
             ],
             [
              0.6666666666666666,
              "#ed7953"
             ],
             [
              0.7777777777777778,
              "#fb9f3a"
             ],
             [
              0.8888888888888888,
              "#fdca26"
             ],
             [
              1,
              "#f0f921"
             ]
            ],
            "type": "surface"
           }
          ],
          "table": [
           {
            "cells": {
             "fill": {
              "color": "#EBF0F8"
             },
             "line": {
              "color": "white"
             }
            },
            "header": {
             "fill": {
              "color": "#C8D4E3"
             },
             "line": {
              "color": "white"
             }
            },
            "type": "table"
           }
          ]
         },
         "layout": {
          "annotationdefaults": {
           "arrowcolor": "#2a3f5f",
           "arrowhead": 0,
           "arrowwidth": 1
          },
          "autotypenumbers": "strict",
          "coloraxis": {
           "colorbar": {
            "outlinewidth": 0,
            "ticks": ""
           }
          },
          "colorscale": {
           "diverging": [
            [
             0,
             "#8e0152"
            ],
            [
             0.1,
             "#c51b7d"
            ],
            [
             0.2,
             "#de77ae"
            ],
            [
             0.3,
             "#f1b6da"
            ],
            [
             0.4,
             "#fde0ef"
            ],
            [
             0.5,
             "#f7f7f7"
            ],
            [
             0.6,
             "#e6f5d0"
            ],
            [
             0.7,
             "#b8e186"
            ],
            [
             0.8,
             "#7fbc41"
            ],
            [
             0.9,
             "#4d9221"
            ],
            [
             1,
             "#276419"
            ]
           ],
           "sequential": [
            [
             0,
             "#0d0887"
            ],
            [
             0.1111111111111111,
             "#46039f"
            ],
            [
             0.2222222222222222,
             "#7201a8"
            ],
            [
             0.3333333333333333,
             "#9c179e"
            ],
            [
             0.4444444444444444,
             "#bd3786"
            ],
            [
             0.5555555555555556,
             "#d8576b"
            ],
            [
             0.6666666666666666,
             "#ed7953"
            ],
            [
             0.7777777777777778,
             "#fb9f3a"
            ],
            [
             0.8888888888888888,
             "#fdca26"
            ],
            [
             1,
             "#f0f921"
            ]
           ],
           "sequentialminus": [
            [
             0,
             "#0d0887"
            ],
            [
             0.1111111111111111,
             "#46039f"
            ],
            [
             0.2222222222222222,
             "#7201a8"
            ],
            [
             0.3333333333333333,
             "#9c179e"
            ],
            [
             0.4444444444444444,
             "#bd3786"
            ],
            [
             0.5555555555555556,
             "#d8576b"
            ],
            [
             0.6666666666666666,
             "#ed7953"
            ],
            [
             0.7777777777777778,
             "#fb9f3a"
            ],
            [
             0.8888888888888888,
             "#fdca26"
            ],
            [
             1,
             "#f0f921"
            ]
           ]
          },
          "colorway": [
           "#636efa",
           "#EF553B",
           "#00cc96",
           "#ab63fa",
           "#FFA15A",
           "#19d3f3",
           "#FF6692",
           "#B6E880",
           "#FF97FF",
           "#FECB52"
          ],
          "font": {
           "color": "#2a3f5f"
          },
          "geo": {
           "bgcolor": "white",
           "lakecolor": "white",
           "landcolor": "#E5ECF6",
           "showlakes": true,
           "showland": true,
           "subunitcolor": "white"
          },
          "hoverlabel": {
           "align": "left"
          },
          "hovermode": "closest",
          "mapbox": {
           "style": "light"
          },
          "paper_bgcolor": "white",
          "plot_bgcolor": "#E5ECF6",
          "polar": {
           "angularaxis": {
            "gridcolor": "white",
            "linecolor": "white",
            "ticks": ""
           },
           "bgcolor": "#E5ECF6",
           "radialaxis": {
            "gridcolor": "white",
            "linecolor": "white",
            "ticks": ""
           }
          },
          "scene": {
           "xaxis": {
            "backgroundcolor": "#E5ECF6",
            "gridcolor": "white",
            "gridwidth": 2,
            "linecolor": "white",
            "showbackground": true,
            "ticks": "",
            "zerolinecolor": "white"
           },
           "yaxis": {
            "backgroundcolor": "#E5ECF6",
            "gridcolor": "white",
            "gridwidth": 2,
            "linecolor": "white",
            "showbackground": true,
            "ticks": "",
            "zerolinecolor": "white"
           },
           "zaxis": {
            "backgroundcolor": "#E5ECF6",
            "gridcolor": "white",
            "gridwidth": 2,
            "linecolor": "white",
            "showbackground": true,
            "ticks": "",
            "zerolinecolor": "white"
           }
          },
          "shapedefaults": {
           "line": {
            "color": "#2a3f5f"
           }
          },
          "ternary": {
           "aaxis": {
            "gridcolor": "white",
            "linecolor": "white",
            "ticks": ""
           },
           "baxis": {
            "gridcolor": "white",
            "linecolor": "white",
            "ticks": ""
           },
           "bgcolor": "#E5ECF6",
           "caxis": {
            "gridcolor": "white",
            "linecolor": "white",
            "ticks": ""
           }
          },
          "title": {
           "x": 0.05
          },
          "xaxis": {
           "automargin": true,
           "gridcolor": "white",
           "linecolor": "white",
           "ticks": "",
           "title": {
            "standoff": 15
           },
           "zerolinecolor": "white",
           "zerolinewidth": 2
          },
          "yaxis": {
           "automargin": true,
           "gridcolor": "white",
           "linecolor": "white",
           "ticks": "",
           "title": {
            "standoff": 15
           },
           "zerolinecolor": "white",
           "zerolinewidth": 2
          }
         }
        },
        "title": {
         "text": "Average Precipitation Over Nepal (Annual)"
        },
        "xaxis": {
         "anchor": "y",
         "domain": [
          0,
          1
         ],
         "title": {
          "text": "Year"
         }
        },
        "yaxis": {
         "anchor": "x",
         "domain": [
          0,
          1
         ],
         "title": {
          "text": "Total Annual Precipitation (mm)"
         }
        }
       }
      }
     },
     "metadata": {},
     "output_type": "display_data"
    }
   ],
   "source": [
    "import plotly.express as px\n",
    "\n",
    "# Average precipitation over Nepal by year\n",
    "precip_trend = df.groupby(pd.Grouper(key='date', freq='Y'))['prectot'].mean().reset_index()\n",
    "\n",
    "# Plot with Plotly\n",
    "fig = px.line(\n",
    "    precip_trend,\n",
    "    x='date',\n",
    "    y='prectot',\n",
    "    title='Average Precipitation Over Nepal (Annual)',\n",
    "    labels={'prectot': 'Total Annual Precipitation (mm)', 'date': 'Year'},\n",
    "    markers=True\n",
    ")\n",
    "\n",
    "fig.update_traces(mode=\"lines+markers\", hovertemplate='Year: %{x|%Y}<br>Precip: %{y:.2f} mm')\n",
    "fig.update_layout(hovermode='x unified')\n",
    "\n",
    "fig.show()\n"
   ]
  },
  {
   "cell_type": "markdown",
   "id": "94c16880",
   "metadata": {},
   "source": [
    "### 4. Identify Extreme Weather Event Frequency and Intensity Changes\n"
   ]
  },
  {
   "cell_type": "code",
   "execution_count": 85,
   "id": "9973d683",
   "metadata": {},
   "outputs": [
    {
     "data": {
      "application/vnd.plotly.v1+json": {
       "config": {
        "plotlyServerURL": "https://plot.ly"
       },
       "data": [
        {
         "hovertemplate": "Year: %{x|%Y}<br>Type: %{customdata[0]}<br>Count: %{y}",
         "legendgroup": "Coldwave",
         "marker": {
          "color": "#636efa",
          "pattern": {
           "shape": ""
          }
         },
         "name": "Coldwave",
         "orientation": "v",
         "showlegend": true,
         "textposition": "auto",
         "type": "bar",
         "x": [
          "1981-12-31T00:00:00.000000000",
          "1982-12-31T00:00:00.000000000",
          "1983-12-31T00:00:00.000000000",
          "1984-12-31T00:00:00.000000000",
          "1985-12-31T00:00:00.000000000",
          "1986-12-31T00:00:00.000000000",
          "1987-12-31T00:00:00.000000000",
          "1988-12-31T00:00:00.000000000",
          "1989-12-31T00:00:00.000000000",
          "1990-12-31T00:00:00.000000000",
          "1991-12-31T00:00:00.000000000",
          "1992-12-31T00:00:00.000000000",
          "1993-12-31T00:00:00.000000000",
          "1994-12-31T00:00:00.000000000",
          "1995-12-31T00:00:00.000000000",
          "1996-12-31T00:00:00.000000000",
          "1997-12-31T00:00:00.000000000",
          "1998-12-31T00:00:00.000000000",
          "1999-12-31T00:00:00.000000000",
          "2000-12-31T00:00:00.000000000",
          "2001-12-31T00:00:00.000000000",
          "2002-12-31T00:00:00.000000000",
          "2003-12-31T00:00:00.000000000",
          "2004-12-31T00:00:00.000000000",
          "2005-12-31T00:00:00.000000000",
          "2006-12-31T00:00:00.000000000",
          "2007-12-31T00:00:00.000000000",
          "2008-12-31T00:00:00.000000000",
          "2009-12-31T00:00:00.000000000",
          "2010-12-31T00:00:00.000000000",
          "2011-12-31T00:00:00.000000000",
          "2012-12-31T00:00:00.000000000",
          "2013-12-31T00:00:00.000000000",
          "2014-12-31T00:00:00.000000000",
          "2015-12-31T00:00:00.000000000",
          "2016-12-31T00:00:00.000000000",
          "2017-12-31T00:00:00.000000000",
          "2018-12-31T00:00:00.000000000",
          "2019-12-31T00:00:00.000000000"
         ],
         "xaxis": "x",
         "y": {
          "bdata": "WVthVVdXUU9YTlpWUlNWUl5NSlBPT1FQUUtZSkxOU1pTUlZFSk5U",
          "dtype": "i1"
         },
         "yaxis": "y"
        },
        {
         "hovertemplate": "Year: %{x|%Y}<br>Type: %{customdata[0]}<br>Count: %{y}",
         "legendgroup": "Heatwave",
         "marker": {
          "color": "#EF553B",
          "pattern": {
           "shape": ""
          }
         },
         "name": "Heatwave",
         "orientation": "v",
         "showlegend": true,
         "textposition": "auto",
         "type": "bar",
         "x": [
          "1981-12-31T00:00:00.000000000",
          "1982-12-31T00:00:00.000000000",
          "1983-12-31T00:00:00.000000000",
          "1984-12-31T00:00:00.000000000",
          "1985-12-31T00:00:00.000000000",
          "1986-12-31T00:00:00.000000000",
          "1987-12-31T00:00:00.000000000",
          "1988-12-31T00:00:00.000000000",
          "1989-12-31T00:00:00.000000000",
          "1990-12-31T00:00:00.000000000",
          "1991-12-31T00:00:00.000000000",
          "1992-12-31T00:00:00.000000000",
          "1993-12-31T00:00:00.000000000",
          "1994-12-31T00:00:00.000000000",
          "1995-12-31T00:00:00.000000000",
          "1996-12-31T00:00:00.000000000",
          "1997-12-31T00:00:00.000000000",
          "1998-12-31T00:00:00.000000000",
          "1999-12-31T00:00:00.000000000",
          "2000-12-31T00:00:00.000000000",
          "2001-12-31T00:00:00.000000000",
          "2002-12-31T00:00:00.000000000",
          "2003-12-31T00:00:00.000000000",
          "2004-12-31T00:00:00.000000000",
          "2005-12-31T00:00:00.000000000",
          "2006-12-31T00:00:00.000000000",
          "2007-12-31T00:00:00.000000000",
          "2008-12-31T00:00:00.000000000",
          "2009-12-31T00:00:00.000000000",
          "2010-12-31T00:00:00.000000000",
          "2011-12-31T00:00:00.000000000",
          "2012-12-31T00:00:00.000000000",
          "2013-12-31T00:00:00.000000000",
          "2014-12-31T00:00:00.000000000",
          "2015-12-31T00:00:00.000000000",
          "2016-12-31T00:00:00.000000000",
          "2017-12-31T00:00:00.000000000",
          "2018-12-31T00:00:00.000000000",
          "2019-12-31T00:00:00.000000000"
         ],
         "xaxis": "x",
         "y": {
          "bdata": "BAQKCgwJEwwKChQMCRAXEQkMDQgHBwsDCgEBAQoQAhEDDQkIBwEM",
          "dtype": "i1"
         },
         "yaxis": "y"
        },
        {
         "hovertemplate": "Year: %{x|%Y}<br>Type: %{customdata[0]}<br>Count: %{y}",
         "legendgroup": "Heavy Rain",
         "marker": {
          "color": "#00cc96",
          "pattern": {
           "shape": ""
          }
         },
         "name": "Heavy Rain",
         "orientation": "v",
         "showlegend": true,
         "textposition": "auto",
         "type": "bar",
         "x": [
          "1981-12-31T00:00:00.000000000",
          "1982-12-31T00:00:00.000000000",
          "1983-12-31T00:00:00.000000000",
          "1984-12-31T00:00:00.000000000",
          "1985-12-31T00:00:00.000000000",
          "1986-12-31T00:00:00.000000000",
          "1987-12-31T00:00:00.000000000",
          "1988-12-31T00:00:00.000000000",
          "1989-12-31T00:00:00.000000000",
          "1990-12-31T00:00:00.000000000",
          "1991-12-31T00:00:00.000000000",
          "1992-12-31T00:00:00.000000000",
          "1994-12-31T00:00:00.000000000",
          "1996-12-31T00:00:00.000000000",
          "1997-12-31T00:00:00.000000000",
          "1998-12-31T00:00:00.000000000",
          "1999-12-31T00:00:00.000000000",
          "2000-12-31T00:00:00.000000000",
          "2001-12-31T00:00:00.000000000",
          "2002-12-31T00:00:00.000000000",
          "2003-12-31T00:00:00.000000000",
          "2004-12-31T00:00:00.000000000",
          "2005-12-31T00:00:00.000000000",
          "2006-12-31T00:00:00.000000000",
          "2007-12-31T00:00:00.000000000",
          "2008-12-31T00:00:00.000000000",
          "2009-12-31T00:00:00.000000000",
          "2010-12-31T00:00:00.000000000",
          "2011-12-31T00:00:00.000000000",
          "2012-12-31T00:00:00.000000000",
          "2013-12-31T00:00:00.000000000",
          "2014-12-31T00:00:00.000000000",
          "2015-12-31T00:00:00.000000000",
          "2016-12-31T00:00:00.000000000",
          "2017-12-31T00:00:00.000000000"
         ],
         "xaxis": "x",
         "y": {
          "bdata": "Og8WBhgSHUIHIQMHAQIGCQIKAQIHPD0sSHAqVldVbFJKXVU=",
          "dtype": "i1"
         },
         "yaxis": "y"
        }
       ],
       "layout": {
        "barmode": "stack",
        "legend": {
         "title": {
          "text": "Event Type"
         },
         "tracegroupgap": 0
        },
        "template": {
         "data": {
          "bar": [
           {
            "error_x": {
             "color": "#2a3f5f"
            },
            "error_y": {
             "color": "#2a3f5f"
            },
            "marker": {
             "line": {
              "color": "#E5ECF6",
              "width": 0.5
             },
             "pattern": {
              "fillmode": "overlay",
              "size": 10,
              "solidity": 0.2
             }
            },
            "type": "bar"
           }
          ],
          "barpolar": [
           {
            "marker": {
             "line": {
              "color": "#E5ECF6",
              "width": 0.5
             },
             "pattern": {
              "fillmode": "overlay",
              "size": 10,
              "solidity": 0.2
             }
            },
            "type": "barpolar"
           }
          ],
          "carpet": [
           {
            "aaxis": {
             "endlinecolor": "#2a3f5f",
             "gridcolor": "white",
             "linecolor": "white",
             "minorgridcolor": "white",
             "startlinecolor": "#2a3f5f"
            },
            "baxis": {
             "endlinecolor": "#2a3f5f",
             "gridcolor": "white",
             "linecolor": "white",
             "minorgridcolor": "white",
             "startlinecolor": "#2a3f5f"
            },
            "type": "carpet"
           }
          ],
          "choropleth": [
           {
            "colorbar": {
             "outlinewidth": 0,
             "ticks": ""
            },
            "type": "choropleth"
           }
          ],
          "contour": [
           {
            "colorbar": {
             "outlinewidth": 0,
             "ticks": ""
            },
            "colorscale": [
             [
              0,
              "#0d0887"
             ],
             [
              0.1111111111111111,
              "#46039f"
             ],
             [
              0.2222222222222222,
              "#7201a8"
             ],
             [
              0.3333333333333333,
              "#9c179e"
             ],
             [
              0.4444444444444444,
              "#bd3786"
             ],
             [
              0.5555555555555556,
              "#d8576b"
             ],
             [
              0.6666666666666666,
              "#ed7953"
             ],
             [
              0.7777777777777778,
              "#fb9f3a"
             ],
             [
              0.8888888888888888,
              "#fdca26"
             ],
             [
              1,
              "#f0f921"
             ]
            ],
            "type": "contour"
           }
          ],
          "contourcarpet": [
           {
            "colorbar": {
             "outlinewidth": 0,
             "ticks": ""
            },
            "type": "contourcarpet"
           }
          ],
          "heatmap": [
           {
            "colorbar": {
             "outlinewidth": 0,
             "ticks": ""
            },
            "colorscale": [
             [
              0,
              "#0d0887"
             ],
             [
              0.1111111111111111,
              "#46039f"
             ],
             [
              0.2222222222222222,
              "#7201a8"
             ],
             [
              0.3333333333333333,
              "#9c179e"
             ],
             [
              0.4444444444444444,
              "#bd3786"
             ],
             [
              0.5555555555555556,
              "#d8576b"
             ],
             [
              0.6666666666666666,
              "#ed7953"
             ],
             [
              0.7777777777777778,
              "#fb9f3a"
             ],
             [
              0.8888888888888888,
              "#fdca26"
             ],
             [
              1,
              "#f0f921"
             ]
            ],
            "type": "heatmap"
           }
          ],
          "histogram": [
           {
            "marker": {
             "pattern": {
              "fillmode": "overlay",
              "size": 10,
              "solidity": 0.2
             }
            },
            "type": "histogram"
           }
          ],
          "histogram2d": [
           {
            "colorbar": {
             "outlinewidth": 0,
             "ticks": ""
            },
            "colorscale": [
             [
              0,
              "#0d0887"
             ],
             [
              0.1111111111111111,
              "#46039f"
             ],
             [
              0.2222222222222222,
              "#7201a8"
             ],
             [
              0.3333333333333333,
              "#9c179e"
             ],
             [
              0.4444444444444444,
              "#bd3786"
             ],
             [
              0.5555555555555556,
              "#d8576b"
             ],
             [
              0.6666666666666666,
              "#ed7953"
             ],
             [
              0.7777777777777778,
              "#fb9f3a"
             ],
             [
              0.8888888888888888,
              "#fdca26"
             ],
             [
              1,
              "#f0f921"
             ]
            ],
            "type": "histogram2d"
           }
          ],
          "histogram2dcontour": [
           {
            "colorbar": {
             "outlinewidth": 0,
             "ticks": ""
            },
            "colorscale": [
             [
              0,
              "#0d0887"
             ],
             [
              0.1111111111111111,
              "#46039f"
             ],
             [
              0.2222222222222222,
              "#7201a8"
             ],
             [
              0.3333333333333333,
              "#9c179e"
             ],
             [
              0.4444444444444444,
              "#bd3786"
             ],
             [
              0.5555555555555556,
              "#d8576b"
             ],
             [
              0.6666666666666666,
              "#ed7953"
             ],
             [
              0.7777777777777778,
              "#fb9f3a"
             ],
             [
              0.8888888888888888,
              "#fdca26"
             ],
             [
              1,
              "#f0f921"
             ]
            ],
            "type": "histogram2dcontour"
           }
          ],
          "mesh3d": [
           {
            "colorbar": {
             "outlinewidth": 0,
             "ticks": ""
            },
            "type": "mesh3d"
           }
          ],
          "parcoords": [
           {
            "line": {
             "colorbar": {
              "outlinewidth": 0,
              "ticks": ""
             }
            },
            "type": "parcoords"
           }
          ],
          "pie": [
           {
            "automargin": true,
            "type": "pie"
           }
          ],
          "scatter": [
           {
            "fillpattern": {
             "fillmode": "overlay",
             "size": 10,
             "solidity": 0.2
            },
            "type": "scatter"
           }
          ],
          "scatter3d": [
           {
            "line": {
             "colorbar": {
              "outlinewidth": 0,
              "ticks": ""
             }
            },
            "marker": {
             "colorbar": {
              "outlinewidth": 0,
              "ticks": ""
             }
            },
            "type": "scatter3d"
           }
          ],
          "scattercarpet": [
           {
            "marker": {
             "colorbar": {
              "outlinewidth": 0,
              "ticks": ""
             }
            },
            "type": "scattercarpet"
           }
          ],
          "scattergeo": [
           {
            "marker": {
             "colorbar": {
              "outlinewidth": 0,
              "ticks": ""
             }
            },
            "type": "scattergeo"
           }
          ],
          "scattergl": [
           {
            "marker": {
             "colorbar": {
              "outlinewidth": 0,
              "ticks": ""
             }
            },
            "type": "scattergl"
           }
          ],
          "scattermap": [
           {
            "marker": {
             "colorbar": {
              "outlinewidth": 0,
              "ticks": ""
             }
            },
            "type": "scattermap"
           }
          ],
          "scattermapbox": [
           {
            "marker": {
             "colorbar": {
              "outlinewidth": 0,
              "ticks": ""
             }
            },
            "type": "scattermapbox"
           }
          ],
          "scatterpolar": [
           {
            "marker": {
             "colorbar": {
              "outlinewidth": 0,
              "ticks": ""
             }
            },
            "type": "scatterpolar"
           }
          ],
          "scatterpolargl": [
           {
            "marker": {
             "colorbar": {
              "outlinewidth": 0,
              "ticks": ""
             }
            },
            "type": "scatterpolargl"
           }
          ],
          "scatterternary": [
           {
            "marker": {
             "colorbar": {
              "outlinewidth": 0,
              "ticks": ""
             }
            },
            "type": "scatterternary"
           }
          ],
          "surface": [
           {
            "colorbar": {
             "outlinewidth": 0,
             "ticks": ""
            },
            "colorscale": [
             [
              0,
              "#0d0887"
             ],
             [
              0.1111111111111111,
              "#46039f"
             ],
             [
              0.2222222222222222,
              "#7201a8"
             ],
             [
              0.3333333333333333,
              "#9c179e"
             ],
             [
              0.4444444444444444,
              "#bd3786"
             ],
             [
              0.5555555555555556,
              "#d8576b"
             ],
             [
              0.6666666666666666,
              "#ed7953"
             ],
             [
              0.7777777777777778,
              "#fb9f3a"
             ],
             [
              0.8888888888888888,
              "#fdca26"
             ],
             [
              1,
              "#f0f921"
             ]
            ],
            "type": "surface"
           }
          ],
          "table": [
           {
            "cells": {
             "fill": {
              "color": "#EBF0F8"
             },
             "line": {
              "color": "white"
             }
            },
            "header": {
             "fill": {
              "color": "#C8D4E3"
             },
             "line": {
              "color": "white"
             }
            },
            "type": "table"
           }
          ]
         },
         "layout": {
          "annotationdefaults": {
           "arrowcolor": "#2a3f5f",
           "arrowhead": 0,
           "arrowwidth": 1
          },
          "autotypenumbers": "strict",
          "coloraxis": {
           "colorbar": {
            "outlinewidth": 0,
            "ticks": ""
           }
          },
          "colorscale": {
           "diverging": [
            [
             0,
             "#8e0152"
            ],
            [
             0.1,
             "#c51b7d"
            ],
            [
             0.2,
             "#de77ae"
            ],
            [
             0.3,
             "#f1b6da"
            ],
            [
             0.4,
             "#fde0ef"
            ],
            [
             0.5,
             "#f7f7f7"
            ],
            [
             0.6,
             "#e6f5d0"
            ],
            [
             0.7,
             "#b8e186"
            ],
            [
             0.8,
             "#7fbc41"
            ],
            [
             0.9,
             "#4d9221"
            ],
            [
             1,
             "#276419"
            ]
           ],
           "sequential": [
            [
             0,
             "#0d0887"
            ],
            [
             0.1111111111111111,
             "#46039f"
            ],
            [
             0.2222222222222222,
             "#7201a8"
            ],
            [
             0.3333333333333333,
             "#9c179e"
            ],
            [
             0.4444444444444444,
             "#bd3786"
            ],
            [
             0.5555555555555556,
             "#d8576b"
            ],
            [
             0.6666666666666666,
             "#ed7953"
            ],
            [
             0.7777777777777778,
             "#fb9f3a"
            ],
            [
             0.8888888888888888,
             "#fdca26"
            ],
            [
             1,
             "#f0f921"
            ]
           ],
           "sequentialminus": [
            [
             0,
             "#0d0887"
            ],
            [
             0.1111111111111111,
             "#46039f"
            ],
            [
             0.2222222222222222,
             "#7201a8"
            ],
            [
             0.3333333333333333,
             "#9c179e"
            ],
            [
             0.4444444444444444,
             "#bd3786"
            ],
            [
             0.5555555555555556,
             "#d8576b"
            ],
            [
             0.6666666666666666,
             "#ed7953"
            ],
            [
             0.7777777777777778,
             "#fb9f3a"
            ],
            [
             0.8888888888888888,
             "#fdca26"
            ],
            [
             1,
             "#f0f921"
            ]
           ]
          },
          "colorway": [
           "#636efa",
           "#EF553B",
           "#00cc96",
           "#ab63fa",
           "#FFA15A",
           "#19d3f3",
           "#FF6692",
           "#B6E880",
           "#FF97FF",
           "#FECB52"
          ],
          "font": {
           "color": "#2a3f5f"
          },
          "geo": {
           "bgcolor": "white",
           "lakecolor": "white",
           "landcolor": "#E5ECF6",
           "showlakes": true,
           "showland": true,
           "subunitcolor": "white"
          },
          "hoverlabel": {
           "align": "left"
          },
          "hovermode": "closest",
          "mapbox": {
           "style": "light"
          },
          "paper_bgcolor": "white",
          "plot_bgcolor": "#E5ECF6",
          "polar": {
           "angularaxis": {
            "gridcolor": "white",
            "linecolor": "white",
            "ticks": ""
           },
           "bgcolor": "#E5ECF6",
           "radialaxis": {
            "gridcolor": "white",
            "linecolor": "white",
            "ticks": ""
           }
          },
          "scene": {
           "xaxis": {
            "backgroundcolor": "#E5ECF6",
            "gridcolor": "white",
            "gridwidth": 2,
            "linecolor": "white",
            "showbackground": true,
            "ticks": "",
            "zerolinecolor": "white"
           },
           "yaxis": {
            "backgroundcolor": "#E5ECF6",
            "gridcolor": "white",
            "gridwidth": 2,
            "linecolor": "white",
            "showbackground": true,
            "ticks": "",
            "zerolinecolor": "white"
           },
           "zaxis": {
            "backgroundcolor": "#E5ECF6",
            "gridcolor": "white",
            "gridwidth": 2,
            "linecolor": "white",
            "showbackground": true,
            "ticks": "",
            "zerolinecolor": "white"
           }
          },
          "shapedefaults": {
           "line": {
            "color": "#2a3f5f"
           }
          },
          "ternary": {
           "aaxis": {
            "gridcolor": "white",
            "linecolor": "white",
            "ticks": ""
           },
           "baxis": {
            "gridcolor": "white",
            "linecolor": "white",
            "ticks": ""
           },
           "bgcolor": "#E5ECF6",
           "caxis": {
            "gridcolor": "white",
            "linecolor": "white",
            "ticks": ""
           }
          },
          "title": {
           "x": 0.05
          },
          "xaxis": {
           "automargin": true,
           "gridcolor": "white",
           "linecolor": "white",
           "ticks": "",
           "title": {
            "standoff": 15
           },
           "zerolinecolor": "white",
           "zerolinewidth": 2
          },
          "yaxis": {
           "automargin": true,
           "gridcolor": "white",
           "linecolor": "white",
           "ticks": "",
           "title": {
            "standoff": 15
           },
           "zerolinecolor": "white",
           "zerolinewidth": 2
          }
         }
        },
        "title": {
         "text": "Extreme Weather Events by Type Over Years"
        },
        "xaxis": {
         "anchor": "y",
         "domain": [
          0,
          1
         ],
         "tickangle": -45,
         "title": {
          "text": "Year"
         }
        },
        "yaxis": {
         "anchor": "x",
         "domain": [
          0,
          1
         ],
         "title": {
          "text": "Number of Events"
         }
        }
       }
      }
     },
     "metadata": {},
     "output_type": "display_data"
    }
   ],
   "source": [
    "# Define thresholds (or reuse previous ones if defined)\n",
    "precip_threshold = df['prectot'].quantile(0.95)  # Top 5% precipitation\n",
    "temp_high_threshold = 38  # degrees Celsius\n",
    "temp_low_threshold = 0   # degrees Celsius\n",
    "wind_speed_threshold = 15  # m/s\n",
    "\n",
    "# Step 1: Create Extreme Condition Flags\n",
    "df['extreme_precip'] = df['prectot'] > precip_threshold\n",
    "df['extreme_heat'] = df['t2m_max'] > temp_high_threshold\n",
    "df['extreme_cold'] = df['t2m_min'] < temp_low_threshold\n",
    "df['extreme_wind'] = df['ws10m_max'] > wind_speed_threshold\n",
    "\n",
    "# Step 2: Classify Event Based on Which Extreme Happened\n",
    "def classify_event(row):\n",
    "    if row['extreme_precip']:\n",
    "        return 'Heavy Rain'\n",
    "    elif row['extreme_heat']:\n",
    "        return 'Heatwave'\n",
    "    elif row['extreme_cold']:\n",
    "        return 'Coldwave'\n",
    "    elif row['extreme_wind']:\n",
    "        return 'Windstorm'\n",
    "    else:\n",
    "        return 'Normal'\n",
    "\n",
    "# Apply classification\n",
    "df['event_type'] = df.apply(classify_event, axis=1)\n",
    "\n",
    "# Keep only real extreme events\n",
    "extreme_events = df[df['event_type'] != 'Normal']\n",
    "\n",
    "# Step 3: Group by year and event type\n",
    "extreme_summary = extreme_events.groupby([pd.Grouper(key='date', freq='Y'), 'event_type']).size().reset_index(name='count')\n",
    "\n",
    "# Step 4: Plot\n",
    "fig = px.bar(\n",
    "    extreme_summary,\n",
    "    x='date',\n",
    "    y='count',\n",
    "    color='event_type',\n",
    "    title='Extreme Weather Events by Type Over Years',\n",
    "    labels={'count': 'Number of Events', 'date': 'Year', 'event_type': 'Event Type'},\n",
    ")\n",
    "\n",
    "fig.update_traces(hovertemplate='Year: %{x|%Y}<br>Type: %{customdata[0]}<br>Count: %{y}')\n",
    "fig.update_layout(xaxis_tickangle=-45, barmode='stack')\n",
    "fig.show()\n",
    "\n"
   ]
  },
  {
   "cell_type": "code",
   "execution_count": null,
   "id": "82d79d61",
   "metadata": {},
   "outputs": [
    {
     "name": "stdout",
     "output_type": "stream",
     "text": [
      "       district  event_type    year  count\n",
      "0  Arghakhanchi    Heatwave  1984.0      1\n",
      "1  Arghakhanchi    Heatwave  1987.0      1\n",
      "2  Arghakhanchi    Heatwave  1988.0      1\n",
      "3  Arghakhanchi    Heatwave  1991.0      1\n",
      "4  Arghakhanchi    Heatwave  1994.0      1\n",
      "5  Arghakhanchi    Heatwave  1995.0      1\n",
      "6  Arghakhanchi    Heatwave  1996.0      1\n",
      "7  Arghakhanchi    Heatwave  2012.0      2\n",
      "8  Arghakhanchi  Heavy Rain  1981.0      2\n",
      "9  Arghakhanchi  Heavy Rain  1982.0      1\n"
     ]
    },
    {
     "data": {
      "application/vnd.plotly.v1+json": {
       "config": {
        "plotlyServerURL": "https://plot.ly"
       },
       "data": [
        {
         "hovertemplate": "Event Type=Heatwave<br>Year=1984.0<br>District=%{x}<br>Number of Events=%{y}<extra></extra>",
         "legendgroup": "Heatwave",
         "marker": {
          "color": "#636efa",
          "pattern": {
           "shape": ""
          }
         },
         "name": "Heatwave",
         "orientation": "v",
         "showlegend": true,
         "textposition": "auto",
         "type": "bar",
         "x": [
          "Arghakhanchi",
          "Banke",
          "Bardiya",
          "Dhanusa",
          "Kailali",
          "Mahottari",
          "Routahat"
         ],
         "xaxis": "x",
         "y": {
          "bdata": "AQEBAgECAg==",
          "dtype": "i1"
         },
         "yaxis": "y"
        },
        {
         "hovertemplate": "Event Type=Heavy Rain<br>Year=1984.0<br>District=%{x}<br>Number of Events=%{y}<extra></extra>",
         "legendgroup": "Heavy Rain",
         "marker": {
          "color": "#EF553B",
          "pattern": {
           "shape": ""
          }
         },
         "name": "Heavy Rain",
         "orientation": "v",
         "showlegend": true,
         "textposition": "auto",
         "type": "bar",
         "x": [
          "Ilam",
          "Jhapa",
          "Palpa"
         ],
         "xaxis": "x",
         "y": {
          "bdata": "AwIB",
          "dtype": "i1"
         },
         "yaxis": "y"
        },
        {
         "hovertemplate": "Event Type=Coldwave<br>Year=1984.0<br>District=%{x}<br>Number of Events=%{y}<extra></extra>",
         "legendgroup": "Coldwave",
         "marker": {
          "color": "#00cc96",
          "pattern": {
           "shape": ""
          }
         },
         "name": "Coldwave",
         "orientation": "v",
         "showlegend": true,
         "textposition": "auto",
         "type": "bar",
         "x": [
          "Baitadi",
          "Bajang",
          "Bhaktapur",
          "Darchula",
          "Dolkha",
          "Dolpa",
          "Gorkha",
          "Humla",
          "Jumla",
          "Kabhre",
          "Kaski",
          "Lamjung",
          "Manang",
          "Mugu",
          "Mustang",
          "Rasuwa",
          "Rukum",
          "Solukhumbu",
          "Tanahun"
         ],
         "xaxis": "x",
         "y": {
          "bdata": "AwYBAwQIAwkDAQEBCAgHBQMKAQ==",
          "dtype": "i1"
         },
         "yaxis": "y"
        }
       ],
       "frames": [
        {
         "data": [
          {
           "hovertemplate": "Event Type=Heatwave<br>Year=1984.0<br>District=%{x}<br>Number of Events=%{y}<extra></extra>",
           "legendgroup": "Heatwave",
           "marker": {
            "color": "#636efa",
            "pattern": {
             "shape": ""
            }
           },
           "name": "Heatwave",
           "orientation": "v",
           "showlegend": true,
           "textposition": "auto",
           "type": "bar",
           "x": [
            "Arghakhanchi",
            "Banke",
            "Bardiya",
            "Dhanusa",
            "Kailali",
            "Mahottari",
            "Routahat"
           ],
           "xaxis": "x",
           "y": {
            "bdata": "AQEBAgECAg==",
            "dtype": "i1"
           },
           "yaxis": "y"
          },
          {
           "hovertemplate": "Event Type=Heavy Rain<br>Year=1984.0<br>District=%{x}<br>Number of Events=%{y}<extra></extra>",
           "legendgroup": "Heavy Rain",
           "marker": {
            "color": "#EF553B",
            "pattern": {
             "shape": ""
            }
           },
           "name": "Heavy Rain",
           "orientation": "v",
           "showlegend": true,
           "textposition": "auto",
           "type": "bar",
           "x": [
            "Ilam",
            "Jhapa",
            "Palpa"
           ],
           "xaxis": "x",
           "y": {
            "bdata": "AwIB",
            "dtype": "i1"
           },
           "yaxis": "y"
          },
          {
           "hovertemplate": "Event Type=Coldwave<br>Year=1984.0<br>District=%{x}<br>Number of Events=%{y}<extra></extra>",
           "legendgroup": "Coldwave",
           "marker": {
            "color": "#00cc96",
            "pattern": {
             "shape": ""
            }
           },
           "name": "Coldwave",
           "orientation": "v",
           "showlegend": true,
           "textposition": "auto",
           "type": "bar",
           "x": [
            "Baitadi",
            "Bajang",
            "Bhaktapur",
            "Darchula",
            "Dolkha",
            "Dolpa",
            "Gorkha",
            "Humla",
            "Jumla",
            "Kabhre",
            "Kaski",
            "Lamjung",
            "Manang",
            "Mugu",
            "Mustang",
            "Rasuwa",
            "Rukum",
            "Solukhumbu",
            "Tanahun"
           ],
           "xaxis": "x",
           "y": {
            "bdata": "AwYBAwQIAwkDAQEBCAgHBQMKAQ==",
            "dtype": "i1"
           },
           "yaxis": "y"
          }
         ],
         "name": "1984.0"
        },
        {
         "data": [
          {
           "hovertemplate": "Event Type=Heatwave<br>Year=1987.0<br>District=%{x}<br>Number of Events=%{y}<extra></extra>",
           "legendgroup": "Heatwave",
           "marker": {
            "color": "#636efa",
            "pattern": {
             "shape": ""
            }
           },
           "name": "Heatwave",
           "orientation": "v",
           "showlegend": true,
           "textposition": "auto",
           "type": "bar",
           "x": [
            "Arghakhanchi",
            "Banke",
            "Bardiya",
            "Chitawan",
            "Dhanusa",
            "Kailali",
            "Mahottari",
            "Makwanpur",
            "Nawalparasi",
            "Palpa",
            "Routahat",
            "Rupandehi",
            "Sarlahi"
           ],
           "xaxis": "x",
           "y": {
            "bdata": "AQEBAQMBAwEBAQMBAQ==",
            "dtype": "i1"
           },
           "yaxis": "y"
          },
          {
           "hovertemplate": "Event Type=Heavy Rain<br>Year=1987.0<br>District=%{x}<br>Number of Events=%{y}<extra></extra>",
           "legendgroup": "Heavy Rain",
           "marker": {
            "color": "#EF553B",
            "pattern": {
             "shape": ""
            }
           },
           "name": "Heavy Rain",
           "orientation": "v",
           "showlegend": true,
           "textposition": "auto",
           "type": "bar",
           "x": [
            "Arghakhanchi",
            "Dhankuta",
            "Dhanusa",
            "Ilam",
            "Jhapa",
            "Mahottari",
            "Makwanpur",
            "Morang",
            "Okhaldhunga",
            "Palpa",
            "Panchther",
            "Routahat",
            "Rupandehi",
            "Sankhuwasabha",
            "Saptari",
            "Sarlahi",
            "Sindhuli",
            "Sunsari",
            "Taplejung",
            "Terhathum",
            "Udayapur"
           ],
           "xaxis": "x",
           "y": {
            "bdata": "AQEDAgEDAQEBAQEDAQEBAgEBAQEB",
            "dtype": "i1"
           },
           "yaxis": "y"
          },
          {
           "hovertemplate": "Event Type=Coldwave<br>Year=1987.0<br>District=%{x}<br>Number of Events=%{y}<extra></extra>",
           "legendgroup": "Coldwave",
           "marker": {
            "color": "#00cc96",
            "pattern": {
             "shape": ""
            }
           },
           "name": "Coldwave",
           "orientation": "v",
           "showlegend": true,
           "textposition": "auto",
           "type": "bar",
           "x": [
            "Baitadi",
            "Bajang",
            "Darchula",
            "Dolkha",
            "Dolpa",
            "Gorkha",
            "Humla",
            "Jumla",
            "Manang",
            "Mugu",
            "Mustang",
            "Rasuwa",
            "Rukum",
            "Solukhumbu"
           ],
           "xaxis": "x",
           "y": {
            "bdata": "AwYDBAkCCgIICQgFAgo=",
            "dtype": "i1"
           },
           "yaxis": "y"
          }
         ],
         "name": "1987.0"
        },
        {
         "data": [
          {
           "hovertemplate": "Event Type=Heatwave<br>Year=1988.0<br>District=%{x}<br>Number of Events=%{y}<extra></extra>",
           "legendgroup": "Heatwave",
           "marker": {
            "color": "#636efa",
            "pattern": {
             "shape": ""
            }
           },
           "name": "Heatwave",
           "orientation": "v",
           "showlegend": true,
           "textposition": "auto",
           "type": "bar",
           "x": [
            "Arghakhanchi",
            "Banke",
            "Bardiya",
            "Dhanusa",
            "Kailali",
            "Mahottari",
            "Routahat"
           ],
           "xaxis": "x",
           "y": {
            "bdata": "AQECAgECAw==",
            "dtype": "i1"
           },
           "yaxis": "y"
          },
          {
           "hovertemplate": "Event Type=Heavy Rain<br>Year=1988.0<br>District=%{x}<br>Number of Events=%{y}<extra></extra>",
           "legendgroup": "Heavy Rain",
           "marker": {
            "color": "#EF553B",
            "pattern": {
             "shape": ""
            }
           },
           "name": "Heavy Rain",
           "orientation": "v",
           "showlegend": true,
           "textposition": "auto",
           "type": "bar",
           "x": [
            "Arghakhanchi",
            "Baglung",
            "Banke",
            "Bardiya",
            "Chitawan",
            "Dadeldhura",
            "Dailekh",
            "Dang",
            "Dhading",
            "Dhankuta",
            "Dhanusa",
            "Doti",
            "Gulmi",
            "Ilam",
            "Jhapa",
            "Jumla",
            "Kailali",
            "Kanchanpur",
            "Kaski",
            "Kathmandu",
            "Lalitpur",
            "Lamjung",
            "Mahottari",
            "Makwanpur",
            "Morang",
            "Myagdi",
            "Nawalparasi",
            "Nuwakot",
            "Okhaldhunga",
            "Palpa",
            "Panchther",
            "Parbat",
            "Routahat",
            "Rukum",
            "Rupandehi",
            "Salyan",
            "Sankhuwasabha",
            "Saptari",
            "Sarlahi",
            "Sindhuli",
            "Sunsari",
            "Surkhet",
            "Syangja",
            "Tanahun",
            "Taplejung",
            "Terhathum",
            "Udayapur"
           ],
           "xaxis": "x",
           "y": {
            "bdata": "AgECAgEBAgIBAQIBAgEBAQICAQEBAQIBAQECAQECAQECAgICAQECAQECAgEBAQE=",
            "dtype": "i1"
           },
           "yaxis": "y"
          },
          {
           "hovertemplate": "Event Type=Coldwave<br>Year=1988.0<br>District=%{x}<br>Number of Events=%{y}<extra></extra>",
           "legendgroup": "Coldwave",
           "marker": {
            "color": "#00cc96",
            "pattern": {
             "shape": ""
            }
           },
           "name": "Coldwave",
           "orientation": "v",
           "showlegend": true,
           "textposition": "auto",
           "type": "bar",
           "x": [
            "Baitadi",
            "Bajang",
            "Darchula",
            "Dolkha",
            "Dolpa",
            "Gorkha",
            "Humla",
            "Jumla",
            "Manang",
            "Mugu",
            "Mustang",
            "Rasuwa",
            "Rukum",
            "Solukhumbu"
           ],
           "xaxis": "x",
           "y": {
            "bdata": "BAUEBAgCCgIICAgFAQo=",
            "dtype": "i1"
           },
           "yaxis": "y"
          }
         ],
         "name": "1988.0"
        },
        {
         "data": [
          {
           "hovertemplate": "Event Type=Heatwave<br>Year=1991.0<br>District=%{x}<br>Number of Events=%{y}<extra></extra>",
           "legendgroup": "Heatwave",
           "marker": {
            "color": "#636efa",
            "pattern": {
             "shape": ""
            }
           },
           "name": "Heatwave",
           "orientation": "v",
           "showlegend": true,
           "textposition": "auto",
           "type": "bar",
           "x": [
            "Arghakhanchi",
            "Banke",
            "Bardiya",
            "Chitawan",
            "Dhanusa",
            "Kailali",
            "Mahottari",
            "Makwanpur",
            "Nawalparasi",
            "Palpa",
            "Routahat",
            "Rupandehi",
            "Saptari",
            "Sarlahi",
            "Udayapur"
           ],
           "xaxis": "x",
           "y": {
            "bdata": "AQECAQIBAgEBAQMBAQEB",
            "dtype": "i1"
           },
           "yaxis": "y"
          },
          {
           "hovertemplate": "Event Type=Heavy Rain<br>Year=1991.0<br>District=%{x}<br>Number of Events=%{y}<extra></extra>",
           "legendgroup": "Heavy Rain",
           "marker": {
            "color": "#EF553B",
            "pattern": {
             "shape": ""
            }
           },
           "name": "Heavy Rain",
           "orientation": "v",
           "showlegend": true,
           "textposition": "auto",
           "type": "bar",
           "x": [
            "Banke",
            "Ilam",
            "Jhapa"
           ],
           "xaxis": "x",
           "y": {
            "bdata": "AQEB",
            "dtype": "i1"
           },
           "yaxis": "y"
          },
          {
           "hovertemplate": "Event Type=Coldwave<br>Year=1991.0<br>District=%{x}<br>Number of Events=%{y}<extra></extra>",
           "legendgroup": "Coldwave",
           "marker": {
            "color": "#00cc96",
            "pattern": {
             "shape": ""
            }
           },
           "name": "Coldwave",
           "orientation": "v",
           "showlegend": true,
           "textposition": "auto",
           "type": "bar",
           "x": [
            "Baitadi",
            "Bajang",
            "Bhaktapur",
            "Darchula",
            "Dolkha",
            "Dolpa",
            "Gorkha",
            "Humla",
            "Jumla",
            "Kabhre",
            "Lamjung",
            "Manang",
            "Mugu",
            "Mustang",
            "Rasuwa",
            "Rukum",
            "Solukhumbu",
            "Tanahun"
           ],
           "xaxis": "x",
           "y": {
            "bdata": "BAcBBAUIAwoDAQEICAgFAwoB",
            "dtype": "i1"
           },
           "yaxis": "y"
          }
         ],
         "name": "1991.0"
        },
        {
         "data": [
          {
           "hovertemplate": "Event Type=Heatwave<br>Year=1994.0<br>District=%{x}<br>Number of Events=%{y}<extra></extra>",
           "legendgroup": "Heatwave",
           "marker": {
            "color": "#636efa",
            "pattern": {
             "shape": ""
            }
           },
           "name": "Heatwave",
           "orientation": "v",
           "showlegend": true,
           "textposition": "auto",
           "type": "bar",
           "x": [
            "Arghakhanchi",
            "Banke",
            "Bardiya",
            "Dhanusa",
            "Kailali",
            "Mahottari",
            "Routahat",
            "Sarlahi"
           ],
           "xaxis": "x",
           "y": {
            "bdata": "AQECAwIDAwE=",
            "dtype": "i1"
           },
           "yaxis": "y"
          },
          {
           "hovertemplate": "Event Type=Heavy Rain<br>Year=1994.0<br>District=%{x}<br>Number of Events=%{y}<extra></extra>",
           "legendgroup": "Heavy Rain",
           "marker": {
            "color": "#EF553B",
            "pattern": {
             "shape": ""
            }
           },
           "name": "Heavy Rain",
           "orientation": "v",
           "showlegend": true,
           "textposition": "auto",
           "type": "bar",
           "x": [
            "Kanchanpur"
           ],
           "xaxis": "x",
           "y": {
            "bdata": "AQ==",
            "dtype": "i1"
           },
           "yaxis": "y"
          },
          {
           "hovertemplate": "Event Type=Coldwave<br>Year=1994.0<br>District=%{x}<br>Number of Events=%{y}<extra></extra>",
           "legendgroup": "Coldwave",
           "marker": {
            "color": "#00cc96",
            "pattern": {
             "shape": ""
            }
           },
           "name": "Coldwave",
           "orientation": "v",
           "showlegend": true,
           "textposition": "auto",
           "type": "bar",
           "x": [
            "Baitadi",
            "Bajang",
            "Darchula",
            "Dolkha",
            "Dolpa",
            "Gorkha",
            "Humla",
            "Jumla",
            "Manang",
            "Mugu",
            "Mustang",
            "Rasuwa",
            "Rukum",
            "Solukhumbu"
           ],
           "xaxis": "x",
           "y": {
            "bdata": "AwYDBQgDCgMICAgFAwo=",
            "dtype": "i1"
           },
           "yaxis": "y"
          }
         ],
         "name": "1994.0"
        },
        {
         "data": [
          {
           "hovertemplate": "Event Type=Heatwave<br>Year=1995.0<br>District=%{x}<br>Number of Events=%{y}<extra></extra>",
           "legendgroup": "Heatwave",
           "marker": {
            "color": "#636efa",
            "pattern": {
             "shape": ""
            }
           },
           "name": "Heatwave",
           "orientation": "v",
           "showlegend": true,
           "textposition": "auto",
           "type": "bar",
           "x": [
            "Arghakhanchi",
            "Banke",
            "Bardiya",
            "Chitawan",
            "Dhanusa",
            "Kailali",
            "Mahottari",
            "Makwanpur",
            "Nawalparasi",
            "Palpa",
            "Routahat",
            "Rupandehi",
            "Saptari",
            "Sarlahi",
            "Udayapur"
           ],
           "xaxis": "x",
           "y": {
            "bdata": "AQECAQMCAwEBAQMBAQEB",
            "dtype": "i1"
           },
           "yaxis": "y"
          },
          {
           "hovertemplate": "Event Type=Coldwave<br>Year=1995.0<br>District=%{x}<br>Number of Events=%{y}<extra></extra>",
           "legendgroup": "Coldwave",
           "marker": {
            "color": "#00cc96",
            "pattern": {
             "shape": ""
            }
           },
           "name": "Coldwave",
           "orientation": "v",
           "showlegend": true,
           "textposition": "auto",
           "type": "bar",
           "x": [
            "Baitadi",
            "Bajang",
            "Bhaktapur",
            "Darchula",
            "Dolkha",
            "Dolpa",
            "Gorkha",
            "Humla",
            "Jumla",
            "Kabhre",
            "Kaski",
            "Lamjung",
            "Manang",
            "Mugu",
            "Mustang",
            "Rasuwa",
            "Rukum",
            "Solukhumbu",
            "Tanahun"
           ],
           "xaxis": "x",
           "y": {
            "bdata": "AwYBAwQIAwoDAQEBCAgHBQMKAQ==",
            "dtype": "i1"
           },
           "yaxis": "y"
          }
         ],
         "name": "1995.0"
        },
        {
         "data": [
          {
           "hovertemplate": "Event Type=Heatwave<br>Year=1996.0<br>District=%{x}<br>Number of Events=%{y}<extra></extra>",
           "legendgroup": "Heatwave",
           "marker": {
            "color": "#636efa",
            "pattern": {
             "shape": ""
            }
           },
           "name": "Heatwave",
           "orientation": "v",
           "showlegend": true,
           "textposition": "auto",
           "type": "bar",
           "x": [
            "Arghakhanchi",
            "Banke",
            "Bardiya",
            "Dhanusa",
            "Kailali",
            "Mahottari",
            "Makwanpur",
            "Palpa",
            "Routahat",
            "Rupandehi",
            "Saptari",
            "Sarlahi",
            "Udayapur"
           ],
           "xaxis": "x",
           "y": {
            "bdata": "AQEBAgECAQEDAQEBAQ==",
            "dtype": "i1"
           },
           "yaxis": "y"
          },
          {
           "hovertemplate": "Event Type=Heavy Rain<br>Year=1996.0<br>District=%{x}<br>Number of Events=%{y}<extra></extra>",
           "legendgroup": "Heavy Rain",
           "marker": {
            "color": "#EF553B",
            "pattern": {
             "shape": ""
            }
           },
           "name": "Heavy Rain",
           "orientation": "v",
           "showlegend": true,
           "textposition": "auto",
           "type": "bar",
           "x": [
            "Ilam",
            "Jhapa"
           ],
           "xaxis": "x",
           "y": {
            "bdata": "AQE=",
            "dtype": "i1"
           },
           "yaxis": "y"
          },
          {
           "hovertemplate": "Event Type=Coldwave<br>Year=1996.0<br>District=%{x}<br>Number of Events=%{y}<extra></extra>",
           "legendgroup": "Coldwave",
           "marker": {
            "color": "#00cc96",
            "pattern": {
             "shape": ""
            }
           },
           "name": "Coldwave",
           "orientation": "v",
           "showlegend": true,
           "textposition": "auto",
           "type": "bar",
           "x": [
            "Baitadi",
            "Bajang",
            "Bhaktapur",
            "Darchula",
            "Dolkha",
            "Dolpa",
            "Gorkha",
            "Humla",
            "Jumla",
            "Kabhre",
            "Lamjung",
            "Manang",
            "Mugu",
            "Mustang",
            "Rasuwa",
            "Rukum",
            "Solukhumbu",
            "Tanahun"
           ],
           "xaxis": "x",
           "y": {
            "bdata": "AwYBAwMIAwkCAQEICAgFAgoB",
            "dtype": "i1"
           },
           "yaxis": "y"
          }
         ],
         "name": "1996.0"
        },
        {
         "data": [
          {
           "hovertemplate": "Event Type=Heatwave<br>Year=2012.0<br>District=%{x}<br>Number of Events=%{y}<extra></extra>",
           "legendgroup": "Heatwave",
           "marker": {
            "color": "#636efa",
            "pattern": {
             "shape": ""
            }
           },
           "name": "Heatwave",
           "orientation": "v",
           "showlegend": true,
           "textposition": "auto",
           "type": "bar",
           "x": [
            "Arghakhanchi",
            "Banke",
            "Bardiya",
            "Dhanusa",
            "Kailali",
            "Mahottari",
            "Makwanpur",
            "Routahat",
            "Sarlahi"
           ],
           "xaxis": "x",
           "y": {
            "bdata": "AgICAgICAQMB",
            "dtype": "i1"
           },
           "yaxis": "y"
          },
          {
           "hovertemplate": "Event Type=Heavy Rain<br>Year=2012.0<br>District=%{x}<br>Number of Events=%{y}<extra></extra>",
           "legendgroup": "Heavy Rain",
           "marker": {
            "color": "#EF553B",
            "pattern": {
             "shape": ""
            }
           },
           "name": "Heavy Rain",
           "orientation": "v",
           "showlegend": true,
           "textposition": "auto",
           "type": "bar",
           "x": [
            "Arghakhanchi",
            "Baglung",
            "Banke",
            "Bardiya",
            "Chitawan",
            "Dailekh",
            "Dang",
            "Dhading",
            "Dhankuta",
            "Dhanusa",
            "Gorkha",
            "Gulmi",
            "Ilam",
            "Jhapa",
            "Kailali",
            "Kanchanpur",
            "Kaski",
            "Kathmandu",
            "Lalitpur",
            "Lamjung",
            "Mahottari",
            "Makwanpur",
            "Morang",
            "Mustang",
            "Myagdi",
            "Nawalparasi",
            "Nuwakot",
            "Palpa",
            "Panchther",
            "Parbat",
            "Routahat",
            "Rukum",
            "Rupandehi",
            "Salyan",
            "Sankhuwasabha",
            "Saptari",
            "Sarlahi",
            "Sindhuli",
            "Sunsari",
            "Surkhet",
            "Syangja",
            "Tanahun",
            "Taplejung",
            "Terhathum",
            "Udayapur"
           ],
           "xaxis": "x",
           "y": {
            "bdata": "AwMDAwICAwIBAQEDAQECAQICAgIBAgEBAwICAwEDAgMDAwEBAQEBAgMCAQEB",
            "dtype": "i1"
           },
           "yaxis": "y"
          },
          {
           "hovertemplate": "Event Type=Coldwave<br>Year=2012.0<br>District=%{x}<br>Number of Events=%{y}<extra></extra>",
           "legendgroup": "Coldwave",
           "marker": {
            "color": "#00cc96",
            "pattern": {
             "shape": ""
            }
           },
           "name": "Coldwave",
           "orientation": "v",
           "showlegend": true,
           "textposition": "auto",
           "type": "bar",
           "x": [
            "Baglung",
            "Baitadi",
            "Bajang",
            "Bhaktapur",
            "Darchula",
            "Dolkha",
            "Dolpa",
            "Gorkha",
            "Humla",
            "Jumla",
            "Kabhre",
            "Kaski",
            "Lamjung",
            "Manang",
            "Mugu",
            "Mustang",
            "Myagdi",
            "Parbat",
            "Rasuwa",
            "Rukum",
            "Solukhumbu",
            "Tanahun"
           ],
           "xaxis": "x",
           "y": {
            "bdata": "AQQFAQQFCAMJAwEBAQgICAEBBQIKAQ==",
            "dtype": "i1"
           },
           "yaxis": "y"
          }
         ],
         "name": "2012.0"
        },
        {
         "data": [
          {
           "hovertemplate": "Event Type=Heatwave<br>Year=1981.0<br>District=%{x}<br>Number of Events=%{y}<extra></extra>",
           "legendgroup": "Heatwave",
           "marker": {
            "color": "#636efa",
            "pattern": {
             "shape": ""
            }
           },
           "name": "Heatwave",
           "orientation": "v",
           "showlegend": true,
           "textposition": "auto",
           "type": "bar",
           "x": [
            "Bardiya",
            "Kailali",
            "Routahat"
           ],
           "xaxis": "x",
           "y": {
            "bdata": "AQEC",
            "dtype": "i1"
           },
           "yaxis": "y"
          },
          {
           "hovertemplate": "Event Type=Heavy Rain<br>Year=1981.0<br>District=%{x}<br>Number of Events=%{y}<extra></extra>",
           "legendgroup": "Heavy Rain",
           "marker": {
            "color": "#EF553B",
            "pattern": {
             "shape": ""
            }
           },
           "name": "Heavy Rain",
           "orientation": "v",
           "showlegend": true,
           "textposition": "auto",
           "type": "bar",
           "x": [
            "Arghakhanchi",
            "Baglung",
            "Banke",
            "Bardiya",
            "Chitawan",
            "Dadeldhura",
            "Dailekh",
            "Dang",
            "Dhading",
            "Dhankuta",
            "Dhanusa",
            "Dolpa",
            "Doti",
            "Gulmi",
            "Ilam",
            "Jhapa",
            "Jumla",
            "Kailali",
            "Kanchanpur",
            "Kaski",
            "Kathmandu",
            "Lalitpur",
            "Lamjung",
            "Mahottari",
            "Makwanpur",
            "Morang",
            "Mustang",
            "Myagdi",
            "Nawalparasi",
            "Nuwakot",
            "Palpa",
            "Panchther",
            "Parbat",
            "Routahat",
            "Rukum",
            "Rupandehi",
            "Salyan",
            "Sankhuwasabha",
            "Saptari",
            "Sarlahi",
            "Sindhuli",
            "Sunsari",
            "Surkhet",
            "Syangja",
            "Tanahun",
            "Taplejung",
            "Terhathum",
            "Udayapur"
           ],
           "xaxis": "x",
           "y": {
            "bdata": "AgEBAQEBAQEBAQEBAQECAgEBAQEBAQEBAQIBAQEBAgIBAQECAQEBAQECAQEBAgIB",
            "dtype": "i1"
           },
           "yaxis": "y"
          },
          {
           "hovertemplate": "Event Type=Coldwave<br>Year=1981.0<br>District=%{x}<br>Number of Events=%{y}<extra></extra>",
           "legendgroup": "Coldwave",
           "marker": {
            "color": "#00cc96",
            "pattern": {
             "shape": ""
            }
           },
           "name": "Coldwave",
           "orientation": "v",
           "showlegend": true,
           "textposition": "auto",
           "type": "bar",
           "x": [
            "Baitadi",
            "Bajang",
            "Bhaktapur",
            "Darchula",
            "Dolkha",
            "Dolpa",
            "Gorkha",
            "Humla",
            "Jumla",
            "Kabhre",
            "Kaski",
            "Lamjung",
            "Manang",
            "Mugu",
            "Mustang",
            "Rasuwa",
            "Rukum",
            "Solukhumbu",
            "Tanahun"
           ],
           "xaxis": "x",
           "y": {
            "bdata": "BAYBBAUIAwoDAQEBCAgHBQMKAQ==",
            "dtype": "i1"
           },
           "yaxis": "y"
          }
         ],
         "name": "1981.0"
        },
        {
         "data": [
          {
           "hovertemplate": "Event Type=Heatwave<br>Year=1982.0<br>District=%{x}<br>Number of Events=%{y}<extra></extra>",
           "legendgroup": "Heatwave",
           "marker": {
            "color": "#636efa",
            "pattern": {
             "shape": ""
            }
           },
           "name": "Heatwave",
           "orientation": "v",
           "showlegend": true,
           "textposition": "auto",
           "type": "bar",
           "x": [
            "Dhanusa",
            "Mahottari",
            "Routahat"
           ],
           "xaxis": "x",
           "y": {
            "bdata": "AQEC",
            "dtype": "i1"
           },
           "yaxis": "y"
          },
          {
           "hovertemplate": "Event Type=Heavy Rain<br>Year=1982.0<br>District=%{x}<br>Number of Events=%{y}<extra></extra>",
           "legendgroup": "Heavy Rain",
           "marker": {
            "color": "#EF553B",
            "pattern": {
             "shape": ""
            }
           },
           "name": "Heavy Rain",
           "orientation": "v",
           "showlegend": true,
           "textposition": "auto",
           "type": "bar",
           "x": [
            "Arghakhanchi",
            "Gulmi",
            "Ilam",
            "Jhapa",
            "Kailali",
            "Kanchanpur",
            "Morang",
            "Nawalparasi",
            "Palpa",
            "Panchther",
            "Rupandehi",
            "Sunsari",
            "Syangja",
            "Taplejung",
            "Terhathum"
           ],
           "xaxis": "x",
           "y": {
            "bdata": "AQEBAQEBAQEBAQEBAQEB",
            "dtype": "i1"
           },
           "yaxis": "y"
          },
          {
           "hovertemplate": "Event Type=Coldwave<br>Year=1982.0<br>District=%{x}<br>Number of Events=%{y}<extra></extra>",
           "legendgroup": "Coldwave",
           "marker": {
            "color": "#00cc96",
            "pattern": {
             "shape": ""
            }
           },
           "name": "Coldwave",
           "orientation": "v",
           "showlegend": true,
           "textposition": "auto",
           "type": "bar",
           "x": [
            "Baitadi",
            "Bajang",
            "Bhaktapur",
            "Darchula",
            "Dolkha",
            "Dolpa",
            "Gorkha",
            "Humla",
            "Jumla",
            "Kabhre",
            "Kaski",
            "Lamjung",
            "Manang",
            "Mugu",
            "Mustang",
            "Rasuwa",
            "Rukum",
            "Solukhumbu",
            "Tanahun"
           ],
           "xaxis": "x",
           "y": {
            "bdata": "BAUBBAUIAwoEAQEBCAgIBQQKAQ==",
            "dtype": "i1"
           },
           "yaxis": "y"
          }
         ],
         "name": "1982.0"
        },
        {
         "data": [
          {
           "hovertemplate": "Event Type=Heatwave<br>Year=1990.0<br>District=%{x}<br>Number of Events=%{y}<extra></extra>",
           "legendgroup": "Heatwave",
           "marker": {
            "color": "#636efa",
            "pattern": {
             "shape": ""
            }
           },
           "name": "Heatwave",
           "orientation": "v",
           "showlegend": true,
           "textposition": "auto",
           "type": "bar",
           "x": [
            "Bardiya",
            "Dhanusa",
            "Kailali",
            "Mahottari",
            "Routahat"
           ],
           "xaxis": "x",
           "y": {
            "bdata": "AgIBAgM=",
            "dtype": "i1"
           },
           "yaxis": "y"
          },
          {
           "hovertemplate": "Event Type=Heavy Rain<br>Year=1990.0<br>District=%{x}<br>Number of Events=%{y}<extra></extra>",
           "legendgroup": "Heavy Rain",
           "marker": {
            "color": "#EF553B",
            "pattern": {
             "shape": ""
            }
           },
           "name": "Heavy Rain",
           "orientation": "v",
           "showlegend": true,
           "textposition": "auto",
           "type": "bar",
           "x": [
            "Arghakhanchi",
            "Baglung",
            "Banke",
            "Bardiya",
            "Chitawan",
            "Dailekh",
            "Dang",
            "Dhading",
            "Dhanusa",
            "Gulmi",
            "Ilam",
            "Jhapa",
            "Kailali",
            "Kaski",
            "Kathmandu",
            "Lalitpur",
            "Lamjung",
            "Mahottari",
            "Makwanpur",
            "Myagdi",
            "Nawalparasi",
            "Nuwakot",
            "Palpa",
            "Parbat",
            "Routahat",
            "Rukum",
            "Rupandehi",
            "Salyan",
            "Sarlahi",
            "Sindhuli",
            "Surkhet",
            "Syangja",
            "Tanahun"
           ],
           "xaxis": "x",
           "y": {
            "bdata": "AQEBAQEBAQEBAQEBAQEBAQEBAQEBAQEBAQEBAQEBAQEB",
            "dtype": "i1"
           },
           "yaxis": "y"
          },
          {
           "hovertemplate": "Event Type=Coldwave<br>Year=1990.0<br>District=%{x}<br>Number of Events=%{y}<extra></extra>",
           "legendgroup": "Coldwave",
           "marker": {
            "color": "#00cc96",
            "pattern": {
             "shape": ""
            }
           },
           "name": "Coldwave",
           "orientation": "v",
           "showlegend": true,
           "textposition": "auto",
           "type": "bar",
           "x": [
            "Baitadi",
            "Bajang",
            "Darchula",
            "Dolkha",
            "Dolpa",
            "Gorkha",
            "Humla",
            "Jumla",
            "Manang",
            "Mugu",
            "Mustang",
            "Rasuwa",
            "Rukum",
            "Solukhumbu"
           ],
           "xaxis": "x",
           "y": {
            "bdata": "BAYEBAgBCQMICAcFAQo=",
            "dtype": "i1"
           },
           "yaxis": "y"
          }
         ],
         "name": "1990.0"
        },
        {
         "data": [
          {
           "hovertemplate": "Event Type=Heatwave<br>Year=1998.0<br>District=%{x}<br>Number of Events=%{y}<extra></extra>",
           "legendgroup": "Heatwave",
           "marker": {
            "color": "#636efa",
            "pattern": {
             "shape": ""
            }
           },
           "name": "Heatwave",
           "orientation": "v",
           "showlegend": true,
           "textposition": "auto",
           "type": "bar",
           "x": [
            "Banke",
            "Bardiya",
            "Dhanusa",
            "Kailali",
            "Mahottari",
            "Routahat"
           ],
           "xaxis": "x",
           "y": {
            "bdata": "AQICAgID",
            "dtype": "i1"
           },
           "yaxis": "y"
          },
          {
           "hovertemplate": "Event Type=Heavy Rain<br>Year=1998.0<br>District=%{x}<br>Number of Events=%{y}<extra></extra>",
           "legendgroup": "Heavy Rain",
           "marker": {
            "color": "#EF553B",
            "pattern": {
             "shape": ""
            }
           },
           "name": "Heavy Rain",
           "orientation": "v",
           "showlegend": true,
           "textposition": "auto",
           "type": "bar",
           "x": [
            "Arghakhanchi",
            "Ilam",
            "Jhapa",
            "Palpa",
            "Rupandehi"
           ],
           "xaxis": "x",
           "y": {
            "bdata": "AgICAQI=",
            "dtype": "i1"
           },
           "yaxis": "y"
          },
          {
           "hovertemplate": "Event Type=Coldwave<br>Year=1998.0<br>District=%{x}<br>Number of Events=%{y}<extra></extra>",
           "legendgroup": "Coldwave",
           "marker": {
            "color": "#00cc96",
            "pattern": {
             "shape": ""
            }
           },
           "name": "Coldwave",
           "orientation": "v",
           "showlegend": true,
           "textposition": "auto",
           "type": "bar",
           "x": [
            "Baitadi",
            "Bajang",
            "Darchula",
            "Dolkha",
            "Dolpa",
            "Gorkha",
            "Humla",
            "Jumla",
            "Manang",
            "Mugu",
            "Mustang",
            "Rasuwa",
            "Rukum",
            "Solukhumbu"
           ],
           "xaxis": "x",
           "y": {
            "bdata": "BAUEBAgCCQMICAYEAgo=",
            "dtype": "i1"
           },
           "yaxis": "y"
          }
         ],
         "name": "1998.0"
        },
        {
         "data": [
          {
           "hovertemplate": "Event Type=Heatwave<br>Year=2000.0<br>District=%{x}<br>Number of Events=%{y}<extra></extra>",
           "legendgroup": "Heatwave",
           "marker": {
            "color": "#636efa",
            "pattern": {
             "shape": ""
            }
           },
           "name": "Heatwave",
           "orientation": "v",
           "showlegend": true,
           "textposition": "auto",
           "type": "bar",
           "x": [
            "Bardiya",
            "Dhanusa",
            "Mahottari",
            "Routahat"
           ],
           "xaxis": "x",
           "y": {
            "bdata": "AgICAg==",
            "dtype": "i1"
           },
           "yaxis": "y"
          },
          {
           "hovertemplate": "Event Type=Heavy Rain<br>Year=2000.0<br>District=%{x}<br>Number of Events=%{y}<extra></extra>",
           "legendgroup": "Heavy Rain",
           "marker": {
            "color": "#EF553B",
            "pattern": {
             "shape": ""
            }
           },
           "name": "Heavy Rain",
           "orientation": "v",
           "showlegend": true,
           "textposition": "auto",
           "type": "bar",
           "x": [
            "Arghakhanchi",
            "Banke",
            "Bardiya",
            "Dailekh",
            "Dang",
            "Kailali",
            "Kanchanpur",
            "Rukum",
            "Salyan",
            "Surkhet"
           ],
           "xaxis": "x",
           "y": {
            "bdata": "AQEBAQEBAQEBAQ==",
            "dtype": "i1"
           },
           "yaxis": "y"
          },
          {
           "hovertemplate": "Event Type=Coldwave<br>Year=2000.0<br>District=%{x}<br>Number of Events=%{y}<extra></extra>",
           "legendgroup": "Coldwave",
           "marker": {
            "color": "#00cc96",
            "pattern": {
             "shape": ""
            }
           },
           "name": "Coldwave",
           "orientation": "v",
           "showlegend": true,
           "textposition": "auto",
           "type": "bar",
           "x": [
            "Baitadi",
            "Bajang",
            "Bhaktapur",
            "Darchula",
            "Dolkha",
            "Dolpa",
            "Gorkha",
            "Humla",
            "Jumla",
            "Kabhre",
            "Kaski",
            "Lamjung",
            "Manang",
            "Mugu",
            "Mustang",
            "Rasuwa",
            "Rukum",
            "Solukhumbu",
            "Tanahun"
           ],
           "xaxis": "x",
           "y": {
            "bdata": "BAUBBAQHAgkCAQEBBwcHBQIKAQ==",
            "dtype": "i1"
           },
           "yaxis": "y"
          }
         ],
         "name": "2000.0"
        },
        {
         "data": [
          {
           "hovertemplate": "Event Type=Heatwave<br>Year=2004.0<br>District=%{x}<br>Number of Events=%{y}<extra></extra>",
           "legendgroup": "Heatwave",
           "marker": {
            "color": "#636efa",
            "pattern": {
             "shape": ""
            }
           },
           "name": "Heatwave",
           "orientation": "v",
           "showlegend": true,
           "textposition": "auto",
           "type": "bar",
           "x": [
            "Bardiya",
            "Routahat"
           ],
           "xaxis": "x",
           "y": {
            "bdata": "AQI=",
            "dtype": "i1"
           },
           "yaxis": "y"
          },
          {
           "hovertemplate": "Event Type=Heavy Rain<br>Year=2004.0<br>District=%{x}<br>Number of Events=%{y}<extra></extra>",
           "legendgroup": "Heavy Rain",
           "marker": {
            "color": "#EF553B",
            "pattern": {
             "shape": ""
            }
           },
           "name": "Heavy Rain",
           "orientation": "v",
           "showlegend": true,
           "textposition": "auto",
           "type": "bar",
           "x": [
            "Arghakhanchi",
            "Baglung",
            "Banke",
            "Bardiya",
            "Bhaktapur",
            "Chitawan",
            "Dadeldhura",
            "Dailekh",
            "Dang",
            "Dhading",
            "Dhankuta",
            "Dhanusa",
            "Dolkha",
            "Doti",
            "Gorkha",
            "Gulmi",
            "Ilam",
            "Jhapa",
            "Kabhre",
            "Kailali",
            "Kanchanpur",
            "Kaski",
            "Kathmandu",
            "Lalitpur",
            "Lamjung",
            "Mahottari",
            "Makwanpur",
            "Morang",
            "Mustang",
            "Myagdi",
            "Nawalparasi",
            "Nuwakot",
            "Okhaldhunga",
            "Palpa",
            "Panchther",
            "Parbat",
            "Rasuwa",
            "Routahat",
            "Rukum",
            "Rupandehi",
            "Salyan",
            "Sankhuwasabha",
            "Saptari",
            "Sarlahi",
            "Sindhuli",
            "Sunsari",
            "Surkhet",
            "Syangja",
            "Tanahun",
            "Taplejung",
            "Terhathum",
            "Udayapur"
           ],
           "xaxis": "x",
           "y": {
            "bdata": "AgIBAQEBAQEBAQEBAQEBAgEBAQEBAQEBAQEBAQECAQEBAgECAQEBAgEBAQEBAQECAQEBAQ==",
            "dtype": "i1"
           },
           "yaxis": "y"
          },
          {
           "hovertemplate": "Event Type=Coldwave<br>Year=2004.0<br>District=%{x}<br>Number of Events=%{y}<extra></extra>",
           "legendgroup": "Coldwave",
           "marker": {
            "color": "#00cc96",
            "pattern": {
             "shape": ""
            }
           },
           "name": "Coldwave",
           "orientation": "v",
           "showlegend": true,
           "textposition": "auto",
           "type": "bar",
           "x": [
            "Baitadi",
            "Bajang",
            "Darchula",
            "Dolkha",
            "Dolpa",
            "Gorkha",
            "Humla",
            "Jumla",
            "Manang",
            "Mugu",
            "Mustang",
            "Rasuwa",
            "Rukum",
            "Solukhumbu"
           ],
           "xaxis": "x",
           "y": {
            "bdata": "AwYDBAgDCgIICAgFAgo=",
            "dtype": "i1"
           },
           "yaxis": "y"
          }
         ],
         "name": "2004.0"
        },
        {
         "data": [
          {
           "hovertemplate": "Event Type=Heatwave<br>Year=2005.0<br>District=%{x}<br>Number of Events=%{y}<extra></extra>",
           "legendgroup": "Heatwave",
           "marker": {
            "color": "#636efa",
            "pattern": {
             "shape": ""
            }
           },
           "name": "Heatwave",
           "orientation": "v",
           "showlegend": true,
           "textposition": "auto",
           "type": "bar",
           "x": [
            "Banke",
            "Bardiya",
            "Dhanusa",
            "Kailali",
            "Mahottari",
            "Routahat"
           ],
           "xaxis": "x",
           "y": {
            "bdata": "AQECAQID",
            "dtype": "i1"
           },
           "yaxis": "y"
          },
          {
           "hovertemplate": "Event Type=Heavy Rain<br>Year=2005.0<br>District=%{x}<br>Number of Events=%{y}<extra></extra>",
           "legendgroup": "Heavy Rain",
           "marker": {
            "color": "#EF553B",
            "pattern": {
             "shape": ""
            }
           },
           "name": "Heavy Rain",
           "orientation": "v",
           "showlegend": true,
           "textposition": "auto",
           "type": "bar",
           "x": [
            "Arghakhanchi",
            "Baglung",
            "Banke",
            "Bardiya",
            "Chitawan",
            "Dadeldhura",
            "Dailekh",
            "Dang",
            "Dhankuta",
            "Dhanusa",
            "Dolpa",
            "Doti",
            "Gulmi",
            "Ilam",
            "Jhapa",
            "Jumla",
            "Kailali",
            "Kanchanpur",
            "Kaski",
            "Lamjung",
            "Mahottari",
            "Makwanpur",
            "Morang",
            "Mustang",
            "Myagdi",
            "Nawalparasi",
            "Palpa",
            "Panchther",
            "Parbat",
            "Routahat",
            "Rukum",
            "Rupandehi",
            "Salyan",
            "Sankhuwasabha",
            "Saptari",
            "Sarlahi",
            "Sindhuli",
            "Sunsari",
            "Surkhet",
            "Syangja",
            "Tanahun",
            "Taplejung",
            "Terhathum",
            "Udayapur"
           ],
           "xaxis": "x",
           "y": {
            "bdata": "AQECAgEBAgIBAgEBAQICAQICAQECAgIBAQEBAQECAgECAQEBAQICAQEBAQE=",
            "dtype": "i1"
           },
           "yaxis": "y"
          },
          {
           "hovertemplate": "Event Type=Coldwave<br>Year=2005.0<br>District=%{x}<br>Number of Events=%{y}<extra></extra>",
           "legendgroup": "Coldwave",
           "marker": {
            "color": "#00cc96",
            "pattern": {
             "shape": ""
            }
           },
           "name": "Coldwave",
           "orientation": "v",
           "showlegend": true,
           "textposition": "auto",
           "type": "bar",
           "x": [
            "Baitadi",
            "Bajang",
            "Darchula",
            "Dolkha",
            "Dolpa",
            "Gorkha",
            "Humla",
            "Jumla",
            "Manang",
            "Mugu",
            "Mustang",
            "Rasuwa",
            "Rukum",
            "Solukhumbu"
           ],
           "xaxis": "x",
           "y": {
            "bdata": "AwUDBAgDCgMICAgFAwo=",
            "dtype": "i1"
           },
           "yaxis": "y"
          }
         ],
         "name": "2005.0"
        },
        {
         "data": [
          {
           "hovertemplate": "Event Type=Heatwave<br>Year=2006.0<br>District=%{x}<br>Number of Events=%{y}<extra></extra>",
           "legendgroup": "Heatwave",
           "marker": {
            "color": "#636efa",
            "pattern": {
             "shape": ""
            }
           },
           "name": "Heatwave",
           "orientation": "v",
           "showlegend": true,
           "textposition": "auto",
           "type": "bar",
           "x": [
            "Routahat"
           ],
           "xaxis": "x",
           "y": {
            "bdata": "AQ==",
            "dtype": "i1"
           },
           "yaxis": "y"
          },
          {
           "hovertemplate": "Event Type=Heavy Rain<br>Year=2006.0<br>District=%{x}<br>Number of Events=%{y}<extra></extra>",
           "legendgroup": "Heavy Rain",
           "marker": {
            "color": "#EF553B",
            "pattern": {
             "shape": ""
            }
           },
           "name": "Heavy Rain",
           "orientation": "v",
           "showlegend": true,
           "textposition": "auto",
           "type": "bar",
           "x": [
            "Arghakhanchi",
            "Baglung",
            "Banke",
            "Bardiya",
            "Chitawan",
            "Dadeldhura",
            "Dailekh",
            "Dang",
            "Dhading",
            "Dhanusa",
            "Doti",
            "Gulmi",
            "Ilam",
            "Jhapa",
            "Kailali",
            "Kanchanpur",
            "Kathmandu",
            "Lalitpur",
            "Mahottari",
            "Makwanpur",
            "Morang",
            "Myagdi",
            "Nawalparasi",
            "Nuwakot",
            "Palpa",
            "Parbat",
            "Routahat",
            "Rukum",
            "Rupandehi",
            "Salyan",
            "Saptari",
            "Sarlahi",
            "Sindhuli",
            "Sunsari",
            "Surkhet",
            "Syangja",
            "Udayapur"
           ],
           "xaxis": "x",
           "y": {
            "bdata": "AgEBAQEBAQIBAQECAgIBAQEBAQEBAQEBAgEBAQIBAQEBAQEBAQ==",
            "dtype": "i1"
           },
           "yaxis": "y"
          },
          {
           "hovertemplate": "Event Type=Coldwave<br>Year=2006.0<br>District=%{x}<br>Number of Events=%{y}<extra></extra>",
           "legendgroup": "Coldwave",
           "marker": {
            "color": "#00cc96",
            "pattern": {
             "shape": ""
            }
           },
           "name": "Coldwave",
           "orientation": "v",
           "showlegend": true,
           "textposition": "auto",
           "type": "bar",
           "x": [
            "Baitadi",
            "Bajang",
            "Darchula",
            "Dolkha",
            "Dolpa",
            "Gorkha",
            "Humla",
            "Jumla",
            "Manang",
            "Mugu",
            "Mustang",
            "Rasuwa",
            "Rukum",
            "Solukhumbu"
           ],
           "xaxis": "x",
           "y": {
            "bdata": "AwYDBAcCCgMHBwcFAQo=",
            "dtype": "i1"
           },
           "yaxis": "y"
          }
         ],
         "name": "2006.0"
        },
        {
         "data": [
          {
           "hovertemplate": "Event Type=Heatwave<br>Year=2007.0<br>District=%{x}<br>Number of Events=%{y}<extra></extra>",
           "legendgroup": "Heatwave",
           "marker": {
            "color": "#636efa",
            "pattern": {
             "shape": ""
            }
           },
           "name": "Heatwave",
           "orientation": "v",
           "showlegend": true,
           "textposition": "auto",
           "type": "bar",
           "x": [
            "Routahat"
           ],
           "xaxis": "x",
           "y": {
            "bdata": "AQ==",
            "dtype": "i1"
           },
           "yaxis": "y"
          },
          {
           "hovertemplate": "Event Type=Heavy Rain<br>Year=2007.0<br>District=%{x}<br>Number of Events=%{y}<extra></extra>",
           "legendgroup": "Heavy Rain",
           "marker": {
            "color": "#EF553B",
            "pattern": {
             "shape": ""
            }
           },
           "name": "Heavy Rain",
           "orientation": "v",
           "showlegend": true,
           "textposition": "auto",
           "type": "bar",
           "x": [
            "Arghakhanchi",
            "Baglung",
            "Baitadi",
            "Banke",
            "Bardiya",
            "Chitawan",
            "Dadeldhura",
            "Dailekh",
            "Dang",
            "Darchula",
            "Dhading",
            "Dhankuta",
            "Dhanusa",
            "Dolpa",
            "Doti",
            "Gulmi",
            "Ilam",
            "Jhapa",
            "Jumla",
            "Kailali",
            "Kanchanpur",
            "Kaski",
            "Kathmandu",
            "Lalitpur",
            "Lamjung",
            "Mahottari",
            "Makwanpur",
            "Morang",
            "Mustang",
            "Myagdi",
            "Nawalparasi",
            "Nuwakot",
            "Okhaldhunga",
            "Palpa",
            "Panchther",
            "Parbat",
            "Routahat",
            "Rukum",
            "Rupandehi",
            "Salyan",
            "Sankhuwasabha",
            "Saptari",
            "Sarlahi",
            "Sindhuli",
            "Sunsari",
            "Surkhet",
            "Syangja",
            "Tanahun",
            "Taplejung",
            "Terhathum",
            "Udayapur"
           ],
           "xaxis": "x",
           "y": {
            "bdata": "AwIBAgICAQICAQEBAQEBAgIBAQIBAQEBAQEBAQECAgEBAgECAgICAgEBAQEBAgIBAQEB",
            "dtype": "i1"
           },
           "yaxis": "y"
          },
          {
           "hovertemplate": "Event Type=Coldwave<br>Year=2007.0<br>District=%{x}<br>Number of Events=%{y}<extra></extra>",
           "legendgroup": "Coldwave",
           "marker": {
            "color": "#00cc96",
            "pattern": {
             "shape": ""
            }
           },
           "name": "Coldwave",
           "orientation": "v",
           "showlegend": true,
           "textposition": "auto",
           "type": "bar",
           "x": [
            "Baitadi",
            "Bajang",
            "Bhaktapur",
            "Darchula",
            "Dolkha",
            "Dolpa",
            "Gorkha",
            "Humla",
            "Jumla",
            "Kabhre",
            "Kaski",
            "Lamjung",
            "Manang",
            "Mugu",
            "Mustang",
            "Rasuwa",
            "Rukum",
            "Solukhumbu",
            "Tanahun"
           ],
           "xaxis": "x",
           "y": {
            "bdata": "BAUBBAQIAwoEAQEBCAgHBQQKAQ==",
            "dtype": "i1"
           },
           "yaxis": "y"
          }
         ],
         "name": "2007.0"
        },
        {
         "data": [
          {
           "hovertemplate": "Event Type=Heatwave<br>Year=2008.0<br>District=%{x}<br>Number of Events=%{y}<extra></extra>",
           "legendgroup": "Heatwave",
           "marker": {
            "color": "#636efa",
            "pattern": {
             "shape": ""
            }
           },
           "name": "Heatwave",
           "orientation": "v",
           "showlegend": true,
           "textposition": "auto",
           "type": "bar",
           "x": [
            "Routahat"
           ],
           "xaxis": "x",
           "y": {
            "bdata": "AQ==",
            "dtype": "i1"
           },
           "yaxis": "y"
          },
          {
           "hovertemplate": "Event Type=Heavy Rain<br>Year=2008.0<br>District=%{x}<br>Number of Events=%{y}<extra></extra>",
           "legendgroup": "Heavy Rain",
           "marker": {
            "color": "#EF553B",
            "pattern": {
             "shape": ""
            }
           },
           "name": "Heavy Rain",
           "orientation": "v",
           "showlegend": true,
           "textposition": "auto",
           "type": "bar",
           "x": [
            "Arghakhanchi",
            "Baglung",
            "Banke",
            "Bardiya",
            "Chitawan",
            "Dadeldhura",
            "Dailekh",
            "Dang",
            "Dhading",
            "Dhanusa",
            "Dolpa",
            "Doti",
            "Gulmi",
            "Ilam",
            "Jhapa",
            "Jumla",
            "Kailali",
            "Kanchanpur",
            "Kaski",
            "Kathmandu",
            "Lalitpur",
            "Lamjung",
            "Mahottari",
            "Makwanpur",
            "Morang",
            "Mustang",
            "Myagdi",
            "Nawalparasi",
            "Nuwakot",
            "Palpa",
            "Panchther",
            "Parbat",
            "Routahat",
            "Rukum",
            "Rupandehi",
            "Salyan",
            "Saptari",
            "Sarlahi",
            "Sindhuli",
            "Sunsari",
            "Surkhet",
            "Syangja",
            "Tanahun",
            "Taplejung",
            "Terhathum",
            "Udayapur"
           ],
           "xaxis": "x",
           "y": {
            "bdata": "AwMDAwMCAgMCAwICAwICAgMDAwICAwMDAQMDAwIDAQMDAwMDAQMDAQIDAwEBAQ==",
            "dtype": "i1"
           },
           "yaxis": "y"
          },
          {
           "hovertemplate": "Event Type=Coldwave<br>Year=2008.0<br>District=%{x}<br>Number of Events=%{y}<extra></extra>",
           "legendgroup": "Coldwave",
           "marker": {
            "color": "#00cc96",
            "pattern": {
             "shape": ""
            }
           },
           "name": "Coldwave",
           "orientation": "v",
           "showlegend": true,
           "textposition": "auto",
           "type": "bar",
           "x": [
            "Baitadi",
            "Bajang",
            "Darchula",
            "Dolkha",
            "Dolpa",
            "Gorkha",
            "Humla",
            "Jumla",
            "Manang",
            "Mugu",
            "Mustang",
            "Rasuwa",
            "Rukum",
            "Solukhumbu"
           ],
           "xaxis": "x",
           "y": {
            "bdata": "AgYCBAgCCQIICAcFAgk=",
            "dtype": "i1"
           },
           "yaxis": "y"
          }
         ],
         "name": "2008.0"
        },
        {
         "data": [
          {
           "hovertemplate": "Event Type=Heatwave<br>Year=2009.0<br>District=%{x}<br>Number of Events=%{y}<extra></extra>",
           "legendgroup": "Heatwave",
           "marker": {
            "color": "#636efa",
            "pattern": {
             "shape": ""
            }
           },
           "name": "Heatwave",
           "orientation": "v",
           "showlegend": true,
           "textposition": "auto",
           "type": "bar",
           "x": [
            "Banke",
            "Bardiya",
            "Dhanusa",
            "Kailali",
            "Mahottari",
            "Routahat"
           ],
           "xaxis": "x",
           "y": {
            "bdata": "AQECAQID",
            "dtype": "i1"
           },
           "yaxis": "y"
          },
          {
           "hovertemplate": "Event Type=Heavy Rain<br>Year=2009.0<br>District=%{x}<br>Number of Events=%{y}<extra></extra>",
           "legendgroup": "Heavy Rain",
           "marker": {
            "color": "#EF553B",
            "pattern": {
             "shape": ""
            }
           },
           "name": "Heavy Rain",
           "orientation": "v",
           "showlegend": true,
           "textposition": "auto",
           "type": "bar",
           "x": [
            "Arghakhanchi",
            "Baglung",
            "Banke",
            "Bardiya",
            "Chitawan",
            "Dadeldhura",
            "Dailekh",
            "Dang",
            "Dhading",
            "Dhanusa",
            "Gulmi",
            "Ilam",
            "Jhapa",
            "Kailali",
            "Kanchanpur",
            "Kathmandu",
            "Lalitpur",
            "Mahottari",
            "Makwanpur",
            "Morang",
            "Myagdi",
            "Nawalparasi",
            "Nuwakot",
            "Palpa",
            "Parbat",
            "Routahat",
            "Rukum",
            "Rupandehi",
            "Salyan",
            "Sarlahi",
            "Sindhuli",
            "Sunsari",
            "Surkhet",
            "Syangja"
           ],
           "xaxis": "x",
           "y": {
            "bdata": "AgEBAQEBAQEBAQICAgEBAQEBAQEBAgECAQEBAgEBAQEBAg==",
            "dtype": "i1"
           },
           "yaxis": "y"
          },
          {
           "hovertemplate": "Event Type=Coldwave<br>Year=2009.0<br>District=%{x}<br>Number of Events=%{y}<extra></extra>",
           "legendgroup": "Coldwave",
           "marker": {
            "color": "#00cc96",
            "pattern": {
             "shape": ""
            }
           },
           "name": "Coldwave",
           "orientation": "v",
           "showlegend": true,
           "textposition": "auto",
           "type": "bar",
           "x": [
            "Baitadi",
            "Bajang",
            "Darchula",
            "Dolkha",
            "Dolpa",
            "Gorkha",
            "Humla",
            "Jumla",
            "Manang",
            "Mugu",
            "Mustang",
            "Rasuwa",
            "Rukum",
            "Solukhumbu"
           ],
           "xaxis": "x",
           "y": {
            "bdata": "AwUDBAgBCgIICAgFAQo=",
            "dtype": "i1"
           },
           "yaxis": "y"
          }
         ],
         "name": "2009.0"
        },
        {
         "data": [
          {
           "hovertemplate": "Event Type=Heatwave<br>Year=2010.0<br>District=%{x}<br>Number of Events=%{y}<extra></extra>",
           "legendgroup": "Heatwave",
           "marker": {
            "color": "#636efa",
            "pattern": {
             "shape": ""
            }
           },
           "name": "Heatwave",
           "orientation": "v",
           "showlegend": true,
           "textposition": "auto",
           "type": "bar",
           "x": [
            "Banke",
            "Bardiya",
            "Dhanusa",
            "Kailali",
            "Mahottari",
            "Routahat"
           ],
           "xaxis": "x",
           "y": {
            "bdata": "AQMDAwMD",
            "dtype": "i1"
           },
           "yaxis": "y"
          },
          {
           "hovertemplate": "Event Type=Heavy Rain<br>Year=2010.0<br>District=%{x}<br>Number of Events=%{y}<extra></extra>",
           "legendgroup": "Heavy Rain",
           "marker": {
            "color": "#EF553B",
            "pattern": {
             "shape": ""
            }
           },
           "name": "Heavy Rain",
           "orientation": "v",
           "showlegend": true,
           "textposition": "auto",
           "type": "bar",
           "x": [
            "Arghakhanchi",
            "Baglung",
            "Baitadi",
            "Banke",
            "Bardiya",
            "Bhaktapur",
            "Chitawan",
            "Dadeldhura",
            "Dailekh",
            "Dang",
            "Darchula",
            "Dhading",
            "Dhankuta",
            "Dhanusa",
            "Doti",
            "Gorkha",
            "Gulmi",
            "Ilam",
            "Jhapa",
            "Jumla",
            "Kabhre",
            "Kailali",
            "Kanchanpur",
            "Kaski",
            "Kathmandu",
            "Lalitpur",
            "Lamjung",
            "Mahottari",
            "Makwanpur",
            "Morang",
            "Myagdi",
            "Nawalparasi",
            "Nuwakot",
            "Palpa",
            "Panchther",
            "Parbat",
            "Routahat",
            "Rukum",
            "Rupandehi",
            "Salyan",
            "Sankhuwasabha",
            "Saptari",
            "Sarlahi",
            "Sindhuli",
            "Sunsari",
            "Surkhet",
            "Syangja",
            "Tanahun",
            "Taplejung",
            "Terhathum",
            "Udayapur"
           ],
           "xaxis": "x",
           "y": {
            "bdata": "AwEBAgIBAQICAwEBAQECAQMDAwEBAwMBAQEBAQECAQMBAwIBAQIDAwEBAQECAgIBAgIB",
            "dtype": "i1"
           },
           "yaxis": "y"
          },
          {
           "hovertemplate": "Event Type=Coldwave<br>Year=2010.0<br>District=%{x}<br>Number of Events=%{y}<extra></extra>",
           "legendgroup": "Coldwave",
           "marker": {
            "color": "#00cc96",
            "pattern": {
             "shape": ""
            }
           },
           "name": "Coldwave",
           "orientation": "v",
           "showlegend": true,
           "textposition": "auto",
           "type": "bar",
           "x": [
            "Baitadi",
            "Bajang",
            "Darchula",
            "Dolkha",
            "Dolpa",
            "Gorkha",
            "Humla",
            "Jumla",
            "Manang",
            "Mugu",
            "Mustang",
            "Rasuwa",
            "Rukum",
            "Solukhumbu"
           ],
           "xaxis": "x",
           "y": {
            "bdata": "AwUDAwgDCgMICAcEAwo=",
            "dtype": "i1"
           },
           "yaxis": "y"
          }
         ],
         "name": "2010.0"
        },
        {
         "data": [
          {
           "hovertemplate": "Event Type=Heatwave<br>Year=2011.0<br>District=%{x}<br>Number of Events=%{y}<extra></extra>",
           "legendgroup": "Heatwave",
           "marker": {
            "color": "#636efa",
            "pattern": {
             "shape": ""
            }
           },
           "name": "Heatwave",
           "orientation": "v",
           "showlegend": true,
           "textposition": "auto",
           "type": "bar",
           "x": [
            "Bardiya",
            "Routahat"
           ],
           "xaxis": "x",
           "y": {
            "bdata": "AQE=",
            "dtype": "i1"
           },
           "yaxis": "y"
          },
          {
           "hovertemplate": "Event Type=Heavy Rain<br>Year=2011.0<br>District=%{x}<br>Number of Events=%{y}<extra></extra>",
           "legendgroup": "Heavy Rain",
           "marker": {
            "color": "#EF553B",
            "pattern": {
             "shape": ""
            }
           },
           "name": "Heavy Rain",
           "orientation": "v",
           "showlegend": true,
           "textposition": "auto",
           "type": "bar",
           "x": [
            "Arghakhanchi",
            "Baglung",
            "Banke",
            "Bardiya",
            "Chitawan",
            "Dadeldhura",
            "Dailekh",
            "Dang",
            "Dhankuta",
            "Dhanusa",
            "Doti",
            "Gulmi",
            "Ilam",
            "Jhapa",
            "Jumla",
            "Kailali",
            "Kanchanpur",
            "Kaski",
            "Lamjung",
            "Mahottari",
            "Makwanpur",
            "Morang",
            "Mustang",
            "Myagdi",
            "Nawalparasi",
            "Palpa",
            "Panchther",
            "Parbat",
            "Routahat",
            "Rukum",
            "Rupandehi",
            "Salyan",
            "Sankhuwasabha",
            "Saptari",
            "Sunsari",
            "Surkhet",
            "Syangja",
            "Tanahun",
            "Taplejung",
            "Terhathum",
            "Udayapur"
           ],
           "xaxis": "x",
           "y": {
            "bdata": "AgIDAwIDAwMBAQICBAMCAwMCAQEBAwECAgICAgIDAgMBAQMDAgECAgE=",
            "dtype": "i1"
           },
           "yaxis": "y"
          },
          {
           "hovertemplate": "Event Type=Coldwave<br>Year=2011.0<br>District=%{x}<br>Number of Events=%{y}<extra></extra>",
           "legendgroup": "Coldwave",
           "marker": {
            "color": "#00cc96",
            "pattern": {
             "shape": ""
            }
           },
           "name": "Coldwave",
           "orientation": "v",
           "showlegend": true,
           "textposition": "auto",
           "type": "bar",
           "x": [
            "Baitadi",
            "Bajang",
            "Bhaktapur",
            "Darchula",
            "Dolkha",
            "Dolpa",
            "Gorkha",
            "Humla",
            "Jumla",
            "Kabhre",
            "Kaski",
            "Lamjung",
            "Manang",
            "Mugu",
            "Mustang",
            "Rasuwa",
            "Rukum",
            "Solukhumbu",
            "Tanahun"
           ],
           "xaxis": "x",
           "y": {
            "bdata": "AwYBAwQIAgkDAQEBCAgHBQIKAQ==",
            "dtype": "i1"
           },
           "yaxis": "y"
          }
         ],
         "name": "2011.0"
        },
        {
         "data": [
          {
           "hovertemplate": "Event Type=Heatwave<br>Year=2013.0<br>District=%{x}<br>Number of Events=%{y}<extra></extra>",
           "legendgroup": "Heatwave",
           "marker": {
            "color": "#636efa",
            "pattern": {
             "shape": ""
            }
           },
           "name": "Heatwave",
           "orientation": "v",
           "showlegend": true,
           "textposition": "auto",
           "type": "bar",
           "x": [
            "Bardiya",
            "Kailali",
            "Routahat"
           ],
           "xaxis": "x",
           "y": {
            "bdata": "AQEB",
            "dtype": "i1"
           },
           "yaxis": "y"
          },
          {
           "hovertemplate": "Event Type=Heavy Rain<br>Year=2013.0<br>District=%{x}<br>Number of Events=%{y}<extra></extra>",
           "legendgroup": "Heavy Rain",
           "marker": {
            "color": "#EF553B",
            "pattern": {
             "shape": ""
            }
           },
           "name": "Heavy Rain",
           "orientation": "v",
           "showlegend": true,
           "textposition": "auto",
           "type": "bar",
           "x": [
            "Arghakhanchi",
            "Baglung",
            "Baitadi",
            "Banke",
            "Bardiya",
            "Bhaktapur",
            "Chitawan",
            "Dadeldhura",
            "Dailekh",
            "Dang",
            "Darchula",
            "Dhading",
            "Dolpa",
            "Doti",
            "Gorkha",
            "Gulmi",
            "Ilam",
            "Jhapa",
            "Jumla",
            "Kabhre",
            "Kailali",
            "Kanchanpur",
            "Kaski",
            "Kathmandu",
            "Lalitpur",
            "Lamjung",
            "Makwanpur",
            "Morang",
            "Mustang",
            "Myagdi",
            "Nawalparasi",
            "Nuwakot",
            "Palpa",
            "Panchther",
            "Parbat",
            "Routahat",
            "Rukum",
            "Rupandehi",
            "Salyan",
            "Sarlahi",
            "Sindhuli",
            "Sunsari",
            "Surkhet",
            "Syangja",
            "Tanahun",
            "Taplejung",
            "Terhathum"
           ],
           "xaxis": "x",
           "y": {
            "bdata": "AwMBAwMBAwICAwECAgICAwMCAgEDAwMCAgMCAgIDAwIDAgMBAwMDAQECAgMDAgI=",
            "dtype": "i1"
           },
           "yaxis": "y"
          },
          {
           "hovertemplate": "Event Type=Coldwave<br>Year=2013.0<br>District=%{x}<br>Number of Events=%{y}<extra></extra>",
           "legendgroup": "Coldwave",
           "marker": {
            "color": "#00cc96",
            "pattern": {
             "shape": ""
            }
           },
           "name": "Coldwave",
           "orientation": "v",
           "showlegend": true,
           "textposition": "auto",
           "type": "bar",
           "x": [
            "Baitadi",
            "Bajang",
            "Bhaktapur",
            "Darchula",
            "Dolkha",
            "Dolpa",
            "Gorkha",
            "Humla",
            "Jumla",
            "Kabhre",
            "Kaski",
            "Lamjung",
            "Manang",
            "Mugu",
            "Mustang",
            "Rasuwa",
            "Rukum",
            "Solukhumbu",
            "Tanahun"
           ],
           "xaxis": "x",
           "y": {
            "bdata": "AwUBAwQIAwkDAQEBCAgIBQIJAQ==",
            "dtype": "i1"
           },
           "yaxis": "y"
          }
         ],
         "name": "2013.0"
        },
        {
         "data": [
          {
           "hovertemplate": "Event Type=Heatwave<br>Year=2014.0<br>District=%{x}<br>Number of Events=%{y}<extra></extra>",
           "legendgroup": "Heatwave",
           "marker": {
            "color": "#636efa",
            "pattern": {
             "shape": ""
            }
           },
           "name": "Heatwave",
           "orientation": "v",
           "showlegend": true,
           "textposition": "auto",
           "type": "bar",
           "x": [
            "Banke",
            "Bardiya",
            "Dhanusa",
            "Kailali",
            "Mahottari",
            "Routahat"
           ],
           "xaxis": "x",
           "y": {
            "bdata": "AQIDAQMD",
            "dtype": "i1"
           },
           "yaxis": "y"
          },
          {
           "hovertemplate": "Event Type=Heavy Rain<br>Year=2014.0<br>District=%{x}<br>Number of Events=%{y}<extra></extra>",
           "legendgroup": "Heavy Rain",
           "marker": {
            "color": "#EF553B",
            "pattern": {
             "shape": ""
            }
           },
           "name": "Heavy Rain",
           "orientation": "v",
           "showlegend": true,
           "textposition": "auto",
           "type": "bar",
           "x": [
            "Arghakhanchi",
            "Baglung",
            "Baitadi",
            "Banke",
            "Bardiya",
            "Chitawan",
            "Dadeldhura",
            "Dailekh",
            "Dang",
            "Darchula",
            "Dhading",
            "Dhanusa",
            "Doti",
            "Gorkha",
            "Gulmi",
            "Ilam",
            "Jhapa",
            "Jumla",
            "Kailali",
            "Kanchanpur",
            "Kaski",
            "Kathmandu",
            "Lalitpur",
            "Lamjung",
            "Mahottari",
            "Makwanpur",
            "Manang",
            "Mustang",
            "Myagdi",
            "Nawalparasi",
            "Nuwakot",
            "Palpa",
            "Parbat",
            "Routahat",
            "Rukum",
            "Rupandehi",
            "Salyan",
            "Sarlahi",
            "Sindhuli",
            "Surkhet",
            "Syangja",
            "Tanahun"
           ],
           "xaxis": "x",
           "y": {
            "bdata": "AwMBAgEDAQECAQIBAQIDAgEBAQEDAgIDAQICAwMDAgMDAQIDAgEBAQMD",
            "dtype": "i1"
           },
           "yaxis": "y"
          },
          {
           "hovertemplate": "Event Type=Coldwave<br>Year=2014.0<br>District=%{x}<br>Number of Events=%{y}<extra></extra>",
           "legendgroup": "Coldwave",
           "marker": {
            "color": "#00cc96",
            "pattern": {
             "shape": ""
            }
           },
           "name": "Coldwave",
           "orientation": "v",
           "showlegend": true,
           "textposition": "auto",
           "type": "bar",
           "x": [
            "Baitadi",
            "Bajang",
            "Darchula",
            "Dolkha",
            "Dolpa",
            "Gorkha",
            "Humla",
            "Jumla",
            "Manang",
            "Mugu",
            "Mustang",
            "Rasuwa",
            "Rukum",
            "Solukhumbu"
           ],
           "xaxis": "x",
           "y": {
            "bdata": "BAUEBAgDCgMICAcFAwo=",
            "dtype": "i1"
           },
           "yaxis": "y"
          }
         ],
         "name": "2014.0"
        },
        {
         "data": [
          {
           "hovertemplate": "Event Type=Heatwave<br>Year=2015.0<br>District=%{x}<br>Number of Events=%{y}<extra></extra>",
           "legendgroup": "Heatwave",
           "marker": {
            "color": "#636efa",
            "pattern": {
             "shape": ""
            }
           },
           "name": "Heatwave",
           "orientation": "v",
           "showlegend": true,
           "textposition": "auto",
           "type": "bar",
           "x": [
            "Bardiya",
            "Dhanusa",
            "Kailali",
            "Mahottari",
            "Routahat"
           ],
           "xaxis": "x",
           "y": {
            "bdata": "AgIBAgI=",
            "dtype": "i1"
           },
           "yaxis": "y"
          },
          {
           "hovertemplate": "Event Type=Heavy Rain<br>Year=2015.0<br>District=%{x}<br>Number of Events=%{y}<extra></extra>",
           "legendgroup": "Heavy Rain",
           "marker": {
            "color": "#EF553B",
            "pattern": {
             "shape": ""
            }
           },
           "name": "Heavy Rain",
           "orientation": "v",
           "showlegend": true,
           "textposition": "auto",
           "type": "bar",
           "x": [
            "Arghakhanchi",
            "Baglung",
            "Banke",
            "Bhaktapur",
            "Chitawan",
            "Dang",
            "Dhading",
            "Dhankuta",
            "Dhanusa",
            "Gorkha",
            "Gulmi",
            "Ilam",
            "Jhapa",
            "Kabhre",
            "Kaski",
            "Kathmandu",
            "Lalitpur",
            "Lamjung",
            "Mahottari",
            "Makwanpur",
            "Manang",
            "Morang",
            "Mustang",
            "Myagdi",
            "Nawalparasi",
            "Nuwakot",
            "Okhaldhunga",
            "Palpa",
            "Panchther",
            "Parbat",
            "Rasuwa",
            "Routahat",
            "Rupandehi",
            "Salyan",
            "Sankhuwasabha",
            "Saptari",
            "Sarlahi",
            "Sindhuli",
            "Sunsari",
            "Syangja",
            "Tanahun",
            "Taplejung",
            "Terhathum",
            "Udayapur"
           ],
           "xaxis": "x",
           "y": {
            "bdata": "AgMCAQICAgEBAgMBAQEDAgICAQICAQIDAgIBAgEDAQICAQEBAQEBAwIBAQE=",
            "dtype": "i1"
           },
           "yaxis": "y"
          },
          {
           "hovertemplate": "Event Type=Coldwave<br>Year=2015.0<br>District=%{x}<br>Number of Events=%{y}<extra></extra>",
           "legendgroup": "Coldwave",
           "marker": {
            "color": "#00cc96",
            "pattern": {
             "shape": ""
            }
           },
           "name": "Coldwave",
           "orientation": "v",
           "showlegend": true,
           "textposition": "auto",
           "type": "bar",
           "x": [
            "Baitadi",
            "Bajang",
            "Darchula",
            "Dolkha",
            "Dolpa",
            "Gorkha",
            "Humla",
            "Jumla",
            "Kaski",
            "Lamjung",
            "Manang",
            "Mugu",
            "Mustang",
            "Rasuwa",
            "Rukum",
            "Solukhumbu",
            "Tanahun"
           ],
           "xaxis": "x",
           "y": {
            "bdata": "BAUEBAgDCgMBAQgICAUDCgE=",
            "dtype": "i1"
           },
           "yaxis": "y"
          }
         ],
         "name": "2015.0"
        },
        {
         "data": [
          {
           "hovertemplate": "Event Type=Heatwave<br>Year=2016.0<br>District=%{x}<br>Number of Events=%{y}<extra></extra>",
           "legendgroup": "Heatwave",
           "marker": {
            "color": "#636efa",
            "pattern": {
             "shape": ""
            }
           },
           "name": "Heatwave",
           "orientation": "v",
           "showlegend": true,
           "textposition": "auto",
           "type": "bar",
           "x": [
            "Bardiya",
            "Dhanusa",
            "Mahottari",
            "Routahat",
            "Sarlahi"
           ],
           "xaxis": "x",
           "y": {
            "bdata": "AQICAgE=",
            "dtype": "i1"
           },
           "yaxis": "y"
          },
          {
           "hovertemplate": "Event Type=Heavy Rain<br>Year=2016.0<br>District=%{x}<br>Number of Events=%{y}<extra></extra>",
           "legendgroup": "Heavy Rain",
           "marker": {
            "color": "#EF553B",
            "pattern": {
             "shape": ""
            }
           },
           "name": "Heavy Rain",
           "orientation": "v",
           "showlegend": true,
           "textposition": "auto",
           "type": "bar",
           "x": [
            "Arghakhanchi",
            "Baglung",
            "Banke",
            "Bardiya",
            "Bhaktapur",
            "Chitawan",
            "Dadeldhura",
            "Dailekh",
            "Dang",
            "Dhading",
            "Dhankuta",
            "Dhanusa",
            "Dolpa",
            "Doti",
            "Gorkha",
            "Gulmi",
            "Ilam",
            "Jhapa",
            "Jumla",
            "Kabhre",
            "Kailali",
            "Kanchanpur",
            "Kaski",
            "Kathmandu",
            "Lalitpur",
            "Lamjung",
            "Mahottari",
            "Makwanpur",
            "Manang",
            "Morang",
            "Mustang",
            "Myagdi",
            "Nawalparasi",
            "Nuwakot",
            "Okhaldhunga",
            "Palpa",
            "Panchther",
            "Parbat",
            "Rasuwa",
            "Routahat",
            "Rukum",
            "Rupandehi",
            "Salyan",
            "Sankhuwasabha",
            "Saptari",
            "Sarlahi",
            "Sindhuli",
            "Sunsari",
            "Surkhet",
            "Syangja",
            "Tanahun",
            "Taplejung",
            "Terhathum",
            "Udayapur"
           ],
           "xaxis": "x",
           "y": {
            "bdata": "AQMBAQEDAQEBAQECAQECAQMCAQEBAQMBAQMCAQICAgMDAQIDAgMBAQECAQECAgICAQMDAgIC",
            "dtype": "i1"
           },
           "yaxis": "y"
          },
          {
           "hovertemplate": "Event Type=Coldwave<br>Year=2016.0<br>District=%{x}<br>Number of Events=%{y}<extra></extra>",
           "legendgroup": "Coldwave",
           "marker": {
            "color": "#00cc96",
            "pattern": {
             "shape": ""
            }
           },
           "name": "Coldwave",
           "orientation": "v",
           "showlegend": true,
           "textposition": "auto",
           "type": "bar",
           "x": [
            "Baitadi",
            "Bajang",
            "Darchula",
            "Dolkha",
            "Dolpa",
            "Gorkha",
            "Humla",
            "Jumla",
            "Manang",
            "Mugu",
            "Mustang",
            "Rasuwa",
            "Rukum",
            "Solukhumbu"
           ],
           "xaxis": "x",
           "y": {
            "bdata": "AgUCAggBCQIICAcFAQk=",
            "dtype": "i1"
           },
           "yaxis": "y"
          }
         ],
         "name": "2016.0"
        },
        {
         "data": [
          {
           "hovertemplate": "Event Type=Heatwave<br>Year=2017.0<br>District=%{x}<br>Number of Events=%{y}<extra></extra>",
           "legendgroup": "Heatwave",
           "marker": {
            "color": "#636efa",
            "pattern": {
             "shape": ""
            }
           },
           "name": "Heatwave",
           "orientation": "v",
           "showlegend": true,
           "textposition": "auto",
           "type": "bar",
           "x": [
            "Bardiya",
            "Dhanusa",
            "Mahottari",
            "Routahat"
           ],
           "xaxis": "x",
           "y": {
            "bdata": "AgEBAw==",
            "dtype": "i1"
           },
           "yaxis": "y"
          },
          {
           "hovertemplate": "Event Type=Heavy Rain<br>Year=2017.0<br>District=%{x}<br>Number of Events=%{y}<extra></extra>",
           "legendgroup": "Heavy Rain",
           "marker": {
            "color": "#EF553B",
            "pattern": {
             "shape": ""
            }
           },
           "name": "Heavy Rain",
           "orientation": "v",
           "showlegend": true,
           "textposition": "auto",
           "type": "bar",
           "x": [
            "Arghakhanchi",
            "Baglung",
            "Banke",
            "Bardiya",
            "Chitawan",
            "Dadeldhura",
            "Dailekh",
            "Dang",
            "Dhading",
            "Dhankuta",
            "Dhanusa",
            "Dolpa",
            "Doti",
            "Gorkha",
            "Gulmi",
            "Ilam",
            "Jhapa",
            "Jumla",
            "Kailali",
            "Kanchanpur",
            "Kaski",
            "Kathmandu",
            "Lalitpur",
            "Lamjung",
            "Mahottari",
            "Makwanpur",
            "Manang",
            "Morang",
            "Mustang",
            "Myagdi",
            "Nawalparasi",
            "Nuwakot",
            "Okhaldhunga",
            "Palpa",
            "Panchther",
            "Parbat",
            "Routahat",
            "Rukum",
            "Rupandehi",
            "Salyan",
            "Sankhuwasabha",
            "Saptari",
            "Sarlahi",
            "Sindhuli",
            "Sunsari",
            "Surkhet",
            "Syangja",
            "Tanahun",
            "Taplejung",
            "Terhathum",
            "Udayapur"
           ],
           "xaxis": "x",
           "y": {
            "bdata": "AgMCAgMBAgIBAQEBAQECAgIBAQEDAQEDAQEBAQMDAwEBAwEDAQICAgEBAQEBAgMDAQEB",
            "dtype": "i1"
           },
           "yaxis": "y"
          },
          {
           "hovertemplate": "Event Type=Coldwave<br>Year=2017.0<br>District=%{x}<br>Number of Events=%{y}<extra></extra>",
           "legendgroup": "Coldwave",
           "marker": {
            "color": "#00cc96",
            "pattern": {
             "shape": ""
            }
           },
           "name": "Coldwave",
           "orientation": "v",
           "showlegend": true,
           "textposition": "auto",
           "type": "bar",
           "x": [
            "Baitadi",
            "Bajang",
            "Darchula",
            "Dolkha",
            "Dolpa",
            "Gorkha",
            "Humla",
            "Jumla",
            "Manang",
            "Mugu",
            "Mustang",
            "Rasuwa",
            "Rukum",
            "Solukhumbu"
           ],
           "xaxis": "x",
           "y": {
            "bdata": "AwUDBAgBCgEICAcFAQo=",
            "dtype": "i1"
           },
           "yaxis": "y"
          }
         ],
         "name": "2017.0"
        },
        {
         "data": [
          {
           "hovertemplate": "Event Type=Heatwave<br>Year=1985.0<br>District=%{x}<br>Number of Events=%{y}<extra></extra>",
           "legendgroup": "Heatwave",
           "marker": {
            "color": "#636efa",
            "pattern": {
             "shape": ""
            }
           },
           "name": "Heatwave",
           "orientation": "v",
           "showlegend": true,
           "textposition": "auto",
           "type": "bar",
           "x": [
            "Bardiya",
            "Dhanusa",
            "Kailali",
            "Mahottari",
            "Routahat"
           ],
           "xaxis": "x",
           "y": {
            "bdata": "AgMBAwM=",
            "dtype": "i1"
           },
           "yaxis": "y"
          },
          {
           "hovertemplate": "Event Type=Heavy Rain<br>Year=1985.0<br>District=%{x}<br>Number of Events=%{y}<extra></extra>",
           "legendgroup": "Heavy Rain",
           "marker": {
            "color": "#EF553B",
            "pattern": {
             "shape": ""
            }
           },
           "name": "Heavy Rain",
           "orientation": "v",
           "showlegend": true,
           "textposition": "auto",
           "type": "bar",
           "x": [
            "Chitawan",
            "Dhading",
            "Dhankuta",
            "Dhanusa",
            "Ilam",
            "Jhapa",
            "Kathmandu",
            "Lalitpur",
            "Mahottari",
            "Makwanpur",
            "Morang",
            "Nawalparasi",
            "Nuwakot",
            "Palpa",
            "Panchther",
            "Routahat",
            "Sankhuwasabha",
            "Saptari",
            "Sarlahi",
            "Sindhuli",
            "Sunsari",
            "Taplejung",
            "Terhathum",
            "Udayapur"
           ],
           "xaxis": "x",
           "y": {
            "bdata": "AQEBAQEBAQEBAQEBAQEBAQEBAQEBAQEB",
            "dtype": "i1"
           },
           "yaxis": "y"
          },
          {
           "hovertemplate": "Event Type=Coldwave<br>Year=1985.0<br>District=%{x}<br>Number of Events=%{y}<extra></extra>",
           "legendgroup": "Coldwave",
           "marker": {
            "color": "#00cc96",
            "pattern": {
             "shape": ""
            }
           },
           "name": "Coldwave",
           "orientation": "v",
           "showlegend": true,
           "textposition": "auto",
           "type": "bar",
           "x": [
            "Baglung",
            "Baitadi",
            "Bajang",
            "Bhaktapur",
            "Darchula",
            "Dolkha",
            "Dolpa",
            "Gorkha",
            "Humla",
            "Jumla",
            "Kabhre",
            "Kaski",
            "Lamjung",
            "Manang",
            "Mugu",
            "Mustang",
            "Myagdi",
            "Parbat",
            "Rasuwa",
            "Rukum",
            "Solukhumbu",
            "Tanahun"
           ],
           "xaxis": "x",
           "y": {
            "bdata": "AQMFAQMECAIKAwEBAQgICAEBBQIKAQ==",
            "dtype": "i1"
           },
           "yaxis": "y"
          }
         ],
         "name": "1985.0"
        },
        {
         "data": [
          {
           "hovertemplate": "Event Type=Heatwave<br>Year=1983.0<br>District=%{x}<br>Number of Events=%{y}<extra></extra>",
           "legendgroup": "Heatwave",
           "marker": {
            "color": "#636efa",
            "pattern": {
             "shape": ""
            }
           },
           "name": "Heatwave",
           "orientation": "v",
           "showlegend": true,
           "textposition": "auto",
           "type": "bar",
           "x": [
            "Bardiya",
            "Dhanusa",
            "Kailali",
            "Mahottari",
            "Routahat",
            "Sarlahi"
           ],
           "xaxis": "x",
           "y": {
            "bdata": "AgIBAgIB",
            "dtype": "i1"
           },
           "yaxis": "y"
          },
          {
           "hovertemplate": "Event Type=Heavy Rain<br>Year=1983.0<br>District=%{x}<br>Number of Events=%{y}<extra></extra>",
           "legendgroup": "Heavy Rain",
           "marker": {
            "color": "#EF553B",
            "pattern": {
             "shape": ""
            }
           },
           "name": "Heavy Rain",
           "orientation": "v",
           "showlegend": true,
           "textposition": "auto",
           "type": "bar",
           "x": [
            "Banke",
            "Bardiya",
            "Dadeldhura",
            "Dailekh",
            "Dang",
            "Dhankuta",
            "Doti",
            "Ilam",
            "Jhapa",
            "Kailali",
            "Kanchanpur",
            "Morang",
            "Panchther",
            "Rukum",
            "Salyan",
            "Sankhuwasabha",
            "Saptari",
            "Sunsari",
            "Surkhet",
            "Taplejung",
            "Terhathum",
            "Udayapur"
           ],
           "xaxis": "x",
           "y": {
            "bdata": "AQEBAQEBAQEBAQEBAQEBAQEBAQEBAQ==",
            "dtype": "i1"
           },
           "yaxis": "y"
          },
          {
           "hovertemplate": "Event Type=Coldwave<br>Year=1983.0<br>District=%{x}<br>Number of Events=%{y}<extra></extra>",
           "legendgroup": "Coldwave",
           "marker": {
            "color": "#00cc96",
            "pattern": {
             "shape": ""
            }
           },
           "name": "Coldwave",
           "orientation": "v",
           "showlegend": true,
           "textposition": "auto",
           "type": "bar",
           "x": [
            "Baitadi",
            "Bajang",
            "Bhaktapur",
            "Darchula",
            "Dolkha",
            "Dolpa",
            "Gorkha",
            "Humla",
            "Jumla",
            "Kabhre",
            "Kaski",
            "Lamjung",
            "Manang",
            "Mugu",
            "Mustang",
            "Rasuwa",
            "Rukum",
            "Solukhumbu",
            "Tanahun"
           ],
           "xaxis": "x",
           "y": {
            "bdata": "BAYCBAUJAwoDAgECCAkIBgMKAg==",
            "dtype": "i1"
           },
           "yaxis": "y"
          }
         ],
         "name": "1983.0"
        },
        {
         "data": [
          {
           "hovertemplate": "Event Type=Heatwave<br>Year=1986.0<br>District=%{x}<br>Number of Events=%{y}<extra></extra>",
           "legendgroup": "Heatwave",
           "marker": {
            "color": "#636efa",
            "pattern": {
             "shape": ""
            }
           },
           "name": "Heatwave",
           "orientation": "v",
           "showlegend": true,
           "textposition": "auto",
           "type": "bar",
           "x": [
            "Bardiya",
            "Dhanusa",
            "Mahottari",
            "Routahat"
           ],
           "xaxis": "x",
           "y": {
            "bdata": "AgICAw==",
            "dtype": "i1"
           },
           "yaxis": "y"
          },
          {
           "hovertemplate": "Event Type=Heavy Rain<br>Year=1986.0<br>District=%{x}<br>Number of Events=%{y}<extra></extra>",
           "legendgroup": "Heavy Rain",
           "marker": {
            "color": "#EF553B",
            "pattern": {
             "shape": ""
            }
           },
           "name": "Heavy Rain",
           "orientation": "v",
           "showlegend": true,
           "textposition": "auto",
           "type": "bar",
           "x": [
            "Banke",
            "Bardiya",
            "Dadeldhura",
            "Dailekh",
            "Dang",
            "Dhanusa",
            "Doti",
            "Ilam",
            "Jhapa",
            "Kailali",
            "Kanchanpur",
            "Mahottari",
            "Makwanpur",
            "Routahat",
            "Salyan",
            "Sarlahi",
            "Sindhuli",
            "Surkhet"
           ],
           "xaxis": "x",
           "y": {
            "bdata": "AQEBAQEBAQEBAQEBAQEBAQEB",
            "dtype": "i1"
           },
           "yaxis": "y"
          },
          {
           "hovertemplate": "Event Type=Coldwave<br>Year=1986.0<br>District=%{x}<br>Number of Events=%{y}<extra></extra>",
           "legendgroup": "Coldwave",
           "marker": {
            "color": "#00cc96",
            "pattern": {
             "shape": ""
            }
           },
           "name": "Coldwave",
           "orientation": "v",
           "showlegend": true,
           "textposition": "auto",
           "type": "bar",
           "x": [
            "Baitadi",
            "Bajang",
            "Darchula",
            "Dolkha",
            "Dolpa",
            "Gorkha",
            "Humla",
            "Jumla",
            "Manang",
            "Mugu",
            "Mustang",
            "Rasuwa",
            "Rukum",
            "Solukhumbu"
           ],
           "xaxis": "x",
           "y": {
            "bdata": "BAcEBAgDCgMICQgFAws=",
            "dtype": "i1"
           },
           "yaxis": "y"
          }
         ],
         "name": "1986.0"
        },
        {
         "data": [
          {
           "hovertemplate": "Event Type=Heatwave<br>Year=1989.0<br>District=%{x}<br>Number of Events=%{y}<extra></extra>",
           "legendgroup": "Heatwave",
           "marker": {
            "color": "#636efa",
            "pattern": {
             "shape": ""
            }
           },
           "name": "Heatwave",
           "orientation": "v",
           "showlegend": true,
           "textposition": "auto",
           "type": "bar",
           "x": [
            "Banke",
            "Bardiya",
            "Dhanusa",
            "Kailali",
            "Mahottari",
            "Routahat"
           ],
           "xaxis": "x",
           "y": {
            "bdata": "AQECAQID",
            "dtype": "i1"
           },
           "yaxis": "y"
          },
          {
           "hovertemplate": "Event Type=Heavy Rain<br>Year=1989.0<br>District=%{x}<br>Number of Events=%{y}<extra></extra>",
           "legendgroup": "Heavy Rain",
           "marker": {
            "color": "#EF553B",
            "pattern": {
             "shape": ""
            }
           },
           "name": "Heavy Rain",
           "orientation": "v",
           "showlegend": true,
           "textposition": "auto",
           "type": "bar",
           "x": [
            "Ilam",
            "Jhapa",
            "Morang",
            "Panchther",
            "Sunsari",
            "Taplejung",
            "Terhathum"
           ],
           "xaxis": "x",
           "y": {
            "bdata": "AQEBAQEBAQ==",
            "dtype": "i1"
           },
           "yaxis": "y"
          },
          {
           "hovertemplate": "Event Type=Coldwave<br>Year=1989.0<br>District=%{x}<br>Number of Events=%{y}<extra></extra>",
           "legendgroup": "Coldwave",
           "marker": {
            "color": "#00cc96",
            "pattern": {
             "shape": ""
            }
           },
           "name": "Coldwave",
           "orientation": "v",
           "showlegend": true,
           "textposition": "auto",
           "type": "bar",
           "x": [
            "Baitadi",
            "Bajang",
            "Bhaktapur",
            "Darchula",
            "Dolkha",
            "Dolpa",
            "Gorkha",
            "Humla",
            "Jumla",
            "Kabhre",
            "Kaski",
            "Lamjung",
            "Manang",
            "Mugu",
            "Mustang",
            "Rasuwa",
            "Rukum",
            "Solukhumbu",
            "Tanahun"
           ],
           "xaxis": "x",
           "y": {
            "bdata": "AwYBAwUIAwoDAQEBCAgHBgMKAQ==",
            "dtype": "i1"
           },
           "yaxis": "y"
          }
         ],
         "name": "1989.0"
        },
        {
         "data": [
          {
           "hovertemplate": "Event Type=Heatwave<br>Year=1992.0<br>District=%{x}<br>Number of Events=%{y}<extra></extra>",
           "legendgroup": "Heatwave",
           "marker": {
            "color": "#636efa",
            "pattern": {
             "shape": ""
            }
           },
           "name": "Heatwave",
           "orientation": "v",
           "showlegend": true,
           "textposition": "auto",
           "type": "bar",
           "x": [
            "Bardiya",
            "Dhanusa",
            "Kailali",
            "Mahottari",
            "Routahat"
           ],
           "xaxis": "x",
           "y": {
            "bdata": "AgMBAwM=",
            "dtype": "i1"
           },
           "yaxis": "y"
          },
          {
           "hovertemplate": "Event Type=Heavy Rain<br>Year=1992.0<br>District=%{x}<br>Number of Events=%{y}<extra></extra>",
           "legendgroup": "Heavy Rain",
           "marker": {
            "color": "#EF553B",
            "pattern": {
             "shape": ""
            }
           },
           "name": "Heavy Rain",
           "orientation": "v",
           "showlegend": true,
           "textposition": "auto",
           "type": "bar",
           "x": [
            "Ilam",
            "Jhapa",
            "Morang",
            "Panchther",
            "Sunsari",
            "Taplejung",
            "Terhathum"
           ],
           "xaxis": "x",
           "y": {
            "bdata": "AQEBAQEBAQ==",
            "dtype": "i1"
           },
           "yaxis": "y"
          },
          {
           "hovertemplate": "Event Type=Coldwave<br>Year=1992.0<br>District=%{x}<br>Number of Events=%{y}<extra></extra>",
           "legendgroup": "Coldwave",
           "marker": {
            "color": "#00cc96",
            "pattern": {
             "shape": ""
            }
           },
           "name": "Coldwave",
           "orientation": "v",
           "showlegend": true,
           "textposition": "auto",
           "type": "bar",
           "x": [
            "Baitadi",
            "Bajang",
            "Bhaktapur",
            "Darchula",
            "Dolkha",
            "Dolpa",
            "Gorkha",
            "Humla",
            "Jumla",
            "Kabhre",
            "Lamjung",
            "Manang",
            "Mugu",
            "Mustang",
            "Rasuwa",
            "Rukum",
            "Solukhumbu",
            "Tanahun"
           ],
           "xaxis": "x",
           "y": {
            "bdata": "AwUBAwQIAwoDAQEICAgFAwsB",
            "dtype": "i1"
           },
           "yaxis": "y"
          }
         ],
         "name": "1992.0"
        },
        {
         "data": [
          {
           "hovertemplate": "Event Type=Heatwave<br>Year=1993.0<br>District=%{x}<br>Number of Events=%{y}<extra></extra>",
           "legendgroup": "Heatwave",
           "marker": {
            "color": "#636efa",
            "pattern": {
             "shape": ""
            }
           },
           "name": "Heatwave",
           "orientation": "v",
           "showlegend": true,
           "textposition": "auto",
           "type": "bar",
           "x": [
            "Bardiya",
            "Dhanusa",
            "Kailali",
            "Mahottari",
            "Routahat"
           ],
           "xaxis": "x",
           "y": {
            "bdata": "AQIBAgM=",
            "dtype": "i1"
           },
           "yaxis": "y"
          },
          {
           "hovertemplate": "Event Type=Coldwave<br>Year=1993.0<br>District=%{x}<br>Number of Events=%{y}<extra></extra>",
           "legendgroup": "Coldwave",
           "marker": {
            "color": "#00cc96",
            "pattern": {
             "shape": ""
            }
           },
           "name": "Coldwave",
           "orientation": "v",
           "showlegend": true,
           "textposition": "auto",
           "type": "bar",
           "x": [
            "Baitadi",
            "Bajang",
            "Darchula",
            "Dolkha",
            "Dolpa",
            "Gorkha",
            "Humla",
            "Jumla",
            "Manang",
            "Mugu",
            "Mustang",
            "Rasuwa",
            "Rukum",
            "Solukhumbu"
           ],
           "xaxis": "x",
           "y": {
            "bdata": "BAcEBAgDCgIICAgFAQo=",
            "dtype": "i1"
           },
           "yaxis": "y"
          }
         ],
         "name": "1993.0"
        },
        {
         "data": [
          {
           "hovertemplate": "Event Type=Heatwave<br>Year=1997.0<br>District=%{x}<br>Number of Events=%{y}<extra></extra>",
           "legendgroup": "Heatwave",
           "marker": {
            "color": "#636efa",
            "pattern": {
             "shape": ""
            }
           },
           "name": "Heatwave",
           "orientation": "v",
           "showlegend": true,
           "textposition": "auto",
           "type": "bar",
           "x": [
            "Bardiya",
            "Dhanusa",
            "Mahottari",
            "Routahat",
            "Sarlahi"
           ],
           "xaxis": "x",
           "y": {
            "bdata": "AgICAgE=",
            "dtype": "i1"
           },
           "yaxis": "y"
          },
          {
           "hovertemplate": "Event Type=Heavy Rain<br>Year=1997.0<br>District=%{x}<br>Number of Events=%{y}<extra></extra>",
           "legendgroup": "Heavy Rain",
           "marker": {
            "color": "#EF553B",
            "pattern": {
             "shape": ""
            }
           },
           "name": "Heavy Rain",
           "orientation": "v",
           "showlegend": true,
           "textposition": "auto",
           "type": "bar",
           "x": [
            "Dhanusa",
            "Ilam",
            "Jhapa",
            "Mahottari",
            "Routahat",
            "Sarlahi"
           ],
           "xaxis": "x",
           "y": {
            "bdata": "AQEBAQEB",
            "dtype": "i1"
           },
           "yaxis": "y"
          },
          {
           "hovertemplate": "Event Type=Coldwave<br>Year=1997.0<br>District=%{x}<br>Number of Events=%{y}<extra></extra>",
           "legendgroup": "Coldwave",
           "marker": {
            "color": "#00cc96",
            "pattern": {
             "shape": ""
            }
           },
           "name": "Coldwave",
           "orientation": "v",
           "showlegend": true,
           "textposition": "auto",
           "type": "bar",
           "x": [
            "Baitadi",
            "Bajang",
            "Bhaktapur",
            "Darchula",
            "Dolkha",
            "Dolpa",
            "Gorkha",
            "Humla",
            "Jumla",
            "Kabhre",
            "Kaski",
            "Lamjung",
            "Manang",
            "Mugu",
            "Mustang",
            "Rasuwa",
            "Rukum",
            "Solukhumbu",
            "Tanahun"
           ],
           "xaxis": "x",
           "y": {
            "bdata": "AwcCAwUIAwoDAgECCAgIBgMKAg==",
            "dtype": "i1"
           },
           "yaxis": "y"
          }
         ],
         "name": "1997.0"
        },
        {
         "data": [
          {
           "hovertemplate": "Event Type=Heatwave<br>Year=1999.0<br>District=%{x}<br>Number of Events=%{y}<extra></extra>",
           "legendgroup": "Heatwave",
           "marker": {
            "color": "#636efa",
            "pattern": {
             "shape": ""
            }
           },
           "name": "Heatwave",
           "orientation": "v",
           "showlegend": true,
           "textposition": "auto",
           "type": "bar",
           "x": [
            "Bardiya",
            "Dhanusa",
            "Kailali",
            "Mahottari",
            "Routahat",
            "Sarlahi"
           ],
           "xaxis": "x",
           "y": {
            "bdata": "AwICAgMB",
            "dtype": "i1"
           },
           "yaxis": "y"
          },
          {
           "hovertemplate": "Event Type=Heavy Rain<br>Year=1999.0<br>District=%{x}<br>Number of Events=%{y}<extra></extra>",
           "legendgroup": "Heavy Rain",
           "marker": {
            "color": "#EF553B",
            "pattern": {
             "shape": ""
            }
           },
           "name": "Heavy Rain",
           "orientation": "v",
           "showlegend": true,
           "textposition": "auto",
           "type": "bar",
           "x": [
            "Ilam",
            "Jhapa"
           ],
           "xaxis": "x",
           "y": {
            "bdata": "AQE=",
            "dtype": "i1"
           },
           "yaxis": "y"
          },
          {
           "hovertemplate": "Event Type=Coldwave<br>Year=1999.0<br>District=%{x}<br>Number of Events=%{y}<extra></extra>",
           "legendgroup": "Coldwave",
           "marker": {
            "color": "#00cc96",
            "pattern": {
             "shape": ""
            }
           },
           "name": "Coldwave",
           "orientation": "v",
           "showlegend": true,
           "textposition": "auto",
           "type": "bar",
           "x": [
            "Baitadi",
            "Bajang",
            "Darchula",
            "Dolkha",
            "Dolpa",
            "Gorkha",
            "Humla",
            "Jumla",
            "Manang",
            "Mugu",
            "Mustang",
            "Rasuwa",
            "Rukum",
            "Solukhumbu"
           ],
           "xaxis": "x",
           "y": {
            "bdata": "AwUDAwgCCQIICAcFAQo=",
            "dtype": "i1"
           },
           "yaxis": "y"
          }
         ],
         "name": "1999.0"
        },
        {
         "data": [
          {
           "hovertemplate": "Event Type=Heatwave<br>Year=2001.0<br>District=%{x}<br>Number of Events=%{y}<extra></extra>",
           "legendgroup": "Heatwave",
           "marker": {
            "color": "#636efa",
            "pattern": {
             "shape": ""
            }
           },
           "name": "Heatwave",
           "orientation": "v",
           "showlegend": true,
           "textposition": "auto",
           "type": "bar",
           "x": [
            "Bardiya",
            "Dhanusa",
            "Mahottari",
            "Routahat"
           ],
           "xaxis": "x",
           "y": {
            "bdata": "AQICAg==",
            "dtype": "i1"
           },
           "yaxis": "y"
          },
          {
           "hovertemplate": "Event Type=Heavy Rain<br>Year=2001.0<br>District=%{x}<br>Number of Events=%{y}<extra></extra>",
           "legendgroup": "Heavy Rain",
           "marker": {
            "color": "#EF553B",
            "pattern": {
             "shape": ""
            }
           },
           "name": "Heavy Rain",
           "orientation": "v",
           "showlegend": true,
           "textposition": "auto",
           "type": "bar",
           "x": [
            "Kanchanpur"
           ],
           "xaxis": "x",
           "y": {
            "bdata": "AQ==",
            "dtype": "i1"
           },
           "yaxis": "y"
          },
          {
           "hovertemplate": "Event Type=Coldwave<br>Year=2001.0<br>District=%{x}<br>Number of Events=%{y}<extra></extra>",
           "legendgroup": "Coldwave",
           "marker": {
            "color": "#00cc96",
            "pattern": {
             "shape": ""
            }
           },
           "name": "Coldwave",
           "orientation": "v",
           "showlegend": true,
           "textposition": "auto",
           "type": "bar",
           "x": [
            "Baitadi",
            "Bajang",
            "Darchula",
            "Dolkha",
            "Dolpa",
            "Gorkha",
            "Humla",
            "Jumla",
            "Manang",
            "Mugu",
            "Mustang",
            "Rasuwa",
            "Rukum",
            "Solukhumbu"
           ],
           "xaxis": "x",
           "y": {
            "bdata": "AwUDBAgDCQMICQcFAgo=",
            "dtype": "i1"
           },
           "yaxis": "y"
          }
         ],
         "name": "2001.0"
        },
        {
         "data": [
          {
           "hovertemplate": "Event Type=Heatwave<br>Year=2002.0<br>District=%{x}<br>Number of Events=%{y}<extra></extra>",
           "legendgroup": "Heatwave",
           "marker": {
            "color": "#636efa",
            "pattern": {
             "shape": ""
            }
           },
           "name": "Heatwave",
           "orientation": "v",
           "showlegend": true,
           "textposition": "auto",
           "type": "bar",
           "x": [
            "Bardiya",
            "Kailali",
            "Routahat"
           ],
           "xaxis": "x",
           "y": {
            "bdata": "AwMB",
            "dtype": "i1"
           },
           "yaxis": "y"
          },
          {
           "hovertemplate": "Event Type=Heavy Rain<br>Year=2002.0<br>District=%{x}<br>Number of Events=%{y}<extra></extra>",
           "legendgroup": "Heavy Rain",
           "marker": {
            "color": "#EF553B",
            "pattern": {
             "shape": ""
            }
           },
           "name": "Heavy Rain",
           "orientation": "v",
           "showlegend": true,
           "textposition": "auto",
           "type": "bar",
           "x": [
            "Ilam",
            "Jhapa"
           ],
           "xaxis": "x",
           "y": {
            "bdata": "AQE=",
            "dtype": "i1"
           },
           "yaxis": "y"
          },
          {
           "hovertemplate": "Event Type=Coldwave<br>Year=2002.0<br>District=%{x}<br>Number of Events=%{y}<extra></extra>",
           "legendgroup": "Coldwave",
           "marker": {
            "color": "#00cc96",
            "pattern": {
             "shape": ""
            }
           },
           "name": "Coldwave",
           "orientation": "v",
           "showlegend": true,
           "textposition": "auto",
           "type": "bar",
           "x": [
            "Baitadi",
            "Bajang",
            "Darchula",
            "Dolkha",
            "Dolpa",
            "Gorkha",
            "Humla",
            "Jumla",
            "Manang",
            "Mugu",
            "Mustang",
            "Rasuwa",
            "Rukum",
            "Solukhumbu"
           ],
           "xaxis": "x",
           "y": {
            "bdata": "AwUDBAgDCgMICAcFAgo=",
            "dtype": "i1"
           },
           "yaxis": "y"
          }
         ],
         "name": "2002.0"
        },
        {
         "data": [
          {
           "hovertemplate": "Event Type=Heatwave<br>Year=2003.0<br>District=%{x}<br>Number of Events=%{y}<extra></extra>",
           "legendgroup": "Heatwave",
           "marker": {
            "color": "#636efa",
            "pattern": {
             "shape": ""
            }
           },
           "name": "Heatwave",
           "orientation": "v",
           "showlegend": true,
           "textposition": "auto",
           "type": "bar",
           "x": [
            "Bardiya",
            "Dhanusa",
            "Kailali",
            "Mahottari",
            "Routahat"
           ],
           "xaxis": "x",
           "y": {
            "bdata": "AgICAgM=",
            "dtype": "i1"
           },
           "yaxis": "y"
          },
          {
           "hovertemplate": "Event Type=Heavy Rain<br>Year=2003.0<br>District=%{x}<br>Number of Events=%{y}<extra></extra>",
           "legendgroup": "Heavy Rain",
           "marker": {
            "color": "#EF553B",
            "pattern": {
             "shape": ""
            }
           },
           "name": "Heavy Rain",
           "orientation": "v",
           "showlegend": true,
           "textposition": "auto",
           "type": "bar",
           "x": [
            "Ilam",
            "Jhapa",
            "Kailali",
            "Kanchanpur",
            "Morang",
            "Sunsari"
           ],
           "xaxis": "x",
           "y": {
            "bdata": "AQEBAgEB",
            "dtype": "i1"
           },
           "yaxis": "y"
          },
          {
           "hovertemplate": "Event Type=Coldwave<br>Year=2003.0<br>District=%{x}<br>Number of Events=%{y}<extra></extra>",
           "legendgroup": "Coldwave",
           "marker": {
            "color": "#00cc96",
            "pattern": {
             "shape": ""
            }
           },
           "name": "Coldwave",
           "orientation": "v",
           "showlegend": true,
           "textposition": "auto",
           "type": "bar",
           "x": [
            "Baitadi",
            "Bajang",
            "Darchula",
            "Dolkha",
            "Dolpa",
            "Gorkha",
            "Humla",
            "Jumla",
            "Manang",
            "Mugu",
            "Mustang",
            "Rasuwa",
            "Rukum",
            "Solukhumbu"
           ],
           "xaxis": "x",
           "y": {
            "bdata": "AwYDBAgDCQMICAgFAwo=",
            "dtype": "i1"
           },
           "yaxis": "y"
          }
         ],
         "name": "2003.0"
        },
        {
         "data": [
          {
           "hovertemplate": "Event Type=Heatwave<br>Year=2018.0<br>District=%{x}<br>Number of Events=%{y}<extra></extra>",
           "legendgroup": "Heatwave",
           "marker": {
            "color": "#636efa",
            "pattern": {
             "shape": ""
            }
           },
           "name": "Heatwave",
           "orientation": "v",
           "showlegend": true,
           "textposition": "auto",
           "type": "bar",
           "x": [
            "Routahat"
           ],
           "xaxis": "x",
           "y": {
            "bdata": "AQ==",
            "dtype": "i1"
           },
           "yaxis": "y"
          },
          {
           "hovertemplate": "Event Type=Coldwave<br>Year=2018.0<br>District=%{x}<br>Number of Events=%{y}<extra></extra>",
           "legendgroup": "Coldwave",
           "marker": {
            "color": "#00cc96",
            "pattern": {
             "shape": ""
            }
           },
           "name": "Coldwave",
           "orientation": "v",
           "showlegend": true,
           "textposition": "auto",
           "type": "bar",
           "x": [
            "Baitadi",
            "Bajang",
            "Darchula",
            "Dolkha",
            "Dolpa",
            "Gorkha",
            "Humla",
            "Jumla",
            "Manang",
            "Mugu",
            "Mustang",
            "Rasuwa",
            "Rukum",
            "Solukhumbu"
           ],
           "xaxis": "x",
           "y": {
            "bdata": "AwYDBAgCCQIICAgFAgo=",
            "dtype": "i1"
           },
           "yaxis": "y"
          }
         ],
         "name": "2018.0"
        },
        {
         "data": [
          {
           "hovertemplate": "Event Type=Heatwave<br>Year=2019.0<br>District=%{x}<br>Number of Events=%{y}<extra></extra>",
           "legendgroup": "Heatwave",
           "marker": {
            "color": "#636efa",
            "pattern": {
             "shape": ""
            }
           },
           "name": "Heatwave",
           "orientation": "v",
           "showlegend": true,
           "textposition": "auto",
           "type": "bar",
           "x": [
            "Bardiya",
            "Dhanusa",
            "Kailali",
            "Mahottari",
            "Routahat",
            "Sarlahi"
           ],
           "xaxis": "x",
           "y": {
            "bdata": "AgICAgMB",
            "dtype": "i1"
           },
           "yaxis": "y"
          },
          {
           "hovertemplate": "Event Type=Coldwave<br>Year=2019.0<br>District=%{x}<br>Number of Events=%{y}<extra></extra>",
           "legendgroup": "Coldwave",
           "marker": {
            "color": "#00cc96",
            "pattern": {
             "shape": ""
            }
           },
           "name": "Coldwave",
           "orientation": "v",
           "showlegend": true,
           "textposition": "auto",
           "type": "bar",
           "x": [
            "Baitadi",
            "Bajang",
            "Darchula",
            "Dolkha",
            "Dolpa",
            "Gorkha",
            "Humla",
            "Jumla",
            "Manang",
            "Mugu",
            "Mustang",
            "Rasuwa",
            "Rukum",
            "Solukhumbu"
           ],
           "xaxis": "x",
           "y": {
            "bdata": "BAUEBAgECQQICAgEBAo=",
            "dtype": "i1"
           },
           "yaxis": "y"
          }
         ],
         "name": "2019.0"
        }
       ],
       "layout": {
        "barmode": "group",
        "legend": {
         "title": {
          "text": "Event Type"
         },
         "tracegroupgap": 0
        },
        "sliders": [
         {
          "active": 0,
          "currentvalue": {
           "prefix": "Year="
          },
          "len": 0.9,
          "pad": {
           "b": 10,
           "t": 60
          },
          "steps": [
           {
            "args": [
             [
              "1984.0"
             ],
             {
              "frame": {
               "duration": 0,
               "redraw": true
              },
              "fromcurrent": true,
              "mode": "immediate",
              "transition": {
               "duration": 0,
               "easing": "linear"
              }
             }
            ],
            "label": "1984.0",
            "method": "animate"
           },
           {
            "args": [
             [
              "1987.0"
             ],
             {
              "frame": {
               "duration": 0,
               "redraw": true
              },
              "fromcurrent": true,
              "mode": "immediate",
              "transition": {
               "duration": 0,
               "easing": "linear"
              }
             }
            ],
            "label": "1987.0",
            "method": "animate"
           },
           {
            "args": [
             [
              "1988.0"
             ],
             {
              "frame": {
               "duration": 0,
               "redraw": true
              },
              "fromcurrent": true,
              "mode": "immediate",
              "transition": {
               "duration": 0,
               "easing": "linear"
              }
             }
            ],
            "label": "1988.0",
            "method": "animate"
           },
           {
            "args": [
             [
              "1991.0"
             ],
             {
              "frame": {
               "duration": 0,
               "redraw": true
              },
              "fromcurrent": true,
              "mode": "immediate",
              "transition": {
               "duration": 0,
               "easing": "linear"
              }
             }
            ],
            "label": "1991.0",
            "method": "animate"
           },
           {
            "args": [
             [
              "1994.0"
             ],
             {
              "frame": {
               "duration": 0,
               "redraw": true
              },
              "fromcurrent": true,
              "mode": "immediate",
              "transition": {
               "duration": 0,
               "easing": "linear"
              }
             }
            ],
            "label": "1994.0",
            "method": "animate"
           },
           {
            "args": [
             [
              "1995.0"
             ],
             {
              "frame": {
               "duration": 0,
               "redraw": true
              },
              "fromcurrent": true,
              "mode": "immediate",
              "transition": {
               "duration": 0,
               "easing": "linear"
              }
             }
            ],
            "label": "1995.0",
            "method": "animate"
           },
           {
            "args": [
             [
              "1996.0"
             ],
             {
              "frame": {
               "duration": 0,
               "redraw": true
              },
              "fromcurrent": true,
              "mode": "immediate",
              "transition": {
               "duration": 0,
               "easing": "linear"
              }
             }
            ],
            "label": "1996.0",
            "method": "animate"
           },
           {
            "args": [
             [
              "2012.0"
             ],
             {
              "frame": {
               "duration": 0,
               "redraw": true
              },
              "fromcurrent": true,
              "mode": "immediate",
              "transition": {
               "duration": 0,
               "easing": "linear"
              }
             }
            ],
            "label": "2012.0",
            "method": "animate"
           },
           {
            "args": [
             [
              "1981.0"
             ],
             {
              "frame": {
               "duration": 0,
               "redraw": true
              },
              "fromcurrent": true,
              "mode": "immediate",
              "transition": {
               "duration": 0,
               "easing": "linear"
              }
             }
            ],
            "label": "1981.0",
            "method": "animate"
           },
           {
            "args": [
             [
              "1982.0"
             ],
             {
              "frame": {
               "duration": 0,
               "redraw": true
              },
              "fromcurrent": true,
              "mode": "immediate",
              "transition": {
               "duration": 0,
               "easing": "linear"
              }
             }
            ],
            "label": "1982.0",
            "method": "animate"
           },
           {
            "args": [
             [
              "1990.0"
             ],
             {
              "frame": {
               "duration": 0,
               "redraw": true
              },
              "fromcurrent": true,
              "mode": "immediate",
              "transition": {
               "duration": 0,
               "easing": "linear"
              }
             }
            ],
            "label": "1990.0",
            "method": "animate"
           },
           {
            "args": [
             [
              "1998.0"
             ],
             {
              "frame": {
               "duration": 0,
               "redraw": true
              },
              "fromcurrent": true,
              "mode": "immediate",
              "transition": {
               "duration": 0,
               "easing": "linear"
              }
             }
            ],
            "label": "1998.0",
            "method": "animate"
           },
           {
            "args": [
             [
              "2000.0"
             ],
             {
              "frame": {
               "duration": 0,
               "redraw": true
              },
              "fromcurrent": true,
              "mode": "immediate",
              "transition": {
               "duration": 0,
               "easing": "linear"
              }
             }
            ],
            "label": "2000.0",
            "method": "animate"
           },
           {
            "args": [
             [
              "2004.0"
             ],
             {
              "frame": {
               "duration": 0,
               "redraw": true
              },
              "fromcurrent": true,
              "mode": "immediate",
              "transition": {
               "duration": 0,
               "easing": "linear"
              }
             }
            ],
            "label": "2004.0",
            "method": "animate"
           },
           {
            "args": [
             [
              "2005.0"
             ],
             {
              "frame": {
               "duration": 0,
               "redraw": true
              },
              "fromcurrent": true,
              "mode": "immediate",
              "transition": {
               "duration": 0,
               "easing": "linear"
              }
             }
            ],
            "label": "2005.0",
            "method": "animate"
           },
           {
            "args": [
             [
              "2006.0"
             ],
             {
              "frame": {
               "duration": 0,
               "redraw": true
              },
              "fromcurrent": true,
              "mode": "immediate",
              "transition": {
               "duration": 0,
               "easing": "linear"
              }
             }
            ],
            "label": "2006.0",
            "method": "animate"
           },
           {
            "args": [
             [
              "2007.0"
             ],
             {
              "frame": {
               "duration": 0,
               "redraw": true
              },
              "fromcurrent": true,
              "mode": "immediate",
              "transition": {
               "duration": 0,
               "easing": "linear"
              }
             }
            ],
            "label": "2007.0",
            "method": "animate"
           },
           {
            "args": [
             [
              "2008.0"
             ],
             {
              "frame": {
               "duration": 0,
               "redraw": true
              },
              "fromcurrent": true,
              "mode": "immediate",
              "transition": {
               "duration": 0,
               "easing": "linear"
              }
             }
            ],
            "label": "2008.0",
            "method": "animate"
           },
           {
            "args": [
             [
              "2009.0"
             ],
             {
              "frame": {
               "duration": 0,
               "redraw": true
              },
              "fromcurrent": true,
              "mode": "immediate",
              "transition": {
               "duration": 0,
               "easing": "linear"
              }
             }
            ],
            "label": "2009.0",
            "method": "animate"
           },
           {
            "args": [
             [
              "2010.0"
             ],
             {
              "frame": {
               "duration": 0,
               "redraw": true
              },
              "fromcurrent": true,
              "mode": "immediate",
              "transition": {
               "duration": 0,
               "easing": "linear"
              }
             }
            ],
            "label": "2010.0",
            "method": "animate"
           },
           {
            "args": [
             [
              "2011.0"
             ],
             {
              "frame": {
               "duration": 0,
               "redraw": true
              },
              "fromcurrent": true,
              "mode": "immediate",
              "transition": {
               "duration": 0,
               "easing": "linear"
              }
             }
            ],
            "label": "2011.0",
            "method": "animate"
           },
           {
            "args": [
             [
              "2013.0"
             ],
             {
              "frame": {
               "duration": 0,
               "redraw": true
              },
              "fromcurrent": true,
              "mode": "immediate",
              "transition": {
               "duration": 0,
               "easing": "linear"
              }
             }
            ],
            "label": "2013.0",
            "method": "animate"
           },
           {
            "args": [
             [
              "2014.0"
             ],
             {
              "frame": {
               "duration": 0,
               "redraw": true
              },
              "fromcurrent": true,
              "mode": "immediate",
              "transition": {
               "duration": 0,
               "easing": "linear"
              }
             }
            ],
            "label": "2014.0",
            "method": "animate"
           },
           {
            "args": [
             [
              "2015.0"
             ],
             {
              "frame": {
               "duration": 0,
               "redraw": true
              },
              "fromcurrent": true,
              "mode": "immediate",
              "transition": {
               "duration": 0,
               "easing": "linear"
              }
             }
            ],
            "label": "2015.0",
            "method": "animate"
           },
           {
            "args": [
             [
              "2016.0"
             ],
             {
              "frame": {
               "duration": 0,
               "redraw": true
              },
              "fromcurrent": true,
              "mode": "immediate",
              "transition": {
               "duration": 0,
               "easing": "linear"
              }
             }
            ],
            "label": "2016.0",
            "method": "animate"
           },
           {
            "args": [
             [
              "2017.0"
             ],
             {
              "frame": {
               "duration": 0,
               "redraw": true
              },
              "fromcurrent": true,
              "mode": "immediate",
              "transition": {
               "duration": 0,
               "easing": "linear"
              }
             }
            ],
            "label": "2017.0",
            "method": "animate"
           },
           {
            "args": [
             [
              "1985.0"
             ],
             {
              "frame": {
               "duration": 0,
               "redraw": true
              },
              "fromcurrent": true,
              "mode": "immediate",
              "transition": {
               "duration": 0,
               "easing": "linear"
              }
             }
            ],
            "label": "1985.0",
            "method": "animate"
           },
           {
            "args": [
             [
              "1983.0"
             ],
             {
              "frame": {
               "duration": 0,
               "redraw": true
              },
              "fromcurrent": true,
              "mode": "immediate",
              "transition": {
               "duration": 0,
               "easing": "linear"
              }
             }
            ],
            "label": "1983.0",
            "method": "animate"
           },
           {
            "args": [
             [
              "1986.0"
             ],
             {
              "frame": {
               "duration": 0,
               "redraw": true
              },
              "fromcurrent": true,
              "mode": "immediate",
              "transition": {
               "duration": 0,
               "easing": "linear"
              }
             }
            ],
            "label": "1986.0",
            "method": "animate"
           },
           {
            "args": [
             [
              "1989.0"
             ],
             {
              "frame": {
               "duration": 0,
               "redraw": true
              },
              "fromcurrent": true,
              "mode": "immediate",
              "transition": {
               "duration": 0,
               "easing": "linear"
              }
             }
            ],
            "label": "1989.0",
            "method": "animate"
           },
           {
            "args": [
             [
              "1992.0"
             ],
             {
              "frame": {
               "duration": 0,
               "redraw": true
              },
              "fromcurrent": true,
              "mode": "immediate",
              "transition": {
               "duration": 0,
               "easing": "linear"
              }
             }
            ],
            "label": "1992.0",
            "method": "animate"
           },
           {
            "args": [
             [
              "1993.0"
             ],
             {
              "frame": {
               "duration": 0,
               "redraw": true
              },
              "fromcurrent": true,
              "mode": "immediate",
              "transition": {
               "duration": 0,
               "easing": "linear"
              }
             }
            ],
            "label": "1993.0",
            "method": "animate"
           },
           {
            "args": [
             [
              "1997.0"
             ],
             {
              "frame": {
               "duration": 0,
               "redraw": true
              },
              "fromcurrent": true,
              "mode": "immediate",
              "transition": {
               "duration": 0,
               "easing": "linear"
              }
             }
            ],
            "label": "1997.0",
            "method": "animate"
           },
           {
            "args": [
             [
              "1999.0"
             ],
             {
              "frame": {
               "duration": 0,
               "redraw": true
              },
              "fromcurrent": true,
              "mode": "immediate",
              "transition": {
               "duration": 0,
               "easing": "linear"
              }
             }
            ],
            "label": "1999.0",
            "method": "animate"
           },
           {
            "args": [
             [
              "2001.0"
             ],
             {
              "frame": {
               "duration": 0,
               "redraw": true
              },
              "fromcurrent": true,
              "mode": "immediate",
              "transition": {
               "duration": 0,
               "easing": "linear"
              }
             }
            ],
            "label": "2001.0",
            "method": "animate"
           },
           {
            "args": [
             [
              "2002.0"
             ],
             {
              "frame": {
               "duration": 0,
               "redraw": true
              },
              "fromcurrent": true,
              "mode": "immediate",
              "transition": {
               "duration": 0,
               "easing": "linear"
              }
             }
            ],
            "label": "2002.0",
            "method": "animate"
           },
           {
            "args": [
             [
              "2003.0"
             ],
             {
              "frame": {
               "duration": 0,
               "redraw": true
              },
              "fromcurrent": true,
              "mode": "immediate",
              "transition": {
               "duration": 0,
               "easing": "linear"
              }
             }
            ],
            "label": "2003.0",
            "method": "animate"
           },
           {
            "args": [
             [
              "2018.0"
             ],
             {
              "frame": {
               "duration": 0,
               "redraw": true
              },
              "fromcurrent": true,
              "mode": "immediate",
              "transition": {
               "duration": 0,
               "easing": "linear"
              }
             }
            ],
            "label": "2018.0",
            "method": "animate"
           },
           {
            "args": [
             [
              "2019.0"
             ],
             {
              "frame": {
               "duration": 0,
               "redraw": true
              },
              "fromcurrent": true,
              "mode": "immediate",
              "transition": {
               "duration": 0,
               "easing": "linear"
              }
             }
            ],
            "label": "2019.0",
            "method": "animate"
           }
          ],
          "x": 0.1,
          "xanchor": "left",
          "y": 0,
          "yanchor": "top"
         }
        ],
        "template": {
         "data": {
          "bar": [
           {
            "error_x": {
             "color": "#2a3f5f"
            },
            "error_y": {
             "color": "#2a3f5f"
            },
            "marker": {
             "line": {
              "color": "#E5ECF6",
              "width": 0.5
             },
             "pattern": {
              "fillmode": "overlay",
              "size": 10,
              "solidity": 0.2
             }
            },
            "type": "bar"
           }
          ],
          "barpolar": [
           {
            "marker": {
             "line": {
              "color": "#E5ECF6",
              "width": 0.5
             },
             "pattern": {
              "fillmode": "overlay",
              "size": 10,
              "solidity": 0.2
             }
            },
            "type": "barpolar"
           }
          ],
          "carpet": [
           {
            "aaxis": {
             "endlinecolor": "#2a3f5f",
             "gridcolor": "white",
             "linecolor": "white",
             "minorgridcolor": "white",
             "startlinecolor": "#2a3f5f"
            },
            "baxis": {
             "endlinecolor": "#2a3f5f",
             "gridcolor": "white",
             "linecolor": "white",
             "minorgridcolor": "white",
             "startlinecolor": "#2a3f5f"
            },
            "type": "carpet"
           }
          ],
          "choropleth": [
           {
            "colorbar": {
             "outlinewidth": 0,
             "ticks": ""
            },
            "type": "choropleth"
           }
          ],
          "contour": [
           {
            "colorbar": {
             "outlinewidth": 0,
             "ticks": ""
            },
            "colorscale": [
             [
              0,
              "#0d0887"
             ],
             [
              0.1111111111111111,
              "#46039f"
             ],
             [
              0.2222222222222222,
              "#7201a8"
             ],
             [
              0.3333333333333333,
              "#9c179e"
             ],
             [
              0.4444444444444444,
              "#bd3786"
             ],
             [
              0.5555555555555556,
              "#d8576b"
             ],
             [
              0.6666666666666666,
              "#ed7953"
             ],
             [
              0.7777777777777778,
              "#fb9f3a"
             ],
             [
              0.8888888888888888,
              "#fdca26"
             ],
             [
              1,
              "#f0f921"
             ]
            ],
            "type": "contour"
           }
          ],
          "contourcarpet": [
           {
            "colorbar": {
             "outlinewidth": 0,
             "ticks": ""
            },
            "type": "contourcarpet"
           }
          ],
          "heatmap": [
           {
            "colorbar": {
             "outlinewidth": 0,
             "ticks": ""
            },
            "colorscale": [
             [
              0,
              "#0d0887"
             ],
             [
              0.1111111111111111,
              "#46039f"
             ],
             [
              0.2222222222222222,
              "#7201a8"
             ],
             [
              0.3333333333333333,
              "#9c179e"
             ],
             [
              0.4444444444444444,
              "#bd3786"
             ],
             [
              0.5555555555555556,
              "#d8576b"
             ],
             [
              0.6666666666666666,
              "#ed7953"
             ],
             [
              0.7777777777777778,
              "#fb9f3a"
             ],
             [
              0.8888888888888888,
              "#fdca26"
             ],
             [
              1,
              "#f0f921"
             ]
            ],
            "type": "heatmap"
           }
          ],
          "histogram": [
           {
            "marker": {
             "pattern": {
              "fillmode": "overlay",
              "size": 10,
              "solidity": 0.2
             }
            },
            "type": "histogram"
           }
          ],
          "histogram2d": [
           {
            "colorbar": {
             "outlinewidth": 0,
             "ticks": ""
            },
            "colorscale": [
             [
              0,
              "#0d0887"
             ],
             [
              0.1111111111111111,
              "#46039f"
             ],
             [
              0.2222222222222222,
              "#7201a8"
             ],
             [
              0.3333333333333333,
              "#9c179e"
             ],
             [
              0.4444444444444444,
              "#bd3786"
             ],
             [
              0.5555555555555556,
              "#d8576b"
             ],
             [
              0.6666666666666666,
              "#ed7953"
             ],
             [
              0.7777777777777778,
              "#fb9f3a"
             ],
             [
              0.8888888888888888,
              "#fdca26"
             ],
             [
              1,
              "#f0f921"
             ]
            ],
            "type": "histogram2d"
           }
          ],
          "histogram2dcontour": [
           {
            "colorbar": {
             "outlinewidth": 0,
             "ticks": ""
            },
            "colorscale": [
             [
              0,
              "#0d0887"
             ],
             [
              0.1111111111111111,
              "#46039f"
             ],
             [
              0.2222222222222222,
              "#7201a8"
             ],
             [
              0.3333333333333333,
              "#9c179e"
             ],
             [
              0.4444444444444444,
              "#bd3786"
             ],
             [
              0.5555555555555556,
              "#d8576b"
             ],
             [
              0.6666666666666666,
              "#ed7953"
             ],
             [
              0.7777777777777778,
              "#fb9f3a"
             ],
             [
              0.8888888888888888,
              "#fdca26"
             ],
             [
              1,
              "#f0f921"
             ]
            ],
            "type": "histogram2dcontour"
           }
          ],
          "mesh3d": [
           {
            "colorbar": {
             "outlinewidth": 0,
             "ticks": ""
            },
            "type": "mesh3d"
           }
          ],
          "parcoords": [
           {
            "line": {
             "colorbar": {
              "outlinewidth": 0,
              "ticks": ""
             }
            },
            "type": "parcoords"
           }
          ],
          "pie": [
           {
            "automargin": true,
            "type": "pie"
           }
          ],
          "scatter": [
           {
            "fillpattern": {
             "fillmode": "overlay",
             "size": 10,
             "solidity": 0.2
            },
            "type": "scatter"
           }
          ],
          "scatter3d": [
           {
            "line": {
             "colorbar": {
              "outlinewidth": 0,
              "ticks": ""
             }
            },
            "marker": {
             "colorbar": {
              "outlinewidth": 0,
              "ticks": ""
             }
            },
            "type": "scatter3d"
           }
          ],
          "scattercarpet": [
           {
            "marker": {
             "colorbar": {
              "outlinewidth": 0,
              "ticks": ""
             }
            },
            "type": "scattercarpet"
           }
          ],
          "scattergeo": [
           {
            "marker": {
             "colorbar": {
              "outlinewidth": 0,
              "ticks": ""
             }
            },
            "type": "scattergeo"
           }
          ],
          "scattergl": [
           {
            "marker": {
             "colorbar": {
              "outlinewidth": 0,
              "ticks": ""
             }
            },
            "type": "scattergl"
           }
          ],
          "scattermap": [
           {
            "marker": {
             "colorbar": {
              "outlinewidth": 0,
              "ticks": ""
             }
            },
            "type": "scattermap"
           }
          ],
          "scattermapbox": [
           {
            "marker": {
             "colorbar": {
              "outlinewidth": 0,
              "ticks": ""
             }
            },
            "type": "scattermapbox"
           }
          ],
          "scatterpolar": [
           {
            "marker": {
             "colorbar": {
              "outlinewidth": 0,
              "ticks": ""
             }
            },
            "type": "scatterpolar"
           }
          ],
          "scatterpolargl": [
           {
            "marker": {
             "colorbar": {
              "outlinewidth": 0,
              "ticks": ""
             }
            },
            "type": "scatterpolargl"
           }
          ],
          "scatterternary": [
           {
            "marker": {
             "colorbar": {
              "outlinewidth": 0,
              "ticks": ""
             }
            },
            "type": "scatterternary"
           }
          ],
          "surface": [
           {
            "colorbar": {
             "outlinewidth": 0,
             "ticks": ""
            },
            "colorscale": [
             [
              0,
              "#0d0887"
             ],
             [
              0.1111111111111111,
              "#46039f"
             ],
             [
              0.2222222222222222,
              "#7201a8"
             ],
             [
              0.3333333333333333,
              "#9c179e"
             ],
             [
              0.4444444444444444,
              "#bd3786"
             ],
             [
              0.5555555555555556,
              "#d8576b"
             ],
             [
              0.6666666666666666,
              "#ed7953"
             ],
             [
              0.7777777777777778,
              "#fb9f3a"
             ],
             [
              0.8888888888888888,
              "#fdca26"
             ],
             [
              1,
              "#f0f921"
             ]
            ],
            "type": "surface"
           }
          ],
          "table": [
           {
            "cells": {
             "fill": {
              "color": "#EBF0F8"
             },
             "line": {
              "color": "white"
             }
            },
            "header": {
             "fill": {
              "color": "#C8D4E3"
             },
             "line": {
              "color": "white"
             }
            },
            "type": "table"
           }
          ]
         },
         "layout": {
          "annotationdefaults": {
           "arrowcolor": "#2a3f5f",
           "arrowhead": 0,
           "arrowwidth": 1
          },
          "autotypenumbers": "strict",
          "coloraxis": {
           "colorbar": {
            "outlinewidth": 0,
            "ticks": ""
           }
          },
          "colorscale": {
           "diverging": [
            [
             0,
             "#8e0152"
            ],
            [
             0.1,
             "#c51b7d"
            ],
            [
             0.2,
             "#de77ae"
            ],
            [
             0.3,
             "#f1b6da"
            ],
            [
             0.4,
             "#fde0ef"
            ],
            [
             0.5,
             "#f7f7f7"
            ],
            [
             0.6,
             "#e6f5d0"
            ],
            [
             0.7,
             "#b8e186"
            ],
            [
             0.8,
             "#7fbc41"
            ],
            [
             0.9,
             "#4d9221"
            ],
            [
             1,
             "#276419"
            ]
           ],
           "sequential": [
            [
             0,
             "#0d0887"
            ],
            [
             0.1111111111111111,
             "#46039f"
            ],
            [
             0.2222222222222222,
             "#7201a8"
            ],
            [
             0.3333333333333333,
             "#9c179e"
            ],
            [
             0.4444444444444444,
             "#bd3786"
            ],
            [
             0.5555555555555556,
             "#d8576b"
            ],
            [
             0.6666666666666666,
             "#ed7953"
            ],
            [
             0.7777777777777778,
             "#fb9f3a"
            ],
            [
             0.8888888888888888,
             "#fdca26"
            ],
            [
             1,
             "#f0f921"
            ]
           ],
           "sequentialminus": [
            [
             0,
             "#0d0887"
            ],
            [
             0.1111111111111111,
             "#46039f"
            ],
            [
             0.2222222222222222,
             "#7201a8"
            ],
            [
             0.3333333333333333,
             "#9c179e"
            ],
            [
             0.4444444444444444,
             "#bd3786"
            ],
            [
             0.5555555555555556,
             "#d8576b"
            ],
            [
             0.6666666666666666,
             "#ed7953"
            ],
            [
             0.7777777777777778,
             "#fb9f3a"
            ],
            [
             0.8888888888888888,
             "#fdca26"
            ],
            [
             1,
             "#f0f921"
            ]
           ]
          },
          "colorway": [
           "#636efa",
           "#EF553B",
           "#00cc96",
           "#ab63fa",
           "#FFA15A",
           "#19d3f3",
           "#FF6692",
           "#B6E880",
           "#FF97FF",
           "#FECB52"
          ],
          "font": {
           "color": "#2a3f5f"
          },
          "geo": {
           "bgcolor": "white",
           "lakecolor": "white",
           "landcolor": "#E5ECF6",
           "showlakes": true,
           "showland": true,
           "subunitcolor": "white"
          },
          "hoverlabel": {
           "align": "left"
          },
          "hovermode": "closest",
          "mapbox": {
           "style": "light"
          },
          "paper_bgcolor": "white",
          "plot_bgcolor": "#E5ECF6",
          "polar": {
           "angularaxis": {
            "gridcolor": "white",
            "linecolor": "white",
            "ticks": ""
           },
           "bgcolor": "#E5ECF6",
           "radialaxis": {
            "gridcolor": "white",
            "linecolor": "white",
            "ticks": ""
           }
          },
          "scene": {
           "xaxis": {
            "backgroundcolor": "#E5ECF6",
            "gridcolor": "white",
            "gridwidth": 2,
            "linecolor": "white",
            "showbackground": true,
            "ticks": "",
            "zerolinecolor": "white"
           },
           "yaxis": {
            "backgroundcolor": "#E5ECF6",
            "gridcolor": "white",
            "gridwidth": 2,
            "linecolor": "white",
            "showbackground": true,
            "ticks": "",
            "zerolinecolor": "white"
           },
           "zaxis": {
            "backgroundcolor": "#E5ECF6",
            "gridcolor": "white",
            "gridwidth": 2,
            "linecolor": "white",
            "showbackground": true,
            "ticks": "",
            "zerolinecolor": "white"
           }
          },
          "shapedefaults": {
           "line": {
            "color": "#2a3f5f"
           }
          },
          "ternary": {
           "aaxis": {
            "gridcolor": "white",
            "linecolor": "white",
            "ticks": ""
           },
           "baxis": {
            "gridcolor": "white",
            "linecolor": "white",
            "ticks": ""
           },
           "bgcolor": "#E5ECF6",
           "caxis": {
            "gridcolor": "white",
            "linecolor": "white",
            "ticks": ""
           }
          },
          "title": {
           "x": 0.05
          },
          "xaxis": {
           "automargin": true,
           "gridcolor": "white",
           "linecolor": "white",
           "ticks": "",
           "title": {
            "standoff": 15
           },
           "zerolinecolor": "white",
           "zerolinewidth": 2
          },
          "yaxis": {
           "automargin": true,
           "gridcolor": "white",
           "linecolor": "white",
           "ticks": "",
           "title": {
            "standoff": 15
           },
           "zerolinecolor": "white",
           "zerolinewidth": 2
          }
         }
        },
        "title": {
         "text": "District-wise Extreme Weather Events by Type and Year"
        },
        "transition": {
         "duration": 500
        },
        "updatemenus": [
         {
          "buttons": [
           {
            "args": [
             null,
             {
              "frame": {
               "duration": 500,
               "redraw": true
              },
              "fromcurrent": true,
              "mode": "immediate",
              "transition": {
               "duration": 500,
               "easing": "linear"
              }
             }
            ],
            "label": "&#9654;",
            "method": "animate"
           },
           {
            "args": [
             [
              null
             ],
             {
              "frame": {
               "duration": 0,
               "redraw": true
              },
              "fromcurrent": true,
              "mode": "immediate",
              "transition": {
               "duration": 0,
               "easing": "linear"
              }
             }
            ],
            "label": "&#9724;",
            "method": "animate"
           }
          ],
          "direction": "left",
          "pad": {
           "r": 10,
           "t": 70
          },
          "showactive": false,
          "type": "buttons",
          "x": 0.1,
          "xanchor": "right",
          "y": 0,
          "yanchor": "top"
         }
        ],
        "xaxis": {
         "anchor": "y",
         "domain": [
          0,
          1
         ],
         "tickangle": -45,
         "title": {
          "text": "District"
         }
        },
        "yaxis": {
         "anchor": "x",
         "domain": [
          0,
          1
         ],
         "title": {
          "text": "Number of Events"
         }
        }
       }
      }
     },
     "metadata": {},
     "output_type": "display_data"
    },
    {
     "data": {
      "application/vnd.plotly.v1+json": {
       "config": {
        "plotlyServerURL": "https://plot.ly"
       },
       "data": [
        {
         "geo": "geo",
         "hovertemplate": "event_type=Heatwave<br>Year=1984.0<br>Extreme Event Count=%{marker.size}<br>District=%{text}<br>lat=%{lat}<br>lon=%{lon}<extra></extra>",
         "lat": {
          "bdata": "ZmZmZmbmO0CamZmZmRk8QDMzMzMzczxAMzMzMzOzOkAzMzMzM7M8QDMzMzMzszpAzczMzMzMOkA=",
          "dtype": "f8"
         },
         "legendgroup": "Heatwave",
         "lon": {
          "bdata": "zczMzMzMVEDNzMzMzGxUQDMzMzMzU1RAmpmZmZl5VUAzMzMzMzNUQDMzMzMzc1VAMzMzMzNTVUA=",
          "dtype": "f8"
         },
         "marker": {
          "color": "#636efa",
          "size": {
           "bdata": "AQEBAgECAg==",
           "dtype": "i1"
          },
          "sizemode": "area",
          "sizeref": 0.0275,
          "symbol": "circle"
         },
         "mode": "markers+text",
         "name": "Heatwave",
         "showlegend": true,
         "text": [
          "Arghakhanchi",
          "Banke",
          "Bardiya",
          "Dhanusa",
          "Kailali",
          "Mahottari",
          "Routahat"
         ],
         "type": "scattergeo"
        },
        {
         "geo": "geo",
         "hovertemplate": "event_type=Heavy Rain<br>Year=1984.0<br>Extreme Event Count=%{marker.size}<br>District=%{text}<br>lat=%{lat}<br>lon=%{lon}<extra></extra>",
         "lat": {
          "bdata": "ZmZmZmbmOkAzMzMzM7M6QGZmZmZm5jtA",
          "dtype": "f8"
         },
         "legendgroup": "Heavy Rain",
         "lon": {
          "bdata": "AAAAAAAAVkCamZmZmflVQAAAAAAA4FRA",
          "dtype": "f8"
         },
         "marker": {
          "color": "#EF553B",
          "size": {
           "bdata": "AwIB",
           "dtype": "i1"
          },
          "sizemode": "area",
          "sizeref": 0.0275,
          "symbol": "circle"
         },
         "mode": "markers+text",
         "name": "Heavy Rain",
         "showlegend": true,
         "text": [
          "Ilam",
          "Jhapa",
          "Palpa"
         ],
         "type": "scattergeo"
        },
        {
         "geo": "geo",
         "hovertemplate": "event_type=Coldwave<br>Year=1984.0<br>Extreme Event Count=%{marker.size}<br>District=%{text}<br>lat=%{lat}<br>lon=%{lon}<extra></extra>",
         "lat": {
          "bdata": "AAAAAACAPUCamZmZmZk9QDMzMzMzsztAZmZmZmbmPUCamZmZmZk7QAAAAAAAAD1AAAAAAAAAPEAAAAAAAAA+QM3MzMzMTD1AmpmZmZmZO0AzMzMzMzM8QM3MzMzMTDxAmpmZmZmZPEAAAAAAAIA9QDMzMzMzszxAmpmZmZkZPEBmZmZmZqY8QAAAAAAAADxAAAAAAAAAPEA=",
          "dtype": "f8"
         },
         "legendgroup": "Coldwave",
         "lon": {
          "bdata": "AAAAAAAgVEDNzMzMzExUQAAAAAAAYFVAZmZmZmYmVEDNzMzMzIxVQJqZmZmZuVRAZmZmZmYmVUAzMzMzM3NUQM3MzMzMjFRAZmZmZmZmVUCamZmZmflUQJqZmZmZGVVAzczMzMwMVUBmZmZmZoZUQHsUrkfh6lRAMzMzMzNTVUBmZmZmZpZUQDMzMzMzs1VAZmZmZmYGVUA=",
          "dtype": "f8"
         },
         "marker": {
          "color": "#00cc96",
          "size": {
           "bdata": "AwYBAwQIAwkDAQEBCAgHBQMKAQ==",
           "dtype": "i1"
          },
          "sizemode": "area",
          "sizeref": 0.0275,
          "symbol": "circle"
         },
         "mode": "markers+text",
         "name": "Coldwave",
         "showlegend": true,
         "text": [
          "Baitadi",
          "Bajang",
          "Bhaktapur",
          "Darchula",
          "Dolkha",
          "Dolpa",
          "Gorkha",
          "Humla",
          "Jumla",
          "Kabhre",
          "Kaski",
          "Lamjung",
          "Manang",
          "Mugu",
          "Mustang",
          "Rasuwa",
          "Rukum",
          "Solukhumbu",
          "Tanahun"
         ],
         "type": "scattergeo"
        }
       ],
       "frames": [
        {
         "data": [
          {
           "geo": "geo",
           "hovertemplate": "event_type=Heatwave<br>Year=1984.0<br>Extreme Event Count=%{marker.size}<br>District=%{text}<br>lat=%{lat}<br>lon=%{lon}<extra></extra>",
           "lat": {
            "bdata": "ZmZmZmbmO0CamZmZmRk8QDMzMzMzczxAMzMzMzOzOkAzMzMzM7M8QDMzMzMzszpAzczMzMzMOkA=",
            "dtype": "f8"
           },
           "legendgroup": "Heatwave",
           "lon": {
            "bdata": "zczMzMzMVEDNzMzMzGxUQDMzMzMzU1RAmpmZmZl5VUAzMzMzMzNUQDMzMzMzc1VAMzMzMzNTVUA=",
            "dtype": "f8"
           },
           "marker": {
            "color": "#636efa",
            "size": {
             "bdata": "AQEBAgECAg==",
             "dtype": "i1"
            },
            "sizemode": "area",
            "sizeref": 0.0275,
            "symbol": "circle"
           },
           "mode": "markers+text",
           "name": "Heatwave",
           "showlegend": true,
           "text": [
            "Arghakhanchi",
            "Banke",
            "Bardiya",
            "Dhanusa",
            "Kailali",
            "Mahottari",
            "Routahat"
           ],
           "type": "scattergeo"
          },
          {
           "geo": "geo",
           "hovertemplate": "event_type=Heavy Rain<br>Year=1984.0<br>Extreme Event Count=%{marker.size}<br>District=%{text}<br>lat=%{lat}<br>lon=%{lon}<extra></extra>",
           "lat": {
            "bdata": "ZmZmZmbmOkAzMzMzM7M6QGZmZmZm5jtA",
            "dtype": "f8"
           },
           "legendgroup": "Heavy Rain",
           "lon": {
            "bdata": "AAAAAAAAVkCamZmZmflVQAAAAAAA4FRA",
            "dtype": "f8"
           },
           "marker": {
            "color": "#EF553B",
            "size": {
             "bdata": "AwIB",
             "dtype": "i1"
            },
            "sizemode": "area",
            "sizeref": 0.0275,
            "symbol": "circle"
           },
           "mode": "markers+text",
           "name": "Heavy Rain",
           "showlegend": true,
           "text": [
            "Ilam",
            "Jhapa",
            "Palpa"
           ],
           "type": "scattergeo"
          },
          {
           "geo": "geo",
           "hovertemplate": "event_type=Coldwave<br>Year=1984.0<br>Extreme Event Count=%{marker.size}<br>District=%{text}<br>lat=%{lat}<br>lon=%{lon}<extra></extra>",
           "lat": {
            "bdata": "AAAAAACAPUCamZmZmZk9QDMzMzMzsztAZmZmZmbmPUCamZmZmZk7QAAAAAAAAD1AAAAAAAAAPEAAAAAAAAA+QM3MzMzMTD1AmpmZmZmZO0AzMzMzMzM8QM3MzMzMTDxAmpmZmZmZPEAAAAAAAIA9QDMzMzMzszxAmpmZmZkZPEBmZmZmZqY8QAAAAAAAADxAAAAAAAAAPEA=",
            "dtype": "f8"
           },
           "legendgroup": "Coldwave",
           "lon": {
            "bdata": "AAAAAAAgVEDNzMzMzExUQAAAAAAAYFVAZmZmZmYmVEDNzMzMzIxVQJqZmZmZuVRAZmZmZmYmVUAzMzMzM3NUQM3MzMzMjFRAZmZmZmZmVUCamZmZmflUQJqZmZmZGVVAzczMzMwMVUBmZmZmZoZUQHsUrkfh6lRAMzMzMzNTVUBmZmZmZpZUQDMzMzMzs1VAZmZmZmYGVUA=",
            "dtype": "f8"
           },
           "marker": {
            "color": "#00cc96",
            "size": {
             "bdata": "AwYBAwQIAwkDAQEBCAgHBQMKAQ==",
             "dtype": "i1"
            },
            "sizemode": "area",
            "sizeref": 0.0275,
            "symbol": "circle"
           },
           "mode": "markers+text",
           "name": "Coldwave",
           "showlegend": true,
           "text": [
            "Baitadi",
            "Bajang",
            "Bhaktapur",
            "Darchula",
            "Dolkha",
            "Dolpa",
            "Gorkha",
            "Humla",
            "Jumla",
            "Kabhre",
            "Kaski",
            "Lamjung",
            "Manang",
            "Mugu",
            "Mustang",
            "Rasuwa",
            "Rukum",
            "Solukhumbu",
            "Tanahun"
           ],
           "type": "scattergeo"
          }
         ],
         "name": "1984.0"
        },
        {
         "data": [
          {
           "geo": "geo",
           "hovertemplate": "event_type=Heatwave<br>Year=1987.0<br>Extreme Event Count=%{marker.size}<br>District=%{text}<br>lat=%{lat}<br>lon=%{lon}<extra></extra>",
           "lat": {
            "bdata": "ZmZmZmbmO0CamZmZmRk8QDMzMzMzczxAMzMzMzOzO0AzMzMzM7M6QDMzMzMzszxAMzMzMzOzOkBmZmZmZmY7QJqZmZmZmTtAZmZmZmbmO0DNzMzMzMw6QFK4HoXrkTtAAAAAAAAAO0A=",
            "dtype": "f8"
           },
           "legendgroup": "Heatwave",
           "lon": {
            "bdata": "zczMzMzMVEDNzMzMzGxUQDMzMzMzU1RAmpmZmZkZVUCamZmZmXlVQDMzMzMzM1RAMzMzMzNzVUAAAAAAAEBVQAAAAAAAAFVAAAAAAADgVEAzMzMzM1NVQK5H4XoU3lRAzczMzMxcVUA=",
            "dtype": "f8"
           },
           "marker": {
            "color": "#636efa",
            "size": {
             "bdata": "AQEBAQMBAwEBAQMBAQ==",
             "dtype": "i1"
            },
            "sizemode": "area",
            "sizeref": 0.0275,
            "symbol": "circle"
           },
           "mode": "markers+text",
           "name": "Heatwave",
           "showlegend": true,
           "text": [
            "Arghakhanchi",
            "Banke",
            "Bardiya",
            "Chitawan",
            "Dhanusa",
            "Kailali",
            "Mahottari",
            "Makwanpur",
            "Nawalparasi",
            "Palpa",
            "Routahat",
            "Rupandehi",
            "Sarlahi"
           ],
           "type": "scattergeo"
          },
          {
           "geo": "geo",
           "hovertemplate": "event_type=Heavy Rain<br>Year=1987.0<br>Extreme Event Count=%{marker.size}<br>District=%{text}<br>lat=%{lat}<br>lon=%{lon}<extra></extra>",
           "lat": {
            "bdata": "ZmZmZmbmO0AAAAAAAAA7QDMzMzMzszpAZmZmZmbmOkAzMzMzM7M6QDMzMzMzszpAZmZmZmZmO0AAAAAAAIA6QM3MzMzMTDtAZmZmZmbmO0CamZmZmRk7QM3MzMzMzDpAUrgeheuRO0DNzMzMzEw7QJqZmZmZmTpAAAAAAAAAO0AzMzMzMzM7QAAAAAAAwDpAZmZmZmZmO0CamZmZmRk7QGZmZmZm5jpA",
            "dtype": "f8"
           },
           "legendgroup": "Heavy Rain",
           "lon": {
            "bdata": "zczMzMzMVEAzMzMzM9NVQJqZmZmZeVVAAAAAAAAAVkCamZmZmflVQDMzMzMzc1VAAAAAAABAVUAzMzMzM9NVQAAAAAAAoFVAAAAAAADgVEAzMzMzM/NVQDMzMzMzU1VArkfhehTeVEAzMzMzM9NVQDMzMzMzs1VAzczMzMxcVUCamZmZmXlVQDMzMzMz01VAzczMzMzsVUAAAAAAAOBVQAAAAAAAoFVA",
            "dtype": "f8"
           },
           "marker": {
            "color": "#EF553B",
            "size": {
             "bdata": "AQEDAgEDAQEBAQEDAQEBAgEBAQEB",
             "dtype": "i1"
            },
            "sizemode": "area",
            "sizeref": 0.0275,
            "symbol": "circle"
           },
           "mode": "markers+text",
           "name": "Heavy Rain",
           "showlegend": true,
           "text": [
            "Arghakhanchi",
            "Dhankuta",
            "Dhanusa",
            "Ilam",
            "Jhapa",
            "Mahottari",
            "Makwanpur",
            "Morang",
            "Okhaldhunga",
            "Palpa",
            "Panchther",
            "Routahat",
            "Rupandehi",
            "Sankhuwasabha",
            "Saptari",
            "Sarlahi",
            "Sindhuli",
            "Sunsari",
            "Taplejung",
            "Terhathum",
            "Udayapur"
           ],
           "type": "scattergeo"
          },
          {
           "geo": "geo",
           "hovertemplate": "event_type=Coldwave<br>Year=1987.0<br>Extreme Event Count=%{marker.size}<br>District=%{text}<br>lat=%{lat}<br>lon=%{lon}<extra></extra>",
           "lat": {
            "bdata": "AAAAAACAPUCamZmZmZk9QGZmZmZm5j1AmpmZmZmZO0AAAAAAAAA9QAAAAAAAADxAAAAAAAAAPkDNzMzMzEw9QJqZmZmZmTxAAAAAAACAPUAzMzMzM7M8QJqZmZmZGTxAZmZmZmamPEAAAAAAAAA8QA==",
            "dtype": "f8"
           },
           "legendgroup": "Coldwave",
           "lon": {
            "bdata": "AAAAAAAgVEDNzMzMzExUQGZmZmZmJlRAzczMzMyMVUCamZmZmblUQGZmZmZmJlVAMzMzMzNzVEDNzMzMzIxUQM3MzMzMDFVAZmZmZmaGVEB7FK5H4epUQDMzMzMzU1VAZmZmZmaWVEAzMzMzM7NVQA==",
            "dtype": "f8"
           },
           "marker": {
            "color": "#00cc96",
            "size": {
             "bdata": "AwYDBAkCCgIICQgFAgo=",
             "dtype": "i1"
            },
            "sizemode": "area",
            "sizeref": 0.0275,
            "symbol": "circle"
           },
           "mode": "markers+text",
           "name": "Coldwave",
           "showlegend": true,
           "text": [
            "Baitadi",
            "Bajang",
            "Darchula",
            "Dolkha",
            "Dolpa",
            "Gorkha",
            "Humla",
            "Jumla",
            "Manang",
            "Mugu",
            "Mustang",
            "Rasuwa",
            "Rukum",
            "Solukhumbu"
           ],
           "type": "scattergeo"
          }
         ],
         "name": "1987.0"
        },
        {
         "data": [
          {
           "geo": "geo",
           "hovertemplate": "event_type=Heatwave<br>Year=1988.0<br>Extreme Event Count=%{marker.size}<br>District=%{text}<br>lat=%{lat}<br>lon=%{lon}<extra></extra>",
           "lat": {
            "bdata": "ZmZmZmbmO0CamZmZmRk8QDMzMzMzczxAMzMzMzOzOkAzMzMzM7M8QDMzMzMzszpAzczMzMzMOkA=",
            "dtype": "f8"
           },
           "legendgroup": "Heatwave",
           "lon": {
            "bdata": "zczMzMzMVEDNzMzMzGxUQDMzMzMzU1RAmpmZmZl5VUAzMzMzMzNUQDMzMzMzc1VAMzMzMzNTVUA=",
            "dtype": "f8"
           },
           "marker": {
            "color": "#636efa",
            "size": {
             "bdata": "AQECAgECAw==",
             "dtype": "i1"
            },
            "sizemode": "area",
            "sizeref": 0.0275,
            "symbol": "circle"
           },
           "mode": "markers+text",
           "name": "Heatwave",
           "showlegend": true,
           "text": [
            "Arghakhanchi",
            "Banke",
            "Bardiya",
            "Dhanusa",
            "Kailali",
            "Mahottari",
            "Routahat"
           ],
           "type": "scattergeo"
          },
          {
           "geo": "geo",
           "hovertemplate": "event_type=Heavy Rain<br>Year=1988.0<br>Extreme Event Count=%{marker.size}<br>District=%{text}<br>lat=%{lat}<br>lon=%{lon}<extra></extra>",
           "lat": {
            "bdata": "ZmZmZmbmO0DNzMzMzEw8QJqZmZmZGTxAMzMzMzNzPEAzMzMzM7M7QM3MzMzMTD1AzczMzMzMPEDNzMzMzAw8QDMzMzMzsztAAAAAAAAAO0AzMzMzM7M6QM3MzMzMTD1AmpmZmZkZPEBmZmZmZuY6QDMzMzMzszpAzczMzMxMPUAzMzMzM7M8QAAAAAAAAD1AMzMzMzMzPEB7FK5H4bo7QOF6FK5HoTtAzczMzMxMPEAzMzMzM7M6QGZmZmZmZjtAAAAAAACAOkBmZmZmZmY8QJqZmZmZmTtAmpmZmZnZO0DNzMzMzEw7QGZmZmZm5jtAmpmZmZkZO0AzMzMzMzM8QM3MzMzMzDpAZmZmZmamPEBSuB6F65E7QGZmZmZmZjxAzczMzMxMO0CamZmZmZk6QAAAAAAAADtAMzMzMzMzO0AAAAAAAMA6QAAAAAAAwDxAAAAAAAAAPEAAAAAAAAA8QGZmZmZmZjtAmpmZmZkZO0BmZmZmZuY6QA==",
            "dtype": "f8"
           },
           "legendgroup": "Heavy Rain",
           "lon": {
            "bdata": "zczMzMzMVEBmZmZmZuZUQM3MzMzMbFRAMzMzMzNTVECamZmZmRlVQGZmZmZmJlRAzczMzMxsVECamZmZmZlUQM3MzMzMTFVAMzMzMzPTVUCamZmZmXlVQM3MzMzMPFRAzczMzMzMVEAAAAAAAABWQJqZmZmZ+VVAzczMzMyMVEAzMzMzMzNUQM3MzMzMDFRAmpmZmZn5VEBI4XoUrldVQIXrUbgeVVVAmpmZmZkZVUAzMzMzM3NVQAAAAAAAQFVAMzMzMzPTVUBmZmZmZuZUQAAAAAAAAFVAAAAAAABQVUAAAAAAAKBVQAAAAAAA4FRAMzMzMzPzVUDNzMzMzOxUQDMzMzMzU1VAZmZmZmaWVECuR+F6FN5UQGZmZmZmhlRAMzMzMzPTVUAzMzMzM7NVQM3MzMzMXFVAmpmZmZl5VUAzMzMzM9NVQJqZmZmZWVRAZmZmZmb2VEBmZmZmZgZVQM3MzMzM7FVAAAAAAADgVUAAAAAAAKBVQA==",
            "dtype": "f8"
           },
           "marker": {
            "color": "#EF553B",
            "size": {
             "bdata": "AgECAgEBAgIBAQIBAgEBAQICAQEBAQIBAQECAQECAQECAgICAQECAQECAgEBAQE=",
             "dtype": "i1"
            },
            "sizemode": "area",
            "sizeref": 0.0275,
            "symbol": "circle"
           },
           "mode": "markers+text",
           "name": "Heavy Rain",
           "showlegend": true,
           "text": [
            "Arghakhanchi",
            "Baglung",
            "Banke",
            "Bardiya",
            "Chitawan",
            "Dadeldhura",
            "Dailekh",
            "Dang",
            "Dhading",
            "Dhankuta",
            "Dhanusa",
            "Doti",
            "Gulmi",
            "Ilam",
            "Jhapa",
            "Jumla",
            "Kailali",
            "Kanchanpur",
            "Kaski",
            "Kathmandu",
            "Lalitpur",
            "Lamjung",
            "Mahottari",
            "Makwanpur",
            "Morang",
            "Myagdi",
            "Nawalparasi",
            "Nuwakot",
            "Okhaldhunga",
            "Palpa",
            "Panchther",
            "Parbat",
            "Routahat",
            "Rukum",
            "Rupandehi",
            "Salyan",
            "Sankhuwasabha",
            "Saptari",
            "Sarlahi",
            "Sindhuli",
            "Sunsari",
            "Surkhet",
            "Syangja",
            "Tanahun",
            "Taplejung",
            "Terhathum",
            "Udayapur"
           ],
           "type": "scattergeo"
          },
          {
           "geo": "geo",
           "hovertemplate": "event_type=Coldwave<br>Year=1988.0<br>Extreme Event Count=%{marker.size}<br>District=%{text}<br>lat=%{lat}<br>lon=%{lon}<extra></extra>",
           "lat": {
            "bdata": "AAAAAACAPUCamZmZmZk9QGZmZmZm5j1AmpmZmZmZO0AAAAAAAAA9QAAAAAAAADxAAAAAAAAAPkDNzMzMzEw9QJqZmZmZmTxAAAAAAACAPUAzMzMzM7M8QJqZmZmZGTxAZmZmZmamPEAAAAAAAAA8QA==",
            "dtype": "f8"
           },
           "legendgroup": "Coldwave",
           "lon": {
            "bdata": "AAAAAAAgVEDNzMzMzExUQGZmZmZmJlRAzczMzMyMVUCamZmZmblUQGZmZmZmJlVAMzMzMzNzVEDNzMzMzIxUQM3MzMzMDFVAZmZmZmaGVEB7FK5H4epUQDMzMzMzU1VAZmZmZmaWVEAzMzMzM7NVQA==",
            "dtype": "f8"
           },
           "marker": {
            "color": "#00cc96",
            "size": {
             "bdata": "BAUEBAgCCgIICAgFAQo=",
             "dtype": "i1"
            },
            "sizemode": "area",
            "sizeref": 0.0275,
            "symbol": "circle"
           },
           "mode": "markers+text",
           "name": "Coldwave",
           "showlegend": true,
           "text": [
            "Baitadi",
            "Bajang",
            "Darchula",
            "Dolkha",
            "Dolpa",
            "Gorkha",
            "Humla",
            "Jumla",
            "Manang",
            "Mugu",
            "Mustang",
            "Rasuwa",
            "Rukum",
            "Solukhumbu"
           ],
           "type": "scattergeo"
          }
         ],
         "name": "1988.0"
        },
        {
         "data": [
          {
           "geo": "geo",
           "hovertemplate": "event_type=Heatwave<br>Year=1991.0<br>Extreme Event Count=%{marker.size}<br>District=%{text}<br>lat=%{lat}<br>lon=%{lon}<extra></extra>",
           "lat": {
            "bdata": "ZmZmZmbmO0CamZmZmRk8QDMzMzMzczxAMzMzMzOzO0AzMzMzM7M6QDMzMzMzszxAMzMzMzOzOkBmZmZmZmY7QJqZmZmZmTtAZmZmZmbmO0DNzMzMzMw6QFK4HoXrkTtAmpmZmZmZOkAAAAAAAAA7QGZmZmZm5jpA",
            "dtype": "f8"
           },
           "legendgroup": "Heatwave",
           "lon": {
            "bdata": "zczMzMzMVEDNzMzMzGxUQDMzMzMzU1RAmpmZmZkZVUCamZmZmXlVQDMzMzMzM1RAMzMzMzNzVUAAAAAAAEBVQAAAAAAAAFVAAAAAAADgVEAzMzMzM1NVQK5H4XoU3lRAMzMzMzOzVUDNzMzMzFxVQAAAAAAAoFVA",
            "dtype": "f8"
           },
           "marker": {
            "color": "#636efa",
            "size": {
             "bdata": "AQECAQIBAgEBAQMBAQEB",
             "dtype": "i1"
            },
            "sizemode": "area",
            "sizeref": 0.0275,
            "symbol": "circle"
           },
           "mode": "markers+text",
           "name": "Heatwave",
           "showlegend": true,
           "text": [
            "Arghakhanchi",
            "Banke",
            "Bardiya",
            "Chitawan",
            "Dhanusa",
            "Kailali",
            "Mahottari",
            "Makwanpur",
            "Nawalparasi",
            "Palpa",
            "Routahat",
            "Rupandehi",
            "Saptari",
            "Sarlahi",
            "Udayapur"
           ],
           "type": "scattergeo"
          },
          {
           "geo": "geo",
           "hovertemplate": "event_type=Heavy Rain<br>Year=1991.0<br>Extreme Event Count=%{marker.size}<br>District=%{text}<br>lat=%{lat}<br>lon=%{lon}<extra></extra>",
           "lat": {
            "bdata": "mpmZmZkZPEBmZmZmZuY6QDMzMzMzszpA",
            "dtype": "f8"
           },
           "legendgroup": "Heavy Rain",
           "lon": {
            "bdata": "zczMzMxsVEAAAAAAAABWQJqZmZmZ+VVA",
            "dtype": "f8"
           },
           "marker": {
            "color": "#EF553B",
            "size": {
             "bdata": "AQEB",
             "dtype": "i1"
            },
            "sizemode": "area",
            "sizeref": 0.0275,
            "symbol": "circle"
           },
           "mode": "markers+text",
           "name": "Heavy Rain",
           "showlegend": true,
           "text": [
            "Banke",
            "Ilam",
            "Jhapa"
           ],
           "type": "scattergeo"
          },
          {
           "geo": "geo",
           "hovertemplate": "event_type=Coldwave<br>Year=1991.0<br>Extreme Event Count=%{marker.size}<br>District=%{text}<br>lat=%{lat}<br>lon=%{lon}<extra></extra>",
           "lat": {
            "bdata": "AAAAAACAPUCamZmZmZk9QDMzMzMzsztAZmZmZmbmPUCamZmZmZk7QAAAAAAAAD1AAAAAAAAAPEAAAAAAAAA+QM3MzMzMTD1AmpmZmZmZO0DNzMzMzEw8QJqZmZmZmTxAAAAAAACAPUAzMzMzM7M8QJqZmZmZGTxAZmZmZmamPEAAAAAAAAA8QAAAAAAAADxA",
            "dtype": "f8"
           },
           "legendgroup": "Coldwave",
           "lon": {
            "bdata": "AAAAAAAgVEDNzMzMzExUQAAAAAAAYFVAZmZmZmYmVEDNzMzMzIxVQJqZmZmZuVRAZmZmZmYmVUAzMzMzM3NUQM3MzMzMjFRAZmZmZmZmVUCamZmZmRlVQM3MzMzMDFVAZmZmZmaGVEB7FK5H4epUQDMzMzMzU1VAZmZmZmaWVEAzMzMzM7NVQGZmZmZmBlVA",
            "dtype": "f8"
           },
           "marker": {
            "color": "#00cc96",
            "size": {
             "bdata": "BAcBBAUIAwoDAQEICAgFAwoB",
             "dtype": "i1"
            },
            "sizemode": "area",
            "sizeref": 0.0275,
            "symbol": "circle"
           },
           "mode": "markers+text",
           "name": "Coldwave",
           "showlegend": true,
           "text": [
            "Baitadi",
            "Bajang",
            "Bhaktapur",
            "Darchula",
            "Dolkha",
            "Dolpa",
            "Gorkha",
            "Humla",
            "Jumla",
            "Kabhre",
            "Lamjung",
            "Manang",
            "Mugu",
            "Mustang",
            "Rasuwa",
            "Rukum",
            "Solukhumbu",
            "Tanahun"
           ],
           "type": "scattergeo"
          }
         ],
         "name": "1991.0"
        },
        {
         "data": [
          {
           "geo": "geo",
           "hovertemplate": "event_type=Heatwave<br>Year=1994.0<br>Extreme Event Count=%{marker.size}<br>District=%{text}<br>lat=%{lat}<br>lon=%{lon}<extra></extra>",
           "lat": {
            "bdata": "ZmZmZmbmO0CamZmZmRk8QDMzMzMzczxAMzMzMzOzOkAzMzMzM7M8QDMzMzMzszpAzczMzMzMOkAAAAAAAAA7QA==",
            "dtype": "f8"
           },
           "legendgroup": "Heatwave",
           "lon": {
            "bdata": "zczMzMzMVEDNzMzMzGxUQDMzMzMzU1RAmpmZmZl5VUAzMzMzMzNUQDMzMzMzc1VAMzMzMzNTVUDNzMzMzFxVQA==",
            "dtype": "f8"
           },
           "marker": {
            "color": "#636efa",
            "size": {
             "bdata": "AQECAwIDAwE=",
             "dtype": "i1"
            },
            "sizemode": "area",
            "sizeref": 0.0275,
            "symbol": "circle"
           },
           "mode": "markers+text",
           "name": "Heatwave",
           "showlegend": true,
           "text": [
            "Arghakhanchi",
            "Banke",
            "Bardiya",
            "Dhanusa",
            "Kailali",
            "Mahottari",
            "Routahat",
            "Sarlahi"
           ],
           "type": "scattergeo"
          },
          {
           "geo": "geo",
           "hovertemplate": "event_type=Heavy Rain<br>Year=1994.0<br>Extreme Event Count=%{marker.size}<br>District=%{text}<br>lat=%{lat}<br>lon=%{lon}<extra></extra>",
           "lat": {
            "bdata": "AAAAAAAAPUA=",
            "dtype": "f8"
           },
           "legendgroup": "Heavy Rain",
           "lon": {
            "bdata": "zczMzMwMVEA=",
            "dtype": "f8"
           },
           "marker": {
            "color": "#EF553B",
            "size": {
             "bdata": "AQ==",
             "dtype": "i1"
            },
            "sizemode": "area",
            "sizeref": 0.0275,
            "symbol": "circle"
           },
           "mode": "markers+text",
           "name": "Heavy Rain",
           "showlegend": true,
           "text": [
            "Kanchanpur"
           ],
           "type": "scattergeo"
          },
          {
           "geo": "geo",
           "hovertemplate": "event_type=Coldwave<br>Year=1994.0<br>Extreme Event Count=%{marker.size}<br>District=%{text}<br>lat=%{lat}<br>lon=%{lon}<extra></extra>",
           "lat": {
            "bdata": "AAAAAACAPUCamZmZmZk9QGZmZmZm5j1AmpmZmZmZO0AAAAAAAAA9QAAAAAAAADxAAAAAAAAAPkDNzMzMzEw9QJqZmZmZmTxAAAAAAACAPUAzMzMzM7M8QJqZmZmZGTxAZmZmZmamPEAAAAAAAAA8QA==",
            "dtype": "f8"
           },
           "legendgroup": "Coldwave",
           "lon": {
            "bdata": "AAAAAAAgVEDNzMzMzExUQGZmZmZmJlRAzczMzMyMVUCamZmZmblUQGZmZmZmJlVAMzMzMzNzVEDNzMzMzIxUQM3MzMzMDFVAZmZmZmaGVEB7FK5H4epUQDMzMzMzU1VAZmZmZmaWVEAzMzMzM7NVQA==",
            "dtype": "f8"
           },
           "marker": {
            "color": "#00cc96",
            "size": {
             "bdata": "AwYDBQgDCgMICAgFAwo=",
             "dtype": "i1"
            },
            "sizemode": "area",
            "sizeref": 0.0275,
            "symbol": "circle"
           },
           "mode": "markers+text",
           "name": "Coldwave",
           "showlegend": true,
           "text": [
            "Baitadi",
            "Bajang",
            "Darchula",
            "Dolkha",
            "Dolpa",
            "Gorkha",
            "Humla",
            "Jumla",
            "Manang",
            "Mugu",
            "Mustang",
            "Rasuwa",
            "Rukum",
            "Solukhumbu"
           ],
           "type": "scattergeo"
          }
         ],
         "name": "1994.0"
        },
        {
         "data": [
          {
           "geo": "geo",
           "hovertemplate": "event_type=Heatwave<br>Year=1995.0<br>Extreme Event Count=%{marker.size}<br>District=%{text}<br>lat=%{lat}<br>lon=%{lon}<extra></extra>",
           "lat": {
            "bdata": "ZmZmZmbmO0CamZmZmRk8QDMzMzMzczxAMzMzMzOzO0AzMzMzM7M6QDMzMzMzszxAMzMzMzOzOkBmZmZmZmY7QJqZmZmZmTtAZmZmZmbmO0DNzMzMzMw6QFK4HoXrkTtAmpmZmZmZOkAAAAAAAAA7QGZmZmZm5jpA",
            "dtype": "f8"
           },
           "legendgroup": "Heatwave",
           "lon": {
            "bdata": "zczMzMzMVEDNzMzMzGxUQDMzMzMzU1RAmpmZmZkZVUCamZmZmXlVQDMzMzMzM1RAMzMzMzNzVUAAAAAAAEBVQAAAAAAAAFVAAAAAAADgVEAzMzMzM1NVQK5H4XoU3lRAMzMzMzOzVUDNzMzMzFxVQAAAAAAAoFVA",
            "dtype": "f8"
           },
           "marker": {
            "color": "#636efa",
            "size": {
             "bdata": "AQECAQMCAwEBAQMBAQEB",
             "dtype": "i1"
            },
            "sizemode": "area",
            "sizeref": 0.0275,
            "symbol": "circle"
           },
           "mode": "markers+text",
           "name": "Heatwave",
           "showlegend": true,
           "text": [
            "Arghakhanchi",
            "Banke",
            "Bardiya",
            "Chitawan",
            "Dhanusa",
            "Kailali",
            "Mahottari",
            "Makwanpur",
            "Nawalparasi",
            "Palpa",
            "Routahat",
            "Rupandehi",
            "Saptari",
            "Sarlahi",
            "Udayapur"
           ],
           "type": "scattergeo"
          },
          {
           "geo": "geo",
           "hovertemplate": "event_type=Coldwave<br>Year=1995.0<br>Extreme Event Count=%{marker.size}<br>District=%{text}<br>lat=%{lat}<br>lon=%{lon}<extra></extra>",
           "lat": {
            "bdata": "AAAAAACAPUCamZmZmZk9QDMzMzMzsztAZmZmZmbmPUCamZmZmZk7QAAAAAAAAD1AAAAAAAAAPEAAAAAAAAA+QM3MzMzMTD1AmpmZmZmZO0AzMzMzMzM8QM3MzMzMTDxAmpmZmZmZPEAAAAAAAIA9QDMzMzMzszxAmpmZmZkZPEBmZmZmZqY8QAAAAAAAADxAAAAAAAAAPEA=",
            "dtype": "f8"
           },
           "legendgroup": "Coldwave",
           "lon": {
            "bdata": "AAAAAAAgVEDNzMzMzExUQAAAAAAAYFVAZmZmZmYmVEDNzMzMzIxVQJqZmZmZuVRAZmZmZmYmVUAzMzMzM3NUQM3MzMzMjFRAZmZmZmZmVUCamZmZmflUQJqZmZmZGVVAzczMzMwMVUBmZmZmZoZUQHsUrkfh6lRAMzMzMzNTVUBmZmZmZpZUQDMzMzMzs1VAZmZmZmYGVUA=",
            "dtype": "f8"
           },
           "marker": {
            "color": "#00cc96",
            "size": {
             "bdata": "AwYBAwQIAwoDAQEBCAgHBQMKAQ==",
             "dtype": "i1"
            },
            "sizemode": "area",
            "sizeref": 0.0275,
            "symbol": "circle"
           },
           "mode": "markers+text",
           "name": "Coldwave",
           "showlegend": true,
           "text": [
            "Baitadi",
            "Bajang",
            "Bhaktapur",
            "Darchula",
            "Dolkha",
            "Dolpa",
            "Gorkha",
            "Humla",
            "Jumla",
            "Kabhre",
            "Kaski",
            "Lamjung",
            "Manang",
            "Mugu",
            "Mustang",
            "Rasuwa",
            "Rukum",
            "Solukhumbu",
            "Tanahun"
           ],
           "type": "scattergeo"
          }
         ],
         "name": "1995.0"
        },
        {
         "data": [
          {
           "geo": "geo",
           "hovertemplate": "event_type=Heatwave<br>Year=1996.0<br>Extreme Event Count=%{marker.size}<br>District=%{text}<br>lat=%{lat}<br>lon=%{lon}<extra></extra>",
           "lat": {
            "bdata": "ZmZmZmbmO0CamZmZmRk8QDMzMzMzczxAMzMzMzOzOkAzMzMzM7M8QDMzMzMzszpAZmZmZmZmO0BmZmZmZuY7QM3MzMzMzDpAUrgeheuRO0CamZmZmZk6QAAAAAAAADtAZmZmZmbmOkA=",
            "dtype": "f8"
           },
           "legendgroup": "Heatwave",
           "lon": {
            "bdata": "zczMzMzMVEDNzMzMzGxUQDMzMzMzU1RAmpmZmZl5VUAzMzMzMzNUQDMzMzMzc1VAAAAAAABAVUAAAAAAAOBUQDMzMzMzU1VArkfhehTeVEAzMzMzM7NVQM3MzMzMXFVAAAAAAACgVUA=",
            "dtype": "f8"
           },
           "marker": {
            "color": "#636efa",
            "size": {
             "bdata": "AQEBAgECAQEDAQEBAQ==",
             "dtype": "i1"
            },
            "sizemode": "area",
            "sizeref": 0.0275,
            "symbol": "circle"
           },
           "mode": "markers+text",
           "name": "Heatwave",
           "showlegend": true,
           "text": [
            "Arghakhanchi",
            "Banke",
            "Bardiya",
            "Dhanusa",
            "Kailali",
            "Mahottari",
            "Makwanpur",
            "Palpa",
            "Routahat",
            "Rupandehi",
            "Saptari",
            "Sarlahi",
            "Udayapur"
           ],
           "type": "scattergeo"
          },
          {
           "geo": "geo",
           "hovertemplate": "event_type=Heavy Rain<br>Year=1996.0<br>Extreme Event Count=%{marker.size}<br>District=%{text}<br>lat=%{lat}<br>lon=%{lon}<extra></extra>",
           "lat": {
            "bdata": "ZmZmZmbmOkAzMzMzM7M6QA==",
            "dtype": "f8"
           },
           "legendgroup": "Heavy Rain",
           "lon": {
            "bdata": "AAAAAAAAVkCamZmZmflVQA==",
            "dtype": "f8"
           },
           "marker": {
            "color": "#EF553B",
            "size": {
             "bdata": "AQE=",
             "dtype": "i1"
            },
            "sizemode": "area",
            "sizeref": 0.0275,
            "symbol": "circle"
           },
           "mode": "markers+text",
           "name": "Heavy Rain",
           "showlegend": true,
           "text": [
            "Ilam",
            "Jhapa"
           ],
           "type": "scattergeo"
          },
          {
           "geo": "geo",
           "hovertemplate": "event_type=Coldwave<br>Year=1996.0<br>Extreme Event Count=%{marker.size}<br>District=%{text}<br>lat=%{lat}<br>lon=%{lon}<extra></extra>",
           "lat": {
            "bdata": "AAAAAACAPUCamZmZmZk9QDMzMzMzsztAZmZmZmbmPUCamZmZmZk7QAAAAAAAAD1AAAAAAAAAPEAAAAAAAAA+QM3MzMzMTD1AmpmZmZmZO0DNzMzMzEw8QJqZmZmZmTxAAAAAAACAPUAzMzMzM7M8QJqZmZmZGTxAZmZmZmamPEAAAAAAAAA8QAAAAAAAADxA",
            "dtype": "f8"
           },
           "legendgroup": "Coldwave",
           "lon": {
            "bdata": "AAAAAAAgVEDNzMzMzExUQAAAAAAAYFVAZmZmZmYmVEDNzMzMzIxVQJqZmZmZuVRAZmZmZmYmVUAzMzMzM3NUQM3MzMzMjFRAZmZmZmZmVUCamZmZmRlVQM3MzMzMDFVAZmZmZmaGVEB7FK5H4epUQDMzMzMzU1VAZmZmZmaWVEAzMzMzM7NVQGZmZmZmBlVA",
            "dtype": "f8"
           },
           "marker": {
            "color": "#00cc96",
            "size": {
             "bdata": "AwYBAwMIAwkCAQEICAgFAgoB",
             "dtype": "i1"
            },
            "sizemode": "area",
            "sizeref": 0.0275,
            "symbol": "circle"
           },
           "mode": "markers+text",
           "name": "Coldwave",
           "showlegend": true,
           "text": [
            "Baitadi",
            "Bajang",
            "Bhaktapur",
            "Darchula",
            "Dolkha",
            "Dolpa",
            "Gorkha",
            "Humla",
            "Jumla",
            "Kabhre",
            "Lamjung",
            "Manang",
            "Mugu",
            "Mustang",
            "Rasuwa",
            "Rukum",
            "Solukhumbu",
            "Tanahun"
           ],
           "type": "scattergeo"
          }
         ],
         "name": "1996.0"
        },
        {
         "data": [
          {
           "geo": "geo",
           "hovertemplate": "event_type=Heatwave<br>Year=2012.0<br>Extreme Event Count=%{marker.size}<br>District=%{text}<br>lat=%{lat}<br>lon=%{lon}<extra></extra>",
           "lat": {
            "bdata": "ZmZmZmbmO0CamZmZmRk8QDMzMzMzczxAMzMzMzOzOkAzMzMzM7M8QDMzMzMzszpAZmZmZmZmO0DNzMzMzMw6QAAAAAAAADtA",
            "dtype": "f8"
           },
           "legendgroup": "Heatwave",
           "lon": {
            "bdata": "zczMzMzMVEDNzMzMzGxUQDMzMzMzU1RAmpmZmZl5VUAzMzMzMzNUQDMzMzMzc1VAAAAAAABAVUAzMzMzM1NVQM3MzMzMXFVA",
            "dtype": "f8"
           },
           "marker": {
            "color": "#636efa",
            "size": {
             "bdata": "AgICAgICAQMB",
             "dtype": "i1"
            },
            "sizemode": "area",
            "sizeref": 0.0275,
            "symbol": "circle"
           },
           "mode": "markers+text",
           "name": "Heatwave",
           "showlegend": true,
           "text": [
            "Arghakhanchi",
            "Banke",
            "Bardiya",
            "Dhanusa",
            "Kailali",
            "Mahottari",
            "Makwanpur",
            "Routahat",
            "Sarlahi"
           ],
           "type": "scattergeo"
          },
          {
           "geo": "geo",
           "hovertemplate": "event_type=Heavy Rain<br>Year=2012.0<br>Extreme Event Count=%{marker.size}<br>District=%{text}<br>lat=%{lat}<br>lon=%{lon}<extra></extra>",
           "lat": {
            "bdata": "ZmZmZmbmO0DNzMzMzEw8QJqZmZmZGTxAMzMzMzNzPEAzMzMzM7M7QM3MzMzMzDxAzczMzMwMPEAzMzMzM7M7QAAAAAAAADtAMzMzMzOzOkAAAAAAAAA8QJqZmZmZGTxAZmZmZmbmOkAzMzMzM7M6QDMzMzMzszxAAAAAAAAAPUAzMzMzMzM8QHsUrkfhujtA4XoUrkehO0DNzMzMzEw8QDMzMzMzszpAZmZmZmZmO0AAAAAAAIA6QDMzMzMzszxAZmZmZmZmPECamZmZmZk7QJqZmZmZ2TtAZmZmZmbmO0CamZmZmRk7QDMzMzMzMzxAzczMzMzMOkBmZmZmZqY8QFK4HoXrkTtAZmZmZmZmPEDNzMzMzEw7QJqZmZmZmTpAAAAAAAAAO0AzMzMzMzM7QAAAAAAAwDpAAAAAAADAPEAAAAAAAAA8QAAAAAAAADxAZmZmZmZmO0CamZmZmRk7QGZmZmZm5jpA",
            "dtype": "f8"
           },
           "legendgroup": "Heavy Rain",
           "lon": {
            "bdata": "zczMzMzMVEBmZmZmZuZUQM3MzMzMbFRAMzMzMzNTVECamZmZmRlVQM3MzMzMbFRAmpmZmZmZVEDNzMzMzExVQDMzMzMz01VAmpmZmZl5VUBmZmZmZiZVQM3MzMzMzFRAAAAAAAAAVkCamZmZmflVQDMzMzMzM1RAzczMzMwMVECamZmZmflUQEjhehSuV1VAhetRuB5VVUCamZmZmRlVQDMzMzMzc1VAAAAAAABAVUAzMzMzM9NVQHsUrkfh6lRAZmZmZmbmVEAAAAAAAABVQAAAAAAAUFVAAAAAAADgVEAzMzMzM/NVQM3MzMzM7FRAMzMzMzNTVUBmZmZmZpZUQK5H4XoU3lRAZmZmZmaGVEAzMzMzM9NVQDMzMzMzs1VAzczMzMxcVUCamZmZmXlVQDMzMzMz01VAmpmZmZlZVEBmZmZmZvZUQGZmZmZmBlVAzczMzMzsVUAAAAAAAOBVQAAAAAAAoFVA",
            "dtype": "f8"
           },
           "marker": {
            "color": "#EF553B",
            "size": {
             "bdata": "AwMDAwICAwIBAQEDAQECAQICAgIBAgEBAwICAwEDAgMDAwEBAQEBAgMCAQEB",
             "dtype": "i1"
            },
            "sizemode": "area",
            "sizeref": 0.0275,
            "symbol": "circle"
           },
           "mode": "markers+text",
           "name": "Heavy Rain",
           "showlegend": true,
           "text": [
            "Arghakhanchi",
            "Baglung",
            "Banke",
            "Bardiya",
            "Chitawan",
            "Dailekh",
            "Dang",
            "Dhading",
            "Dhankuta",
            "Dhanusa",
            "Gorkha",
            "Gulmi",
            "Ilam",
            "Jhapa",
            "Kailali",
            "Kanchanpur",
            "Kaski",
            "Kathmandu",
            "Lalitpur",
            "Lamjung",
            "Mahottari",
            "Makwanpur",
            "Morang",
            "Mustang",
            "Myagdi",
            "Nawalparasi",
            "Nuwakot",
            "Palpa",
            "Panchther",
            "Parbat",
            "Routahat",
            "Rukum",
            "Rupandehi",
            "Salyan",
            "Sankhuwasabha",
            "Saptari",
            "Sarlahi",
            "Sindhuli",
            "Sunsari",
            "Surkhet",
            "Syangja",
            "Tanahun",
            "Taplejung",
            "Terhathum",
            "Udayapur"
           ],
           "type": "scattergeo"
          },
          {
           "geo": "geo",
           "hovertemplate": "event_type=Coldwave<br>Year=2012.0<br>Extreme Event Count=%{marker.size}<br>District=%{text}<br>lat=%{lat}<br>lon=%{lon}<extra></extra>",
           "lat": {
            "bdata": "zczMzMxMPEAAAAAAAIA9QJqZmZmZmT1AMzMzMzOzO0BmZmZmZuY9QJqZmZmZmTtAAAAAAAAAPUAAAAAAAAA8QAAAAAAAAD5AzczMzMxMPUCamZmZmZk7QDMzMzMzMzxAzczMzMxMPECamZmZmZk8QAAAAAAAgD1AMzMzMzOzPEBmZmZmZmY8QDMzMzMzMzxAmpmZmZkZPEBmZmZmZqY8QAAAAAAAADxAAAAAAAAAPEA=",
            "dtype": "f8"
           },
           "legendgroup": "Coldwave",
           "lon": {
            "bdata": "ZmZmZmbmVEAAAAAAACBUQM3MzMzMTFRAAAAAAABgVUBmZmZmZiZUQM3MzMzMjFVAmpmZmZm5VEBmZmZmZiZVQDMzMzMzc1RAzczMzMyMVEBmZmZmZmZVQJqZmZmZ+VRAmpmZmZkZVUDNzMzMzAxVQGZmZmZmhlRAexSuR+HqVEBmZmZmZuZUQM3MzMzM7FRAMzMzMzNTVUBmZmZmZpZUQDMzMzMzs1VAZmZmZmYGVUA=",
            "dtype": "f8"
           },
           "marker": {
            "color": "#00cc96",
            "size": {
             "bdata": "AQQFAQQFCAMJAwEBAQgICAEBBQIKAQ==",
             "dtype": "i1"
            },
            "sizemode": "area",
            "sizeref": 0.0275,
            "symbol": "circle"
           },
           "mode": "markers+text",
           "name": "Coldwave",
           "showlegend": true,
           "text": [
            "Baglung",
            "Baitadi",
            "Bajang",
            "Bhaktapur",
            "Darchula",
            "Dolkha",
            "Dolpa",
            "Gorkha",
            "Humla",
            "Jumla",
            "Kabhre",
            "Kaski",
            "Lamjung",
            "Manang",
            "Mugu",
            "Mustang",
            "Myagdi",
            "Parbat",
            "Rasuwa",
            "Rukum",
            "Solukhumbu",
            "Tanahun"
           ],
           "type": "scattergeo"
          }
         ],
         "name": "2012.0"
        },
        {
         "data": [
          {
           "geo": "geo",
           "hovertemplate": "event_type=Heatwave<br>Year=1981.0<br>Extreme Event Count=%{marker.size}<br>District=%{text}<br>lat=%{lat}<br>lon=%{lon}<extra></extra>",
           "lat": {
            "bdata": "MzMzMzNzPEAzMzMzM7M8QM3MzMzMzDpA",
            "dtype": "f8"
           },
           "legendgroup": "Heatwave",
           "lon": {
            "bdata": "MzMzMzNTVEAzMzMzMzNUQDMzMzMzU1VA",
            "dtype": "f8"
           },
           "marker": {
            "color": "#636efa",
            "size": {
             "bdata": "AQEC",
             "dtype": "i1"
            },
            "sizemode": "area",
            "sizeref": 0.0275,
            "symbol": "circle"
           },
           "mode": "markers+text",
           "name": "Heatwave",
           "showlegend": true,
           "text": [
            "Bardiya",
            "Kailali",
            "Routahat"
           ],
           "type": "scattergeo"
          },
          {
           "geo": "geo",
           "hovertemplate": "event_type=Heavy Rain<br>Year=1981.0<br>Extreme Event Count=%{marker.size}<br>District=%{text}<br>lat=%{lat}<br>lon=%{lon}<extra></extra>",
           "lat": {
            "bdata": "ZmZmZmbmO0DNzMzMzEw8QJqZmZmZGTxAMzMzMzNzPEAzMzMzM7M7QM3MzMzMTD1AzczMzMzMPEDNzMzMzAw8QDMzMzMzsztAAAAAAAAAO0AzMzMzM7M6QAAAAAAAAD1AzczMzMxMPUCamZmZmRk8QGZmZmZm5jpAMzMzMzOzOkDNzMzMzEw9QDMzMzMzszxAAAAAAAAAPUAzMzMzMzM8QHsUrkfhujtA4XoUrkehO0DNzMzMzEw8QDMzMzMzszpAZmZmZmZmO0AAAAAAAIA6QDMzMzMzszxAZmZmZmZmPECamZmZmZk7QJqZmZmZ2TtAZmZmZmbmO0CamZmZmRk7QDMzMzMzMzxAzczMzMzMOkBmZmZmZqY8QFK4HoXrkTtAZmZmZmZmPEDNzMzMzEw7QJqZmZmZmTpAAAAAAAAAO0AzMzMzMzM7QAAAAAAAwDpAAAAAAADAPEAAAAAAAAA8QAAAAAAAADxAZmZmZmZmO0CamZmZmRk7QGZmZmZm5jpA",
            "dtype": "f8"
           },
           "legendgroup": "Heavy Rain",
           "lon": {
            "bdata": "zczMzMzMVEBmZmZmZuZUQM3MzMzMbFRAMzMzMzNTVECamZmZmRlVQGZmZmZmJlRAzczMzMxsVECamZmZmZlUQM3MzMzMTFVAMzMzMzPTVUCamZmZmXlVQJqZmZmZuVRAzczMzMw8VEDNzMzMzMxUQAAAAAAAAFZAmpmZmZn5VUDNzMzMzIxUQDMzMzMzM1RAzczMzMwMVECamZmZmflUQEjhehSuV1VAhetRuB5VVUCamZmZmRlVQDMzMzMzc1VAAAAAAABAVUAzMzMzM9NVQHsUrkfh6lRAZmZmZmbmVEAAAAAAAABVQAAAAAAAUFVAAAAAAADgVEAzMzMzM/NVQM3MzMzM7FRAMzMzMzNTVUBmZmZmZpZUQK5H4XoU3lRAZmZmZmaGVEAzMzMzM9NVQDMzMzMzs1VAzczMzMxcVUCamZmZmXlVQDMzMzMz01VAmpmZmZlZVEBmZmZmZvZUQGZmZmZmBlVAzczMzMzsVUAAAAAAAOBVQAAAAAAAoFVA",
            "dtype": "f8"
           },
           "marker": {
            "color": "#EF553B",
            "size": {
             "bdata": "AgEBAQEBAQEBAQEBAQECAgEBAQEBAQEBAQIBAQEBAgIBAQECAQEBAQECAQEBAgIB",
             "dtype": "i1"
            },
            "sizemode": "area",
            "sizeref": 0.0275,
            "symbol": "circle"
           },
           "mode": "markers+text",
           "name": "Heavy Rain",
           "showlegend": true,
           "text": [
            "Arghakhanchi",
            "Baglung",
            "Banke",
            "Bardiya",
            "Chitawan",
            "Dadeldhura",
            "Dailekh",
            "Dang",
            "Dhading",
            "Dhankuta",
            "Dhanusa",
            "Dolpa",
            "Doti",
            "Gulmi",
            "Ilam",
            "Jhapa",
            "Jumla",
            "Kailali",
            "Kanchanpur",
            "Kaski",
            "Kathmandu",
            "Lalitpur",
            "Lamjung",
            "Mahottari",
            "Makwanpur",
            "Morang",
            "Mustang",
            "Myagdi",
            "Nawalparasi",
            "Nuwakot",
            "Palpa",
            "Panchther",
            "Parbat",
            "Routahat",
            "Rukum",
            "Rupandehi",
            "Salyan",
            "Sankhuwasabha",
            "Saptari",
            "Sarlahi",
            "Sindhuli",
            "Sunsari",
            "Surkhet",
            "Syangja",
            "Tanahun",
            "Taplejung",
            "Terhathum",
            "Udayapur"
           ],
           "type": "scattergeo"
          },
          {
           "geo": "geo",
           "hovertemplate": "event_type=Coldwave<br>Year=1981.0<br>Extreme Event Count=%{marker.size}<br>District=%{text}<br>lat=%{lat}<br>lon=%{lon}<extra></extra>",
           "lat": {
            "bdata": "AAAAAACAPUCamZmZmZk9QDMzMzMzsztAZmZmZmbmPUCamZmZmZk7QAAAAAAAAD1AAAAAAAAAPEAAAAAAAAA+QM3MzMzMTD1AmpmZmZmZO0AzMzMzMzM8QM3MzMzMTDxAmpmZmZmZPEAAAAAAAIA9QDMzMzMzszxAmpmZmZkZPEBmZmZmZqY8QAAAAAAAADxAAAAAAAAAPEA=",
            "dtype": "f8"
           },
           "legendgroup": "Coldwave",
           "lon": {
            "bdata": "AAAAAAAgVEDNzMzMzExUQAAAAAAAYFVAZmZmZmYmVEDNzMzMzIxVQJqZmZmZuVRAZmZmZmYmVUAzMzMzM3NUQM3MzMzMjFRAZmZmZmZmVUCamZmZmflUQJqZmZmZGVVAzczMzMwMVUBmZmZmZoZUQHsUrkfh6lRAMzMzMzNTVUBmZmZmZpZUQDMzMzMzs1VAZmZmZmYGVUA=",
            "dtype": "f8"
           },
           "marker": {
            "color": "#00cc96",
            "size": {
             "bdata": "BAYBBAUIAwoDAQEBCAgHBQMKAQ==",
             "dtype": "i1"
            },
            "sizemode": "area",
            "sizeref": 0.0275,
            "symbol": "circle"
           },
           "mode": "markers+text",
           "name": "Coldwave",
           "showlegend": true,
           "text": [
            "Baitadi",
            "Bajang",
            "Bhaktapur",
            "Darchula",
            "Dolkha",
            "Dolpa",
            "Gorkha",
            "Humla",
            "Jumla",
            "Kabhre",
            "Kaski",
            "Lamjung",
            "Manang",
            "Mugu",
            "Mustang",
            "Rasuwa",
            "Rukum",
            "Solukhumbu",
            "Tanahun"
           ],
           "type": "scattergeo"
          }
         ],
         "name": "1981.0"
        },
        {
         "data": [
          {
           "geo": "geo",
           "hovertemplate": "event_type=Heatwave<br>Year=1982.0<br>Extreme Event Count=%{marker.size}<br>District=%{text}<br>lat=%{lat}<br>lon=%{lon}<extra></extra>",
           "lat": {
            "bdata": "MzMzMzOzOkAzMzMzM7M6QM3MzMzMzDpA",
            "dtype": "f8"
           },
           "legendgroup": "Heatwave",
           "lon": {
            "bdata": "mpmZmZl5VUAzMzMzM3NVQDMzMzMzU1VA",
            "dtype": "f8"
           },
           "marker": {
            "color": "#636efa",
            "size": {
             "bdata": "AQEC",
             "dtype": "i1"
            },
            "sizemode": "area",
            "sizeref": 0.0275,
            "symbol": "circle"
           },
           "mode": "markers+text",
           "name": "Heatwave",
           "showlegend": true,
           "text": [
            "Dhanusa",
            "Mahottari",
            "Routahat"
           ],
           "type": "scattergeo"
          },
          {
           "geo": "geo",
           "hovertemplate": "event_type=Heavy Rain<br>Year=1982.0<br>Extreme Event Count=%{marker.size}<br>District=%{text}<br>lat=%{lat}<br>lon=%{lon}<extra></extra>",
           "lat": {
            "bdata": "ZmZmZmbmO0CamZmZmRk8QGZmZmZm5jpAMzMzMzOzOkAzMzMzM7M8QAAAAAAAAD1AAAAAAACAOkCamZmZmZk7QGZmZmZm5jtAmpmZmZkZO0BSuB6F65E7QAAAAAAAwDpAAAAAAAAAPEBmZmZmZmY7QJqZmZmZGTtA",
            "dtype": "f8"
           },
           "legendgroup": "Heavy Rain",
           "lon": {
            "bdata": "zczMzMzMVEDNzMzMzMxUQAAAAAAAAFZAmpmZmZn5VUAzMzMzMzNUQM3MzMzMDFRAMzMzMzPTVUAAAAAAAABVQAAAAAAA4FRAMzMzMzPzVUCuR+F6FN5UQDMzMzMz01VAZmZmZmb2VEDNzMzMzOxVQAAAAAAA4FVA",
            "dtype": "f8"
           },
           "marker": {
            "color": "#EF553B",
            "size": {
             "bdata": "AQEBAQEBAQEBAQEBAQEB",
             "dtype": "i1"
            },
            "sizemode": "area",
            "sizeref": 0.0275,
            "symbol": "circle"
           },
           "mode": "markers+text",
           "name": "Heavy Rain",
           "showlegend": true,
           "text": [
            "Arghakhanchi",
            "Gulmi",
            "Ilam",
            "Jhapa",
            "Kailali",
            "Kanchanpur",
            "Morang",
            "Nawalparasi",
            "Palpa",
            "Panchther",
            "Rupandehi",
            "Sunsari",
            "Syangja",
            "Taplejung",
            "Terhathum"
           ],
           "type": "scattergeo"
          },
          {
           "geo": "geo",
           "hovertemplate": "event_type=Coldwave<br>Year=1982.0<br>Extreme Event Count=%{marker.size}<br>District=%{text}<br>lat=%{lat}<br>lon=%{lon}<extra></extra>",
           "lat": {
            "bdata": "AAAAAACAPUCamZmZmZk9QDMzMzMzsztAZmZmZmbmPUCamZmZmZk7QAAAAAAAAD1AAAAAAAAAPEAAAAAAAAA+QM3MzMzMTD1AmpmZmZmZO0AzMzMzMzM8QM3MzMzMTDxAmpmZmZmZPEAAAAAAAIA9QDMzMzMzszxAmpmZmZkZPEBmZmZmZqY8QAAAAAAAADxAAAAAAAAAPEA=",
            "dtype": "f8"
           },
           "legendgroup": "Coldwave",
           "lon": {
            "bdata": "AAAAAAAgVEDNzMzMzExUQAAAAAAAYFVAZmZmZmYmVEDNzMzMzIxVQJqZmZmZuVRAZmZmZmYmVUAzMzMzM3NUQM3MzMzMjFRAZmZmZmZmVUCamZmZmflUQJqZmZmZGVVAzczMzMwMVUBmZmZmZoZUQHsUrkfh6lRAMzMzMzNTVUBmZmZmZpZUQDMzMzMzs1VAZmZmZmYGVUA=",
            "dtype": "f8"
           },
           "marker": {
            "color": "#00cc96",
            "size": {
             "bdata": "BAUBBAUIAwoEAQEBCAgIBQQKAQ==",
             "dtype": "i1"
            },
            "sizemode": "area",
            "sizeref": 0.0275,
            "symbol": "circle"
           },
           "mode": "markers+text",
           "name": "Coldwave",
           "showlegend": true,
           "text": [
            "Baitadi",
            "Bajang",
            "Bhaktapur",
            "Darchula",
            "Dolkha",
            "Dolpa",
            "Gorkha",
            "Humla",
            "Jumla",
            "Kabhre",
            "Kaski",
            "Lamjung",
            "Manang",
            "Mugu",
            "Mustang",
            "Rasuwa",
            "Rukum",
            "Solukhumbu",
            "Tanahun"
           ],
           "type": "scattergeo"
          }
         ],
         "name": "1982.0"
        },
        {
         "data": [
          {
           "geo": "geo",
           "hovertemplate": "event_type=Heatwave<br>Year=1990.0<br>Extreme Event Count=%{marker.size}<br>District=%{text}<br>lat=%{lat}<br>lon=%{lon}<extra></extra>",
           "lat": {
            "bdata": "MzMzMzNzPEAzMzMzM7M6QDMzMzMzszxAMzMzMzOzOkDNzMzMzMw6QA==",
            "dtype": "f8"
           },
           "legendgroup": "Heatwave",
           "lon": {
            "bdata": "MzMzMzNTVECamZmZmXlVQDMzMzMzM1RAMzMzMzNzVUAzMzMzM1NVQA==",
            "dtype": "f8"
           },
           "marker": {
            "color": "#636efa",
            "size": {
             "bdata": "AgIBAgM=",
             "dtype": "i1"
            },
            "sizemode": "area",
            "sizeref": 0.0275,
            "symbol": "circle"
           },
           "mode": "markers+text",
           "name": "Heatwave",
           "showlegend": true,
           "text": [
            "Bardiya",
            "Dhanusa",
            "Kailali",
            "Mahottari",
            "Routahat"
           ],
           "type": "scattergeo"
          },
          {
           "geo": "geo",
           "hovertemplate": "event_type=Heavy Rain<br>Year=1990.0<br>Extreme Event Count=%{marker.size}<br>District=%{text}<br>lat=%{lat}<br>lon=%{lon}<extra></extra>",
           "lat": {
            "bdata": "ZmZmZmbmO0DNzMzMzEw8QJqZmZmZGTxAMzMzMzNzPEAzMzMzM7M7QM3MzMzMzDxAzczMzMwMPEAzMzMzM7M7QDMzMzMzszpAmpmZmZkZPEBmZmZmZuY6QDMzMzMzszpAMzMzMzOzPEAzMzMzMzM8QHsUrkfhujtA4XoUrkehO0DNzMzMzEw8QDMzMzMzszpAZmZmZmZmO0BmZmZmZmY8QJqZmZmZmTtAmpmZmZnZO0BmZmZmZuY7QDMzMzMzMzxAzczMzMzMOkBmZmZmZqY8QFK4HoXrkTtAZmZmZmZmPEAAAAAAAAA7QDMzMzMzMztAAAAAAADAPEAAAAAAAAA8QAAAAAAAADxA",
            "dtype": "f8"
           },
           "legendgroup": "Heavy Rain",
           "lon": {
            "bdata": "zczMzMzMVEBmZmZmZuZUQM3MzMzMbFRAMzMzMzNTVECamZmZmRlVQM3MzMzMbFRAmpmZmZmZVEDNzMzMzExVQJqZmZmZeVVAzczMzMzMVEAAAAAAAABWQJqZmZmZ+VVAMzMzMzMzVECamZmZmflUQEjhehSuV1VAhetRuB5VVUCamZmZmRlVQDMzMzMzc1VAAAAAAABAVUBmZmZmZuZUQAAAAAAAAFVAAAAAAABQVUAAAAAAAOBUQM3MzMzM7FRAMzMzMzNTVUBmZmZmZpZUQK5H4XoU3lRAZmZmZmaGVEDNzMzMzFxVQJqZmZmZeVVAmpmZmZlZVEBmZmZmZvZUQGZmZmZmBlVA",
            "dtype": "f8"
           },
           "marker": {
            "color": "#EF553B",
            "size": {
             "bdata": "AQEBAQEBAQEBAQEBAQEBAQEBAQEBAQEBAQEBAQEBAQEB",
             "dtype": "i1"
            },
            "sizemode": "area",
            "sizeref": 0.0275,
            "symbol": "circle"
           },
           "mode": "markers+text",
           "name": "Heavy Rain",
           "showlegend": true,
           "text": [
            "Arghakhanchi",
            "Baglung",
            "Banke",
            "Bardiya",
            "Chitawan",
            "Dailekh",
            "Dang",
            "Dhading",
            "Dhanusa",
            "Gulmi",
            "Ilam",
            "Jhapa",
            "Kailali",
            "Kaski",
            "Kathmandu",
            "Lalitpur",
            "Lamjung",
            "Mahottari",
            "Makwanpur",
            "Myagdi",
            "Nawalparasi",
            "Nuwakot",
            "Palpa",
            "Parbat",
            "Routahat",
            "Rukum",
            "Rupandehi",
            "Salyan",
            "Sarlahi",
            "Sindhuli",
            "Surkhet",
            "Syangja",
            "Tanahun"
           ],
           "type": "scattergeo"
          },
          {
           "geo": "geo",
           "hovertemplate": "event_type=Coldwave<br>Year=1990.0<br>Extreme Event Count=%{marker.size}<br>District=%{text}<br>lat=%{lat}<br>lon=%{lon}<extra></extra>",
           "lat": {
            "bdata": "AAAAAACAPUCamZmZmZk9QGZmZmZm5j1AmpmZmZmZO0AAAAAAAAA9QAAAAAAAADxAAAAAAAAAPkDNzMzMzEw9QJqZmZmZmTxAAAAAAACAPUAzMzMzM7M8QJqZmZmZGTxAZmZmZmamPEAAAAAAAAA8QA==",
            "dtype": "f8"
           },
           "legendgroup": "Coldwave",
           "lon": {
            "bdata": "AAAAAAAgVEDNzMzMzExUQGZmZmZmJlRAzczMzMyMVUCamZmZmblUQGZmZmZmJlVAMzMzMzNzVEDNzMzMzIxUQM3MzMzMDFVAZmZmZmaGVEB7FK5H4epUQDMzMzMzU1VAZmZmZmaWVEAzMzMzM7NVQA==",
            "dtype": "f8"
           },
           "marker": {
            "color": "#00cc96",
            "size": {
             "bdata": "BAYEBAgBCQMICAcFAQo=",
             "dtype": "i1"
            },
            "sizemode": "area",
            "sizeref": 0.0275,
            "symbol": "circle"
           },
           "mode": "markers+text",
           "name": "Coldwave",
           "showlegend": true,
           "text": [
            "Baitadi",
            "Bajang",
            "Darchula",
            "Dolkha",
            "Dolpa",
            "Gorkha",
            "Humla",
            "Jumla",
            "Manang",
            "Mugu",
            "Mustang",
            "Rasuwa",
            "Rukum",
            "Solukhumbu"
           ],
           "type": "scattergeo"
          }
         ],
         "name": "1990.0"
        },
        {
         "data": [
          {
           "geo": "geo",
           "hovertemplate": "event_type=Heatwave<br>Year=1998.0<br>Extreme Event Count=%{marker.size}<br>District=%{text}<br>lat=%{lat}<br>lon=%{lon}<extra></extra>",
           "lat": {
            "bdata": "mpmZmZkZPEAzMzMzM3M8QDMzMzMzszpAMzMzMzOzPEAzMzMzM7M6QM3MzMzMzDpA",
            "dtype": "f8"
           },
           "legendgroup": "Heatwave",
           "lon": {
            "bdata": "zczMzMxsVEAzMzMzM1NUQJqZmZmZeVVAMzMzMzMzVEAzMzMzM3NVQDMzMzMzU1VA",
            "dtype": "f8"
           },
           "marker": {
            "color": "#636efa",
            "size": {
             "bdata": "AQICAgID",
             "dtype": "i1"
            },
            "sizemode": "area",
            "sizeref": 0.0275,
            "symbol": "circle"
           },
           "mode": "markers+text",
           "name": "Heatwave",
           "showlegend": true,
           "text": [
            "Banke",
            "Bardiya",
            "Dhanusa",
            "Kailali",
            "Mahottari",
            "Routahat"
           ],
           "type": "scattergeo"
          },
          {
           "geo": "geo",
           "hovertemplate": "event_type=Heavy Rain<br>Year=1998.0<br>Extreme Event Count=%{marker.size}<br>District=%{text}<br>lat=%{lat}<br>lon=%{lon}<extra></extra>",
           "lat": {
            "bdata": "ZmZmZmbmO0BmZmZmZuY6QDMzMzMzszpAZmZmZmbmO0BSuB6F65E7QA==",
            "dtype": "f8"
           },
           "legendgroup": "Heavy Rain",
           "lon": {
            "bdata": "zczMzMzMVEAAAAAAAABWQJqZmZmZ+VVAAAAAAADgVECuR+F6FN5UQA==",
            "dtype": "f8"
           },
           "marker": {
            "color": "#EF553B",
            "size": {
             "bdata": "AgICAQI=",
             "dtype": "i1"
            },
            "sizemode": "area",
            "sizeref": 0.0275,
            "symbol": "circle"
           },
           "mode": "markers+text",
           "name": "Heavy Rain",
           "showlegend": true,
           "text": [
            "Arghakhanchi",
            "Ilam",
            "Jhapa",
            "Palpa",
            "Rupandehi"
           ],
           "type": "scattergeo"
          },
          {
           "geo": "geo",
           "hovertemplate": "event_type=Coldwave<br>Year=1998.0<br>Extreme Event Count=%{marker.size}<br>District=%{text}<br>lat=%{lat}<br>lon=%{lon}<extra></extra>",
           "lat": {
            "bdata": "AAAAAACAPUCamZmZmZk9QGZmZmZm5j1AmpmZmZmZO0AAAAAAAAA9QAAAAAAAADxAAAAAAAAAPkDNzMzMzEw9QJqZmZmZmTxAAAAAAACAPUAzMzMzM7M8QJqZmZmZGTxAZmZmZmamPEAAAAAAAAA8QA==",
            "dtype": "f8"
           },
           "legendgroup": "Coldwave",
           "lon": {
            "bdata": "AAAAAAAgVEDNzMzMzExUQGZmZmZmJlRAzczMzMyMVUCamZmZmblUQGZmZmZmJlVAMzMzMzNzVEDNzMzMzIxUQM3MzMzMDFVAZmZmZmaGVEB7FK5H4epUQDMzMzMzU1VAZmZmZmaWVEAzMzMzM7NVQA==",
            "dtype": "f8"
           },
           "marker": {
            "color": "#00cc96",
            "size": {
             "bdata": "BAUEBAgCCQMICAYEAgo=",
             "dtype": "i1"
            },
            "sizemode": "area",
            "sizeref": 0.0275,
            "symbol": "circle"
           },
           "mode": "markers+text",
           "name": "Coldwave",
           "showlegend": true,
           "text": [
            "Baitadi",
            "Bajang",
            "Darchula",
            "Dolkha",
            "Dolpa",
            "Gorkha",
            "Humla",
            "Jumla",
            "Manang",
            "Mugu",
            "Mustang",
            "Rasuwa",
            "Rukum",
            "Solukhumbu"
           ],
           "type": "scattergeo"
          }
         ],
         "name": "1998.0"
        },
        {
         "data": [
          {
           "geo": "geo",
           "hovertemplate": "event_type=Heatwave<br>Year=2000.0<br>Extreme Event Count=%{marker.size}<br>District=%{text}<br>lat=%{lat}<br>lon=%{lon}<extra></extra>",
           "lat": {
            "bdata": "MzMzMzNzPEAzMzMzM7M6QDMzMzMzszpAzczMzMzMOkA=",
            "dtype": "f8"
           },
           "legendgroup": "Heatwave",
           "lon": {
            "bdata": "MzMzMzNTVECamZmZmXlVQDMzMzMzc1VAMzMzMzNTVUA=",
            "dtype": "f8"
           },
           "marker": {
            "color": "#636efa",
            "size": {
             "bdata": "AgICAg==",
             "dtype": "i1"
            },
            "sizemode": "area",
            "sizeref": 0.0275,
            "symbol": "circle"
           },
           "mode": "markers+text",
           "name": "Heatwave",
           "showlegend": true,
           "text": [
            "Bardiya",
            "Dhanusa",
            "Mahottari",
            "Routahat"
           ],
           "type": "scattergeo"
          },
          {
           "geo": "geo",
           "hovertemplate": "event_type=Heavy Rain<br>Year=2000.0<br>Extreme Event Count=%{marker.size}<br>District=%{text}<br>lat=%{lat}<br>lon=%{lon}<extra></extra>",
           "lat": {
            "bdata": "ZmZmZmbmO0CamZmZmRk8QDMzMzMzczxAzczMzMzMPEDNzMzMzAw8QDMzMzMzszxAAAAAAAAAPUBmZmZmZqY8QGZmZmZmZjxAAAAAAADAPEA=",
            "dtype": "f8"
           },
           "legendgroup": "Heavy Rain",
           "lon": {
            "bdata": "zczMzMzMVEDNzMzMzGxUQDMzMzMzU1RAzczMzMxsVECamZmZmZlUQDMzMzMzM1RAzczMzMwMVEBmZmZmZpZUQGZmZmZmhlRAmpmZmZlZVEA=",
            "dtype": "f8"
           },
           "marker": {
            "color": "#EF553B",
            "size": {
             "bdata": "AQEBAQEBAQEBAQ==",
             "dtype": "i1"
            },
            "sizemode": "area",
            "sizeref": 0.0275,
            "symbol": "circle"
           },
           "mode": "markers+text",
           "name": "Heavy Rain",
           "showlegend": true,
           "text": [
            "Arghakhanchi",
            "Banke",
            "Bardiya",
            "Dailekh",
            "Dang",
            "Kailali",
            "Kanchanpur",
            "Rukum",
            "Salyan",
            "Surkhet"
           ],
           "type": "scattergeo"
          },
          {
           "geo": "geo",
           "hovertemplate": "event_type=Coldwave<br>Year=2000.0<br>Extreme Event Count=%{marker.size}<br>District=%{text}<br>lat=%{lat}<br>lon=%{lon}<extra></extra>",
           "lat": {
            "bdata": "AAAAAACAPUCamZmZmZk9QDMzMzMzsztAZmZmZmbmPUCamZmZmZk7QAAAAAAAAD1AAAAAAAAAPEAAAAAAAAA+QM3MzMzMTD1AmpmZmZmZO0AzMzMzMzM8QM3MzMzMTDxAmpmZmZmZPEAAAAAAAIA9QDMzMzMzszxAmpmZmZkZPEBmZmZmZqY8QAAAAAAAADxAAAAAAAAAPEA=",
            "dtype": "f8"
           },
           "legendgroup": "Coldwave",
           "lon": {
            "bdata": "AAAAAAAgVEDNzMzMzExUQAAAAAAAYFVAZmZmZmYmVEDNzMzMzIxVQJqZmZmZuVRAZmZmZmYmVUAzMzMzM3NUQM3MzMzMjFRAZmZmZmZmVUCamZmZmflUQJqZmZmZGVVAzczMzMwMVUBmZmZmZoZUQHsUrkfh6lRAMzMzMzNTVUBmZmZmZpZUQDMzMzMzs1VAZmZmZmYGVUA=",
            "dtype": "f8"
           },
           "marker": {
            "color": "#00cc96",
            "size": {
             "bdata": "BAUBBAQHAgkCAQEBBwcHBQIKAQ==",
             "dtype": "i1"
            },
            "sizemode": "area",
            "sizeref": 0.0275,
            "symbol": "circle"
           },
           "mode": "markers+text",
           "name": "Coldwave",
           "showlegend": true,
           "text": [
            "Baitadi",
            "Bajang",
            "Bhaktapur",
            "Darchula",
            "Dolkha",
            "Dolpa",
            "Gorkha",
            "Humla",
            "Jumla",
            "Kabhre",
            "Kaski",
            "Lamjung",
            "Manang",
            "Mugu",
            "Mustang",
            "Rasuwa",
            "Rukum",
            "Solukhumbu",
            "Tanahun"
           ],
           "type": "scattergeo"
          }
         ],
         "name": "2000.0"
        },
        {
         "data": [
          {
           "geo": "geo",
           "hovertemplate": "event_type=Heatwave<br>Year=2004.0<br>Extreme Event Count=%{marker.size}<br>District=%{text}<br>lat=%{lat}<br>lon=%{lon}<extra></extra>",
           "lat": {
            "bdata": "MzMzMzNzPEDNzMzMzMw6QA==",
            "dtype": "f8"
           },
           "legendgroup": "Heatwave",
           "lon": {
            "bdata": "MzMzMzNTVEAzMzMzM1NVQA==",
            "dtype": "f8"
           },
           "marker": {
            "color": "#636efa",
            "size": {
             "bdata": "AQI=",
             "dtype": "i1"
            },
            "sizemode": "area",
            "sizeref": 0.0275,
            "symbol": "circle"
           },
           "mode": "markers+text",
           "name": "Heatwave",
           "showlegend": true,
           "text": [
            "Bardiya",
            "Routahat"
           ],
           "type": "scattergeo"
          },
          {
           "geo": "geo",
           "hovertemplate": "event_type=Heavy Rain<br>Year=2004.0<br>Extreme Event Count=%{marker.size}<br>District=%{text}<br>lat=%{lat}<br>lon=%{lon}<extra></extra>",
           "lat": {
            "bdata": "ZmZmZmbmO0DNzMzMzEw8QJqZmZmZGTxAMzMzMzNzPEAzMzMzM7M7QDMzMzMzsztAzczMzMxMPUDNzMzMzMw8QM3MzMzMDDxAMzMzMzOzO0AAAAAAAAA7QDMzMzMzszpAmpmZmZmZO0DNzMzMzEw9QAAAAAAAADxAmpmZmZkZPEBmZmZmZuY6QDMzMzMzszpAmpmZmZmZO0AzMzMzM7M8QAAAAAAAAD1AMzMzMzMzPEB7FK5H4bo7QOF6FK5HoTtAzczMzMxMPEAzMzMzM7M6QGZmZmZmZjtAAAAAAACAOkAzMzMzM7M8QGZmZmZmZjxAmpmZmZmZO0CamZmZmdk7QM3MzMzMTDtAZmZmZmbmO0CamZmZmRk7QDMzMzMzMzxAmpmZmZkZPEDNzMzMzMw6QGZmZmZmpjxAUrgeheuRO0BmZmZmZmY8QM3MzMzMTDtAmpmZmZmZOkAAAAAAAAA7QDMzMzMzMztAAAAAAADAOkAAAAAAAMA8QAAAAAAAADxAAAAAAAAAPEBmZmZmZmY7QJqZmZmZGTtAZmZmZmbmOkA=",
            "dtype": "f8"
           },
           "legendgroup": "Heavy Rain",
           "lon": {
            "bdata": "zczMzMzMVEBmZmZmZuZUQM3MzMzMbFRAMzMzMzNTVEAAAAAAAGBVQJqZmZmZGVVAZmZmZmYmVEDNzMzMzGxUQJqZmZmZmVRAzczMzMxMVUAzMzMzM9NVQJqZmZmZeVVAzczMzMyMVUDNzMzMzDxUQGZmZmZmJlVAzczMzMzMVEAAAAAAAABWQJqZmZmZ+VVAZmZmZmZmVUAzMzMzMzNUQM3MzMzMDFRAmpmZmZn5VEBI4XoUrldVQIXrUbgeVVVAmpmZmZkZVUAzMzMzM3NVQAAAAAAAQFVAMzMzMzPTVUB7FK5H4epUQGZmZmZm5lRAAAAAAAAAVUAAAAAAAFBVQAAAAAAAoFVAAAAAAADgVEAzMzMzM/NVQM3MzMzM7FRAMzMzMzNTVUAzMzMzM1NVQGZmZmZmllRArkfhehTeVEBmZmZmZoZUQDMzMzMz01VAMzMzMzOzVUDNzMzMzFxVQJqZmZmZeVVAMzMzMzPTVUCamZmZmVlUQGZmZmZm9lRAZmZmZmYGVUDNzMzMzOxVQAAAAAAA4FVAAAAAAACgVUA=",
            "dtype": "f8"
           },
           "marker": {
            "color": "#EF553B",
            "size": {
             "bdata": "AgIBAQEBAQEBAQEBAQEBAgEBAQEBAQEBAQEBAQECAQEBAgECAQEBAgEBAQEBAQECAQEBAQ==",
             "dtype": "i1"
            },
            "sizemode": "area",
            "sizeref": 0.0275,
            "symbol": "circle"
           },
           "mode": "markers+text",
           "name": "Heavy Rain",
           "showlegend": true,
           "text": [
            "Arghakhanchi",
            "Baglung",
            "Banke",
            "Bardiya",
            "Bhaktapur",
            "Chitawan",
            "Dadeldhura",
            "Dailekh",
            "Dang",
            "Dhading",
            "Dhankuta",
            "Dhanusa",
            "Dolkha",
            "Doti",
            "Gorkha",
            "Gulmi",
            "Ilam",
            "Jhapa",
            "Kabhre",
            "Kailali",
            "Kanchanpur",
            "Kaski",
            "Kathmandu",
            "Lalitpur",
            "Lamjung",
            "Mahottari",
            "Makwanpur",
            "Morang",
            "Mustang",
            "Myagdi",
            "Nawalparasi",
            "Nuwakot",
            "Okhaldhunga",
            "Palpa",
            "Panchther",
            "Parbat",
            "Rasuwa",
            "Routahat",
            "Rukum",
            "Rupandehi",
            "Salyan",
            "Sankhuwasabha",
            "Saptari",
            "Sarlahi",
            "Sindhuli",
            "Sunsari",
            "Surkhet",
            "Syangja",
            "Tanahun",
            "Taplejung",
            "Terhathum",
            "Udayapur"
           ],
           "type": "scattergeo"
          },
          {
           "geo": "geo",
           "hovertemplate": "event_type=Coldwave<br>Year=2004.0<br>Extreme Event Count=%{marker.size}<br>District=%{text}<br>lat=%{lat}<br>lon=%{lon}<extra></extra>",
           "lat": {
            "bdata": "AAAAAACAPUCamZmZmZk9QGZmZmZm5j1AmpmZmZmZO0AAAAAAAAA9QAAAAAAAADxAAAAAAAAAPkDNzMzMzEw9QJqZmZmZmTxAAAAAAACAPUAzMzMzM7M8QJqZmZmZGTxAZmZmZmamPEAAAAAAAAA8QA==",
            "dtype": "f8"
           },
           "legendgroup": "Coldwave",
           "lon": {
            "bdata": "AAAAAAAgVEDNzMzMzExUQGZmZmZmJlRAzczMzMyMVUCamZmZmblUQGZmZmZmJlVAMzMzMzNzVEDNzMzMzIxUQM3MzMzMDFVAZmZmZmaGVEB7FK5H4epUQDMzMzMzU1VAZmZmZmaWVEAzMzMzM7NVQA==",
            "dtype": "f8"
           },
           "marker": {
            "color": "#00cc96",
            "size": {
             "bdata": "AwYDBAgDCgIICAgFAgo=",
             "dtype": "i1"
            },
            "sizemode": "area",
            "sizeref": 0.0275,
            "symbol": "circle"
           },
           "mode": "markers+text",
           "name": "Coldwave",
           "showlegend": true,
           "text": [
            "Baitadi",
            "Bajang",
            "Darchula",
            "Dolkha",
            "Dolpa",
            "Gorkha",
            "Humla",
            "Jumla",
            "Manang",
            "Mugu",
            "Mustang",
            "Rasuwa",
            "Rukum",
            "Solukhumbu"
           ],
           "type": "scattergeo"
          }
         ],
         "name": "2004.0"
        },
        {
         "data": [
          {
           "geo": "geo",
           "hovertemplate": "event_type=Heatwave<br>Year=2005.0<br>Extreme Event Count=%{marker.size}<br>District=%{text}<br>lat=%{lat}<br>lon=%{lon}<extra></extra>",
           "lat": {
            "bdata": "mpmZmZkZPEAzMzMzM3M8QDMzMzMzszpAMzMzMzOzPEAzMzMzM7M6QM3MzMzMzDpA",
            "dtype": "f8"
           },
           "legendgroup": "Heatwave",
           "lon": {
            "bdata": "zczMzMxsVEAzMzMzM1NUQJqZmZmZeVVAMzMzMzMzVEAzMzMzM3NVQDMzMzMzU1VA",
            "dtype": "f8"
           },
           "marker": {
            "color": "#636efa",
            "size": {
             "bdata": "AQECAQID",
             "dtype": "i1"
            },
            "sizemode": "area",
            "sizeref": 0.0275,
            "symbol": "circle"
           },
           "mode": "markers+text",
           "name": "Heatwave",
           "showlegend": true,
           "text": [
            "Banke",
            "Bardiya",
            "Dhanusa",
            "Kailali",
            "Mahottari",
            "Routahat"
           ],
           "type": "scattergeo"
          },
          {
           "geo": "geo",
           "hovertemplate": "event_type=Heavy Rain<br>Year=2005.0<br>Extreme Event Count=%{marker.size}<br>District=%{text}<br>lat=%{lat}<br>lon=%{lon}<extra></extra>",
           "lat": {
            "bdata": "ZmZmZmbmO0DNzMzMzEw8QJqZmZmZGTxAMzMzMzNzPEAzMzMzM7M7QM3MzMzMTD1AzczMzMzMPEDNzMzMzAw8QAAAAAAAADtAMzMzMzOzOkAAAAAAAAA9QM3MzMzMTD1AmpmZmZkZPEBmZmZmZuY6QDMzMzMzszpAzczMzMxMPUAzMzMzM7M8QAAAAAAAAD1AMzMzMzMzPEDNzMzMzEw8QDMzMzMzszpAZmZmZmZmO0AAAAAAAIA6QDMzMzMzszxAZmZmZmZmPECamZmZmZk7QGZmZmZm5jtAmpmZmZkZO0AzMzMzMzM8QM3MzMzMzDpAZmZmZmamPEBSuB6F65E7QGZmZmZmZjxAzczMzMxMO0CamZmZmZk6QAAAAAAAADtAMzMzMzMzO0AAAAAAAMA6QAAAAAAAwDxAAAAAAAAAPEAAAAAAAAA8QGZmZmZmZjtAmpmZmZkZO0BmZmZmZuY6QA==",
            "dtype": "f8"
           },
           "legendgroup": "Heavy Rain",
           "lon": {
            "bdata": "zczMzMzMVEBmZmZmZuZUQM3MzMzMbFRAMzMzMzNTVECamZmZmRlVQGZmZmZmJlRAzczMzMxsVECamZmZmZlUQDMzMzMz01VAmpmZmZl5VUCamZmZmblUQM3MzMzMPFRAzczMzMzMVEAAAAAAAABWQJqZmZmZ+VVAzczMzMyMVEAzMzMzMzNUQM3MzMzMDFRAmpmZmZn5VECamZmZmRlVQDMzMzMzc1VAAAAAAABAVUAzMzMzM9NVQHsUrkfh6lRAZmZmZmbmVEAAAAAAAABVQAAAAAAA4FRAMzMzMzPzVUDNzMzMzOxUQDMzMzMzU1VAZmZmZmaWVECuR+F6FN5UQGZmZmZmhlRAMzMzMzPTVUAzMzMzM7NVQM3MzMzMXFVAmpmZmZl5VUAzMzMzM9NVQJqZmZmZWVRAZmZmZmb2VEBmZmZmZgZVQM3MzMzM7FVAAAAAAADgVUAAAAAAAKBVQA==",
            "dtype": "f8"
           },
           "marker": {
            "color": "#EF553B",
            "size": {
             "bdata": "AQECAgEBAgIBAgEBAQICAQICAQECAgIBAQEBAQECAgECAQEBAQICAQEBAQE=",
             "dtype": "i1"
            },
            "sizemode": "area",
            "sizeref": 0.0275,
            "symbol": "circle"
           },
           "mode": "markers+text",
           "name": "Heavy Rain",
           "showlegend": true,
           "text": [
            "Arghakhanchi",
            "Baglung",
            "Banke",
            "Bardiya",
            "Chitawan",
            "Dadeldhura",
            "Dailekh",
            "Dang",
            "Dhankuta",
            "Dhanusa",
            "Dolpa",
            "Doti",
            "Gulmi",
            "Ilam",
            "Jhapa",
            "Jumla",
            "Kailali",
            "Kanchanpur",
            "Kaski",
            "Lamjung",
            "Mahottari",
            "Makwanpur",
            "Morang",
            "Mustang",
            "Myagdi",
            "Nawalparasi",
            "Palpa",
            "Panchther",
            "Parbat",
            "Routahat",
            "Rukum",
            "Rupandehi",
            "Salyan",
            "Sankhuwasabha",
            "Saptari",
            "Sarlahi",
            "Sindhuli",
            "Sunsari",
            "Surkhet",
            "Syangja",
            "Tanahun",
            "Taplejung",
            "Terhathum",
            "Udayapur"
           ],
           "type": "scattergeo"
          },
          {
           "geo": "geo",
           "hovertemplate": "event_type=Coldwave<br>Year=2005.0<br>Extreme Event Count=%{marker.size}<br>District=%{text}<br>lat=%{lat}<br>lon=%{lon}<extra></extra>",
           "lat": {
            "bdata": "AAAAAACAPUCamZmZmZk9QGZmZmZm5j1AmpmZmZmZO0AAAAAAAAA9QAAAAAAAADxAAAAAAAAAPkDNzMzMzEw9QJqZmZmZmTxAAAAAAACAPUAzMzMzM7M8QJqZmZmZGTxAZmZmZmamPEAAAAAAAAA8QA==",
            "dtype": "f8"
           },
           "legendgroup": "Coldwave",
           "lon": {
            "bdata": "AAAAAAAgVEDNzMzMzExUQGZmZmZmJlRAzczMzMyMVUCamZmZmblUQGZmZmZmJlVAMzMzMzNzVEDNzMzMzIxUQM3MzMzMDFVAZmZmZmaGVEB7FK5H4epUQDMzMzMzU1VAZmZmZmaWVEAzMzMzM7NVQA==",
            "dtype": "f8"
           },
           "marker": {
            "color": "#00cc96",
            "size": {
             "bdata": "AwUDBAgDCgMICAgFAwo=",
             "dtype": "i1"
            },
            "sizemode": "area",
            "sizeref": 0.0275,
            "symbol": "circle"
           },
           "mode": "markers+text",
           "name": "Coldwave",
           "showlegend": true,
           "text": [
            "Baitadi",
            "Bajang",
            "Darchula",
            "Dolkha",
            "Dolpa",
            "Gorkha",
            "Humla",
            "Jumla",
            "Manang",
            "Mugu",
            "Mustang",
            "Rasuwa",
            "Rukum",
            "Solukhumbu"
           ],
           "type": "scattergeo"
          }
         ],
         "name": "2005.0"
        },
        {
         "data": [
          {
           "geo": "geo",
           "hovertemplate": "event_type=Heatwave<br>Year=2006.0<br>Extreme Event Count=%{marker.size}<br>District=%{text}<br>lat=%{lat}<br>lon=%{lon}<extra></extra>",
           "lat": {
            "bdata": "zczMzMzMOkA=",
            "dtype": "f8"
           },
           "legendgroup": "Heatwave",
           "lon": {
            "bdata": "MzMzMzNTVUA=",
            "dtype": "f8"
           },
           "marker": {
            "color": "#636efa",
            "size": {
             "bdata": "AQ==",
             "dtype": "i1"
            },
            "sizemode": "area",
            "sizeref": 0.0275,
            "symbol": "circle"
           },
           "mode": "markers+text",
           "name": "Heatwave",
           "showlegend": true,
           "text": [
            "Routahat"
           ],
           "type": "scattergeo"
          },
          {
           "geo": "geo",
           "hovertemplate": "event_type=Heavy Rain<br>Year=2006.0<br>Extreme Event Count=%{marker.size}<br>District=%{text}<br>lat=%{lat}<br>lon=%{lon}<extra></extra>",
           "lat": {
            "bdata": "ZmZmZmbmO0DNzMzMzEw8QJqZmZmZGTxAMzMzMzNzPEAzMzMzM7M7QM3MzMzMTD1AzczMzMzMPEDNzMzMzAw8QDMzMzMzsztAMzMzMzOzOkDNzMzMzEw9QJqZmZmZGTxAZmZmZmbmOkAzMzMzM7M6QDMzMzMzszxAAAAAAAAAPUB7FK5H4bo7QOF6FK5HoTtAMzMzMzOzOkBmZmZmZmY7QAAAAAAAgDpAZmZmZmZmPECamZmZmZk7QJqZmZmZ2TtAZmZmZmbmO0AzMzMzMzM8QM3MzMzMzDpAZmZmZmamPEBSuB6F65E7QGZmZmZmZjxAmpmZmZmZOkAAAAAAAAA7QDMzMzMzMztAAAAAAADAOkAAAAAAAMA8QAAAAAAAADxAZmZmZmbmOkA=",
            "dtype": "f8"
           },
           "legendgroup": "Heavy Rain",
           "lon": {
            "bdata": "zczMzMzMVEBmZmZmZuZUQM3MzMzMbFRAMzMzMzNTVECamZmZmRlVQGZmZmZmJlRAzczMzMxsVECamZmZmZlUQM3MzMzMTFVAmpmZmZl5VUDNzMzMzDxUQM3MzMzMzFRAAAAAAAAAVkCamZmZmflVQDMzMzMzM1RAzczMzMwMVEBI4XoUrldVQIXrUbgeVVVAMzMzMzNzVUAAAAAAAEBVQDMzMzMz01VAZmZmZmbmVEAAAAAAAABVQAAAAAAAUFVAAAAAAADgVEDNzMzMzOxUQDMzMzMzU1VAZmZmZmaWVECuR+F6FN5UQGZmZmZmhlRAMzMzMzOzVUDNzMzMzFxVQJqZmZmZeVVAMzMzMzPTVUCamZmZmVlUQGZmZmZm9lRAAAAAAACgVUA=",
            "dtype": "f8"
           },
           "marker": {
            "color": "#EF553B",
            "size": {
             "bdata": "AgEBAQEBAQIBAQECAgIBAQEBAQEBAQEBAgEBAQIBAQEBAQEBAQ==",
             "dtype": "i1"
            },
            "sizemode": "area",
            "sizeref": 0.0275,
            "symbol": "circle"
           },
           "mode": "markers+text",
           "name": "Heavy Rain",
           "showlegend": true,
           "text": [
            "Arghakhanchi",
            "Baglung",
            "Banke",
            "Bardiya",
            "Chitawan",
            "Dadeldhura",
            "Dailekh",
            "Dang",
            "Dhading",
            "Dhanusa",
            "Doti",
            "Gulmi",
            "Ilam",
            "Jhapa",
            "Kailali",
            "Kanchanpur",
            "Kathmandu",
            "Lalitpur",
            "Mahottari",
            "Makwanpur",
            "Morang",
            "Myagdi",
            "Nawalparasi",
            "Nuwakot",
            "Palpa",
            "Parbat",
            "Routahat",
            "Rukum",
            "Rupandehi",
            "Salyan",
            "Saptari",
            "Sarlahi",
            "Sindhuli",
            "Sunsari",
            "Surkhet",
            "Syangja",
            "Udayapur"
           ],
           "type": "scattergeo"
          },
          {
           "geo": "geo",
           "hovertemplate": "event_type=Coldwave<br>Year=2006.0<br>Extreme Event Count=%{marker.size}<br>District=%{text}<br>lat=%{lat}<br>lon=%{lon}<extra></extra>",
           "lat": {
            "bdata": "AAAAAACAPUCamZmZmZk9QGZmZmZm5j1AmpmZmZmZO0AAAAAAAAA9QAAAAAAAADxAAAAAAAAAPkDNzMzMzEw9QJqZmZmZmTxAAAAAAACAPUAzMzMzM7M8QJqZmZmZGTxAZmZmZmamPEAAAAAAAAA8QA==",
            "dtype": "f8"
           },
           "legendgroup": "Coldwave",
           "lon": {
            "bdata": "AAAAAAAgVEDNzMzMzExUQGZmZmZmJlRAzczMzMyMVUCamZmZmblUQGZmZmZmJlVAMzMzMzNzVEDNzMzMzIxUQM3MzMzMDFVAZmZmZmaGVEB7FK5H4epUQDMzMzMzU1VAZmZmZmaWVEAzMzMzM7NVQA==",
            "dtype": "f8"
           },
           "marker": {
            "color": "#00cc96",
            "size": {
             "bdata": "AwYDBAcCCgMHBwcFAQo=",
             "dtype": "i1"
            },
            "sizemode": "area",
            "sizeref": 0.0275,
            "symbol": "circle"
           },
           "mode": "markers+text",
           "name": "Coldwave",
           "showlegend": true,
           "text": [
            "Baitadi",
            "Bajang",
            "Darchula",
            "Dolkha",
            "Dolpa",
            "Gorkha",
            "Humla",
            "Jumla",
            "Manang",
            "Mugu",
            "Mustang",
            "Rasuwa",
            "Rukum",
            "Solukhumbu"
           ],
           "type": "scattergeo"
          }
         ],
         "name": "2006.0"
        },
        {
         "data": [
          {
           "geo": "geo",
           "hovertemplate": "event_type=Heatwave<br>Year=2007.0<br>Extreme Event Count=%{marker.size}<br>District=%{text}<br>lat=%{lat}<br>lon=%{lon}<extra></extra>",
           "lat": {
            "bdata": "zczMzMzMOkA=",
            "dtype": "f8"
           },
           "legendgroup": "Heatwave",
           "lon": {
            "bdata": "MzMzMzNTVUA=",
            "dtype": "f8"
           },
           "marker": {
            "color": "#636efa",
            "size": {
             "bdata": "AQ==",
             "dtype": "i1"
            },
            "sizemode": "area",
            "sizeref": 0.0275,
            "symbol": "circle"
           },
           "mode": "markers+text",
           "name": "Heatwave",
           "showlegend": true,
           "text": [
            "Routahat"
           ],
           "type": "scattergeo"
          },
          {
           "geo": "geo",
           "hovertemplate": "event_type=Heavy Rain<br>Year=2007.0<br>Extreme Event Count=%{marker.size}<br>District=%{text}<br>lat=%{lat}<br>lon=%{lon}<extra></extra>",
           "lat": {
            "bdata": "ZmZmZmbmO0DNzMzMzEw8QAAAAAAAgD1AmpmZmZkZPEAzMzMzM3M8QDMzMzMzsztAzczMzMxMPUDNzMzMzMw8QM3MzMzMDDxAZmZmZmbmPUAzMzMzM7M7QAAAAAAAADtAMzMzMzOzOkAAAAAAAAA9QM3MzMzMTD1AmpmZmZkZPEBmZmZmZuY6QDMzMzMzszpAzczMzMxMPUAzMzMzM7M8QAAAAAAAAD1AMzMzMzMzPEB7FK5H4bo7QOF6FK5HoTtAzczMzMxMPEAzMzMzM7M6QGZmZmZmZjtAAAAAAACAOkAzMzMzM7M8QGZmZmZmZjxAmpmZmZmZO0CamZmZmdk7QM3MzMzMTDtAZmZmZmbmO0CamZmZmRk7QDMzMzMzMzxAzczMzMzMOkBmZmZmZqY8QFK4HoXrkTtAZmZmZmZmPEDNzMzMzEw7QJqZmZmZmTpAAAAAAAAAO0AzMzMzMzM7QAAAAAAAwDpAAAAAAADAPEAAAAAAAAA8QAAAAAAAADxAZmZmZmZmO0CamZmZmRk7QGZmZmZm5jpA",
            "dtype": "f8"
           },
           "legendgroup": "Heavy Rain",
           "lon": {
            "bdata": "zczMzMzMVEBmZmZmZuZUQAAAAAAAIFRAzczMzMxsVEAzMzMzM1NUQJqZmZmZGVVAZmZmZmYmVEDNzMzMzGxUQJqZmZmZmVRAZmZmZmYmVEDNzMzMzExVQDMzMzMz01VAmpmZmZl5VUCamZmZmblUQM3MzMzMPFRAzczMzMzMVEAAAAAAAABWQJqZmZmZ+VVAzczMzMyMVEAzMzMzMzNUQM3MzMzMDFRAmpmZmZn5VEBI4XoUrldVQIXrUbgeVVVAmpmZmZkZVUAzMzMzM3NVQAAAAAAAQFVAMzMzMzPTVUB7FK5H4epUQGZmZmZm5lRAAAAAAAAAVUAAAAAAAFBVQAAAAAAAoFVAAAAAAADgVEAzMzMzM/NVQM3MzMzM7FRAMzMzMzNTVUBmZmZmZpZUQK5H4XoU3lRAZmZmZmaGVEAzMzMzM9NVQDMzMzMzs1VAzczMzMxcVUCamZmZmXlVQDMzMzMz01VAmpmZmZlZVEBmZmZmZvZUQGZmZmZmBlVAzczMzMzsVUAAAAAAAOBVQAAAAAAAoFVA",
            "dtype": "f8"
           },
           "marker": {
            "color": "#EF553B",
            "size": {
             "bdata": "AwIBAgICAQICAQEBAQEBAgIBAQIBAQEBAQEBAQECAgEBAgECAgICAgEBAQEBAgIBAQEB",
             "dtype": "i1"
            },
            "sizemode": "area",
            "sizeref": 0.0275,
            "symbol": "circle"
           },
           "mode": "markers+text",
           "name": "Heavy Rain",
           "showlegend": true,
           "text": [
            "Arghakhanchi",
            "Baglung",
            "Baitadi",
            "Banke",
            "Bardiya",
            "Chitawan",
            "Dadeldhura",
            "Dailekh",
            "Dang",
            "Darchula",
            "Dhading",
            "Dhankuta",
            "Dhanusa",
            "Dolpa",
            "Doti",
            "Gulmi",
            "Ilam",
            "Jhapa",
            "Jumla",
            "Kailali",
            "Kanchanpur",
            "Kaski",
            "Kathmandu",
            "Lalitpur",
            "Lamjung",
            "Mahottari",
            "Makwanpur",
            "Morang",
            "Mustang",
            "Myagdi",
            "Nawalparasi",
            "Nuwakot",
            "Okhaldhunga",
            "Palpa",
            "Panchther",
            "Parbat",
            "Routahat",
            "Rukum",
            "Rupandehi",
            "Salyan",
            "Sankhuwasabha",
            "Saptari",
            "Sarlahi",
            "Sindhuli",
            "Sunsari",
            "Surkhet",
            "Syangja",
            "Tanahun",
            "Taplejung",
            "Terhathum",
            "Udayapur"
           ],
           "type": "scattergeo"
          },
          {
           "geo": "geo",
           "hovertemplate": "event_type=Coldwave<br>Year=2007.0<br>Extreme Event Count=%{marker.size}<br>District=%{text}<br>lat=%{lat}<br>lon=%{lon}<extra></extra>",
           "lat": {
            "bdata": "AAAAAACAPUCamZmZmZk9QDMzMzMzsztAZmZmZmbmPUCamZmZmZk7QAAAAAAAAD1AAAAAAAAAPEAAAAAAAAA+QM3MzMzMTD1AmpmZmZmZO0AzMzMzMzM8QM3MzMzMTDxAmpmZmZmZPEAAAAAAAIA9QDMzMzMzszxAmpmZmZkZPEBmZmZmZqY8QAAAAAAAADxAAAAAAAAAPEA=",
            "dtype": "f8"
           },
           "legendgroup": "Coldwave",
           "lon": {
            "bdata": "AAAAAAAgVEDNzMzMzExUQAAAAAAAYFVAZmZmZmYmVEDNzMzMzIxVQJqZmZmZuVRAZmZmZmYmVUAzMzMzM3NUQM3MzMzMjFRAZmZmZmZmVUCamZmZmflUQJqZmZmZGVVAzczMzMwMVUBmZmZmZoZUQHsUrkfh6lRAMzMzMzNTVUBmZmZmZpZUQDMzMzMzs1VAZmZmZmYGVUA=",
            "dtype": "f8"
           },
           "marker": {
            "color": "#00cc96",
            "size": {
             "bdata": "BAUBBAQIAwoEAQEBCAgHBQQKAQ==",
             "dtype": "i1"
            },
            "sizemode": "area",
            "sizeref": 0.0275,
            "symbol": "circle"
           },
           "mode": "markers+text",
           "name": "Coldwave",
           "showlegend": true,
           "text": [
            "Baitadi",
            "Bajang",
            "Bhaktapur",
            "Darchula",
            "Dolkha",
            "Dolpa",
            "Gorkha",
            "Humla",
            "Jumla",
            "Kabhre",
            "Kaski",
            "Lamjung",
            "Manang",
            "Mugu",
            "Mustang",
            "Rasuwa",
            "Rukum",
            "Solukhumbu",
            "Tanahun"
           ],
           "type": "scattergeo"
          }
         ],
         "name": "2007.0"
        },
        {
         "data": [
          {
           "geo": "geo",
           "hovertemplate": "event_type=Heatwave<br>Year=2008.0<br>Extreme Event Count=%{marker.size}<br>District=%{text}<br>lat=%{lat}<br>lon=%{lon}<extra></extra>",
           "lat": {
            "bdata": "zczMzMzMOkA=",
            "dtype": "f8"
           },
           "legendgroup": "Heatwave",
           "lon": {
            "bdata": "MzMzMzNTVUA=",
            "dtype": "f8"
           },
           "marker": {
            "color": "#636efa",
            "size": {
             "bdata": "AQ==",
             "dtype": "i1"
            },
            "sizemode": "area",
            "sizeref": 0.0275,
            "symbol": "circle"
           },
           "mode": "markers+text",
           "name": "Heatwave",
           "showlegend": true,
           "text": [
            "Routahat"
           ],
           "type": "scattergeo"
          },
          {
           "geo": "geo",
           "hovertemplate": "event_type=Heavy Rain<br>Year=2008.0<br>Extreme Event Count=%{marker.size}<br>District=%{text}<br>lat=%{lat}<br>lon=%{lon}<extra></extra>",
           "lat": {
            "bdata": "ZmZmZmbmO0DNzMzMzEw8QJqZmZmZGTxAMzMzMzNzPEAzMzMzM7M7QM3MzMzMTD1AzczMzMzMPEDNzMzMzAw8QDMzMzMzsztAMzMzMzOzOkAAAAAAAAA9QM3MzMzMTD1AmpmZmZkZPEBmZmZmZuY6QDMzMzMzszpAzczMzMxMPUAzMzMzM7M8QAAAAAAAAD1AMzMzMzMzPEB7FK5H4bo7QOF6FK5HoTtAzczMzMxMPEAzMzMzM7M6QGZmZmZmZjtAAAAAAACAOkAzMzMzM7M8QGZmZmZmZjxAmpmZmZmZO0CamZmZmdk7QGZmZmZm5jtAmpmZmZkZO0AzMzMzMzM8QM3MzMzMzDpAZmZmZmamPEBSuB6F65E7QGZmZmZmZjxAmpmZmZmZOkAAAAAAAAA7QDMzMzMzMztAAAAAAADAOkAAAAAAAMA8QAAAAAAAADxAAAAAAAAAPEBmZmZmZmY7QJqZmZmZGTtAZmZmZmbmOkA=",
            "dtype": "f8"
           },
           "legendgroup": "Heavy Rain",
           "lon": {
            "bdata": "zczMzMzMVEBmZmZmZuZUQM3MzMzMbFRAMzMzMzNTVECamZmZmRlVQGZmZmZmJlRAzczMzMxsVECamZmZmZlUQM3MzMzMTFVAmpmZmZl5VUCamZmZmblUQM3MzMzMPFRAzczMzMzMVEAAAAAAAABWQJqZmZmZ+VVAzczMzMyMVEAzMzMzMzNUQM3MzMzMDFRAmpmZmZn5VEBI4XoUrldVQIXrUbgeVVVAmpmZmZkZVUAzMzMzM3NVQAAAAAAAQFVAMzMzMzPTVUB7FK5H4epUQGZmZmZm5lRAAAAAAAAAVUAAAAAAAFBVQAAAAAAA4FRAMzMzMzPzVUDNzMzMzOxUQDMzMzMzU1VAZmZmZmaWVECuR+F6FN5UQGZmZmZmhlRAMzMzMzOzVUDNzMzMzFxVQJqZmZmZeVVAMzMzMzPTVUCamZmZmVlUQGZmZmZm9lRAZmZmZmYGVUDNzMzMzOxVQAAAAAAA4FVAAAAAAACgVUA=",
            "dtype": "f8"
           },
           "marker": {
            "color": "#EF553B",
            "size": {
             "bdata": "AwMDAwMCAgMCAwICAwICAgMDAwICAwMDAQMDAwIDAQMDAwMDAQMDAQIDAwEBAQ==",
             "dtype": "i1"
            },
            "sizemode": "area",
            "sizeref": 0.0275,
            "symbol": "circle"
           },
           "mode": "markers+text",
           "name": "Heavy Rain",
           "showlegend": true,
           "text": [
            "Arghakhanchi",
            "Baglung",
            "Banke",
            "Bardiya",
            "Chitawan",
            "Dadeldhura",
            "Dailekh",
            "Dang",
            "Dhading",
            "Dhanusa",
            "Dolpa",
            "Doti",
            "Gulmi",
            "Ilam",
            "Jhapa",
            "Jumla",
            "Kailali",
            "Kanchanpur",
            "Kaski",
            "Kathmandu",
            "Lalitpur",
            "Lamjung",
            "Mahottari",
            "Makwanpur",
            "Morang",
            "Mustang",
            "Myagdi",
            "Nawalparasi",
            "Nuwakot",
            "Palpa",
            "Panchther",
            "Parbat",
            "Routahat",
            "Rukum",
            "Rupandehi",
            "Salyan",
            "Saptari",
            "Sarlahi",
            "Sindhuli",
            "Sunsari",
            "Surkhet",
            "Syangja",
            "Tanahun",
            "Taplejung",
            "Terhathum",
            "Udayapur"
           ],
           "type": "scattergeo"
          },
          {
           "geo": "geo",
           "hovertemplate": "event_type=Coldwave<br>Year=2008.0<br>Extreme Event Count=%{marker.size}<br>District=%{text}<br>lat=%{lat}<br>lon=%{lon}<extra></extra>",
           "lat": {
            "bdata": "AAAAAACAPUCamZmZmZk9QGZmZmZm5j1AmpmZmZmZO0AAAAAAAAA9QAAAAAAAADxAAAAAAAAAPkDNzMzMzEw9QJqZmZmZmTxAAAAAAACAPUAzMzMzM7M8QJqZmZmZGTxAZmZmZmamPEAAAAAAAAA8QA==",
            "dtype": "f8"
           },
           "legendgroup": "Coldwave",
           "lon": {
            "bdata": "AAAAAAAgVEDNzMzMzExUQGZmZmZmJlRAzczMzMyMVUCamZmZmblUQGZmZmZmJlVAMzMzMzNzVEDNzMzMzIxUQM3MzMzMDFVAZmZmZmaGVEB7FK5H4epUQDMzMzMzU1VAZmZmZmaWVEAzMzMzM7NVQA==",
            "dtype": "f8"
           },
           "marker": {
            "color": "#00cc96",
            "size": {
             "bdata": "AgYCBAgCCQIICAcFAgk=",
             "dtype": "i1"
            },
            "sizemode": "area",
            "sizeref": 0.0275,
            "symbol": "circle"
           },
           "mode": "markers+text",
           "name": "Coldwave",
           "showlegend": true,
           "text": [
            "Baitadi",
            "Bajang",
            "Darchula",
            "Dolkha",
            "Dolpa",
            "Gorkha",
            "Humla",
            "Jumla",
            "Manang",
            "Mugu",
            "Mustang",
            "Rasuwa",
            "Rukum",
            "Solukhumbu"
           ],
           "type": "scattergeo"
          }
         ],
         "name": "2008.0"
        },
        {
         "data": [
          {
           "geo": "geo",
           "hovertemplate": "event_type=Heatwave<br>Year=2009.0<br>Extreme Event Count=%{marker.size}<br>District=%{text}<br>lat=%{lat}<br>lon=%{lon}<extra></extra>",
           "lat": {
            "bdata": "mpmZmZkZPEAzMzMzM3M8QDMzMzMzszpAMzMzMzOzPEAzMzMzM7M6QM3MzMzMzDpA",
            "dtype": "f8"
           },
           "legendgroup": "Heatwave",
           "lon": {
            "bdata": "zczMzMxsVEAzMzMzM1NUQJqZmZmZeVVAMzMzMzMzVEAzMzMzM3NVQDMzMzMzU1VA",
            "dtype": "f8"
           },
           "marker": {
            "color": "#636efa",
            "size": {
             "bdata": "AQECAQID",
             "dtype": "i1"
            },
            "sizemode": "area",
            "sizeref": 0.0275,
            "symbol": "circle"
           },
           "mode": "markers+text",
           "name": "Heatwave",
           "showlegend": true,
           "text": [
            "Banke",
            "Bardiya",
            "Dhanusa",
            "Kailali",
            "Mahottari",
            "Routahat"
           ],
           "type": "scattergeo"
          },
          {
           "geo": "geo",
           "hovertemplate": "event_type=Heavy Rain<br>Year=2009.0<br>Extreme Event Count=%{marker.size}<br>District=%{text}<br>lat=%{lat}<br>lon=%{lon}<extra></extra>",
           "lat": {
            "bdata": "ZmZmZmbmO0DNzMzMzEw8QJqZmZmZGTxAMzMzMzNzPEAzMzMzM7M7QM3MzMzMTD1AzczMzMzMPEDNzMzMzAw8QDMzMzMzsztAMzMzMzOzOkCamZmZmRk8QGZmZmZm5jpAMzMzMzOzOkAzMzMzM7M8QAAAAAAAAD1AexSuR+G6O0DhehSuR6E7QDMzMzMzszpAZmZmZmZmO0AAAAAAAIA6QGZmZmZmZjxAmpmZmZmZO0CamZmZmdk7QGZmZmZm5jtAMzMzMzMzPEDNzMzMzMw6QGZmZmZmpjxAUrgeheuRO0BmZmZmZmY8QAAAAAAAADtAMzMzMzMzO0AAAAAAAMA6QAAAAAAAwDxAAAAAAAAAPEA=",
            "dtype": "f8"
           },
           "legendgroup": "Heavy Rain",
           "lon": {
            "bdata": "zczMzMzMVEBmZmZmZuZUQM3MzMzMbFRAMzMzMzNTVECamZmZmRlVQGZmZmZmJlRAzczMzMxsVECamZmZmZlUQM3MzMzMTFVAmpmZmZl5VUDNzMzMzMxUQAAAAAAAAFZAmpmZmZn5VUAzMzMzMzNUQM3MzMzMDFRASOF6FK5XVUCF61G4HlVVQDMzMzMzc1VAAAAAAABAVUAzMzMzM9NVQGZmZmZm5lRAAAAAAAAAVUAAAAAAAFBVQAAAAAAA4FRAzczMzMzsVEAzMzMzM1NVQGZmZmZmllRArkfhehTeVEBmZmZmZoZUQM3MzMzMXFVAmpmZmZl5VUAzMzMzM9NVQJqZmZmZWVRAZmZmZmb2VEA=",
            "dtype": "f8"
           },
           "marker": {
            "color": "#EF553B",
            "size": {
             "bdata": "AgEBAQEBAQEBAQICAgEBAQEBAQEBAgECAQEBAgEBAQEBAg==",
             "dtype": "i1"
            },
            "sizemode": "area",
            "sizeref": 0.0275,
            "symbol": "circle"
           },
           "mode": "markers+text",
           "name": "Heavy Rain",
           "showlegend": true,
           "text": [
            "Arghakhanchi",
            "Baglung",
            "Banke",
            "Bardiya",
            "Chitawan",
            "Dadeldhura",
            "Dailekh",
            "Dang",
            "Dhading",
            "Dhanusa",
            "Gulmi",
            "Ilam",
            "Jhapa",
            "Kailali",
            "Kanchanpur",
            "Kathmandu",
            "Lalitpur",
            "Mahottari",
            "Makwanpur",
            "Morang",
            "Myagdi",
            "Nawalparasi",
            "Nuwakot",
            "Palpa",
            "Parbat",
            "Routahat",
            "Rukum",
            "Rupandehi",
            "Salyan",
            "Sarlahi",
            "Sindhuli",
            "Sunsari",
            "Surkhet",
            "Syangja"
           ],
           "type": "scattergeo"
          },
          {
           "geo": "geo",
           "hovertemplate": "event_type=Coldwave<br>Year=2009.0<br>Extreme Event Count=%{marker.size}<br>District=%{text}<br>lat=%{lat}<br>lon=%{lon}<extra></extra>",
           "lat": {
            "bdata": "AAAAAACAPUCamZmZmZk9QGZmZmZm5j1AmpmZmZmZO0AAAAAAAAA9QAAAAAAAADxAAAAAAAAAPkDNzMzMzEw9QJqZmZmZmTxAAAAAAACAPUAzMzMzM7M8QJqZmZmZGTxAZmZmZmamPEAAAAAAAAA8QA==",
            "dtype": "f8"
           },
           "legendgroup": "Coldwave",
           "lon": {
            "bdata": "AAAAAAAgVEDNzMzMzExUQGZmZmZmJlRAzczMzMyMVUCamZmZmblUQGZmZmZmJlVAMzMzMzNzVEDNzMzMzIxUQM3MzMzMDFVAZmZmZmaGVEB7FK5H4epUQDMzMzMzU1VAZmZmZmaWVEAzMzMzM7NVQA==",
            "dtype": "f8"
           },
           "marker": {
            "color": "#00cc96",
            "size": {
             "bdata": "AwUDBAgBCgIICAgFAQo=",
             "dtype": "i1"
            },
            "sizemode": "area",
            "sizeref": 0.0275,
            "symbol": "circle"
           },
           "mode": "markers+text",
           "name": "Coldwave",
           "showlegend": true,
           "text": [
            "Baitadi",
            "Bajang",
            "Darchula",
            "Dolkha",
            "Dolpa",
            "Gorkha",
            "Humla",
            "Jumla",
            "Manang",
            "Mugu",
            "Mustang",
            "Rasuwa",
            "Rukum",
            "Solukhumbu"
           ],
           "type": "scattergeo"
          }
         ],
         "name": "2009.0"
        },
        {
         "data": [
          {
           "geo": "geo",
           "hovertemplate": "event_type=Heatwave<br>Year=2010.0<br>Extreme Event Count=%{marker.size}<br>District=%{text}<br>lat=%{lat}<br>lon=%{lon}<extra></extra>",
           "lat": {
            "bdata": "mpmZmZkZPEAzMzMzM3M8QDMzMzMzszpAMzMzMzOzPEAzMzMzM7M6QM3MzMzMzDpA",
            "dtype": "f8"
           },
           "legendgroup": "Heatwave",
           "lon": {
            "bdata": "zczMzMxsVEAzMzMzM1NUQJqZmZmZeVVAMzMzMzMzVEAzMzMzM3NVQDMzMzMzU1VA",
            "dtype": "f8"
           },
           "marker": {
            "color": "#636efa",
            "size": {
             "bdata": "AQMDAwMD",
             "dtype": "i1"
            },
            "sizemode": "area",
            "sizeref": 0.0275,
            "symbol": "circle"
           },
           "mode": "markers+text",
           "name": "Heatwave",
           "showlegend": true,
           "text": [
            "Banke",
            "Bardiya",
            "Dhanusa",
            "Kailali",
            "Mahottari",
            "Routahat"
           ],
           "type": "scattergeo"
          },
          {
           "geo": "geo",
           "hovertemplate": "event_type=Heavy Rain<br>Year=2010.0<br>Extreme Event Count=%{marker.size}<br>District=%{text}<br>lat=%{lat}<br>lon=%{lon}<extra></extra>",
           "lat": {
            "bdata": "ZmZmZmbmO0DNzMzMzEw8QAAAAAAAgD1AmpmZmZkZPEAzMzMzM3M8QDMzMzMzsztAMzMzMzOzO0DNzMzMzEw9QM3MzMzMzDxAzczMzMwMPEBmZmZmZuY9QDMzMzMzsztAAAAAAAAAO0AzMzMzM7M6QM3MzMzMTD1AAAAAAAAAPECamZmZmRk8QGZmZmZm5jpAMzMzMzOzOkDNzMzMzEw9QJqZmZmZmTtAMzMzMzOzPEAAAAAAAAA9QDMzMzMzMzxAexSuR+G6O0DhehSuR6E7QM3MzMzMTDxAMzMzMzOzOkBmZmZmZmY7QAAAAAAAgDpAZmZmZmZmPECamZmZmZk7QJqZmZmZ2TtAZmZmZmbmO0CamZmZmRk7QDMzMzMzMzxAzczMzMzMOkBmZmZmZqY8QFK4HoXrkTtAZmZmZmZmPEDNzMzMzEw7QJqZmZmZmTpAAAAAAAAAO0AzMzMzMzM7QAAAAAAAwDpAAAAAAADAPEAAAAAAAAA8QAAAAAAAADxAZmZmZmZmO0CamZmZmRk7QGZmZmZm5jpA",
            "dtype": "f8"
           },
           "legendgroup": "Heavy Rain",
           "lon": {
            "bdata": "zczMzMzMVEBmZmZmZuZUQAAAAAAAIFRAzczMzMxsVEAzMzMzM1NUQAAAAAAAYFVAmpmZmZkZVUBmZmZmZiZUQM3MzMzMbFRAmpmZmZmZVEBmZmZmZiZUQM3MzMzMTFVAMzMzMzPTVUCamZmZmXlVQM3MzMzMPFRAZmZmZmYmVUDNzMzMzMxUQAAAAAAAAFZAmpmZmZn5VUDNzMzMzIxUQGZmZmZmZlVAMzMzMzMzVEDNzMzMzAxUQJqZmZmZ+VRASOF6FK5XVUCF61G4HlVVQJqZmZmZGVVAMzMzMzNzVUAAAAAAAEBVQDMzMzMz01VAZmZmZmbmVEAAAAAAAABVQAAAAAAAUFVAAAAAAADgVEAzMzMzM/NVQM3MzMzM7FRAMzMzMzNTVUBmZmZmZpZUQK5H4XoU3lRAZmZmZmaGVEAzMzMzM9NVQDMzMzMzs1VAzczMzMxcVUCamZmZmXlVQDMzMzMz01VAmpmZmZlZVEBmZmZmZvZUQGZmZmZmBlVAzczMzMzsVUAAAAAAAOBVQAAAAAAAoFVA",
            "dtype": "f8"
           },
           "marker": {
            "color": "#EF553B",
            "size": {
             "bdata": "AwEBAgIBAQICAwEBAQECAQMDAwEBAwMBAQEBAQECAQMBAwIBAQIDAwEBAQECAgIBAgIB",
             "dtype": "i1"
            },
            "sizemode": "area",
            "sizeref": 0.0275,
            "symbol": "circle"
           },
           "mode": "markers+text",
           "name": "Heavy Rain",
           "showlegend": true,
           "text": [
            "Arghakhanchi",
            "Baglung",
            "Baitadi",
            "Banke",
            "Bardiya",
            "Bhaktapur",
            "Chitawan",
            "Dadeldhura",
            "Dailekh",
            "Dang",
            "Darchula",
            "Dhading",
            "Dhankuta",
            "Dhanusa",
            "Doti",
            "Gorkha",
            "Gulmi",
            "Ilam",
            "Jhapa",
            "Jumla",
            "Kabhre",
            "Kailali",
            "Kanchanpur",
            "Kaski",
            "Kathmandu",
            "Lalitpur",
            "Lamjung",
            "Mahottari",
            "Makwanpur",
            "Morang",
            "Myagdi",
            "Nawalparasi",
            "Nuwakot",
            "Palpa",
            "Panchther",
            "Parbat",
            "Routahat",
            "Rukum",
            "Rupandehi",
            "Salyan",
            "Sankhuwasabha",
            "Saptari",
            "Sarlahi",
            "Sindhuli",
            "Sunsari",
            "Surkhet",
            "Syangja",
            "Tanahun",
            "Taplejung",
            "Terhathum",
            "Udayapur"
           ],
           "type": "scattergeo"
          },
          {
           "geo": "geo",
           "hovertemplate": "event_type=Coldwave<br>Year=2010.0<br>Extreme Event Count=%{marker.size}<br>District=%{text}<br>lat=%{lat}<br>lon=%{lon}<extra></extra>",
           "lat": {
            "bdata": "AAAAAACAPUCamZmZmZk9QGZmZmZm5j1AmpmZmZmZO0AAAAAAAAA9QAAAAAAAADxAAAAAAAAAPkDNzMzMzEw9QJqZmZmZmTxAAAAAAACAPUAzMzMzM7M8QJqZmZmZGTxAZmZmZmamPEAAAAAAAAA8QA==",
            "dtype": "f8"
           },
           "legendgroup": "Coldwave",
           "lon": {
            "bdata": "AAAAAAAgVEDNzMzMzExUQGZmZmZmJlRAzczMzMyMVUCamZmZmblUQGZmZmZmJlVAMzMzMzNzVEDNzMzMzIxUQM3MzMzMDFVAZmZmZmaGVEB7FK5H4epUQDMzMzMzU1VAZmZmZmaWVEAzMzMzM7NVQA==",
            "dtype": "f8"
           },
           "marker": {
            "color": "#00cc96",
            "size": {
             "bdata": "AwUDAwgDCgMICAcEAwo=",
             "dtype": "i1"
            },
            "sizemode": "area",
            "sizeref": 0.0275,
            "symbol": "circle"
           },
           "mode": "markers+text",
           "name": "Coldwave",
           "showlegend": true,
           "text": [
            "Baitadi",
            "Bajang",
            "Darchula",
            "Dolkha",
            "Dolpa",
            "Gorkha",
            "Humla",
            "Jumla",
            "Manang",
            "Mugu",
            "Mustang",
            "Rasuwa",
            "Rukum",
            "Solukhumbu"
           ],
           "type": "scattergeo"
          }
         ],
         "name": "2010.0"
        },
        {
         "data": [
          {
           "geo": "geo",
           "hovertemplate": "event_type=Heatwave<br>Year=2011.0<br>Extreme Event Count=%{marker.size}<br>District=%{text}<br>lat=%{lat}<br>lon=%{lon}<extra></extra>",
           "lat": {
            "bdata": "MzMzMzNzPEDNzMzMzMw6QA==",
            "dtype": "f8"
           },
           "legendgroup": "Heatwave",
           "lon": {
            "bdata": "MzMzMzNTVEAzMzMzM1NVQA==",
            "dtype": "f8"
           },
           "marker": {
            "color": "#636efa",
            "size": {
             "bdata": "AQE=",
             "dtype": "i1"
            },
            "sizemode": "area",
            "sizeref": 0.0275,
            "symbol": "circle"
           },
           "mode": "markers+text",
           "name": "Heatwave",
           "showlegend": true,
           "text": [
            "Bardiya",
            "Routahat"
           ],
           "type": "scattergeo"
          },
          {
           "geo": "geo",
           "hovertemplate": "event_type=Heavy Rain<br>Year=2011.0<br>Extreme Event Count=%{marker.size}<br>District=%{text}<br>lat=%{lat}<br>lon=%{lon}<extra></extra>",
           "lat": {
            "bdata": "ZmZmZmbmO0DNzMzMzEw8QJqZmZmZGTxAMzMzMzNzPEAzMzMzM7M7QM3MzMzMTD1AzczMzMzMPEDNzMzMzAw8QAAAAAAAADtAMzMzMzOzOkDNzMzMzEw9QJqZmZmZGTxAZmZmZmbmOkAzMzMzM7M6QM3MzMzMTD1AMzMzMzOzPEAAAAAAAAA9QDMzMzMzMzxAzczMzMxMPEAzMzMzM7M6QGZmZmZmZjtAAAAAAACAOkAzMzMzM7M8QGZmZmZmZjxAmpmZmZmZO0BmZmZmZuY7QJqZmZmZGTtAMzMzMzMzPEDNzMzMzMw6QGZmZmZmpjxAUrgeheuRO0BmZmZmZmY8QM3MzMzMTDtAmpmZmZmZOkAAAAAAAMA6QAAAAAAAwDxAAAAAAAAAPEAAAAAAAAA8QGZmZmZmZjtAmpmZmZkZO0BmZmZmZuY6QA==",
            "dtype": "f8"
           },
           "legendgroup": "Heavy Rain",
           "lon": {
            "bdata": "zczMzMzMVEBmZmZmZuZUQM3MzMzMbFRAMzMzMzNTVECamZmZmRlVQGZmZmZmJlRAzczMzMxsVECamZmZmZlUQDMzMzMz01VAmpmZmZl5VUDNzMzMzDxUQM3MzMzMzFRAAAAAAAAAVkCamZmZmflVQM3MzMzMjFRAMzMzMzMzVEDNzMzMzAxUQJqZmZmZ+VRAmpmZmZkZVUAzMzMzM3NVQAAAAAAAQFVAMzMzMzPTVUB7FK5H4epUQGZmZmZm5lRAAAAAAAAAVUAAAAAAAOBUQDMzMzMz81VAzczMzMzsVEAzMzMzM1NVQGZmZmZmllRArkfhehTeVEBmZmZmZoZUQDMzMzMz01VAMzMzMzOzVUAzMzMzM9NVQJqZmZmZWVRAZmZmZmb2VEBmZmZmZgZVQM3MzMzM7FVAAAAAAADgVUAAAAAAAKBVQA==",
            "dtype": "f8"
           },
           "marker": {
            "color": "#EF553B",
            "size": {
             "bdata": "AgIDAwIDAwMBAQICBAMCAwMCAQEBAwECAgICAgIDAgMBAQMDAgECAgE=",
             "dtype": "i1"
            },
            "sizemode": "area",
            "sizeref": 0.0275,
            "symbol": "circle"
           },
           "mode": "markers+text",
           "name": "Heavy Rain",
           "showlegend": true,
           "text": [
            "Arghakhanchi",
            "Baglung",
            "Banke",
            "Bardiya",
            "Chitawan",
            "Dadeldhura",
            "Dailekh",
            "Dang",
            "Dhankuta",
            "Dhanusa",
            "Doti",
            "Gulmi",
            "Ilam",
            "Jhapa",
            "Jumla",
            "Kailali",
            "Kanchanpur",
            "Kaski",
            "Lamjung",
            "Mahottari",
            "Makwanpur",
            "Morang",
            "Mustang",
            "Myagdi",
            "Nawalparasi",
            "Palpa",
            "Panchther",
            "Parbat",
            "Routahat",
            "Rukum",
            "Rupandehi",
            "Salyan",
            "Sankhuwasabha",
            "Saptari",
            "Sunsari",
            "Surkhet",
            "Syangja",
            "Tanahun",
            "Taplejung",
            "Terhathum",
            "Udayapur"
           ],
           "type": "scattergeo"
          },
          {
           "geo": "geo",
           "hovertemplate": "event_type=Coldwave<br>Year=2011.0<br>Extreme Event Count=%{marker.size}<br>District=%{text}<br>lat=%{lat}<br>lon=%{lon}<extra></extra>",
           "lat": {
            "bdata": "AAAAAACAPUCamZmZmZk9QDMzMzMzsztAZmZmZmbmPUCamZmZmZk7QAAAAAAAAD1AAAAAAAAAPEAAAAAAAAA+QM3MzMzMTD1AmpmZmZmZO0AzMzMzMzM8QM3MzMzMTDxAmpmZmZmZPEAAAAAAAIA9QDMzMzMzszxAmpmZmZkZPEBmZmZmZqY8QAAAAAAAADxAAAAAAAAAPEA=",
            "dtype": "f8"
           },
           "legendgroup": "Coldwave",
           "lon": {
            "bdata": "AAAAAAAgVEDNzMzMzExUQAAAAAAAYFVAZmZmZmYmVEDNzMzMzIxVQJqZmZmZuVRAZmZmZmYmVUAzMzMzM3NUQM3MzMzMjFRAZmZmZmZmVUCamZmZmflUQJqZmZmZGVVAzczMzMwMVUBmZmZmZoZUQHsUrkfh6lRAMzMzMzNTVUBmZmZmZpZUQDMzMzMzs1VAZmZmZmYGVUA=",
            "dtype": "f8"
           },
           "marker": {
            "color": "#00cc96",
            "size": {
             "bdata": "AwYBAwQIAgkDAQEBCAgHBQIKAQ==",
             "dtype": "i1"
            },
            "sizemode": "area",
            "sizeref": 0.0275,
            "symbol": "circle"
           },
           "mode": "markers+text",
           "name": "Coldwave",
           "showlegend": true,
           "text": [
            "Baitadi",
            "Bajang",
            "Bhaktapur",
            "Darchula",
            "Dolkha",
            "Dolpa",
            "Gorkha",
            "Humla",
            "Jumla",
            "Kabhre",
            "Kaski",
            "Lamjung",
            "Manang",
            "Mugu",
            "Mustang",
            "Rasuwa",
            "Rukum",
            "Solukhumbu",
            "Tanahun"
           ],
           "type": "scattergeo"
          }
         ],
         "name": "2011.0"
        },
        {
         "data": [
          {
           "geo": "geo",
           "hovertemplate": "event_type=Heatwave<br>Year=2013.0<br>Extreme Event Count=%{marker.size}<br>District=%{text}<br>lat=%{lat}<br>lon=%{lon}<extra></extra>",
           "lat": {
            "bdata": "MzMzMzNzPEAzMzMzM7M8QM3MzMzMzDpA",
            "dtype": "f8"
           },
           "legendgroup": "Heatwave",
           "lon": {
            "bdata": "MzMzMzNTVEAzMzMzMzNUQDMzMzMzU1VA",
            "dtype": "f8"
           },
           "marker": {
            "color": "#636efa",
            "size": {
             "bdata": "AQEB",
             "dtype": "i1"
            },
            "sizemode": "area",
            "sizeref": 0.0275,
            "symbol": "circle"
           },
           "mode": "markers+text",
           "name": "Heatwave",
           "showlegend": true,
           "text": [
            "Bardiya",
            "Kailali",
            "Routahat"
           ],
           "type": "scattergeo"
          },
          {
           "geo": "geo",
           "hovertemplate": "event_type=Heavy Rain<br>Year=2013.0<br>Extreme Event Count=%{marker.size}<br>District=%{text}<br>lat=%{lat}<br>lon=%{lon}<extra></extra>",
           "lat": {
            "bdata": "ZmZmZmbmO0DNzMzMzEw8QAAAAAAAgD1AmpmZmZkZPEAzMzMzM3M8QDMzMzMzsztAMzMzMzOzO0DNzMzMzEw9QM3MzMzMzDxAzczMzMwMPEBmZmZmZuY9QDMzMzMzsztAAAAAAAAAPUDNzMzMzEw9QAAAAAAAADxAmpmZmZkZPEBmZmZmZuY6QDMzMzMzszpAzczMzMxMPUCamZmZmZk7QDMzMzMzszxAAAAAAAAAPUAzMzMzMzM8QHsUrkfhujtA4XoUrkehO0DNzMzMzEw8QGZmZmZmZjtAAAAAAACAOkAzMzMzM7M8QGZmZmZmZjxAmpmZmZmZO0CamZmZmdk7QGZmZmZm5jtAmpmZmZkZO0AzMzMzMzM8QM3MzMzMzDpAZmZmZmamPEBSuB6F65E7QGZmZmZmZjxAAAAAAAAAO0AzMzMzMzM7QAAAAAAAwDpAAAAAAADAPEAAAAAAAAA8QAAAAAAAADxAZmZmZmZmO0CamZmZmRk7QA==",
            "dtype": "f8"
           },
           "legendgroup": "Heavy Rain",
           "lon": {
            "bdata": "zczMzMzMVEBmZmZmZuZUQAAAAAAAIFRAzczMzMxsVEAzMzMzM1NUQAAAAAAAYFVAmpmZmZkZVUBmZmZmZiZUQM3MzMzMbFRAmpmZmZmZVEBmZmZmZiZUQM3MzMzMTFVAmpmZmZm5VEDNzMzMzDxUQGZmZmZmJlVAzczMzMzMVEAAAAAAAABWQJqZmZmZ+VVAzczMzMyMVEBmZmZmZmZVQDMzMzMzM1RAzczMzMwMVECamZmZmflUQEjhehSuV1VAhetRuB5VVUCamZmZmRlVQAAAAAAAQFVAMzMzMzPTVUB7FK5H4epUQGZmZmZm5lRAAAAAAAAAVUAAAAAAAFBVQAAAAAAA4FRAMzMzMzPzVUDNzMzMzOxUQDMzMzMzU1VAZmZmZmaWVECuR+F6FN5UQGZmZmZmhlRAzczMzMxcVUCamZmZmXlVQDMzMzMz01VAmpmZmZlZVEBmZmZmZvZUQGZmZmZmBlVAzczMzMzsVUAAAAAAAOBVQA==",
            "dtype": "f8"
           },
           "marker": {
            "color": "#EF553B",
            "size": {
             "bdata": "AwMBAwMBAwICAwECAgICAwMCAgEDAwMCAgMCAgIDAwIDAgMBAwMDAQECAgMDAgI=",
             "dtype": "i1"
            },
            "sizemode": "area",
            "sizeref": 0.0275,
            "symbol": "circle"
           },
           "mode": "markers+text",
           "name": "Heavy Rain",
           "showlegend": true,
           "text": [
            "Arghakhanchi",
            "Baglung",
            "Baitadi",
            "Banke",
            "Bardiya",
            "Bhaktapur",
            "Chitawan",
            "Dadeldhura",
            "Dailekh",
            "Dang",
            "Darchula",
            "Dhading",
            "Dolpa",
            "Doti",
            "Gorkha",
            "Gulmi",
            "Ilam",
            "Jhapa",
            "Jumla",
            "Kabhre",
            "Kailali",
            "Kanchanpur",
            "Kaski",
            "Kathmandu",
            "Lalitpur",
            "Lamjung",
            "Makwanpur",
            "Morang",
            "Mustang",
            "Myagdi",
            "Nawalparasi",
            "Nuwakot",
            "Palpa",
            "Panchther",
            "Parbat",
            "Routahat",
            "Rukum",
            "Rupandehi",
            "Salyan",
            "Sarlahi",
            "Sindhuli",
            "Sunsari",
            "Surkhet",
            "Syangja",
            "Tanahun",
            "Taplejung",
            "Terhathum"
           ],
           "type": "scattergeo"
          },
          {
           "geo": "geo",
           "hovertemplate": "event_type=Coldwave<br>Year=2013.0<br>Extreme Event Count=%{marker.size}<br>District=%{text}<br>lat=%{lat}<br>lon=%{lon}<extra></extra>",
           "lat": {
            "bdata": "AAAAAACAPUCamZmZmZk9QDMzMzMzsztAZmZmZmbmPUCamZmZmZk7QAAAAAAAAD1AAAAAAAAAPEAAAAAAAAA+QM3MzMzMTD1AmpmZmZmZO0AzMzMzMzM8QM3MzMzMTDxAmpmZmZmZPEAAAAAAAIA9QDMzMzMzszxAmpmZmZkZPEBmZmZmZqY8QAAAAAAAADxAAAAAAAAAPEA=",
            "dtype": "f8"
           },
           "legendgroup": "Coldwave",
           "lon": {
            "bdata": "AAAAAAAgVEDNzMzMzExUQAAAAAAAYFVAZmZmZmYmVEDNzMzMzIxVQJqZmZmZuVRAZmZmZmYmVUAzMzMzM3NUQM3MzMzMjFRAZmZmZmZmVUCamZmZmflUQJqZmZmZGVVAzczMzMwMVUBmZmZmZoZUQHsUrkfh6lRAMzMzMzNTVUBmZmZmZpZUQDMzMzMzs1VAZmZmZmYGVUA=",
            "dtype": "f8"
           },
           "marker": {
            "color": "#00cc96",
            "size": {
             "bdata": "AwUBAwQIAwkDAQEBCAgIBQIJAQ==",
             "dtype": "i1"
            },
            "sizemode": "area",
            "sizeref": 0.0275,
            "symbol": "circle"
           },
           "mode": "markers+text",
           "name": "Coldwave",
           "showlegend": true,
           "text": [
            "Baitadi",
            "Bajang",
            "Bhaktapur",
            "Darchula",
            "Dolkha",
            "Dolpa",
            "Gorkha",
            "Humla",
            "Jumla",
            "Kabhre",
            "Kaski",
            "Lamjung",
            "Manang",
            "Mugu",
            "Mustang",
            "Rasuwa",
            "Rukum",
            "Solukhumbu",
            "Tanahun"
           ],
           "type": "scattergeo"
          }
         ],
         "name": "2013.0"
        },
        {
         "data": [
          {
           "geo": "geo",
           "hovertemplate": "event_type=Heatwave<br>Year=2014.0<br>Extreme Event Count=%{marker.size}<br>District=%{text}<br>lat=%{lat}<br>lon=%{lon}<extra></extra>",
           "lat": {
            "bdata": "mpmZmZkZPEAzMzMzM3M8QDMzMzMzszpAMzMzMzOzPEAzMzMzM7M6QM3MzMzMzDpA",
            "dtype": "f8"
           },
           "legendgroup": "Heatwave",
           "lon": {
            "bdata": "zczMzMxsVEAzMzMzM1NUQJqZmZmZeVVAMzMzMzMzVEAzMzMzM3NVQDMzMzMzU1VA",
            "dtype": "f8"
           },
           "marker": {
            "color": "#636efa",
            "size": {
             "bdata": "AQIDAQMD",
             "dtype": "i1"
            },
            "sizemode": "area",
            "sizeref": 0.0275,
            "symbol": "circle"
           },
           "mode": "markers+text",
           "name": "Heatwave",
           "showlegend": true,
           "text": [
            "Banke",
            "Bardiya",
            "Dhanusa",
            "Kailali",
            "Mahottari",
            "Routahat"
           ],
           "type": "scattergeo"
          },
          {
           "geo": "geo",
           "hovertemplate": "event_type=Heavy Rain<br>Year=2014.0<br>Extreme Event Count=%{marker.size}<br>District=%{text}<br>lat=%{lat}<br>lon=%{lon}<extra></extra>",
           "lat": {
            "bdata": "ZmZmZmbmO0DNzMzMzEw8QAAAAAAAgD1AmpmZmZkZPEAzMzMzM3M8QDMzMzMzsztAzczMzMxMPUDNzMzMzMw8QM3MzMzMDDxAZmZmZmbmPUAzMzMzM7M7QDMzMzMzszpAzczMzMxMPUAAAAAAAAA8QJqZmZmZGTxAZmZmZmbmOkAzMzMzM7M6QM3MzMzMTD1AMzMzMzOzPEAAAAAAAAA9QDMzMzMzMzxAexSuR+G6O0DhehSuR6E7QM3MzMzMTDxAMzMzMzOzOkBmZmZmZmY7QJqZmZmZmTxAMzMzMzOzPEBmZmZmZmY8QJqZmZmZmTtAmpmZmZnZO0BmZmZmZuY7QDMzMzMzMzxAzczMzMzMOkBmZmZmZqY8QFK4HoXrkTtAZmZmZmZmPEAAAAAAAAA7QDMzMzMzMztAAAAAAADAPEAAAAAAAAA8QAAAAAAAADxA",
            "dtype": "f8"
           },
           "legendgroup": "Heavy Rain",
           "lon": {
            "bdata": "zczMzMzMVEBmZmZmZuZUQAAAAAAAIFRAzczMzMxsVEAzMzMzM1NUQJqZmZmZGVVAZmZmZmYmVEDNzMzMzGxUQJqZmZmZmVRAZmZmZmYmVEDNzMzMzExVQJqZmZmZeVVAzczMzMw8VEBmZmZmZiZVQM3MzMzMzFRAAAAAAAAAVkCamZmZmflVQM3MzMzMjFRAMzMzMzMzVEDNzMzMzAxUQJqZmZmZ+VRASOF6FK5XVUCF61G4HlVVQJqZmZmZGVVAMzMzMzNzVUAAAAAAAEBVQM3MzMzMDFVAexSuR+HqVEBmZmZmZuZUQAAAAAAAAFVAAAAAAABQVUAAAAAAAOBUQM3MzMzM7FRAMzMzMzNTVUBmZmZmZpZUQK5H4XoU3lRAZmZmZmaGVEDNzMzMzFxVQJqZmZmZeVVAmpmZmZlZVEBmZmZmZvZUQGZmZmZmBlVA",
            "dtype": "f8"
           },
           "marker": {
            "color": "#EF553B",
            "size": {
             "bdata": "AwMBAgEDAQECAQIBAQIDAgEBAQEDAgIDAQICAwMDAgMDAQIDAgEBAQMD",
             "dtype": "i1"
            },
            "sizemode": "area",
            "sizeref": 0.0275,
            "symbol": "circle"
           },
           "mode": "markers+text",
           "name": "Heavy Rain",
           "showlegend": true,
           "text": [
            "Arghakhanchi",
            "Baglung",
            "Baitadi",
            "Banke",
            "Bardiya",
            "Chitawan",
            "Dadeldhura",
            "Dailekh",
            "Dang",
            "Darchula",
            "Dhading",
            "Dhanusa",
            "Doti",
            "Gorkha",
            "Gulmi",
            "Ilam",
            "Jhapa",
            "Jumla",
            "Kailali",
            "Kanchanpur",
            "Kaski",
            "Kathmandu",
            "Lalitpur",
            "Lamjung",
            "Mahottari",
            "Makwanpur",
            "Manang",
            "Mustang",
            "Myagdi",
            "Nawalparasi",
            "Nuwakot",
            "Palpa",
            "Parbat",
            "Routahat",
            "Rukum",
            "Rupandehi",
            "Salyan",
            "Sarlahi",
            "Sindhuli",
            "Surkhet",
            "Syangja",
            "Tanahun"
           ],
           "type": "scattergeo"
          },
          {
           "geo": "geo",
           "hovertemplate": "event_type=Coldwave<br>Year=2014.0<br>Extreme Event Count=%{marker.size}<br>District=%{text}<br>lat=%{lat}<br>lon=%{lon}<extra></extra>",
           "lat": {
            "bdata": "AAAAAACAPUCamZmZmZk9QGZmZmZm5j1AmpmZmZmZO0AAAAAAAAA9QAAAAAAAADxAAAAAAAAAPkDNzMzMzEw9QJqZmZmZmTxAAAAAAACAPUAzMzMzM7M8QJqZmZmZGTxAZmZmZmamPEAAAAAAAAA8QA==",
            "dtype": "f8"
           },
           "legendgroup": "Coldwave",
           "lon": {
            "bdata": "AAAAAAAgVEDNzMzMzExUQGZmZmZmJlRAzczMzMyMVUCamZmZmblUQGZmZmZmJlVAMzMzMzNzVEDNzMzMzIxUQM3MzMzMDFVAZmZmZmaGVEB7FK5H4epUQDMzMzMzU1VAZmZmZmaWVEAzMzMzM7NVQA==",
            "dtype": "f8"
           },
           "marker": {
            "color": "#00cc96",
            "size": {
             "bdata": "BAUEBAgDCgMICAcFAwo=",
             "dtype": "i1"
            },
            "sizemode": "area",
            "sizeref": 0.0275,
            "symbol": "circle"
           },
           "mode": "markers+text",
           "name": "Coldwave",
           "showlegend": true,
           "text": [
            "Baitadi",
            "Bajang",
            "Darchula",
            "Dolkha",
            "Dolpa",
            "Gorkha",
            "Humla",
            "Jumla",
            "Manang",
            "Mugu",
            "Mustang",
            "Rasuwa",
            "Rukum",
            "Solukhumbu"
           ],
           "type": "scattergeo"
          }
         ],
         "name": "2014.0"
        },
        {
         "data": [
          {
           "geo": "geo",
           "hovertemplate": "event_type=Heatwave<br>Year=2015.0<br>Extreme Event Count=%{marker.size}<br>District=%{text}<br>lat=%{lat}<br>lon=%{lon}<extra></extra>",
           "lat": {
            "bdata": "MzMzMzNzPEAzMzMzM7M6QDMzMzMzszxAMzMzMzOzOkDNzMzMzMw6QA==",
            "dtype": "f8"
           },
           "legendgroup": "Heatwave",
           "lon": {
            "bdata": "MzMzMzNTVECamZmZmXlVQDMzMzMzM1RAMzMzMzNzVUAzMzMzM1NVQA==",
            "dtype": "f8"
           },
           "marker": {
            "color": "#636efa",
            "size": {
             "bdata": "AgIBAgI=",
             "dtype": "i1"
            },
            "sizemode": "area",
            "sizeref": 0.0275,
            "symbol": "circle"
           },
           "mode": "markers+text",
           "name": "Heatwave",
           "showlegend": true,
           "text": [
            "Bardiya",
            "Dhanusa",
            "Kailali",
            "Mahottari",
            "Routahat"
           ],
           "type": "scattergeo"
          },
          {
           "geo": "geo",
           "hovertemplate": "event_type=Heavy Rain<br>Year=2015.0<br>Extreme Event Count=%{marker.size}<br>District=%{text}<br>lat=%{lat}<br>lon=%{lon}<extra></extra>",
           "lat": {
            "bdata": "ZmZmZmbmO0DNzMzMzEw8QJqZmZmZGTxAMzMzMzOzO0AzMzMzM7M7QM3MzMzMDDxAMzMzMzOzO0AAAAAAAAA7QDMzMzMzszpAAAAAAAAAPECamZmZmRk8QGZmZmZm5jpAMzMzMzOzOkCamZmZmZk7QDMzMzMzMzxAexSuR+G6O0DhehSuR6E7QM3MzMzMTDxAMzMzMzOzOkBmZmZmZmY7QJqZmZmZmTxAAAAAAACAOkAzMzMzM7M8QGZmZmZmZjxAmpmZmZmZO0CamZmZmdk7QM3MzMzMTDtAZmZmZmbmO0CamZmZmRk7QDMzMzMzMzxAmpmZmZkZPEDNzMzMzMw6QFK4HoXrkTtAZmZmZmZmPEDNzMzMzEw7QJqZmZmZmTpAAAAAAAAAO0AzMzMzMzM7QAAAAAAAwDpAAAAAAAAAPEAAAAAAAAA8QGZmZmZmZjtAmpmZmZkZO0BmZmZmZuY6QA==",
            "dtype": "f8"
           },
           "legendgroup": "Heavy Rain",
           "lon": {
            "bdata": "zczMzMzMVEBmZmZmZuZUQM3MzMzMbFRAAAAAAABgVUCamZmZmRlVQJqZmZmZmVRAzczMzMxMVUAzMzMzM9NVQJqZmZmZeVVAZmZmZmYmVUDNzMzMzMxUQAAAAAAAAFZAmpmZmZn5VUBmZmZmZmZVQJqZmZmZ+VRASOF6FK5XVUCF61G4HlVVQJqZmZmZGVVAMzMzMzNzVUAAAAAAAEBVQM3MzMzMDFVAMzMzMzPTVUB7FK5H4epUQGZmZmZm5lRAAAAAAAAAVUAAAAAAAFBVQAAAAAAAoFVAAAAAAADgVEAzMzMzM/NVQM3MzMzM7FRAMzMzMzNTVUAzMzMzM1NVQK5H4XoU3lRAZmZmZmaGVEAzMzMzM9NVQDMzMzMzs1VAzczMzMxcVUCamZmZmXlVQDMzMzMz01VAZmZmZmb2VEBmZmZmZgZVQM3MzMzM7FVAAAAAAADgVUAAAAAAAKBVQA==",
            "dtype": "f8"
           },
           "marker": {
            "color": "#EF553B",
            "size": {
             "bdata": "AgMCAQICAgEBAgMBAQEDAgICAQICAQIDAgIBAgEDAQICAQEBAQEBAwIBAQE=",
             "dtype": "i1"
            },
            "sizemode": "area",
            "sizeref": 0.0275,
            "symbol": "circle"
           },
           "mode": "markers+text",
           "name": "Heavy Rain",
           "showlegend": true,
           "text": [
            "Arghakhanchi",
            "Baglung",
            "Banke",
            "Bhaktapur",
            "Chitawan",
            "Dang",
            "Dhading",
            "Dhankuta",
            "Dhanusa",
            "Gorkha",
            "Gulmi",
            "Ilam",
            "Jhapa",
            "Kabhre",
            "Kaski",
            "Kathmandu",
            "Lalitpur",
            "Lamjung",
            "Mahottari",
            "Makwanpur",
            "Manang",
            "Morang",
            "Mustang",
            "Myagdi",
            "Nawalparasi",
            "Nuwakot",
            "Okhaldhunga",
            "Palpa",
            "Panchther",
            "Parbat",
            "Rasuwa",
            "Routahat",
            "Rupandehi",
            "Salyan",
            "Sankhuwasabha",
            "Saptari",
            "Sarlahi",
            "Sindhuli",
            "Sunsari",
            "Syangja",
            "Tanahun",
            "Taplejung",
            "Terhathum",
            "Udayapur"
           ],
           "type": "scattergeo"
          },
          {
           "geo": "geo",
           "hovertemplate": "event_type=Coldwave<br>Year=2015.0<br>Extreme Event Count=%{marker.size}<br>District=%{text}<br>lat=%{lat}<br>lon=%{lon}<extra></extra>",
           "lat": {
            "bdata": "AAAAAACAPUCamZmZmZk9QGZmZmZm5j1AmpmZmZmZO0AAAAAAAAA9QAAAAAAAADxAAAAAAAAAPkDNzMzMzEw9QDMzMzMzMzxAzczMzMxMPECamZmZmZk8QAAAAAAAgD1AMzMzMzOzPECamZmZmRk8QGZmZmZmpjxAAAAAAAAAPEAAAAAAAAA8QA==",
            "dtype": "f8"
           },
           "legendgroup": "Coldwave",
           "lon": {
            "bdata": "AAAAAAAgVEDNzMzMzExUQGZmZmZmJlRAzczMzMyMVUCamZmZmblUQGZmZmZmJlVAMzMzMzNzVEDNzMzMzIxUQJqZmZmZ+VRAmpmZmZkZVUDNzMzMzAxVQGZmZmZmhlRAexSuR+HqVEAzMzMzM1NVQGZmZmZmllRAMzMzMzOzVUBmZmZmZgZVQA==",
            "dtype": "f8"
           },
           "marker": {
            "color": "#00cc96",
            "size": {
             "bdata": "BAUEBAgDCgMBAQgICAUDCgE=",
             "dtype": "i1"
            },
            "sizemode": "area",
            "sizeref": 0.0275,
            "symbol": "circle"
           },
           "mode": "markers+text",
           "name": "Coldwave",
           "showlegend": true,
           "text": [
            "Baitadi",
            "Bajang",
            "Darchula",
            "Dolkha",
            "Dolpa",
            "Gorkha",
            "Humla",
            "Jumla",
            "Kaski",
            "Lamjung",
            "Manang",
            "Mugu",
            "Mustang",
            "Rasuwa",
            "Rukum",
            "Solukhumbu",
            "Tanahun"
           ],
           "type": "scattergeo"
          }
         ],
         "name": "2015.0"
        },
        {
         "data": [
          {
           "geo": "geo",
           "hovertemplate": "event_type=Heatwave<br>Year=2016.0<br>Extreme Event Count=%{marker.size}<br>District=%{text}<br>lat=%{lat}<br>lon=%{lon}<extra></extra>",
           "lat": {
            "bdata": "MzMzMzNzPEAzMzMzM7M6QDMzMzMzszpAzczMzMzMOkAAAAAAAAA7QA==",
            "dtype": "f8"
           },
           "legendgroup": "Heatwave",
           "lon": {
            "bdata": "MzMzMzNTVECamZmZmXlVQDMzMzMzc1VAMzMzMzNTVUDNzMzMzFxVQA==",
            "dtype": "f8"
           },
           "marker": {
            "color": "#636efa",
            "size": {
             "bdata": "AQICAgE=",
             "dtype": "i1"
            },
            "sizemode": "area",
            "sizeref": 0.0275,
            "symbol": "circle"
           },
           "mode": "markers+text",
           "name": "Heatwave",
           "showlegend": true,
           "text": [
            "Bardiya",
            "Dhanusa",
            "Mahottari",
            "Routahat",
            "Sarlahi"
           ],
           "type": "scattergeo"
          },
          {
           "geo": "geo",
           "hovertemplate": "event_type=Heavy Rain<br>Year=2016.0<br>Extreme Event Count=%{marker.size}<br>District=%{text}<br>lat=%{lat}<br>lon=%{lon}<extra></extra>",
           "lat": {
            "bdata": "ZmZmZmbmO0DNzMzMzEw8QJqZmZmZGTxAMzMzMzNzPEAzMzMzM7M7QDMzMzMzsztAzczMzMxMPUDNzMzMzMw8QM3MzMzMDDxAMzMzMzOzO0AAAAAAAAA7QDMzMzMzszpAAAAAAAAAPUDNzMzMzEw9QAAAAAAAADxAmpmZmZkZPEBmZmZmZuY6QDMzMzMzszpAzczMzMxMPUCamZmZmZk7QDMzMzMzszxAAAAAAAAAPUAzMzMzMzM8QHsUrkfhujtA4XoUrkehO0DNzMzMzEw8QDMzMzMzszpAZmZmZmZmO0CamZmZmZk8QAAAAAAAgDpAMzMzMzOzPEBmZmZmZmY8QJqZmZmZmTtAmpmZmZnZO0DNzMzMzEw7QGZmZmZm5jtAmpmZmZkZO0AzMzMzMzM8QJqZmZmZGTxAzczMzMzMOkBmZmZmZqY8QFK4HoXrkTtAZmZmZmZmPEDNzMzMzEw7QJqZmZmZmTpAAAAAAAAAO0AzMzMzMzM7QAAAAAAAwDpAAAAAAADAPEAAAAAAAAA8QAAAAAAAADxAZmZmZmZmO0CamZmZmRk7QGZmZmZm5jpA",
            "dtype": "f8"
           },
           "legendgroup": "Heavy Rain",
           "lon": {
            "bdata": "zczMzMzMVEBmZmZmZuZUQM3MzMzMbFRAMzMzMzNTVEAAAAAAAGBVQJqZmZmZGVVAZmZmZmYmVEDNzMzMzGxUQJqZmZmZmVRAzczMzMxMVUAzMzMzM9NVQJqZmZmZeVVAmpmZmZm5VEDNzMzMzDxUQGZmZmZmJlVAzczMzMzMVEAAAAAAAABWQJqZmZmZ+VVAzczMzMyMVEBmZmZmZmZVQDMzMzMzM1RAzczMzMwMVECamZmZmflUQEjhehSuV1VAhetRuB5VVUCamZmZmRlVQDMzMzMzc1VAAAAAAABAVUDNzMzMzAxVQDMzMzMz01VAexSuR+HqVEBmZmZmZuZUQAAAAAAAAFVAAAAAAABQVUAAAAAAAKBVQAAAAAAA4FRAMzMzMzPzVUDNzMzMzOxUQDMzMzMzU1VAMzMzMzNTVUBmZmZmZpZUQK5H4XoU3lRAZmZmZmaGVEAzMzMzM9NVQDMzMzMzs1VAzczMzMxcVUCamZmZmXlVQDMzMzMz01VAmpmZmZlZVEBmZmZmZvZUQGZmZmZmBlVAzczMzMzsVUAAAAAAAOBVQAAAAAAAoFVA",
            "dtype": "f8"
           },
           "marker": {
            "color": "#EF553B",
            "size": {
             "bdata": "AQMBAQEDAQEBAQECAQECAQMCAQEBAQMBAQMCAQICAgMDAQIDAgMBAQECAQECAgICAQMDAgIC",
             "dtype": "i1"
            },
            "sizemode": "area",
            "sizeref": 0.0275,
            "symbol": "circle"
           },
           "mode": "markers+text",
           "name": "Heavy Rain",
           "showlegend": true,
           "text": [
            "Arghakhanchi",
            "Baglung",
            "Banke",
            "Bardiya",
            "Bhaktapur",
            "Chitawan",
            "Dadeldhura",
            "Dailekh",
            "Dang",
            "Dhading",
            "Dhankuta",
            "Dhanusa",
            "Dolpa",
            "Doti",
            "Gorkha",
            "Gulmi",
            "Ilam",
            "Jhapa",
            "Jumla",
            "Kabhre",
            "Kailali",
            "Kanchanpur",
            "Kaski",
            "Kathmandu",
            "Lalitpur",
            "Lamjung",
            "Mahottari",
            "Makwanpur",
            "Manang",
            "Morang",
            "Mustang",
            "Myagdi",
            "Nawalparasi",
            "Nuwakot",
            "Okhaldhunga",
            "Palpa",
            "Panchther",
            "Parbat",
            "Rasuwa",
            "Routahat",
            "Rukum",
            "Rupandehi",
            "Salyan",
            "Sankhuwasabha",
            "Saptari",
            "Sarlahi",
            "Sindhuli",
            "Sunsari",
            "Surkhet",
            "Syangja",
            "Tanahun",
            "Taplejung",
            "Terhathum",
            "Udayapur"
           ],
           "type": "scattergeo"
          },
          {
           "geo": "geo",
           "hovertemplate": "event_type=Coldwave<br>Year=2016.0<br>Extreme Event Count=%{marker.size}<br>District=%{text}<br>lat=%{lat}<br>lon=%{lon}<extra></extra>",
           "lat": {
            "bdata": "AAAAAACAPUCamZmZmZk9QGZmZmZm5j1AmpmZmZmZO0AAAAAAAAA9QAAAAAAAADxAAAAAAAAAPkDNzMzMzEw9QJqZmZmZmTxAAAAAAACAPUAzMzMzM7M8QJqZmZmZGTxAZmZmZmamPEAAAAAAAAA8QA==",
            "dtype": "f8"
           },
           "legendgroup": "Coldwave",
           "lon": {
            "bdata": "AAAAAAAgVEDNzMzMzExUQGZmZmZmJlRAzczMzMyMVUCamZmZmblUQGZmZmZmJlVAMzMzMzNzVEDNzMzMzIxUQM3MzMzMDFVAZmZmZmaGVEB7FK5H4epUQDMzMzMzU1VAZmZmZmaWVEAzMzMzM7NVQA==",
            "dtype": "f8"
           },
           "marker": {
            "color": "#00cc96",
            "size": {
             "bdata": "AgUCAggBCQIICAcFAQk=",
             "dtype": "i1"
            },
            "sizemode": "area",
            "sizeref": 0.0275,
            "symbol": "circle"
           },
           "mode": "markers+text",
           "name": "Coldwave",
           "showlegend": true,
           "text": [
            "Baitadi",
            "Bajang",
            "Darchula",
            "Dolkha",
            "Dolpa",
            "Gorkha",
            "Humla",
            "Jumla",
            "Manang",
            "Mugu",
            "Mustang",
            "Rasuwa",
            "Rukum",
            "Solukhumbu"
           ],
           "type": "scattergeo"
          }
         ],
         "name": "2016.0"
        },
        {
         "data": [
          {
           "geo": "geo",
           "hovertemplate": "event_type=Heatwave<br>Year=2017.0<br>Extreme Event Count=%{marker.size}<br>District=%{text}<br>lat=%{lat}<br>lon=%{lon}<extra></extra>",
           "lat": {
            "bdata": "MzMzMzNzPEAzMzMzM7M6QDMzMzMzszpAzczMzMzMOkA=",
            "dtype": "f8"
           },
           "legendgroup": "Heatwave",
           "lon": {
            "bdata": "MzMzMzNTVECamZmZmXlVQDMzMzMzc1VAMzMzMzNTVUA=",
            "dtype": "f8"
           },
           "marker": {
            "color": "#636efa",
            "size": {
             "bdata": "AgEBAw==",
             "dtype": "i1"
            },
            "sizemode": "area",
            "sizeref": 0.0275,
            "symbol": "circle"
           },
           "mode": "markers+text",
           "name": "Heatwave",
           "showlegend": true,
           "text": [
            "Bardiya",
            "Dhanusa",
            "Mahottari",
            "Routahat"
           ],
           "type": "scattergeo"
          },
          {
           "geo": "geo",
           "hovertemplate": "event_type=Heavy Rain<br>Year=2017.0<br>Extreme Event Count=%{marker.size}<br>District=%{text}<br>lat=%{lat}<br>lon=%{lon}<extra></extra>",
           "lat": {
            "bdata": "ZmZmZmbmO0DNzMzMzEw8QJqZmZmZGTxAMzMzMzNzPEAzMzMzM7M7QM3MzMzMTD1AzczMzMzMPEDNzMzMzAw8QDMzMzMzsztAAAAAAAAAO0AzMzMzM7M6QAAAAAAAAD1AzczMzMxMPUAAAAAAAAA8QJqZmZmZGTxAZmZmZmbmOkAzMzMzM7M6QM3MzMzMTD1AMzMzMzOzPEAAAAAAAAA9QDMzMzMzMzxAexSuR+G6O0DhehSuR6E7QM3MzMzMTDxAMzMzMzOzOkBmZmZmZmY7QJqZmZmZmTxAAAAAAACAOkAzMzMzM7M8QGZmZmZmZjxAmpmZmZmZO0CamZmZmdk7QM3MzMzMTDtAZmZmZmbmO0CamZmZmRk7QDMzMzMzMzxAzczMzMzMOkBmZmZmZqY8QFK4HoXrkTtAZmZmZmZmPEDNzMzMzEw7QJqZmZmZmTpAAAAAAAAAO0AzMzMzMzM7QAAAAAAAwDpAAAAAAADAPEAAAAAAAAA8QAAAAAAAADxAZmZmZmZmO0CamZmZmRk7QGZmZmZm5jpA",
            "dtype": "f8"
           },
           "legendgroup": "Heavy Rain",
           "lon": {
            "bdata": "zczMzMzMVEBmZmZmZuZUQM3MzMzMbFRAMzMzMzNTVECamZmZmRlVQGZmZmZmJlRAzczMzMxsVECamZmZmZlUQM3MzMzMTFVAMzMzMzPTVUCamZmZmXlVQJqZmZmZuVRAzczMzMw8VEBmZmZmZiZVQM3MzMzMzFRAAAAAAAAAVkCamZmZmflVQM3MzMzMjFRAMzMzMzMzVEDNzMzMzAxUQJqZmZmZ+VRASOF6FK5XVUCF61G4HlVVQJqZmZmZGVVAMzMzMzNzVUAAAAAAAEBVQM3MzMzMDFVAMzMzMzPTVUB7FK5H4epUQGZmZmZm5lRAAAAAAAAAVUAAAAAAAFBVQAAAAAAAoFVAAAAAAADgVEAzMzMzM/NVQM3MzMzM7FRAMzMzMzNTVUBmZmZmZpZUQK5H4XoU3lRAZmZmZmaGVEAzMzMzM9NVQDMzMzMzs1VAzczMzMxcVUCamZmZmXlVQDMzMzMz01VAmpmZmZlZVEBmZmZmZvZUQGZmZmZmBlVAzczMzMzsVUAAAAAAAOBVQAAAAAAAoFVA",
            "dtype": "f8"
           },
           "marker": {
            "color": "#EF553B",
            "size": {
             "bdata": "AgMCAgMBAgIBAQEBAQECAgIBAQEDAQEDAQEBAQMDAwEBAwEDAQICAgEBAQEBAgMDAQEB",
             "dtype": "i1"
            },
            "sizemode": "area",
            "sizeref": 0.0275,
            "symbol": "circle"
           },
           "mode": "markers+text",
           "name": "Heavy Rain",
           "showlegend": true,
           "text": [
            "Arghakhanchi",
            "Baglung",
            "Banke",
            "Bardiya",
            "Chitawan",
            "Dadeldhura",
            "Dailekh",
            "Dang",
            "Dhading",
            "Dhankuta",
            "Dhanusa",
            "Dolpa",
            "Doti",
            "Gorkha",
            "Gulmi",
            "Ilam",
            "Jhapa",
            "Jumla",
            "Kailali",
            "Kanchanpur",
            "Kaski",
            "Kathmandu",
            "Lalitpur",
            "Lamjung",
            "Mahottari",
            "Makwanpur",
            "Manang",
            "Morang",
            "Mustang",
            "Myagdi",
            "Nawalparasi",
            "Nuwakot",
            "Okhaldhunga",
            "Palpa",
            "Panchther",
            "Parbat",
            "Routahat",
            "Rukum",
            "Rupandehi",
            "Salyan",
            "Sankhuwasabha",
            "Saptari",
            "Sarlahi",
            "Sindhuli",
            "Sunsari",
            "Surkhet",
            "Syangja",
            "Tanahun",
            "Taplejung",
            "Terhathum",
            "Udayapur"
           ],
           "type": "scattergeo"
          },
          {
           "geo": "geo",
           "hovertemplate": "event_type=Coldwave<br>Year=2017.0<br>Extreme Event Count=%{marker.size}<br>District=%{text}<br>lat=%{lat}<br>lon=%{lon}<extra></extra>",
           "lat": {
            "bdata": "AAAAAACAPUCamZmZmZk9QGZmZmZm5j1AmpmZmZmZO0AAAAAAAAA9QAAAAAAAADxAAAAAAAAAPkDNzMzMzEw9QJqZmZmZmTxAAAAAAACAPUAzMzMzM7M8QJqZmZmZGTxAZmZmZmamPEAAAAAAAAA8QA==",
            "dtype": "f8"
           },
           "legendgroup": "Coldwave",
           "lon": {
            "bdata": "AAAAAAAgVEDNzMzMzExUQGZmZmZmJlRAzczMzMyMVUCamZmZmblUQGZmZmZmJlVAMzMzMzNzVEDNzMzMzIxUQM3MzMzMDFVAZmZmZmaGVEB7FK5H4epUQDMzMzMzU1VAZmZmZmaWVEAzMzMzM7NVQA==",
            "dtype": "f8"
           },
           "marker": {
            "color": "#00cc96",
            "size": {
             "bdata": "AwUDBAgBCgEICAcFAQo=",
             "dtype": "i1"
            },
            "sizemode": "area",
            "sizeref": 0.0275,
            "symbol": "circle"
           },
           "mode": "markers+text",
           "name": "Coldwave",
           "showlegend": true,
           "text": [
            "Baitadi",
            "Bajang",
            "Darchula",
            "Dolkha",
            "Dolpa",
            "Gorkha",
            "Humla",
            "Jumla",
            "Manang",
            "Mugu",
            "Mustang",
            "Rasuwa",
            "Rukum",
            "Solukhumbu"
           ],
           "type": "scattergeo"
          }
         ],
         "name": "2017.0"
        },
        {
         "data": [
          {
           "geo": "geo",
           "hovertemplate": "event_type=Heatwave<br>Year=1985.0<br>Extreme Event Count=%{marker.size}<br>District=%{text}<br>lat=%{lat}<br>lon=%{lon}<extra></extra>",
           "lat": {
            "bdata": "MzMzMzNzPEAzMzMzM7M6QDMzMzMzszxAMzMzMzOzOkDNzMzMzMw6QA==",
            "dtype": "f8"
           },
           "legendgroup": "Heatwave",
           "lon": {
            "bdata": "MzMzMzNTVECamZmZmXlVQDMzMzMzM1RAMzMzMzNzVUAzMzMzM1NVQA==",
            "dtype": "f8"
           },
           "marker": {
            "color": "#636efa",
            "size": {
             "bdata": "AgMBAwM=",
             "dtype": "i1"
            },
            "sizemode": "area",
            "sizeref": 0.0275,
            "symbol": "circle"
           },
           "mode": "markers+text",
           "name": "Heatwave",
           "showlegend": true,
           "text": [
            "Bardiya",
            "Dhanusa",
            "Kailali",
            "Mahottari",
            "Routahat"
           ],
           "type": "scattergeo"
          },
          {
           "geo": "geo",
           "hovertemplate": "event_type=Heavy Rain<br>Year=1985.0<br>Extreme Event Count=%{marker.size}<br>District=%{text}<br>lat=%{lat}<br>lon=%{lon}<extra></extra>",
           "lat": {
            "bdata": "MzMzMzOzO0AzMzMzM7M7QAAAAAAAADtAMzMzMzOzOkBmZmZmZuY6QDMzMzMzszpAexSuR+G6O0DhehSuR6E7QDMzMzMzszpAZmZmZmZmO0AAAAAAAIA6QJqZmZmZmTtAmpmZmZnZO0BmZmZmZuY7QJqZmZmZGTtAzczMzMzMOkDNzMzMzEw7QJqZmZmZmTpAAAAAAAAAO0AzMzMzMzM7QAAAAAAAwDpAZmZmZmZmO0CamZmZmRk7QGZmZmZm5jpA",
            "dtype": "f8"
           },
           "legendgroup": "Heavy Rain",
           "lon": {
            "bdata": "mpmZmZkZVUDNzMzMzExVQDMzMzMz01VAmpmZmZl5VUAAAAAAAABWQJqZmZmZ+VVASOF6FK5XVUCF61G4HlVVQDMzMzMzc1VAAAAAAABAVUAzMzMzM9NVQAAAAAAAAFVAAAAAAABQVUAAAAAAAOBUQDMzMzMz81VAMzMzMzNTVUAzMzMzM9NVQDMzMzMzs1VAzczMzMxcVUCamZmZmXlVQDMzMzMz01VAzczMzMzsVUAAAAAAAOBVQAAAAAAAoFVA",
            "dtype": "f8"
           },
           "marker": {
            "color": "#EF553B",
            "size": {
             "bdata": "AQEBAQEBAQEBAQEBAQEBAQEBAQEBAQEB",
             "dtype": "i1"
            },
            "sizemode": "area",
            "sizeref": 0.0275,
            "symbol": "circle"
           },
           "mode": "markers+text",
           "name": "Heavy Rain",
           "showlegend": true,
           "text": [
            "Chitawan",
            "Dhading",
            "Dhankuta",
            "Dhanusa",
            "Ilam",
            "Jhapa",
            "Kathmandu",
            "Lalitpur",
            "Mahottari",
            "Makwanpur",
            "Morang",
            "Nawalparasi",
            "Nuwakot",
            "Palpa",
            "Panchther",
            "Routahat",
            "Sankhuwasabha",
            "Saptari",
            "Sarlahi",
            "Sindhuli",
            "Sunsari",
            "Taplejung",
            "Terhathum",
            "Udayapur"
           ],
           "type": "scattergeo"
          },
          {
           "geo": "geo",
           "hovertemplate": "event_type=Coldwave<br>Year=1985.0<br>Extreme Event Count=%{marker.size}<br>District=%{text}<br>lat=%{lat}<br>lon=%{lon}<extra></extra>",
           "lat": {
            "bdata": "zczMzMxMPEAAAAAAAIA9QJqZmZmZmT1AMzMzMzOzO0BmZmZmZuY9QJqZmZmZmTtAAAAAAAAAPUAAAAAAAAA8QAAAAAAAAD5AzczMzMxMPUCamZmZmZk7QDMzMzMzMzxAzczMzMxMPECamZmZmZk8QAAAAAAAgD1AMzMzMzOzPEBmZmZmZmY8QDMzMzMzMzxAmpmZmZkZPEBmZmZmZqY8QAAAAAAAADxAAAAAAAAAPEA=",
            "dtype": "f8"
           },
           "legendgroup": "Coldwave",
           "lon": {
            "bdata": "ZmZmZmbmVEAAAAAAACBUQM3MzMzMTFRAAAAAAABgVUBmZmZmZiZUQM3MzMzMjFVAmpmZmZm5VEBmZmZmZiZVQDMzMzMzc1RAzczMzMyMVEBmZmZmZmZVQJqZmZmZ+VRAmpmZmZkZVUDNzMzMzAxVQGZmZmZmhlRAexSuR+HqVEBmZmZmZuZUQM3MzMzM7FRAMzMzMzNTVUBmZmZmZpZUQDMzMzMzs1VAZmZmZmYGVUA=",
            "dtype": "f8"
           },
           "marker": {
            "color": "#00cc96",
            "size": {
             "bdata": "AQMFAQMECAIKAwEBAQgICAEBBQIKAQ==",
             "dtype": "i1"
            },
            "sizemode": "area",
            "sizeref": 0.0275,
            "symbol": "circle"
           },
           "mode": "markers+text",
           "name": "Coldwave",
           "showlegend": true,
           "text": [
            "Baglung",
            "Baitadi",
            "Bajang",
            "Bhaktapur",
            "Darchula",
            "Dolkha",
            "Dolpa",
            "Gorkha",
            "Humla",
            "Jumla",
            "Kabhre",
            "Kaski",
            "Lamjung",
            "Manang",
            "Mugu",
            "Mustang",
            "Myagdi",
            "Parbat",
            "Rasuwa",
            "Rukum",
            "Solukhumbu",
            "Tanahun"
           ],
           "type": "scattergeo"
          }
         ],
         "name": "1985.0"
        },
        {
         "data": [
          {
           "geo": "geo",
           "hovertemplate": "event_type=Heatwave<br>Year=1983.0<br>Extreme Event Count=%{marker.size}<br>District=%{text}<br>lat=%{lat}<br>lon=%{lon}<extra></extra>",
           "lat": {
            "bdata": "MzMzMzNzPEAzMzMzM7M6QDMzMzMzszxAMzMzMzOzOkDNzMzMzMw6QAAAAAAAADtA",
            "dtype": "f8"
           },
           "legendgroup": "Heatwave",
           "lon": {
            "bdata": "MzMzMzNTVECamZmZmXlVQDMzMzMzM1RAMzMzMzNzVUAzMzMzM1NVQM3MzMzMXFVA",
            "dtype": "f8"
           },
           "marker": {
            "color": "#636efa",
            "size": {
             "bdata": "AgIBAgIB",
             "dtype": "i1"
            },
            "sizemode": "area",
            "sizeref": 0.0275,
            "symbol": "circle"
           },
           "mode": "markers+text",
           "name": "Heatwave",
           "showlegend": true,
           "text": [
            "Bardiya",
            "Dhanusa",
            "Kailali",
            "Mahottari",
            "Routahat",
            "Sarlahi"
           ],
           "type": "scattergeo"
          },
          {
           "geo": "geo",
           "hovertemplate": "event_type=Heavy Rain<br>Year=1983.0<br>Extreme Event Count=%{marker.size}<br>District=%{text}<br>lat=%{lat}<br>lon=%{lon}<extra></extra>",
           "lat": {
            "bdata": "mpmZmZkZPEAzMzMzM3M8QM3MzMzMTD1AzczMzMzMPEDNzMzMzAw8QAAAAAAAADtAzczMzMxMPUBmZmZmZuY6QDMzMzMzszpAMzMzMzOzPEAAAAAAAAA9QAAAAAAAgDpAmpmZmZkZO0BmZmZmZqY8QGZmZmZmZjxAzczMzMxMO0CamZmZmZk6QAAAAAAAwDpAAAAAAADAPEBmZmZmZmY7QJqZmZmZGTtAZmZmZmbmOkA=",
            "dtype": "f8"
           },
           "legendgroup": "Heavy Rain",
           "lon": {
            "bdata": "zczMzMxsVEAzMzMzM1NUQGZmZmZmJlRAzczMzMxsVECamZmZmZlUQDMzMzMz01VAzczMzMw8VEAAAAAAAABWQJqZmZmZ+VVAMzMzMzMzVEDNzMzMzAxUQDMzMzMz01VAMzMzMzPzVUBmZmZmZpZUQGZmZmZmhlRAMzMzMzPTVUAzMzMzM7NVQDMzMzMz01VAmpmZmZlZVEDNzMzMzOxVQAAAAAAA4FVAAAAAAACgVUA=",
            "dtype": "f8"
           },
           "marker": {
            "color": "#EF553B",
            "size": {
             "bdata": "AQEBAQEBAQEBAQEBAQEBAQEBAQEBAQ==",
             "dtype": "i1"
            },
            "sizemode": "area",
            "sizeref": 0.0275,
            "symbol": "circle"
           },
           "mode": "markers+text",
           "name": "Heavy Rain",
           "showlegend": true,
           "text": [
            "Banke",
            "Bardiya",
            "Dadeldhura",
            "Dailekh",
            "Dang",
            "Dhankuta",
            "Doti",
            "Ilam",
            "Jhapa",
            "Kailali",
            "Kanchanpur",
            "Morang",
            "Panchther",
            "Rukum",
            "Salyan",
            "Sankhuwasabha",
            "Saptari",
            "Sunsari",
            "Surkhet",
            "Taplejung",
            "Terhathum",
            "Udayapur"
           ],
           "type": "scattergeo"
          },
          {
           "geo": "geo",
           "hovertemplate": "event_type=Coldwave<br>Year=1983.0<br>Extreme Event Count=%{marker.size}<br>District=%{text}<br>lat=%{lat}<br>lon=%{lon}<extra></extra>",
           "lat": {
            "bdata": "AAAAAACAPUCamZmZmZk9QDMzMzMzsztAZmZmZmbmPUCamZmZmZk7QAAAAAAAAD1AAAAAAAAAPEAAAAAAAAA+QM3MzMzMTD1AmpmZmZmZO0AzMzMzMzM8QM3MzMzMTDxAmpmZmZmZPEAAAAAAAIA9QDMzMzMzszxAmpmZmZkZPEBmZmZmZqY8QAAAAAAAADxAAAAAAAAAPEA=",
            "dtype": "f8"
           },
           "legendgroup": "Coldwave",
           "lon": {
            "bdata": "AAAAAAAgVEDNzMzMzExUQAAAAAAAYFVAZmZmZmYmVEDNzMzMzIxVQJqZmZmZuVRAZmZmZmYmVUAzMzMzM3NUQM3MzMzMjFRAZmZmZmZmVUCamZmZmflUQJqZmZmZGVVAzczMzMwMVUBmZmZmZoZUQHsUrkfh6lRAMzMzMzNTVUBmZmZmZpZUQDMzMzMzs1VAZmZmZmYGVUA=",
            "dtype": "f8"
           },
           "marker": {
            "color": "#00cc96",
            "size": {
             "bdata": "BAYCBAUJAwoDAgECCAkIBgMKAg==",
             "dtype": "i1"
            },
            "sizemode": "area",
            "sizeref": 0.0275,
            "symbol": "circle"
           },
           "mode": "markers+text",
           "name": "Coldwave",
           "showlegend": true,
           "text": [
            "Baitadi",
            "Bajang",
            "Bhaktapur",
            "Darchula",
            "Dolkha",
            "Dolpa",
            "Gorkha",
            "Humla",
            "Jumla",
            "Kabhre",
            "Kaski",
            "Lamjung",
            "Manang",
            "Mugu",
            "Mustang",
            "Rasuwa",
            "Rukum",
            "Solukhumbu",
            "Tanahun"
           ],
           "type": "scattergeo"
          }
         ],
         "name": "1983.0"
        },
        {
         "data": [
          {
           "geo": "geo",
           "hovertemplate": "event_type=Heatwave<br>Year=1986.0<br>Extreme Event Count=%{marker.size}<br>District=%{text}<br>lat=%{lat}<br>lon=%{lon}<extra></extra>",
           "lat": {
            "bdata": "MzMzMzNzPEAzMzMzM7M6QDMzMzMzszpAzczMzMzMOkA=",
            "dtype": "f8"
           },
           "legendgroup": "Heatwave",
           "lon": {
            "bdata": "MzMzMzNTVECamZmZmXlVQDMzMzMzc1VAMzMzMzNTVUA=",
            "dtype": "f8"
           },
           "marker": {
            "color": "#636efa",
            "size": {
             "bdata": "AgICAw==",
             "dtype": "i1"
            },
            "sizemode": "area",
            "sizeref": 0.0275,
            "symbol": "circle"
           },
           "mode": "markers+text",
           "name": "Heatwave",
           "showlegend": true,
           "text": [
            "Bardiya",
            "Dhanusa",
            "Mahottari",
            "Routahat"
           ],
           "type": "scattergeo"
          },
          {
           "geo": "geo",
           "hovertemplate": "event_type=Heavy Rain<br>Year=1986.0<br>Extreme Event Count=%{marker.size}<br>District=%{text}<br>lat=%{lat}<br>lon=%{lon}<extra></extra>",
           "lat": {
            "bdata": "mpmZmZkZPEAzMzMzM3M8QM3MzMzMTD1AzczMzMzMPEDNzMzMzAw8QDMzMzMzszpAzczMzMxMPUBmZmZmZuY6QDMzMzMzszpAMzMzMzOzPEAAAAAAAAA9QDMzMzMzszpAZmZmZmZmO0DNzMzMzMw6QGZmZmZmZjxAAAAAAAAAO0AzMzMzMzM7QAAAAAAAwDxA",
            "dtype": "f8"
           },
           "legendgroup": "Heavy Rain",
           "lon": {
            "bdata": "zczMzMxsVEAzMzMzM1NUQGZmZmZmJlRAzczMzMxsVECamZmZmZlUQJqZmZmZeVVAzczMzMw8VEAAAAAAAABWQJqZmZmZ+VVAMzMzMzMzVEDNzMzMzAxUQDMzMzMzc1VAAAAAAABAVUAzMzMzM1NVQGZmZmZmhlRAzczMzMxcVUCamZmZmXlVQJqZmZmZWVRA",
            "dtype": "f8"
           },
           "marker": {
            "color": "#EF553B",
            "size": {
             "bdata": "AQEBAQEBAQEBAQEBAQEBAQEB",
             "dtype": "i1"
            },
            "sizemode": "area",
            "sizeref": 0.0275,
            "symbol": "circle"
           },
           "mode": "markers+text",
           "name": "Heavy Rain",
           "showlegend": true,
           "text": [
            "Banke",
            "Bardiya",
            "Dadeldhura",
            "Dailekh",
            "Dang",
            "Dhanusa",
            "Doti",
            "Ilam",
            "Jhapa",
            "Kailali",
            "Kanchanpur",
            "Mahottari",
            "Makwanpur",
            "Routahat",
            "Salyan",
            "Sarlahi",
            "Sindhuli",
            "Surkhet"
           ],
           "type": "scattergeo"
          },
          {
           "geo": "geo",
           "hovertemplate": "event_type=Coldwave<br>Year=1986.0<br>Extreme Event Count=%{marker.size}<br>District=%{text}<br>lat=%{lat}<br>lon=%{lon}<extra></extra>",
           "lat": {
            "bdata": "AAAAAACAPUCamZmZmZk9QGZmZmZm5j1AmpmZmZmZO0AAAAAAAAA9QAAAAAAAADxAAAAAAAAAPkDNzMzMzEw9QJqZmZmZmTxAAAAAAACAPUAzMzMzM7M8QJqZmZmZGTxAZmZmZmamPEAAAAAAAAA8QA==",
            "dtype": "f8"
           },
           "legendgroup": "Coldwave",
           "lon": {
            "bdata": "AAAAAAAgVEDNzMzMzExUQGZmZmZmJlRAzczMzMyMVUCamZmZmblUQGZmZmZmJlVAMzMzMzNzVEDNzMzMzIxUQM3MzMzMDFVAZmZmZmaGVEB7FK5H4epUQDMzMzMzU1VAZmZmZmaWVEAzMzMzM7NVQA==",
            "dtype": "f8"
           },
           "marker": {
            "color": "#00cc96",
            "size": {
             "bdata": "BAcEBAgDCgMICQgFAws=",
             "dtype": "i1"
            },
            "sizemode": "area",
            "sizeref": 0.0275,
            "symbol": "circle"
           },
           "mode": "markers+text",
           "name": "Coldwave",
           "showlegend": true,
           "text": [
            "Baitadi",
            "Bajang",
            "Darchula",
            "Dolkha",
            "Dolpa",
            "Gorkha",
            "Humla",
            "Jumla",
            "Manang",
            "Mugu",
            "Mustang",
            "Rasuwa",
            "Rukum",
            "Solukhumbu"
           ],
           "type": "scattergeo"
          }
         ],
         "name": "1986.0"
        },
        {
         "data": [
          {
           "geo": "geo",
           "hovertemplate": "event_type=Heatwave<br>Year=1989.0<br>Extreme Event Count=%{marker.size}<br>District=%{text}<br>lat=%{lat}<br>lon=%{lon}<extra></extra>",
           "lat": {
            "bdata": "mpmZmZkZPEAzMzMzM3M8QDMzMzMzszpAMzMzMzOzPEAzMzMzM7M6QM3MzMzMzDpA",
            "dtype": "f8"
           },
           "legendgroup": "Heatwave",
           "lon": {
            "bdata": "zczMzMxsVEAzMzMzM1NUQJqZmZmZeVVAMzMzMzMzVEAzMzMzM3NVQDMzMzMzU1VA",
            "dtype": "f8"
           },
           "marker": {
            "color": "#636efa",
            "size": {
             "bdata": "AQECAQID",
             "dtype": "i1"
            },
            "sizemode": "area",
            "sizeref": 0.0275,
            "symbol": "circle"
           },
           "mode": "markers+text",
           "name": "Heatwave",
           "showlegend": true,
           "text": [
            "Banke",
            "Bardiya",
            "Dhanusa",
            "Kailali",
            "Mahottari",
            "Routahat"
           ],
           "type": "scattergeo"
          },
          {
           "geo": "geo",
           "hovertemplate": "event_type=Heavy Rain<br>Year=1989.0<br>Extreme Event Count=%{marker.size}<br>District=%{text}<br>lat=%{lat}<br>lon=%{lon}<extra></extra>",
           "lat": {
            "bdata": "ZmZmZmbmOkAzMzMzM7M6QAAAAAAAgDpAmpmZmZkZO0AAAAAAAMA6QGZmZmZmZjtAmpmZmZkZO0A=",
            "dtype": "f8"
           },
           "legendgroup": "Heavy Rain",
           "lon": {
            "bdata": "AAAAAAAAVkCamZmZmflVQDMzMzMz01VAMzMzMzPzVUAzMzMzM9NVQM3MzMzM7FVAAAAAAADgVUA=",
            "dtype": "f8"
           },
           "marker": {
            "color": "#EF553B",
            "size": {
             "bdata": "AQEBAQEBAQ==",
             "dtype": "i1"
            },
            "sizemode": "area",
            "sizeref": 0.0275,
            "symbol": "circle"
           },
           "mode": "markers+text",
           "name": "Heavy Rain",
           "showlegend": true,
           "text": [
            "Ilam",
            "Jhapa",
            "Morang",
            "Panchther",
            "Sunsari",
            "Taplejung",
            "Terhathum"
           ],
           "type": "scattergeo"
          },
          {
           "geo": "geo",
           "hovertemplate": "event_type=Coldwave<br>Year=1989.0<br>Extreme Event Count=%{marker.size}<br>District=%{text}<br>lat=%{lat}<br>lon=%{lon}<extra></extra>",
           "lat": {
            "bdata": "AAAAAACAPUCamZmZmZk9QDMzMzMzsztAZmZmZmbmPUCamZmZmZk7QAAAAAAAAD1AAAAAAAAAPEAAAAAAAAA+QM3MzMzMTD1AmpmZmZmZO0AzMzMzMzM8QM3MzMzMTDxAmpmZmZmZPEAAAAAAAIA9QDMzMzMzszxAmpmZmZkZPEBmZmZmZqY8QAAAAAAAADxAAAAAAAAAPEA=",
            "dtype": "f8"
           },
           "legendgroup": "Coldwave",
           "lon": {
            "bdata": "AAAAAAAgVEDNzMzMzExUQAAAAAAAYFVAZmZmZmYmVEDNzMzMzIxVQJqZmZmZuVRAZmZmZmYmVUAzMzMzM3NUQM3MzMzMjFRAZmZmZmZmVUCamZmZmflUQJqZmZmZGVVAzczMzMwMVUBmZmZmZoZUQHsUrkfh6lRAMzMzMzNTVUBmZmZmZpZUQDMzMzMzs1VAZmZmZmYGVUA=",
            "dtype": "f8"
           },
           "marker": {
            "color": "#00cc96",
            "size": {
             "bdata": "AwYBAwUIAwoDAQEBCAgHBgMKAQ==",
             "dtype": "i1"
            },
            "sizemode": "area",
            "sizeref": 0.0275,
            "symbol": "circle"
           },
           "mode": "markers+text",
           "name": "Coldwave",
           "showlegend": true,
           "text": [
            "Baitadi",
            "Bajang",
            "Bhaktapur",
            "Darchula",
            "Dolkha",
            "Dolpa",
            "Gorkha",
            "Humla",
            "Jumla",
            "Kabhre",
            "Kaski",
            "Lamjung",
            "Manang",
            "Mugu",
            "Mustang",
            "Rasuwa",
            "Rukum",
            "Solukhumbu",
            "Tanahun"
           ],
           "type": "scattergeo"
          }
         ],
         "name": "1989.0"
        },
        {
         "data": [
          {
           "geo": "geo",
           "hovertemplate": "event_type=Heatwave<br>Year=1992.0<br>Extreme Event Count=%{marker.size}<br>District=%{text}<br>lat=%{lat}<br>lon=%{lon}<extra></extra>",
           "lat": {
            "bdata": "MzMzMzNzPEAzMzMzM7M6QDMzMzMzszxAMzMzMzOzOkDNzMzMzMw6QA==",
            "dtype": "f8"
           },
           "legendgroup": "Heatwave",
           "lon": {
            "bdata": "MzMzMzNTVECamZmZmXlVQDMzMzMzM1RAMzMzMzNzVUAzMzMzM1NVQA==",
            "dtype": "f8"
           },
           "marker": {
            "color": "#636efa",
            "size": {
             "bdata": "AgMBAwM=",
             "dtype": "i1"
            },
            "sizemode": "area",
            "sizeref": 0.0275,
            "symbol": "circle"
           },
           "mode": "markers+text",
           "name": "Heatwave",
           "showlegend": true,
           "text": [
            "Bardiya",
            "Dhanusa",
            "Kailali",
            "Mahottari",
            "Routahat"
           ],
           "type": "scattergeo"
          },
          {
           "geo": "geo",
           "hovertemplate": "event_type=Heavy Rain<br>Year=1992.0<br>Extreme Event Count=%{marker.size}<br>District=%{text}<br>lat=%{lat}<br>lon=%{lon}<extra></extra>",
           "lat": {
            "bdata": "ZmZmZmbmOkAzMzMzM7M6QAAAAAAAgDpAmpmZmZkZO0AAAAAAAMA6QGZmZmZmZjtAmpmZmZkZO0A=",
            "dtype": "f8"
           },
           "legendgroup": "Heavy Rain",
           "lon": {
            "bdata": "AAAAAAAAVkCamZmZmflVQDMzMzMz01VAMzMzMzPzVUAzMzMzM9NVQM3MzMzM7FVAAAAAAADgVUA=",
            "dtype": "f8"
           },
           "marker": {
            "color": "#EF553B",
            "size": {
             "bdata": "AQEBAQEBAQ==",
             "dtype": "i1"
            },
            "sizemode": "area",
            "sizeref": 0.0275,
            "symbol": "circle"
           },
           "mode": "markers+text",
           "name": "Heavy Rain",
           "showlegend": true,
           "text": [
            "Ilam",
            "Jhapa",
            "Morang",
            "Panchther",
            "Sunsari",
            "Taplejung",
            "Terhathum"
           ],
           "type": "scattergeo"
          },
          {
           "geo": "geo",
           "hovertemplate": "event_type=Coldwave<br>Year=1992.0<br>Extreme Event Count=%{marker.size}<br>District=%{text}<br>lat=%{lat}<br>lon=%{lon}<extra></extra>",
           "lat": {
            "bdata": "AAAAAACAPUCamZmZmZk9QDMzMzMzsztAZmZmZmbmPUCamZmZmZk7QAAAAAAAAD1AAAAAAAAAPEAAAAAAAAA+QM3MzMzMTD1AmpmZmZmZO0DNzMzMzEw8QJqZmZmZmTxAAAAAAACAPUAzMzMzM7M8QJqZmZmZGTxAZmZmZmamPEAAAAAAAAA8QAAAAAAAADxA",
            "dtype": "f8"
           },
           "legendgroup": "Coldwave",
           "lon": {
            "bdata": "AAAAAAAgVEDNzMzMzExUQAAAAAAAYFVAZmZmZmYmVEDNzMzMzIxVQJqZmZmZuVRAZmZmZmYmVUAzMzMzM3NUQM3MzMzMjFRAZmZmZmZmVUCamZmZmRlVQM3MzMzMDFVAZmZmZmaGVEB7FK5H4epUQDMzMzMzU1VAZmZmZmaWVEAzMzMzM7NVQGZmZmZmBlVA",
            "dtype": "f8"
           },
           "marker": {
            "color": "#00cc96",
            "size": {
             "bdata": "AwUBAwQIAwoDAQEICAgFAwsB",
             "dtype": "i1"
            },
            "sizemode": "area",
            "sizeref": 0.0275,
            "symbol": "circle"
           },
           "mode": "markers+text",
           "name": "Coldwave",
           "showlegend": true,
           "text": [
            "Baitadi",
            "Bajang",
            "Bhaktapur",
            "Darchula",
            "Dolkha",
            "Dolpa",
            "Gorkha",
            "Humla",
            "Jumla",
            "Kabhre",
            "Lamjung",
            "Manang",
            "Mugu",
            "Mustang",
            "Rasuwa",
            "Rukum",
            "Solukhumbu",
            "Tanahun"
           ],
           "type": "scattergeo"
          }
         ],
         "name": "1992.0"
        },
        {
         "data": [
          {
           "geo": "geo",
           "hovertemplate": "event_type=Heatwave<br>Year=1993.0<br>Extreme Event Count=%{marker.size}<br>District=%{text}<br>lat=%{lat}<br>lon=%{lon}<extra></extra>",
           "lat": {
            "bdata": "MzMzMzNzPEAzMzMzM7M6QDMzMzMzszxAMzMzMzOzOkDNzMzMzMw6QA==",
            "dtype": "f8"
           },
           "legendgroup": "Heatwave",
           "lon": {
            "bdata": "MzMzMzNTVECamZmZmXlVQDMzMzMzM1RAMzMzMzNzVUAzMzMzM1NVQA==",
            "dtype": "f8"
           },
           "marker": {
            "color": "#636efa",
            "size": {
             "bdata": "AQIBAgM=",
             "dtype": "i1"
            },
            "sizemode": "area",
            "sizeref": 0.0275,
            "symbol": "circle"
           },
           "mode": "markers+text",
           "name": "Heatwave",
           "showlegend": true,
           "text": [
            "Bardiya",
            "Dhanusa",
            "Kailali",
            "Mahottari",
            "Routahat"
           ],
           "type": "scattergeo"
          },
          {
           "geo": "geo",
           "hovertemplate": "event_type=Coldwave<br>Year=1993.0<br>Extreme Event Count=%{marker.size}<br>District=%{text}<br>lat=%{lat}<br>lon=%{lon}<extra></extra>",
           "lat": {
            "bdata": "AAAAAACAPUCamZmZmZk9QGZmZmZm5j1AmpmZmZmZO0AAAAAAAAA9QAAAAAAAADxAAAAAAAAAPkDNzMzMzEw9QJqZmZmZmTxAAAAAAACAPUAzMzMzM7M8QJqZmZmZGTxAZmZmZmamPEAAAAAAAAA8QA==",
            "dtype": "f8"
           },
           "legendgroup": "Coldwave",
           "lon": {
            "bdata": "AAAAAAAgVEDNzMzMzExUQGZmZmZmJlRAzczMzMyMVUCamZmZmblUQGZmZmZmJlVAMzMzMzNzVEDNzMzMzIxUQM3MzMzMDFVAZmZmZmaGVEB7FK5H4epUQDMzMzMzU1VAZmZmZmaWVEAzMzMzM7NVQA==",
            "dtype": "f8"
           },
           "marker": {
            "color": "#00cc96",
            "size": {
             "bdata": "BAcEBAgDCgIICAgFAQo=",
             "dtype": "i1"
            },
            "sizemode": "area",
            "sizeref": 0.0275,
            "symbol": "circle"
           },
           "mode": "markers+text",
           "name": "Coldwave",
           "showlegend": true,
           "text": [
            "Baitadi",
            "Bajang",
            "Darchula",
            "Dolkha",
            "Dolpa",
            "Gorkha",
            "Humla",
            "Jumla",
            "Manang",
            "Mugu",
            "Mustang",
            "Rasuwa",
            "Rukum",
            "Solukhumbu"
           ],
           "type": "scattergeo"
          }
         ],
         "name": "1993.0"
        },
        {
         "data": [
          {
           "geo": "geo",
           "hovertemplate": "event_type=Heatwave<br>Year=1997.0<br>Extreme Event Count=%{marker.size}<br>District=%{text}<br>lat=%{lat}<br>lon=%{lon}<extra></extra>",
           "lat": {
            "bdata": "MzMzMzNzPEAzMzMzM7M6QDMzMzMzszpAzczMzMzMOkAAAAAAAAA7QA==",
            "dtype": "f8"
           },
           "legendgroup": "Heatwave",
           "lon": {
            "bdata": "MzMzMzNTVECamZmZmXlVQDMzMzMzc1VAMzMzMzNTVUDNzMzMzFxVQA==",
            "dtype": "f8"
           },
           "marker": {
            "color": "#636efa",
            "size": {
             "bdata": "AgICAgE=",
             "dtype": "i1"
            },
            "sizemode": "area",
            "sizeref": 0.0275,
            "symbol": "circle"
           },
           "mode": "markers+text",
           "name": "Heatwave",
           "showlegend": true,
           "text": [
            "Bardiya",
            "Dhanusa",
            "Mahottari",
            "Routahat",
            "Sarlahi"
           ],
           "type": "scattergeo"
          },
          {
           "geo": "geo",
           "hovertemplate": "event_type=Heavy Rain<br>Year=1997.0<br>Extreme Event Count=%{marker.size}<br>District=%{text}<br>lat=%{lat}<br>lon=%{lon}<extra></extra>",
           "lat": {
            "bdata": "MzMzMzOzOkBmZmZmZuY6QDMzMzMzszpAMzMzMzOzOkDNzMzMzMw6QAAAAAAAADtA",
            "dtype": "f8"
           },
           "legendgroup": "Heavy Rain",
           "lon": {
            "bdata": "mpmZmZl5VUAAAAAAAABWQJqZmZmZ+VVAMzMzMzNzVUAzMzMzM1NVQM3MzMzMXFVA",
            "dtype": "f8"
           },
           "marker": {
            "color": "#EF553B",
            "size": {
             "bdata": "AQEBAQEB",
             "dtype": "i1"
            },
            "sizemode": "area",
            "sizeref": 0.0275,
            "symbol": "circle"
           },
           "mode": "markers+text",
           "name": "Heavy Rain",
           "showlegend": true,
           "text": [
            "Dhanusa",
            "Ilam",
            "Jhapa",
            "Mahottari",
            "Routahat",
            "Sarlahi"
           ],
           "type": "scattergeo"
          },
          {
           "geo": "geo",
           "hovertemplate": "event_type=Coldwave<br>Year=1997.0<br>Extreme Event Count=%{marker.size}<br>District=%{text}<br>lat=%{lat}<br>lon=%{lon}<extra></extra>",
           "lat": {
            "bdata": "AAAAAACAPUCamZmZmZk9QDMzMzMzsztAZmZmZmbmPUCamZmZmZk7QAAAAAAAAD1AAAAAAAAAPEAAAAAAAAA+QM3MzMzMTD1AmpmZmZmZO0AzMzMzMzM8QM3MzMzMTDxAmpmZmZmZPEAAAAAAAIA9QDMzMzMzszxAmpmZmZkZPEBmZmZmZqY8QAAAAAAAADxAAAAAAAAAPEA=",
            "dtype": "f8"
           },
           "legendgroup": "Coldwave",
           "lon": {
            "bdata": "AAAAAAAgVEDNzMzMzExUQAAAAAAAYFVAZmZmZmYmVEDNzMzMzIxVQJqZmZmZuVRAZmZmZmYmVUAzMzMzM3NUQM3MzMzMjFRAZmZmZmZmVUCamZmZmflUQJqZmZmZGVVAzczMzMwMVUBmZmZmZoZUQHsUrkfh6lRAMzMzMzNTVUBmZmZmZpZUQDMzMzMzs1VAZmZmZmYGVUA=",
            "dtype": "f8"
           },
           "marker": {
            "color": "#00cc96",
            "size": {
             "bdata": "AwcCAwUIAwoDAgECCAgIBgMKAg==",
             "dtype": "i1"
            },
            "sizemode": "area",
            "sizeref": 0.0275,
            "symbol": "circle"
           },
           "mode": "markers+text",
           "name": "Coldwave",
           "showlegend": true,
           "text": [
            "Baitadi",
            "Bajang",
            "Bhaktapur",
            "Darchula",
            "Dolkha",
            "Dolpa",
            "Gorkha",
            "Humla",
            "Jumla",
            "Kabhre",
            "Kaski",
            "Lamjung",
            "Manang",
            "Mugu",
            "Mustang",
            "Rasuwa",
            "Rukum",
            "Solukhumbu",
            "Tanahun"
           ],
           "type": "scattergeo"
          }
         ],
         "name": "1997.0"
        },
        {
         "data": [
          {
           "geo": "geo",
           "hovertemplate": "event_type=Heatwave<br>Year=1999.0<br>Extreme Event Count=%{marker.size}<br>District=%{text}<br>lat=%{lat}<br>lon=%{lon}<extra></extra>",
           "lat": {
            "bdata": "MzMzMzNzPEAzMzMzM7M6QDMzMzMzszxAMzMzMzOzOkDNzMzMzMw6QAAAAAAAADtA",
            "dtype": "f8"
           },
           "legendgroup": "Heatwave",
           "lon": {
            "bdata": "MzMzMzNTVECamZmZmXlVQDMzMzMzM1RAMzMzMzNzVUAzMzMzM1NVQM3MzMzMXFVA",
            "dtype": "f8"
           },
           "marker": {
            "color": "#636efa",
            "size": {
             "bdata": "AwICAgMB",
             "dtype": "i1"
            },
            "sizemode": "area",
            "sizeref": 0.0275,
            "symbol": "circle"
           },
           "mode": "markers+text",
           "name": "Heatwave",
           "showlegend": true,
           "text": [
            "Bardiya",
            "Dhanusa",
            "Kailali",
            "Mahottari",
            "Routahat",
            "Sarlahi"
           ],
           "type": "scattergeo"
          },
          {
           "geo": "geo",
           "hovertemplate": "event_type=Heavy Rain<br>Year=1999.0<br>Extreme Event Count=%{marker.size}<br>District=%{text}<br>lat=%{lat}<br>lon=%{lon}<extra></extra>",
           "lat": {
            "bdata": "ZmZmZmbmOkAzMzMzM7M6QA==",
            "dtype": "f8"
           },
           "legendgroup": "Heavy Rain",
           "lon": {
            "bdata": "AAAAAAAAVkCamZmZmflVQA==",
            "dtype": "f8"
           },
           "marker": {
            "color": "#EF553B",
            "size": {
             "bdata": "AQE=",
             "dtype": "i1"
            },
            "sizemode": "area",
            "sizeref": 0.0275,
            "symbol": "circle"
           },
           "mode": "markers+text",
           "name": "Heavy Rain",
           "showlegend": true,
           "text": [
            "Ilam",
            "Jhapa"
           ],
           "type": "scattergeo"
          },
          {
           "geo": "geo",
           "hovertemplate": "event_type=Coldwave<br>Year=1999.0<br>Extreme Event Count=%{marker.size}<br>District=%{text}<br>lat=%{lat}<br>lon=%{lon}<extra></extra>",
           "lat": {
            "bdata": "AAAAAACAPUCamZmZmZk9QGZmZmZm5j1AmpmZmZmZO0AAAAAAAAA9QAAAAAAAADxAAAAAAAAAPkDNzMzMzEw9QJqZmZmZmTxAAAAAAACAPUAzMzMzM7M8QJqZmZmZGTxAZmZmZmamPEAAAAAAAAA8QA==",
            "dtype": "f8"
           },
           "legendgroup": "Coldwave",
           "lon": {
            "bdata": "AAAAAAAgVEDNzMzMzExUQGZmZmZmJlRAzczMzMyMVUCamZmZmblUQGZmZmZmJlVAMzMzMzNzVEDNzMzMzIxUQM3MzMzMDFVAZmZmZmaGVEB7FK5H4epUQDMzMzMzU1VAZmZmZmaWVEAzMzMzM7NVQA==",
            "dtype": "f8"
           },
           "marker": {
            "color": "#00cc96",
            "size": {
             "bdata": "AwUDAwgCCQIICAcFAQo=",
             "dtype": "i1"
            },
            "sizemode": "area",
            "sizeref": 0.0275,
            "symbol": "circle"
           },
           "mode": "markers+text",
           "name": "Coldwave",
           "showlegend": true,
           "text": [
            "Baitadi",
            "Bajang",
            "Darchula",
            "Dolkha",
            "Dolpa",
            "Gorkha",
            "Humla",
            "Jumla",
            "Manang",
            "Mugu",
            "Mustang",
            "Rasuwa",
            "Rukum",
            "Solukhumbu"
           ],
           "type": "scattergeo"
          }
         ],
         "name": "1999.0"
        },
        {
         "data": [
          {
           "geo": "geo",
           "hovertemplate": "event_type=Heatwave<br>Year=2001.0<br>Extreme Event Count=%{marker.size}<br>District=%{text}<br>lat=%{lat}<br>lon=%{lon}<extra></extra>",
           "lat": {
            "bdata": "MzMzMzNzPEAzMzMzM7M6QDMzMzMzszpAzczMzMzMOkA=",
            "dtype": "f8"
           },
           "legendgroup": "Heatwave",
           "lon": {
            "bdata": "MzMzMzNTVECamZmZmXlVQDMzMzMzc1VAMzMzMzNTVUA=",
            "dtype": "f8"
           },
           "marker": {
            "color": "#636efa",
            "size": {
             "bdata": "AQICAg==",
             "dtype": "i1"
            },
            "sizemode": "area",
            "sizeref": 0.0275,
            "symbol": "circle"
           },
           "mode": "markers+text",
           "name": "Heatwave",
           "showlegend": true,
           "text": [
            "Bardiya",
            "Dhanusa",
            "Mahottari",
            "Routahat"
           ],
           "type": "scattergeo"
          },
          {
           "geo": "geo",
           "hovertemplate": "event_type=Heavy Rain<br>Year=2001.0<br>Extreme Event Count=%{marker.size}<br>District=%{text}<br>lat=%{lat}<br>lon=%{lon}<extra></extra>",
           "lat": {
            "bdata": "AAAAAAAAPUA=",
            "dtype": "f8"
           },
           "legendgroup": "Heavy Rain",
           "lon": {
            "bdata": "zczMzMwMVEA=",
            "dtype": "f8"
           },
           "marker": {
            "color": "#EF553B",
            "size": {
             "bdata": "AQ==",
             "dtype": "i1"
            },
            "sizemode": "area",
            "sizeref": 0.0275,
            "symbol": "circle"
           },
           "mode": "markers+text",
           "name": "Heavy Rain",
           "showlegend": true,
           "text": [
            "Kanchanpur"
           ],
           "type": "scattergeo"
          },
          {
           "geo": "geo",
           "hovertemplate": "event_type=Coldwave<br>Year=2001.0<br>Extreme Event Count=%{marker.size}<br>District=%{text}<br>lat=%{lat}<br>lon=%{lon}<extra></extra>",
           "lat": {
            "bdata": "AAAAAACAPUCamZmZmZk9QGZmZmZm5j1AmpmZmZmZO0AAAAAAAAA9QAAAAAAAADxAAAAAAAAAPkDNzMzMzEw9QJqZmZmZmTxAAAAAAACAPUAzMzMzM7M8QJqZmZmZGTxAZmZmZmamPEAAAAAAAAA8QA==",
            "dtype": "f8"
           },
           "legendgroup": "Coldwave",
           "lon": {
            "bdata": "AAAAAAAgVEDNzMzMzExUQGZmZmZmJlRAzczMzMyMVUCamZmZmblUQGZmZmZmJlVAMzMzMzNzVEDNzMzMzIxUQM3MzMzMDFVAZmZmZmaGVEB7FK5H4epUQDMzMzMzU1VAZmZmZmaWVEAzMzMzM7NVQA==",
            "dtype": "f8"
           },
           "marker": {
            "color": "#00cc96",
            "size": {
             "bdata": "AwUDBAgDCQMICQcFAgo=",
             "dtype": "i1"
            },
            "sizemode": "area",
            "sizeref": 0.0275,
            "symbol": "circle"
           },
           "mode": "markers+text",
           "name": "Coldwave",
           "showlegend": true,
           "text": [
            "Baitadi",
            "Bajang",
            "Darchula",
            "Dolkha",
            "Dolpa",
            "Gorkha",
            "Humla",
            "Jumla",
            "Manang",
            "Mugu",
            "Mustang",
            "Rasuwa",
            "Rukum",
            "Solukhumbu"
           ],
           "type": "scattergeo"
          }
         ],
         "name": "2001.0"
        },
        {
         "data": [
          {
           "geo": "geo",
           "hovertemplate": "event_type=Heatwave<br>Year=2002.0<br>Extreme Event Count=%{marker.size}<br>District=%{text}<br>lat=%{lat}<br>lon=%{lon}<extra></extra>",
           "lat": {
            "bdata": "MzMzMzNzPEAzMzMzM7M8QM3MzMzMzDpA",
            "dtype": "f8"
           },
           "legendgroup": "Heatwave",
           "lon": {
            "bdata": "MzMzMzNTVEAzMzMzMzNUQDMzMzMzU1VA",
            "dtype": "f8"
           },
           "marker": {
            "color": "#636efa",
            "size": {
             "bdata": "AwMB",
             "dtype": "i1"
            },
            "sizemode": "area",
            "sizeref": 0.0275,
            "symbol": "circle"
           },
           "mode": "markers+text",
           "name": "Heatwave",
           "showlegend": true,
           "text": [
            "Bardiya",
            "Kailali",
            "Routahat"
           ],
           "type": "scattergeo"
          },
          {
           "geo": "geo",
           "hovertemplate": "event_type=Heavy Rain<br>Year=2002.0<br>Extreme Event Count=%{marker.size}<br>District=%{text}<br>lat=%{lat}<br>lon=%{lon}<extra></extra>",
           "lat": {
            "bdata": "ZmZmZmbmOkAzMzMzM7M6QA==",
            "dtype": "f8"
           },
           "legendgroup": "Heavy Rain",
           "lon": {
            "bdata": "AAAAAAAAVkCamZmZmflVQA==",
            "dtype": "f8"
           },
           "marker": {
            "color": "#EF553B",
            "size": {
             "bdata": "AQE=",
             "dtype": "i1"
            },
            "sizemode": "area",
            "sizeref": 0.0275,
            "symbol": "circle"
           },
           "mode": "markers+text",
           "name": "Heavy Rain",
           "showlegend": true,
           "text": [
            "Ilam",
            "Jhapa"
           ],
           "type": "scattergeo"
          },
          {
           "geo": "geo",
           "hovertemplate": "event_type=Coldwave<br>Year=2002.0<br>Extreme Event Count=%{marker.size}<br>District=%{text}<br>lat=%{lat}<br>lon=%{lon}<extra></extra>",
           "lat": {
            "bdata": "AAAAAACAPUCamZmZmZk9QGZmZmZm5j1AmpmZmZmZO0AAAAAAAAA9QAAAAAAAADxAAAAAAAAAPkDNzMzMzEw9QJqZmZmZmTxAAAAAAACAPUAzMzMzM7M8QJqZmZmZGTxAZmZmZmamPEAAAAAAAAA8QA==",
            "dtype": "f8"
           },
           "legendgroup": "Coldwave",
           "lon": {
            "bdata": "AAAAAAAgVEDNzMzMzExUQGZmZmZmJlRAzczMzMyMVUCamZmZmblUQGZmZmZmJlVAMzMzMzNzVEDNzMzMzIxUQM3MzMzMDFVAZmZmZmaGVEB7FK5H4epUQDMzMzMzU1VAZmZmZmaWVEAzMzMzM7NVQA==",
            "dtype": "f8"
           },
           "marker": {
            "color": "#00cc96",
            "size": {
             "bdata": "AwUDBAgDCgMICAcFAgo=",
             "dtype": "i1"
            },
            "sizemode": "area",
            "sizeref": 0.0275,
            "symbol": "circle"
           },
           "mode": "markers+text",
           "name": "Coldwave",
           "showlegend": true,
           "text": [
            "Baitadi",
            "Bajang",
            "Darchula",
            "Dolkha",
            "Dolpa",
            "Gorkha",
            "Humla",
            "Jumla",
            "Manang",
            "Mugu",
            "Mustang",
            "Rasuwa",
            "Rukum",
            "Solukhumbu"
           ],
           "type": "scattergeo"
          }
         ],
         "name": "2002.0"
        },
        {
         "data": [
          {
           "geo": "geo",
           "hovertemplate": "event_type=Heatwave<br>Year=2003.0<br>Extreme Event Count=%{marker.size}<br>District=%{text}<br>lat=%{lat}<br>lon=%{lon}<extra></extra>",
           "lat": {
            "bdata": "MzMzMzNzPEAzMzMzM7M6QDMzMzMzszxAMzMzMzOzOkDNzMzMzMw6QA==",
            "dtype": "f8"
           },
           "legendgroup": "Heatwave",
           "lon": {
            "bdata": "MzMzMzNTVECamZmZmXlVQDMzMzMzM1RAMzMzMzNzVUAzMzMzM1NVQA==",
            "dtype": "f8"
           },
           "marker": {
            "color": "#636efa",
            "size": {
             "bdata": "AgICAgM=",
             "dtype": "i1"
            },
            "sizemode": "area",
            "sizeref": 0.0275,
            "symbol": "circle"
           },
           "mode": "markers+text",
           "name": "Heatwave",
           "showlegend": true,
           "text": [
            "Bardiya",
            "Dhanusa",
            "Kailali",
            "Mahottari",
            "Routahat"
           ],
           "type": "scattergeo"
          },
          {
           "geo": "geo",
           "hovertemplate": "event_type=Heavy Rain<br>Year=2003.0<br>Extreme Event Count=%{marker.size}<br>District=%{text}<br>lat=%{lat}<br>lon=%{lon}<extra></extra>",
           "lat": {
            "bdata": "ZmZmZmbmOkAzMzMzM7M6QDMzMzMzszxAAAAAAAAAPUAAAAAAAIA6QAAAAAAAwDpA",
            "dtype": "f8"
           },
           "legendgroup": "Heavy Rain",
           "lon": {
            "bdata": "AAAAAAAAVkCamZmZmflVQDMzMzMzM1RAzczMzMwMVEAzMzMzM9NVQDMzMzMz01VA",
            "dtype": "f8"
           },
           "marker": {
            "color": "#EF553B",
            "size": {
             "bdata": "AQEBAgEB",
             "dtype": "i1"
            },
            "sizemode": "area",
            "sizeref": 0.0275,
            "symbol": "circle"
           },
           "mode": "markers+text",
           "name": "Heavy Rain",
           "showlegend": true,
           "text": [
            "Ilam",
            "Jhapa",
            "Kailali",
            "Kanchanpur",
            "Morang",
            "Sunsari"
           ],
           "type": "scattergeo"
          },
          {
           "geo": "geo",
           "hovertemplate": "event_type=Coldwave<br>Year=2003.0<br>Extreme Event Count=%{marker.size}<br>District=%{text}<br>lat=%{lat}<br>lon=%{lon}<extra></extra>",
           "lat": {
            "bdata": "AAAAAACAPUCamZmZmZk9QGZmZmZm5j1AmpmZmZmZO0AAAAAAAAA9QAAAAAAAADxAAAAAAAAAPkDNzMzMzEw9QJqZmZmZmTxAAAAAAACAPUAzMzMzM7M8QJqZmZmZGTxAZmZmZmamPEAAAAAAAAA8QA==",
            "dtype": "f8"
           },
           "legendgroup": "Coldwave",
           "lon": {
            "bdata": "AAAAAAAgVEDNzMzMzExUQGZmZmZmJlRAzczMzMyMVUCamZmZmblUQGZmZmZmJlVAMzMzMzNzVEDNzMzMzIxUQM3MzMzMDFVAZmZmZmaGVEB7FK5H4epUQDMzMzMzU1VAZmZmZmaWVEAzMzMzM7NVQA==",
            "dtype": "f8"
           },
           "marker": {
            "color": "#00cc96",
            "size": {
             "bdata": "AwYDBAgDCQMICAgFAwo=",
             "dtype": "i1"
            },
            "sizemode": "area",
            "sizeref": 0.0275,
            "symbol": "circle"
           },
           "mode": "markers+text",
           "name": "Coldwave",
           "showlegend": true,
           "text": [
            "Baitadi",
            "Bajang",
            "Darchula",
            "Dolkha",
            "Dolpa",
            "Gorkha",
            "Humla",
            "Jumla",
            "Manang",
            "Mugu",
            "Mustang",
            "Rasuwa",
            "Rukum",
            "Solukhumbu"
           ],
           "type": "scattergeo"
          }
         ],
         "name": "2003.0"
        },
        {
         "data": [
          {
           "geo": "geo",
           "hovertemplate": "event_type=Heatwave<br>Year=2018.0<br>Extreme Event Count=%{marker.size}<br>District=%{text}<br>lat=%{lat}<br>lon=%{lon}<extra></extra>",
           "lat": {
            "bdata": "zczMzMzMOkA=",
            "dtype": "f8"
           },
           "legendgroup": "Heatwave",
           "lon": {
            "bdata": "MzMzMzNTVUA=",
            "dtype": "f8"
           },
           "marker": {
            "color": "#636efa",
            "size": {
             "bdata": "AQ==",
             "dtype": "i1"
            },
            "sizemode": "area",
            "sizeref": 0.0275,
            "symbol": "circle"
           },
           "mode": "markers+text",
           "name": "Heatwave",
           "showlegend": true,
           "text": [
            "Routahat"
           ],
           "type": "scattergeo"
          },
          {
           "geo": "geo",
           "hovertemplate": "event_type=Coldwave<br>Year=2018.0<br>Extreme Event Count=%{marker.size}<br>District=%{text}<br>lat=%{lat}<br>lon=%{lon}<extra></extra>",
           "lat": {
            "bdata": "AAAAAACAPUCamZmZmZk9QGZmZmZm5j1AmpmZmZmZO0AAAAAAAAA9QAAAAAAAADxAAAAAAAAAPkDNzMzMzEw9QJqZmZmZmTxAAAAAAACAPUAzMzMzM7M8QJqZmZmZGTxAZmZmZmamPEAAAAAAAAA8QA==",
            "dtype": "f8"
           },
           "legendgroup": "Coldwave",
           "lon": {
            "bdata": "AAAAAAAgVEDNzMzMzExUQGZmZmZmJlRAzczMzMyMVUCamZmZmblUQGZmZmZmJlVAMzMzMzNzVEDNzMzMzIxUQM3MzMzMDFVAZmZmZmaGVEB7FK5H4epUQDMzMzMzU1VAZmZmZmaWVEAzMzMzM7NVQA==",
            "dtype": "f8"
           },
           "marker": {
            "color": "#00cc96",
            "size": {
             "bdata": "AwYDBAgCCQIICAgFAgo=",
             "dtype": "i1"
            },
            "sizemode": "area",
            "sizeref": 0.0275,
            "symbol": "circle"
           },
           "mode": "markers+text",
           "name": "Coldwave",
           "showlegend": true,
           "text": [
            "Baitadi",
            "Bajang",
            "Darchula",
            "Dolkha",
            "Dolpa",
            "Gorkha",
            "Humla",
            "Jumla",
            "Manang",
            "Mugu",
            "Mustang",
            "Rasuwa",
            "Rukum",
            "Solukhumbu"
           ],
           "type": "scattergeo"
          }
         ],
         "name": "2018.0"
        },
        {
         "data": [
          {
           "geo": "geo",
           "hovertemplate": "event_type=Heatwave<br>Year=2019.0<br>Extreme Event Count=%{marker.size}<br>District=%{text}<br>lat=%{lat}<br>lon=%{lon}<extra></extra>",
           "lat": {
            "bdata": "MzMzMzNzPEAzMzMzM7M6QDMzMzMzszxAMzMzMzOzOkDNzMzMzMw6QAAAAAAAADtA",
            "dtype": "f8"
           },
           "legendgroup": "Heatwave",
           "lon": {
            "bdata": "MzMzMzNTVECamZmZmXlVQDMzMzMzM1RAMzMzMzNzVUAzMzMzM1NVQM3MzMzMXFVA",
            "dtype": "f8"
           },
           "marker": {
            "color": "#636efa",
            "size": {
             "bdata": "AgICAgMB",
             "dtype": "i1"
            },
            "sizemode": "area",
            "sizeref": 0.0275,
            "symbol": "circle"
           },
           "mode": "markers+text",
           "name": "Heatwave",
           "showlegend": true,
           "text": [
            "Bardiya",
            "Dhanusa",
            "Kailali",
            "Mahottari",
            "Routahat",
            "Sarlahi"
           ],
           "type": "scattergeo"
          },
          {
           "geo": "geo",
           "hovertemplate": "event_type=Coldwave<br>Year=2019.0<br>Extreme Event Count=%{marker.size}<br>District=%{text}<br>lat=%{lat}<br>lon=%{lon}<extra></extra>",
           "lat": {
            "bdata": "AAAAAACAPUCamZmZmZk9QGZmZmZm5j1AmpmZmZmZO0AAAAAAAAA9QAAAAAAAADxAAAAAAAAAPkDNzMzMzEw9QJqZmZmZmTxAAAAAAACAPUAzMzMzM7M8QJqZmZmZGTxAZmZmZmamPEAAAAAAAAA8QA==",
            "dtype": "f8"
           },
           "legendgroup": "Coldwave",
           "lon": {
            "bdata": "AAAAAAAgVEDNzMzMzExUQGZmZmZmJlRAzczMzMyMVUCamZmZmblUQGZmZmZmJlVAMzMzMzNzVEDNzMzMzIxUQM3MzMzMDFVAZmZmZmaGVEB7FK5H4epUQDMzMzMzU1VAZmZmZmaWVEAzMzMzM7NVQA==",
            "dtype": "f8"
           },
           "marker": {
            "color": "#00cc96",
            "size": {
             "bdata": "BAUEBAgECQQICAgEBAo=",
             "dtype": "i1"
            },
            "sizemode": "area",
            "sizeref": 0.0275,
            "symbol": "circle"
           },
           "mode": "markers+text",
           "name": "Coldwave",
           "showlegend": true,
           "text": [
            "Baitadi",
            "Bajang",
            "Darchula",
            "Dolkha",
            "Dolpa",
            "Gorkha",
            "Humla",
            "Jumla",
            "Manang",
            "Mugu",
            "Mustang",
            "Rasuwa",
            "Rukum",
            "Solukhumbu"
           ],
           "type": "scattergeo"
          }
         ],
         "name": "2019.0"
        }
       ],
       "layout": {
        "geo": {
         "center": {
          "lat": 28.3949,
          "lon": 84.124
         },
         "domain": {
          "x": [
           0,
           1
          ],
          "y": [
           0,
           1
          ]
         },
         "projection": {
          "scale": 5
         },
         "scope": "asia",
         "showland": true
        },
        "height": 800,
        "legend": {
         "itemsizing": "constant",
         "title": {
          "text": "event_type"
         },
         "tracegroupgap": 0
        },
        "margin": {
         "b": 0,
         "l": 0,
         "r": 0,
         "t": 50
        },
        "sliders": [
         {
          "active": 0,
          "currentvalue": {
           "prefix": "Year="
          },
          "len": 0.9,
          "pad": {
           "b": 10,
           "t": 60
          },
          "steps": [
           {
            "args": [
             [
              "1984.0"
             ],
             {
              "frame": {
               "duration": 0,
               "redraw": true
              },
              "fromcurrent": true,
              "mode": "immediate",
              "transition": {
               "duration": 0,
               "easing": "linear"
              }
             }
            ],
            "label": "1984.0",
            "method": "animate"
           },
           {
            "args": [
             [
              "1987.0"
             ],
             {
              "frame": {
               "duration": 0,
               "redraw": true
              },
              "fromcurrent": true,
              "mode": "immediate",
              "transition": {
               "duration": 0,
               "easing": "linear"
              }
             }
            ],
            "label": "1987.0",
            "method": "animate"
           },
           {
            "args": [
             [
              "1988.0"
             ],
             {
              "frame": {
               "duration": 0,
               "redraw": true
              },
              "fromcurrent": true,
              "mode": "immediate",
              "transition": {
               "duration": 0,
               "easing": "linear"
              }
             }
            ],
            "label": "1988.0",
            "method": "animate"
           },
           {
            "args": [
             [
              "1991.0"
             ],
             {
              "frame": {
               "duration": 0,
               "redraw": true
              },
              "fromcurrent": true,
              "mode": "immediate",
              "transition": {
               "duration": 0,
               "easing": "linear"
              }
             }
            ],
            "label": "1991.0",
            "method": "animate"
           },
           {
            "args": [
             [
              "1994.0"
             ],
             {
              "frame": {
               "duration": 0,
               "redraw": true
              },
              "fromcurrent": true,
              "mode": "immediate",
              "transition": {
               "duration": 0,
               "easing": "linear"
              }
             }
            ],
            "label": "1994.0",
            "method": "animate"
           },
           {
            "args": [
             [
              "1995.0"
             ],
             {
              "frame": {
               "duration": 0,
               "redraw": true
              },
              "fromcurrent": true,
              "mode": "immediate",
              "transition": {
               "duration": 0,
               "easing": "linear"
              }
             }
            ],
            "label": "1995.0",
            "method": "animate"
           },
           {
            "args": [
             [
              "1996.0"
             ],
             {
              "frame": {
               "duration": 0,
               "redraw": true
              },
              "fromcurrent": true,
              "mode": "immediate",
              "transition": {
               "duration": 0,
               "easing": "linear"
              }
             }
            ],
            "label": "1996.0",
            "method": "animate"
           },
           {
            "args": [
             [
              "2012.0"
             ],
             {
              "frame": {
               "duration": 0,
               "redraw": true
              },
              "fromcurrent": true,
              "mode": "immediate",
              "transition": {
               "duration": 0,
               "easing": "linear"
              }
             }
            ],
            "label": "2012.0",
            "method": "animate"
           },
           {
            "args": [
             [
              "1981.0"
             ],
             {
              "frame": {
               "duration": 0,
               "redraw": true
              },
              "fromcurrent": true,
              "mode": "immediate",
              "transition": {
               "duration": 0,
               "easing": "linear"
              }
             }
            ],
            "label": "1981.0",
            "method": "animate"
           },
           {
            "args": [
             [
              "1982.0"
             ],
             {
              "frame": {
               "duration": 0,
               "redraw": true
              },
              "fromcurrent": true,
              "mode": "immediate",
              "transition": {
               "duration": 0,
               "easing": "linear"
              }
             }
            ],
            "label": "1982.0",
            "method": "animate"
           },
           {
            "args": [
             [
              "1990.0"
             ],
             {
              "frame": {
               "duration": 0,
               "redraw": true
              },
              "fromcurrent": true,
              "mode": "immediate",
              "transition": {
               "duration": 0,
               "easing": "linear"
              }
             }
            ],
            "label": "1990.0",
            "method": "animate"
           },
           {
            "args": [
             [
              "1998.0"
             ],
             {
              "frame": {
               "duration": 0,
               "redraw": true
              },
              "fromcurrent": true,
              "mode": "immediate",
              "transition": {
               "duration": 0,
               "easing": "linear"
              }
             }
            ],
            "label": "1998.0",
            "method": "animate"
           },
           {
            "args": [
             [
              "2000.0"
             ],
             {
              "frame": {
               "duration": 0,
               "redraw": true
              },
              "fromcurrent": true,
              "mode": "immediate",
              "transition": {
               "duration": 0,
               "easing": "linear"
              }
             }
            ],
            "label": "2000.0",
            "method": "animate"
           },
           {
            "args": [
             [
              "2004.0"
             ],
             {
              "frame": {
               "duration": 0,
               "redraw": true
              },
              "fromcurrent": true,
              "mode": "immediate",
              "transition": {
               "duration": 0,
               "easing": "linear"
              }
             }
            ],
            "label": "2004.0",
            "method": "animate"
           },
           {
            "args": [
             [
              "2005.0"
             ],
             {
              "frame": {
               "duration": 0,
               "redraw": true
              },
              "fromcurrent": true,
              "mode": "immediate",
              "transition": {
               "duration": 0,
               "easing": "linear"
              }
             }
            ],
            "label": "2005.0",
            "method": "animate"
           },
           {
            "args": [
             [
              "2006.0"
             ],
             {
              "frame": {
               "duration": 0,
               "redraw": true
              },
              "fromcurrent": true,
              "mode": "immediate",
              "transition": {
               "duration": 0,
               "easing": "linear"
              }
             }
            ],
            "label": "2006.0",
            "method": "animate"
           },
           {
            "args": [
             [
              "2007.0"
             ],
             {
              "frame": {
               "duration": 0,
               "redraw": true
              },
              "fromcurrent": true,
              "mode": "immediate",
              "transition": {
               "duration": 0,
               "easing": "linear"
              }
             }
            ],
            "label": "2007.0",
            "method": "animate"
           },
           {
            "args": [
             [
              "2008.0"
             ],
             {
              "frame": {
               "duration": 0,
               "redraw": true
              },
              "fromcurrent": true,
              "mode": "immediate",
              "transition": {
               "duration": 0,
               "easing": "linear"
              }
             }
            ],
            "label": "2008.0",
            "method": "animate"
           },
           {
            "args": [
             [
              "2009.0"
             ],
             {
              "frame": {
               "duration": 0,
               "redraw": true
              },
              "fromcurrent": true,
              "mode": "immediate",
              "transition": {
               "duration": 0,
               "easing": "linear"
              }
             }
            ],
            "label": "2009.0",
            "method": "animate"
           },
           {
            "args": [
             [
              "2010.0"
             ],
             {
              "frame": {
               "duration": 0,
               "redraw": true
              },
              "fromcurrent": true,
              "mode": "immediate",
              "transition": {
               "duration": 0,
               "easing": "linear"
              }
             }
            ],
            "label": "2010.0",
            "method": "animate"
           },
           {
            "args": [
             [
              "2011.0"
             ],
             {
              "frame": {
               "duration": 0,
               "redraw": true
              },
              "fromcurrent": true,
              "mode": "immediate",
              "transition": {
               "duration": 0,
               "easing": "linear"
              }
             }
            ],
            "label": "2011.0",
            "method": "animate"
           },
           {
            "args": [
             [
              "2013.0"
             ],
             {
              "frame": {
               "duration": 0,
               "redraw": true
              },
              "fromcurrent": true,
              "mode": "immediate",
              "transition": {
               "duration": 0,
               "easing": "linear"
              }
             }
            ],
            "label": "2013.0",
            "method": "animate"
           },
           {
            "args": [
             [
              "2014.0"
             ],
             {
              "frame": {
               "duration": 0,
               "redraw": true
              },
              "fromcurrent": true,
              "mode": "immediate",
              "transition": {
               "duration": 0,
               "easing": "linear"
              }
             }
            ],
            "label": "2014.0",
            "method": "animate"
           },
           {
            "args": [
             [
              "2015.0"
             ],
             {
              "frame": {
               "duration": 0,
               "redraw": true
              },
              "fromcurrent": true,
              "mode": "immediate",
              "transition": {
               "duration": 0,
               "easing": "linear"
              }
             }
            ],
            "label": "2015.0",
            "method": "animate"
           },
           {
            "args": [
             [
              "2016.0"
             ],
             {
              "frame": {
               "duration": 0,
               "redraw": true
              },
              "fromcurrent": true,
              "mode": "immediate",
              "transition": {
               "duration": 0,
               "easing": "linear"
              }
             }
            ],
            "label": "2016.0",
            "method": "animate"
           },
           {
            "args": [
             [
              "2017.0"
             ],
             {
              "frame": {
               "duration": 0,
               "redraw": true
              },
              "fromcurrent": true,
              "mode": "immediate",
              "transition": {
               "duration": 0,
               "easing": "linear"
              }
             }
            ],
            "label": "2017.0",
            "method": "animate"
           },
           {
            "args": [
             [
              "1985.0"
             ],
             {
              "frame": {
               "duration": 0,
               "redraw": true
              },
              "fromcurrent": true,
              "mode": "immediate",
              "transition": {
               "duration": 0,
               "easing": "linear"
              }
             }
            ],
            "label": "1985.0",
            "method": "animate"
           },
           {
            "args": [
             [
              "1983.0"
             ],
             {
              "frame": {
               "duration": 0,
               "redraw": true
              },
              "fromcurrent": true,
              "mode": "immediate",
              "transition": {
               "duration": 0,
               "easing": "linear"
              }
             }
            ],
            "label": "1983.0",
            "method": "animate"
           },
           {
            "args": [
             [
              "1986.0"
             ],
             {
              "frame": {
               "duration": 0,
               "redraw": true
              },
              "fromcurrent": true,
              "mode": "immediate",
              "transition": {
               "duration": 0,
               "easing": "linear"
              }
             }
            ],
            "label": "1986.0",
            "method": "animate"
           },
           {
            "args": [
             [
              "1989.0"
             ],
             {
              "frame": {
               "duration": 0,
               "redraw": true
              },
              "fromcurrent": true,
              "mode": "immediate",
              "transition": {
               "duration": 0,
               "easing": "linear"
              }
             }
            ],
            "label": "1989.0",
            "method": "animate"
           },
           {
            "args": [
             [
              "1992.0"
             ],
             {
              "frame": {
               "duration": 0,
               "redraw": true
              },
              "fromcurrent": true,
              "mode": "immediate",
              "transition": {
               "duration": 0,
               "easing": "linear"
              }
             }
            ],
            "label": "1992.0",
            "method": "animate"
           },
           {
            "args": [
             [
              "1993.0"
             ],
             {
              "frame": {
               "duration": 0,
               "redraw": true
              },
              "fromcurrent": true,
              "mode": "immediate",
              "transition": {
               "duration": 0,
               "easing": "linear"
              }
             }
            ],
            "label": "1993.0",
            "method": "animate"
           },
           {
            "args": [
             [
              "1997.0"
             ],
             {
              "frame": {
               "duration": 0,
               "redraw": true
              },
              "fromcurrent": true,
              "mode": "immediate",
              "transition": {
               "duration": 0,
               "easing": "linear"
              }
             }
            ],
            "label": "1997.0",
            "method": "animate"
           },
           {
            "args": [
             [
              "1999.0"
             ],
             {
              "frame": {
               "duration": 0,
               "redraw": true
              },
              "fromcurrent": true,
              "mode": "immediate",
              "transition": {
               "duration": 0,
               "easing": "linear"
              }
             }
            ],
            "label": "1999.0",
            "method": "animate"
           },
           {
            "args": [
             [
              "2001.0"
             ],
             {
              "frame": {
               "duration": 0,
               "redraw": true
              },
              "fromcurrent": true,
              "mode": "immediate",
              "transition": {
               "duration": 0,
               "easing": "linear"
              }
             }
            ],
            "label": "2001.0",
            "method": "animate"
           },
           {
            "args": [
             [
              "2002.0"
             ],
             {
              "frame": {
               "duration": 0,
               "redraw": true
              },
              "fromcurrent": true,
              "mode": "immediate",
              "transition": {
               "duration": 0,
               "easing": "linear"
              }
             }
            ],
            "label": "2002.0",
            "method": "animate"
           },
           {
            "args": [
             [
              "2003.0"
             ],
             {
              "frame": {
               "duration": 0,
               "redraw": true
              },
              "fromcurrent": true,
              "mode": "immediate",
              "transition": {
               "duration": 0,
               "easing": "linear"
              }
             }
            ],
            "label": "2003.0",
            "method": "animate"
           },
           {
            "args": [
             [
              "2018.0"
             ],
             {
              "frame": {
               "duration": 0,
               "redraw": true
              },
              "fromcurrent": true,
              "mode": "immediate",
              "transition": {
               "duration": 0,
               "easing": "linear"
              }
             }
            ],
            "label": "2018.0",
            "method": "animate"
           },
           {
            "args": [
             [
              "2019.0"
             ],
             {
              "frame": {
               "duration": 0,
               "redraw": true
              },
              "fromcurrent": true,
              "mode": "immediate",
              "transition": {
               "duration": 0,
               "easing": "linear"
              }
             }
            ],
            "label": "2019.0",
            "method": "animate"
           }
          ],
          "x": 0.1,
          "xanchor": "left",
          "y": 0,
          "yanchor": "top"
         }
        ],
        "template": {
         "data": {
          "bar": [
           {
            "error_x": {
             "color": "#2a3f5f"
            },
            "error_y": {
             "color": "#2a3f5f"
            },
            "marker": {
             "line": {
              "color": "#E5ECF6",
              "width": 0.5
             },
             "pattern": {
              "fillmode": "overlay",
              "size": 10,
              "solidity": 0.2
             }
            },
            "type": "bar"
           }
          ],
          "barpolar": [
           {
            "marker": {
             "line": {
              "color": "#E5ECF6",
              "width": 0.5
             },
             "pattern": {
              "fillmode": "overlay",
              "size": 10,
              "solidity": 0.2
             }
            },
            "type": "barpolar"
           }
          ],
          "carpet": [
           {
            "aaxis": {
             "endlinecolor": "#2a3f5f",
             "gridcolor": "white",
             "linecolor": "white",
             "minorgridcolor": "white",
             "startlinecolor": "#2a3f5f"
            },
            "baxis": {
             "endlinecolor": "#2a3f5f",
             "gridcolor": "white",
             "linecolor": "white",
             "minorgridcolor": "white",
             "startlinecolor": "#2a3f5f"
            },
            "type": "carpet"
           }
          ],
          "choropleth": [
           {
            "colorbar": {
             "outlinewidth": 0,
             "ticks": ""
            },
            "type": "choropleth"
           }
          ],
          "contour": [
           {
            "colorbar": {
             "outlinewidth": 0,
             "ticks": ""
            },
            "colorscale": [
             [
              0,
              "#0d0887"
             ],
             [
              0.1111111111111111,
              "#46039f"
             ],
             [
              0.2222222222222222,
              "#7201a8"
             ],
             [
              0.3333333333333333,
              "#9c179e"
             ],
             [
              0.4444444444444444,
              "#bd3786"
             ],
             [
              0.5555555555555556,
              "#d8576b"
             ],
             [
              0.6666666666666666,
              "#ed7953"
             ],
             [
              0.7777777777777778,
              "#fb9f3a"
             ],
             [
              0.8888888888888888,
              "#fdca26"
             ],
             [
              1,
              "#f0f921"
             ]
            ],
            "type": "contour"
           }
          ],
          "contourcarpet": [
           {
            "colorbar": {
             "outlinewidth": 0,
             "ticks": ""
            },
            "type": "contourcarpet"
           }
          ],
          "heatmap": [
           {
            "colorbar": {
             "outlinewidth": 0,
             "ticks": ""
            },
            "colorscale": [
             [
              0,
              "#0d0887"
             ],
             [
              0.1111111111111111,
              "#46039f"
             ],
             [
              0.2222222222222222,
              "#7201a8"
             ],
             [
              0.3333333333333333,
              "#9c179e"
             ],
             [
              0.4444444444444444,
              "#bd3786"
             ],
             [
              0.5555555555555556,
              "#d8576b"
             ],
             [
              0.6666666666666666,
              "#ed7953"
             ],
             [
              0.7777777777777778,
              "#fb9f3a"
             ],
             [
              0.8888888888888888,
              "#fdca26"
             ],
             [
              1,
              "#f0f921"
             ]
            ],
            "type": "heatmap"
           }
          ],
          "histogram": [
           {
            "marker": {
             "pattern": {
              "fillmode": "overlay",
              "size": 10,
              "solidity": 0.2
             }
            },
            "type": "histogram"
           }
          ],
          "histogram2d": [
           {
            "colorbar": {
             "outlinewidth": 0,
             "ticks": ""
            },
            "colorscale": [
             [
              0,
              "#0d0887"
             ],
             [
              0.1111111111111111,
              "#46039f"
             ],
             [
              0.2222222222222222,
              "#7201a8"
             ],
             [
              0.3333333333333333,
              "#9c179e"
             ],
             [
              0.4444444444444444,
              "#bd3786"
             ],
             [
              0.5555555555555556,
              "#d8576b"
             ],
             [
              0.6666666666666666,
              "#ed7953"
             ],
             [
              0.7777777777777778,
              "#fb9f3a"
             ],
             [
              0.8888888888888888,
              "#fdca26"
             ],
             [
              1,
              "#f0f921"
             ]
            ],
            "type": "histogram2d"
           }
          ],
          "histogram2dcontour": [
           {
            "colorbar": {
             "outlinewidth": 0,
             "ticks": ""
            },
            "colorscale": [
             [
              0,
              "#0d0887"
             ],
             [
              0.1111111111111111,
              "#46039f"
             ],
             [
              0.2222222222222222,
              "#7201a8"
             ],
             [
              0.3333333333333333,
              "#9c179e"
             ],
             [
              0.4444444444444444,
              "#bd3786"
             ],
             [
              0.5555555555555556,
              "#d8576b"
             ],
             [
              0.6666666666666666,
              "#ed7953"
             ],
             [
              0.7777777777777778,
              "#fb9f3a"
             ],
             [
              0.8888888888888888,
              "#fdca26"
             ],
             [
              1,
              "#f0f921"
             ]
            ],
            "type": "histogram2dcontour"
           }
          ],
          "mesh3d": [
           {
            "colorbar": {
             "outlinewidth": 0,
             "ticks": ""
            },
            "type": "mesh3d"
           }
          ],
          "parcoords": [
           {
            "line": {
             "colorbar": {
              "outlinewidth": 0,
              "ticks": ""
             }
            },
            "type": "parcoords"
           }
          ],
          "pie": [
           {
            "automargin": true,
            "type": "pie"
           }
          ],
          "scatter": [
           {
            "fillpattern": {
             "fillmode": "overlay",
             "size": 10,
             "solidity": 0.2
            },
            "type": "scatter"
           }
          ],
          "scatter3d": [
           {
            "line": {
             "colorbar": {
              "outlinewidth": 0,
              "ticks": ""
             }
            },
            "marker": {
             "colorbar": {
              "outlinewidth": 0,
              "ticks": ""
             }
            },
            "type": "scatter3d"
           }
          ],
          "scattercarpet": [
           {
            "marker": {
             "colorbar": {
              "outlinewidth": 0,
              "ticks": ""
             }
            },
            "type": "scattercarpet"
           }
          ],
          "scattergeo": [
           {
            "marker": {
             "colorbar": {
              "outlinewidth": 0,
              "ticks": ""
             }
            },
            "type": "scattergeo"
           }
          ],
          "scattergl": [
           {
            "marker": {
             "colorbar": {
              "outlinewidth": 0,
              "ticks": ""
             }
            },
            "type": "scattergl"
           }
          ],
          "scattermap": [
           {
            "marker": {
             "colorbar": {
              "outlinewidth": 0,
              "ticks": ""
             }
            },
            "type": "scattermap"
           }
          ],
          "scattermapbox": [
           {
            "marker": {
             "colorbar": {
              "outlinewidth": 0,
              "ticks": ""
             }
            },
            "type": "scattermapbox"
           }
          ],
          "scatterpolar": [
           {
            "marker": {
             "colorbar": {
              "outlinewidth": 0,
              "ticks": ""
             }
            },
            "type": "scatterpolar"
           }
          ],
          "scatterpolargl": [
           {
            "marker": {
             "colorbar": {
              "outlinewidth": 0,
              "ticks": ""
             }
            },
            "type": "scatterpolargl"
           }
          ],
          "scatterternary": [
           {
            "marker": {
             "colorbar": {
              "outlinewidth": 0,
              "ticks": ""
             }
            },
            "type": "scatterternary"
           }
          ],
          "surface": [
           {
            "colorbar": {
             "outlinewidth": 0,
             "ticks": ""
            },
            "colorscale": [
             [
              0,
              "#0d0887"
             ],
             [
              0.1111111111111111,
              "#46039f"
             ],
             [
              0.2222222222222222,
              "#7201a8"
             ],
             [
              0.3333333333333333,
              "#9c179e"
             ],
             [
              0.4444444444444444,
              "#bd3786"
             ],
             [
              0.5555555555555556,
              "#d8576b"
             ],
             [
              0.6666666666666666,
              "#ed7953"
             ],
             [
              0.7777777777777778,
              "#fb9f3a"
             ],
             [
              0.8888888888888888,
              "#fdca26"
             ],
             [
              1,
              "#f0f921"
             ]
            ],
            "type": "surface"
           }
          ],
          "table": [
           {
            "cells": {
             "fill": {
              "color": "#EBF0F8"
             },
             "line": {
              "color": "white"
             }
            },
            "header": {
             "fill": {
              "color": "#C8D4E3"
             },
             "line": {
              "color": "white"
             }
            },
            "type": "table"
           }
          ]
         },
         "layout": {
          "annotationdefaults": {
           "arrowcolor": "#2a3f5f",
           "arrowhead": 0,
           "arrowwidth": 1
          },
          "autotypenumbers": "strict",
          "coloraxis": {
           "colorbar": {
            "outlinewidth": 0,
            "ticks": ""
           }
          },
          "colorscale": {
           "diverging": [
            [
             0,
             "#8e0152"
            ],
            [
             0.1,
             "#c51b7d"
            ],
            [
             0.2,
             "#de77ae"
            ],
            [
             0.3,
             "#f1b6da"
            ],
            [
             0.4,
             "#fde0ef"
            ],
            [
             0.5,
             "#f7f7f7"
            ],
            [
             0.6,
             "#e6f5d0"
            ],
            [
             0.7,
             "#b8e186"
            ],
            [
             0.8,
             "#7fbc41"
            ],
            [
             0.9,
             "#4d9221"
            ],
            [
             1,
             "#276419"
            ]
           ],
           "sequential": [
            [
             0,
             "#0d0887"
            ],
            [
             0.1111111111111111,
             "#46039f"
            ],
            [
             0.2222222222222222,
             "#7201a8"
            ],
            [
             0.3333333333333333,
             "#9c179e"
            ],
            [
             0.4444444444444444,
             "#bd3786"
            ],
            [
             0.5555555555555556,
             "#d8576b"
            ],
            [
             0.6666666666666666,
             "#ed7953"
            ],
            [
             0.7777777777777778,
             "#fb9f3a"
            ],
            [
             0.8888888888888888,
             "#fdca26"
            ],
            [
             1,
             "#f0f921"
            ]
           ],
           "sequentialminus": [
            [
             0,
             "#0d0887"
            ],
            [
             0.1111111111111111,
             "#46039f"
            ],
            [
             0.2222222222222222,
             "#7201a8"
            ],
            [
             0.3333333333333333,
             "#9c179e"
            ],
            [
             0.4444444444444444,
             "#bd3786"
            ],
            [
             0.5555555555555556,
             "#d8576b"
            ],
            [
             0.6666666666666666,
             "#ed7953"
            ],
            [
             0.7777777777777778,
             "#fb9f3a"
            ],
            [
             0.8888888888888888,
             "#fdca26"
            ],
            [
             1,
             "#f0f921"
            ]
           ]
          },
          "colorway": [
           "#636efa",
           "#EF553B",
           "#00cc96",
           "#ab63fa",
           "#FFA15A",
           "#19d3f3",
           "#FF6692",
           "#B6E880",
           "#FF97FF",
           "#FECB52"
          ],
          "font": {
           "color": "#2a3f5f"
          },
          "geo": {
           "bgcolor": "white",
           "lakecolor": "white",
           "landcolor": "#E5ECF6",
           "showlakes": true,
           "showland": true,
           "subunitcolor": "white"
          },
          "hoverlabel": {
           "align": "left"
          },
          "hovermode": "closest",
          "mapbox": {
           "style": "light"
          },
          "paper_bgcolor": "white",
          "plot_bgcolor": "#E5ECF6",
          "polar": {
           "angularaxis": {
            "gridcolor": "white",
            "linecolor": "white",
            "ticks": ""
           },
           "bgcolor": "#E5ECF6",
           "radialaxis": {
            "gridcolor": "white",
            "linecolor": "white",
            "ticks": ""
           }
          },
          "scene": {
           "xaxis": {
            "backgroundcolor": "#E5ECF6",
            "gridcolor": "white",
            "gridwidth": 2,
            "linecolor": "white",
            "showbackground": true,
            "ticks": "",
            "zerolinecolor": "white"
           },
           "yaxis": {
            "backgroundcolor": "#E5ECF6",
            "gridcolor": "white",
            "gridwidth": 2,
            "linecolor": "white",
            "showbackground": true,
            "ticks": "",
            "zerolinecolor": "white"
           },
           "zaxis": {
            "backgroundcolor": "#E5ECF6",
            "gridcolor": "white",
            "gridwidth": 2,
            "linecolor": "white",
            "showbackground": true,
            "ticks": "",
            "zerolinecolor": "white"
           }
          },
          "shapedefaults": {
           "line": {
            "color": "#2a3f5f"
           }
          },
          "ternary": {
           "aaxis": {
            "gridcolor": "white",
            "linecolor": "white",
            "ticks": ""
           },
           "baxis": {
            "gridcolor": "white",
            "linecolor": "white",
            "ticks": ""
           },
           "bgcolor": "#E5ECF6",
           "caxis": {
            "gridcolor": "white",
            "linecolor": "white",
            "ticks": ""
           }
          },
          "title": {
           "x": 0.05
          },
          "xaxis": {
           "automargin": true,
           "gridcolor": "white",
           "linecolor": "white",
           "ticks": "",
           "title": {
            "standoff": 15
           },
           "zerolinecolor": "white",
           "zerolinewidth": 2
          },
          "yaxis": {
           "automargin": true,
           "gridcolor": "white",
           "linecolor": "white",
           "ticks": "",
           "title": {
            "standoff": 15
           },
           "zerolinecolor": "white",
           "zerolinewidth": 2
          }
         }
        },
        "title": {
         "text": "Extreme Weather Events Map Across Nepal Districts Over Years"
        },
        "updatemenus": [
         {
          "buttons": [
           {
            "args": [
             null,
             {
              "frame": {
               "duration": 500,
               "redraw": true
              },
              "fromcurrent": true,
              "mode": "immediate",
              "transition": {
               "duration": 500,
               "easing": "linear"
              }
             }
            ],
            "label": "&#9654;",
            "method": "animate"
           },
           {
            "args": [
             [
              null
             ],
             {
              "frame": {
               "duration": 0,
               "redraw": true
              },
              "fromcurrent": true,
              "mode": "immediate",
              "transition": {
               "duration": 0,
               "easing": "linear"
              }
             }
            ],
            "label": "&#9724;",
            "method": "animate"
           }
          ],
          "direction": "left",
          "pad": {
           "r": 10,
           "t": 70
          },
          "showactive": false,
          "type": "buttons",
          "x": 0.1,
          "xanchor": "right",
          "y": 0,
          "yanchor": "top"
         }
        ],
        "width": 1200
       }
      }
     },
     "metadata": {},
     "output_type": "display_data"
    }
   ],
   "source": [
    "# Extract year from date\n",
    "extreme_events['year'] = extreme_events['date'].dt.year\n",
    "\n",
    "# Group by district, event type, and year\n",
    "district_extreme_summary = extreme_events.groupby(['district', 'event_type', 'year']).size().reset_index(name='count')\n",
    "\n",
    "# Check\n",
    "print(district_extreme_summary.head(10))\n",
    "\n",
    "import plotly.express as px\n",
    "\n",
    "fig = px.bar(\n",
    "    district_extreme_summary,\n",
    "    x='district',\n",
    "    y='count',\n",
    "    color='event_type',\n",
    "    animation_frame='year',  \n",
    "    title='District-wise Extreme Weather Events by Type and Year',\n",
    "    labels={'count': 'Number of Events', 'district': 'District', 'event_type': 'Event Type', 'year': 'Year'},\n",
    ")\n",
    "\n",
    "fig.update_layout(\n",
    "    xaxis_tickangle=-45,\n",
    "    barmode='group',\n",
    "    transition={'duration': 500},\n",
    ")\n",
    "fig.show()\n",
    "\n",
    "# Mock: Average lat/lon per district (already done before)\n",
    "district_coords = df.groupby('district')[['lat', 'lon']].mean().reset_index()\n",
    "\n",
    "# Merge with extreme event counts\n",
    "district_map_df = district_extreme_summary.merge(district_coords, on='district', how='left')\n",
    "\n",
    "# Plot map\n",
    "fig = px.scatter_geo(\n",
    "    district_map_df,\n",
    "    lat='lat',\n",
    "    lon='lon',\n",
    "    text='district',\n",
    "    size='count',\n",
    "    color='event_type',\n",
    "    animation_frame='year',\n",
    "    scope='asia',\n",
    "    title='Extreme Weather Events Map Across Nepal Districts Over Years',\n",
    "    labels={'count': 'Extreme Event Count', 'district': 'District', 'year': 'Year'},\n",
    ")\n",
    "\n",
    "fig.update_layout(\n",
    "    geo=dict(\n",
    "        center=dict(lat=28.3949, lon=84.1240),\n",
    "        projection_scale=5,\n",
    "        showland=True,\n",
    "    ),\n",
    "    width=1200, \n",
    "    height=800, \n",
    "    margin={\"r\":0,\"t\":50,\"l\":0,\"b\":0}\n",
    ")\n",
    "\n",
    "\n",
    "fig.show()\n",
    "\n"
   ]
  },
  {
   "cell_type": "code",
   "execution_count": 87,
   "id": "da213690",
   "metadata": {},
   "outputs": [
    {
     "data": {
      "application/vnd.plotly.v1+json": {
       "config": {
        "plotlyServerURL": "https://plot.ly"
       },
       "data": [
        {
         "hovertemplate": "Type=Coldwave<br>Year=%{x}<br>Number of Events=%{y}<extra></extra>",
         "legendgroup": "Coldwave",
         "line": {
          "color": "#636efa",
          "dash": "solid"
         },
         "marker": {
          "symbol": "circle"
         },
         "mode": "lines+markers",
         "name": "Coldwave",
         "orientation": "v",
         "showlegend": true,
         "type": "scatter",
         "x": [
          "1981-12-31T00:00:00.000000000",
          "1982-12-31T00:00:00.000000000",
          "1983-12-31T00:00:00.000000000",
          "1984-12-31T00:00:00.000000000",
          "1985-12-31T00:00:00.000000000",
          "1986-12-31T00:00:00.000000000",
          "1987-12-31T00:00:00.000000000",
          "1988-12-31T00:00:00.000000000",
          "1989-12-31T00:00:00.000000000",
          "1990-12-31T00:00:00.000000000",
          "1991-12-31T00:00:00.000000000",
          "1992-12-31T00:00:00.000000000",
          "1993-12-31T00:00:00.000000000",
          "1994-12-31T00:00:00.000000000",
          "1995-12-31T00:00:00.000000000",
          "1996-12-31T00:00:00.000000000",
          "1997-12-31T00:00:00.000000000",
          "1998-12-31T00:00:00.000000000",
          "1999-12-31T00:00:00.000000000",
          "2000-12-31T00:00:00.000000000",
          "2001-12-31T00:00:00.000000000",
          "2002-12-31T00:00:00.000000000",
          "2003-12-31T00:00:00.000000000",
          "2004-12-31T00:00:00.000000000",
          "2005-12-31T00:00:00.000000000",
          "2006-12-31T00:00:00.000000000",
          "2007-12-31T00:00:00.000000000",
          "2008-12-31T00:00:00.000000000",
          "2009-12-31T00:00:00.000000000",
          "2010-12-31T00:00:00.000000000",
          "2011-12-31T00:00:00.000000000",
          "2012-12-31T00:00:00.000000000",
          "2013-12-31T00:00:00.000000000",
          "2014-12-31T00:00:00.000000000",
          "2015-12-31T00:00:00.000000000",
          "2016-12-31T00:00:00.000000000",
          "2017-12-31T00:00:00.000000000",
          "2018-12-31T00:00:00.000000000",
          "2019-12-31T00:00:00.000000000"
         ],
         "xaxis": "x",
         "y": {
          "bdata": "WVthVVdXUU9YTlpWUlNWUl5NSlBPT1FQUUtZSkxOU1pTUlZFSk5U",
          "dtype": "i1"
         },
         "yaxis": "y"
        },
        {
         "hovertemplate": "Type=Heatwave<br>Year=%{x}<br>Number of Events=%{y}<extra></extra>",
         "legendgroup": "Heatwave",
         "line": {
          "color": "#EF553B",
          "dash": "solid"
         },
         "marker": {
          "symbol": "circle"
         },
         "mode": "lines+markers",
         "name": "Heatwave",
         "orientation": "v",
         "showlegend": true,
         "type": "scatter",
         "x": [
          "1981-12-31T00:00:00.000000000",
          "1982-12-31T00:00:00.000000000",
          "1983-12-31T00:00:00.000000000",
          "1984-12-31T00:00:00.000000000",
          "1985-12-31T00:00:00.000000000",
          "1986-12-31T00:00:00.000000000",
          "1987-12-31T00:00:00.000000000",
          "1988-12-31T00:00:00.000000000",
          "1989-12-31T00:00:00.000000000",
          "1990-12-31T00:00:00.000000000",
          "1991-12-31T00:00:00.000000000",
          "1992-12-31T00:00:00.000000000",
          "1993-12-31T00:00:00.000000000",
          "1994-12-31T00:00:00.000000000",
          "1995-12-31T00:00:00.000000000",
          "1996-12-31T00:00:00.000000000",
          "1997-12-31T00:00:00.000000000",
          "1998-12-31T00:00:00.000000000",
          "1999-12-31T00:00:00.000000000",
          "2000-12-31T00:00:00.000000000",
          "2001-12-31T00:00:00.000000000",
          "2002-12-31T00:00:00.000000000",
          "2003-12-31T00:00:00.000000000",
          "2004-12-31T00:00:00.000000000",
          "2005-12-31T00:00:00.000000000",
          "2006-12-31T00:00:00.000000000",
          "2007-12-31T00:00:00.000000000",
          "2008-12-31T00:00:00.000000000",
          "2009-12-31T00:00:00.000000000",
          "2010-12-31T00:00:00.000000000",
          "2011-12-31T00:00:00.000000000",
          "2012-12-31T00:00:00.000000000",
          "2013-12-31T00:00:00.000000000",
          "2014-12-31T00:00:00.000000000",
          "2015-12-31T00:00:00.000000000",
          "2016-12-31T00:00:00.000000000",
          "2017-12-31T00:00:00.000000000",
          "2018-12-31T00:00:00.000000000",
          "2019-12-31T00:00:00.000000000"
         ],
         "xaxis": "x",
         "y": {
          "bdata": "BAQKCgwJEwwKChQMCRAXEQkMDQgHBwsDCgEBAQoQAhEDDQkIBwEM",
          "dtype": "i1"
         },
         "yaxis": "y"
        },
        {
         "hovertemplate": "Type=Heavy Rain<br>Year=%{x}<br>Number of Events=%{y}<extra></extra>",
         "legendgroup": "Heavy Rain",
         "line": {
          "color": "#00cc96",
          "dash": "solid"
         },
         "marker": {
          "symbol": "circle"
         },
         "mode": "lines+markers",
         "name": "Heavy Rain",
         "orientation": "v",
         "showlegend": true,
         "type": "scatter",
         "x": [
          "1981-12-31T00:00:00.000000000",
          "1982-12-31T00:00:00.000000000",
          "1983-12-31T00:00:00.000000000",
          "1984-12-31T00:00:00.000000000",
          "1985-12-31T00:00:00.000000000",
          "1986-12-31T00:00:00.000000000",
          "1987-12-31T00:00:00.000000000",
          "1988-12-31T00:00:00.000000000",
          "1989-12-31T00:00:00.000000000",
          "1990-12-31T00:00:00.000000000",
          "1991-12-31T00:00:00.000000000",
          "1992-12-31T00:00:00.000000000",
          "1994-12-31T00:00:00.000000000",
          "1996-12-31T00:00:00.000000000",
          "1997-12-31T00:00:00.000000000",
          "1998-12-31T00:00:00.000000000",
          "1999-12-31T00:00:00.000000000",
          "2000-12-31T00:00:00.000000000",
          "2001-12-31T00:00:00.000000000",
          "2002-12-31T00:00:00.000000000",
          "2003-12-31T00:00:00.000000000",
          "2004-12-31T00:00:00.000000000",
          "2005-12-31T00:00:00.000000000",
          "2006-12-31T00:00:00.000000000",
          "2007-12-31T00:00:00.000000000",
          "2008-12-31T00:00:00.000000000",
          "2009-12-31T00:00:00.000000000",
          "2010-12-31T00:00:00.000000000",
          "2011-12-31T00:00:00.000000000",
          "2012-12-31T00:00:00.000000000",
          "2013-12-31T00:00:00.000000000",
          "2014-12-31T00:00:00.000000000",
          "2015-12-31T00:00:00.000000000",
          "2016-12-31T00:00:00.000000000",
          "2017-12-31T00:00:00.000000000"
         ],
         "xaxis": "x",
         "y": {
          "bdata": "Og8WBhgSHUIHIQMHAQIGCQIKAQIHPD0sSHAqVldVbFJKXVU=",
          "dtype": "i1"
         },
         "yaxis": "y"
        }
       ],
       "layout": {
        "legend": {
         "title": {
          "text": "Type"
         },
         "tracegroupgap": 0
        },
        "template": {
         "data": {
          "bar": [
           {
            "error_x": {
             "color": "#2a3f5f"
            },
            "error_y": {
             "color": "#2a3f5f"
            },
            "marker": {
             "line": {
              "color": "#E5ECF6",
              "width": 0.5
             },
             "pattern": {
              "fillmode": "overlay",
              "size": 10,
              "solidity": 0.2
             }
            },
            "type": "bar"
           }
          ],
          "barpolar": [
           {
            "marker": {
             "line": {
              "color": "#E5ECF6",
              "width": 0.5
             },
             "pattern": {
              "fillmode": "overlay",
              "size": 10,
              "solidity": 0.2
             }
            },
            "type": "barpolar"
           }
          ],
          "carpet": [
           {
            "aaxis": {
             "endlinecolor": "#2a3f5f",
             "gridcolor": "white",
             "linecolor": "white",
             "minorgridcolor": "white",
             "startlinecolor": "#2a3f5f"
            },
            "baxis": {
             "endlinecolor": "#2a3f5f",
             "gridcolor": "white",
             "linecolor": "white",
             "minorgridcolor": "white",
             "startlinecolor": "#2a3f5f"
            },
            "type": "carpet"
           }
          ],
          "choropleth": [
           {
            "colorbar": {
             "outlinewidth": 0,
             "ticks": ""
            },
            "type": "choropleth"
           }
          ],
          "contour": [
           {
            "colorbar": {
             "outlinewidth": 0,
             "ticks": ""
            },
            "colorscale": [
             [
              0,
              "#0d0887"
             ],
             [
              0.1111111111111111,
              "#46039f"
             ],
             [
              0.2222222222222222,
              "#7201a8"
             ],
             [
              0.3333333333333333,
              "#9c179e"
             ],
             [
              0.4444444444444444,
              "#bd3786"
             ],
             [
              0.5555555555555556,
              "#d8576b"
             ],
             [
              0.6666666666666666,
              "#ed7953"
             ],
             [
              0.7777777777777778,
              "#fb9f3a"
             ],
             [
              0.8888888888888888,
              "#fdca26"
             ],
             [
              1,
              "#f0f921"
             ]
            ],
            "type": "contour"
           }
          ],
          "contourcarpet": [
           {
            "colorbar": {
             "outlinewidth": 0,
             "ticks": ""
            },
            "type": "contourcarpet"
           }
          ],
          "heatmap": [
           {
            "colorbar": {
             "outlinewidth": 0,
             "ticks": ""
            },
            "colorscale": [
             [
              0,
              "#0d0887"
             ],
             [
              0.1111111111111111,
              "#46039f"
             ],
             [
              0.2222222222222222,
              "#7201a8"
             ],
             [
              0.3333333333333333,
              "#9c179e"
             ],
             [
              0.4444444444444444,
              "#bd3786"
             ],
             [
              0.5555555555555556,
              "#d8576b"
             ],
             [
              0.6666666666666666,
              "#ed7953"
             ],
             [
              0.7777777777777778,
              "#fb9f3a"
             ],
             [
              0.8888888888888888,
              "#fdca26"
             ],
             [
              1,
              "#f0f921"
             ]
            ],
            "type": "heatmap"
           }
          ],
          "histogram": [
           {
            "marker": {
             "pattern": {
              "fillmode": "overlay",
              "size": 10,
              "solidity": 0.2
             }
            },
            "type": "histogram"
           }
          ],
          "histogram2d": [
           {
            "colorbar": {
             "outlinewidth": 0,
             "ticks": ""
            },
            "colorscale": [
             [
              0,
              "#0d0887"
             ],
             [
              0.1111111111111111,
              "#46039f"
             ],
             [
              0.2222222222222222,
              "#7201a8"
             ],
             [
              0.3333333333333333,
              "#9c179e"
             ],
             [
              0.4444444444444444,
              "#bd3786"
             ],
             [
              0.5555555555555556,
              "#d8576b"
             ],
             [
              0.6666666666666666,
              "#ed7953"
             ],
             [
              0.7777777777777778,
              "#fb9f3a"
             ],
             [
              0.8888888888888888,
              "#fdca26"
             ],
             [
              1,
              "#f0f921"
             ]
            ],
            "type": "histogram2d"
           }
          ],
          "histogram2dcontour": [
           {
            "colorbar": {
             "outlinewidth": 0,
             "ticks": ""
            },
            "colorscale": [
             [
              0,
              "#0d0887"
             ],
             [
              0.1111111111111111,
              "#46039f"
             ],
             [
              0.2222222222222222,
              "#7201a8"
             ],
             [
              0.3333333333333333,
              "#9c179e"
             ],
             [
              0.4444444444444444,
              "#bd3786"
             ],
             [
              0.5555555555555556,
              "#d8576b"
             ],
             [
              0.6666666666666666,
              "#ed7953"
             ],
             [
              0.7777777777777778,
              "#fb9f3a"
             ],
             [
              0.8888888888888888,
              "#fdca26"
             ],
             [
              1,
              "#f0f921"
             ]
            ],
            "type": "histogram2dcontour"
           }
          ],
          "mesh3d": [
           {
            "colorbar": {
             "outlinewidth": 0,
             "ticks": ""
            },
            "type": "mesh3d"
           }
          ],
          "parcoords": [
           {
            "line": {
             "colorbar": {
              "outlinewidth": 0,
              "ticks": ""
             }
            },
            "type": "parcoords"
           }
          ],
          "pie": [
           {
            "automargin": true,
            "type": "pie"
           }
          ],
          "scatter": [
           {
            "fillpattern": {
             "fillmode": "overlay",
             "size": 10,
             "solidity": 0.2
            },
            "type": "scatter"
           }
          ],
          "scatter3d": [
           {
            "line": {
             "colorbar": {
              "outlinewidth": 0,
              "ticks": ""
             }
            },
            "marker": {
             "colorbar": {
              "outlinewidth": 0,
              "ticks": ""
             }
            },
            "type": "scatter3d"
           }
          ],
          "scattercarpet": [
           {
            "marker": {
             "colorbar": {
              "outlinewidth": 0,
              "ticks": ""
             }
            },
            "type": "scattercarpet"
           }
          ],
          "scattergeo": [
           {
            "marker": {
             "colorbar": {
              "outlinewidth": 0,
              "ticks": ""
             }
            },
            "type": "scattergeo"
           }
          ],
          "scattergl": [
           {
            "marker": {
             "colorbar": {
              "outlinewidth": 0,
              "ticks": ""
             }
            },
            "type": "scattergl"
           }
          ],
          "scattermap": [
           {
            "marker": {
             "colorbar": {
              "outlinewidth": 0,
              "ticks": ""
             }
            },
            "type": "scattermap"
           }
          ],
          "scattermapbox": [
           {
            "marker": {
             "colorbar": {
              "outlinewidth": 0,
              "ticks": ""
             }
            },
            "type": "scattermapbox"
           }
          ],
          "scatterpolar": [
           {
            "marker": {
             "colorbar": {
              "outlinewidth": 0,
              "ticks": ""
             }
            },
            "type": "scatterpolar"
           }
          ],
          "scatterpolargl": [
           {
            "marker": {
             "colorbar": {
              "outlinewidth": 0,
              "ticks": ""
             }
            },
            "type": "scatterpolargl"
           }
          ],
          "scatterternary": [
           {
            "marker": {
             "colorbar": {
              "outlinewidth": 0,
              "ticks": ""
             }
            },
            "type": "scatterternary"
           }
          ],
          "surface": [
           {
            "colorbar": {
             "outlinewidth": 0,
             "ticks": ""
            },
            "colorscale": [
             [
              0,
              "#0d0887"
             ],
             [
              0.1111111111111111,
              "#46039f"
             ],
             [
              0.2222222222222222,
              "#7201a8"
             ],
             [
              0.3333333333333333,
              "#9c179e"
             ],
             [
              0.4444444444444444,
              "#bd3786"
             ],
             [
              0.5555555555555556,
              "#d8576b"
             ],
             [
              0.6666666666666666,
              "#ed7953"
             ],
             [
              0.7777777777777778,
              "#fb9f3a"
             ],
             [
              0.8888888888888888,
              "#fdca26"
             ],
             [
              1,
              "#f0f921"
             ]
            ],
            "type": "surface"
           }
          ],
          "table": [
           {
            "cells": {
             "fill": {
              "color": "#EBF0F8"
             },
             "line": {
              "color": "white"
             }
            },
            "header": {
             "fill": {
              "color": "#C8D4E3"
             },
             "line": {
              "color": "white"
             }
            },
            "type": "table"
           }
          ]
         },
         "layout": {
          "annotationdefaults": {
           "arrowcolor": "#2a3f5f",
           "arrowhead": 0,
           "arrowwidth": 1
          },
          "autotypenumbers": "strict",
          "coloraxis": {
           "colorbar": {
            "outlinewidth": 0,
            "ticks": ""
           }
          },
          "colorscale": {
           "diverging": [
            [
             0,
             "#8e0152"
            ],
            [
             0.1,
             "#c51b7d"
            ],
            [
             0.2,
             "#de77ae"
            ],
            [
             0.3,
             "#f1b6da"
            ],
            [
             0.4,
             "#fde0ef"
            ],
            [
             0.5,
             "#f7f7f7"
            ],
            [
             0.6,
             "#e6f5d0"
            ],
            [
             0.7,
             "#b8e186"
            ],
            [
             0.8,
             "#7fbc41"
            ],
            [
             0.9,
             "#4d9221"
            ],
            [
             1,
             "#276419"
            ]
           ],
           "sequential": [
            [
             0,
             "#0d0887"
            ],
            [
             0.1111111111111111,
             "#46039f"
            ],
            [
             0.2222222222222222,
             "#7201a8"
            ],
            [
             0.3333333333333333,
             "#9c179e"
            ],
            [
             0.4444444444444444,
             "#bd3786"
            ],
            [
             0.5555555555555556,
             "#d8576b"
            ],
            [
             0.6666666666666666,
             "#ed7953"
            ],
            [
             0.7777777777777778,
             "#fb9f3a"
            ],
            [
             0.8888888888888888,
             "#fdca26"
            ],
            [
             1,
             "#f0f921"
            ]
           ],
           "sequentialminus": [
            [
             0,
             "#0d0887"
            ],
            [
             0.1111111111111111,
             "#46039f"
            ],
            [
             0.2222222222222222,
             "#7201a8"
            ],
            [
             0.3333333333333333,
             "#9c179e"
            ],
            [
             0.4444444444444444,
             "#bd3786"
            ],
            [
             0.5555555555555556,
             "#d8576b"
            ],
            [
             0.6666666666666666,
             "#ed7953"
            ],
            [
             0.7777777777777778,
             "#fb9f3a"
            ],
            [
             0.8888888888888888,
             "#fdca26"
            ],
            [
             1,
             "#f0f921"
            ]
           ]
          },
          "colorway": [
           "#636efa",
           "#EF553B",
           "#00cc96",
           "#ab63fa",
           "#FFA15A",
           "#19d3f3",
           "#FF6692",
           "#B6E880",
           "#FF97FF",
           "#FECB52"
          ],
          "font": {
           "color": "#2a3f5f"
          },
          "geo": {
           "bgcolor": "white",
           "lakecolor": "white",
           "landcolor": "#E5ECF6",
           "showlakes": true,
           "showland": true,
           "subunitcolor": "white"
          },
          "hoverlabel": {
           "align": "left"
          },
          "hovermode": "closest",
          "mapbox": {
           "style": "light"
          },
          "paper_bgcolor": "white",
          "plot_bgcolor": "#E5ECF6",
          "polar": {
           "angularaxis": {
            "gridcolor": "white",
            "linecolor": "white",
            "ticks": ""
           },
           "bgcolor": "#E5ECF6",
           "radialaxis": {
            "gridcolor": "white",
            "linecolor": "white",
            "ticks": ""
           }
          },
          "scene": {
           "xaxis": {
            "backgroundcolor": "#E5ECF6",
            "gridcolor": "white",
            "gridwidth": 2,
            "linecolor": "white",
            "showbackground": true,
            "ticks": "",
            "zerolinecolor": "white"
           },
           "yaxis": {
            "backgroundcolor": "#E5ECF6",
            "gridcolor": "white",
            "gridwidth": 2,
            "linecolor": "white",
            "showbackground": true,
            "ticks": "",
            "zerolinecolor": "white"
           },
           "zaxis": {
            "backgroundcolor": "#E5ECF6",
            "gridcolor": "white",
            "gridwidth": 2,
            "linecolor": "white",
            "showbackground": true,
            "ticks": "",
            "zerolinecolor": "white"
           }
          },
          "shapedefaults": {
           "line": {
            "color": "#2a3f5f"
           }
          },
          "ternary": {
           "aaxis": {
            "gridcolor": "white",
            "linecolor": "white",
            "ticks": ""
           },
           "baxis": {
            "gridcolor": "white",
            "linecolor": "white",
            "ticks": ""
           },
           "bgcolor": "#E5ECF6",
           "caxis": {
            "gridcolor": "white",
            "linecolor": "white",
            "ticks": ""
           }
          },
          "title": {
           "x": 0.05
          },
          "xaxis": {
           "automargin": true,
           "gridcolor": "white",
           "linecolor": "white",
           "ticks": "",
           "title": {
            "standoff": 15
           },
           "zerolinecolor": "white",
           "zerolinewidth": 2
          },
          "yaxis": {
           "automargin": true,
           "gridcolor": "white",
           "linecolor": "white",
           "ticks": "",
           "title": {
            "standoff": 15
           },
           "zerolinecolor": "white",
           "zerolinewidth": 2
          }
         }
        },
        "title": {
         "text": "Extreme Event Frequency Over Years by Type"
        },
        "xaxis": {
         "anchor": "y",
         "domain": [
          0,
          1
         ],
         "tickangle": -45,
         "title": {
          "text": "Year"
         }
        },
        "yaxis": {
         "anchor": "x",
         "domain": [
          0,
          1
         ],
         "title": {
          "text": "Number of Events"
         }
        }
       }
      }
     },
     "metadata": {},
     "output_type": "display_data"
    },
    {
     "data": {
      "application/vnd.plotly.v1+json": {
       "config": {
        "plotlyServerURL": "https://plot.ly"
       },
       "data": [
        {
         "hovertemplate": "Type=Coldwave<br>Year=%{x}<br>Average Intensity=%{y}<extra></extra>",
         "legendgroup": "Coldwave",
         "line": {
          "color": "#636efa",
          "dash": "solid"
         },
         "marker": {
          "symbol": "circle"
         },
         "mode": "lines+markers",
         "name": "Coldwave",
         "orientation": "v",
         "showlegend": true,
         "type": "scatter",
         "x": [
          "1981-12-31T00:00:00.000000000",
          "1982-12-31T00:00:00.000000000",
          "1983-12-31T00:00:00.000000000",
          "1984-12-31T00:00:00.000000000",
          "1985-12-31T00:00:00.000000000",
          "1986-12-31T00:00:00.000000000",
          "1987-12-31T00:00:00.000000000",
          "1988-12-31T00:00:00.000000000",
          "1989-12-31T00:00:00.000000000",
          "1990-12-31T00:00:00.000000000",
          "1991-12-31T00:00:00.000000000",
          "1992-12-31T00:00:00.000000000",
          "1993-12-31T00:00:00.000000000",
          "1994-12-31T00:00:00.000000000",
          "1995-12-31T00:00:00.000000000",
          "1996-12-31T00:00:00.000000000",
          "1997-12-31T00:00:00.000000000",
          "1998-12-31T00:00:00.000000000",
          "1999-12-31T00:00:00.000000000",
          "2000-12-31T00:00:00.000000000",
          "2001-12-31T00:00:00.000000000",
          "2002-12-31T00:00:00.000000000",
          "2003-12-31T00:00:00.000000000",
          "2004-12-31T00:00:00.000000000",
          "2005-12-31T00:00:00.000000000",
          "2006-12-31T00:00:00.000000000",
          "2007-12-31T00:00:00.000000000",
          "2008-12-31T00:00:00.000000000",
          "2009-12-31T00:00:00.000000000",
          "2010-12-31T00:00:00.000000000",
          "2011-12-31T00:00:00.000000000",
          "2012-12-31T00:00:00.000000000",
          "2013-12-31T00:00:00.000000000",
          "2014-12-31T00:00:00.000000000",
          "2015-12-31T00:00:00.000000000",
          "2016-12-31T00:00:00.000000000",
          "2017-12-31T00:00:00.000000000",
          "2018-12-31T00:00:00.000000000",
          "2019-12-31T00:00:00.000000000"
         ],
         "xaxis": "x",
         "y": {
          "bdata": "ag+aVZgUHcCB2FQacu4bwJTsdxCExRrAKeH/hHDCG8DxBCrlG20cwEv5RtvHohzAt4KGGI48G8Cx0PoX8SQawLAR/xrxTxzAfIdEFSFeGcDpkz7pk74ZwBWzsH5kPhrAcjcidyNyGcDIGX2+aP0awOFmcDihORzAuxC9C9E7GsD0rqv064MbwPnXiH+N+BrATQjK3teEGcAtsp3vpyYcwDrql/RnEhnAwUlxGmwyG8AJn6bKtRIcwMDKoUW2IxrAfqYj9h2bHsAofoy5awkawP+HAgp5JBvALXYZ9GZ8HMAg38ZdlosZwGRr6cnRTxrAeKOp82sPG8AOU5fbH2QcwNIgQjgozh3ADMzPwPwMHMBokxfvnF8bwOEPuTVORRnAX8gceCa5GcBlr1wxfKkZwNGk5gPY2R/A",
          "dtype": "f8"
         },
         "yaxis": "y"
        },
        {
         "hovertemplate": "Type=Heatwave<br>Year=%{x}<br>Average Intensity=%{y}<extra></extra>",
         "legendgroup": "Heatwave",
         "line": {
          "color": "#EF553B",
          "dash": "solid"
         },
         "marker": {
          "symbol": "circle"
         },
         "mode": "lines+markers",
         "name": "Heatwave",
         "orientation": "v",
         "showlegend": true,
         "type": "scatter",
         "x": [
          "1981-12-31T00:00:00.000000000",
          "1982-12-31T00:00:00.000000000",
          "1983-12-31T00:00:00.000000000",
          "1984-12-31T00:00:00.000000000",
          "1985-12-31T00:00:00.000000000",
          "1986-12-31T00:00:00.000000000",
          "1987-12-31T00:00:00.000000000",
          "1988-12-31T00:00:00.000000000",
          "1989-12-31T00:00:00.000000000",
          "1990-12-31T00:00:00.000000000",
          "1991-12-31T00:00:00.000000000",
          "1992-12-31T00:00:00.000000000",
          "1993-12-31T00:00:00.000000000",
          "1994-12-31T00:00:00.000000000",
          "1995-12-31T00:00:00.000000000",
          "1996-12-31T00:00:00.000000000",
          "1997-12-31T00:00:00.000000000",
          "1998-12-31T00:00:00.000000000",
          "1999-12-31T00:00:00.000000000",
          "2000-12-31T00:00:00.000000000",
          "2001-12-31T00:00:00.000000000",
          "2002-12-31T00:00:00.000000000",
          "2003-12-31T00:00:00.000000000",
          "2004-12-31T00:00:00.000000000",
          "2005-12-31T00:00:00.000000000",
          "2006-12-31T00:00:00.000000000",
          "2007-12-31T00:00:00.000000000",
          "2008-12-31T00:00:00.000000000",
          "2009-12-31T00:00:00.000000000",
          "2010-12-31T00:00:00.000000000",
          "2011-12-31T00:00:00.000000000",
          "2012-12-31T00:00:00.000000000",
          "2013-12-31T00:00:00.000000000",
          "2014-12-31T00:00:00.000000000",
          "2015-12-31T00:00:00.000000000",
          "2016-12-31T00:00:00.000000000",
          "2017-12-31T00:00:00.000000000",
          "2018-12-31T00:00:00.000000000",
          "2019-12-31T00:00:00.000000000"
         ],
         "xaxis": "x",
         "y": {
          "bdata": "SOF6FK5XQ0DsUbgehcNDQARWDi2yvUNAFtnO91PjQ0As+cWSX9xDQKuqqqqqakNAtLYXvNnEQ0BH4XoUrp9DQBWuR+F6xENAsHJoke2sQ0BlO99PjcdDQDMzMzMzs0NAzquJZ0WjQ0C4HoXrUapDQI9A0VaDx0NAAc6aZzTBQ0BMXW5/kOFDQI/C9Shc30NAT19bHCyoQ0C4HoXrUWhDQHcBsak0ZENAzn12AbGJQ0AfhetRuH5DQOi0gU4bKENAm8QgsHKYQ0AzMzMzMzNDQLgehetReENArkfhehROQ0CWQ4ts52tDQD0K16Nwm0NASOF6FK4nQ0BiLvvHlOFDQIiIiIiIqENA42BBSceHQ0B5VjQS8G1DQFyPwvUoyENAYlNpyLlPQ0AUrkfhejRDQKcNdNpAz0NA",
          "dtype": "f8"
         },
         "yaxis": "y"
        },
        {
         "hovertemplate": "Type=Heavy Rain<br>Year=%{x}<br>Average Intensity=%{y}<extra></extra>",
         "legendgroup": "Heavy Rain",
         "line": {
          "color": "#00cc96",
          "dash": "solid"
         },
         "marker": {
          "symbol": "circle"
         },
         "mode": "lines+markers",
         "name": "Heavy Rain",
         "orientation": "v",
         "showlegend": true,
         "type": "scatter",
         "x": [
          "1981-12-31T00:00:00.000000000",
          "1982-12-31T00:00:00.000000000",
          "1983-12-31T00:00:00.000000000",
          "1984-12-31T00:00:00.000000000",
          "1985-12-31T00:00:00.000000000",
          "1986-12-31T00:00:00.000000000",
          "1987-12-31T00:00:00.000000000",
          "1988-12-31T00:00:00.000000000",
          "1989-12-31T00:00:00.000000000",
          "1990-12-31T00:00:00.000000000",
          "1991-12-31T00:00:00.000000000",
          "1992-12-31T00:00:00.000000000",
          "1994-12-31T00:00:00.000000000",
          "1996-12-31T00:00:00.000000000",
          "1997-12-31T00:00:00.000000000",
          "1998-12-31T00:00:00.000000000",
          "1999-12-31T00:00:00.000000000",
          "2000-12-31T00:00:00.000000000",
          "2001-12-31T00:00:00.000000000",
          "2002-12-31T00:00:00.000000000",
          "2003-12-31T00:00:00.000000000",
          "2004-12-31T00:00:00.000000000",
          "2005-12-31T00:00:00.000000000",
          "2006-12-31T00:00:00.000000000",
          "2007-12-31T00:00:00.000000000",
          "2008-12-31T00:00:00.000000000",
          "2009-12-31T00:00:00.000000000",
          "2010-12-31T00:00:00.000000000",
          "2011-12-31T00:00:00.000000000",
          "2012-12-31T00:00:00.000000000",
          "2013-12-31T00:00:00.000000000",
          "2014-12-31T00:00:00.000000000",
          "2015-12-31T00:00:00.000000000",
          "2016-12-31T00:00:00.000000000",
          "2017-12-31T00:00:00.000000000"
         ],
         "xaxis": "x",
         "y": {
          "bdata": "KuUbbR93eUAjlNHbstZ1QAOvLPDKUHdA4XoUrkcVc0AjIiIiItl3QGdFIwHf1HNA6C2GdN6udkA++OCDD6p3QLdt27ZtM3ZAc/UxVx/bekCF61G4HkVzQO+zC4hNrXRApHA9Ctcjc0CuR+F6FB50QKuqqqqqCHdAKH3SJ32udEBmZmZmZsx6QKabxCCwkHVAH4XrUbhmeUBmZmZmZrJ2QJtKQ859vnRAzczMzMxTd0B9WwO8IHV3QMeJZJxIO3VAlD7pkz4geED/TlbLW8d4QIBijkwvT3VAvF/a6S7ndkCz7uxdHj53QEhSKc0943ZAz3TEvmMteEASuB+B+7d3QFR6fuPSpnhAv9LuK+3ieED9/Pz8/Nh3QA==",
          "dtype": "f8"
         },
         "yaxis": "y"
        }
       ],
       "layout": {
        "legend": {
         "title": {
          "text": "Type"
         },
         "tracegroupgap": 0
        },
        "template": {
         "data": {
          "bar": [
           {
            "error_x": {
             "color": "#2a3f5f"
            },
            "error_y": {
             "color": "#2a3f5f"
            },
            "marker": {
             "line": {
              "color": "#E5ECF6",
              "width": 0.5
             },
             "pattern": {
              "fillmode": "overlay",
              "size": 10,
              "solidity": 0.2
             }
            },
            "type": "bar"
           }
          ],
          "barpolar": [
           {
            "marker": {
             "line": {
              "color": "#E5ECF6",
              "width": 0.5
             },
             "pattern": {
              "fillmode": "overlay",
              "size": 10,
              "solidity": 0.2
             }
            },
            "type": "barpolar"
           }
          ],
          "carpet": [
           {
            "aaxis": {
             "endlinecolor": "#2a3f5f",
             "gridcolor": "white",
             "linecolor": "white",
             "minorgridcolor": "white",
             "startlinecolor": "#2a3f5f"
            },
            "baxis": {
             "endlinecolor": "#2a3f5f",
             "gridcolor": "white",
             "linecolor": "white",
             "minorgridcolor": "white",
             "startlinecolor": "#2a3f5f"
            },
            "type": "carpet"
           }
          ],
          "choropleth": [
           {
            "colorbar": {
             "outlinewidth": 0,
             "ticks": ""
            },
            "type": "choropleth"
           }
          ],
          "contour": [
           {
            "colorbar": {
             "outlinewidth": 0,
             "ticks": ""
            },
            "colorscale": [
             [
              0,
              "#0d0887"
             ],
             [
              0.1111111111111111,
              "#46039f"
             ],
             [
              0.2222222222222222,
              "#7201a8"
             ],
             [
              0.3333333333333333,
              "#9c179e"
             ],
             [
              0.4444444444444444,
              "#bd3786"
             ],
             [
              0.5555555555555556,
              "#d8576b"
             ],
             [
              0.6666666666666666,
              "#ed7953"
             ],
             [
              0.7777777777777778,
              "#fb9f3a"
             ],
             [
              0.8888888888888888,
              "#fdca26"
             ],
             [
              1,
              "#f0f921"
             ]
            ],
            "type": "contour"
           }
          ],
          "contourcarpet": [
           {
            "colorbar": {
             "outlinewidth": 0,
             "ticks": ""
            },
            "type": "contourcarpet"
           }
          ],
          "heatmap": [
           {
            "colorbar": {
             "outlinewidth": 0,
             "ticks": ""
            },
            "colorscale": [
             [
              0,
              "#0d0887"
             ],
             [
              0.1111111111111111,
              "#46039f"
             ],
             [
              0.2222222222222222,
              "#7201a8"
             ],
             [
              0.3333333333333333,
              "#9c179e"
             ],
             [
              0.4444444444444444,
              "#bd3786"
             ],
             [
              0.5555555555555556,
              "#d8576b"
             ],
             [
              0.6666666666666666,
              "#ed7953"
             ],
             [
              0.7777777777777778,
              "#fb9f3a"
             ],
             [
              0.8888888888888888,
              "#fdca26"
             ],
             [
              1,
              "#f0f921"
             ]
            ],
            "type": "heatmap"
           }
          ],
          "histogram": [
           {
            "marker": {
             "pattern": {
              "fillmode": "overlay",
              "size": 10,
              "solidity": 0.2
             }
            },
            "type": "histogram"
           }
          ],
          "histogram2d": [
           {
            "colorbar": {
             "outlinewidth": 0,
             "ticks": ""
            },
            "colorscale": [
             [
              0,
              "#0d0887"
             ],
             [
              0.1111111111111111,
              "#46039f"
             ],
             [
              0.2222222222222222,
              "#7201a8"
             ],
             [
              0.3333333333333333,
              "#9c179e"
             ],
             [
              0.4444444444444444,
              "#bd3786"
             ],
             [
              0.5555555555555556,
              "#d8576b"
             ],
             [
              0.6666666666666666,
              "#ed7953"
             ],
             [
              0.7777777777777778,
              "#fb9f3a"
             ],
             [
              0.8888888888888888,
              "#fdca26"
             ],
             [
              1,
              "#f0f921"
             ]
            ],
            "type": "histogram2d"
           }
          ],
          "histogram2dcontour": [
           {
            "colorbar": {
             "outlinewidth": 0,
             "ticks": ""
            },
            "colorscale": [
             [
              0,
              "#0d0887"
             ],
             [
              0.1111111111111111,
              "#46039f"
             ],
             [
              0.2222222222222222,
              "#7201a8"
             ],
             [
              0.3333333333333333,
              "#9c179e"
             ],
             [
              0.4444444444444444,
              "#bd3786"
             ],
             [
              0.5555555555555556,
              "#d8576b"
             ],
             [
              0.6666666666666666,
              "#ed7953"
             ],
             [
              0.7777777777777778,
              "#fb9f3a"
             ],
             [
              0.8888888888888888,
              "#fdca26"
             ],
             [
              1,
              "#f0f921"
             ]
            ],
            "type": "histogram2dcontour"
           }
          ],
          "mesh3d": [
           {
            "colorbar": {
             "outlinewidth": 0,
             "ticks": ""
            },
            "type": "mesh3d"
           }
          ],
          "parcoords": [
           {
            "line": {
             "colorbar": {
              "outlinewidth": 0,
              "ticks": ""
             }
            },
            "type": "parcoords"
           }
          ],
          "pie": [
           {
            "automargin": true,
            "type": "pie"
           }
          ],
          "scatter": [
           {
            "fillpattern": {
             "fillmode": "overlay",
             "size": 10,
             "solidity": 0.2
            },
            "type": "scatter"
           }
          ],
          "scatter3d": [
           {
            "line": {
             "colorbar": {
              "outlinewidth": 0,
              "ticks": ""
             }
            },
            "marker": {
             "colorbar": {
              "outlinewidth": 0,
              "ticks": ""
             }
            },
            "type": "scatter3d"
           }
          ],
          "scattercarpet": [
           {
            "marker": {
             "colorbar": {
              "outlinewidth": 0,
              "ticks": ""
             }
            },
            "type": "scattercarpet"
           }
          ],
          "scattergeo": [
           {
            "marker": {
             "colorbar": {
              "outlinewidth": 0,
              "ticks": ""
             }
            },
            "type": "scattergeo"
           }
          ],
          "scattergl": [
           {
            "marker": {
             "colorbar": {
              "outlinewidth": 0,
              "ticks": ""
             }
            },
            "type": "scattergl"
           }
          ],
          "scattermap": [
           {
            "marker": {
             "colorbar": {
              "outlinewidth": 0,
              "ticks": ""
             }
            },
            "type": "scattermap"
           }
          ],
          "scattermapbox": [
           {
            "marker": {
             "colorbar": {
              "outlinewidth": 0,
              "ticks": ""
             }
            },
            "type": "scattermapbox"
           }
          ],
          "scatterpolar": [
           {
            "marker": {
             "colorbar": {
              "outlinewidth": 0,
              "ticks": ""
             }
            },
            "type": "scatterpolar"
           }
          ],
          "scatterpolargl": [
           {
            "marker": {
             "colorbar": {
              "outlinewidth": 0,
              "ticks": ""
             }
            },
            "type": "scatterpolargl"
           }
          ],
          "scatterternary": [
           {
            "marker": {
             "colorbar": {
              "outlinewidth": 0,
              "ticks": ""
             }
            },
            "type": "scatterternary"
           }
          ],
          "surface": [
           {
            "colorbar": {
             "outlinewidth": 0,
             "ticks": ""
            },
            "colorscale": [
             [
              0,
              "#0d0887"
             ],
             [
              0.1111111111111111,
              "#46039f"
             ],
             [
              0.2222222222222222,
              "#7201a8"
             ],
             [
              0.3333333333333333,
              "#9c179e"
             ],
             [
              0.4444444444444444,
              "#bd3786"
             ],
             [
              0.5555555555555556,
              "#d8576b"
             ],
             [
              0.6666666666666666,
              "#ed7953"
             ],
             [
              0.7777777777777778,
              "#fb9f3a"
             ],
             [
              0.8888888888888888,
              "#fdca26"
             ],
             [
              1,
              "#f0f921"
             ]
            ],
            "type": "surface"
           }
          ],
          "table": [
           {
            "cells": {
             "fill": {
              "color": "#EBF0F8"
             },
             "line": {
              "color": "white"
             }
            },
            "header": {
             "fill": {
              "color": "#C8D4E3"
             },
             "line": {
              "color": "white"
             }
            },
            "type": "table"
           }
          ]
         },
         "layout": {
          "annotationdefaults": {
           "arrowcolor": "#2a3f5f",
           "arrowhead": 0,
           "arrowwidth": 1
          },
          "autotypenumbers": "strict",
          "coloraxis": {
           "colorbar": {
            "outlinewidth": 0,
            "ticks": ""
           }
          },
          "colorscale": {
           "diverging": [
            [
             0,
             "#8e0152"
            ],
            [
             0.1,
             "#c51b7d"
            ],
            [
             0.2,
             "#de77ae"
            ],
            [
             0.3,
             "#f1b6da"
            ],
            [
             0.4,
             "#fde0ef"
            ],
            [
             0.5,
             "#f7f7f7"
            ],
            [
             0.6,
             "#e6f5d0"
            ],
            [
             0.7,
             "#b8e186"
            ],
            [
             0.8,
             "#7fbc41"
            ],
            [
             0.9,
             "#4d9221"
            ],
            [
             1,
             "#276419"
            ]
           ],
           "sequential": [
            [
             0,
             "#0d0887"
            ],
            [
             0.1111111111111111,
             "#46039f"
            ],
            [
             0.2222222222222222,
             "#7201a8"
            ],
            [
             0.3333333333333333,
             "#9c179e"
            ],
            [
             0.4444444444444444,
             "#bd3786"
            ],
            [
             0.5555555555555556,
             "#d8576b"
            ],
            [
             0.6666666666666666,
             "#ed7953"
            ],
            [
             0.7777777777777778,
             "#fb9f3a"
            ],
            [
             0.8888888888888888,
             "#fdca26"
            ],
            [
             1,
             "#f0f921"
            ]
           ],
           "sequentialminus": [
            [
             0,
             "#0d0887"
            ],
            [
             0.1111111111111111,
             "#46039f"
            ],
            [
             0.2222222222222222,
             "#7201a8"
            ],
            [
             0.3333333333333333,
             "#9c179e"
            ],
            [
             0.4444444444444444,
             "#bd3786"
            ],
            [
             0.5555555555555556,
             "#d8576b"
            ],
            [
             0.6666666666666666,
             "#ed7953"
            ],
            [
             0.7777777777777778,
             "#fb9f3a"
            ],
            [
             0.8888888888888888,
             "#fdca26"
            ],
            [
             1,
             "#f0f921"
            ]
           ]
          },
          "colorway": [
           "#636efa",
           "#EF553B",
           "#00cc96",
           "#ab63fa",
           "#FFA15A",
           "#19d3f3",
           "#FF6692",
           "#B6E880",
           "#FF97FF",
           "#FECB52"
          ],
          "font": {
           "color": "#2a3f5f"
          },
          "geo": {
           "bgcolor": "white",
           "lakecolor": "white",
           "landcolor": "#E5ECF6",
           "showlakes": true,
           "showland": true,
           "subunitcolor": "white"
          },
          "hoverlabel": {
           "align": "left"
          },
          "hovermode": "closest",
          "mapbox": {
           "style": "light"
          },
          "paper_bgcolor": "white",
          "plot_bgcolor": "#E5ECF6",
          "polar": {
           "angularaxis": {
            "gridcolor": "white",
            "linecolor": "white",
            "ticks": ""
           },
           "bgcolor": "#E5ECF6",
           "radialaxis": {
            "gridcolor": "white",
            "linecolor": "white",
            "ticks": ""
           }
          },
          "scene": {
           "xaxis": {
            "backgroundcolor": "#E5ECF6",
            "gridcolor": "white",
            "gridwidth": 2,
            "linecolor": "white",
            "showbackground": true,
            "ticks": "",
            "zerolinecolor": "white"
           },
           "yaxis": {
            "backgroundcolor": "#E5ECF6",
            "gridcolor": "white",
            "gridwidth": 2,
            "linecolor": "white",
            "showbackground": true,
            "ticks": "",
            "zerolinecolor": "white"
           },
           "zaxis": {
            "backgroundcolor": "#E5ECF6",
            "gridcolor": "white",
            "gridwidth": 2,
            "linecolor": "white",
            "showbackground": true,
            "ticks": "",
            "zerolinecolor": "white"
           }
          },
          "shapedefaults": {
           "line": {
            "color": "#2a3f5f"
           }
          },
          "ternary": {
           "aaxis": {
            "gridcolor": "white",
            "linecolor": "white",
            "ticks": ""
           },
           "baxis": {
            "gridcolor": "white",
            "linecolor": "white",
            "ticks": ""
           },
           "bgcolor": "#E5ECF6",
           "caxis": {
            "gridcolor": "white",
            "linecolor": "white",
            "ticks": ""
           }
          },
          "title": {
           "x": 0.05
          },
          "xaxis": {
           "automargin": true,
           "gridcolor": "white",
           "linecolor": "white",
           "ticks": "",
           "title": {
            "standoff": 15
           },
           "zerolinecolor": "white",
           "zerolinewidth": 2
          },
          "yaxis": {
           "automargin": true,
           "gridcolor": "white",
           "linecolor": "white",
           "ticks": "",
           "title": {
            "standoff": 15
           },
           "zerolinecolor": "white",
           "zerolinewidth": 2
          }
         }
        },
        "title": {
         "text": "Extreme Event Intensity Over Years by Type"
        },
        "xaxis": {
         "anchor": "y",
         "domain": [
          0,
          1
         ],
         "tickangle": -45,
         "title": {
          "text": "Year"
         }
        },
        "yaxis": {
         "anchor": "x",
         "domain": [
          0,
          1
         ],
         "title": {
          "text": "Average Intensity"
         }
        }
       }
      }
     },
     "metadata": {},
     "output_type": "display_data"
    }
   ],
   "source": [
    "# Already grouped by event_type and year before\n",
    "extreme_frequency = extreme_events.groupby([pd.Grouper(key='date', freq='Y'), 'event_type']).size().reset_index(name='event_count')\n",
    "\n",
    "# Plot frequency trend\n",
    "import plotly.express as px\n",
    "\n",
    "fig = px.line(\n",
    "    extreme_frequency,\n",
    "    x='date',\n",
    "    y='event_count',\n",
    "    color='event_type',\n",
    "    markers=True,\n",
    "    title='Extreme Event Frequency Over Years by Type',\n",
    "    labels={'event_count': 'Number of Events', 'date': 'Year', 'event_type': 'Type'}\n",
    ")\n",
    "\n",
    "fig.update_layout(xaxis_tickangle=-45)\n",
    "fig.show()\n",
    "\n",
    "# For each event type, define intensity based on the causing variable\n",
    "def calculate_intensity(row):\n",
    "    if row['event_type'] == 'Heavy Rain':\n",
    "        return row['prectot']\n",
    "    elif row['event_type'] == 'Heatwave':\n",
    "        return row['t2m_max']\n",
    "    elif row['event_type'] == 'Coldwave':\n",
    "        return row['t2m_min']\n",
    "    elif row['event_type'] == 'Windstorm':\n",
    "        return row['ws10m_max']\n",
    "    else:\n",
    "        return np.nan\n",
    "\n",
    "# Apply\n",
    "extreme_events['intensity'] = extreme_events.apply(calculate_intensity, axis=1)\n",
    "\n",
    "# Group average intensity per year and event type\n",
    "extreme_intensity = extreme_events.groupby([pd.Grouper(key='date', freq='Y'), 'event_type'])['intensity'].mean().reset_index()\n",
    "\n",
    "# Plot intensity trend\n",
    "fig = px.line(\n",
    "    extreme_intensity,\n",
    "    x='date',\n",
    "    y='intensity',\n",
    "    color='event_type',\n",
    "    markers=True,\n",
    "    title='Extreme Event Intensity Over Years by Type',\n",
    "    labels={'intensity': 'Average Intensity', 'date': 'Year', 'event_type': 'Type'}\n",
    ")\n",
    "\n",
    "fig.update_layout(xaxis_tickangle=-45)\n",
    "fig.show()\n"
   ]
  },
  {
   "cell_type": "markdown",
   "id": "93ea21a5",
   "metadata": {},
   "source": [
    "# Statistical Testing for Climate Trends"
   ]
  },
  {
   "cell_type": "code",
   "execution_count": 92,
   "id": "475624ef",
   "metadata": {},
   "outputs": [
    {
     "data": {
      "application/vnd.plotly.v1+json": {
       "config": {
        "plotlyServerURL": "https://plot.ly"
       },
       "data": [
        {
         "hovertemplate": "Significant=Yes<br>Event Type=%{x}<br>Rate of Change per Year=%{text}<extra></extra>",
         "legendgroup": "Yes",
         "marker": {
          "color": "green",
          "pattern": {
           "shape": ""
          }
         },
         "name": "Yes",
         "orientation": "v",
         "showlegend": true,
         "text": {
          "bdata": "AAAAAAAAAkCEEEIIIYTQvw==",
          "dtype": "f8"
         },
         "textposition": "outside",
         "texttemplate": "%{text:.2f}",
         "type": "bar",
         "x": [
          "Heavy Rain",
          "Coldwave"
         ],
         "xaxis": "x",
         "y": {
          "bdata": "AAAAAAAAAkCEEEIIIYTQvw==",
          "dtype": "f8"
         },
         "yaxis": "y"
        },
        {
         "hovertemplate": "Significant=No<br>Event Type=%{x}<br>Rate of Change per Year=%{text}<extra></extra>",
         "legendgroup": "No",
         "marker": {
          "color": "red",
          "pattern": {
           "shape": ""
          }
         },
         "name": "No",
         "orientation": "v",
         "showlegend": true,
         "text": {
          "bdata": "HMdxHMdxvL8=",
          "dtype": "f8"
         },
         "textposition": "outside",
         "texttemplate": "%{text:.2f}",
         "type": "bar",
         "x": [
          "Heatwave"
         ],
         "xaxis": "x",
         "y": {
          "bdata": "HMdxHMdxvL8=",
          "dtype": "f8"
         },
         "yaxis": "y"
        }
       ],
       "layout": {
        "barmode": "relative",
        "legend": {
         "title": {
          "text": "Significant"
         },
         "tracegroupgap": 0
        },
        "template": {
         "data": {
          "bar": [
           {
            "error_x": {
             "color": "#2a3f5f"
            },
            "error_y": {
             "color": "#2a3f5f"
            },
            "marker": {
             "line": {
              "color": "#E5ECF6",
              "width": 0.5
             },
             "pattern": {
              "fillmode": "overlay",
              "size": 10,
              "solidity": 0.2
             }
            },
            "type": "bar"
           }
          ],
          "barpolar": [
           {
            "marker": {
             "line": {
              "color": "#E5ECF6",
              "width": 0.5
             },
             "pattern": {
              "fillmode": "overlay",
              "size": 10,
              "solidity": 0.2
             }
            },
            "type": "barpolar"
           }
          ],
          "carpet": [
           {
            "aaxis": {
             "endlinecolor": "#2a3f5f",
             "gridcolor": "white",
             "linecolor": "white",
             "minorgridcolor": "white",
             "startlinecolor": "#2a3f5f"
            },
            "baxis": {
             "endlinecolor": "#2a3f5f",
             "gridcolor": "white",
             "linecolor": "white",
             "minorgridcolor": "white",
             "startlinecolor": "#2a3f5f"
            },
            "type": "carpet"
           }
          ],
          "choropleth": [
           {
            "colorbar": {
             "outlinewidth": 0,
             "ticks": ""
            },
            "type": "choropleth"
           }
          ],
          "contour": [
           {
            "colorbar": {
             "outlinewidth": 0,
             "ticks": ""
            },
            "colorscale": [
             [
              0,
              "#0d0887"
             ],
             [
              0.1111111111111111,
              "#46039f"
             ],
             [
              0.2222222222222222,
              "#7201a8"
             ],
             [
              0.3333333333333333,
              "#9c179e"
             ],
             [
              0.4444444444444444,
              "#bd3786"
             ],
             [
              0.5555555555555556,
              "#d8576b"
             ],
             [
              0.6666666666666666,
              "#ed7953"
             ],
             [
              0.7777777777777778,
              "#fb9f3a"
             ],
             [
              0.8888888888888888,
              "#fdca26"
             ],
             [
              1,
              "#f0f921"
             ]
            ],
            "type": "contour"
           }
          ],
          "contourcarpet": [
           {
            "colorbar": {
             "outlinewidth": 0,
             "ticks": ""
            },
            "type": "contourcarpet"
           }
          ],
          "heatmap": [
           {
            "colorbar": {
             "outlinewidth": 0,
             "ticks": ""
            },
            "colorscale": [
             [
              0,
              "#0d0887"
             ],
             [
              0.1111111111111111,
              "#46039f"
             ],
             [
              0.2222222222222222,
              "#7201a8"
             ],
             [
              0.3333333333333333,
              "#9c179e"
             ],
             [
              0.4444444444444444,
              "#bd3786"
             ],
             [
              0.5555555555555556,
              "#d8576b"
             ],
             [
              0.6666666666666666,
              "#ed7953"
             ],
             [
              0.7777777777777778,
              "#fb9f3a"
             ],
             [
              0.8888888888888888,
              "#fdca26"
             ],
             [
              1,
              "#f0f921"
             ]
            ],
            "type": "heatmap"
           }
          ],
          "histogram": [
           {
            "marker": {
             "pattern": {
              "fillmode": "overlay",
              "size": 10,
              "solidity": 0.2
             }
            },
            "type": "histogram"
           }
          ],
          "histogram2d": [
           {
            "colorbar": {
             "outlinewidth": 0,
             "ticks": ""
            },
            "colorscale": [
             [
              0,
              "#0d0887"
             ],
             [
              0.1111111111111111,
              "#46039f"
             ],
             [
              0.2222222222222222,
              "#7201a8"
             ],
             [
              0.3333333333333333,
              "#9c179e"
             ],
             [
              0.4444444444444444,
              "#bd3786"
             ],
             [
              0.5555555555555556,
              "#d8576b"
             ],
             [
              0.6666666666666666,
              "#ed7953"
             ],
             [
              0.7777777777777778,
              "#fb9f3a"
             ],
             [
              0.8888888888888888,
              "#fdca26"
             ],
             [
              1,
              "#f0f921"
             ]
            ],
            "type": "histogram2d"
           }
          ],
          "histogram2dcontour": [
           {
            "colorbar": {
             "outlinewidth": 0,
             "ticks": ""
            },
            "colorscale": [
             [
              0,
              "#0d0887"
             ],
             [
              0.1111111111111111,
              "#46039f"
             ],
             [
              0.2222222222222222,
              "#7201a8"
             ],
             [
              0.3333333333333333,
              "#9c179e"
             ],
             [
              0.4444444444444444,
              "#bd3786"
             ],
             [
              0.5555555555555556,
              "#d8576b"
             ],
             [
              0.6666666666666666,
              "#ed7953"
             ],
             [
              0.7777777777777778,
              "#fb9f3a"
             ],
             [
              0.8888888888888888,
              "#fdca26"
             ],
             [
              1,
              "#f0f921"
             ]
            ],
            "type": "histogram2dcontour"
           }
          ],
          "mesh3d": [
           {
            "colorbar": {
             "outlinewidth": 0,
             "ticks": ""
            },
            "type": "mesh3d"
           }
          ],
          "parcoords": [
           {
            "line": {
             "colorbar": {
              "outlinewidth": 0,
              "ticks": ""
             }
            },
            "type": "parcoords"
           }
          ],
          "pie": [
           {
            "automargin": true,
            "type": "pie"
           }
          ],
          "scatter": [
           {
            "fillpattern": {
             "fillmode": "overlay",
             "size": 10,
             "solidity": 0.2
            },
            "type": "scatter"
           }
          ],
          "scatter3d": [
           {
            "line": {
             "colorbar": {
              "outlinewidth": 0,
              "ticks": ""
             }
            },
            "marker": {
             "colorbar": {
              "outlinewidth": 0,
              "ticks": ""
             }
            },
            "type": "scatter3d"
           }
          ],
          "scattercarpet": [
           {
            "marker": {
             "colorbar": {
              "outlinewidth": 0,
              "ticks": ""
             }
            },
            "type": "scattercarpet"
           }
          ],
          "scattergeo": [
           {
            "marker": {
             "colorbar": {
              "outlinewidth": 0,
              "ticks": ""
             }
            },
            "type": "scattergeo"
           }
          ],
          "scattergl": [
           {
            "marker": {
             "colorbar": {
              "outlinewidth": 0,
              "ticks": ""
             }
            },
            "type": "scattergl"
           }
          ],
          "scattermap": [
           {
            "marker": {
             "colorbar": {
              "outlinewidth": 0,
              "ticks": ""
             }
            },
            "type": "scattermap"
           }
          ],
          "scattermapbox": [
           {
            "marker": {
             "colorbar": {
              "outlinewidth": 0,
              "ticks": ""
             }
            },
            "type": "scattermapbox"
           }
          ],
          "scatterpolar": [
           {
            "marker": {
             "colorbar": {
              "outlinewidth": 0,
              "ticks": ""
             }
            },
            "type": "scatterpolar"
           }
          ],
          "scatterpolargl": [
           {
            "marker": {
             "colorbar": {
              "outlinewidth": 0,
              "ticks": ""
             }
            },
            "type": "scatterpolargl"
           }
          ],
          "scatterternary": [
           {
            "marker": {
             "colorbar": {
              "outlinewidth": 0,
              "ticks": ""
             }
            },
            "type": "scatterternary"
           }
          ],
          "surface": [
           {
            "colorbar": {
             "outlinewidth": 0,
             "ticks": ""
            },
            "colorscale": [
             [
              0,
              "#0d0887"
             ],
             [
              0.1111111111111111,
              "#46039f"
             ],
             [
              0.2222222222222222,
              "#7201a8"
             ],
             [
              0.3333333333333333,
              "#9c179e"
             ],
             [
              0.4444444444444444,
              "#bd3786"
             ],
             [
              0.5555555555555556,
              "#d8576b"
             ],
             [
              0.6666666666666666,
              "#ed7953"
             ],
             [
              0.7777777777777778,
              "#fb9f3a"
             ],
             [
              0.8888888888888888,
              "#fdca26"
             ],
             [
              1,
              "#f0f921"
             ]
            ],
            "type": "surface"
           }
          ],
          "table": [
           {
            "cells": {
             "fill": {
              "color": "#EBF0F8"
             },
             "line": {
              "color": "white"
             }
            },
            "header": {
             "fill": {
              "color": "#C8D4E3"
             },
             "line": {
              "color": "white"
             }
            },
            "type": "table"
           }
          ]
         },
         "layout": {
          "annotationdefaults": {
           "arrowcolor": "#2a3f5f",
           "arrowhead": 0,
           "arrowwidth": 1
          },
          "autotypenumbers": "strict",
          "coloraxis": {
           "colorbar": {
            "outlinewidth": 0,
            "ticks": ""
           }
          },
          "colorscale": {
           "diverging": [
            [
             0,
             "#8e0152"
            ],
            [
             0.1,
             "#c51b7d"
            ],
            [
             0.2,
             "#de77ae"
            ],
            [
             0.3,
             "#f1b6da"
            ],
            [
             0.4,
             "#fde0ef"
            ],
            [
             0.5,
             "#f7f7f7"
            ],
            [
             0.6,
             "#e6f5d0"
            ],
            [
             0.7,
             "#b8e186"
            ],
            [
             0.8,
             "#7fbc41"
            ],
            [
             0.9,
             "#4d9221"
            ],
            [
             1,
             "#276419"
            ]
           ],
           "sequential": [
            [
             0,
             "#0d0887"
            ],
            [
             0.1111111111111111,
             "#46039f"
            ],
            [
             0.2222222222222222,
             "#7201a8"
            ],
            [
             0.3333333333333333,
             "#9c179e"
            ],
            [
             0.4444444444444444,
             "#bd3786"
            ],
            [
             0.5555555555555556,
             "#d8576b"
            ],
            [
             0.6666666666666666,
             "#ed7953"
            ],
            [
             0.7777777777777778,
             "#fb9f3a"
            ],
            [
             0.8888888888888888,
             "#fdca26"
            ],
            [
             1,
             "#f0f921"
            ]
           ],
           "sequentialminus": [
            [
             0,
             "#0d0887"
            ],
            [
             0.1111111111111111,
             "#46039f"
            ],
            [
             0.2222222222222222,
             "#7201a8"
            ],
            [
             0.3333333333333333,
             "#9c179e"
            ],
            [
             0.4444444444444444,
             "#bd3786"
            ],
            [
             0.5555555555555556,
             "#d8576b"
            ],
            [
             0.6666666666666666,
             "#ed7953"
            ],
            [
             0.7777777777777778,
             "#fb9f3a"
            ],
            [
             0.8888888888888888,
             "#fdca26"
            ],
            [
             1,
             "#f0f921"
            ]
           ]
          },
          "colorway": [
           "#636efa",
           "#EF553B",
           "#00cc96",
           "#ab63fa",
           "#FFA15A",
           "#19d3f3",
           "#FF6692",
           "#B6E880",
           "#FF97FF",
           "#FECB52"
          ],
          "font": {
           "color": "#2a3f5f"
          },
          "geo": {
           "bgcolor": "white",
           "lakecolor": "white",
           "landcolor": "#E5ECF6",
           "showlakes": true,
           "showland": true,
           "subunitcolor": "white"
          },
          "hoverlabel": {
           "align": "left"
          },
          "hovermode": "closest",
          "mapbox": {
           "style": "light"
          },
          "paper_bgcolor": "white",
          "plot_bgcolor": "#E5ECF6",
          "polar": {
           "angularaxis": {
            "gridcolor": "white",
            "linecolor": "white",
            "ticks": ""
           },
           "bgcolor": "#E5ECF6",
           "radialaxis": {
            "gridcolor": "white",
            "linecolor": "white",
            "ticks": ""
           }
          },
          "scene": {
           "xaxis": {
            "backgroundcolor": "#E5ECF6",
            "gridcolor": "white",
            "gridwidth": 2,
            "linecolor": "white",
            "showbackground": true,
            "ticks": "",
            "zerolinecolor": "white"
           },
           "yaxis": {
            "backgroundcolor": "#E5ECF6",
            "gridcolor": "white",
            "gridwidth": 2,
            "linecolor": "white",
            "showbackground": true,
            "ticks": "",
            "zerolinecolor": "white"
           },
           "zaxis": {
            "backgroundcolor": "#E5ECF6",
            "gridcolor": "white",
            "gridwidth": 2,
            "linecolor": "white",
            "showbackground": true,
            "ticks": "",
            "zerolinecolor": "white"
           }
          },
          "shapedefaults": {
           "line": {
            "color": "#2a3f5f"
           }
          },
          "ternary": {
           "aaxis": {
            "gridcolor": "white",
            "linecolor": "white",
            "ticks": ""
           },
           "baxis": {
            "gridcolor": "white",
            "linecolor": "white",
            "ticks": ""
           },
           "bgcolor": "#E5ECF6",
           "caxis": {
            "gridcolor": "white",
            "linecolor": "white",
            "ticks": ""
           }
          },
          "title": {
           "x": 0.05
          },
          "xaxis": {
           "automargin": true,
           "gridcolor": "white",
           "linecolor": "white",
           "ticks": "",
           "title": {
            "standoff": 15
           },
           "zerolinecolor": "white",
           "zerolinewidth": 2
          },
          "yaxis": {
           "automargin": true,
           "gridcolor": "white",
           "linecolor": "white",
           "ticks": "",
           "title": {
            "standoff": 15
           },
           "zerolinecolor": "white",
           "zerolinewidth": 2
          }
         }
        },
        "title": {
         "text": "Sen's Slope of Trend for Extreme Events (Mann-Kendall Test)"
        },
        "uniformtext": {
         "minsize": 8,
         "mode": "hide"
        },
        "xaxis": {
         "anchor": "y",
         "domain": [
          0,
          1
         ],
         "title": {
          "text": "Extreme Event Type"
         }
        },
        "yaxis": {
         "anchor": "x",
         "domain": [
          0,
          1
         ],
         "title": {
          "text": "Sen's Slope (events/year)"
         }
        }
       }
      }
     },
     "metadata": {},
     "output_type": "display_data"
    }
   ],
   "source": [
    "import plotly.express as px\n",
    "\n",
    "fig = px.bar(\n",
    "    mk_results_df,\n",
    "    x='Event Type',\n",
    "    y=\"Sen's Slope\",\n",
    "    color='Significant',\n",
    "    text=\"Sen's Slope\",\n",
    "    title=\"Sen's Slope of Trend for Extreme Events (Mann-Kendall Test)\",\n",
    "    labels={\"Sen's Slope\": \"Rate of Change per Year\"},\n",
    "    color_discrete_map={\"Yes\": \"green\", \"No\": \"red\"}\n",
    ")\n",
    "\n",
    "fig.update_traces(texttemplate='%{text:.2f}', textposition='outside')\n",
    "fig.update_layout(\n",
    "    yaxis_title=\"Sen's Slope (events/year)\",\n",
    "    xaxis_title=\"Extreme Event Type\",\n",
    "    uniformtext_minsize=8,\n",
    "    uniformtext_mode='hide',\n",
    ")\n",
    "fig.show()\n"
   ]
  },
  {
   "cell_type": "code",
   "execution_count": 93,
   "id": "4763511e",
   "metadata": {},
   "outputs": [
    {
     "data": {
      "application/vnd.plotly.v1+json": {
       "config": {
        "plotlyServerURL": "https://plot.ly"
       },
       "data": [
        {
         "cells": {
          "align": "left",
          "fill": {
           "color": "lavender"
          },
          "values": [
           [
            "Heavy Rain",
            "Heatwave",
            "Coldwave"
           ],
           [
            "increasing",
            "no trend",
            "decreasing"
           ],
           [
            0.001380693295796931,
            0.1195603196308217,
            0.005923793643813902
           ],
           [
            0.3798319327731092,
            -0.17408906882591094,
            -0.3076923076923077
           ],
           [
            2.25,
            -0.1111111111111111,
            -0.25806451612903225
           ],
           [
            "Yes",
            "No",
            "Yes"
           ]
          ]
         },
         "header": {
          "align": "left",
          "fill": {
           "color": "paleturquoise"
          },
          "values": [
           "Event Type",
           "Trend",
           "P-value",
           "Tau",
           "Sen's Slope",
           "Significant"
          ]
         },
         "type": "table"
        }
       ],
       "layout": {
        "template": {
         "data": {
          "bar": [
           {
            "error_x": {
             "color": "#2a3f5f"
            },
            "error_y": {
             "color": "#2a3f5f"
            },
            "marker": {
             "line": {
              "color": "#E5ECF6",
              "width": 0.5
             },
             "pattern": {
              "fillmode": "overlay",
              "size": 10,
              "solidity": 0.2
             }
            },
            "type": "bar"
           }
          ],
          "barpolar": [
           {
            "marker": {
             "line": {
              "color": "#E5ECF6",
              "width": 0.5
             },
             "pattern": {
              "fillmode": "overlay",
              "size": 10,
              "solidity": 0.2
             }
            },
            "type": "barpolar"
           }
          ],
          "carpet": [
           {
            "aaxis": {
             "endlinecolor": "#2a3f5f",
             "gridcolor": "white",
             "linecolor": "white",
             "minorgridcolor": "white",
             "startlinecolor": "#2a3f5f"
            },
            "baxis": {
             "endlinecolor": "#2a3f5f",
             "gridcolor": "white",
             "linecolor": "white",
             "minorgridcolor": "white",
             "startlinecolor": "#2a3f5f"
            },
            "type": "carpet"
           }
          ],
          "choropleth": [
           {
            "colorbar": {
             "outlinewidth": 0,
             "ticks": ""
            },
            "type": "choropleth"
           }
          ],
          "contour": [
           {
            "colorbar": {
             "outlinewidth": 0,
             "ticks": ""
            },
            "colorscale": [
             [
              0,
              "#0d0887"
             ],
             [
              0.1111111111111111,
              "#46039f"
             ],
             [
              0.2222222222222222,
              "#7201a8"
             ],
             [
              0.3333333333333333,
              "#9c179e"
             ],
             [
              0.4444444444444444,
              "#bd3786"
             ],
             [
              0.5555555555555556,
              "#d8576b"
             ],
             [
              0.6666666666666666,
              "#ed7953"
             ],
             [
              0.7777777777777778,
              "#fb9f3a"
             ],
             [
              0.8888888888888888,
              "#fdca26"
             ],
             [
              1,
              "#f0f921"
             ]
            ],
            "type": "contour"
           }
          ],
          "contourcarpet": [
           {
            "colorbar": {
             "outlinewidth": 0,
             "ticks": ""
            },
            "type": "contourcarpet"
           }
          ],
          "heatmap": [
           {
            "colorbar": {
             "outlinewidth": 0,
             "ticks": ""
            },
            "colorscale": [
             [
              0,
              "#0d0887"
             ],
             [
              0.1111111111111111,
              "#46039f"
             ],
             [
              0.2222222222222222,
              "#7201a8"
             ],
             [
              0.3333333333333333,
              "#9c179e"
             ],
             [
              0.4444444444444444,
              "#bd3786"
             ],
             [
              0.5555555555555556,
              "#d8576b"
             ],
             [
              0.6666666666666666,
              "#ed7953"
             ],
             [
              0.7777777777777778,
              "#fb9f3a"
             ],
             [
              0.8888888888888888,
              "#fdca26"
             ],
             [
              1,
              "#f0f921"
             ]
            ],
            "type": "heatmap"
           }
          ],
          "histogram": [
           {
            "marker": {
             "pattern": {
              "fillmode": "overlay",
              "size": 10,
              "solidity": 0.2
             }
            },
            "type": "histogram"
           }
          ],
          "histogram2d": [
           {
            "colorbar": {
             "outlinewidth": 0,
             "ticks": ""
            },
            "colorscale": [
             [
              0,
              "#0d0887"
             ],
             [
              0.1111111111111111,
              "#46039f"
             ],
             [
              0.2222222222222222,
              "#7201a8"
             ],
             [
              0.3333333333333333,
              "#9c179e"
             ],
             [
              0.4444444444444444,
              "#bd3786"
             ],
             [
              0.5555555555555556,
              "#d8576b"
             ],
             [
              0.6666666666666666,
              "#ed7953"
             ],
             [
              0.7777777777777778,
              "#fb9f3a"
             ],
             [
              0.8888888888888888,
              "#fdca26"
             ],
             [
              1,
              "#f0f921"
             ]
            ],
            "type": "histogram2d"
           }
          ],
          "histogram2dcontour": [
           {
            "colorbar": {
             "outlinewidth": 0,
             "ticks": ""
            },
            "colorscale": [
             [
              0,
              "#0d0887"
             ],
             [
              0.1111111111111111,
              "#46039f"
             ],
             [
              0.2222222222222222,
              "#7201a8"
             ],
             [
              0.3333333333333333,
              "#9c179e"
             ],
             [
              0.4444444444444444,
              "#bd3786"
             ],
             [
              0.5555555555555556,
              "#d8576b"
             ],
             [
              0.6666666666666666,
              "#ed7953"
             ],
             [
              0.7777777777777778,
              "#fb9f3a"
             ],
             [
              0.8888888888888888,
              "#fdca26"
             ],
             [
              1,
              "#f0f921"
             ]
            ],
            "type": "histogram2dcontour"
           }
          ],
          "mesh3d": [
           {
            "colorbar": {
             "outlinewidth": 0,
             "ticks": ""
            },
            "type": "mesh3d"
           }
          ],
          "parcoords": [
           {
            "line": {
             "colorbar": {
              "outlinewidth": 0,
              "ticks": ""
             }
            },
            "type": "parcoords"
           }
          ],
          "pie": [
           {
            "automargin": true,
            "type": "pie"
           }
          ],
          "scatter": [
           {
            "fillpattern": {
             "fillmode": "overlay",
             "size": 10,
             "solidity": 0.2
            },
            "type": "scatter"
           }
          ],
          "scatter3d": [
           {
            "line": {
             "colorbar": {
              "outlinewidth": 0,
              "ticks": ""
             }
            },
            "marker": {
             "colorbar": {
              "outlinewidth": 0,
              "ticks": ""
             }
            },
            "type": "scatter3d"
           }
          ],
          "scattercarpet": [
           {
            "marker": {
             "colorbar": {
              "outlinewidth": 0,
              "ticks": ""
             }
            },
            "type": "scattercarpet"
           }
          ],
          "scattergeo": [
           {
            "marker": {
             "colorbar": {
              "outlinewidth": 0,
              "ticks": ""
             }
            },
            "type": "scattergeo"
           }
          ],
          "scattergl": [
           {
            "marker": {
             "colorbar": {
              "outlinewidth": 0,
              "ticks": ""
             }
            },
            "type": "scattergl"
           }
          ],
          "scattermap": [
           {
            "marker": {
             "colorbar": {
              "outlinewidth": 0,
              "ticks": ""
             }
            },
            "type": "scattermap"
           }
          ],
          "scattermapbox": [
           {
            "marker": {
             "colorbar": {
              "outlinewidth": 0,
              "ticks": ""
             }
            },
            "type": "scattermapbox"
           }
          ],
          "scatterpolar": [
           {
            "marker": {
             "colorbar": {
              "outlinewidth": 0,
              "ticks": ""
             }
            },
            "type": "scatterpolar"
           }
          ],
          "scatterpolargl": [
           {
            "marker": {
             "colorbar": {
              "outlinewidth": 0,
              "ticks": ""
             }
            },
            "type": "scatterpolargl"
           }
          ],
          "scatterternary": [
           {
            "marker": {
             "colorbar": {
              "outlinewidth": 0,
              "ticks": ""
             }
            },
            "type": "scatterternary"
           }
          ],
          "surface": [
           {
            "colorbar": {
             "outlinewidth": 0,
             "ticks": ""
            },
            "colorscale": [
             [
              0,
              "#0d0887"
             ],
             [
              0.1111111111111111,
              "#46039f"
             ],
             [
              0.2222222222222222,
              "#7201a8"
             ],
             [
              0.3333333333333333,
              "#9c179e"
             ],
             [
              0.4444444444444444,
              "#bd3786"
             ],
             [
              0.5555555555555556,
              "#d8576b"
             ],
             [
              0.6666666666666666,
              "#ed7953"
             ],
             [
              0.7777777777777778,
              "#fb9f3a"
             ],
             [
              0.8888888888888888,
              "#fdca26"
             ],
             [
              1,
              "#f0f921"
             ]
            ],
            "type": "surface"
           }
          ],
          "table": [
           {
            "cells": {
             "fill": {
              "color": "#EBF0F8"
             },
             "line": {
              "color": "white"
             }
            },
            "header": {
             "fill": {
              "color": "#C8D4E3"
             },
             "line": {
              "color": "white"
             }
            },
            "type": "table"
           }
          ]
         },
         "layout": {
          "annotationdefaults": {
           "arrowcolor": "#2a3f5f",
           "arrowhead": 0,
           "arrowwidth": 1
          },
          "autotypenumbers": "strict",
          "coloraxis": {
           "colorbar": {
            "outlinewidth": 0,
            "ticks": ""
           }
          },
          "colorscale": {
           "diverging": [
            [
             0,
             "#8e0152"
            ],
            [
             0.1,
             "#c51b7d"
            ],
            [
             0.2,
             "#de77ae"
            ],
            [
             0.3,
             "#f1b6da"
            ],
            [
             0.4,
             "#fde0ef"
            ],
            [
             0.5,
             "#f7f7f7"
            ],
            [
             0.6,
             "#e6f5d0"
            ],
            [
             0.7,
             "#b8e186"
            ],
            [
             0.8,
             "#7fbc41"
            ],
            [
             0.9,
             "#4d9221"
            ],
            [
             1,
             "#276419"
            ]
           ],
           "sequential": [
            [
             0,
             "#0d0887"
            ],
            [
             0.1111111111111111,
             "#46039f"
            ],
            [
             0.2222222222222222,
             "#7201a8"
            ],
            [
             0.3333333333333333,
             "#9c179e"
            ],
            [
             0.4444444444444444,
             "#bd3786"
            ],
            [
             0.5555555555555556,
             "#d8576b"
            ],
            [
             0.6666666666666666,
             "#ed7953"
            ],
            [
             0.7777777777777778,
             "#fb9f3a"
            ],
            [
             0.8888888888888888,
             "#fdca26"
            ],
            [
             1,
             "#f0f921"
            ]
           ],
           "sequentialminus": [
            [
             0,
             "#0d0887"
            ],
            [
             0.1111111111111111,
             "#46039f"
            ],
            [
             0.2222222222222222,
             "#7201a8"
            ],
            [
             0.3333333333333333,
             "#9c179e"
            ],
            [
             0.4444444444444444,
             "#bd3786"
            ],
            [
             0.5555555555555556,
             "#d8576b"
            ],
            [
             0.6666666666666666,
             "#ed7953"
            ],
            [
             0.7777777777777778,
             "#fb9f3a"
            ],
            [
             0.8888888888888888,
             "#fdca26"
            ],
            [
             1,
             "#f0f921"
            ]
           ]
          },
          "colorway": [
           "#636efa",
           "#EF553B",
           "#00cc96",
           "#ab63fa",
           "#FFA15A",
           "#19d3f3",
           "#FF6692",
           "#B6E880",
           "#FF97FF",
           "#FECB52"
          ],
          "font": {
           "color": "#2a3f5f"
          },
          "geo": {
           "bgcolor": "white",
           "lakecolor": "white",
           "landcolor": "#E5ECF6",
           "showlakes": true,
           "showland": true,
           "subunitcolor": "white"
          },
          "hoverlabel": {
           "align": "left"
          },
          "hovermode": "closest",
          "mapbox": {
           "style": "light"
          },
          "paper_bgcolor": "white",
          "plot_bgcolor": "#E5ECF6",
          "polar": {
           "angularaxis": {
            "gridcolor": "white",
            "linecolor": "white",
            "ticks": ""
           },
           "bgcolor": "#E5ECF6",
           "radialaxis": {
            "gridcolor": "white",
            "linecolor": "white",
            "ticks": ""
           }
          },
          "scene": {
           "xaxis": {
            "backgroundcolor": "#E5ECF6",
            "gridcolor": "white",
            "gridwidth": 2,
            "linecolor": "white",
            "showbackground": true,
            "ticks": "",
            "zerolinecolor": "white"
           },
           "yaxis": {
            "backgroundcolor": "#E5ECF6",
            "gridcolor": "white",
            "gridwidth": 2,
            "linecolor": "white",
            "showbackground": true,
            "ticks": "",
            "zerolinecolor": "white"
           },
           "zaxis": {
            "backgroundcolor": "#E5ECF6",
            "gridcolor": "white",
            "gridwidth": 2,
            "linecolor": "white",
            "showbackground": true,
            "ticks": "",
            "zerolinecolor": "white"
           }
          },
          "shapedefaults": {
           "line": {
            "color": "#2a3f5f"
           }
          },
          "ternary": {
           "aaxis": {
            "gridcolor": "white",
            "linecolor": "white",
            "ticks": ""
           },
           "baxis": {
            "gridcolor": "white",
            "linecolor": "white",
            "ticks": ""
           },
           "bgcolor": "#E5ECF6",
           "caxis": {
            "gridcolor": "white",
            "linecolor": "white",
            "ticks": ""
           }
          },
          "title": {
           "x": 0.05
          },
          "xaxis": {
           "automargin": true,
           "gridcolor": "white",
           "linecolor": "white",
           "ticks": "",
           "title": {
            "standoff": 15
           },
           "zerolinecolor": "white",
           "zerolinewidth": 2
          },
          "yaxis": {
           "automargin": true,
           "gridcolor": "white",
           "linecolor": "white",
           "ticks": "",
           "title": {
            "standoff": 15
           },
           "zerolinecolor": "white",
           "zerolinewidth": 2
          }
         }
        },
        "title": {
         "text": "Mann-Kendall Test Results for Extreme Events"
        }
       }
      }
     },
     "metadata": {},
     "output_type": "display_data"
    }
   ],
   "source": [
    "import plotly.graph_objects as go\n",
    "\n",
    "fig = go.Figure(data=[go.Table(\n",
    "    header=dict(values=list(mk_results_df.columns),\n",
    "                fill_color='paleturquoise',\n",
    "                align='left'),\n",
    "    cells=dict(values=[mk_results_df[col] for col in mk_results_df.columns],\n",
    "               fill_color='lavender',\n",
    "               align='left'))\n",
    "])\n",
    "\n",
    "fig.update_layout(title=\"Mann-Kendall Test Results for Extreme Events\")\n",
    "fig.show()\n"
   ]
  },
  {
   "cell_type": "code",
   "execution_count": 96,
   "id": "78d1afb4",
   "metadata": {},
   "outputs": [],
   "source": [
    "import matplotlib.pyplot as plt\n",
    "import numpy as np\n",
    "import pymannkendall as mk\n",
    "\n",
    "# --- Function to plot observed vs Sen's slope line ---\n",
    "def plot_sen_slope(event_type):\n",
    "    # Filter data for the given event type\n",
    "    yearly_data = extreme_events[extreme_events['event_type'] == event_type] \\\n",
    "                    .groupby('year').size().reset_index(name='event_count')\n",
    "\n",
    "    # Check if enough years to plot\n",
    "    if yearly_data['year'].nunique() < 2:\n",
    "        print(f\" Not enough data points to plot Sen's slope for {event_type}. Skipping...\")\n",
    "        return\n",
    "\n",
    "    # Apply Mann-Kendall\n",
    "    result = mk.original_test(yearly_data['event_count'])\n",
    "\n",
    "    # Extract years and events\n",
    "    years = yearly_data['year'].values\n",
    "    events = yearly_data['event_count'].values\n",
    "\n",
    "    slope = result.slope\n",
    "\n",
    "    # Calculate Sen's line safely\n",
    "    # New method: y = slope * (year) + intercept\n",
    "    intercept = np.median(events) - slope * np.median(years)\n",
    "    sen_line = slope * years + intercept\n",
    "\n",
    "    # --- Plot ---\n",
    "    plt.figure(figsize=(10,6))\n",
    "    plt.scatter(years, events, color='blue', label='Observed Events')\n",
    "    plt.plot(years, sen_line, color='red', linestyle='--', label=f\"Sen's Slope Line\\nSlope: {slope:.2f} events/year\")\n",
    "    plt.title(f\"Trend in {event_type} Events (Mann-Kendall Sen's Slope)\")\n",
    "    plt.xlabel('Year')\n",
    "    plt.ylabel('Number of Events')\n",
    "    plt.grid(True)\n",
    "    plt.legend()\n",
    "    plt.show()\n",
    "\n",
    "    # Print trend details\n",
    "    print(f\"Trend: {result.trend}\")\n",
    "    print(f\"P-value: {result.p:.4f}\")\n",
    "    print(f\"Tau: {result.Tau:.4f}\")\n",
    "    print(f\"Sen's Slope: {result.slope:.4f}\")\n",
    "    print(f\"Is trend significant? {'Yes' if result.p < 0.05 else 'No'}\")\n"
   ]
  },
  {
   "cell_type": "code",
   "execution_count": 97,
   "id": "1cdcb206",
   "metadata": {},
   "outputs": [
    {
     "data": {
      "image/png": "[encoded data removed]",
      "text/plain": [
       "<Figure size 1000x600 with 1 Axes>"
      ]
     },
     "metadata": {},
     "output_type": "display_data"
    },
    {
     "name": "stdout",
     "output_type": "stream",
     "text": [
      "Trend: no trend\n",
      "P-value: 0.1196\n",
      "Tau: -0.1741\n",
      "Sen's Slope: -0.1111\n",
      "Is trend significant? No\n"
     ]
    },
    {
     "data": {
      "image/png": "[encoded data removed]",
      "text/plain": [
       "<Figure size 1000x600 with 1 Axes>"
      ]
     },
     "metadata": {},
     "output_type": "display_data"
    },
    {
     "name": "stdout",
     "output_type": "stream",
     "text": [
      "Trend: increasing\n",
      "P-value: 0.0014\n",
      "Tau: 0.3798\n",
      "Sen's Slope: 2.2500\n",
      "Is trend significant? Yes\n"
     ]
    },
    {
     "data": {
      "image/png": "[encoded data removed]",
      "text/plain": [
       "<Figure size 1000x600 with 1 Axes>"
      ]
     },
     "metadata": {},
     "output_type": "display_data"
    },
    {
     "name": "stdout",
     "output_type": "stream",
     "text": [
      "Trend: decreasing\n",
      "P-value: 0.0059\n",
      "Tau: -0.3077\n",
      "Sen's Slope: -0.2581\n",
      "Is trend significant? Yes\n",
      " Not enough data points to plot Sen's slope for Windstorm. Skipping...\n"
     ]
    }
   ],
   "source": [
    "plot_sen_slope('Heatwave')\n",
    "plot_sen_slope('Heavy Rain')\n",
    "plot_sen_slope('Coldwave')\n",
    "plot_sen_slope('Windstorm')\n"
   ]
  },
  {
   "cell_type": "code",
   "execution_count": null,
   "id": "0cf21d59",
   "metadata": {},
   "outputs": [],
   "source": []
  }
 ],
 "metadata": {
  "kernelspec": {
   "display_name": "Python 3",
   "language": "python",
   "name": "python3"
  },
  "language_info": {
   "codemirror_mode": {
    "name": "ipython",
    "version": 3
   },
   "file_extension": ".py",
   "mimetype": "text/x-python",
   "name": "python",
   "nbconvert_exporter": "python",
   "pygments_lexer": "ipython3",
   "version": "3.10.13"
  }
 },
 "nbformat": 4,
 "nbformat_minor": 5
}
