{
  "cells": [
    {
      "cell_type": "code",
      "execution_count": 9,
      "metadata": {
        "id": "SjLMd88_uLli"
      },
      "outputs": [],
      "source": [
        "!pip install rasterio --quiet"
      ]
    },
    {
      "cell_type": "code",
      "execution_count": 3,
      "metadata": {
        "colab": {
          "base_uri": "https://localhost:8080/"
        },
        "id": "jvX0sCHetrKu",
        "outputId": "63f66781-9c20-447d-92a8-e00db22b29f9"
      },
      "outputs": [
        {
          "name": "stdout",
          "output_type": "stream",
          "text": [
            "Drive already mounted at /content/drive; to attempt to forcibly remount, call drive.mount(\"/content/drive\", force_remount=True).\n"
          ]
        }
      ],
      "source": [
        "# --- Mount Google Drive ---\n",
        "from google.colab import drive\n",
        "drive.mount('/content/drive')\n",
        "\n",
        "\n",
        "\n",
        "# --- Import Required Packages ---\n",
        "import os\n",
        "import rasterio\n",
        "import numpy as np\n",
        "import pandas as pd\n",
        "import matplotlib.pyplot as plt\n",
        "import warnings\n",
        "\n",
        "warnings.filterwarnings('ignore')\n",
        "\n"
      ]
    },
    {
      "cell_type": "code",
      "execution_count": 10,
      "metadata": {
        "id": "MdbWsskJuvyJ"
      },
      "outputs": [],
      "source": [
        "# --- Define Paths ---\n",
        "BASE_DIR = \"/content/drive/MyDrive/Environmental/\"\n",
        "LANDCOVER_DIR = os.path.join(BASE_DIR, \"landcover_images/\")\n",
        "CLEANED_DIR = os.path.join(BASE_DIR, \"cleaned_data/landcover/\")\n",
        "\n",
        "# Create cleaned directory if not exists\n",
        "os.makedirs(CLEANED_DIR, exist_ok=True)"
      ]
    },
    {
      "cell_type": "code",
      "execution_count": 11,
      "metadata": {
        "colab": {
          "base_uri": "https://localhost:8080/"
        },
        "id": "xkqI0MEkt_Mm",
        "outputId": "d3da7918-0e1c-4527-9a81-10d917ce3a99"
      },
      "outputs": [
        {
          "name": "stdout",
          "output_type": "stream",
          "text": [
            "✅ Found 8 land cover files.\n"
          ]
        }
      ],
      "source": [
        "# --- List all Land Cover files ---\n",
        "landcover_files = sorted([os.path.join(LANDCOVER_DIR, f) for f in os.listdir(LANDCOVER_DIR) if f.endswith('.tif')])\n",
        "print(f\"✅ Found {len(landcover_files)} land cover files.\")"
      ]
    },
    {
      "cell_type": "code",
      "execution_count": 12,
      "metadata": {
        "colab": {
          "base_uri": "https://localhost:8080/"
        },
        "id": "h9plsHYKu2AK",
        "outputId": "1f1a33a4-bfb0-4dd8-d9c3-8652e2091919"
      },
      "outputs": [
        {
          "name": "stdout",
          "output_type": "stream",
          "text": [
            "📂 Processing 45R_20170101-20180101.tif\n",
            "📂 Processing 45R_20180101-20190101.tif\n",
            "📂 Processing 45R_20190101-20200101.tif\n",
            "📂 Processing 45R_20200101-20210101.tif\n",
            "📂 Processing 45R_20210101-20220101.tif\n",
            "📂 Processing 45R_20220101-20230101.tif\n",
            "📂 Processing 45R_20230101-20240101.tif\n",
            "📂 Processing 45R_20240101-20241231.tif\n",
            "✅ Finished processing all land cover rasters.\n"
          ]
        }
      ],
      "source": [
        "# --- Initialize Storage ---\n",
        "metadata_list = []\n",
        "area_stats_list = []\n",
        "\n",
        "# --- Read and Process Each Raster ---\n",
        "for lc_file in landcover_files:\n",
        "    year = os.path.basename(lc_file).split('_')[1][:4]  # Extract year from filename like 45R_201701.tif\n",
        "\n",
        "    with rasterio.open(lc_file) as src:\n",
        "        print(f\"📂 Processing {os.path.basename(lc_file)}\")\n",
        "\n",
        "        # Check basic metadata\n",
        "        meta = src.meta\n",
        "        bounds = src.bounds\n",
        "        crs = src.crs\n",
        "        res = src.res\n",
        "\n",
        "        metadata_list.append({\n",
        "            'Year': int(year),\n",
        "            'Filename': os.path.basename(lc_file),\n",
        "            'CRS': crs.to_string(),\n",
        "            'Resolution_X': res[0],\n",
        "            'Resolution_Y': res[1],\n",
        "            'Width': src.width,\n",
        "            'Height': src.height,\n",
        "            'Bounds': bounds\n",
        "        })\n",
        "\n",
        "        # Read raster\n",
        "        raster = src.read(1)\n",
        "\n",
        "        # Count pixels per land cover class\n",
        "        unique, counts = np.unique(raster, return_counts=True)\n",
        "        total_pixels = raster.size\n",
        "        pixel_area_km2 = abs(res[0] * res[1]) / 1e6  # Convert from m² to km²\n",
        "\n",
        "        for u, c in zip(unique, counts):\n",
        "            area_stats_list.append({\n",
        "                'Year': int(year),\n",
        "                'Class': int(u),\n",
        "                'Pixel_Count': int(c),\n",
        "                'Area_km2': round(c * pixel_area_km2, 3),\n",
        "                'Percent_of_Image': round(100 * (c / total_pixels), 2)\n",
        "            })\n",
        "\n",
        "print(f\"✅ Finished processing all land cover rasters.\")"
      ]
    },
    {
      "cell_type": "code",
      "execution_count": 13,
      "metadata": {
        "colab": {
          "base_uri": "https://localhost:8080/",
          "height": 677
        },
        "id": "LfuhW1fXxexB",
        "outputId": "fa3106d4-3089-4a92-d90a-21c18a3bc2ac"
      },
      "outputs": [
        {
          "name": "stdout",
          "output_type": "stream",
          "text": [
            "✅ Saved metadata summary: /content/drive/MyDrive/Environmental/cleaned_data/landcover/landcover_metadata_summary.csv\n",
            "✅ Saved area statistics summary: /content/drive/MyDrive/Environmental/cleaned_data/landcover/landcover_area_stats.csv\n"
          ]
        },
        {
          "data": {
            "image/png": "[encoded data removed]",
            "text/plain": [
              "<Figure size 1400x800 with 1 Axes>"
            ]
          },
          "metadata": {},
          "output_type": "display_data"
        }
      ],
      "source": [
        "# --- Save Metadata Summary ---\n",
        "df_metadata = pd.DataFrame(metadata_list)\n",
        "metadata_csv = os.path.join(CLEANED_DIR, \"landcover_metadata_summary.csv\")\n",
        "df_metadata.to_csv(metadata_csv, index=False)\n",
        "print(f\"✅ Saved metadata summary: {metadata_csv}\")\n",
        "\n",
        "# --- Save Area Statistics Summary ---\n",
        "df_area_stats = pd.DataFrame(area_stats_list)\n",
        "area_stats_csv = os.path.join(CLEANED_DIR, \"landcover_area_stats.csv\")\n",
        "df_area_stats.to_csv(area_stats_csv, index=False)\n",
        "print(f\"✅ Saved area statistics summary: {area_stats_csv}\")\n",
        "\n",
        "# --- Quick Visual Preview: Area per Class per Year ---\n",
        "\n",
        "pivot_area = df_area_stats.pivot(index='Year', columns='Class', values='Area_km2')\n",
        "\n",
        "pivot_area.plot(kind='area', stacked=True, figsize=(14, 8), colormap='tab20')\n",
        "plt.title('Land Cover Area Change Over Years (2017–2024)', fontsize=18)\n",
        "plt.xlabel('Year', fontsize=14)\n",
        "plt.ylabel('Area (km²)', fontsize=14)\n",
        "plt.grid(True)\n",
        "plt.legend(title='Land Cover Class', bbox_to_anchor=(1.05, 1), loc='upper left')\n",
        "plt.tight_layout()\n",
        "plt.show()"
      ]
    },
    {
      "cell_type": "code",
      "execution_count": 4,
      "metadata": {
        "id": "-X5JQBrO36k3"
      },
      "outputs": [],
      "source": [
        "!pip install rasterio matplotlib --quiet"
      ]
    },
    {
      "cell_type": "code",
      "execution_count": 6,
      "metadata": {
        "colab": {
          "base_uri": "https://localhost:8080/"
        },
        "id": "XN0Y3wC01UKL",
        "outputId": "739e59ae-a1f3-4553-c5e8-ed6d1d773625"
      },
      "outputs": [
        {
          "name": "stdout",
          "output_type": "stream",
          "text": [
            "Drive already mounted at /content/drive; to attempt to forcibly remount, call drive.mount(\"/content/drive\", force_remount=True).\n",
            "✅ Found 8 land cover raster files.\n",
            "✅ Saved preview image for 2017: /content/drive/MyDrive/Environmental/landcover_images_previews/landcover_2017.png\n",
            "✅ Saved preview image for 2018: /content/drive/MyDrive/Environmental/landcover_images_previews/landcover_2018.png\n",
            "✅ Saved preview image for 2019: /content/drive/MyDrive/Environmental/landcover_images_previews/landcover_2019.png\n",
            "✅ Saved preview image for 2020: /content/drive/MyDrive/Environmental/landcover_images_previews/landcover_2020.png\n",
            "✅ Saved preview image for 2021: /content/drive/MyDrive/Environmental/landcover_images_previews/landcover_2021.png\n",
            "✅ Saved preview image for 2022: /content/drive/MyDrive/Environmental/landcover_images_previews/landcover_2022.png\n",
            "✅ Saved preview image for 2023: /content/drive/MyDrive/Environmental/landcover_images_previews/landcover_2023.png\n",
            "✅ Saved preview image for 2024: /content/drive/MyDrive/Environmental/landcover_images_previews/landcover_2024.png\n"
          ]
        }
      ],
      "source": [
        "# --- Mount Google Drive ---\n",
        "from google.colab import drive\n",
        "drive.mount('/content/drive')\n",
        "\n",
        "\n",
        "\n",
        "# --- Import Packages ---\n",
        "import os\n",
        "import rasterio\n",
        "import numpy as np\n",
        "import matplotlib.pyplot as plt\n",
        "import gc  # Garbage collector\n",
        "\n",
        "# --- Set Base Directory ---\n",
        "BASE_DIR = \"/content/drive/MyDrive/Environmental/\"\n",
        "LANDCOVER_DIR = os.path.join(BASE_DIR, \"landcover_images/\")\n",
        "PREVIEW_DIR = os.path.join(BASE_DIR, \"landcover_images_previews/\")\n",
        "\n",
        "# Create preview folder if not exist\n",
        "os.makedirs(PREVIEW_DIR, exist_ok=True)\n",
        "\n",
        "# --- List all .tif files ---\n",
        "landcover_files = sorted([os.path.join(LANDCOVER_DIR, f) for f in os.listdir(LANDCOVER_DIR) if f.endswith('.tif')])\n",
        "print(f\"✅ Found {len(landcover_files)} land cover raster files.\")\n",
        "\n",
        "# --- Read and Save Each Raster (RAM-Friendly) ---\n",
        "for lc_file in landcover_files:\n",
        "    year = os.path.basename(lc_file).split('_')[1][:4]\n",
        "\n",
        "    with rasterio.open(lc_file) as src:\n",
        "        # Read only every 5th pixel to downscale and save memory\n",
        "        raster = src.read(\n",
        "            1,\n",
        "            out_shape=(\n",
        "                int(src.height // 5),\n",
        "                int(src.width // 5)\n",
        "            ),\n",
        "            resampling=rasterio.enums.Resampling.nearest\n",
        "        )\n",
        "\n",
        "    # Normalize raster for visualization\n",
        "    raster_preview = np.clip(raster, 0, np.max(raster))\n",
        "\n",
        "    # Save PNG\n",
        "    plt.figure(figsize=(6, 5))\n",
        "    plt.imshow(raster_preview, cmap='tab20')\n",
        "    plt.title(f\"Land Cover {year}\", fontsize=14)\n",
        "    plt.axis('off')\n",
        "\n",
        "    preview_path = os.path.join(PREVIEW_DIR, f\"landcover_{year}.png\")\n",
        "    plt.savefig(preview_path, bbox_inches='tight', pad_inches=0.1, dpi=100)\n",
        "    plt.close('all')  # Force close plot to free memory\n",
        "    gc.collect()      # Explicitly clean garbage\n",
        "\n",
        "    print(f\"✅ Saved preview image for {year}: {preview_path}\")\n"
      ]
    },
    {
      "cell_type": "code",
      "execution_count": 7,
      "metadata": {
        "id": "6BVyptW01oGH"
      },
      "outputs": [],
      "source": [
        "!pip install pillow --quiet"
      ]
    },
    {
      "cell_type": "code",
      "execution_count": 8,
      "metadata": {
        "colab": {
          "base_uri": "https://localhost:8080/"
        },
        "id": "wQwqWlzQ6-g7",
        "outputId": "500204d6-c51c-41dc-f7d1-8993c1303027"
      },
      "outputs": [
        {
          "name": "stdout",
          "output_type": "stream",
          "text": [
            "✅ Found 8 PNG preview images.\n",
            "✅ Land Cover GIF created successfully at: /content/drive/MyDrive/Environmental/landcover_images_previews/landcover_change_animation.gif\n"
          ]
        }
      ],
      "source": [
        "\n",
        "\n",
        "# --- Import Required Libraries ---\n",
        "import os\n",
        "from PIL import Image\n",
        "\n",
        "# --- Define Paths ---\n",
        "BASE_DIR = \"/content/drive/MyDrive/Environmental/\"\n",
        "PREVIEW_DIR = os.path.join(BASE_DIR, \"landcover_images_previews/\")\n",
        "GIF_OUTPUT_PATH = os.path.join(PREVIEW_DIR, \"landcover_change_animation.gif\")\n",
        "\n",
        "# --- List All PNG Preview Files ---\n",
        "png_files = sorted([os.path.join(PREVIEW_DIR, f) for f in os.listdir(PREVIEW_DIR) if f.endswith('.png')])\n",
        "\n",
        "print(f\"✅ Found {len(png_files)} PNG preview images.\")\n",
        "\n",
        "# --- Load Images into a List ---\n",
        "frames = [Image.open(png) for png in png_files]\n",
        "\n",
        "# --- Create and Save GIF ---\n",
        "frames[0].save(\n",
        "    GIF_OUTPUT_PATH,\n",
        "    format='GIF',\n",
        "    append_images=frames[1:],\n",
        "    save_all=True,\n",
        "    duration=800,  # Duration per frame in ms (800ms = 0.8s)\n",
        "    loop=0\n",
        ")\n",
        "\n",
        "print(f\"✅ Land Cover GIF created successfully at: {GIF_OUTPUT_PATH}\")\n"
      ]
    },
    {
      "cell_type": "markdown",
      "metadata": {
        "id": "KZ3qrGAE9fM6"
      },
      "source": [
        "# forest cover"
      ]
    },
    {
      "cell_type": "code",
      "execution_count": 15,
      "metadata": {
        "colab": {
          "base_uri": "https://localhost:8080/"
        },
        "id": "sB2X24zX7Cf8",
        "outputId": "2875f4d1-b044-4fbd-abcc-f1952b41dbfc"
      },
      "outputs": [
        {
          "name": "stdout",
          "output_type": "stream",
          "text": [
            "Drive already mounted at /content/drive; to attempt to forcibly remount, call drive.mount(\"/content/drive\", force_remount=True).\n",
            " Datasets Loaded Successfully!\n",
            "\n",
            " Tropical Tree Cover Preview:\n",
            "    tile_id                              half_hectare_download  \\\n",
            "0  00N_000E  https://data-api.globalforestwatch.org/dataset...   \n",
            "1  00N_010E  https://data-api.globalforestwatch.org/dataset...   \n",
            "2  00N_020E  https://data-api.globalforestwatch.org/dataset...   \n",
            "3  00N_030E  https://data-api.globalforestwatch.org/dataset...   \n",
            "4  00N_040E  https://data-api.globalforestwatch.org/dataset...   \n",
            "\n",
            "                                       F10m_download  ObjectId   Shape__Area  \\\n",
            "0  https://data-api.globalforestwatch.org/dataset...         1  1.245543e+12   \n",
            "1  https://data-api.globalforestwatch.org/dataset...         2  1.245543e+12   \n",
            "2  https://data-api.globalforestwatch.org/dataset...         3  1.245543e+12   \n",
            "3  https://data-api.globalforestwatch.org/dataset...         4  1.245543e+12   \n",
            "4  https://data-api.globalforestwatch.org/dataset...         5  1.245543e+12   \n",
            "\n",
            "   Shape__Length  \n",
            "0   4.464170e+06  \n",
            "1   4.464170e+06  \n",
            "2   4.464170e+06  \n",
            "3   4.464170e+06  \n",
            "4   4.464170e+06  \n",
            "\n",
            " Tree Cover Loss Preview:\n",
            "   iso  umd_tree_cover_loss__year  umd_tree_cover_loss__ha  \\\n",
            "0  NPL                       2001              1523.194752   \n",
            "1  NPL                       2002              2128.643310   \n",
            "2  NPL                       2003              2291.937476   \n",
            "3  NPL                       2004              2479.589152   \n",
            "4  NPL                       2005              2758.319494   \n",
            "\n",
            "   gfw_gross_emissions_co2e_all_gases__Mg  \n",
            "0                            8.544311e+05  \n",
            "1                            1.183635e+06  \n",
            "2                            1.261784e+06  \n",
            "3                            1.274451e+06  \n",
            "4                            1.524800e+06  \n",
            "\n",
            " Land Cover Stats Preview:\n",
            "   Year  Class  Pixel_Count    Area_km2  Percent_of_Image\n",
            "0  2017      0    205895284   20589.528              3.79\n",
            "1  2017      1    172374637   17237.464              3.17\n",
            "2  2017      2    699433443   69943.344             12.87\n",
            "3  2017      4      7744256     774.426              0.14\n",
            "4  2017      5   1296059557  129605.956             23.85\n"
          ]
        }
      ],
      "source": [
        "import pandas as pd\n",
        "import os\n",
        "\n",
        "# --- Mount Google Drive ---\n",
        "from google.colab import drive\n",
        "drive.mount('/content/drive')\n",
        "\n",
        "# --- Import Required Packages ---\n",
        "import pandas as pd\n",
        "import os\n",
        "\n",
        "# --- Define Paths ---\n",
        "BASE_DIR = \"/content/drive/MyDrive/Environmental/\"\n",
        "FOREST_DIR = os.path.join(BASE_DIR, \"forest_cover/\")\n",
        "LANDCOVER_CLEANED_DIR = os.path.join(BASE_DIR, \"cleaned_data/landcover/\")\n",
        "\n",
        "os.makedirs(FOREST_DIR, exist_ok=True)\n",
        "\n",
        "# --- Load All Datasets ---\n",
        "tropical_csv_path = os.path.join(FOREST_DIR, \"Tropical_Tree_Cover.csv\")\n",
        "loss_csv_path = os.path.join(FOREST_DIR, \"treecover_loss__ha.csv\")\n",
        "landcover_csv_path = os.path.join(LANDCOVER_CLEANED_DIR, \"landcover_area_stats.csv\")\n",
        "\n",
        "df_tropical = pd.read_csv(tropical_csv_path)\n",
        "df_loss = pd.read_csv(loss_csv_path)\n",
        "df_landcover = pd.read_csv(landcover_csv_path)\n",
        "\n",
        "print(\" Datasets Loaded Successfully!\")\n",
        "print(\"\\n Tropical Tree Cover Preview:\")\n",
        "print(df_tropical.head())\n",
        "\n",
        "print(\"\\n Tree Cover Loss Preview:\")\n",
        "print(df_loss.head())\n",
        "\n",
        "print(\"\\n Land Cover Stats Preview:\")\n",
        "print(df_landcover.head())"
      ]
    },
    {
      "cell_type": "code",
      "execution_count": 16,
      "metadata": {
        "colab": {
          "base_uri": "https://localhost:8080/"
        },
        "id": "BD8H7qIB_t-i",
        "outputId": "4584c0e7-f4b0-4642-8867-b6414aa16d93"
      },
      "outputs": [
        {
          "name": "stdout",
          "output_type": "stream",
          "text": [
            "\n",
            " Tropical Columns: ['tile_id', 'half_hectare_download', 'F10m_download', 'ObjectId', 'Shape__Area', 'Shape__Length']\n",
            "\n",
            " Loss Columns: ['iso', 'umd_tree_cover_loss__year', 'umd_tree_cover_loss__ha', 'gfw_gross_emissions_co2e_all_gases__Mg']\n",
            "\n",
            " Landcover Columns: ['Year', 'Class', 'Pixel_Count', 'Area_km2', 'Percent_of_Image']\n"
          ]
        }
      ],
      "source": [
        "print(\"\\n Tropical Columns:\", df_tropical.columns.tolist())\n",
        "print(\"\\n Loss Columns:\", df_loss.columns.tolist())\n",
        "print(\"\\n Landcover Columns:\", df_landcover.columns.tolist())\n"
      ]
    },
    {
      "cell_type": "markdown",
      "metadata": {
        "id": "RdaKgtooD8ZM"
      },
      "source": []
    },
    {
      "cell_type": "code",
      "execution_count": 20,
      "metadata": {
        "colab": {
          "base_uri": "https://localhost:8080/"
        },
        "id": "j1jaYwRCDWyu",
        "outputId": "73e701b5-2613-4c38-9f6a-434eaf915428"
      },
      "outputs": [
        {
          "name": "stdout",
          "output_type": "stream",
          "text": [
            "Drive already mounted at /content/drive; to attempt to forcibly remount, call drive.mount(\"/content/drive\", force_remount=True).\n",
            " Loaded datasets!\n",
            "\n",
            " Cleaned Forest Loss Data:\n",
            "   Year  Forest_Loss_ha\n",
            "0  2001     1523.194752\n",
            "1  2002     2128.643310\n",
            "2  2003     2291.937476\n",
            "3  2004     2479.589152\n",
            "4  2005     2758.319494\n",
            "\n",
            " Cleaned Land Cover Data (only Forest Class):\n",
            "    Year  Forest_Area_LandCover_km2\n",
            "2   2017                  69943.344\n",
            "12  2018                  64183.301\n",
            "22  2019                  60428.195\n",
            "32  2020                  65478.815\n",
            "42  2021                  64436.212\n",
            "\n",
            " Merged Combined Dataset:\n",
            "   Year  Forest_Loss_ha  Forest_Area_LandCover_km2\n",
            "0  2017     2394.083932                  69943.344\n",
            "1  2018     1672.116611                  64183.301\n",
            "2  2019     2087.028996                  60428.195\n",
            "3  2020     2232.811564                  65478.815\n",
            "4  2021     2752.510133                  64436.212\n",
            "\n",
            " Final Combined Dataset saved at: /content/drive/MyDrive/Environmental/cleaned_data/combined/land_forest_combined_features.csv\n"
          ]
        }
      ],
      "source": [
        "# --- Mount Google Drive ---\n",
        "from google.colab import drive\n",
        "drive.mount('/content/drive')\n",
        "\n",
        "# --- Import Packages ---\n",
        "import pandas as pd\n",
        "import os\n",
        "\n",
        "# --- Define Paths ---\n",
        "BASE_DIR = \"/content/drive/MyDrive/Environmental/\"\n",
        "FOREST_DIR = os.path.join(BASE_DIR, \"forest_cover/\")\n",
        "LANDCOVER_CLEANED_DIR = os.path.join(BASE_DIR, \"cleaned_data/landcover/\")\n",
        "COMBINED_DIR = os.path.join(BASE_DIR, \"cleaned_data/combined/\")\n",
        "os.makedirs(COMBINED_DIR, exist_ok=True)\n",
        "\n",
        "# --- Load Datasets ---\n",
        "loss_csv_path = os.path.join(FOREST_DIR, \"treecover_loss__ha.csv\")\n",
        "landcover_csv_path = os.path.join(LANDCOVER_CLEANED_DIR, \"landcover_area_stats.csv\")\n",
        "\n",
        "df_loss = pd.read_csv(loss_csv_path)\n",
        "df_landcover = pd.read_csv(landcover_csv_path)\n",
        "\n",
        "print(\" Loaded datasets!\")\n",
        "\n",
        "# --- Clean Forest Cover Loss Data ---\n",
        "df_forest_loss_cleaned = df_loss[df_loss['iso'] == 'NPL'][['umd_tree_cover_loss__year', 'umd_tree_cover_loss__ha']]\n",
        "df_forest_loss_cleaned = df_forest_loss_cleaned.rename(columns={\n",
        "    'umd_tree_cover_loss__year': 'Year',\n",
        "    'umd_tree_cover_loss__ha': 'Forest_Loss_ha'\n",
        "})\n",
        "\n",
        "print(\"\\n Cleaned Forest Loss Data:\")\n",
        "print(df_forest_loss_cleaned.head())\n",
        "\n",
        "# --- Clean Land Cover Data (Class 2 = Forest) ---\n",
        "df_landcover_forest = df_landcover[df_landcover['Class'] == 2][['Year', 'Area_km2']]\n",
        "df_landcover_forest = df_landcover_forest.rename(columns={'Area_km2': 'Forest_Area_LandCover_km2'})\n",
        "\n",
        "print(\"\\n Cleaned Land Cover Data (only Forest Class):\")\n",
        "print(df_landcover_forest.head())\n",
        "\n",
        "# --- Merge on Year ---\n",
        "df_combined = pd.merge(df_forest_loss_cleaned, df_landcover_forest, on='Year', how='inner')\n",
        "\n",
        "print(\"\\n Merged Combined Dataset:\")\n",
        "print(df_combined.head())\n",
        "\n",
        "# --- Save Final Combined Dataset ---\n",
        "combined_output_path = os.path.join(COMBINED_DIR, \"land_forest_combined_features.csv\")\n",
        "df_combined.to_csv(combined_output_path, index=False)\n",
        "\n",
        "print(f\"\\n Final Combined Dataset saved at: {combined_output_path}\")\n"
      ]
    },
    {
      "cell_type": "code",
      "execution_count": null,
      "metadata": {
        "id": "uDVlwbZYEG8w"
      },
      "outputs": [],
      "source": []
    }
  ],
  "metadata": {
    "accelerator": "TPU",
    "colab": {
      "gpuType": "V28",
      "provenance": []
    },
    "kernelspec": {
      "display_name": "Python 3",
      "name": "python3"
    },
    "language_info": {
      "name": "python",
      "version": "3.10.13"
    }
  },
  "nbformat": 4,
  "nbformat_minor": 0
}
